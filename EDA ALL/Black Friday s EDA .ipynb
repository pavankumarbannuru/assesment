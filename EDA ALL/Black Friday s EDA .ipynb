{
 "cells": [
  {
   "cell_type": "markdown",
   "id": "afade0be",
   "metadata": {},
   "source": [
    "# Problem Statement\n",
    "A retail company “ABC Private Limited” wants to understand the customer purchase behaviour (specifically, purchase amount) against various products of different categories. They have shared purchase summary of various customers for selected high volume products from last month. The data set also contains customer demographics (age, gender, marital status, city_type, stay_in_current_city), product details (product_id and product category) and Total purchase_amount from last month.\n",
    "\n",
    "Now, they want to build a model to predict the purchase amount of customer against various products which will help them to create personalized offer for customers against different products."
   ]
  },
  {
   "cell_type": "markdown",
   "id": "dfe6d483",
   "metadata": {},
   "source": [
    "\n",
    "* Data\n",
    "* Variable  Definition\n",
    "* User_ID   User ID\n",
    "* Product_ID    Product ID\n",
    "* Gender    Sex of User\n",
    "* Age   Age in bins\n",
    "* Occupation    Occupation (Masked)\n",
    "* City_Category Category of the City (A,B,C)\n",
    "* Stay_In_Current_City_Years    Number of years stay in current city\n",
    "* Marital_Status    Marital Status\n",
    "* Product_Category_1    Product Category (Masked)\n",
    "* Product_Category_2    Product may belongs to other category also (Masked)\n",
    "* Product_Category_3    Product may belongs to other category also (Masked)\n",
    "* Purchase  Purchase Amount (Target Variable)\n"
   ]
  },
  {
   "cell_type": "code",
   "execution_count": 553,
   "id": "0cf7a611",
   "metadata": {},
   "outputs": [],
   "source": [
    "## Importing the library\n",
    "import pandas as pd \n",
    "import numpy as np \n",
    "import seaborn as sns\n",
    "import matplotlib.pyplot as plt"
   ]
  },
  {
   "cell_type": "code",
   "execution_count": 434,
   "id": "e4c9d31d",
   "metadata": {},
   "outputs": [],
   "source": [
    "## loading the dataset into pandas \n",
    "df=pd.read_csv(\"https://raw.githubusercontent.com/nanthasnk/Black-Friday-Sales-Prediction/master/Data/BlackFridaySales.csv\")"
   ]
  },
  {
   "cell_type": "code",
   "execution_count": 435,
   "id": "bc3faa14",
   "metadata": {},
   "outputs": [
    {
     "data": {
      "text/html": [
       "<div>\n",
       "<style scoped>\n",
       "    .dataframe tbody tr th:only-of-type {\n",
       "        vertical-align: middle;\n",
       "    }\n",
       "\n",
       "    .dataframe tbody tr th {\n",
       "        vertical-align: top;\n",
       "    }\n",
       "\n",
       "    .dataframe thead th {\n",
       "        text-align: right;\n",
       "    }\n",
       "</style>\n",
       "<table border=\"1\" class=\"dataframe\">\n",
       "  <thead>\n",
       "    <tr style=\"text-align: right;\">\n",
       "      <th></th>\n",
       "      <th>User_ID</th>\n",
       "      <th>Product_ID</th>\n",
       "      <th>Gender</th>\n",
       "      <th>Age</th>\n",
       "      <th>Occupation</th>\n",
       "      <th>City_Category</th>\n",
       "      <th>Stay_In_Current_City_Years</th>\n",
       "      <th>Marital_Status</th>\n",
       "      <th>Product_Category_1</th>\n",
       "      <th>Product_Category_2</th>\n",
       "      <th>Product_Category_3</th>\n",
       "      <th>Purchase</th>\n",
       "    </tr>\n",
       "  </thead>\n",
       "  <tbody>\n",
       "    <tr>\n",
       "      <th>0</th>\n",
       "      <td>1000001</td>\n",
       "      <td>P00069042</td>\n",
       "      <td>F</td>\n",
       "      <td>0-17</td>\n",
       "      <td>10</td>\n",
       "      <td>A</td>\n",
       "      <td>2</td>\n",
       "      <td>0</td>\n",
       "      <td>3</td>\n",
       "      <td>NaN</td>\n",
       "      <td>NaN</td>\n",
       "      <td>8370</td>\n",
       "    </tr>\n",
       "    <tr>\n",
       "      <th>1</th>\n",
       "      <td>1000001</td>\n",
       "      <td>P00248942</td>\n",
       "      <td>F</td>\n",
       "      <td>0-17</td>\n",
       "      <td>10</td>\n",
       "      <td>A</td>\n",
       "      <td>2</td>\n",
       "      <td>0</td>\n",
       "      <td>1</td>\n",
       "      <td>6.0</td>\n",
       "      <td>14.0</td>\n",
       "      <td>15200</td>\n",
       "    </tr>\n",
       "    <tr>\n",
       "      <th>2</th>\n",
       "      <td>1000001</td>\n",
       "      <td>P00087842</td>\n",
       "      <td>F</td>\n",
       "      <td>0-17</td>\n",
       "      <td>10</td>\n",
       "      <td>A</td>\n",
       "      <td>2</td>\n",
       "      <td>0</td>\n",
       "      <td>12</td>\n",
       "      <td>NaN</td>\n",
       "      <td>NaN</td>\n",
       "      <td>1422</td>\n",
       "    </tr>\n",
       "    <tr>\n",
       "      <th>3</th>\n",
       "      <td>1000001</td>\n",
       "      <td>P00085442</td>\n",
       "      <td>F</td>\n",
       "      <td>0-17</td>\n",
       "      <td>10</td>\n",
       "      <td>A</td>\n",
       "      <td>2</td>\n",
       "      <td>0</td>\n",
       "      <td>12</td>\n",
       "      <td>14.0</td>\n",
       "      <td>NaN</td>\n",
       "      <td>1057</td>\n",
       "    </tr>\n",
       "    <tr>\n",
       "      <th>4</th>\n",
       "      <td>1000002</td>\n",
       "      <td>P00285442</td>\n",
       "      <td>M</td>\n",
       "      <td>55+</td>\n",
       "      <td>16</td>\n",
       "      <td>C</td>\n",
       "      <td>4+</td>\n",
       "      <td>0</td>\n",
       "      <td>8</td>\n",
       "      <td>NaN</td>\n",
       "      <td>NaN</td>\n",
       "      <td>7969</td>\n",
       "    </tr>\n",
       "  </tbody>\n",
       "</table>\n",
       "</div>"
      ],
      "text/plain": [
       "   User_ID Product_ID Gender   Age  Occupation City_Category  \\\n",
       "0  1000001  P00069042      F  0-17          10             A   \n",
       "1  1000001  P00248942      F  0-17          10             A   \n",
       "2  1000001  P00087842      F  0-17          10             A   \n",
       "3  1000001  P00085442      F  0-17          10             A   \n",
       "4  1000002  P00285442      M   55+          16             C   \n",
       "\n",
       "  Stay_In_Current_City_Years  Marital_Status  Product_Category_1  \\\n",
       "0                          2               0                   3   \n",
       "1                          2               0                   1   \n",
       "2                          2               0                  12   \n",
       "3                          2               0                  12   \n",
       "4                         4+               0                   8   \n",
       "\n",
       "   Product_Category_2  Product_Category_3  Purchase  \n",
       "0                 NaN                 NaN      8370  \n",
       "1                 6.0                14.0     15200  \n",
       "2                 NaN                 NaN      1422  \n",
       "3                14.0                 NaN      1057  \n",
       "4                 NaN                 NaN      7969  "
      ]
     },
     "execution_count": 435,
     "metadata": {},
     "output_type": "execute_result"
    }
   ],
   "source": [
    "df.head()"
   ]
  },
  {
   "cell_type": "code",
   "execution_count": 436,
   "id": "63352834",
   "metadata": {},
   "outputs": [
    {
     "data": {
      "text/plain": [
       "6600816"
      ]
     },
     "execution_count": 436,
     "metadata": {},
     "output_type": "execute_result"
    }
   ],
   "source": [
    "df.size"
   ]
  },
  {
   "cell_type": "code",
   "execution_count": 437,
   "id": "c79984bf",
   "metadata": {},
   "outputs": [
    {
     "data": {
      "text/plain": [
       "(550068, 12)"
      ]
     },
     "execution_count": 437,
     "metadata": {},
     "output_type": "execute_result"
    }
   ],
   "source": [
    "df.shape"
   ]
  },
  {
   "cell_type": "code",
   "execution_count": 438,
   "id": "1e156333",
   "metadata": {},
   "outputs": [
    {
     "data": {
      "text/plain": [
       "Index                             128\n",
       "User_ID                       4400544\n",
       "Product_ID                    4400544\n",
       "Gender                        4400544\n",
       "Age                           4400544\n",
       "Occupation                    4400544\n",
       "City_Category                 4400544\n",
       "Stay_In_Current_City_Years    4400544\n",
       "Marital_Status                4400544\n",
       "Product_Category_1            4400544\n",
       "Product_Category_2            4400544\n",
       "Product_Category_3            4400544\n",
       "Purchase                      4400544\n",
       "dtype: int64"
      ]
     },
     "execution_count": 438,
     "metadata": {},
     "output_type": "execute_result"
    }
   ],
   "source": [
    "##memory uses by each coulmns\n",
    "df.memory_usage()"
   ]
  },
  {
   "cell_type": "code",
   "execution_count": 439,
   "id": "28261c75",
   "metadata": {},
   "outputs": [],
   "source": [
    "df1=df.head(10000)"
   ]
  },
  {
   "cell_type": "code",
   "execution_count": 440,
   "id": "6e1c1ea5",
   "metadata": {},
   "outputs": [
    {
     "data": {
      "text/plain": [
       "Index                           128\n",
       "User_ID                       80000\n",
       "Product_ID                    80000\n",
       "Gender                        80000\n",
       "Age                           80000\n",
       "Occupation                    80000\n",
       "City_Category                 80000\n",
       "Stay_In_Current_City_Years    80000\n",
       "Marital_Status                80000\n",
       "Product_Category_1            80000\n",
       "Product_Category_2            80000\n",
       "Product_Category_3            80000\n",
       "Purchase                      80000\n",
       "dtype: int64"
      ]
     },
     "execution_count": 440,
     "metadata": {},
     "output_type": "execute_result"
    }
   ],
   "source": [
    "### memory consumption \n",
    "df1.memory_usage()"
   ]
  },
  {
   "cell_type": "code",
   "execution_count": 441,
   "id": "bfaeccb8",
   "metadata": {},
   "outputs": [
    {
     "data": {
      "text/plain": [
       "(10000, 12)"
      ]
     },
     "execution_count": 441,
     "metadata": {},
     "output_type": "execute_result"
    }
   ],
   "source": [
    "df1.shape"
   ]
  },
  {
   "cell_type": "code",
   "execution_count": 442,
   "id": "adaeea4a",
   "metadata": {},
   "outputs": [
    {
     "name": "stdout",
     "output_type": "stream",
     "text": [
      "<class 'pandas.core.frame.DataFrame'>\n",
      "RangeIndex: 10000 entries, 0 to 9999\n",
      "Data columns (total 12 columns):\n",
      " #   Column                      Non-Null Count  Dtype  \n",
      "---  ------                      --------------  -----  \n",
      " 0   User_ID                     10000 non-null  int64  \n",
      " 1   Product_ID                  10000 non-null  object \n",
      " 2   Gender                      10000 non-null  object \n",
      " 3   Age                         10000 non-null  object \n",
      " 4   Occupation                  10000 non-null  int64  \n",
      " 5   City_Category               10000 non-null  object \n",
      " 6   Stay_In_Current_City_Years  10000 non-null  object \n",
      " 7   Marital_Status              10000 non-null  int64  \n",
      " 8   Product_Category_1          10000 non-null  int64  \n",
      " 9   Product_Category_2          6757 non-null   float64\n",
      " 10  Product_Category_3          2997 non-null   float64\n",
      " 11  Purchase                    10000 non-null  int64  \n",
      "dtypes: float64(2), int64(5), object(5)\n",
      "memory usage: 937.6+ KB\n"
     ]
    }
   ],
   "source": [
    "###findig the data types \n",
    "df1.info()"
   ]
  },
  {
   "cell_type": "code",
   "execution_count": 443,
   "id": "c6a027ca",
   "metadata": {},
   "outputs": [
    {
     "data": {
      "text/plain": [
       "User_ID                          0\n",
       "Product_ID                       0\n",
       "Gender                           0\n",
       "Age                              0\n",
       "Occupation                       0\n",
       "City_Category                    0\n",
       "Stay_In_Current_City_Years       0\n",
       "Marital_Status                   0\n",
       "Product_Category_1               0\n",
       "Product_Category_2            3243\n",
       "Product_Category_3            7003\n",
       "Purchase                         0\n",
       "dtype: int64"
      ]
     },
     "execution_count": 443,
     "metadata": {},
     "output_type": "execute_result"
    }
   ],
   "source": [
    "## number of missing value each columns \n",
    "df1.isnull().sum()"
   ]
  },
  {
   "cell_type": "code",
   "execution_count": 444,
   "id": "eddfb163",
   "metadata": {},
   "outputs": [
    {
     "data": {
      "text/plain": [
       "User_ID                       0.000000\n",
       "Product_ID                    0.000000\n",
       "Gender                        0.000000\n",
       "Age                           0.000000\n",
       "Occupation                    0.000000\n",
       "City_Category                 0.000000\n",
       "Stay_In_Current_City_Years    0.000000\n",
       "Marital_Status                0.000000\n",
       "Product_Category_1            0.000000\n",
       "Product_Category_2            0.589563\n",
       "Product_Category_3            1.273115\n",
       "Purchase                      0.000000\n",
       "dtype: float64"
      ]
     },
     "execution_count": 444,
     "metadata": {},
     "output_type": "execute_result"
    }
   ],
   "source": [
    "## percentage of missing values \n",
    "df1.isnull().sum()*100/len(df)"
   ]
  },
  {
   "cell_type": "code",
   "execution_count": 445,
   "id": "c057fff2",
   "metadata": {},
   "outputs": [
    {
     "data": {
      "text/plain": [
       "0"
      ]
     },
     "execution_count": 445,
     "metadata": {},
     "output_type": "execute_result"
    }
   ],
   "source": [
    "###Duplicate row in the df1 dataset \n",
    "df1.duplicated().sum()"
   ]
  },
  {
   "cell_type": "code",
   "execution_count": 446,
   "id": "2941bd60",
   "metadata": {},
   "outputs": [
    {
     "data": {
      "text/html": [
       "<div>\n",
       "<style scoped>\n",
       "    .dataframe tbody tr th:only-of-type {\n",
       "        vertical-align: middle;\n",
       "    }\n",
       "\n",
       "    .dataframe tbody tr th {\n",
       "        vertical-align: top;\n",
       "    }\n",
       "\n",
       "    .dataframe thead th {\n",
       "        text-align: right;\n",
       "    }\n",
       "</style>\n",
       "<table border=\"1\" class=\"dataframe\">\n",
       "  <thead>\n",
       "    <tr style=\"text-align: right;\">\n",
       "      <th></th>\n",
       "      <th>User_ID</th>\n",
       "      <th>Occupation</th>\n",
       "      <th>Marital_Status</th>\n",
       "      <th>Product_Category_1</th>\n",
       "      <th>Product_Category_2</th>\n",
       "      <th>Product_Category_3</th>\n",
       "      <th>Purchase</th>\n",
       "    </tr>\n",
       "  </thead>\n",
       "  <tbody>\n",
       "    <tr>\n",
       "      <th>count</th>\n",
       "      <td>1.000000e+04</td>\n",
       "      <td>10000.000000</td>\n",
       "      <td>10000.000000</td>\n",
       "      <td>10000.000000</td>\n",
       "      <td>6757.000000</td>\n",
       "      <td>2997.000000</td>\n",
       "      <td>10000.000000</td>\n",
       "    </tr>\n",
       "    <tr>\n",
       "      <th>mean</th>\n",
       "      <td>1.000791e+06</td>\n",
       "      <td>8.433700</td>\n",
       "      <td>0.405300</td>\n",
       "      <td>5.292800</td>\n",
       "      <td>9.796359</td>\n",
       "      <td>12.811144</td>\n",
       "      <td>9152.487700</td>\n",
       "    </tr>\n",
       "    <tr>\n",
       "      <th>std</th>\n",
       "      <td>4.402229e+02</td>\n",
       "      <td>6.660333</td>\n",
       "      <td>0.490975</td>\n",
       "      <td>3.660739</td>\n",
       "      <td>5.055550</td>\n",
       "      <td>4.057049</td>\n",
       "      <td>4881.543001</td>\n",
       "    </tr>\n",
       "    <tr>\n",
       "      <th>min</th>\n",
       "      <td>1.000001e+06</td>\n",
       "      <td>0.000000</td>\n",
       "      <td>0.000000</td>\n",
       "      <td>1.000000</td>\n",
       "      <td>2.000000</td>\n",
       "      <td>3.000000</td>\n",
       "      <td>186.000000</td>\n",
       "    </tr>\n",
       "    <tr>\n",
       "      <th>25%</th>\n",
       "      <td>1.000403e+06</td>\n",
       "      <td>3.000000</td>\n",
       "      <td>0.000000</td>\n",
       "      <td>2.000000</td>\n",
       "      <td>5.000000</td>\n",
       "      <td>9.000000</td>\n",
       "      <td>5831.750000</td>\n",
       "    </tr>\n",
       "    <tr>\n",
       "      <th>50%</th>\n",
       "      <td>1.000817e+06</td>\n",
       "      <td>7.000000</td>\n",
       "      <td>0.000000</td>\n",
       "      <td>5.000000</td>\n",
       "      <td>9.000000</td>\n",
       "      <td>14.000000</td>\n",
       "      <td>8021.500000</td>\n",
       "    </tr>\n",
       "    <tr>\n",
       "      <th>75%</th>\n",
       "      <td>1.001172e+06</td>\n",
       "      <td>15.000000</td>\n",
       "      <td>1.000000</td>\n",
       "      <td>8.000000</td>\n",
       "      <td>14.000000</td>\n",
       "      <td>16.000000</td>\n",
       "      <td>11922.250000</td>\n",
       "    </tr>\n",
       "    <tr>\n",
       "      <th>max</th>\n",
       "      <td>1.001530e+06</td>\n",
       "      <td>20.000000</td>\n",
       "      <td>1.000000</td>\n",
       "      <td>18.000000</td>\n",
       "      <td>18.000000</td>\n",
       "      <td>18.000000</td>\n",
       "      <td>23958.000000</td>\n",
       "    </tr>\n",
       "  </tbody>\n",
       "</table>\n",
       "</div>"
      ],
      "text/plain": [
       "            User_ID    Occupation  Marital_Status  Product_Category_1  \\\n",
       "count  1.000000e+04  10000.000000    10000.000000        10000.000000   \n",
       "mean   1.000791e+06      8.433700        0.405300            5.292800   \n",
       "std    4.402229e+02      6.660333        0.490975            3.660739   \n",
       "min    1.000001e+06      0.000000        0.000000            1.000000   \n",
       "25%    1.000403e+06      3.000000        0.000000            2.000000   \n",
       "50%    1.000817e+06      7.000000        0.000000            5.000000   \n",
       "75%    1.001172e+06     15.000000        1.000000            8.000000   \n",
       "max    1.001530e+06     20.000000        1.000000           18.000000   \n",
       "\n",
       "       Product_Category_2  Product_Category_3      Purchase  \n",
       "count         6757.000000         2997.000000  10000.000000  \n",
       "mean             9.796359           12.811144   9152.487700  \n",
       "std              5.055550            4.057049   4881.543001  \n",
       "min              2.000000            3.000000    186.000000  \n",
       "25%              5.000000            9.000000   5831.750000  \n",
       "50%              9.000000           14.000000   8021.500000  \n",
       "75%             14.000000           16.000000  11922.250000  \n",
       "max             18.000000           18.000000  23958.000000  "
      ]
     },
     "execution_count": 446,
     "metadata": {},
     "output_type": "execute_result"
    }
   ],
   "source": [
    "## basic stat of the data\n",
    "df1.describe()"
   ]
  },
  {
   "cell_type": "code",
   "execution_count": 447,
   "id": "17040c19",
   "metadata": {},
   "outputs": [
    {
     "name": "stderr",
     "output_type": "stream",
     "text": [
      "C:\\Users\\prash\\AppData\\Local\\Temp\\ipykernel_14052\\3266410032.py:1: SettingWithCopyWarning: \n",
      "A value is trying to be set on a copy of a slice from a DataFrame\n",
      "\n",
      "See the caveats in the documentation: https://pandas.pydata.org/pandas-docs/stable/user_guide/indexing.html#returning-a-view-versus-a-copy\n",
      "  df1.rename(columns={\"Product_Category_1\":\"CATG1\",\"Product_Category_2\":\"CATG2\",\"Product_Category_3\":\"CATG3\"}, inplace=True)\n"
     ]
    },
    {
     "data": {
      "text/html": [
       "<div>\n",
       "<style scoped>\n",
       "    .dataframe tbody tr th:only-of-type {\n",
       "        vertical-align: middle;\n",
       "    }\n",
       "\n",
       "    .dataframe tbody tr th {\n",
       "        vertical-align: top;\n",
       "    }\n",
       "\n",
       "    .dataframe thead th {\n",
       "        text-align: right;\n",
       "    }\n",
       "</style>\n",
       "<table border=\"1\" class=\"dataframe\">\n",
       "  <thead>\n",
       "    <tr style=\"text-align: right;\">\n",
       "      <th></th>\n",
       "      <th>User_ID</th>\n",
       "      <th>Product_ID</th>\n",
       "      <th>Gender</th>\n",
       "      <th>Age</th>\n",
       "      <th>Occupation</th>\n",
       "      <th>City_Category</th>\n",
       "      <th>Stay_In_Current_City_Years</th>\n",
       "      <th>Marital_Status</th>\n",
       "      <th>CATG1</th>\n",
       "      <th>CATG2</th>\n",
       "      <th>CATG3</th>\n",
       "      <th>Purchase</th>\n",
       "    </tr>\n",
       "  </thead>\n",
       "  <tbody>\n",
       "    <tr>\n",
       "      <th>0</th>\n",
       "      <td>1000001</td>\n",
       "      <td>P00069042</td>\n",
       "      <td>F</td>\n",
       "      <td>0-17</td>\n",
       "      <td>10</td>\n",
       "      <td>A</td>\n",
       "      <td>2</td>\n",
       "      <td>0</td>\n",
       "      <td>3</td>\n",
       "      <td>NaN</td>\n",
       "      <td>NaN</td>\n",
       "      <td>8370</td>\n",
       "    </tr>\n",
       "    <tr>\n",
       "      <th>1</th>\n",
       "      <td>1000001</td>\n",
       "      <td>P00248942</td>\n",
       "      <td>F</td>\n",
       "      <td>0-17</td>\n",
       "      <td>10</td>\n",
       "      <td>A</td>\n",
       "      <td>2</td>\n",
       "      <td>0</td>\n",
       "      <td>1</td>\n",
       "      <td>6.0</td>\n",
       "      <td>14.0</td>\n",
       "      <td>15200</td>\n",
       "    </tr>\n",
       "    <tr>\n",
       "      <th>2</th>\n",
       "      <td>1000001</td>\n",
       "      <td>P00087842</td>\n",
       "      <td>F</td>\n",
       "      <td>0-17</td>\n",
       "      <td>10</td>\n",
       "      <td>A</td>\n",
       "      <td>2</td>\n",
       "      <td>0</td>\n",
       "      <td>12</td>\n",
       "      <td>NaN</td>\n",
       "      <td>NaN</td>\n",
       "      <td>1422</td>\n",
       "    </tr>\n",
       "    <tr>\n",
       "      <th>3</th>\n",
       "      <td>1000001</td>\n",
       "      <td>P00085442</td>\n",
       "      <td>F</td>\n",
       "      <td>0-17</td>\n",
       "      <td>10</td>\n",
       "      <td>A</td>\n",
       "      <td>2</td>\n",
       "      <td>0</td>\n",
       "      <td>12</td>\n",
       "      <td>14.0</td>\n",
       "      <td>NaN</td>\n",
       "      <td>1057</td>\n",
       "    </tr>\n",
       "    <tr>\n",
       "      <th>4</th>\n",
       "      <td>1000002</td>\n",
       "      <td>P00285442</td>\n",
       "      <td>M</td>\n",
       "      <td>55+</td>\n",
       "      <td>16</td>\n",
       "      <td>C</td>\n",
       "      <td>4+</td>\n",
       "      <td>0</td>\n",
       "      <td>8</td>\n",
       "      <td>NaN</td>\n",
       "      <td>NaN</td>\n",
       "      <td>7969</td>\n",
       "    </tr>\n",
       "    <tr>\n",
       "      <th>...</th>\n",
       "      <td>...</td>\n",
       "      <td>...</td>\n",
       "      <td>...</td>\n",
       "      <td>...</td>\n",
       "      <td>...</td>\n",
       "      <td>...</td>\n",
       "      <td>...</td>\n",
       "      <td>...</td>\n",
       "      <td>...</td>\n",
       "      <td>...</td>\n",
       "      <td>...</td>\n",
       "      <td>...</td>\n",
       "    </tr>\n",
       "    <tr>\n",
       "      <th>9995</th>\n",
       "      <td>1001530</td>\n",
       "      <td>P00151742</td>\n",
       "      <td>M</td>\n",
       "      <td>26-35</td>\n",
       "      <td>4</td>\n",
       "      <td>A</td>\n",
       "      <td>1</td>\n",
       "      <td>1</td>\n",
       "      <td>8</td>\n",
       "      <td>15.0</td>\n",
       "      <td>16.0</td>\n",
       "      <td>7967</td>\n",
       "    </tr>\n",
       "    <tr>\n",
       "      <th>9996</th>\n",
       "      <td>1001530</td>\n",
       "      <td>P00119742</td>\n",
       "      <td>M</td>\n",
       "      <td>26-35</td>\n",
       "      <td>4</td>\n",
       "      <td>A</td>\n",
       "      <td>1</td>\n",
       "      <td>1</td>\n",
       "      <td>5</td>\n",
       "      <td>8.0</td>\n",
       "      <td>12.0</td>\n",
       "      <td>8590</td>\n",
       "    </tr>\n",
       "    <tr>\n",
       "      <th>9997</th>\n",
       "      <td>1001530</td>\n",
       "      <td>P00178842</td>\n",
       "      <td>M</td>\n",
       "      <td>26-35</td>\n",
       "      <td>4</td>\n",
       "      <td>A</td>\n",
       "      <td>1</td>\n",
       "      <td>1</td>\n",
       "      <td>2</td>\n",
       "      <td>4.0</td>\n",
       "      <td>9.0</td>\n",
       "      <td>13147</td>\n",
       "    </tr>\n",
       "    <tr>\n",
       "      <th>9998</th>\n",
       "      <td>1001530</td>\n",
       "      <td>P00124842</td>\n",
       "      <td>M</td>\n",
       "      <td>26-35</td>\n",
       "      <td>4</td>\n",
       "      <td>A</td>\n",
       "      <td>1</td>\n",
       "      <td>1</td>\n",
       "      <td>11</td>\n",
       "      <td>NaN</td>\n",
       "      <td>NaN</td>\n",
       "      <td>5975</td>\n",
       "    </tr>\n",
       "    <tr>\n",
       "      <th>9999</th>\n",
       "      <td>1001530</td>\n",
       "      <td>P00343042</td>\n",
       "      <td>M</td>\n",
       "      <td>26-35</td>\n",
       "      <td>4</td>\n",
       "      <td>A</td>\n",
       "      <td>1</td>\n",
       "      <td>1</td>\n",
       "      <td>5</td>\n",
       "      <td>18.0</td>\n",
       "      <td>NaN</td>\n",
       "      <td>8653</td>\n",
       "    </tr>\n",
       "  </tbody>\n",
       "</table>\n",
       "<p>10000 rows × 12 columns</p>\n",
       "</div>"
      ],
      "text/plain": [
       "      User_ID Product_ID Gender    Age  Occupation City_Category  \\\n",
       "0     1000001  P00069042      F   0-17          10             A   \n",
       "1     1000001  P00248942      F   0-17          10             A   \n",
       "2     1000001  P00087842      F   0-17          10             A   \n",
       "3     1000001  P00085442      F   0-17          10             A   \n",
       "4     1000002  P00285442      M    55+          16             C   \n",
       "...       ...        ...    ...    ...         ...           ...   \n",
       "9995  1001530  P00151742      M  26-35           4             A   \n",
       "9996  1001530  P00119742      M  26-35           4             A   \n",
       "9997  1001530  P00178842      M  26-35           4             A   \n",
       "9998  1001530  P00124842      M  26-35           4             A   \n",
       "9999  1001530  P00343042      M  26-35           4             A   \n",
       "\n",
       "     Stay_In_Current_City_Years  Marital_Status  CATG1  CATG2  CATG3  Purchase  \n",
       "0                             2               0      3    NaN    NaN      8370  \n",
       "1                             2               0      1    6.0   14.0     15200  \n",
       "2                             2               0     12    NaN    NaN      1422  \n",
       "3                             2               0     12   14.0    NaN      1057  \n",
       "4                            4+               0      8    NaN    NaN      7969  \n",
       "...                         ...             ...    ...    ...    ...       ...  \n",
       "9995                          1               1      8   15.0   16.0      7967  \n",
       "9996                          1               1      5    8.0   12.0      8590  \n",
       "9997                          1               1      2    4.0    9.0     13147  \n",
       "9998                          1               1     11    NaN    NaN      5975  \n",
       "9999                          1               1      5   18.0    NaN      8653  \n",
       "\n",
       "[10000 rows x 12 columns]"
      ]
     },
     "execution_count": 447,
     "metadata": {},
     "output_type": "execute_result"
    }
   ],
   "source": [
    "## renaming the Product name \n",
    "df1.rename(columns={\"Product_Category_1\":\"CATG1\",\"Product_Category_2\":\"CATG2\",\"Product_Category_3\":\"CATG3\"}, inplace=True)\n",
    "df1"
   ]
  },
  {
   "cell_type": "code",
   "execution_count": 448,
   "id": "ba3b92e6",
   "metadata": {},
   "outputs": [
    {
     "data": {
      "text/html": [
       "<div>\n",
       "<style scoped>\n",
       "    .dataframe tbody tr th:only-of-type {\n",
       "        vertical-align: middle;\n",
       "    }\n",
       "\n",
       "    .dataframe tbody tr th {\n",
       "        vertical-align: top;\n",
       "    }\n",
       "\n",
       "    .dataframe thead th {\n",
       "        text-align: right;\n",
       "    }\n",
       "</style>\n",
       "<table border=\"1\" class=\"dataframe\">\n",
       "  <thead>\n",
       "    <tr style=\"text-align: right;\">\n",
       "      <th></th>\n",
       "      <th>Product_ID</th>\n",
       "      <th>Gender</th>\n",
       "      <th>Age</th>\n",
       "      <th>City_Category</th>\n",
       "      <th>Stay_In_Current_City_Years</th>\n",
       "    </tr>\n",
       "  </thead>\n",
       "  <tbody>\n",
       "    <tr>\n",
       "      <th>0</th>\n",
       "      <td>P00069042</td>\n",
       "      <td>F</td>\n",
       "      <td>0-17</td>\n",
       "      <td>A</td>\n",
       "      <td>2</td>\n",
       "    </tr>\n",
       "    <tr>\n",
       "      <th>1</th>\n",
       "      <td>P00248942</td>\n",
       "      <td>F</td>\n",
       "      <td>0-17</td>\n",
       "      <td>A</td>\n",
       "      <td>2</td>\n",
       "    </tr>\n",
       "    <tr>\n",
       "      <th>2</th>\n",
       "      <td>P00087842</td>\n",
       "      <td>F</td>\n",
       "      <td>0-17</td>\n",
       "      <td>A</td>\n",
       "      <td>2</td>\n",
       "    </tr>\n",
       "    <tr>\n",
       "      <th>3</th>\n",
       "      <td>P00085442</td>\n",
       "      <td>F</td>\n",
       "      <td>0-17</td>\n",
       "      <td>A</td>\n",
       "      <td>2</td>\n",
       "    </tr>\n",
       "    <tr>\n",
       "      <th>4</th>\n",
       "      <td>P00285442</td>\n",
       "      <td>M</td>\n",
       "      <td>55+</td>\n",
       "      <td>C</td>\n",
       "      <td>4+</td>\n",
       "    </tr>\n",
       "    <tr>\n",
       "      <th>...</th>\n",
       "      <td>...</td>\n",
       "      <td>...</td>\n",
       "      <td>...</td>\n",
       "      <td>...</td>\n",
       "      <td>...</td>\n",
       "    </tr>\n",
       "    <tr>\n",
       "      <th>9995</th>\n",
       "      <td>P00151742</td>\n",
       "      <td>M</td>\n",
       "      <td>26-35</td>\n",
       "      <td>A</td>\n",
       "      <td>1</td>\n",
       "    </tr>\n",
       "    <tr>\n",
       "      <th>9996</th>\n",
       "      <td>P00119742</td>\n",
       "      <td>M</td>\n",
       "      <td>26-35</td>\n",
       "      <td>A</td>\n",
       "      <td>1</td>\n",
       "    </tr>\n",
       "    <tr>\n",
       "      <th>9997</th>\n",
       "      <td>P00178842</td>\n",
       "      <td>M</td>\n",
       "      <td>26-35</td>\n",
       "      <td>A</td>\n",
       "      <td>1</td>\n",
       "    </tr>\n",
       "    <tr>\n",
       "      <th>9998</th>\n",
       "      <td>P00124842</td>\n",
       "      <td>M</td>\n",
       "      <td>26-35</td>\n",
       "      <td>A</td>\n",
       "      <td>1</td>\n",
       "    </tr>\n",
       "    <tr>\n",
       "      <th>9999</th>\n",
       "      <td>P00343042</td>\n",
       "      <td>M</td>\n",
       "      <td>26-35</td>\n",
       "      <td>A</td>\n",
       "      <td>1</td>\n",
       "    </tr>\n",
       "  </tbody>\n",
       "</table>\n",
       "<p>10000 rows × 5 columns</p>\n",
       "</div>"
      ],
      "text/plain": [
       "     Product_ID Gender    Age City_Category Stay_In_Current_City_Years\n",
       "0     P00069042      F   0-17             A                          2\n",
       "1     P00248942      F   0-17             A                          2\n",
       "2     P00087842      F   0-17             A                          2\n",
       "3     P00085442      F   0-17             A                          2\n",
       "4     P00285442      M    55+             C                         4+\n",
       "...         ...    ...    ...           ...                        ...\n",
       "9995  P00151742      M  26-35             A                          1\n",
       "9996  P00119742      M  26-35             A                          1\n",
       "9997  P00178842      M  26-35             A                          1\n",
       "9998  P00124842      M  26-35             A                          1\n",
       "9999  P00343042      M  26-35             A                          1\n",
       "\n",
       "[10000 rows x 5 columns]"
      ]
     },
     "execution_count": 448,
     "metadata": {},
     "output_type": "execute_result"
    }
   ],
   "source": [
    "###catagorical columns\n",
    "catagorical_values=df1.select_dtypes(include=['object'])\n",
    "catagorical_values"
   ]
  },
  {
   "cell_type": "code",
   "execution_count": 449,
   "id": "e03cc0f6",
   "metadata": {},
   "outputs": [
    {
     "data": {
      "text/html": [
       "<div>\n",
       "<style scoped>\n",
       "    .dataframe tbody tr th:only-of-type {\n",
       "        vertical-align: middle;\n",
       "    }\n",
       "\n",
       "    .dataframe tbody tr th {\n",
       "        vertical-align: top;\n",
       "    }\n",
       "\n",
       "    .dataframe thead th {\n",
       "        text-align: right;\n",
       "    }\n",
       "</style>\n",
       "<table border=\"1\" class=\"dataframe\">\n",
       "  <thead>\n",
       "    <tr style=\"text-align: right;\">\n",
       "      <th></th>\n",
       "      <th>User_ID</th>\n",
       "      <th>Occupation</th>\n",
       "      <th>Marital_Status</th>\n",
       "      <th>CATG1</th>\n",
       "      <th>CATG2</th>\n",
       "      <th>CATG3</th>\n",
       "      <th>Purchase</th>\n",
       "    </tr>\n",
       "  </thead>\n",
       "  <tbody>\n",
       "    <tr>\n",
       "      <th>0</th>\n",
       "      <td>1000001</td>\n",
       "      <td>10</td>\n",
       "      <td>0</td>\n",
       "      <td>3</td>\n",
       "      <td>NaN</td>\n",
       "      <td>NaN</td>\n",
       "      <td>8370</td>\n",
       "    </tr>\n",
       "    <tr>\n",
       "      <th>1</th>\n",
       "      <td>1000001</td>\n",
       "      <td>10</td>\n",
       "      <td>0</td>\n",
       "      <td>1</td>\n",
       "      <td>6.0</td>\n",
       "      <td>14.0</td>\n",
       "      <td>15200</td>\n",
       "    </tr>\n",
       "    <tr>\n",
       "      <th>2</th>\n",
       "      <td>1000001</td>\n",
       "      <td>10</td>\n",
       "      <td>0</td>\n",
       "      <td>12</td>\n",
       "      <td>NaN</td>\n",
       "      <td>NaN</td>\n",
       "      <td>1422</td>\n",
       "    </tr>\n",
       "    <tr>\n",
       "      <th>3</th>\n",
       "      <td>1000001</td>\n",
       "      <td>10</td>\n",
       "      <td>0</td>\n",
       "      <td>12</td>\n",
       "      <td>14.0</td>\n",
       "      <td>NaN</td>\n",
       "      <td>1057</td>\n",
       "    </tr>\n",
       "    <tr>\n",
       "      <th>4</th>\n",
       "      <td>1000002</td>\n",
       "      <td>16</td>\n",
       "      <td>0</td>\n",
       "      <td>8</td>\n",
       "      <td>NaN</td>\n",
       "      <td>NaN</td>\n",
       "      <td>7969</td>\n",
       "    </tr>\n",
       "    <tr>\n",
       "      <th>...</th>\n",
       "      <td>...</td>\n",
       "      <td>...</td>\n",
       "      <td>...</td>\n",
       "      <td>...</td>\n",
       "      <td>...</td>\n",
       "      <td>...</td>\n",
       "      <td>...</td>\n",
       "    </tr>\n",
       "    <tr>\n",
       "      <th>9995</th>\n",
       "      <td>1001530</td>\n",
       "      <td>4</td>\n",
       "      <td>1</td>\n",
       "      <td>8</td>\n",
       "      <td>15.0</td>\n",
       "      <td>16.0</td>\n",
       "      <td>7967</td>\n",
       "    </tr>\n",
       "    <tr>\n",
       "      <th>9996</th>\n",
       "      <td>1001530</td>\n",
       "      <td>4</td>\n",
       "      <td>1</td>\n",
       "      <td>5</td>\n",
       "      <td>8.0</td>\n",
       "      <td>12.0</td>\n",
       "      <td>8590</td>\n",
       "    </tr>\n",
       "    <tr>\n",
       "      <th>9997</th>\n",
       "      <td>1001530</td>\n",
       "      <td>4</td>\n",
       "      <td>1</td>\n",
       "      <td>2</td>\n",
       "      <td>4.0</td>\n",
       "      <td>9.0</td>\n",
       "      <td>13147</td>\n",
       "    </tr>\n",
       "    <tr>\n",
       "      <th>9998</th>\n",
       "      <td>1001530</td>\n",
       "      <td>4</td>\n",
       "      <td>1</td>\n",
       "      <td>11</td>\n",
       "      <td>NaN</td>\n",
       "      <td>NaN</td>\n",
       "      <td>5975</td>\n",
       "    </tr>\n",
       "    <tr>\n",
       "      <th>9999</th>\n",
       "      <td>1001530</td>\n",
       "      <td>4</td>\n",
       "      <td>1</td>\n",
       "      <td>5</td>\n",
       "      <td>18.0</td>\n",
       "      <td>NaN</td>\n",
       "      <td>8653</td>\n",
       "    </tr>\n",
       "  </tbody>\n",
       "</table>\n",
       "<p>10000 rows × 7 columns</p>\n",
       "</div>"
      ],
      "text/plain": [
       "      User_ID  Occupation  Marital_Status  CATG1  CATG2  CATG3  Purchase\n",
       "0     1000001          10               0      3    NaN    NaN      8370\n",
       "1     1000001          10               0      1    6.0   14.0     15200\n",
       "2     1000001          10               0     12    NaN    NaN      1422\n",
       "3     1000001          10               0     12   14.0    NaN      1057\n",
       "4     1000002          16               0      8    NaN    NaN      7969\n",
       "...       ...         ...             ...    ...    ...    ...       ...\n",
       "9995  1001530           4               1      8   15.0   16.0      7967\n",
       "9996  1001530           4               1      5    8.0   12.0      8590\n",
       "9997  1001530           4               1      2    4.0    9.0     13147\n",
       "9998  1001530           4               1     11    NaN    NaN      5975\n",
       "9999  1001530           4               1      5   18.0    NaN      8653\n",
       "\n",
       "[10000 rows x 7 columns]"
      ]
     },
     "execution_count": 449,
     "metadata": {},
     "output_type": "execute_result"
    }
   ],
   "source": [
    "###Non catagorical columns\n",
    "numerical_variable =df1.select_dtypes(include=['int','float'])\n",
    "numerical_variable"
   ]
  },
  {
   "cell_type": "code",
   "execution_count": 450,
   "id": "2c9a78f2",
   "metadata": {},
   "outputs": [
    {
     "data": {
      "text/plain": [
       "array(['0-17', '55+', '26-35', '46-50', '51-55', '36-45', '18-25'],\n",
       "      dtype=object)"
      ]
     },
     "execution_count": 450,
     "metadata": {},
     "output_type": "execute_result"
    }
   ],
   "source": [
    "## Finding the Unique values in Age \n",
    "df1[\"Age\"].unique()"
   ]
  },
  {
   "cell_type": "code",
   "execution_count": 451,
   "id": "4ea83d5e",
   "metadata": {},
   "outputs": [
    {
     "name": "stderr",
     "output_type": "stream",
     "text": [
      "C:\\Users\\prash\\AppData\\Local\\Temp\\ipykernel_14052\\29233581.py:2: SettingWithCopyWarning: \n",
      "A value is trying to be set on a copy of a slice from a DataFrame.\n",
      "Try using .loc[row_indexer,col_indexer] = value instead\n",
      "\n",
      "See the caveats in the documentation: https://pandas.pydata.org/pandas-docs/stable/user_guide/indexing.html#returning-a-view-versus-a-copy\n",
      "  df1[\"Age\"]=df1[\"Age\"].map({\"0-17\":17,\"18-25\":20,\"26-35\":30,\"36-45\":45,\"46-50\":50,\"51-55\":55,\"55+\":60})\n"
     ]
    }
   ],
   "source": [
    "##converting the Age catagorical variable into numerical by dummies \n",
    "df1[\"Age\"]=df1[\"Age\"].map({\"0-17\":17,\"18-25\":20,\"26-35\":30,\"36-45\":45,\"46-50\":50,\"51-55\":55,\"55+\":60})"
   ]
  },
  {
   "cell_type": "code",
   "execution_count": 452,
   "id": "23b4fcfa",
   "metadata": {},
   "outputs": [
    {
     "name": "stderr",
     "output_type": "stream",
     "text": [
      "C:\\Users\\prash\\AppData\\Local\\Temp\\ipykernel_14052\\1427848451.py:2: SettingWithCopyWarning: \n",
      "A value is trying to be set on a copy of a slice from a DataFrame.\n",
      "Try using .loc[row_indexer,col_indexer] = value instead\n",
      "\n",
      "See the caveats in the documentation: https://pandas.pydata.org/pandas-docs/stable/user_guide/indexing.html#returning-a-view-versus-a-copy\n",
      "  df1[\"Gender\"]=df1[\"Gender\"].map({\"M\":1,\"F\":0})\n"
     ]
    }
   ],
   "source": [
    "##converting the gender catagorical variable into numerical by dummies \n",
    "df1[\"Gender\"]=df1[\"Gender\"].map({\"M\":1,\"F\":0})"
   ]
  },
  {
   "cell_type": "code",
   "execution_count": 453,
   "id": "88f1bc8a",
   "metadata": {},
   "outputs": [
    {
     "data": {
      "text/plain": [
       "array(['A', 'C', 'B'], dtype=object)"
      ]
     },
     "execution_count": 453,
     "metadata": {},
     "output_type": "execute_result"
    }
   ],
   "source": [
    "###checking the unique value of the City_category \n",
    "df1[\"City_Category\"].unique()"
   ]
  },
  {
   "cell_type": "code",
   "execution_count": 454,
   "id": "eb43c7f2",
   "metadata": {},
   "outputs": [
    {
     "name": "stderr",
     "output_type": "stream",
     "text": [
      "C:\\Users\\prash\\AppData\\Local\\Temp\\ipykernel_14052\\4182879475.py:2: SettingWithCopyWarning: \n",
      "A value is trying to be set on a copy of a slice from a DataFrame.\n",
      "Try using .loc[row_indexer,col_indexer] = value instead\n",
      "\n",
      "See the caveats in the documentation: https://pandas.pydata.org/pandas-docs/stable/user_guide/indexing.html#returning-a-view-versus-a-copy\n",
      "  df1[\"City_Category\"]=df1[\"City_Category\"].map({'A':1,'B':2,'C':3})\n"
     ]
    }
   ],
   "source": [
    "### Replacing the categorical values to numerical \n",
    "df1[\"City_Category\"]=df1[\"City_Category\"].map({'A':1,'B':2,'C':3})"
   ]
  },
  {
   "cell_type": "markdown",
   "id": "403c64e9",
   "metadata": {},
   "source": [
    "# rechaking the Catagorical variable "
   ]
  },
  {
   "cell_type": "code",
   "execution_count": 455,
   "id": "f541b1ca",
   "metadata": {},
   "outputs": [
    {
     "data": {
      "text/html": [
       "<div>\n",
       "<style scoped>\n",
       "    .dataframe tbody tr th:only-of-type {\n",
       "        vertical-align: middle;\n",
       "    }\n",
       "\n",
       "    .dataframe tbody tr th {\n",
       "        vertical-align: top;\n",
       "    }\n",
       "\n",
       "    .dataframe thead th {\n",
       "        text-align: right;\n",
       "    }\n",
       "</style>\n",
       "<table border=\"1\" class=\"dataframe\">\n",
       "  <thead>\n",
       "    <tr style=\"text-align: right;\">\n",
       "      <th></th>\n",
       "      <th>Product_ID</th>\n",
       "      <th>Stay_In_Current_City_Years</th>\n",
       "    </tr>\n",
       "  </thead>\n",
       "  <tbody>\n",
       "    <tr>\n",
       "      <th>0</th>\n",
       "      <td>P00069042</td>\n",
       "      <td>2</td>\n",
       "    </tr>\n",
       "    <tr>\n",
       "      <th>1</th>\n",
       "      <td>P00248942</td>\n",
       "      <td>2</td>\n",
       "    </tr>\n",
       "    <tr>\n",
       "      <th>2</th>\n",
       "      <td>P00087842</td>\n",
       "      <td>2</td>\n",
       "    </tr>\n",
       "    <tr>\n",
       "      <th>3</th>\n",
       "      <td>P00085442</td>\n",
       "      <td>2</td>\n",
       "    </tr>\n",
       "    <tr>\n",
       "      <th>4</th>\n",
       "      <td>P00285442</td>\n",
       "      <td>4+</td>\n",
       "    </tr>\n",
       "    <tr>\n",
       "      <th>...</th>\n",
       "      <td>...</td>\n",
       "      <td>...</td>\n",
       "    </tr>\n",
       "    <tr>\n",
       "      <th>9995</th>\n",
       "      <td>P00151742</td>\n",
       "      <td>1</td>\n",
       "    </tr>\n",
       "    <tr>\n",
       "      <th>9996</th>\n",
       "      <td>P00119742</td>\n",
       "      <td>1</td>\n",
       "    </tr>\n",
       "    <tr>\n",
       "      <th>9997</th>\n",
       "      <td>P00178842</td>\n",
       "      <td>1</td>\n",
       "    </tr>\n",
       "    <tr>\n",
       "      <th>9998</th>\n",
       "      <td>P00124842</td>\n",
       "      <td>1</td>\n",
       "    </tr>\n",
       "    <tr>\n",
       "      <th>9999</th>\n",
       "      <td>P00343042</td>\n",
       "      <td>1</td>\n",
       "    </tr>\n",
       "  </tbody>\n",
       "</table>\n",
       "<p>10000 rows × 2 columns</p>\n",
       "</div>"
      ],
      "text/plain": [
       "     Product_ID Stay_In_Current_City_Years\n",
       "0     P00069042                          2\n",
       "1     P00248942                          2\n",
       "2     P00087842                          2\n",
       "3     P00085442                          2\n",
       "4     P00285442                         4+\n",
       "...         ...                        ...\n",
       "9995  P00151742                          1\n",
       "9996  P00119742                          1\n",
       "9997  P00178842                          1\n",
       "9998  P00124842                          1\n",
       "9999  P00343042                          1\n",
       "\n",
       "[10000 rows x 2 columns]"
      ]
     },
     "execution_count": 455,
     "metadata": {},
     "output_type": "execute_result"
    }
   ],
   "source": [
    "###catagorical columns\n",
    "catagorical_values=df1.select_dtypes(include=['object'])\n",
    "catagorical_values"
   ]
  },
  {
   "cell_type": "markdown",
   "id": "22126623",
   "metadata": {},
   "source": [
    "## Droping the unnecessary Columns"
   ]
  },
  {
   "cell_type": "code",
   "execution_count": 456,
   "id": "be09f289",
   "metadata": {},
   "outputs": [
    {
     "name": "stderr",
     "output_type": "stream",
     "text": [
      "C:\\Users\\prash\\AppData\\Local\\Temp\\ipykernel_14052\\3455787369.py:1: SettingWithCopyWarning: \n",
      "A value is trying to be set on a copy of a slice from a DataFrame\n",
      "\n",
      "See the caveats in the documentation: https://pandas.pydata.org/pandas-docs/stable/user_guide/indexing.html#returning-a-view-versus-a-copy\n",
      "  df1.drop(\"Stay_In_Current_City_Years\",axis=1,inplace=True)\n"
     ]
    }
   ],
   "source": [
    "df1.drop(\"Stay_In_Current_City_Years\",axis=1,inplace=True)"
   ]
  },
  {
   "cell_type": "code",
   "execution_count": 457,
   "id": "21e8b4ba",
   "metadata": {},
   "outputs": [
    {
     "name": "stderr",
     "output_type": "stream",
     "text": [
      "C:\\Users\\prash\\AppData\\Local\\Temp\\ipykernel_14052\\1830955441.py:1: SettingWithCopyWarning: \n",
      "A value is trying to be set on a copy of a slice from a DataFrame\n",
      "\n",
      "See the caveats in the documentation: https://pandas.pydata.org/pandas-docs/stable/user_guide/indexing.html#returning-a-view-versus-a-copy\n",
      "  df1.drop(\"User_ID\",axis=1,inplace=True)\n"
     ]
    }
   ],
   "source": [
    "df1.drop(\"User_ID\",axis=1,inplace=True)"
   ]
  },
  {
   "cell_type": "markdown",
   "id": "093f6a28",
   "metadata": {},
   "source": [
    "# Rechecking the df1 data set"
   ]
  },
  {
   "cell_type": "code",
   "execution_count": 458,
   "id": "6b4771be",
   "metadata": {},
   "outputs": [
    {
     "data": {
      "text/html": [
       "<div>\n",
       "<style scoped>\n",
       "    .dataframe tbody tr th:only-of-type {\n",
       "        vertical-align: middle;\n",
       "    }\n",
       "\n",
       "    .dataframe tbody tr th {\n",
       "        vertical-align: top;\n",
       "    }\n",
       "\n",
       "    .dataframe thead th {\n",
       "        text-align: right;\n",
       "    }\n",
       "</style>\n",
       "<table border=\"1\" class=\"dataframe\">\n",
       "  <thead>\n",
       "    <tr style=\"text-align: right;\">\n",
       "      <th></th>\n",
       "      <th>Product_ID</th>\n",
       "      <th>Gender</th>\n",
       "      <th>Age</th>\n",
       "      <th>Occupation</th>\n",
       "      <th>City_Category</th>\n",
       "      <th>Marital_Status</th>\n",
       "      <th>CATG1</th>\n",
       "      <th>CATG2</th>\n",
       "      <th>CATG3</th>\n",
       "      <th>Purchase</th>\n",
       "    </tr>\n",
       "  </thead>\n",
       "  <tbody>\n",
       "    <tr>\n",
       "      <th>0</th>\n",
       "      <td>P00069042</td>\n",
       "      <td>0</td>\n",
       "      <td>17</td>\n",
       "      <td>10</td>\n",
       "      <td>1</td>\n",
       "      <td>0</td>\n",
       "      <td>3</td>\n",
       "      <td>NaN</td>\n",
       "      <td>NaN</td>\n",
       "      <td>8370</td>\n",
       "    </tr>\n",
       "    <tr>\n",
       "      <th>1</th>\n",
       "      <td>P00248942</td>\n",
       "      <td>0</td>\n",
       "      <td>17</td>\n",
       "      <td>10</td>\n",
       "      <td>1</td>\n",
       "      <td>0</td>\n",
       "      <td>1</td>\n",
       "      <td>6.0</td>\n",
       "      <td>14.0</td>\n",
       "      <td>15200</td>\n",
       "    </tr>\n",
       "    <tr>\n",
       "      <th>2</th>\n",
       "      <td>P00087842</td>\n",
       "      <td>0</td>\n",
       "      <td>17</td>\n",
       "      <td>10</td>\n",
       "      <td>1</td>\n",
       "      <td>0</td>\n",
       "      <td>12</td>\n",
       "      <td>NaN</td>\n",
       "      <td>NaN</td>\n",
       "      <td>1422</td>\n",
       "    </tr>\n",
       "    <tr>\n",
       "      <th>3</th>\n",
       "      <td>P00085442</td>\n",
       "      <td>0</td>\n",
       "      <td>17</td>\n",
       "      <td>10</td>\n",
       "      <td>1</td>\n",
       "      <td>0</td>\n",
       "      <td>12</td>\n",
       "      <td>14.0</td>\n",
       "      <td>NaN</td>\n",
       "      <td>1057</td>\n",
       "    </tr>\n",
       "    <tr>\n",
       "      <th>4</th>\n",
       "      <td>P00285442</td>\n",
       "      <td>1</td>\n",
       "      <td>60</td>\n",
       "      <td>16</td>\n",
       "      <td>3</td>\n",
       "      <td>0</td>\n",
       "      <td>8</td>\n",
       "      <td>NaN</td>\n",
       "      <td>NaN</td>\n",
       "      <td>7969</td>\n",
       "    </tr>\n",
       "    <tr>\n",
       "      <th>...</th>\n",
       "      <td>...</td>\n",
       "      <td>...</td>\n",
       "      <td>...</td>\n",
       "      <td>...</td>\n",
       "      <td>...</td>\n",
       "      <td>...</td>\n",
       "      <td>...</td>\n",
       "      <td>...</td>\n",
       "      <td>...</td>\n",
       "      <td>...</td>\n",
       "    </tr>\n",
       "    <tr>\n",
       "      <th>9995</th>\n",
       "      <td>P00151742</td>\n",
       "      <td>1</td>\n",
       "      <td>30</td>\n",
       "      <td>4</td>\n",
       "      <td>1</td>\n",
       "      <td>1</td>\n",
       "      <td>8</td>\n",
       "      <td>15.0</td>\n",
       "      <td>16.0</td>\n",
       "      <td>7967</td>\n",
       "    </tr>\n",
       "    <tr>\n",
       "      <th>9996</th>\n",
       "      <td>P00119742</td>\n",
       "      <td>1</td>\n",
       "      <td>30</td>\n",
       "      <td>4</td>\n",
       "      <td>1</td>\n",
       "      <td>1</td>\n",
       "      <td>5</td>\n",
       "      <td>8.0</td>\n",
       "      <td>12.0</td>\n",
       "      <td>8590</td>\n",
       "    </tr>\n",
       "    <tr>\n",
       "      <th>9997</th>\n",
       "      <td>P00178842</td>\n",
       "      <td>1</td>\n",
       "      <td>30</td>\n",
       "      <td>4</td>\n",
       "      <td>1</td>\n",
       "      <td>1</td>\n",
       "      <td>2</td>\n",
       "      <td>4.0</td>\n",
       "      <td>9.0</td>\n",
       "      <td>13147</td>\n",
       "    </tr>\n",
       "    <tr>\n",
       "      <th>9998</th>\n",
       "      <td>P00124842</td>\n",
       "      <td>1</td>\n",
       "      <td>30</td>\n",
       "      <td>4</td>\n",
       "      <td>1</td>\n",
       "      <td>1</td>\n",
       "      <td>11</td>\n",
       "      <td>NaN</td>\n",
       "      <td>NaN</td>\n",
       "      <td>5975</td>\n",
       "    </tr>\n",
       "    <tr>\n",
       "      <th>9999</th>\n",
       "      <td>P00343042</td>\n",
       "      <td>1</td>\n",
       "      <td>30</td>\n",
       "      <td>4</td>\n",
       "      <td>1</td>\n",
       "      <td>1</td>\n",
       "      <td>5</td>\n",
       "      <td>18.0</td>\n",
       "      <td>NaN</td>\n",
       "      <td>8653</td>\n",
       "    </tr>\n",
       "  </tbody>\n",
       "</table>\n",
       "<p>10000 rows × 10 columns</p>\n",
       "</div>"
      ],
      "text/plain": [
       "     Product_ID  Gender  Age  Occupation  City_Category  Marital_Status  \\\n",
       "0     P00069042       0   17          10              1               0   \n",
       "1     P00248942       0   17          10              1               0   \n",
       "2     P00087842       0   17          10              1               0   \n",
       "3     P00085442       0   17          10              1               0   \n",
       "4     P00285442       1   60          16              3               0   \n",
       "...         ...     ...  ...         ...            ...             ...   \n",
       "9995  P00151742       1   30           4              1               1   \n",
       "9996  P00119742       1   30           4              1               1   \n",
       "9997  P00178842       1   30           4              1               1   \n",
       "9998  P00124842       1   30           4              1               1   \n",
       "9999  P00343042       1   30           4              1               1   \n",
       "\n",
       "      CATG1  CATG2  CATG3  Purchase  \n",
       "0         3    NaN    NaN      8370  \n",
       "1         1    6.0   14.0     15200  \n",
       "2        12    NaN    NaN      1422  \n",
       "3        12   14.0    NaN      1057  \n",
       "4         8    NaN    NaN      7969  \n",
       "...     ...    ...    ...       ...  \n",
       "9995      8   15.0   16.0      7967  \n",
       "9996      5    8.0   12.0      8590  \n",
       "9997      2    4.0    9.0     13147  \n",
       "9998     11    NaN    NaN      5975  \n",
       "9999      5   18.0    NaN      8653  \n",
       "\n",
       "[10000 rows x 10 columns]"
      ]
     },
     "execution_count": 458,
     "metadata": {},
     "output_type": "execute_result"
    }
   ],
   "source": [
    "df1"
   ]
  },
  {
   "cell_type": "code",
   "execution_count": 459,
   "id": "a18d01b8",
   "metadata": {},
   "outputs": [
    {
     "data": {
      "text/plain": [
       "Product_ID         object\n",
       "Gender              int64\n",
       "Age                 int64\n",
       "Occupation          int64\n",
       "City_Category       int64\n",
       "Marital_Status      int64\n",
       "CATG1               int64\n",
       "CATG2             float64\n",
       "CATG3             float64\n",
       "Purchase            int64\n",
       "dtype: object"
      ]
     },
     "execution_count": 459,
     "metadata": {},
     "output_type": "execute_result"
    }
   ],
   "source": [
    "###Rechecking the data types after converting into numerical \n",
    "df1.dtypes"
   ]
  },
  {
   "cell_type": "code",
   "execution_count": 460,
   "id": "ec8147fe",
   "metadata": {},
   "outputs": [
    {
     "data": {
      "text/plain": [
       "3.6607387588881912"
      ]
     },
     "execution_count": 460,
     "metadata": {},
     "output_type": "execute_result"
    }
   ],
   "source": [
    "### standard deviation of the data\n",
    "import math\n",
    "\n",
    "def variance (data,ddof=1):\n",
    "    n=len(df1)\n",
    "    mean=sum(data)/n\n",
    "    variances=sum((x-mean)**2 for x in data)/(n-ddof)\n",
    "    return variances\n",
    "def sd(data):\n",
    "    var=variance(data)\n",
    "    standard_deviation=math.sqrt(var)\n",
    "    return standard_deviation\n",
    "sd(df1[\"CATG1\"])"
   ]
  },
  {
   "cell_type": "code",
   "execution_count": 461,
   "id": "93295526",
   "metadata": {},
   "outputs": [
    {
     "data": {
      "text/html": [
       "<div>\n",
       "<style scoped>\n",
       "    .dataframe tbody tr th:only-of-type {\n",
       "        vertical-align: middle;\n",
       "    }\n",
       "\n",
       "    .dataframe tbody tr th {\n",
       "        vertical-align: top;\n",
       "    }\n",
       "\n",
       "    .dataframe thead th {\n",
       "        text-align: right;\n",
       "    }\n",
       "</style>\n",
       "<table border=\"1\" class=\"dataframe\">\n",
       "  <thead>\n",
       "    <tr style=\"text-align: right;\">\n",
       "      <th></th>\n",
       "      <th>Gender</th>\n",
       "      <th>Age</th>\n",
       "      <th>Occupation</th>\n",
       "      <th>City_Category</th>\n",
       "      <th>Marital_Status</th>\n",
       "      <th>CATG1</th>\n",
       "      <th>CATG2</th>\n",
       "      <th>CATG3</th>\n",
       "      <th>Purchase</th>\n",
       "    </tr>\n",
       "  </thead>\n",
       "  <tbody>\n",
       "    <tr>\n",
       "      <th>count</th>\n",
       "      <td>10000.000000</td>\n",
       "      <td>10000.000000</td>\n",
       "      <td>10000.000000</td>\n",
       "      <td>10000.000000</td>\n",
       "      <td>10000.000000</td>\n",
       "      <td>10000.000000</td>\n",
       "      <td>6757.000000</td>\n",
       "      <td>2997.000000</td>\n",
       "      <td>10000.000000</td>\n",
       "    </tr>\n",
       "    <tr>\n",
       "      <th>mean</th>\n",
       "      <td>0.763600</td>\n",
       "      <td>34.536100</td>\n",
       "      <td>8.433700</td>\n",
       "      <td>1.959700</td>\n",
       "      <td>0.405300</td>\n",
       "      <td>5.292800</td>\n",
       "      <td>9.796359</td>\n",
       "      <td>12.811144</td>\n",
       "      <td>9152.487700</td>\n",
       "    </tr>\n",
       "    <tr>\n",
       "      <th>std</th>\n",
       "      <td>0.424892</td>\n",
       "      <td>12.392936</td>\n",
       "      <td>6.660333</td>\n",
       "      <td>0.792047</td>\n",
       "      <td>0.490975</td>\n",
       "      <td>3.660739</td>\n",
       "      <td>5.055550</td>\n",
       "      <td>4.057049</td>\n",
       "      <td>4881.543001</td>\n",
       "    </tr>\n",
       "    <tr>\n",
       "      <th>min</th>\n",
       "      <td>0.000000</td>\n",
       "      <td>17.000000</td>\n",
       "      <td>0.000000</td>\n",
       "      <td>1.000000</td>\n",
       "      <td>0.000000</td>\n",
       "      <td>1.000000</td>\n",
       "      <td>2.000000</td>\n",
       "      <td>3.000000</td>\n",
       "      <td>186.000000</td>\n",
       "    </tr>\n",
       "    <tr>\n",
       "      <th>25%</th>\n",
       "      <td>1.000000</td>\n",
       "      <td>30.000000</td>\n",
       "      <td>3.000000</td>\n",
       "      <td>1.000000</td>\n",
       "      <td>0.000000</td>\n",
       "      <td>2.000000</td>\n",
       "      <td>5.000000</td>\n",
       "      <td>9.000000</td>\n",
       "      <td>5831.750000</td>\n",
       "    </tr>\n",
       "    <tr>\n",
       "      <th>50%</th>\n",
       "      <td>1.000000</td>\n",
       "      <td>30.000000</td>\n",
       "      <td>7.000000</td>\n",
       "      <td>2.000000</td>\n",
       "      <td>0.000000</td>\n",
       "      <td>5.000000</td>\n",
       "      <td>9.000000</td>\n",
       "      <td>14.000000</td>\n",
       "      <td>8021.500000</td>\n",
       "    </tr>\n",
       "    <tr>\n",
       "      <th>75%</th>\n",
       "      <td>1.000000</td>\n",
       "      <td>45.000000</td>\n",
       "      <td>15.000000</td>\n",
       "      <td>3.000000</td>\n",
       "      <td>1.000000</td>\n",
       "      <td>8.000000</td>\n",
       "      <td>14.000000</td>\n",
       "      <td>16.000000</td>\n",
       "      <td>11922.250000</td>\n",
       "    </tr>\n",
       "    <tr>\n",
       "      <th>max</th>\n",
       "      <td>1.000000</td>\n",
       "      <td>60.000000</td>\n",
       "      <td>20.000000</td>\n",
       "      <td>3.000000</td>\n",
       "      <td>1.000000</td>\n",
       "      <td>18.000000</td>\n",
       "      <td>18.000000</td>\n",
       "      <td>18.000000</td>\n",
       "      <td>23958.000000</td>\n",
       "    </tr>\n",
       "  </tbody>\n",
       "</table>\n",
       "</div>"
      ],
      "text/plain": [
       "             Gender           Age    Occupation  City_Category  \\\n",
       "count  10000.000000  10000.000000  10000.000000   10000.000000   \n",
       "mean       0.763600     34.536100      8.433700       1.959700   \n",
       "std        0.424892     12.392936      6.660333       0.792047   \n",
       "min        0.000000     17.000000      0.000000       1.000000   \n",
       "25%        1.000000     30.000000      3.000000       1.000000   \n",
       "50%        1.000000     30.000000      7.000000       2.000000   \n",
       "75%        1.000000     45.000000     15.000000       3.000000   \n",
       "max        1.000000     60.000000     20.000000       3.000000   \n",
       "\n",
       "       Marital_Status         CATG1        CATG2        CATG3      Purchase  \n",
       "count    10000.000000  10000.000000  6757.000000  2997.000000  10000.000000  \n",
       "mean         0.405300      5.292800     9.796359    12.811144   9152.487700  \n",
       "std          0.490975      3.660739     5.055550     4.057049   4881.543001  \n",
       "min          0.000000      1.000000     2.000000     3.000000    186.000000  \n",
       "25%          0.000000      2.000000     5.000000     9.000000   5831.750000  \n",
       "50%          0.000000      5.000000     9.000000    14.000000   8021.500000  \n",
       "75%          1.000000      8.000000    14.000000    16.000000  11922.250000  \n",
       "max          1.000000     18.000000    18.000000    18.000000  23958.000000  "
      ]
     },
     "execution_count": 461,
     "metadata": {},
     "output_type": "execute_result"
    }
   ],
   "source": [
    "#Number of columns with zero standard deviation and their list\n",
    "zero_standard_deviation=df1.describe()\n",
    "zero_standard_deviation"
   ]
  },
  {
   "cell_type": "markdown",
   "id": "c3c26919",
   "metadata": {},
   "source": [
    "# Non of the columns has zero standard deviation "
   ]
  },
  {
   "cell_type": "code",
   "execution_count": 462,
   "id": "13e7ee42",
   "metadata": {},
   "outputs": [
    {
     "data": {
      "text/plain": [
       "array([ 8370, 15200,  1422, ..., 20138,  8590, 13147], dtype=int64)"
      ]
     },
     "execution_count": 462,
     "metadata": {},
     "output_type": "execute_result"
    }
   ],
   "source": [
    "###Number of unique value is \n",
    "df1[\"Purchase\"].unique()"
   ]
  },
  {
   "cell_type": "code",
   "execution_count": 463,
   "id": "7bdfd3c1",
   "metadata": {},
   "outputs": [
    {
     "data": {
      "text/plain": [
       "5876"
      ]
     },
     "execution_count": 463,
     "metadata": {},
     "output_type": "execute_result"
    }
   ],
   "source": [
    "df1[\"Purchase\"].nunique()"
   ]
  },
  {
   "cell_type": "code",
   "execution_count": 464,
   "id": "57d27e72",
   "metadata": {},
   "outputs": [
    {
     "data": {
      "text/plain": [
       "array([ 3,  1, 12,  8,  5,  4,  2,  6, 14, 11, 13, 15,  7, 16, 18, 10, 17,\n",
       "        9], dtype=int64)"
      ]
     },
     "execution_count": 464,
     "metadata": {},
     "output_type": "execute_result"
    }
   ],
   "source": [
    "df1[\"CATG1\"].unique()"
   ]
  },
  {
   "cell_type": "code",
   "execution_count": 465,
   "id": "b33361a7",
   "metadata": {},
   "outputs": [
    {
     "data": {
      "text/plain": [
       "18"
      ]
     },
     "execution_count": 465,
     "metadata": {},
     "output_type": "execute_result"
    }
   ],
   "source": [
    "df1[\"CATG1\"].nunique()"
   ]
  },
  {
   "cell_type": "code",
   "execution_count": 466,
   "id": "d941583f",
   "metadata": {},
   "outputs": [
    {
     "data": {
      "text/plain": [
       "array([nan,  6., 14.,  2.,  8., 15., 16., 11.,  5.,  3.,  4., 12.,  9.,\n",
       "       10., 17., 13.,  7., 18.])"
      ]
     },
     "execution_count": 466,
     "metadata": {},
     "output_type": "execute_result"
    }
   ],
   "source": [
    "df1[\"CATG2\"].unique()"
   ]
  },
  {
   "cell_type": "code",
   "execution_count": 467,
   "id": "37379fc7",
   "metadata": {},
   "outputs": [
    {
     "data": {
      "text/plain": [
       "17"
      ]
     },
     "execution_count": 467,
     "metadata": {},
     "output_type": "execute_result"
    }
   ],
   "source": [
    "df1[\"CATG2\"].nunique()"
   ]
  },
  {
   "cell_type": "code",
   "execution_count": 468,
   "id": "97448c07",
   "metadata": {},
   "outputs": [
    {
     "data": {
      "text/plain": [
       "8.0     1196\n",
       "14.0    1024\n",
       "2.0      868\n",
       "16.0     752\n",
       "15.0     656\n",
       "4.0      468\n",
       "5.0      462\n",
       "6.0      321\n",
       "17.0     241\n",
       "11.0     239\n",
       "13.0     184\n",
       "9.0      110\n",
       "12.0      84\n",
       "10.0      50\n",
       "3.0       49\n",
       "18.0      40\n",
       "7.0       13\n",
       "Name: CATG2, dtype: int64"
      ]
     },
     "execution_count": 468,
     "metadata": {},
     "output_type": "execute_result"
    }
   ],
   "source": [
    "df1[\"CATG2\"].value_counts()"
   ]
  },
  {
   "cell_type": "code",
   "execution_count": 469,
   "id": "9793b0c1",
   "metadata": {},
   "outputs": [
    {
     "data": {
      "text/plain": [
       "<seaborn.axisgrid.FacetGrid at 0x27e488c1490>"
      ]
     },
     "execution_count": 469,
     "metadata": {},
     "output_type": "execute_result"
    },
    {
     "data": {
      "image/png": "[encoded data removed]",
      "text/plain": [
       "<Figure size 360x360 with 1 Axes>"
      ]
     },
     "metadata": {
      "needs_background": "light"
     },
     "output_type": "display_data"
    }
   ],
   "source": [
    "sns.displot(df1[\"CATG2\"])"
   ]
  },
  {
   "cell_type": "code",
   "execution_count": 470,
   "id": "a8ed3766",
   "metadata": {},
   "outputs": [
    {
     "data": {
      "text/plain": [
       "array([nan, 14., 17.,  5.,  4., 16., 15.,  8.,  9., 13.,  6., 12.,  3.,\n",
       "       18., 11., 10.])"
      ]
     },
     "execution_count": 470,
     "metadata": {},
     "output_type": "execute_result"
    }
   ],
   "source": [
    "df1[\"CATG3\"].unique()"
   ]
  },
  {
   "cell_type": "code",
   "execution_count": 471,
   "id": "3d1deee7",
   "metadata": {},
   "outputs": [
    {
     "data": {
      "text/plain": [
       "15"
      ]
     },
     "execution_count": 471,
     "metadata": {},
     "output_type": "execute_result"
    }
   ],
   "source": [
    "df1[\"CATG3\"].nunique()\n"
   ]
  },
  {
   "cell_type": "code",
   "execution_count": 472,
   "id": "8f3c4c07",
   "metadata": {},
   "outputs": [
    {
     "data": {
      "text/plain": [
       "<seaborn.axisgrid.FacetGrid at 0x27e511fc730>"
      ]
     },
     "execution_count": 472,
     "metadata": {},
     "output_type": "execute_result"
    },
    {
     "data": {
      "image/png": "[encoded data removed]",
      "text/plain": [
       "<Figure size 360x360 with 1 Axes>"
      ]
     },
     "metadata": {
      "needs_background": "light"
     },
     "output_type": "display_data"
    }
   ],
   "source": [
    "sns.displot(df1[\"CATG3\"])"
   ]
  },
  {
   "cell_type": "markdown",
   "id": "d6674bb9",
   "metadata": {},
   "source": [
    "# OLS Ordinary Least Squares Regression"
   ]
  },
  {
   "cell_type": "code",
   "execution_count": 473,
   "id": "e42abdb3",
   "metadata": {},
   "outputs": [],
   "source": [
    "import statsmodels.api as sm"
   ]
  },
  {
   "cell_type": "code",
   "execution_count": 474,
   "id": "ca9450e6",
   "metadata": {},
   "outputs": [],
   "source": [
    "##OLS Ordinary Least Squares Regression (OLS)\n",
    "\n",
    "CAT1=df1[\"CATG1\"]\n",
    "Price=df1.iloc[:,-1]"
   ]
  },
  {
   "cell_type": "code",
   "execution_count": 475,
   "id": "401f6988",
   "metadata": {},
   "outputs": [],
   "source": [
    "CAT1 = sm.add_constant(CAT1)"
   ]
  },
  {
   "cell_type": "code",
   "execution_count": 476,
   "id": "5c61912d",
   "metadata": {},
   "outputs": [
    {
     "name": "stdout",
     "output_type": "stream",
     "text": [
      "                            OLS Regression Results                            \n",
      "==============================================================================\n",
      "Dep. Variable:               Purchase   R-squared:                       0.102\n",
      "Model:                            OLS   Adj. R-squared:                  0.102\n",
      "Method:                 Least Squares   F-statistic:                     1135.\n",
      "Date:                Wed, 01 Jun 2022   Prob (F-statistic):          8.89e-236\n",
      "Time:                        02:45:22   Log-Likelihood:                -98583.\n",
      "No. Observations:               10000   AIC:                         1.972e+05\n",
      "Df Residuals:                    9998   BIC:                         1.972e+05\n",
      "Df Model:                           1                                         \n",
      "Covariance Type:            nonrobust                                         \n",
      "==============================================================================\n",
      "                 coef    std err          t      P>|t|      [0.025      0.975]\n",
      "------------------------------------------------------------------------------\n",
      "const       1.141e+04     81.330    140.243      0.000    1.12e+04    1.16e+04\n",
      "CATG1       -425.7749     12.638    -33.690      0.000    -450.548    -401.002\n",
      "==============================================================================\n",
      "Omnibus:                     1132.729   Durbin-Watson:                   1.710\n",
      "Prob(Omnibus):                  0.000   Jarque-Bera (JB):             1599.059\n",
      "Skew:                           0.882   Prob(JB):                         0.00\n",
      "Kurtosis:                       3.851   Cond. No.                         11.5\n",
      "==============================================================================\n",
      "\n",
      "Notes:\n",
      "[1] Standard Errors assume that the covariance matrix of the errors is correctly specified.\n"
     ]
    }
   ],
   "source": [
    "model = sm.OLS(Price, CAT1).fit()\n",
    "summary = model.summary()\n",
    "print(summary)"
   ]
  },
  {
   "cell_type": "code",
   "execution_count": 477,
   "id": "5bf22c63",
   "metadata": {},
   "outputs": [
    {
     "name": "stdout",
     "output_type": "stream",
     "text": [
      "                            OLS Regression Results                            \n",
      "==============================================================================\n",
      "Dep. Variable:               Purchase   R-squared:                       0.005\n",
      "Model:                            OLS   Adj. R-squared:                  0.005\n",
      "Method:                 Least Squares   F-statistic:                     47.35\n",
      "Date:                Wed, 01 Jun 2022   Prob (F-statistic):           6.30e-12\n",
      "Time:                        02:45:22   Log-Likelihood:                -99097.\n",
      "No. Observations:               10000   AIC:                         1.982e+05\n",
      "Df Residuals:                    9998   BIC:                         1.982e+05\n",
      "Df Model:                           1                                         \n",
      "Covariance Type:            nonrobust                                         \n",
      "==============================================================================\n",
      "                 coef    std err          t      P>|t|      [0.025      0.975]\n",
      "------------------------------------------------------------------------------\n",
      "const       8550.1954    100.168     85.359      0.000    8353.846    8746.545\n",
      "Gender       788.7536    114.629      6.881      0.000     564.057    1013.450\n",
      "==============================================================================\n",
      "Omnibus:                      610.754   Durbin-Watson:                   1.667\n",
      "Prob(Omnibus):                  0.000   Jarque-Bera (JB):              710.466\n",
      "Skew:                           0.642   Prob(JB):                    5.30e-155\n",
      "Kurtosis:                       2.759   Cond. No.                         3.89\n",
      "==============================================================================\n",
      "\n",
      "Notes:\n",
      "[1] Standard Errors assume that the covariance matrix of the errors is correctly specified.\n"
     ]
    }
   ],
   "source": [
    "##OLS Ordinary Least Squares Regression  of Gender \n",
    "\n",
    "Gender=df1[\"Gender\"]\n",
    "Price=df1.iloc[:,-1]\n",
    "Gender = sm.add_constant(Gender)\n",
    "model = sm.OLS(Price, Gender).fit()\n",
    "summary = model.summary()\n",
    "print(summary)"
   ]
  },
  {
   "cell_type": "code",
   "execution_count": 478,
   "id": "adc6bbdd",
   "metadata": {},
   "outputs": [
    {
     "name": "stdout",
     "output_type": "stream",
     "text": [
      "                            OLS Regression Results                            \n",
      "==============================================================================\n",
      "Dep. Variable:               Purchase   R-squared:                       0.000\n",
      "Model:                            OLS   Adj. R-squared:                 -0.000\n",
      "Method:                 Least Squares   F-statistic:                    0.2717\n",
      "Date:                Wed, 01 Jun 2022   Prob (F-statistic):              0.602\n",
      "Time:                        02:45:23   Log-Likelihood:                -99121.\n",
      "No. Observations:               10000   AIC:                         1.982e+05\n",
      "Df Residuals:                    9998   BIC:                         1.983e+05\n",
      "Df Model:                           1                                         \n",
      "Covariance Type:            nonrobust                                         \n",
      "==============================================================================\n",
      "                 coef    std err          t      P>|t|      [0.025      0.975]\n",
      "------------------------------------------------------------------------------\n",
      "const       9081.5769    144.542     62.830      0.000    8798.246    9364.908\n",
      "Age            2.0532      3.939      0.521      0.602      -5.669       9.775\n",
      "==============================================================================\n",
      "Omnibus:                      624.128   Durbin-Watson:                   1.662\n",
      "Prob(Omnibus):                  0.000   Jarque-Bera (JB):              729.630\n",
      "Skew:                           0.651   Prob(JB):                    3.65e-159\n",
      "Kurtosis:                       2.762   Cond. No.                         109.\n",
      "==============================================================================\n",
      "\n",
      "Notes:\n",
      "[1] Standard Errors assume that the covariance matrix of the errors is correctly specified.\n"
     ]
    }
   ],
   "source": [
    "##OLS Ordinary Least Squares Regression  of Age\n",
    "\n",
    "Age=df1[\"Age\"]\n",
    "Price=df1.iloc[:,-1]\n",
    "Age = sm.add_constant(Age)\n",
    "model = sm.OLS(Price, Age).fit()\n",
    "summary = model.summary()\n",
    "print(summary)"
   ]
  },
  {
   "cell_type": "code",
   "execution_count": 479,
   "id": "f6d531b5",
   "metadata": {},
   "outputs": [
    {
     "name": "stdout",
     "output_type": "stream",
     "text": [
      "                            OLS Regression Results                            \n",
      "==============================================================================\n",
      "Dep. Variable:               Purchase   R-squared:                       0.000\n",
      "Model:                            OLS   Adj. R-squared:                 -0.000\n",
      "Method:                 Least Squares   F-statistic:                   0.09123\n",
      "Date:                Wed, 01 Jun 2022   Prob (F-statistic):              0.763\n",
      "Time:                        02:45:23   Log-Likelihood:                -99121.\n",
      "No. Observations:               10000   AIC:                         1.982e+05\n",
      "Df Residuals:                    9998   BIC:                         1.983e+05\n",
      "Df Model:                           1                                         \n",
      "Covariance Type:            nonrobust                                         \n",
      "==============================================================================\n",
      "                 coef    std err          t      P>|t|      [0.025      0.975]\n",
      "------------------------------------------------------------------------------\n",
      "const       9133.8154     78.770    115.955      0.000    8979.410    9288.221\n",
      "Occupation     2.2140      7.330      0.302      0.763     -12.154      16.582\n",
      "==============================================================================\n",
      "Omnibus:                      623.130   Durbin-Watson:                   1.662\n",
      "Prob(Omnibus):                  0.000   Jarque-Bera (JB):              728.218\n",
      "Skew:                           0.650   Prob(JB):                    7.40e-159\n",
      "Kurtosis:                       2.762   Cond. No.                         17.4\n",
      "==============================================================================\n",
      "\n",
      "Notes:\n",
      "[1] Standard Errors assume that the covariance matrix of the errors is correctly specified.\n"
     ]
    }
   ],
   "source": [
    "##OLS for Occupation\n",
    "\n",
    "Occupation=df1[\"Occupation\"]\n",
    "Occupation=sm.add_constant(Occupation)\n",
    "model=sm.OLS(Price,Occupation).fit()\n",
    "summary=model.summary()\n",
    "print(summary)"
   ]
  },
  {
   "cell_type": "code",
   "execution_count": 480,
   "id": "ff143bda",
   "metadata": {},
   "outputs": [
    {
     "data": {
      "text/html": [
       "<div>\n",
       "<style scoped>\n",
       "    .dataframe tbody tr th:only-of-type {\n",
       "        vertical-align: middle;\n",
       "    }\n",
       "\n",
       "    .dataframe tbody tr th {\n",
       "        vertical-align: top;\n",
       "    }\n",
       "\n",
       "    .dataframe thead th {\n",
       "        text-align: right;\n",
       "    }\n",
       "</style>\n",
       "<table border=\"1\" class=\"dataframe\">\n",
       "  <thead>\n",
       "    <tr style=\"text-align: right;\">\n",
       "      <th></th>\n",
       "      <th>Gender</th>\n",
       "      <th>Age</th>\n",
       "      <th>Occupation</th>\n",
       "      <th>City_Category</th>\n",
       "      <th>Marital_Status</th>\n",
       "      <th>CATG1</th>\n",
       "      <th>CATG2</th>\n",
       "      <th>CATG3</th>\n",
       "      <th>Purchase</th>\n",
       "    </tr>\n",
       "  </thead>\n",
       "  <tbody>\n",
       "    <tr>\n",
       "      <th>Gender</th>\n",
       "      <td>1.000000</td>\n",
       "      <td>-0.002026</td>\n",
       "      <td>0.132995</td>\n",
       "      <td>-0.014939</td>\n",
       "      <td>0.021635</td>\n",
       "      <td>-0.054706</td>\n",
       "      <td>-0.013345</td>\n",
       "      <td>0.042230</td>\n",
       "      <td>0.068653</td>\n",
       "    </tr>\n",
       "    <tr>\n",
       "      <th>Age</th>\n",
       "      <td>-0.002026</td>\n",
       "      <td>1.000000</td>\n",
       "      <td>0.127853</td>\n",
       "      <td>0.120859</td>\n",
       "      <td>0.337116</td>\n",
       "      <td>0.068301</td>\n",
       "      <td>0.065410</td>\n",
       "      <td>0.030808</td>\n",
       "      <td>0.005213</td>\n",
       "    </tr>\n",
       "    <tr>\n",
       "      <th>Occupation</th>\n",
       "      <td>0.132995</td>\n",
       "      <td>0.127853</td>\n",
       "      <td>1.000000</td>\n",
       "      <td>0.042955</td>\n",
       "      <td>-0.020515</td>\n",
       "      <td>-0.002038</td>\n",
       "      <td>-0.000162</td>\n",
       "      <td>-0.002537</td>\n",
       "      <td>0.003021</td>\n",
       "    </tr>\n",
       "    <tr>\n",
       "      <th>City_Category</th>\n",
       "      <td>-0.014939</td>\n",
       "      <td>0.120859</td>\n",
       "      <td>0.042955</td>\n",
       "      <td>1.000000</td>\n",
       "      <td>0.022975</td>\n",
       "      <td>-0.041322</td>\n",
       "      <td>-0.025907</td>\n",
       "      <td>-0.019790</td>\n",
       "      <td>0.086020</td>\n",
       "    </tr>\n",
       "    <tr>\n",
       "      <th>Marital_Status</th>\n",
       "      <td>0.021635</td>\n",
       "      <td>0.337116</td>\n",
       "      <td>-0.020515</td>\n",
       "      <td>0.022975</td>\n",
       "      <td>1.000000</td>\n",
       "      <td>0.013426</td>\n",
       "      <td>0.016601</td>\n",
       "      <td>-0.007925</td>\n",
       "      <td>-0.000742</td>\n",
       "    </tr>\n",
       "    <tr>\n",
       "      <th>CATG1</th>\n",
       "      <td>-0.054706</td>\n",
       "      <td>0.068301</td>\n",
       "      <td>-0.002038</td>\n",
       "      <td>-0.041322</td>\n",
       "      <td>0.013426</td>\n",
       "      <td>1.000000</td>\n",
       "      <td>0.542762</td>\n",
       "      <td>0.219062</td>\n",
       "      <td>-0.319295</td>\n",
       "    </tr>\n",
       "    <tr>\n",
       "      <th>CATG2</th>\n",
       "      <td>-0.013345</td>\n",
       "      <td>0.065410</td>\n",
       "      <td>-0.000162</td>\n",
       "      <td>-0.025907</td>\n",
       "      <td>0.016601</td>\n",
       "      <td>0.542762</td>\n",
       "      <td>1.000000</td>\n",
       "      <td>0.549823</td>\n",
       "      <td>-0.212044</td>\n",
       "    </tr>\n",
       "    <tr>\n",
       "      <th>CATG3</th>\n",
       "      <td>0.042230</td>\n",
       "      <td>0.030808</td>\n",
       "      <td>-0.002537</td>\n",
       "      <td>-0.019790</td>\n",
       "      <td>-0.007925</td>\n",
       "      <td>0.219062</td>\n",
       "      <td>0.549823</td>\n",
       "      <td>1.000000</td>\n",
       "      <td>-0.027387</td>\n",
       "    </tr>\n",
       "    <tr>\n",
       "      <th>Purchase</th>\n",
       "      <td>0.068653</td>\n",
       "      <td>0.005213</td>\n",
       "      <td>0.003021</td>\n",
       "      <td>0.086020</td>\n",
       "      <td>-0.000742</td>\n",
       "      <td>-0.319295</td>\n",
       "      <td>-0.212044</td>\n",
       "      <td>-0.027387</td>\n",
       "      <td>1.000000</td>\n",
       "    </tr>\n",
       "  </tbody>\n",
       "</table>\n",
       "</div>"
      ],
      "text/plain": [
       "                  Gender       Age  Occupation  City_Category  Marital_Status  \\\n",
       "Gender          1.000000 -0.002026    0.132995      -0.014939        0.021635   \n",
       "Age            -0.002026  1.000000    0.127853       0.120859        0.337116   \n",
       "Occupation      0.132995  0.127853    1.000000       0.042955       -0.020515   \n",
       "City_Category  -0.014939  0.120859    0.042955       1.000000        0.022975   \n",
       "Marital_Status  0.021635  0.337116   -0.020515       0.022975        1.000000   \n",
       "CATG1          -0.054706  0.068301   -0.002038      -0.041322        0.013426   \n",
       "CATG2          -0.013345  0.065410   -0.000162      -0.025907        0.016601   \n",
       "CATG3           0.042230  0.030808   -0.002537      -0.019790       -0.007925   \n",
       "Purchase        0.068653  0.005213    0.003021       0.086020       -0.000742   \n",
       "\n",
       "                   CATG1     CATG2     CATG3  Purchase  \n",
       "Gender         -0.054706 -0.013345  0.042230  0.068653  \n",
       "Age             0.068301  0.065410  0.030808  0.005213  \n",
       "Occupation     -0.002038 -0.000162 -0.002537  0.003021  \n",
       "City_Category  -0.041322 -0.025907 -0.019790  0.086020  \n",
       "Marital_Status  0.013426  0.016601 -0.007925 -0.000742  \n",
       "CATG1           1.000000  0.542762  0.219062 -0.319295  \n",
       "CATG2           0.542762  1.000000  0.549823 -0.212044  \n",
       "CATG3           0.219062  0.549823  1.000000 -0.027387  \n",
       "Purchase       -0.319295 -0.212044 -0.027387  1.000000  "
      ]
     },
     "execution_count": 480,
     "metadata": {},
     "output_type": "execute_result"
    }
   ],
   "source": [
    "## Correlation \n",
    "df1.corr()"
   ]
  },
  {
   "cell_type": "code",
   "execution_count": 481,
   "id": "f2279ace",
   "metadata": {},
   "outputs": [],
   "source": [
    "#VIF variance_inflation_factor\n",
    "\n",
    "from statsmodels.stats.outliers_influence import variance_inflation_factor\n"
   ]
  },
  {
   "cell_type": "code",
   "execution_count": 482,
   "id": "af124119",
   "metadata": {},
   "outputs": [],
   "source": [
    "x = df1[['Gender', 'Age', 'CATG1','Purchase']]\n",
    "  \n",
    "x1=numerical_variable"
   ]
  },
  {
   "cell_type": "code",
   "execution_count": 483,
   "id": "713a70d5",
   "metadata": {},
   "outputs": [
    {
     "data": {
      "text/plain": [
       "pandas.core.frame.DataFrame"
      ]
     },
     "execution_count": 483,
     "metadata": {},
     "output_type": "execute_result"
    }
   ],
   "source": [
    "type(x)"
   ]
  },
  {
   "cell_type": "code",
   "execution_count": 484,
   "id": "10968b7a",
   "metadata": {},
   "outputs": [
    {
     "data": {
      "text/html": [
       "<div>\n",
       "<style scoped>\n",
       "    .dataframe tbody tr th:only-of-type {\n",
       "        vertical-align: middle;\n",
       "    }\n",
       "\n",
       "    .dataframe tbody tr th {\n",
       "        vertical-align: top;\n",
       "    }\n",
       "\n",
       "    .dataframe thead th {\n",
       "        text-align: right;\n",
       "    }\n",
       "</style>\n",
       "<table border=\"1\" class=\"dataframe\">\n",
       "  <thead>\n",
       "    <tr style=\"text-align: right;\">\n",
       "      <th></th>\n",
       "    </tr>\n",
       "  </thead>\n",
       "  <tbody>\n",
       "  </tbody>\n",
       "</table>\n",
       "</div>"
      ],
      "text/plain": [
       "Empty DataFrame\n",
       "Columns: []\n",
       "Index: []"
      ]
     },
     "execution_count": 484,
     "metadata": {},
     "output_type": "execute_result"
    }
   ],
   "source": [
    "# VIF dataframe\n",
    "vif_data = pd.DataFrame()\n",
    "\n",
    "vif_data \n"
   ]
  },
  {
   "cell_type": "code",
   "execution_count": 485,
   "id": "c1022fde",
   "metadata": {},
   "outputs": [
    {
     "data": {
      "text/html": [
       "<div>\n",
       "<style scoped>\n",
       "    .dataframe tbody tr th:only-of-type {\n",
       "        vertical-align: middle;\n",
       "    }\n",
       "\n",
       "    .dataframe tbody tr th {\n",
       "        vertical-align: top;\n",
       "    }\n",
       "\n",
       "    .dataframe thead th {\n",
       "        text-align: right;\n",
       "    }\n",
       "</style>\n",
       "<table border=\"1\" class=\"dataframe\">\n",
       "  <thead>\n",
       "    <tr style=\"text-align: right;\">\n",
       "      <th></th>\n",
       "      <th>feature</th>\n",
       "    </tr>\n",
       "  </thead>\n",
       "  <tbody>\n",
       "    <tr>\n",
       "      <th>0</th>\n",
       "      <td>Gender</td>\n",
       "    </tr>\n",
       "    <tr>\n",
       "      <th>1</th>\n",
       "      <td>Age</td>\n",
       "    </tr>\n",
       "    <tr>\n",
       "      <th>2</th>\n",
       "      <td>CATG1</td>\n",
       "    </tr>\n",
       "    <tr>\n",
       "      <th>3</th>\n",
       "      <td>Purchase</td>\n",
       "    </tr>\n",
       "  </tbody>\n",
       "</table>\n",
       "</div>"
      ],
      "text/plain": [
       "    feature\n",
       "0    Gender\n",
       "1       Age\n",
       "2     CATG1\n",
       "3  Purchase"
      ]
     },
     "execution_count": 485,
     "metadata": {},
     "output_type": "execute_result"
    }
   ],
   "source": [
    "vif_data[\"feature\"] = x.columns\n",
    "\n",
    "vif_data"
   ]
  },
  {
   "cell_type": "code",
   "execution_count": 486,
   "id": "e3ee8239",
   "metadata": {},
   "outputs": [
    {
     "name": "stdout",
     "output_type": "stream",
     "text": [
      "    feature       VIF\n",
      "0    Gender  3.575206\n",
      "1       Age  5.638288\n",
      "2     CATG1  2.727109\n",
      "3  Purchase  3.660528\n"
     ]
    }
   ],
   "source": [
    "# calculating VIF for each feature\n",
    "vif_data[\"VIF\"] = [variance_inflation_factor(x.values, i) for i in range (len(x.columns))]\n",
    "                           \n",
    "print(vif_data)"
   ]
  },
  {
   "cell_type": "markdown",
   "id": "3e18eaf3",
   "metadata": {},
   "source": [
    "## VIF of each feature is very low hence multicolinearty is very low b/w each feature . "
   ]
  },
  {
   "cell_type": "code",
   "execution_count": 487,
   "id": "a6bd6d4f",
   "metadata": {},
   "outputs": [
    {
     "data": {
      "text/html": [
       "<div>\n",
       "<style scoped>\n",
       "    .dataframe tbody tr th:only-of-type {\n",
       "        vertical-align: middle;\n",
       "    }\n",
       "\n",
       "    .dataframe tbody tr th {\n",
       "        vertical-align: top;\n",
       "    }\n",
       "\n",
       "    .dataframe thead th {\n",
       "        text-align: right;\n",
       "    }\n",
       "</style>\n",
       "<table border=\"1\" class=\"dataframe\">\n",
       "  <thead>\n",
       "    <tr style=\"text-align: right;\">\n",
       "      <th></th>\n",
       "      <th>Product_ID</th>\n",
       "      <th>Gender</th>\n",
       "      <th>Age</th>\n",
       "      <th>Occupation</th>\n",
       "      <th>City_Category</th>\n",
       "      <th>Marital_Status</th>\n",
       "      <th>CATG1</th>\n",
       "      <th>CATG2</th>\n",
       "      <th>CATG3</th>\n",
       "      <th>Purchase</th>\n",
       "    </tr>\n",
       "  </thead>\n",
       "  <tbody>\n",
       "    <tr>\n",
       "      <th>0</th>\n",
       "      <td>P00069042</td>\n",
       "      <td>0</td>\n",
       "      <td>17</td>\n",
       "      <td>10</td>\n",
       "      <td>1</td>\n",
       "      <td>0</td>\n",
       "      <td>3</td>\n",
       "      <td>NaN</td>\n",
       "      <td>NaN</td>\n",
       "      <td>8370</td>\n",
       "    </tr>\n",
       "    <tr>\n",
       "      <th>1</th>\n",
       "      <td>P00248942</td>\n",
       "      <td>0</td>\n",
       "      <td>17</td>\n",
       "      <td>10</td>\n",
       "      <td>1</td>\n",
       "      <td>0</td>\n",
       "      <td>1</td>\n",
       "      <td>6.0</td>\n",
       "      <td>14.0</td>\n",
       "      <td>15200</td>\n",
       "    </tr>\n",
       "    <tr>\n",
       "      <th>2</th>\n",
       "      <td>P00087842</td>\n",
       "      <td>0</td>\n",
       "      <td>17</td>\n",
       "      <td>10</td>\n",
       "      <td>1</td>\n",
       "      <td>0</td>\n",
       "      <td>12</td>\n",
       "      <td>NaN</td>\n",
       "      <td>NaN</td>\n",
       "      <td>1422</td>\n",
       "    </tr>\n",
       "    <tr>\n",
       "      <th>3</th>\n",
       "      <td>P00085442</td>\n",
       "      <td>0</td>\n",
       "      <td>17</td>\n",
       "      <td>10</td>\n",
       "      <td>1</td>\n",
       "      <td>0</td>\n",
       "      <td>12</td>\n",
       "      <td>14.0</td>\n",
       "      <td>NaN</td>\n",
       "      <td>1057</td>\n",
       "    </tr>\n",
       "    <tr>\n",
       "      <th>4</th>\n",
       "      <td>P00285442</td>\n",
       "      <td>1</td>\n",
       "      <td>60</td>\n",
       "      <td>16</td>\n",
       "      <td>3</td>\n",
       "      <td>0</td>\n",
       "      <td>8</td>\n",
       "      <td>NaN</td>\n",
       "      <td>NaN</td>\n",
       "      <td>7969</td>\n",
       "    </tr>\n",
       "    <tr>\n",
       "      <th>...</th>\n",
       "      <td>...</td>\n",
       "      <td>...</td>\n",
       "      <td>...</td>\n",
       "      <td>...</td>\n",
       "      <td>...</td>\n",
       "      <td>...</td>\n",
       "      <td>...</td>\n",
       "      <td>...</td>\n",
       "      <td>...</td>\n",
       "      <td>...</td>\n",
       "    </tr>\n",
       "    <tr>\n",
       "      <th>9995</th>\n",
       "      <td>P00151742</td>\n",
       "      <td>1</td>\n",
       "      <td>30</td>\n",
       "      <td>4</td>\n",
       "      <td>1</td>\n",
       "      <td>1</td>\n",
       "      <td>8</td>\n",
       "      <td>15.0</td>\n",
       "      <td>16.0</td>\n",
       "      <td>7967</td>\n",
       "    </tr>\n",
       "    <tr>\n",
       "      <th>9996</th>\n",
       "      <td>P00119742</td>\n",
       "      <td>1</td>\n",
       "      <td>30</td>\n",
       "      <td>4</td>\n",
       "      <td>1</td>\n",
       "      <td>1</td>\n",
       "      <td>5</td>\n",
       "      <td>8.0</td>\n",
       "      <td>12.0</td>\n",
       "      <td>8590</td>\n",
       "    </tr>\n",
       "    <tr>\n",
       "      <th>9997</th>\n",
       "      <td>P00178842</td>\n",
       "      <td>1</td>\n",
       "      <td>30</td>\n",
       "      <td>4</td>\n",
       "      <td>1</td>\n",
       "      <td>1</td>\n",
       "      <td>2</td>\n",
       "      <td>4.0</td>\n",
       "      <td>9.0</td>\n",
       "      <td>13147</td>\n",
       "    </tr>\n",
       "    <tr>\n",
       "      <th>9998</th>\n",
       "      <td>P00124842</td>\n",
       "      <td>1</td>\n",
       "      <td>30</td>\n",
       "      <td>4</td>\n",
       "      <td>1</td>\n",
       "      <td>1</td>\n",
       "      <td>11</td>\n",
       "      <td>NaN</td>\n",
       "      <td>NaN</td>\n",
       "      <td>5975</td>\n",
       "    </tr>\n",
       "    <tr>\n",
       "      <th>9999</th>\n",
       "      <td>P00343042</td>\n",
       "      <td>1</td>\n",
       "      <td>30</td>\n",
       "      <td>4</td>\n",
       "      <td>1</td>\n",
       "      <td>1</td>\n",
       "      <td>5</td>\n",
       "      <td>18.0</td>\n",
       "      <td>NaN</td>\n",
       "      <td>8653</td>\n",
       "    </tr>\n",
       "  </tbody>\n",
       "</table>\n",
       "<p>10000 rows × 10 columns</p>\n",
       "</div>"
      ],
      "text/plain": [
       "     Product_ID  Gender  Age  Occupation  City_Category  Marital_Status  \\\n",
       "0     P00069042       0   17          10              1               0   \n",
       "1     P00248942       0   17          10              1               0   \n",
       "2     P00087842       0   17          10              1               0   \n",
       "3     P00085442       0   17          10              1               0   \n",
       "4     P00285442       1   60          16              3               0   \n",
       "...         ...     ...  ...         ...            ...             ...   \n",
       "9995  P00151742       1   30           4              1               1   \n",
       "9996  P00119742       1   30           4              1               1   \n",
       "9997  P00178842       1   30           4              1               1   \n",
       "9998  P00124842       1   30           4              1               1   \n",
       "9999  P00343042       1   30           4              1               1   \n",
       "\n",
       "      CATG1  CATG2  CATG3  Purchase  \n",
       "0         3    NaN    NaN      8370  \n",
       "1         1    6.0   14.0     15200  \n",
       "2        12    NaN    NaN      1422  \n",
       "3        12   14.0    NaN      1057  \n",
       "4         8    NaN    NaN      7969  \n",
       "...     ...    ...    ...       ...  \n",
       "9995      8   15.0   16.0      7967  \n",
       "9996      5    8.0   12.0      8590  \n",
       "9997      2    4.0    9.0     13147  \n",
       "9998     11    NaN    NaN      5975  \n",
       "9999      5   18.0    NaN      8653  \n",
       "\n",
       "[10000 rows x 10 columns]"
      ]
     },
     "execution_count": 487,
     "metadata": {},
     "output_type": "execute_result"
    }
   ],
   "source": [
    "df1"
   ]
  },
  {
   "cell_type": "code",
   "execution_count": 488,
   "id": "3e30f3dd",
   "metadata": {},
   "outputs": [
    {
     "data": {
      "text/plain": [
       "array([[<AxesSubplot:title={'center':'Gender'}>,\n",
       "        <AxesSubplot:title={'center':'Age'}>,\n",
       "        <AxesSubplot:title={'center':'Occupation'}>],\n",
       "       [<AxesSubplot:title={'center':'City_Category'}>,\n",
       "        <AxesSubplot:title={'center':'Marital_Status'}>,\n",
       "        <AxesSubplot:title={'center':'CATG1'}>],\n",
       "       [<AxesSubplot:title={'center':'CATG2'}>,\n",
       "        <AxesSubplot:title={'center':'CATG3'}>,\n",
       "        <AxesSubplot:title={'center':'Purchase'}>]], dtype=object)"
      ]
     },
     "execution_count": 488,
     "metadata": {},
     "output_type": "execute_result"
    },
    {
     "data": {
      "image/png": "[encoded data removed]",
      "text/plain": [
       "<Figure size 1440x720 with 9 Axes>"
      ]
     },
     "metadata": {
      "needs_background": "light"
     },
     "output_type": "display_data"
    }
   ],
   "source": [
    "df1.hist(figsize=(20,10))"
   ]
  },
  {
   "cell_type": "markdown",
   "id": "477214cf",
   "metadata": {},
   "source": [
    "# checking the Outlier in purchase data"
   ]
  },
  {
   "cell_type": "code",
   "execution_count": 489,
   "id": "849c4491",
   "metadata": {},
   "outputs": [
    {
     "data": {
      "text/plain": [
       "<AxesSubplot:xlabel='CATG1', ylabel='Purchase'>"
      ]
     },
     "execution_count": 489,
     "metadata": {},
     "output_type": "execute_result"
    },
    {
     "data": {
      "image/png": "[encoded data removed]",
      "text/plain": [
       "<Figure size 432x288 with 1 Axes>"
      ]
     },
     "metadata": {
      "needs_background": "light"
     },
     "output_type": "display_data"
    }
   ],
   "source": [
    "sns.lineplot(data=df1,x=\"CATG1\",y=\"Purchase\",hue=\"Gender\")"
   ]
  },
  {
   "cell_type": "code",
   "execution_count": 490,
   "id": "a667b7e1",
   "metadata": {},
   "outputs": [
    {
     "data": {
      "text/plain": [
       "<AxesSubplot:xlabel='CATG2', ylabel='Purchase'>"
      ]
     },
     "execution_count": 490,
     "metadata": {},
     "output_type": "execute_result"
    },
    {
     "data": {
      "image/png": "[encoded data removed]",
      "text/plain": [
       "<Figure size 432x288 with 1 Axes>"
      ]
     },
     "metadata": {
      "needs_background": "light"
     },
     "output_type": "display_data"
    }
   ],
   "source": [
    "sns.lineplot(data=df1,x=\"CATG2\",y=\"Purchase\",hue=\"Gender\")"
   ]
  },
  {
   "cell_type": "code",
   "execution_count": 491,
   "id": "76b84a2c",
   "metadata": {},
   "outputs": [
    {
     "data": {
      "text/plain": [
       "<AxesSubplot:xlabel='CATG3', ylabel='Purchase'>"
      ]
     },
     "execution_count": 491,
     "metadata": {},
     "output_type": "execute_result"
    },
    {
     "data": {
      "image/png": "[encoded data removed]",
      "text/plain": [
       "<Figure size 432x288 with 1 Axes>"
      ]
     },
     "metadata": {
      "needs_background": "light"
     },
     "output_type": "display_data"
    }
   ],
   "source": [
    "sns.lineplot(data=df1,x=\"CATG3\",y=\"Purchase\",hue=\"Gender\")"
   ]
  },
  {
   "cell_type": "code",
   "execution_count": 492,
   "id": "d0d62906",
   "metadata": {},
   "outputs": [
    {
     "data": {
      "text/plain": [
       "<AxesSubplot:xlabel='Gender', ylabel='Purchase'>"
      ]
     },
     "execution_count": 492,
     "metadata": {},
     "output_type": "execute_result"
    },
    {
     "data": {
      "image/png": "[encoded data removed]",
      "text/plain": [
       "<Figure size 432x288 with 1 Axes>"
      ]
     },
     "metadata": {
      "needs_background": "light"
     },
     "output_type": "display_data"
    }
   ],
   "source": [
    "sns.barplot(data=df1,x='Gender',y=\"Purchase\",hue=\"Age\")"
   ]
  },
  {
   "cell_type": "code",
   "execution_count": 493,
   "id": "ffc47028",
   "metadata": {},
   "outputs": [
    {
     "data": {
      "text/plain": [
       "<AxesSubplot:xlabel='Gender', ylabel='Purchase'>"
      ]
     },
     "execution_count": 493,
     "metadata": {},
     "output_type": "execute_result"
    },
    {
     "data": {
      "image/png": "[encoded data removed]",
      "text/plain": [
       "<Figure size 432x288 with 1 Axes>"
      ]
     },
     "metadata": {
      "needs_background": "light"
     },
     "output_type": "display_data"
    }
   ],
   "source": [
    "sns.barplot(data=df1,x='Gender',y=\"Purchase\",hue=\"Marital_Status\")"
   ]
  },
  {
   "cell_type": "code",
   "execution_count": 494,
   "id": "a16605e1",
   "metadata": {},
   "outputs": [
    {
     "data": {
      "text/plain": [
       "<seaborn.axisgrid.PairGrid at 0x27e488e81f0>"
      ]
     },
     "execution_count": 494,
     "metadata": {},
     "output_type": "execute_result"
    },
    {
     "data": {
      "image/png": "[encoded data removed]",
      "text/plain": [
       "<Figure size 1620x1620 with 90 Axes>"
      ]
     },
     "metadata": {
      "needs_background": "light"
     },
     "output_type": "display_data"
    }
   ],
   "source": [
    "sns.pairplot(data=df1)"
   ]
  },
  {
   "cell_type": "code",
   "execution_count": 495,
   "id": "945dfcb4",
   "metadata": {},
   "outputs": [
    {
     "data": {
      "text/plain": [
       "<AxesSubplot:xlabel='CATG1', ylabel='Purchase'>"
      ]
     },
     "execution_count": 495,
     "metadata": {},
     "output_type": "execute_result"
    },
    {
     "data": {
      "image/png": "[encoded data removed]",
      "text/plain": [
       "<Figure size 432x288 with 1 Axes>"
      ]
     },
     "metadata": {
      "needs_background": "light"
     },
     "output_type": "display_data"
    }
   ],
   "source": [
    "\n",
    "sns.barplot(x=df1[\"CATG1\"],y=df1[\"Purchase\"],)"
   ]
  },
  {
   "cell_type": "code",
   "execution_count": 496,
   "id": "9f4299f9",
   "metadata": {},
   "outputs": [
    {
     "data": {
      "text/plain": [
       "<AxesSubplot:xlabel='CATG2', ylabel='Purchase'>"
      ]
     },
     "execution_count": 496,
     "metadata": {},
     "output_type": "execute_result"
    },
    {
     "data": {
      "image/png": "[encoded data removed]",
      "text/plain": [
       "<Figure size 432x288 with 1 Axes>"
      ]
     },
     "metadata": {
      "needs_background": "light"
     },
     "output_type": "display_data"
    }
   ],
   "source": [
    "sns.barplot(x=df1[\"CATG2\"],y=df1[\"Purchase\"],)"
   ]
  },
  {
   "cell_type": "code",
   "execution_count": 497,
   "id": "21ec5827",
   "metadata": {},
   "outputs": [
    {
     "data": {
      "text/plain": [
       "<AxesSubplot:xlabel='CATG3', ylabel='Purchase'>"
      ]
     },
     "execution_count": 497,
     "metadata": {},
     "output_type": "execute_result"
    },
    {
     "data": {
      "image/png": "[encoded data removed]",
      "text/plain": [
       "<Figure size 432x288 with 1 Axes>"
      ]
     },
     "metadata": {
      "needs_background": "light"
     },
     "output_type": "display_data"
    }
   ],
   "source": [
    "sns.barplot(x=df1[\"CATG3\"],y=df1[\"Purchase\"],)"
   ]
  },
  {
   "cell_type": "code",
   "execution_count": 498,
   "id": "97c6e155",
   "metadata": {},
   "outputs": [
    {
     "name": "stderr",
     "output_type": "stream",
     "text": [
      "C:\\Users\\prash\\anaconda3\\lib\\site-packages\\seaborn\\_decorators.py:36: FutureWarning: Pass the following variable as a keyword arg: x. From version 0.12, the only valid positional argument will be `data`, and passing other arguments without an explicit keyword will result in an error or misinterpretation.\n",
      "  warnings.warn(\n"
     ]
    },
    {
     "data": {
      "text/plain": [
       "<AxesSubplot:xlabel='Gender', ylabel='count'>"
      ]
     },
     "execution_count": 498,
     "metadata": {},
     "output_type": "execute_result"
    },
    {
     "data": {
      "image/png": "[encoded data removed]",
      "text/plain": [
       "<Figure size 432x288 with 1 Axes>"
      ]
     },
     "metadata": {
      "needs_background": "light"
     },
     "output_type": "display_data"
    }
   ],
   "source": [
    "sns.countplot(df1[\"Gender\"])"
   ]
  },
  {
   "cell_type": "code",
   "execution_count": 499,
   "id": "750487f8",
   "metadata": {},
   "outputs": [
    {
     "name": "stderr",
     "output_type": "stream",
     "text": [
      "C:\\Users\\prash\\anaconda3\\lib\\site-packages\\seaborn\\_decorators.py:36: FutureWarning: Pass the following variable as a keyword arg: x. From version 0.12, the only valid positional argument will be `data`, and passing other arguments without an explicit keyword will result in an error or misinterpretation.\n",
      "  warnings.warn(\n"
     ]
    },
    {
     "data": {
      "text/plain": [
       "<AxesSubplot:xlabel='Age', ylabel='count'>"
      ]
     },
     "execution_count": 499,
     "metadata": {},
     "output_type": "execute_result"
    },
    {
     "data": {
      "image/png": "[encoded data removed]",
      "text/plain": [
       "<Figure size 432x288 with 1 Axes>"
      ]
     },
     "metadata": {
      "needs_background": "light"
     },
     "output_type": "display_data"
    }
   ],
   "source": [
    "sns.countplot(df1[\"Age\"])"
   ]
  },
  {
   "cell_type": "code",
   "execution_count": 500,
   "id": "35da77aa",
   "metadata": {},
   "outputs": [
    {
     "data": {
      "text/plain": [
       "<AxesSubplot:xlabel='Purchase', ylabel='Count'>"
      ]
     },
     "execution_count": 500,
     "metadata": {},
     "output_type": "execute_result"
    },
    {
     "data": {
      "image/png": "[encoded data removed]",
      "text/plain": [
       "<Figure size 432x288 with 1 Axes>"
      ]
     },
     "metadata": {
      "needs_background": "light"
     },
     "output_type": "display_data"
    }
   ],
   "source": [
    "sns.histplot(df1['Purchase'],kde=True)"
   ]
  },
  {
   "cell_type": "markdown",
   "id": "91851ef6",
   "metadata": {},
   "source": [
    "# Checking the outliers "
   ]
  },
  {
   "cell_type": "code",
   "execution_count": 501,
   "id": "e1e13f9c",
   "metadata": {},
   "outputs": [
    {
     "name": "stderr",
     "output_type": "stream",
     "text": [
      "C:\\Users\\prash\\anaconda3\\lib\\site-packages\\seaborn\\_decorators.py:36: FutureWarning: Pass the following variable as a keyword arg: x. From version 0.12, the only valid positional argument will be `data`, and passing other arguments without an explicit keyword will result in an error or misinterpretation.\n",
      "  warnings.warn(\n"
     ]
    },
    {
     "data": {
      "text/plain": [
       "<AxesSubplot:xlabel='Purchase'>"
      ]
     },
     "execution_count": 501,
     "metadata": {},
     "output_type": "execute_result"
    },
    {
     "data": {
      "image/png": "[encoded data removed]",
      "text/plain": [
       "<Figure size 432x288 with 1 Axes>"
      ]
     },
     "metadata": {
      "needs_background": "light"
     },
     "output_type": "display_data"
    }
   ],
   "source": [
    "sns.boxplot(df[\"Purchase\"])"
   ]
  },
  {
   "cell_type": "markdown",
   "id": "f7056d92",
   "metadata": {},
   "source": [
    "# Removing the Outliers "
   ]
  },
  {
   "cell_type": "code",
   "execution_count": 502,
   "id": "dcfba50d",
   "metadata": {},
   "outputs": [
    {
     "name": "stderr",
     "output_type": "stream",
     "text": [
      "C:\\Users\\prash\\AppData\\Local\\Temp\\ipykernel_14052\\3896991731.py:1: SettingWithCopyWarning: \n",
      "A value is trying to be set on a copy of a slice from a DataFrame.\n",
      "Try using .loc[row_indexer,col_indexer] = value instead\n",
      "\n",
      "See the caveats in the documentation: https://pandas.pydata.org/pandas-docs/stable/user_guide/indexing.html#returning-a-view-versus-a-copy\n",
      "  df1[\"Purchase\"]=sorted(df1[\"Purchase\"])\n"
     ]
    }
   ],
   "source": [
    "df1[\"Purchase\"]=sorted(df1[\"Purchase\"])"
   ]
  },
  {
   "cell_type": "code",
   "execution_count": 503,
   "id": "ddfc9d71",
   "metadata": {},
   "outputs": [],
   "source": [
    "q1,q3=np.percentile(df1[\"Purchase\"],(25,75))\n",
    "IQR=q3-q1\n",
    "lower_fence=q1-(1.5*IQR)\n",
    "upper_fence=q3+(1.5*IQR)"
   ]
  },
  {
   "cell_type": "code",
   "execution_count": 504,
   "id": "00dab2d9",
   "metadata": {},
   "outputs": [
    {
     "data": {
      "text/plain": [
       "-3304.0"
      ]
     },
     "execution_count": 504,
     "metadata": {},
     "output_type": "execute_result"
    }
   ],
   "source": [
    "lower_fence"
   ]
  },
  {
   "cell_type": "code",
   "execution_count": 505,
   "id": "5f972e40",
   "metadata": {},
   "outputs": [
    {
     "data": {
      "text/plain": [
       "21058.0"
      ]
     },
     "execution_count": 505,
     "metadata": {},
     "output_type": "execute_result"
    }
   ],
   "source": [
    "upper_fence"
   ]
  },
  {
   "cell_type": "code",
   "execution_count": 506,
   "id": "7085e8fe",
   "metadata": {},
   "outputs": [
    {
     "name": "stderr",
     "output_type": "stream",
     "text": [
      "C:\\Users\\prash\\AppData\\Local\\Temp\\ipykernel_14052\\2081010292.py:1: SettingWithCopyWarning: \n",
      "A value is trying to be set on a copy of a slice from a DataFrame\n",
      "\n",
      "See the caveats in the documentation: https://pandas.pydata.org/pandas-docs/stable/user_guide/indexing.html#returning-a-view-versus-a-copy\n",
      "  df1.drop(df1[\"Purchase\"][(df1[\"Purchase\"]<lower_fence) | (df1[\"Purchase\"]>upper_fence)].index , inplace=True)\n"
     ]
    }
   ],
   "source": [
    "df1.drop(df1[\"Purchase\"][(df1[\"Purchase\"]<lower_fence) | (df1[\"Purchase\"]>upper_fence)].index , inplace=True)"
   ]
  },
  {
   "cell_type": "code",
   "execution_count": 507,
   "id": "ea83ffae",
   "metadata": {},
   "outputs": [
    {
     "name": "stderr",
     "output_type": "stream",
     "text": [
      "C:\\Users\\prash\\anaconda3\\lib\\site-packages\\seaborn\\_decorators.py:36: FutureWarning: Pass the following variable as a keyword arg: x. From version 0.12, the only valid positional argument will be `data`, and passing other arguments without an explicit keyword will result in an error or misinterpretation.\n",
      "  warnings.warn(\n"
     ]
    },
    {
     "data": {
      "text/plain": [
       "<AxesSubplot:xlabel='Purchase'>"
      ]
     },
     "execution_count": 507,
     "metadata": {},
     "output_type": "execute_result"
    },
    {
     "data": {
      "image/png": "[encoded data removed]",
      "text/plain": [
       "<Figure size 432x288 with 1 Axes>"
      ]
     },
     "metadata": {
      "needs_background": "light"
     },
     "output_type": "display_data"
    }
   ],
   "source": [
    "sns.boxplot(df1[\"Purchase\"])"
   ]
  },
  {
   "cell_type": "markdown",
   "id": "155d2c81",
   "metadata": {},
   "source": [
    "# Checking the outliers in the CATG1"
   ]
  },
  {
   "cell_type": "code",
   "execution_count": 508,
   "id": "ab2cf859",
   "metadata": {},
   "outputs": [
    {
     "name": "stderr",
     "output_type": "stream",
     "text": [
      "C:\\Users\\prash\\anaconda3\\lib\\site-packages\\seaborn\\_decorators.py:36: FutureWarning: Pass the following variable as a keyword arg: x. From version 0.12, the only valid positional argument will be `data`, and passing other arguments without an explicit keyword will result in an error or misinterpretation.\n",
      "  warnings.warn(\n"
     ]
    },
    {
     "data": {
      "text/plain": [
       "<AxesSubplot:xlabel='CATG1'>"
      ]
     },
     "execution_count": 508,
     "metadata": {},
     "output_type": "execute_result"
    },
    {
     "data": {
      "image/png": "[encoded data removed]",
      "text/plain": [
       "<Figure size 432x288 with 1 Axes>"
      ]
     },
     "metadata": {
      "needs_background": "light"
     },
     "output_type": "display_data"
    }
   ],
   "source": [
    "sns.boxplot(df1[\"CATG1\"])"
   ]
  },
  {
   "cell_type": "markdown",
   "id": "0d9549dc",
   "metadata": {},
   "source": [
    "# Removing the outliers from CATG1"
   ]
  },
  {
   "cell_type": "code",
   "execution_count": 509,
   "id": "d76b466e",
   "metadata": {},
   "outputs": [
    {
     "name": "stderr",
     "output_type": "stream",
     "text": [
      "C:\\Users\\prash\\AppData\\Local\\Temp\\ipykernel_14052\\2295034592.py:1: SettingWithCopyWarning: \n",
      "A value is trying to be set on a copy of a slice from a DataFrame.\n",
      "Try using .loc[row_indexer,col_indexer] = value instead\n",
      "\n",
      "See the caveats in the documentation: https://pandas.pydata.org/pandas-docs/stable/user_guide/indexing.html#returning-a-view-versus-a-copy\n",
      "  df1[\"CATG1\"]=sorted(df1[\"CATG1\"])\n"
     ]
    }
   ],
   "source": [
    "df1[\"CATG1\"]=sorted(df1[\"CATG1\"])\n",
    "q1,q3=np.percentile(df1[\"CATG1\"],(25,75))"
   ]
  },
  {
   "cell_type": "code",
   "execution_count": 510,
   "id": "b6fd6c31",
   "metadata": {},
   "outputs": [],
   "source": [
    "IQR=q3-q1\n",
    "lower_fence=q1-(1.5*IQR)\n",
    "upper_fence=q3+(1.5*IQR)"
   ]
  },
  {
   "cell_type": "code",
   "execution_count": 511,
   "id": "d72f2419",
   "metadata": {},
   "outputs": [
    {
     "data": {
      "text/plain": [
       "-7.0"
      ]
     },
     "execution_count": 511,
     "metadata": {},
     "output_type": "execute_result"
    }
   ],
   "source": [
    "lower_fence"
   ]
  },
  {
   "cell_type": "code",
   "execution_count": 512,
   "id": "64c571cc",
   "metadata": {},
   "outputs": [
    {
     "data": {
      "text/plain": [
       "17.0"
      ]
     },
     "execution_count": 512,
     "metadata": {},
     "output_type": "execute_result"
    }
   ],
   "source": [
    "upper_fence"
   ]
  },
  {
   "cell_type": "code",
   "execution_count": 513,
   "id": "2cb138f4",
   "metadata": {},
   "outputs": [
    {
     "name": "stderr",
     "output_type": "stream",
     "text": [
      "C:\\Users\\prash\\AppData\\Local\\Temp\\ipykernel_14052\\2317036474.py:2: SettingWithCopyWarning: \n",
      "A value is trying to be set on a copy of a slice from a DataFrame\n",
      "\n",
      "See the caveats in the documentation: https://pandas.pydata.org/pandas-docs/stable/user_guide/indexing.html#returning-a-view-versus-a-copy\n",
      "  df1.drop(df1[\"CATG1\"][(df1[\"CATG1\"]<lower_fence)|(df1[\"CATG1\"]>upper_fence)].index,inplace=True)\n"
     ]
    }
   ],
   "source": [
    "###OUTLIERS Data points \n",
    "df1.drop(df1[\"CATG1\"][(df1[\"CATG1\"]<lower_fence)|(df1[\"CATG1\"]>upper_fence)].index,inplace=True)"
   ]
  },
  {
   "cell_type": "code",
   "execution_count": 514,
   "id": "ca990dc8",
   "metadata": {},
   "outputs": [
    {
     "name": "stderr",
     "output_type": "stream",
     "text": [
      "C:\\Users\\prash\\anaconda3\\lib\\site-packages\\seaborn\\_decorators.py:36: FutureWarning: Pass the following variable as a keyword arg: x. From version 0.12, the only valid positional argument will be `data`, and passing other arguments without an explicit keyword will result in an error or misinterpretation.\n",
      "  warnings.warn(\n"
     ]
    },
    {
     "data": {
      "text/plain": [
       "<AxesSubplot:xlabel='CATG1'>"
      ]
     },
     "execution_count": 514,
     "metadata": {},
     "output_type": "execute_result"
    },
    {
     "data": {
      "image/png": "[encoded data removed]",
      "text/plain": [
       "<Figure size 432x288 with 1 Axes>"
      ]
     },
     "metadata": {
      "needs_background": "light"
     },
     "output_type": "display_data"
    }
   ],
   "source": [
    "###After removing the data points \n",
    "sns.boxplot(df1[\"CATG1\"])"
   ]
  },
  {
   "cell_type": "markdown",
   "id": "cfe19650",
   "metadata": {},
   "source": [
    "# Checking the outliers in the CATG2"
   ]
  },
  {
   "cell_type": "code",
   "execution_count": 515,
   "id": "9a628d38",
   "metadata": {},
   "outputs": [
    {
     "name": "stderr",
     "output_type": "stream",
     "text": [
      "C:\\Users\\prash\\anaconda3\\lib\\site-packages\\seaborn\\_decorators.py:36: FutureWarning: Pass the following variable as a keyword arg: x. From version 0.12, the only valid positional argument will be `data`, and passing other arguments without an explicit keyword will result in an error or misinterpretation.\n",
      "  warnings.warn(\n"
     ]
    },
    {
     "data": {
      "text/plain": [
       "<AxesSubplot:xlabel='CATG2'>"
      ]
     },
     "execution_count": 515,
     "metadata": {},
     "output_type": "execute_result"
    },
    {
     "data": {
      "image/png": "[encoded data removed]",
      "text/plain": [
       "<Figure size 432x288 with 1 Axes>"
      ]
     },
     "metadata": {
      "needs_background": "light"
     },
     "output_type": "display_data"
    }
   ],
   "source": [
    "sns.boxplot(df1[\"CATG2\"])"
   ]
  },
  {
   "cell_type": "markdown",
   "id": "ea9e700a",
   "metadata": {},
   "source": [
    "There is no outliers in the CATG2 "
   ]
  },
  {
   "cell_type": "code",
   "execution_count": 516,
   "id": "8e3313b6",
   "metadata": {},
   "outputs": [
    {
     "name": "stderr",
     "output_type": "stream",
     "text": [
      "C:\\Users\\prash\\anaconda3\\lib\\site-packages\\seaborn\\_decorators.py:36: FutureWarning: Pass the following variable as a keyword arg: x. From version 0.12, the only valid positional argument will be `data`, and passing other arguments without an explicit keyword will result in an error or misinterpretation.\n",
      "  warnings.warn(\n"
     ]
    },
    {
     "data": {
      "text/plain": [
       "<AxesSubplot:xlabel='CATG3'>"
      ]
     },
     "execution_count": 516,
     "metadata": {},
     "output_type": "execute_result"
    },
    {
     "data": {
      "image/png": "[encoded data removed]",
      "text/plain": [
       "<Figure size 432x288 with 1 Axes>"
      ]
     },
     "metadata": {
      "needs_background": "light"
     },
     "output_type": "display_data"
    }
   ],
   "source": [
    "sns.boxplot(df1[\"CATG3\"])"
   ]
  },
  {
   "cell_type": "markdown",
   "id": "d9d1b82b",
   "metadata": {},
   "source": [
    "There is no outliers in the CATG3"
   ]
  },
  {
   "cell_type": "code",
   "execution_count": 517,
   "id": "6bfc0357",
   "metadata": {},
   "outputs": [
    {
     "data": {
      "text/plain": [
       "Product_ID           0\n",
       "Gender               0\n",
       "Age                  0\n",
       "Occupation           0\n",
       "City_Category        0\n",
       "Marital_Status       0\n",
       "CATG1                0\n",
       "CATG2             3197\n",
       "CATG3             6934\n",
       "Purchase             0\n",
       "dtype: int64"
      ]
     },
     "execution_count": 517,
     "metadata": {},
     "output_type": "execute_result"
    }
   ],
   "source": [
    "df1.isnull().sum()"
   ]
  },
  {
   "cell_type": "code",
   "execution_count": 518,
   "id": "20f9667f",
   "metadata": {},
   "outputs": [
    {
     "data": {
      "text/plain": [
       "9"
      ]
     },
     "execution_count": 518,
     "metadata": {},
     "output_type": "execute_result"
    }
   ],
   "source": [
    "CATG2_mean=int(df1[\"CATG2\"].mean())\n",
    "CATG2_mean"
   ]
  },
  {
   "cell_type": "markdown",
   "id": "a6fbd14d",
   "metadata": {},
   "source": [
    "### Replacing the Null values with mean of the CATG2"
   ]
  },
  {
   "cell_type": "code",
   "execution_count": 519,
   "id": "7e527361",
   "metadata": {},
   "outputs": [
    {
     "name": "stderr",
     "output_type": "stream",
     "text": [
      "C:\\Users\\prash\\AppData\\Local\\Temp\\ipykernel_14052\\1022520128.py:1: SettingWithCopyWarning: \n",
      "A value is trying to be set on a copy of a slice from a DataFrame\n",
      "\n",
      "See the caveats in the documentation: https://pandas.pydata.org/pandas-docs/stable/user_guide/indexing.html#returning-a-view-versus-a-copy\n",
      "  df1[\"CATG2\"].fillna(value=CATG2_mean,inplace=True)\n"
     ]
    }
   ],
   "source": [
    "df1[\"CATG2\"].fillna(value=CATG2_mean,inplace=True)"
   ]
  },
  {
   "cell_type": "code",
   "execution_count": 520,
   "id": "bbe39525",
   "metadata": {},
   "outputs": [
    {
     "data": {
      "text/plain": [
       "0    9.0\n",
       "Name: CATG2, dtype: float64"
      ]
     },
     "execution_count": 520,
     "metadata": {},
     "output_type": "execute_result"
    }
   ],
   "source": [
    "df1[\"CATG2\"].mode()"
   ]
  },
  {
   "cell_type": "code",
   "execution_count": 521,
   "id": "522ecda7",
   "metadata": {},
   "outputs": [
    {
     "data": {
      "text/plain": [
       "9.0"
      ]
     },
     "execution_count": 521,
     "metadata": {},
     "output_type": "execute_result"
    }
   ],
   "source": [
    "df1[\"CATG2\"].median()"
   ]
  },
  {
   "cell_type": "markdown",
   "id": "9ea80d9d",
   "metadata": {},
   "source": [
    "### Null Value replacemant of CATG3"
   ]
  },
  {
   "cell_type": "code",
   "execution_count": 524,
   "id": "a1d1b4d1",
   "metadata": {},
   "outputs": [
    {
     "data": {
      "text/plain": [
       "12"
      ]
     },
     "execution_count": 524,
     "metadata": {},
     "output_type": "execute_result"
    }
   ],
   "source": [
    "CATG3_mean=int(df1[\"CATG3\"].mean())\n",
    "CATG3_mean"
   ]
  },
  {
   "cell_type": "code",
   "execution_count": 525,
   "id": "9ee6d128",
   "metadata": {},
   "outputs": [
    {
     "data": {
      "text/plain": [
       "0    16.0\n",
       "Name: CATG3, dtype: float64"
      ]
     },
     "execution_count": 525,
     "metadata": {},
     "output_type": "execute_result"
    }
   ],
   "source": [
    "df1[\"CATG3\"].mode()"
   ]
  },
  {
   "cell_type": "code",
   "execution_count": 527,
   "id": "52886590",
   "metadata": {},
   "outputs": [
    {
     "data": {
      "text/plain": [
       "14.0"
      ]
     },
     "execution_count": 527,
     "metadata": {},
     "output_type": "execute_result"
    }
   ],
   "source": [
    "df1[\"CATG3\"].median()"
   ]
  },
  {
   "cell_type": "code",
   "execution_count": 528,
   "id": "f055a84f",
   "metadata": {},
   "outputs": [
    {
     "name": "stderr",
     "output_type": "stream",
     "text": [
      "C:\\Users\\prash\\AppData\\Local\\Temp\\ipykernel_14052\\149580768.py:1: SettingWithCopyWarning: \n",
      "A value is trying to be set on a copy of a slice from a DataFrame\n",
      "\n",
      "See the caveats in the documentation: https://pandas.pydata.org/pandas-docs/stable/user_guide/indexing.html#returning-a-view-versus-a-copy\n",
      "  df1[\"CATG3\"].fillna(value=CATG3_mean,inplace=True)\n"
     ]
    }
   ],
   "source": [
    "df1[\"CATG3\"].fillna(value=CATG3_mean,inplace=True)"
   ]
  },
  {
   "cell_type": "code",
   "execution_count": 530,
   "id": "88ef0c5b",
   "metadata": {},
   "outputs": [
    {
     "data": {
      "text/plain": [
       "Product_ID        0\n",
       "Gender            0\n",
       "Age               0\n",
       "Occupation        0\n",
       "City_Category     0\n",
       "Marital_Status    0\n",
       "CATG1             0\n",
       "CATG2             0\n",
       "CATG3             0\n",
       "Purchase          0\n",
       "dtype: int64"
      ]
     },
     "execution_count": 530,
     "metadata": {},
     "output_type": "execute_result"
    }
   ],
   "source": [
    "## Rechecking the Null value \n",
    "df1.isnull().sum()"
   ]
  },
  {
   "cell_type": "markdown",
   "id": "faeb3b46",
   "metadata": {},
   "source": [
    "### All null Value hs been replaced "
   ]
  },
  {
   "cell_type": "markdown",
   "id": "f9475964",
   "metadata": {},
   "source": [
    "# Spliting the data into Independent and Dependent Variable "
   ]
  },
  {
   "cell_type": "code",
   "execution_count": 546,
   "id": "50e0183b",
   "metadata": {},
   "outputs": [],
   "source": [
    "X=df1.iloc[:,:-1]\n",
    "Y=df1.iloc[:,-1]"
   ]
  },
  {
   "cell_type": "markdown",
   "id": "fb6d9cfa",
   "metadata": {},
   "source": [
    "# Spliting the data into Test and Train "
   ]
  },
  {
   "cell_type": "code",
   "execution_count": 548,
   "id": "122a4cef",
   "metadata": {},
   "outputs": [],
   "source": [
    "from sklearn.model_selection import train_test_split\n",
    "X_train,X_test,Y_test,Y_train= train_test_split(X,Y,test_size=0.33,random_state=36)"
   ]
  },
  {
   "cell_type": "code",
   "execution_count": 542,
   "id": "f083d274",
   "metadata": {},
   "outputs": [
    {
     "data": {
      "text/html": [
       "<div>\n",
       "<style scoped>\n",
       "    .dataframe tbody tr th:only-of-type {\n",
       "        vertical-align: middle;\n",
       "    }\n",
       "\n",
       "    .dataframe tbody tr th {\n",
       "        vertical-align: top;\n",
       "    }\n",
       "\n",
       "    .dataframe thead th {\n",
       "        text-align: right;\n",
       "    }\n",
       "</style>\n",
       "<table border=\"1\" class=\"dataframe\">\n",
       "  <thead>\n",
       "    <tr style=\"text-align: right;\">\n",
       "      <th></th>\n",
       "      <th>Product_ID</th>\n",
       "      <th>Gender</th>\n",
       "      <th>Age</th>\n",
       "      <th>Occupation</th>\n",
       "      <th>City_Category</th>\n",
       "      <th>Marital_Status</th>\n",
       "      <th>CATG1</th>\n",
       "      <th>CATG2</th>\n",
       "      <th>CATG3</th>\n",
       "    </tr>\n",
       "  </thead>\n",
       "  <tbody>\n",
       "    <tr>\n",
       "      <th>136</th>\n",
       "      <td>P00346642</td>\n",
       "      <td>1</td>\n",
       "      <td>30</td>\n",
       "      <td>7</td>\n",
       "      <td>2</td>\n",
       "      <td>1</td>\n",
       "      <td>1</td>\n",
       "      <td>9.0</td>\n",
       "      <td>12.0</td>\n",
       "    </tr>\n",
       "    <tr>\n",
       "      <th>4647</th>\n",
       "      <td>P00128942</td>\n",
       "      <td>1</td>\n",
       "      <td>17</td>\n",
       "      <td>10</td>\n",
       "      <td>3</td>\n",
       "      <td>0</td>\n",
       "      <td>5</td>\n",
       "      <td>11.0</td>\n",
       "      <td>12.0</td>\n",
       "    </tr>\n",
       "    <tr>\n",
       "      <th>7029</th>\n",
       "      <td>P00268442</td>\n",
       "      <td>1</td>\n",
       "      <td>20</td>\n",
       "      <td>14</td>\n",
       "      <td>2</td>\n",
       "      <td>0</td>\n",
       "      <td>8</td>\n",
       "      <td>17.0</td>\n",
       "      <td>12.0</td>\n",
       "    </tr>\n",
       "    <tr>\n",
       "      <th>439</th>\n",
       "      <td>P00250842</td>\n",
       "      <td>1</td>\n",
       "      <td>20</td>\n",
       "      <td>4</td>\n",
       "      <td>3</td>\n",
       "      <td>0</td>\n",
       "      <td>1</td>\n",
       "      <td>9.0</td>\n",
       "      <td>12.0</td>\n",
       "    </tr>\n",
       "    <tr>\n",
       "      <th>3776</th>\n",
       "      <td>P00216042</td>\n",
       "      <td>1</td>\n",
       "      <td>30</td>\n",
       "      <td>1</td>\n",
       "      <td>2</td>\n",
       "      <td>0</td>\n",
       "      <td>5</td>\n",
       "      <td>8.0</td>\n",
       "      <td>12.0</td>\n",
       "    </tr>\n",
       "    <tr>\n",
       "      <th>...</th>\n",
       "      <td>...</td>\n",
       "      <td>...</td>\n",
       "      <td>...</td>\n",
       "      <td>...</td>\n",
       "      <td>...</td>\n",
       "      <td>...</td>\n",
       "      <td>...</td>\n",
       "      <td>...</td>\n",
       "      <td>...</td>\n",
       "    </tr>\n",
       "    <tr>\n",
       "      <th>9466</th>\n",
       "      <td>P00101742</td>\n",
       "      <td>0</td>\n",
       "      <td>30</td>\n",
       "      <td>3</td>\n",
       "      <td>1</td>\n",
       "      <td>0</td>\n",
       "      <td>12</td>\n",
       "      <td>14.0</td>\n",
       "      <td>12.0</td>\n",
       "    </tr>\n",
       "    <tr>\n",
       "      <th>7329</th>\n",
       "      <td>P00276142</td>\n",
       "      <td>0</td>\n",
       "      <td>30</td>\n",
       "      <td>20</td>\n",
       "      <td>1</td>\n",
       "      <td>0</td>\n",
       "      <td>8</td>\n",
       "      <td>9.0</td>\n",
       "      <td>12.0</td>\n",
       "    </tr>\n",
       "    <tr>\n",
       "      <th>2984</th>\n",
       "      <td>P00100842</td>\n",
       "      <td>1</td>\n",
       "      <td>30</td>\n",
       "      <td>14</td>\n",
       "      <td>1</td>\n",
       "      <td>1</td>\n",
       "      <td>3</td>\n",
       "      <td>9.0</td>\n",
       "      <td>12.0</td>\n",
       "    </tr>\n",
       "    <tr>\n",
       "      <th>9118</th>\n",
       "      <td>P00116142</td>\n",
       "      <td>1</td>\n",
       "      <td>50</td>\n",
       "      <td>3</td>\n",
       "      <td>3</td>\n",
       "      <td>1</td>\n",
       "      <td>11</td>\n",
       "      <td>13.0</td>\n",
       "      <td>16.0</td>\n",
       "    </tr>\n",
       "    <tr>\n",
       "      <th>610</th>\n",
       "      <td>P00201342</td>\n",
       "      <td>1</td>\n",
       "      <td>45</td>\n",
       "      <td>17</td>\n",
       "      <td>3</td>\n",
       "      <td>0</td>\n",
       "      <td>1</td>\n",
       "      <td>2.0</td>\n",
       "      <td>9.0</td>\n",
       "    </tr>\n",
       "  </tbody>\n",
       "</table>\n",
       "<p>6633 rows × 9 columns</p>\n",
       "</div>"
      ],
      "text/plain": [
       "     Product_ID  Gender  Age  Occupation  City_Category  Marital_Status  \\\n",
       "136   P00346642       1   30           7              2               1   \n",
       "4647  P00128942       1   17          10              3               0   \n",
       "7029  P00268442       1   20          14              2               0   \n",
       "439   P00250842       1   20           4              3               0   \n",
       "3776  P00216042       1   30           1              2               0   \n",
       "...         ...     ...  ...         ...            ...             ...   \n",
       "9466  P00101742       0   30           3              1               0   \n",
       "7329  P00276142       0   30          20              1               0   \n",
       "2984  P00100842       1   30          14              1               1   \n",
       "9118  P00116142       1   50           3              3               1   \n",
       "610   P00201342       1   45          17              3               0   \n",
       "\n",
       "      CATG1  CATG2  CATG3  \n",
       "136       1    9.0   12.0  \n",
       "4647      5   11.0   12.0  \n",
       "7029      8   17.0   12.0  \n",
       "439       1    9.0   12.0  \n",
       "3776      5    8.0   12.0  \n",
       "...     ...    ...    ...  \n",
       "9466     12   14.0   12.0  \n",
       "7329      8    9.0   12.0  \n",
       "2984      3    9.0   12.0  \n",
       "9118     11   13.0   16.0  \n",
       "610       1    2.0    9.0  \n",
       "\n",
       "[6633 rows x 9 columns]"
      ]
     },
     "execution_count": 542,
     "metadata": {},
     "output_type": "execute_result"
    }
   ],
   "source": [
    "X_train"
   ]
  },
  {
   "cell_type": "code",
   "execution_count": 543,
   "id": "298acef7",
   "metadata": {},
   "outputs": [
    {
     "data": {
      "text/html": [
       "<div>\n",
       "<style scoped>\n",
       "    .dataframe tbody tr th:only-of-type {\n",
       "        vertical-align: middle;\n",
       "    }\n",
       "\n",
       "    .dataframe tbody tr th {\n",
       "        vertical-align: top;\n",
       "    }\n",
       "\n",
       "    .dataframe thead th {\n",
       "        text-align: right;\n",
       "    }\n",
       "</style>\n",
       "<table border=\"1\" class=\"dataframe\">\n",
       "  <thead>\n",
       "    <tr style=\"text-align: right;\">\n",
       "      <th></th>\n",
       "      <th>Product_ID</th>\n",
       "      <th>Gender</th>\n",
       "      <th>Age</th>\n",
       "      <th>Occupation</th>\n",
       "      <th>City_Category</th>\n",
       "      <th>Marital_Status</th>\n",
       "      <th>CATG1</th>\n",
       "      <th>CATG2</th>\n",
       "      <th>CATG3</th>\n",
       "    </tr>\n",
       "  </thead>\n",
       "  <tbody>\n",
       "    <tr>\n",
       "      <th>3634</th>\n",
       "      <td>P00114142</td>\n",
       "      <td>0</td>\n",
       "      <td>30</td>\n",
       "      <td>11</td>\n",
       "      <td>2</td>\n",
       "      <td>0</td>\n",
       "      <td>5</td>\n",
       "      <td>9.0</td>\n",
       "      <td>12.0</td>\n",
       "    </tr>\n",
       "    <tr>\n",
       "      <th>3141</th>\n",
       "      <td>P00085242</td>\n",
       "      <td>0</td>\n",
       "      <td>30</td>\n",
       "      <td>14</td>\n",
       "      <td>1</td>\n",
       "      <td>0</td>\n",
       "      <td>3</td>\n",
       "      <td>14.0</td>\n",
       "      <td>17.0</td>\n",
       "    </tr>\n",
       "    <tr>\n",
       "      <th>2006</th>\n",
       "      <td>P00338542</td>\n",
       "      <td>1</td>\n",
       "      <td>45</td>\n",
       "      <td>6</td>\n",
       "      <td>3</td>\n",
       "      <td>0</td>\n",
       "      <td>1</td>\n",
       "      <td>9.0</td>\n",
       "      <td>12.0</td>\n",
       "    </tr>\n",
       "    <tr>\n",
       "      <th>4967</th>\n",
       "      <td>P00139942</td>\n",
       "      <td>1</td>\n",
       "      <td>30</td>\n",
       "      <td>17</td>\n",
       "      <td>3</td>\n",
       "      <td>0</td>\n",
       "      <td>5</td>\n",
       "      <td>9.0</td>\n",
       "      <td>12.0</td>\n",
       "    </tr>\n",
       "    <tr>\n",
       "      <th>4634</th>\n",
       "      <td>P00102842</td>\n",
       "      <td>0</td>\n",
       "      <td>30</td>\n",
       "      <td>3</td>\n",
       "      <td>1</td>\n",
       "      <td>0</td>\n",
       "      <td>5</td>\n",
       "      <td>9.0</td>\n",
       "      <td>12.0</td>\n",
       "    </tr>\n",
       "    <tr>\n",
       "      <th>...</th>\n",
       "      <td>...</td>\n",
       "      <td>...</td>\n",
       "      <td>...</td>\n",
       "      <td>...</td>\n",
       "      <td>...</td>\n",
       "      <td>...</td>\n",
       "      <td>...</td>\n",
       "      <td>...</td>\n",
       "      <td>...</td>\n",
       "    </tr>\n",
       "    <tr>\n",
       "      <th>940</th>\n",
       "      <td>P00005042</td>\n",
       "      <td>1</td>\n",
       "      <td>20</td>\n",
       "      <td>16</td>\n",
       "      <td>1</td>\n",
       "      <td>0</td>\n",
       "      <td>1</td>\n",
       "      <td>16.0</td>\n",
       "      <td>12.0</td>\n",
       "    </tr>\n",
       "    <tr>\n",
       "      <th>1533</th>\n",
       "      <td>P00001242</td>\n",
       "      <td>1</td>\n",
       "      <td>45</td>\n",
       "      <td>16</td>\n",
       "      <td>2</td>\n",
       "      <td>0</td>\n",
       "      <td>1</td>\n",
       "      <td>11.0</td>\n",
       "      <td>12.0</td>\n",
       "    </tr>\n",
       "    <tr>\n",
       "      <th>3587</th>\n",
       "      <td>P00110942</td>\n",
       "      <td>0</td>\n",
       "      <td>30</td>\n",
       "      <td>0</td>\n",
       "      <td>2</td>\n",
       "      <td>0</td>\n",
       "      <td>5</td>\n",
       "      <td>2.0</td>\n",
       "      <td>12.0</td>\n",
       "    </tr>\n",
       "    <tr>\n",
       "      <th>3457</th>\n",
       "      <td>P00052542</td>\n",
       "      <td>1</td>\n",
       "      <td>45</td>\n",
       "      <td>20</td>\n",
       "      <td>1</td>\n",
       "      <td>1</td>\n",
       "      <td>4</td>\n",
       "      <td>9.0</td>\n",
       "      <td>12.0</td>\n",
       "    </tr>\n",
       "    <tr>\n",
       "      <th>2027</th>\n",
       "      <td>P00067942</td>\n",
       "      <td>0</td>\n",
       "      <td>55</td>\n",
       "      <td>3</td>\n",
       "      <td>1</td>\n",
       "      <td>0</td>\n",
       "      <td>1</td>\n",
       "      <td>14.0</td>\n",
       "      <td>12.0</td>\n",
       "    </tr>\n",
       "  </tbody>\n",
       "</table>\n",
       "<p>3267 rows × 9 columns</p>\n",
       "</div>"
      ],
      "text/plain": [
       "     Product_ID  Gender  Age  Occupation  City_Category  Marital_Status  \\\n",
       "3634  P00114142       0   30          11              2               0   \n",
       "3141  P00085242       0   30          14              1               0   \n",
       "2006  P00338542       1   45           6              3               0   \n",
       "4967  P00139942       1   30          17              3               0   \n",
       "4634  P00102842       0   30           3              1               0   \n",
       "...         ...     ...  ...         ...            ...             ...   \n",
       "940   P00005042       1   20          16              1               0   \n",
       "1533  P00001242       1   45          16              2               0   \n",
       "3587  P00110942       0   30           0              2               0   \n",
       "3457  P00052542       1   45          20              1               1   \n",
       "2027  P00067942       0   55           3              1               0   \n",
       "\n",
       "      CATG1  CATG2  CATG3  \n",
       "3634      5    9.0   12.0  \n",
       "3141      3   14.0   17.0  \n",
       "2006      1    9.0   12.0  \n",
       "4967      5    9.0   12.0  \n",
       "4634      5    9.0   12.0  \n",
       "...     ...    ...    ...  \n",
       "940       1   16.0   12.0  \n",
       "1533      1   11.0   12.0  \n",
       "3587      5    2.0   12.0  \n",
       "3457      4    9.0   12.0  \n",
       "2027      1   14.0   12.0  \n",
       "\n",
       "[3267 rows x 9 columns]"
      ]
     },
     "execution_count": 543,
     "metadata": {},
     "output_type": "execute_result"
    }
   ],
   "source": [
    "X_test"
   ]
  },
  {
   "cell_type": "code",
   "execution_count": 544,
   "id": "143c4663",
   "metadata": {},
   "outputs": [
    {
     "data": {
      "text/plain": [
       "136      1060\n",
       "4647     7884\n",
       "7029    11438\n",
       "439      1960\n",
       "3776     7047\n",
       "        ...  \n",
       "9466    19181\n",
       "7329    11750\n",
       "2984     6125\n",
       "9118    16388\n",
       "610      2263\n",
       "Name: Purchase, Length: 6633, dtype: int64"
      ]
     },
     "execution_count": 544,
     "metadata": {},
     "output_type": "execute_result"
    }
   ],
   "source": [
    "Y_test"
   ]
  },
  {
   "cell_type": "code",
   "execution_count": 550,
   "id": "fb864a50",
   "metadata": {},
   "outputs": [
    {
     "data": {
      "text/plain": [
       "3634    7000\n",
       "3141    6447\n",
       "2006    5275\n",
       "4967    8009\n",
       "4634    7879\n",
       "        ... \n",
       "940     3502\n",
       "1533    4369\n",
       "3587    6981\n",
       "3457    6936\n",
       "2027    5284\n",
       "Name: Purchase, Length: 3267, dtype: int64"
      ]
     },
     "execution_count": 550,
     "metadata": {},
     "output_type": "execute_result"
    }
   ],
   "source": [
    "Y_train"
   ]
  },
  {
   "cell_type": "code",
   "execution_count": null,
   "id": "4d4e6ea9",
   "metadata": {},
   "outputs": [],
   "source": []
  }
 ],
 "metadata": {
  "kernelspec": {
   "display_name": "Python 3 (ipykernel)",
   "language": "python",
   "name": "python3"
  },
  "language_info": {
   "codemirror_mode": {
    "name": "ipython",
    "version": 3
   },
   "file_extension": ".py",
   "mimetype": "text/x-python",
   "name": "python",
   "nbconvert_exporter": "python",
   "pygments_lexer": "ipython3",
   "version": "3.9.7"
  }
 },
 "nbformat": 4,
 "nbformat_minor": 5
}
