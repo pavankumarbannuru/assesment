{
 "cells": [
  {
   "cell_type": "code",
   "execution_count": 1,
   "id": "02935fc1",
   "metadata": {
    "ExecuteTime": {
     "end_time": "2022-09-21T15:47:11.014689Z",
     "start_time": "2022-09-21T15:47:10.563653Z"
    }
   },
   "outputs": [],
   "source": [
    "import pandas as pd \n",
    "import pickle"
   ]
  },
  {
   "cell_type": "code",
   "execution_count": 2,
   "id": "591bfc00",
   "metadata": {
    "ExecuteTime": {
     "end_time": "2022-09-21T15:47:31.270926Z",
     "start_time": "2022-09-21T15:47:30.546397Z"
    }
   },
   "outputs": [],
   "source": [
    "\n",
    "with open('nox_model.pkl', 'rb') as f:\n",
    "    x = pickle.load(f)"
   ]
  },
  {
   "cell_type": "code",
   "execution_count": 3,
   "id": "2e24f8d3",
   "metadata": {
    "ExecuteTime": {
     "end_time": "2022-09-21T15:47:33.955710Z",
     "start_time": "2022-09-21T15:47:33.941707Z"
    }
   },
   "outputs": [
    {
     "data": {
      "text/plain": [
       "RandomForestRegressor()"
      ]
     },
     "execution_count": 3,
     "metadata": {},
     "output_type": "execute_result"
    }
   ],
   "source": [
    "x"
   ]
  },
  {
   "cell_type": "code",
   "execution_count": 6,
   "id": "c6f9bc8c",
   "metadata": {
    "ExecuteTime": {
     "end_time": "2022-09-21T15:49:46.656230Z",
     "start_time": "2022-09-21T15:49:46.630002Z"
    }
   },
   "outputs": [],
   "source": [
    "df=pd.read_csv('final_data')"
   ]
  },
  {
   "cell_type": "code",
   "execution_count": 7,
   "id": "e4d7fa19",
   "metadata": {
    "ExecuteTime": {
     "end_time": "2022-09-21T15:49:47.919509Z",
     "start_time": "2022-09-21T15:49:47.898515Z"
    }
   },
   "outputs": [
    {
     "data": {
      "text/html": [
       "<div>\n",
       "<style scoped>\n",
       "    .dataframe tbody tr th:only-of-type {\n",
       "        vertical-align: middle;\n",
       "    }\n",
       "\n",
       "    .dataframe tbody tr th {\n",
       "        vertical-align: top;\n",
       "    }\n",
       "\n",
       "    .dataframe thead th {\n",
       "        text-align: right;\n",
       "    }\n",
       "</style>\n",
       "<table border=\"1\" class=\"dataframe\">\n",
       "  <thead>\n",
       "    <tr style=\"text-align: right;\">\n",
       "      <th></th>\n",
       "      <th>Unnamed: 0</th>\n",
       "      <th>DUST</th>\n",
       "      <th>LOAD</th>\n",
       "      <th>SOX</th>\n",
       "      <th>COAL FLOW</th>\n",
       "      <th>AIR FLOW</th>\n",
       "      <th>APH-A-inlet-O2</th>\n",
       "      <th>APH-B-inlet-O2</th>\n",
       "      <th>APH-A-outlet-O2</th>\n",
       "      <th>APH-B-outlet-O2</th>\n",
       "      <th>APH OUTLET TEMP-PASSA</th>\n",
       "      <th>APH OUTLET TEMP-PASSB</th>\n",
       "    </tr>\n",
       "  </thead>\n",
       "  <tbody>\n",
       "    <tr>\n",
       "      <th>0</th>\n",
       "      <td>1</td>\n",
       "      <td>90.80</td>\n",
       "      <td>219.169281</td>\n",
       "      <td>2058.0</td>\n",
       "      <td>160.247375</td>\n",
       "      <td>771.0</td>\n",
       "      <td>2.645082</td>\n",
       "      <td>2.914423</td>\n",
       "      <td>3.774693</td>\n",
       "      <td>3.774693</td>\n",
       "      <td>128.827459</td>\n",
       "      <td>131.418488</td>\n",
       "    </tr>\n",
       "    <tr>\n",
       "      <th>1</th>\n",
       "      <td>2</td>\n",
       "      <td>44.00</td>\n",
       "      <td>193.337067</td>\n",
       "      <td>1905.0</td>\n",
       "      <td>139.956100</td>\n",
       "      <td>782.0</td>\n",
       "      <td>4.643019</td>\n",
       "      <td>4.294496</td>\n",
       "      <td>5.754969</td>\n",
       "      <td>5.754969</td>\n",
       "      <td>129.108368</td>\n",
       "      <td>132.330617</td>\n",
       "    </tr>\n",
       "    <tr>\n",
       "      <th>2</th>\n",
       "      <td>3</td>\n",
       "      <td>44.90</td>\n",
       "      <td>191.797440</td>\n",
       "      <td>1866.0</td>\n",
       "      <td>139.279434</td>\n",
       "      <td>773.0</td>\n",
       "      <td>4.615278</td>\n",
       "      <td>4.364353</td>\n",
       "      <td>5.611253</td>\n",
       "      <td>5.611253</td>\n",
       "      <td>132.004634</td>\n",
       "      <td>134.760106</td>\n",
       "    </tr>\n",
       "    <tr>\n",
       "      <th>3</th>\n",
       "      <td>4</td>\n",
       "      <td>40.12</td>\n",
       "      <td>191.705933</td>\n",
       "      <td>1870.0</td>\n",
       "      <td>140.341476</td>\n",
       "      <td>768.0</td>\n",
       "      <td>4.522539</td>\n",
       "      <td>4.274601</td>\n",
       "      <td>5.575839</td>\n",
       "      <td>5.575839</td>\n",
       "      <td>131.639511</td>\n",
       "      <td>134.136602</td>\n",
       "    </tr>\n",
       "    <tr>\n",
       "      <th>4</th>\n",
       "      <td>5</td>\n",
       "      <td>40.00</td>\n",
       "      <td>190.005066</td>\n",
       "      <td>1887.0</td>\n",
       "      <td>141.173676</td>\n",
       "      <td>768.0</td>\n",
       "      <td>4.230556</td>\n",
       "      <td>4.113577</td>\n",
       "      <td>5.336401</td>\n",
       "      <td>5.336401</td>\n",
       "      <td>131.172384</td>\n",
       "      <td>133.700633</td>\n",
       "    </tr>\n",
       "    <tr>\n",
       "      <th>...</th>\n",
       "      <td>...</td>\n",
       "      <td>...</td>\n",
       "      <td>...</td>\n",
       "      <td>...</td>\n",
       "      <td>...</td>\n",
       "      <td>...</td>\n",
       "      <td>...</td>\n",
       "      <td>...</td>\n",
       "      <td>...</td>\n",
       "      <td>...</td>\n",
       "      <td>...</td>\n",
       "      <td>...</td>\n",
       "    </tr>\n",
       "    <tr>\n",
       "      <th>318</th>\n",
       "      <td>319</td>\n",
       "      <td>202.00</td>\n",
       "      <td>280.991913</td>\n",
       "      <td>1602.0</td>\n",
       "      <td>224.756393</td>\n",
       "      <td>1058.0</td>\n",
       "      <td>2.609954</td>\n",
       "      <td>2.855597</td>\n",
       "      <td>3.706730</td>\n",
       "      <td>3.706730</td>\n",
       "      <td>147.120422</td>\n",
       "      <td>150.316071</td>\n",
       "    </tr>\n",
       "    <tr>\n",
       "      <th>319</th>\n",
       "      <td>320</td>\n",
       "      <td>202.00</td>\n",
       "      <td>281.414917</td>\n",
       "      <td>1602.0</td>\n",
       "      <td>224.468277</td>\n",
       "      <td>1065.0</td>\n",
       "      <td>2.553551</td>\n",
       "      <td>2.744499</td>\n",
       "      <td>3.681642</td>\n",
       "      <td>3.681642</td>\n",
       "      <td>146.625107</td>\n",
       "      <td>149.817220</td>\n",
       "    </tr>\n",
       "    <tr>\n",
       "      <th>320</th>\n",
       "      <td>321</td>\n",
       "      <td>252.00</td>\n",
       "      <td>275.979797</td>\n",
       "      <td>1602.0</td>\n",
       "      <td>225.046463</td>\n",
       "      <td>1053.0</td>\n",
       "      <td>2.936583</td>\n",
       "      <td>2.922196</td>\n",
       "      <td>3.923084</td>\n",
       "      <td>3.923084</td>\n",
       "      <td>146.369191</td>\n",
       "      <td>149.502660</td>\n",
       "    </tr>\n",
       "    <tr>\n",
       "      <th>321</th>\n",
       "      <td>322</td>\n",
       "      <td>299.00</td>\n",
       "      <td>276.770416</td>\n",
       "      <td>1602.0</td>\n",
       "      <td>224.916992</td>\n",
       "      <td>1047.0</td>\n",
       "      <td>2.883361</td>\n",
       "      <td>2.909387</td>\n",
       "      <td>4.035063</td>\n",
       "      <td>4.035063</td>\n",
       "      <td>146.193136</td>\n",
       "      <td>149.266301</td>\n",
       "    </tr>\n",
       "    <tr>\n",
       "      <th>322</th>\n",
       "      <td>323</td>\n",
       "      <td>193.00</td>\n",
       "      <td>279.781921</td>\n",
       "      <td>1602.0</td>\n",
       "      <td>224.502472</td>\n",
       "      <td>1055.0</td>\n",
       "      <td>2.843870</td>\n",
       "      <td>3.033844</td>\n",
       "      <td>3.755615</td>\n",
       "      <td>3.755615</td>\n",
       "      <td>142.019068</td>\n",
       "      <td>144.889893</td>\n",
       "    </tr>\n",
       "  </tbody>\n",
       "</table>\n",
       "<p>323 rows × 12 columns</p>\n",
       "</div>"
      ],
      "text/plain": [
       "     Unnamed: 0    DUST       LOAD      SOX   COAL FLOW  AIR FLOW  \\\n",
       "0             1   90.80  219.169281  2058.0  160.247375     771.0   \n",
       "1             2   44.00  193.337067  1905.0  139.956100     782.0   \n",
       "2             3   44.90  191.797440  1866.0  139.279434     773.0   \n",
       "3             4   40.12  191.705933  1870.0  140.341476     768.0   \n",
       "4             5   40.00  190.005066  1887.0  141.173676     768.0   \n",
       "..          ...     ...         ...     ...         ...       ...   \n",
       "318         319  202.00  280.991913  1602.0  224.756393    1058.0   \n",
       "319         320  202.00  281.414917  1602.0  224.468277    1065.0   \n",
       "320         321  252.00  275.979797  1602.0  225.046463    1053.0   \n",
       "321         322  299.00  276.770416  1602.0  224.916992    1047.0   \n",
       "322         323  193.00  279.781921  1602.0  224.502472    1055.0   \n",
       "\n",
       "     APH-A-inlet-O2  APH-B-inlet-O2  APH-A-outlet-O2  APH-B-outlet-O2  \\\n",
       "0          2.645082        2.914423         3.774693         3.774693   \n",
       "1          4.643019        4.294496         5.754969         5.754969   \n",
       "2          4.615278        4.364353         5.611253         5.611253   \n",
       "3          4.522539        4.274601         5.575839         5.575839   \n",
       "4          4.230556        4.113577         5.336401         5.336401   \n",
       "..              ...             ...              ...              ...   \n",
       "318        2.609954        2.855597         3.706730         3.706730   \n",
       "319        2.553551        2.744499         3.681642         3.681642   \n",
       "320        2.936583        2.922196         3.923084         3.923084   \n",
       "321        2.883361        2.909387         4.035063         4.035063   \n",
       "322        2.843870        3.033844         3.755615         3.755615   \n",
       "\n",
       "     APH OUTLET TEMP-PASSA  APH OUTLET TEMP-PASSB  \n",
       "0               128.827459             131.418488  \n",
       "1               129.108368             132.330617  \n",
       "2               132.004634             134.760106  \n",
       "3               131.639511             134.136602  \n",
       "4               131.172384             133.700633  \n",
       "..                     ...                    ...  \n",
       "318             147.120422             150.316071  \n",
       "319             146.625107             149.817220  \n",
       "320             146.369191             149.502660  \n",
       "321             146.193136             149.266301  \n",
       "322             142.019068             144.889893  \n",
       "\n",
       "[323 rows x 12 columns]"
      ]
     },
     "execution_count": 7,
     "metadata": {},
     "output_type": "execute_result"
    }
   ],
   "source": [
    "df"
   ]
  },
  {
   "cell_type": "code",
   "execution_count": 10,
   "id": "8915e7c2",
   "metadata": {
    "ExecuteTime": {
     "end_time": "2022-09-21T15:52:30.140128Z",
     "start_time": "2022-09-21T15:52:30.124130Z"
    }
   },
   "outputs": [
    {
     "name": "stderr",
     "output_type": "stream",
     "text": [
      "C:\\Users\\pbann\\Anaconda3\\lib\\site-packages\\sklearn\\base.py:450: UserWarning: X does not have valid feature names, but RandomForestRegressor was fitted with feature names\n",
      "  warnings.warn(\n"
     ]
    },
    {
     "data": {
      "text/plain": [
       "array([664.55])"
      ]
     },
     "execution_count": 10,
     "metadata": {},
     "output_type": "execute_result"
    }
   ],
   "source": [
    "x.predict([[90.80,219.169281,2058.0,160.247375,771.0,2.645082,2.914423,3.774693,3.774693,128.827459,131.418488]])"
   ]
  },
  {
   "cell_type": "code",
   "execution_count": null,
   "id": "4457f3ac",
   "metadata": {},
   "outputs": [],
   "source": []
  }
 ],
 "metadata": {
  "kernelspec": {
   "display_name": "Python 3 (ipykernel)",
   "language": "python",
   "name": "python3"
  },
  "language_info": {
   "codemirror_mode": {
    "name": "ipython",
    "version": 3
   },
   "file_extension": ".py",
   "mimetype": "text/x-python",
   "name": "python",
   "nbconvert_exporter": "python",
   "pygments_lexer": "ipython3",
   "version": "3.9.7"
  }
 },
 "nbformat": 4,
 "nbformat_minor": 5
}
