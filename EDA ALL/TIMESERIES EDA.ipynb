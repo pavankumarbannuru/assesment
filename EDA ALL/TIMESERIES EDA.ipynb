{
 "cells": [
  {
   "cell_type": "code",
   "execution_count": 1,
   "id": "d3f3f28a",
   "metadata": {
    "ExecuteTime": {
     "end_time": "2022-06-12T04:58:47.818312Z",
     "start_time": "2022-06-12T04:58:40.443713Z"
    }
   },
   "outputs": [
    {
     "name": "stdout",
     "output_type": "stream",
     "text": [
      "Collecting pandas-datareader\n",
      "  Downloading pandas_datareader-0.10.0-py3-none-any.whl (109 kB)\n",
      "Requirement already satisfied: lxml in c:\\users\\pbann\\anaconda3\\lib\\site-packages (from pandas-datareader) (4.6.3)\n",
      "Requirement already satisfied: requests>=2.19.0 in c:\\users\\pbann\\anaconda3\\lib\\site-packages (from pandas-datareader) (2.26.0)\n",
      "Requirement already satisfied: pandas>=0.23 in c:\\users\\pbann\\anaconda3\\lib\\site-packages (from pandas-datareader) (1.3.4)\n",
      "Requirement already satisfied: pytz>=2017.3 in c:\\users\\pbann\\anaconda3\\lib\\site-packages (from pandas>=0.23->pandas-datareader) (2021.3)\n",
      "Requirement already satisfied: python-dateutil>=2.7.3 in c:\\users\\pbann\\anaconda3\\lib\\site-packages (from pandas>=0.23->pandas-datareader) (2.8.2)\n",
      "Requirement already satisfied: numpy>=1.17.3 in c:\\users\\pbann\\anaconda3\\lib\\site-packages (from pandas>=0.23->pandas-datareader) (1.20.3)\n",
      "Requirement already satisfied: six>=1.5 in c:\\users\\pbann\\anaconda3\\lib\\site-packages (from python-dateutil>=2.7.3->pandas>=0.23->pandas-datareader) (1.16.0)\n",
      "Requirement already satisfied: certifi>=2017.4.17 in c:\\users\\pbann\\anaconda3\\lib\\site-packages (from requests>=2.19.0->pandas-datareader) (2021.10.8)\n",
      "Requirement already satisfied: charset-normalizer~=2.0.0 in c:\\users\\pbann\\anaconda3\\lib\\site-packages (from requests>=2.19.0->pandas-datareader) (2.0.4)\n",
      "Requirement already satisfied: urllib3<1.27,>=1.21.1 in c:\\users\\pbann\\anaconda3\\lib\\site-packages (from requests>=2.19.0->pandas-datareader) (1.26.7)\n",
      "Requirement already satisfied: idna<4,>=2.5 in c:\\users\\pbann\\anaconda3\\lib\\site-packages (from requests>=2.19.0->pandas-datareader) (3.2)\n",
      "Installing collected packages: pandas-datareader\n",
      "Successfully installed pandas-datareader-0.10.0\n"
     ]
    }
   ],
   "source": [
    "!pip install pandas-datareader\n"
   ]
  },
  {
   "cell_type": "code",
   "execution_count": 2,
   "id": "8894cf01",
   "metadata": {
    "ExecuteTime": {
     "end_time": "2022-06-12T05:00:16.791876Z",
     "start_time": "2022-06-12T05:00:15.848612Z"
    }
   },
   "outputs": [],
   "source": [
    "import pandas_datareader as pdr\n",
    "import pandas as pd \n",
    "from datetime import datetime"
   ]
  },
  {
   "cell_type": "code",
   "execution_count": 6,
   "id": "b04fbf7f",
   "metadata": {
    "ExecuteTime": {
     "end_time": "2022-06-12T05:03:01.041260Z",
     "start_time": "2022-06-12T05:03:00.133831Z"
    }
   },
   "outputs": [
    {
     "data": {
      "text/html": [
       "<div>\n",
       "<style scoped>\n",
       "    .dataframe tbody tr th:only-of-type {\n",
       "        vertical-align: middle;\n",
       "    }\n",
       "\n",
       "    .dataframe tbody tr th {\n",
       "        vertical-align: top;\n",
       "    }\n",
       "\n",
       "    .dataframe thead th {\n",
       "        text-align: right;\n",
       "    }\n",
       "</style>\n",
       "<table border=\"1\" class=\"dataframe\">\n",
       "  <thead>\n",
       "    <tr style=\"text-align: right;\">\n",
       "      <th></th>\n",
       "      <th>High</th>\n",
       "      <th>Low</th>\n",
       "      <th>Open</th>\n",
       "      <th>Close</th>\n",
       "      <th>Volume</th>\n",
       "      <th>Adj Close</th>\n",
       "    </tr>\n",
       "    <tr>\n",
       "      <th>Date</th>\n",
       "      <th></th>\n",
       "      <th></th>\n",
       "      <th></th>\n",
       "      <th></th>\n",
       "      <th></th>\n",
       "      <th></th>\n",
       "    </tr>\n",
       "  </thead>\n",
       "  <tbody>\n",
       "    <tr>\n",
       "      <th>2017-06-12</th>\n",
       "      <td>111.900002</td>\n",
       "      <td>110.269997</td>\n",
       "      <td>111.150002</td>\n",
       "      <td>111.029999</td>\n",
       "      <td>429200.0</td>\n",
       "      <td>104.724548</td>\n",
       "    </tr>\n",
       "    <tr>\n",
       "      <th>2017-06-13</th>\n",
       "      <td>111.809998</td>\n",
       "      <td>110.570000</td>\n",
       "      <td>110.989998</td>\n",
       "      <td>111.809998</td>\n",
       "      <td>373500.0</td>\n",
       "      <td>105.460243</td>\n",
       "    </tr>\n",
       "    <tr>\n",
       "      <th>2017-06-14</th>\n",
       "      <td>112.250000</td>\n",
       "      <td>111.430000</td>\n",
       "      <td>111.820000</td>\n",
       "      <td>111.980003</td>\n",
       "      <td>317400.0</td>\n",
       "      <td>105.620590</td>\n",
       "    </tr>\n",
       "    <tr>\n",
       "      <th>2017-06-15</th>\n",
       "      <td>113.040001</td>\n",
       "      <td>110.849998</td>\n",
       "      <td>110.849998</td>\n",
       "      <td>113.019997</td>\n",
       "      <td>246500.0</td>\n",
       "      <td>106.601517</td>\n",
       "    </tr>\n",
       "    <tr>\n",
       "      <th>2017-06-16</th>\n",
       "      <td>113.519997</td>\n",
       "      <td>112.500000</td>\n",
       "      <td>112.730003</td>\n",
       "      <td>113.199997</td>\n",
       "      <td>610600.0</td>\n",
       "      <td>106.771301</td>\n",
       "    </tr>\n",
       "    <tr>\n",
       "      <th>...</th>\n",
       "      <td>...</td>\n",
       "      <td>...</td>\n",
       "      <td>...</td>\n",
       "      <td>...</td>\n",
       "      <td>...</td>\n",
       "      <td>...</td>\n",
       "    </tr>\n",
       "    <tr>\n",
       "      <th>2022-06-06</th>\n",
       "      <td>197.229996</td>\n",
       "      <td>194.660004</td>\n",
       "      <td>196.149994</td>\n",
       "      <td>195.009995</td>\n",
       "      <td>170100.0</td>\n",
       "      <td>195.009995</td>\n",
       "    </tr>\n",
       "    <tr>\n",
       "      <th>2022-06-07</th>\n",
       "      <td>197.000000</td>\n",
       "      <td>192.850006</td>\n",
       "      <td>193.490005</td>\n",
       "      <td>196.820007</td>\n",
       "      <td>249100.0</td>\n",
       "      <td>196.820007</td>\n",
       "    </tr>\n",
       "    <tr>\n",
       "      <th>2022-06-08</th>\n",
       "      <td>196.869995</td>\n",
       "      <td>194.259995</td>\n",
       "      <td>195.550003</td>\n",
       "      <td>194.429993</td>\n",
       "      <td>172800.0</td>\n",
       "      <td>194.429993</td>\n",
       "    </tr>\n",
       "    <tr>\n",
       "      <th>2022-06-09</th>\n",
       "      <td>195.360001</td>\n",
       "      <td>191.059998</td>\n",
       "      <td>193.660004</td>\n",
       "      <td>191.149994</td>\n",
       "      <td>190600.0</td>\n",
       "      <td>191.149994</td>\n",
       "    </tr>\n",
       "    <tr>\n",
       "      <th>2022-06-10</th>\n",
       "      <td>188.600006</td>\n",
       "      <td>184.449997</td>\n",
       "      <td>187.740005</td>\n",
       "      <td>185.279999</td>\n",
       "      <td>337400.0</td>\n",
       "      <td>185.279999</td>\n",
       "    </tr>\n",
       "  </tbody>\n",
       "</table>\n",
       "<p>1260 rows × 6 columns</p>\n",
       "</div>"
      ],
      "text/plain": [
       "                  High         Low        Open       Close    Volume  \\\n",
       "Date                                                                   \n",
       "2017-06-12  111.900002  110.269997  111.150002  111.029999  429200.0   \n",
       "2017-06-13  111.809998  110.570000  110.989998  111.809998  373500.0   \n",
       "2017-06-14  112.250000  111.430000  111.820000  111.980003  317400.0   \n",
       "2017-06-15  113.040001  110.849998  110.849998  113.019997  246500.0   \n",
       "2017-06-16  113.519997  112.500000  112.730003  113.199997  610600.0   \n",
       "...                ...         ...         ...         ...       ...   \n",
       "2022-06-06  197.229996  194.660004  196.149994  195.009995  170100.0   \n",
       "2022-06-07  197.000000  192.850006  193.490005  196.820007  249100.0   \n",
       "2022-06-08  196.869995  194.259995  195.550003  194.429993  172800.0   \n",
       "2022-06-09  195.360001  191.059998  193.660004  191.149994  190600.0   \n",
       "2022-06-10  188.600006  184.449997  187.740005  185.279999  337400.0   \n",
       "\n",
       "             Adj Close  \n",
       "Date                    \n",
       "2017-06-12  104.724548  \n",
       "2017-06-13  105.460243  \n",
       "2017-06-14  105.620590  \n",
       "2017-06-15  106.601517  \n",
       "2017-06-16  106.771301  \n",
       "...                ...  \n",
       "2022-06-06  195.009995  \n",
       "2022-06-07  196.820007  \n",
       "2022-06-08  194.429993  \n",
       "2022-06-09  191.149994  \n",
       "2022-06-10  185.279999  \n",
       "\n",
       "[1260 rows x 6 columns]"
      ]
     },
     "execution_count": 6,
     "metadata": {},
     "output_type": "execute_result"
    }
   ],
   "source": [
    "df = pdr.get_data_yahoo('IEX')\n",
    "df"
   ]
  },
  {
   "cell_type": "code",
   "execution_count": 9,
   "id": "e71e4760",
   "metadata": {
    "ExecuteTime": {
     "end_time": "2022-06-12T05:04:42.909529Z",
     "start_time": "2022-06-12T05:04:42.786911Z"
    }
   },
   "outputs": [
    {
     "data": {
      "text/plain": [
       "<AxesSubplot:xlabel='Date'>"
      ]
     },
     "execution_count": 9,
     "metadata": {},
     "output_type": "execute_result"
    },
    {
     "data": {
      "image/png": "[encoded data removed]",
      "text/plain": [
       "<Figure size 864x288 with 1 Axes>"
      ]
     },
     "metadata": {
      "needs_background": "light"
     },
     "output_type": "display_data"
    }
   ],
   "source": [
    "df['High'].plot(figsize=(12,4))"
   ]
  },
  {
   "cell_type": "code",
   "execution_count": 14,
   "id": "45435e3b",
   "metadata": {
    "ExecuteTime": {
     "end_time": "2022-06-12T05:09:44.178779Z",
     "start_time": "2022-06-12T05:09:44.046580Z"
    }
   },
   "outputs": [
    {
     "data": {
      "text/plain": [
       "<AxesSubplot:xlabel='Date'>"
      ]
     },
     "execution_count": 14,
     "metadata": {},
     "output_type": "execute_result"
    },
    {
     "data": {
      "image/png": "[encoded data removed]",
      "text/plain": [
       "<Figure size 864x288 with 1 Axes>"
      ]
     },
     "metadata": {
      "needs_background": "light"
     },
     "output_type": "display_data"
    }
   ],
   "source": [
    "df['High'].plot(xlim=['2021-06-12','2022-06-12'],ylim=[150,350],figsize=(12,4),ls='--',c='green')"
   ]
  },
  {
   "cell_type": "code",
   "execution_count": 27,
   "id": "070c7093",
   "metadata": {
    "ExecuteTime": {
     "end_time": "2022-06-12T05:17:51.394574Z",
     "start_time": "2022-06-12T05:17:51.376173Z"
    }
   },
   "outputs": [],
   "source": [
    "index = df.loc['2022-01-01':'2022-06-01'].index\n"
   ]
  },
  {
   "cell_type": "code",
   "execution_count": 28,
   "id": "2774dcce",
   "metadata": {
    "ExecuteTime": {
     "end_time": "2022-06-12T05:17:52.404409Z",
     "start_time": "2022-06-12T05:17:52.393662Z"
    }
   },
   "outputs": [
    {
     "data": {
      "text/plain": [
       "Date\n",
       "2022-01-03    236.320007\n",
       "2022-01-04    231.399994\n",
       "2022-01-05    236.289993\n",
       "2022-01-06    231.419998\n",
       "2022-01-07    230.649994\n",
       "                 ...    \n",
       "2022-05-25    186.770004\n",
       "2022-05-26    187.500000\n",
       "2022-05-27    191.110001\n",
       "2022-05-31    189.979996\n",
       "2022-06-01    192.550003\n",
       "Name: Open, Length: 104, dtype: float64"
      ]
     },
     "execution_count": 28,
     "metadata": {},
     "output_type": "execute_result"
    }
   ],
   "source": [
    "share_open=df.loc['2022-01-01':'2022-06-01']['Open']\n",
    "share_open"
   ]
  },
  {
   "cell_type": "code",
   "execution_count": 29,
   "id": "978a3f38",
   "metadata": {
    "ExecuteTime": {
     "end_time": "2022-06-12T05:17:53.025625Z",
     "start_time": "2022-06-12T05:17:53.013657Z"
    }
   },
   "outputs": [],
   "source": [
    "import matplotlib.pyplot as plt\n",
    "%matplotlib inline"
   ]
  },
  {
   "cell_type": "code",
   "execution_count": 33,
   "id": "f5e8e5bc",
   "metadata": {
    "ExecuteTime": {
     "end_time": "2022-06-12T05:19:52.069967Z",
     "start_time": "2022-06-12T05:19:51.955655Z"
    }
   },
   "outputs": [
    {
     "data": {
      "text/plain": [
       "[<matplotlib.lines.Line2D at 0x238519cf250>]"
      ]
     },
     "execution_count": 33,
     "metadata": {},
     "output_type": "execute_result"
    },
    {
     "data": {
      "image/png": "[encoded data removed]",
      "text/plain": [
       "<Figure size 432x288 with 1 Axes>"
      ]
     },
     "metadata": {
      "needs_background": "light"
     },
     "output_type": "display_data"
    }
   ],
   "source": [
    "figure,axis=plt.subplots()\n",
    "plt.tight_layout()      # reduce overlap\n",
    "figure.autofmt_xdate()  # prevents over lap\n",
    "axis.plot(index,share_open)"
   ]
  },
  {
   "cell_type": "code",
   "execution_count": 34,
   "id": "86b44a00",
   "metadata": {
    "ExecuteTime": {
     "end_time": "2022-06-12T05:20:37.109183Z",
     "start_time": "2022-06-12T05:20:37.105640Z"
    }
   },
   "outputs": [],
   "source": [
    "# datetime index"
   ]
  },
  {
   "cell_type": "code",
   "execution_count": 36,
   "id": "123b335f",
   "metadata": {
    "ExecuteTime": {
     "end_time": "2022-06-12T05:21:14.021322Z",
     "start_time": "2022-06-12T05:21:14.000350Z"
    }
   },
   "outputs": [
    {
     "data": {
      "text/html": [
       "<div>\n",
       "<style scoped>\n",
       "    .dataframe tbody tr th:only-of-type {\n",
       "        vertical-align: middle;\n",
       "    }\n",
       "\n",
       "    .dataframe tbody tr th {\n",
       "        vertical-align: top;\n",
       "    }\n",
       "\n",
       "    .dataframe thead th {\n",
       "        text-align: right;\n",
       "    }\n",
       "</style>\n",
       "<table border=\"1\" class=\"dataframe\">\n",
       "  <thead>\n",
       "    <tr style=\"text-align: right;\">\n",
       "      <th></th>\n",
       "      <th>High</th>\n",
       "      <th>Low</th>\n",
       "      <th>Open</th>\n",
       "      <th>Close</th>\n",
       "      <th>Volume</th>\n",
       "      <th>Adj Close</th>\n",
       "    </tr>\n",
       "    <tr>\n",
       "      <th>Date</th>\n",
       "      <th></th>\n",
       "      <th></th>\n",
       "      <th></th>\n",
       "      <th></th>\n",
       "      <th></th>\n",
       "      <th></th>\n",
       "    </tr>\n",
       "  </thead>\n",
       "  <tbody>\n",
       "    <tr>\n",
       "      <th>2017-06-12</th>\n",
       "      <td>111.900002</td>\n",
       "      <td>110.269997</td>\n",
       "      <td>111.150002</td>\n",
       "      <td>111.029999</td>\n",
       "      <td>429200.0</td>\n",
       "      <td>104.724548</td>\n",
       "    </tr>\n",
       "    <tr>\n",
       "      <th>2017-06-13</th>\n",
       "      <td>111.809998</td>\n",
       "      <td>110.570000</td>\n",
       "      <td>110.989998</td>\n",
       "      <td>111.809998</td>\n",
       "      <td>373500.0</td>\n",
       "      <td>105.460243</td>\n",
       "    </tr>\n",
       "    <tr>\n",
       "      <th>2017-06-14</th>\n",
       "      <td>112.250000</td>\n",
       "      <td>111.430000</td>\n",
       "      <td>111.820000</td>\n",
       "      <td>111.980003</td>\n",
       "      <td>317400.0</td>\n",
       "      <td>105.620590</td>\n",
       "    </tr>\n",
       "    <tr>\n",
       "      <th>2017-06-15</th>\n",
       "      <td>113.040001</td>\n",
       "      <td>110.849998</td>\n",
       "      <td>110.849998</td>\n",
       "      <td>113.019997</td>\n",
       "      <td>246500.0</td>\n",
       "      <td>106.601517</td>\n",
       "    </tr>\n",
       "    <tr>\n",
       "      <th>2017-06-16</th>\n",
       "      <td>113.519997</td>\n",
       "      <td>112.500000</td>\n",
       "      <td>112.730003</td>\n",
       "      <td>113.199997</td>\n",
       "      <td>610600.0</td>\n",
       "      <td>106.771301</td>\n",
       "    </tr>\n",
       "    <tr>\n",
       "      <th>...</th>\n",
       "      <td>...</td>\n",
       "      <td>...</td>\n",
       "      <td>...</td>\n",
       "      <td>...</td>\n",
       "      <td>...</td>\n",
       "      <td>...</td>\n",
       "    </tr>\n",
       "    <tr>\n",
       "      <th>2022-06-06</th>\n",
       "      <td>197.229996</td>\n",
       "      <td>194.660004</td>\n",
       "      <td>196.149994</td>\n",
       "      <td>195.009995</td>\n",
       "      <td>170100.0</td>\n",
       "      <td>195.009995</td>\n",
       "    </tr>\n",
       "    <tr>\n",
       "      <th>2022-06-07</th>\n",
       "      <td>197.000000</td>\n",
       "      <td>192.850006</td>\n",
       "      <td>193.490005</td>\n",
       "      <td>196.820007</td>\n",
       "      <td>249100.0</td>\n",
       "      <td>196.820007</td>\n",
       "    </tr>\n",
       "    <tr>\n",
       "      <th>2022-06-08</th>\n",
       "      <td>196.869995</td>\n",
       "      <td>194.259995</td>\n",
       "      <td>195.550003</td>\n",
       "      <td>194.429993</td>\n",
       "      <td>172800.0</td>\n",
       "      <td>194.429993</td>\n",
       "    </tr>\n",
       "    <tr>\n",
       "      <th>2022-06-09</th>\n",
       "      <td>195.360001</td>\n",
       "      <td>191.059998</td>\n",
       "      <td>193.660004</td>\n",
       "      <td>191.149994</td>\n",
       "      <td>190600.0</td>\n",
       "      <td>191.149994</td>\n",
       "    </tr>\n",
       "    <tr>\n",
       "      <th>2022-06-10</th>\n",
       "      <td>188.600006</td>\n",
       "      <td>184.449997</td>\n",
       "      <td>187.740005</td>\n",
       "      <td>185.279999</td>\n",
       "      <td>337400.0</td>\n",
       "      <td>185.279999</td>\n",
       "    </tr>\n",
       "  </tbody>\n",
       "</table>\n",
       "<p>1260 rows × 6 columns</p>\n",
       "</div>"
      ],
      "text/plain": [
       "                  High         Low        Open       Close    Volume  \\\n",
       "Date                                                                   \n",
       "2017-06-12  111.900002  110.269997  111.150002  111.029999  429200.0   \n",
       "2017-06-13  111.809998  110.570000  110.989998  111.809998  373500.0   \n",
       "2017-06-14  112.250000  111.430000  111.820000  111.980003  317400.0   \n",
       "2017-06-15  113.040001  110.849998  110.849998  113.019997  246500.0   \n",
       "2017-06-16  113.519997  112.500000  112.730003  113.199997  610600.0   \n",
       "...                ...         ...         ...         ...       ...   \n",
       "2022-06-06  197.229996  194.660004  196.149994  195.009995  170100.0   \n",
       "2022-06-07  197.000000  192.850006  193.490005  196.820007  249100.0   \n",
       "2022-06-08  196.869995  194.259995  195.550003  194.429993  172800.0   \n",
       "2022-06-09  195.360001  191.059998  193.660004  191.149994  190600.0   \n",
       "2022-06-10  188.600006  184.449997  187.740005  185.279999  337400.0   \n",
       "\n",
       "             Adj Close  \n",
       "Date                    \n",
       "2017-06-12  104.724548  \n",
       "2017-06-13  105.460243  \n",
       "2017-06-14  105.620590  \n",
       "2017-06-15  106.601517  \n",
       "2017-06-16  106.771301  \n",
       "...                ...  \n",
       "2022-06-06  195.009995  \n",
       "2022-06-07  196.820007  \n",
       "2022-06-08  194.429993  \n",
       "2022-06-09  191.149994  \n",
       "2022-06-10  185.279999  \n",
       "\n",
       "[1260 rows x 6 columns]"
      ]
     },
     "execution_count": 36,
     "metadata": {},
     "output_type": "execute_result"
    }
   ],
   "source": [
    "df"
   ]
  },
  {
   "cell_type": "code",
   "execution_count": 40,
   "id": "9459117a",
   "metadata": {
    "ExecuteTime": {
     "end_time": "2022-06-12T05:22:39.896332Z",
     "start_time": "2022-06-12T05:22:39.873579Z"
    },
    "scrolled": true
   },
   "outputs": [
    {
     "data": {
      "text/html": [
       "<div>\n",
       "<style scoped>\n",
       "    .dataframe tbody tr th:only-of-type {\n",
       "        vertical-align: middle;\n",
       "    }\n",
       "\n",
       "    .dataframe tbody tr th {\n",
       "        vertical-align: top;\n",
       "    }\n",
       "\n",
       "    .dataframe thead th {\n",
       "        text-align: right;\n",
       "    }\n",
       "</style>\n",
       "<table border=\"1\" class=\"dataframe\">\n",
       "  <thead>\n",
       "    <tr style=\"text-align: right;\">\n",
       "      <th></th>\n",
       "      <th>index</th>\n",
       "      <th>Date</th>\n",
       "      <th>High</th>\n",
       "      <th>Low</th>\n",
       "      <th>Open</th>\n",
       "      <th>Close</th>\n",
       "      <th>Volume</th>\n",
       "      <th>Adj Close</th>\n",
       "    </tr>\n",
       "  </thead>\n",
       "  <tbody>\n",
       "    <tr>\n",
       "      <th>0</th>\n",
       "      <td>0</td>\n",
       "      <td>2017-06-12</td>\n",
       "      <td>111.900002</td>\n",
       "      <td>110.269997</td>\n",
       "      <td>111.150002</td>\n",
       "      <td>111.029999</td>\n",
       "      <td>429200.0</td>\n",
       "      <td>104.724548</td>\n",
       "    </tr>\n",
       "    <tr>\n",
       "      <th>1</th>\n",
       "      <td>1</td>\n",
       "      <td>2017-06-13</td>\n",
       "      <td>111.809998</td>\n",
       "      <td>110.570000</td>\n",
       "      <td>110.989998</td>\n",
       "      <td>111.809998</td>\n",
       "      <td>373500.0</td>\n",
       "      <td>105.460243</td>\n",
       "    </tr>\n",
       "    <tr>\n",
       "      <th>2</th>\n",
       "      <td>2</td>\n",
       "      <td>2017-06-14</td>\n",
       "      <td>112.250000</td>\n",
       "      <td>111.430000</td>\n",
       "      <td>111.820000</td>\n",
       "      <td>111.980003</td>\n",
       "      <td>317400.0</td>\n",
       "      <td>105.620590</td>\n",
       "    </tr>\n",
       "    <tr>\n",
       "      <th>3</th>\n",
       "      <td>3</td>\n",
       "      <td>2017-06-15</td>\n",
       "      <td>113.040001</td>\n",
       "      <td>110.849998</td>\n",
       "      <td>110.849998</td>\n",
       "      <td>113.019997</td>\n",
       "      <td>246500.0</td>\n",
       "      <td>106.601517</td>\n",
       "    </tr>\n",
       "    <tr>\n",
       "      <th>4</th>\n",
       "      <td>4</td>\n",
       "      <td>2017-06-16</td>\n",
       "      <td>113.519997</td>\n",
       "      <td>112.500000</td>\n",
       "      <td>112.730003</td>\n",
       "      <td>113.199997</td>\n",
       "      <td>610600.0</td>\n",
       "      <td>106.771301</td>\n",
       "    </tr>\n",
       "    <tr>\n",
       "      <th>...</th>\n",
       "      <td>...</td>\n",
       "      <td>...</td>\n",
       "      <td>...</td>\n",
       "      <td>...</td>\n",
       "      <td>...</td>\n",
       "      <td>...</td>\n",
       "      <td>...</td>\n",
       "      <td>...</td>\n",
       "    </tr>\n",
       "    <tr>\n",
       "      <th>1255</th>\n",
       "      <td>1255</td>\n",
       "      <td>2022-06-06</td>\n",
       "      <td>197.229996</td>\n",
       "      <td>194.660004</td>\n",
       "      <td>196.149994</td>\n",
       "      <td>195.009995</td>\n",
       "      <td>170100.0</td>\n",
       "      <td>195.009995</td>\n",
       "    </tr>\n",
       "    <tr>\n",
       "      <th>1256</th>\n",
       "      <td>1256</td>\n",
       "      <td>2022-06-07</td>\n",
       "      <td>197.000000</td>\n",
       "      <td>192.850006</td>\n",
       "      <td>193.490005</td>\n",
       "      <td>196.820007</td>\n",
       "      <td>249100.0</td>\n",
       "      <td>196.820007</td>\n",
       "    </tr>\n",
       "    <tr>\n",
       "      <th>1257</th>\n",
       "      <td>1257</td>\n",
       "      <td>2022-06-08</td>\n",
       "      <td>196.869995</td>\n",
       "      <td>194.259995</td>\n",
       "      <td>195.550003</td>\n",
       "      <td>194.429993</td>\n",
       "      <td>172800.0</td>\n",
       "      <td>194.429993</td>\n",
       "    </tr>\n",
       "    <tr>\n",
       "      <th>1258</th>\n",
       "      <td>1258</td>\n",
       "      <td>2022-06-09</td>\n",
       "      <td>195.360001</td>\n",
       "      <td>191.059998</td>\n",
       "      <td>193.660004</td>\n",
       "      <td>191.149994</td>\n",
       "      <td>190600.0</td>\n",
       "      <td>191.149994</td>\n",
       "    </tr>\n",
       "    <tr>\n",
       "      <th>1259</th>\n",
       "      <td>1259</td>\n",
       "      <td>2022-06-10</td>\n",
       "      <td>188.600006</td>\n",
       "      <td>184.449997</td>\n",
       "      <td>187.740005</td>\n",
       "      <td>185.279999</td>\n",
       "      <td>337400.0</td>\n",
       "      <td>185.279999</td>\n",
       "    </tr>\n",
       "  </tbody>\n",
       "</table>\n",
       "<p>1260 rows × 8 columns</p>\n",
       "</div>"
      ],
      "text/plain": [
       "      index       Date        High         Low        Open       Close  \\\n",
       "0         0 2017-06-12  111.900002  110.269997  111.150002  111.029999   \n",
       "1         1 2017-06-13  111.809998  110.570000  110.989998  111.809998   \n",
       "2         2 2017-06-14  112.250000  111.430000  111.820000  111.980003   \n",
       "3         3 2017-06-15  113.040001  110.849998  110.849998  113.019997   \n",
       "4         4 2017-06-16  113.519997  112.500000  112.730003  113.199997   \n",
       "...     ...        ...         ...         ...         ...         ...   \n",
       "1255   1255 2022-06-06  197.229996  194.660004  196.149994  195.009995   \n",
       "1256   1256 2022-06-07  197.000000  192.850006  193.490005  196.820007   \n",
       "1257   1257 2022-06-08  196.869995  194.259995  195.550003  194.429993   \n",
       "1258   1258 2022-06-09  195.360001  191.059998  193.660004  191.149994   \n",
       "1259   1259 2022-06-10  188.600006  184.449997  187.740005  185.279999   \n",
       "\n",
       "        Volume   Adj Close  \n",
       "0     429200.0  104.724548  \n",
       "1     373500.0  105.460243  \n",
       "2     317400.0  105.620590  \n",
       "3     246500.0  106.601517  \n",
       "4     610600.0  106.771301  \n",
       "...        ...         ...  \n",
       "1255  170100.0  195.009995  \n",
       "1256  249100.0  196.820007  \n",
       "1257  172800.0  194.429993  \n",
       "1258  190600.0  191.149994  \n",
       "1259  337400.0  185.279999  \n",
       "\n",
       "[1260 rows x 8 columns]"
      ]
     },
     "execution_count": 40,
     "metadata": {},
     "output_type": "execute_result"
    }
   ],
   "source": [
    "df=df.reset_index()\n",
    "df"
   ]
  },
  {
   "cell_type": "code",
   "execution_count": 46,
   "id": "4fbcb168",
   "metadata": {
    "ExecuteTime": {
     "end_time": "2022-06-12T05:26:09.787261Z",
     "start_time": "2022-06-12T05:26:09.756037Z"
    }
   },
   "outputs": [
    {
     "data": {
      "text/html": [
       "<div>\n",
       "<style scoped>\n",
       "    .dataframe tbody tr th:only-of-type {\n",
       "        vertical-align: middle;\n",
       "    }\n",
       "\n",
       "    .dataframe tbody tr th {\n",
       "        vertical-align: top;\n",
       "    }\n",
       "\n",
       "    .dataframe thead th {\n",
       "        text-align: right;\n",
       "    }\n",
       "</style>\n",
       "<table border=\"1\" class=\"dataframe\">\n",
       "  <thead>\n",
       "    <tr style=\"text-align: right;\">\n",
       "      <th></th>\n",
       "      <th>index</th>\n",
       "      <th>High</th>\n",
       "      <th>Low</th>\n",
       "      <th>Open</th>\n",
       "      <th>Close</th>\n",
       "      <th>Volume</th>\n",
       "      <th>Adj Close</th>\n",
       "    </tr>\n",
       "    <tr>\n",
       "      <th>Date</th>\n",
       "      <th></th>\n",
       "      <th></th>\n",
       "      <th></th>\n",
       "      <th></th>\n",
       "      <th></th>\n",
       "      <th></th>\n",
       "      <th></th>\n",
       "    </tr>\n",
       "  </thead>\n",
       "  <tbody>\n",
       "    <tr>\n",
       "      <th>2017-06-12</th>\n",
       "      <td>0</td>\n",
       "      <td>111.900002</td>\n",
       "      <td>110.269997</td>\n",
       "      <td>111.150002</td>\n",
       "      <td>111.029999</td>\n",
       "      <td>429200.0</td>\n",
       "      <td>104.724548</td>\n",
       "    </tr>\n",
       "    <tr>\n",
       "      <th>2017-06-13</th>\n",
       "      <td>1</td>\n",
       "      <td>111.809998</td>\n",
       "      <td>110.570000</td>\n",
       "      <td>110.989998</td>\n",
       "      <td>111.809998</td>\n",
       "      <td>373500.0</td>\n",
       "      <td>105.460243</td>\n",
       "    </tr>\n",
       "    <tr>\n",
       "      <th>2017-06-14</th>\n",
       "      <td>2</td>\n",
       "      <td>112.250000</td>\n",
       "      <td>111.430000</td>\n",
       "      <td>111.820000</td>\n",
       "      <td>111.980003</td>\n",
       "      <td>317400.0</td>\n",
       "      <td>105.620590</td>\n",
       "    </tr>\n",
       "    <tr>\n",
       "      <th>2017-06-15</th>\n",
       "      <td>3</td>\n",
       "      <td>113.040001</td>\n",
       "      <td>110.849998</td>\n",
       "      <td>110.849998</td>\n",
       "      <td>113.019997</td>\n",
       "      <td>246500.0</td>\n",
       "      <td>106.601517</td>\n",
       "    </tr>\n",
       "    <tr>\n",
       "      <th>2017-06-16</th>\n",
       "      <td>4</td>\n",
       "      <td>113.519997</td>\n",
       "      <td>112.500000</td>\n",
       "      <td>112.730003</td>\n",
       "      <td>113.199997</td>\n",
       "      <td>610600.0</td>\n",
       "      <td>106.771301</td>\n",
       "    </tr>\n",
       "    <tr>\n",
       "      <th>...</th>\n",
       "      <td>...</td>\n",
       "      <td>...</td>\n",
       "      <td>...</td>\n",
       "      <td>...</td>\n",
       "      <td>...</td>\n",
       "      <td>...</td>\n",
       "      <td>...</td>\n",
       "    </tr>\n",
       "    <tr>\n",
       "      <th>2022-06-06</th>\n",
       "      <td>1255</td>\n",
       "      <td>197.229996</td>\n",
       "      <td>194.660004</td>\n",
       "      <td>196.149994</td>\n",
       "      <td>195.009995</td>\n",
       "      <td>170100.0</td>\n",
       "      <td>195.009995</td>\n",
       "    </tr>\n",
       "    <tr>\n",
       "      <th>2022-06-07</th>\n",
       "      <td>1256</td>\n",
       "      <td>197.000000</td>\n",
       "      <td>192.850006</td>\n",
       "      <td>193.490005</td>\n",
       "      <td>196.820007</td>\n",
       "      <td>249100.0</td>\n",
       "      <td>196.820007</td>\n",
       "    </tr>\n",
       "    <tr>\n",
       "      <th>2022-06-08</th>\n",
       "      <td>1257</td>\n",
       "      <td>196.869995</td>\n",
       "      <td>194.259995</td>\n",
       "      <td>195.550003</td>\n",
       "      <td>194.429993</td>\n",
       "      <td>172800.0</td>\n",
       "      <td>194.429993</td>\n",
       "    </tr>\n",
       "    <tr>\n",
       "      <th>2022-06-09</th>\n",
       "      <td>1258</td>\n",
       "      <td>195.360001</td>\n",
       "      <td>191.059998</td>\n",
       "      <td>193.660004</td>\n",
       "      <td>191.149994</td>\n",
       "      <td>190600.0</td>\n",
       "      <td>191.149994</td>\n",
       "    </tr>\n",
       "    <tr>\n",
       "      <th>2022-06-10</th>\n",
       "      <td>1259</td>\n",
       "      <td>188.600006</td>\n",
       "      <td>184.449997</td>\n",
       "      <td>187.740005</td>\n",
       "      <td>185.279999</td>\n",
       "      <td>337400.0</td>\n",
       "      <td>185.279999</td>\n",
       "    </tr>\n",
       "  </tbody>\n",
       "</table>\n",
       "<p>1260 rows × 7 columns</p>\n",
       "</div>"
      ],
      "text/plain": [
       "            index        High         Low        Open       Close    Volume  \\\n",
       "Date                                                                          \n",
       "2017-06-12      0  111.900002  110.269997  111.150002  111.029999  429200.0   \n",
       "2017-06-13      1  111.809998  110.570000  110.989998  111.809998  373500.0   \n",
       "2017-06-14      2  112.250000  111.430000  111.820000  111.980003  317400.0   \n",
       "2017-06-15      3  113.040001  110.849998  110.849998  113.019997  246500.0   \n",
       "2017-06-16      4  113.519997  112.500000  112.730003  113.199997  610600.0   \n",
       "...           ...         ...         ...         ...         ...       ...   \n",
       "2022-06-06   1255  197.229996  194.660004  196.149994  195.009995  170100.0   \n",
       "2022-06-07   1256  197.000000  192.850006  193.490005  196.820007  249100.0   \n",
       "2022-06-08   1257  196.869995  194.259995  195.550003  194.429993  172800.0   \n",
       "2022-06-09   1258  195.360001  191.059998  193.660004  191.149994  190600.0   \n",
       "2022-06-10   1259  188.600006  184.449997  187.740005  185.279999  337400.0   \n",
       "\n",
       "             Adj Close  \n",
       "Date                    \n",
       "2017-06-12  104.724548  \n",
       "2017-06-13  105.460243  \n",
       "2017-06-14  105.620590  \n",
       "2017-06-15  106.601517  \n",
       "2017-06-16  106.771301  \n",
       "...                ...  \n",
       "2022-06-06  195.009995  \n",
       "2022-06-07  196.820007  \n",
       "2022-06-08  194.429993  \n",
       "2022-06-09  191.149994  \n",
       "2022-06-10  185.279999  \n",
       "\n",
       "[1260 rows x 7 columns]"
      ]
     },
     "execution_count": 46,
     "metadata": {},
     "output_type": "execute_result"
    }
   ],
   "source": [
    "df=df.set_index('Date',drop=True)    # === this makes as it is in original dataframe\n",
    "df"
   ]
  },
  {
   "cell_type": "code",
   "execution_count": 44,
   "id": "8bb69b66",
   "metadata": {
    "ExecuteTime": {
     "end_time": "2022-06-12T05:24:11.775324Z",
     "start_time": "2022-06-12T05:24:11.760853Z"
    }
   },
   "outputs": [
    {
     "name": "stdout",
     "output_type": "stream",
     "text": [
      "<class 'pandas.core.frame.DataFrame'>\n",
      "RangeIndex: 1260 entries, 0 to 1259\n",
      "Data columns (total 8 columns):\n",
      " #   Column     Non-Null Count  Dtype         \n",
      "---  ------     --------------  -----         \n",
      " 0   index      1260 non-null   int64         \n",
      " 1   Date       1260 non-null   datetime64[ns]\n",
      " 2   High       1260 non-null   float64       \n",
      " 3   Low        1260 non-null   float64       \n",
      " 4   Open       1260 non-null   float64       \n",
      " 5   Close      1260 non-null   float64       \n",
      " 6   Volume     1260 non-null   float64       \n",
      " 7   Adj Close  1260 non-null   float64       \n",
      "dtypes: datetime64[ns](1), float64(6), int64(1)\n",
      "memory usage: 78.9 KB\n"
     ]
    }
   ],
   "source": [
    "df.info()"
   ]
  },
  {
   "cell_type": "code",
   "execution_count": 42,
   "id": "968fa61c",
   "metadata": {
    "ExecuteTime": {
     "end_time": "2022-06-12T05:22:45.053563Z",
     "start_time": "2022-06-12T05:22:45.045583Z"
    },
    "scrolled": true
   },
   "outputs": [
    {
     "data": {
      "text/plain": [
       "0      2017-06-12\n",
       "1      2017-06-13\n",
       "2      2017-06-14\n",
       "3      2017-06-15\n",
       "4      2017-06-16\n",
       "          ...    \n",
       "1255   2022-06-06\n",
       "1256   2022-06-07\n",
       "1257   2022-06-08\n",
       "1258   2022-06-09\n",
       "1259   2022-06-10\n",
       "Name: Date, Length: 1260, dtype: datetime64[ns]"
      ]
     },
     "execution_count": 42,
     "metadata": {},
     "output_type": "execute_result"
    }
   ],
   "source": [
    "pd.to_datetime(df['Date'])"
   ]
  },
  {
   "cell_type": "code",
   "execution_count": 65,
   "id": "1e60b31a",
   "metadata": {
    "ExecuteTime": {
     "end_time": "2022-06-12T05:59:54.580275Z",
     "start_time": "2022-06-12T05:59:54.259320Z"
    }
   },
   "outputs": [],
   "source": [
    "import numpy as np\n",
    "from scipy import stats\n",
    "import pandas as pd\n",
    "import matplotlib.pyplot as plt\n",
    "import statsmodels.api as sm\n",
    "\n",
    "from statsmodels.graphics.api import qqplot"
   ]
  },
  {
   "cell_type": "code",
   "execution_count": 71,
   "id": "daedf955",
   "metadata": {
    "ExecuteTime": {
     "end_time": "2022-06-12T06:02:00.207399Z",
     "start_time": "2022-06-12T06:02:00.184433Z"
    }
   },
   "outputs": [
    {
     "data": {
      "text/html": [
       "<div>\n",
       "<style scoped>\n",
       "    .dataframe tbody tr th:only-of-type {\n",
       "        vertical-align: middle;\n",
       "    }\n",
       "\n",
       "    .dataframe tbody tr th {\n",
       "        vertical-align: top;\n",
       "    }\n",
       "\n",
       "    .dataframe thead th {\n",
       "        text-align: right;\n",
       "    }\n",
       "</style>\n",
       "<table border=\"1\" class=\"dataframe\">\n",
       "  <thead>\n",
       "    <tr style=\"text-align: right;\">\n",
       "      <th></th>\n",
       "      <th>YEAR</th>\n",
       "      <th>SUNACTIVITY</th>\n",
       "    </tr>\n",
       "  </thead>\n",
       "  <tbody>\n",
       "    <tr>\n",
       "      <th>0</th>\n",
       "      <td>1700</td>\n",
       "      <td>5.0</td>\n",
       "    </tr>\n",
       "    <tr>\n",
       "      <th>1</th>\n",
       "      <td>1701</td>\n",
       "      <td>11.0</td>\n",
       "    </tr>\n",
       "    <tr>\n",
       "      <th>2</th>\n",
       "      <td>1702</td>\n",
       "      <td>16.0</td>\n",
       "    </tr>\n",
       "    <tr>\n",
       "      <th>3</th>\n",
       "      <td>1703</td>\n",
       "      <td>23.0</td>\n",
       "    </tr>\n",
       "    <tr>\n",
       "      <th>4</th>\n",
       "      <td>1704</td>\n",
       "      <td>36.0</td>\n",
       "    </tr>\n",
       "    <tr>\n",
       "      <th>...</th>\n",
       "      <td>...</td>\n",
       "      <td>...</td>\n",
       "    </tr>\n",
       "    <tr>\n",
       "      <th>304</th>\n",
       "      <td>2004</td>\n",
       "      <td>40.4</td>\n",
       "    </tr>\n",
       "    <tr>\n",
       "      <th>305</th>\n",
       "      <td>2005</td>\n",
       "      <td>29.8</td>\n",
       "    </tr>\n",
       "    <tr>\n",
       "      <th>306</th>\n",
       "      <td>2006</td>\n",
       "      <td>15.2</td>\n",
       "    </tr>\n",
       "    <tr>\n",
       "      <th>307</th>\n",
       "      <td>2007</td>\n",
       "      <td>7.5</td>\n",
       "    </tr>\n",
       "    <tr>\n",
       "      <th>308</th>\n",
       "      <td>2008</td>\n",
       "      <td>2.9</td>\n",
       "    </tr>\n",
       "  </tbody>\n",
       "</table>\n",
       "<p>309 rows × 2 columns</p>\n",
       "</div>"
      ],
      "text/plain": [
       "     YEAR  SUNACTIVITY\n",
       "0    1700          5.0\n",
       "1    1701         11.0\n",
       "2    1702         16.0\n",
       "3    1703         23.0\n",
       "4    1704         36.0\n",
       "..    ...          ...\n",
       "304  2004         40.4\n",
       "305  2005         29.8\n",
       "306  2006         15.2\n",
       "307  2007          7.5\n",
       "308  2008          2.9\n",
       "\n",
       "[309 rows x 2 columns]"
      ]
     },
     "execution_count": 71,
     "metadata": {},
     "output_type": "execute_result"
    }
   ],
   "source": [
    "df= pd.read_csv(r'C:\\Users\\pbann\\Downloads\\Time Series-sudha-20220612T054733Z-001\\ML11 4\\sunspots.csv')\n",
    "df"
   ]
  },
  {
   "cell_type": "code",
   "execution_count": 72,
   "id": "1e0c8b15",
   "metadata": {
    "ExecuteTime": {
     "end_time": "2022-06-12T06:02:01.374164Z",
     "start_time": "2022-06-12T06:02:01.356737Z"
    }
   },
   "outputs": [],
   "source": [
    "df.index = pd.Index(sm.tsa.datetools.dates_from_range('1700', '2008'))\n",
    "del df[\"YEAR\"]"
   ]
  },
  {
   "cell_type": "code",
   "execution_count": 73,
   "id": "10d7fe2e",
   "metadata": {
    "ExecuteTime": {
     "end_time": "2022-06-12T06:02:02.666629Z",
     "start_time": "2022-06-12T06:02:02.651647Z"
    }
   },
   "outputs": [
    {
     "data": {
      "text/html": [
       "<div>\n",
       "<style scoped>\n",
       "    .dataframe tbody tr th:only-of-type {\n",
       "        vertical-align: middle;\n",
       "    }\n",
       "\n",
       "    .dataframe tbody tr th {\n",
       "        vertical-align: top;\n",
       "    }\n",
       "\n",
       "    .dataframe thead th {\n",
       "        text-align: right;\n",
       "    }\n",
       "</style>\n",
       "<table border=\"1\" class=\"dataframe\">\n",
       "  <thead>\n",
       "    <tr style=\"text-align: right;\">\n",
       "      <th></th>\n",
       "      <th>SUNACTIVITY</th>\n",
       "    </tr>\n",
       "  </thead>\n",
       "  <tbody>\n",
       "    <tr>\n",
       "      <th>1700-12-31</th>\n",
       "      <td>5.0</td>\n",
       "    </tr>\n",
       "    <tr>\n",
       "      <th>1701-12-31</th>\n",
       "      <td>11.0</td>\n",
       "    </tr>\n",
       "    <tr>\n",
       "      <th>1702-12-31</th>\n",
       "      <td>16.0</td>\n",
       "    </tr>\n",
       "    <tr>\n",
       "      <th>1703-12-31</th>\n",
       "      <td>23.0</td>\n",
       "    </tr>\n",
       "    <tr>\n",
       "      <th>1704-12-31</th>\n",
       "      <td>36.0</td>\n",
       "    </tr>\n",
       "    <tr>\n",
       "      <th>...</th>\n",
       "      <td>...</td>\n",
       "    </tr>\n",
       "    <tr>\n",
       "      <th>2004-12-31</th>\n",
       "      <td>40.4</td>\n",
       "    </tr>\n",
       "    <tr>\n",
       "      <th>2005-12-31</th>\n",
       "      <td>29.8</td>\n",
       "    </tr>\n",
       "    <tr>\n",
       "      <th>2006-12-31</th>\n",
       "      <td>15.2</td>\n",
       "    </tr>\n",
       "    <tr>\n",
       "      <th>2007-12-31</th>\n",
       "      <td>7.5</td>\n",
       "    </tr>\n",
       "    <tr>\n",
       "      <th>2008-12-31</th>\n",
       "      <td>2.9</td>\n",
       "    </tr>\n",
       "  </tbody>\n",
       "</table>\n",
       "<p>309 rows × 1 columns</p>\n",
       "</div>"
      ],
      "text/plain": [
       "            SUNACTIVITY\n",
       "1700-12-31          5.0\n",
       "1701-12-31         11.0\n",
       "1702-12-31         16.0\n",
       "1703-12-31         23.0\n",
       "1704-12-31         36.0\n",
       "...                 ...\n",
       "2004-12-31         40.4\n",
       "2005-12-31         29.8\n",
       "2006-12-31         15.2\n",
       "2007-12-31          7.5\n",
       "2008-12-31          2.9\n",
       "\n",
       "[309 rows x 1 columns]"
      ]
     },
     "execution_count": 73,
     "metadata": {},
     "output_type": "execute_result"
    }
   ],
   "source": [
    "df"
   ]
  },
  {
   "cell_type": "code",
   "execution_count": null,
   "id": "00675919",
   "metadata": {},
   "outputs": [],
   "source": []
  }
 ],
 "metadata": {
  "kernelspec": {
   "display_name": "Python 3 (ipykernel)",
   "language": "python",
   "name": "python3"
  },
  "language_info": {
   "codemirror_mode": {
    "name": "ipython",
    "version": 3
   },
   "file_extension": ".py",
   "mimetype": "text/x-python",
   "name": "python",
   "nbconvert_exporter": "python",
   "pygments_lexer": "ipython3",
   "version": "3.9.7"
  }
 },
 "nbformat": 4,
 "nbformat_minor": 5
}
