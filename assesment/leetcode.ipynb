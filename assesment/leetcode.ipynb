{
 "cells": [
  {
   "cell_type": "markdown",
   "id": "6526018e",
   "metadata": {},
   "source": [
    "1.Given an array of integers nums and an integer target, return indices of the two numbers such that they add up to target.\n",
    "\n",
    "You may assume that each input would have exactly one solution, and you may not use the same element twice.\n",
    "\n",
    "You can return the answer in any order.\n",
    "\n",
    " \n",
    "\n",
    "Example 1:\n",
    "\n",
    "Input: nums = [2,7,11,15], target = 9\n",
    "Output: [0,1]\n",
    "Explanation: Because nums[0] + nums[1] == 9, we return [0, 1].\n",
    "Example 2:\n",
    "\n",
    "Input: nums = [3,2,4], target = 6\n",
    "Output: [1,2]"
   ]
  },
  {
   "cell_type": "code",
   "execution_count": 6,
   "id": "339a8e26",
   "metadata": {
    "ExecuteTime": {
     "end_time": "2023-10-14T14:26:59.332041Z",
     "start_time": "2023-10-14T14:26:59.324526Z"
    }
   },
   "outputs": [
    {
     "name": "stdout",
     "output_type": "stream",
     "text": [
      "1 0\n"
     ]
    }
   ],
   "source": [
    "l1=[2,7,11,15]\n",
    "target=9\n",
    "for i in l1:\n",
    "    for j in l1:\n",
    "        if i+j == target:\n",
    "            print(l1.index(i),l1.index(j))\n",
    "        break"
   ]
  },
  {
   "cell_type": "code",
   "execution_count": null,
   "id": "798cbfd4",
   "metadata": {},
   "outputs": [],
   "source": [
    "3. Longest Substring Without Repeating Characters\n",
    "Medium\n",
    "Topics\n",
    "Companies\n",
    "Given a string s, find the length of the longest \n",
    "substring\n",
    " without repeating characters.\n",
    "\n",
    " \n",
    "\n",
    "Example 1:\n",
    "\n",
    "Input: s = \"abcabcbb\"\n",
    "Output: 3\n",
    "Explanation: The answer is \"abc\", with the length of 3.\n",
    "Example 2:\n",
    "\n",
    "Input: s = \"bbbbb\"\n",
    "Output: 1\n",
    "Explanation: The answer is \"b\", with the length of 1.\n",
    "Example 3:\n",
    "\n",
    "Input: s = \"pwwkew\"\n",
    "Output: 3\n",
    "Explanation: The answer is \"wke\", with the length of 3.\n",
    "Notice that the answer must be a substring, \"pwke\" is a subsequence and not a substring."
   ]
  },
  {
   "cell_type": "code",
   "execution_count": 18,
   "id": "eaf92bfa",
   "metadata": {
    "ExecuteTime": {
     "end_time": "2023-10-14T14:54:23.687162Z",
     "start_time": "2023-10-14T14:54:23.668898Z"
    }
   },
   "outputs": [
    {
     "ename": "TypeError",
     "evalue": "slice indices must be integers or None or have an __index__ method",
     "output_type": "error",
     "traceback": [
      "\u001b[1;31m---------------------------------------------------------------------------\u001b[0m",
      "\u001b[1;31mTypeError\u001b[0m                                 Traceback (most recent call last)",
      "\u001b[1;32m~\\AppData\\Local\\Temp\\ipykernel_34160\\1058594881.py\u001b[0m in \u001b[0;36m<module>\u001b[1;34m\u001b[0m\n\u001b[0;32m      6\u001b[0m     \u001b[1;32melse\u001b[0m\u001b[1;33m:\u001b[0m\u001b[1;33m\u001b[0m\u001b[1;33m\u001b[0m\u001b[0m\n\u001b[0;32m      7\u001b[0m         \u001b[0ma\u001b[0m\u001b[1;33m=\u001b[0m\u001b[0ma\u001b[0m\u001b[1;33m+\u001b[0m\u001b[0ms\u001b[0m\u001b[1;33m[\u001b[0m\u001b[0mi\u001b[0m\u001b[1;33m]\u001b[0m\u001b[1;33m+\u001b[0m\u001b[0ms\u001b[0m\u001b[1;33m[\u001b[0m\u001b[0mi\u001b[0m\u001b[1;33m+\u001b[0m\u001b[1;36m1\u001b[0m\u001b[1;33m]\u001b[0m\u001b[1;33m\u001b[0m\u001b[1;33m\u001b[0m\u001b[0m\n\u001b[1;32m----> 8\u001b[1;33m         \u001b[0ms\u001b[0m\u001b[1;33m=\u001b[0m\u001b[0ms\u001b[0m\u001b[1;33m[\u001b[0m\u001b[0ms\u001b[0m\u001b[1;33m[\u001b[0m\u001b[0mi\u001b[0m\u001b[1;33m]\u001b[0m\u001b[1;33m:\u001b[0m\u001b[1;33m]\u001b[0m\u001b[1;33m\u001b[0m\u001b[1;33m\u001b[0m\u001b[0m\n\u001b[0m\u001b[0;32m      9\u001b[0m \u001b[1;33m\u001b[0m\u001b[0m\n",
      "\u001b[1;31mTypeError\u001b[0m: slice indices must be integers or None or have an __index__ method"
     ]
    }
   ],
   "source": [
    "s = \"pwwkew\"\n",
    "a=''\n",
    "for i in range(len(s)-1): \n",
    "    if s[i]!=s[i+1]:\n",
    "        continue\n",
    "    else:\n",
    "        a=a+s[i]+s[i+1]\n",
    "\n",
    "        "
   ]
  },
  {
   "cell_type": "code",
   "execution_count": 19,
   "id": "fe30474a",
   "metadata": {
    "ExecuteTime": {
     "end_time": "2023-10-14T15:48:54.146590Z",
     "start_time": "2023-10-14T15:48:54.135588Z"
    }
   },
   "outputs": [
    {
     "name": "stdout",
     "output_type": "stream",
     "text": [
      "3\n",
      "1\n",
      "3\n"
     ]
    }
   ],
   "source": [
    "def lengthOfLongestSubstring(s):\n",
    "    # Create a dictionary to store the index of each character in the string\n",
    "    d = {}\n",
    "    max_length = 0  # Initialize the maximum length\n",
    "    start = 0  # Initialize the start of the sliding window\n",
    "\n",
    "    for i in range(len(s)):\n",
    "        if s[i] in d and d[s[i]] >= start:\n",
    "            # If the character is already in the dictionary and its index is within the current window\n",
    "            start = d[s[i]] + 1\n",
    "\n",
    "        d[s[i]] = i  # Update the index of the character\n",
    "        max_length = max(max_length, i - start + 1)\n",
    "\n",
    "    return max_length\n",
    "\n",
    "# Test cases\n",
    "print(lengthOfLongestSubstring(\"abcabcbb\"))  # Output: 3\n",
    "print(lengthOfLongestSubstring(\"bbbbb\"))    # Output: 1\n",
    "print(lengthOfLongestSubstring(\"pwwkew\"))   # Output: 3\n"
   ]
  },
  {
   "cell_type": "code",
   "execution_count": null,
   "id": "c850a225",
   "metadata": {},
   "outputs": [],
   "source": [
    "def lengthOfLongestSubstring(s):\n",
    "    max_length = 0  # Initialize the maximum length\n",
    "    char_set = set()  # Create a set to store unique characters\n",
    "    start = 0  # Initialize the start of the current substring\n",
    "\n",
    "    for end in range(len(s)):\n",
    "        while s[end] in char_set:\n",
    "            char_set.remove(s[start])\n",
    "            start += 1\n",
    "\n",
    "        char_set.add(s[end])\n",
    "        max_length = max(max_length, end - start + 1)\n",
    "\n",
    "    return max_length\n",
    "\n",
    "# Test cases\n",
    "print(lengthOfLongestSubstring(\"abcabcbb\"))  # Output: 3\n",
    "print(lengthOfLongestSubstring(\"bbbbb\"))    # Output: 1\n",
    "print(lengthOfLongestSubstring(\"pwwkew\"))   # Output: 3\n"
   ]
  },
  {
   "cell_type": "code",
   "execution_count": null,
   "id": "97270812",
   "metadata": {},
   "outputs": [],
   "source": []
  },
  {
   "cell_type": "code",
   "execution_count": null,
   "id": "8fb137a3",
   "metadata": {},
   "outputs": [],
   "source": []
  },
  {
   "cell_type": "code",
   "execution_count": null,
   "id": "f104e64d",
   "metadata": {},
   "outputs": [],
   "source": []
  },
  {
   "cell_type": "code",
   "execution_count": null,
   "id": "41ef57ce",
   "metadata": {},
   "outputs": [],
   "source": []
  },
  {
   "cell_type": "code",
   "execution_count": null,
   "id": "d078aab1",
   "metadata": {},
   "outputs": [],
   "source": []
  },
  {
   "cell_type": "code",
   "execution_count": null,
   "id": "1cefbb91",
   "metadata": {},
   "outputs": [],
   "source": [
    "class Solution:\n",
    "    def lengthOfLongestSubstring(self, s: str) -> int:\n",
    "        n = len(s)\n",
    "        maxLength = 0\n",
    "        charSet = set()\n",
    "        left = 0\n",
    "        \n",
    "        for right in range(n):\n",
    "            if s[right] not in charSet:\n",
    "                charSet.add(s[right])\n",
    "                maxLength = max(maxLength, right - left + 1)\n",
    "            else:\n",
    "                while s[right] in charSet:\n",
    "                    charSet.remove(s[left])\n",
    "                    left += 1\n",
    "                charSet.add(s[right])\n",
    "        \n",
    "        return maxLength"
   ]
  },
  {
   "cell_type": "code",
   "execution_count": null,
   "id": "e673e347",
   "metadata": {},
   "outputs": [],
   "source": [
    "4. Median of Two Sorted Arrays\n",
    "Hard\n",
    "Topics\n",
    "Companies\n",
    "Given two sorted arrays nums1 and nums2 of size m and n respectively, return the median of the two sorted arrays.\n",
    "\n",
    "The overall run time complexity should be O(log (m+n)).\n",
    "\n",
    " \n",
    "\n",
    "Example 1:\n",
    "\n",
    "Input: nums1 = [1,3], nums2 = [2]\n",
    "Output: 2.00000\n",
    "Explanation: merged array = [1,2,3] and median is 2.\n",
    "Example 2:\n",
    "\n",
    "Input: nums1 = [1,2], nums2 = [3,4]\n",
    "Output: 2.50000\n",
    "Explanation: merged array = [1,2,3,4] and median is (2 + 3) / 2 = 2.5.\n",
    " "
   ]
  },
  {
   "cell_type": "code",
   "execution_count": null,
   "id": "13fcf6b7",
   "metadata": {},
   "outputs": [],
   "source": [
    "class Solution:\n",
    "    def findMedianSortedArrays(self, nums1, nums2):\n",
    "        # Merge the arrays into a single sorted array.\n",
    "        merged = nums1 + nums2\n",
    "\n",
    "        # Sort the merged array.\n",
    "        merged.sort()\n",
    "\n",
    "        # Calculate the total number of elements in the merged array.\n",
    "        total = len(merged)\n",
    "\n",
    "        if total % 2 == 1:\n",
    "            # If the total number of elements is odd, return the middle element as the median.\n",
    "            return float(merged[total // 2])\n",
    "        else:\n",
    "            # If the total number of elements is even, calculate the average of the two middle elements as the median.\n",
    "            middle1 = merged[total // 2 - 1]\n",
    "            middle2 = merged[total // 2]\n",
    "            return (float(middle1) + float(middle2)) / 2.0"
   ]
  },
  {
   "cell_type": "code",
   "execution_count": null,
   "id": "fb32c381",
   "metadata": {},
   "outputs": [],
   "source": [
    "\n",
    "5. Longest Palindromic Substring\n",
    "Medium\n",
    "Given a string s, return the longest \n",
    "palindromic\n",
    "substring\n",
    " in s.\n",
    "Example 1:\n",
    "\n",
    "Input: s = \"babad\"\n",
    "Output: \"bab\"\n",
    "Explanation: \"aba\" is also a valid answer.\n",
    "Example 2:\n",
    "\n",
    "Input: s = \"cbbd\"\n",
    "Output: \"bb\"\n",
    " "
   ]
  },
  {
   "cell_type": "code",
   "execution_count": null,
   "id": "3dfed5b0",
   "metadata": {},
   "outputs": [],
   "source": [
    "class Solution:\n",
    "    def longestPalindrome(self, s):\n",
    "        def expand(l, r):\n",
    "            while l >= 0 and r < len(s) and s[l] == s[r]:\n",
    "                l -= 1\n",
    "                r += 1\n",
    "            return s[l+1:r]\n",
    "\n",
    "        result = \"\"\n",
    "        for i in range(len(s)):\n",
    "            sub1 = expand(i, i)\n",
    "            if len(sub1) > len(result):\n",
    "                result = sub1\n",
    "            sub2 = expand(i, i+1)\n",
    "            if len(sub2) > len(result):\n",
    "                result = sub2\n",
    "        return result"
   ]
  },
  {
   "cell_type": "code",
   "execution_count": null,
   "id": "c4fce2c5",
   "metadata": {},
   "outputs": [],
   "source": []
  },
  {
   "cell_type": "code",
   "execution_count": null,
   "id": "c9013aaf",
   "metadata": {},
   "outputs": [],
   "source": []
  },
  {
   "cell_type": "code",
   "execution_count": null,
   "id": "7371f03a",
   "metadata": {},
   "outputs": [],
   "source": []
  },
  {
   "cell_type": "code",
   "execution_count": null,
   "id": "6375d1bf",
   "metadata": {},
   "outputs": [],
   "source": []
  },
  {
   "cell_type": "code",
   "execution_count": null,
   "id": "da474cc5",
   "metadata": {},
   "outputs": [],
   "source": []
  },
  {
   "cell_type": "code",
   "execution_count": null,
   "id": "fb935376",
   "metadata": {},
   "outputs": [],
   "source": []
  },
  {
   "cell_type": "code",
   "execution_count": null,
   "id": "32f931fa",
   "metadata": {},
   "outputs": [],
   "source": []
  },
  {
   "cell_type": "code",
   "execution_count": null,
   "id": "87f670cc",
   "metadata": {},
   "outputs": [],
   "source": []
  },
  {
   "cell_type": "code",
   "execution_count": null,
   "id": "ffe920fd",
   "metadata": {},
   "outputs": [],
   "source": []
  }
 ],
 "metadata": {
  "kernelspec": {
   "display_name": "Python 3 (ipykernel)",
   "language": "python",
   "name": "python3"
  },
  "language_info": {
   "codemirror_mode": {
    "name": "ipython",
    "version": 3
   },
   "file_extension": ".py",
   "mimetype": "text/x-python",
   "name": "python",
   "nbconvert_exporter": "python",
   "pygments_lexer": "ipython3",
   "version": "3.9.13"
  }
 },
 "nbformat": 4,
 "nbformat_minor": 5
}
