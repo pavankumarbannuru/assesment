{
 "cells": [
  {
   "cell_type": "code",
   "execution_count": null,
   "id": "2d0b8285",
   "metadata": {},
   "outputs": [],
   "source": [
    "Task Expectations:\n",
    "\n",
    "Review the attached data for paid, owned, and earned media channels.\n",
    "Identify the key metrics that should be measured for each channel, insights that are actionable and client outcomes that are impactful.\n",
    "Analyze the data to synthesize insights and trends.\n",
    "Provide recommendations based on the insights derived from the data.\n",
    "Create a concise visually appealing presentation to showcase your findings and recommendations in a powerpoint presentation OR dashboard in PowerBI / Tableau / Looker Studio – where :-\n",
    "first tab / slide should be the filled-in playbook.\n",
    "second tab / slide on correlation between paid data and earned conversations, insights on how all the three channels have impacted each other.\n",
    "third tab / slide on detailed paid performance\n",
    "fourth tab / slide on owned social media performance (ER by social content themes; monthly unique visits to website, session duration, referral sources etc. if you could download web domain data from free tools)\n",
    "fifth on detailed earned conversations/media article thematic segmentation (avoid using bag of words only but try LDA / TF-IDF) and sentiment analysis.\n",
    "Clearly articulate the outcomes that can be accomplished through effective measurement and analysis of each media channel.\n",
    " \n",
    "\n",
    "Instructions:\n",
    "\n",
    "Analyze the paid media data and identify the effectiveness of ad campaigns, messaging, and ad spend efficiency. Provide recommendations on how to optimize ad spend and increase conversions.\n",
    "Evaluate the owned media data to understand owned social content performance. If need be, use free versions of SEMRush/SimilarWeb to gather website traffic data as well, social media engagement rates, and email marketing performance. Suggest strategies to enhance brand visibility, customer relationships, and lead generation.\n",
    "Assess the earned media data to assess brand awareness using reach/impressions, brand perception using sentiment analysis. Provide insights on how to expand brand reach, improve brand perception.\n",
    "Summarize your findings, insights, and recommendations in a concise and compelling manner.\n",
    "Present your analysis and recommendations in a visually appealing slide deck or report format"
   ]
  },
  {
   "cell_type": "code",
   "execution_count": 1,
   "id": "423d1c95",
   "metadata": {
    "ExecuteTime": {
     "end_time": "2023-06-04T09:51:04.056285Z",
     "start_time": "2023-06-04T09:51:01.418527Z"
    }
   },
   "outputs": [],
   "source": [
    "import pandas as pd \n",
    "import matplotlib.pyplot as plt\n",
    "import seaborn as sns \n",
    "import numpy"
   ]
  },
  {
   "cell_type": "code",
   "execution_count": 6,
   "id": "c161ddcd",
   "metadata": {
    "ExecuteTime": {
     "end_time": "2023-05-25T02:10:20.687533Z",
     "start_time": "2023-05-25T02:10:20.415350Z"
    }
   },
   "outputs": [],
   "source": [
    "paid=pd.read_excel(r\"C:\\Users\\pbann\\Downloads\\Task Data - Paid, Owned & Earned (1).xlsx\",sheet_name=1)"
   ]
  },
  {
   "cell_type": "code",
   "execution_count": 3,
   "id": "53cd3dea",
   "metadata": {
    "ExecuteTime": {
     "end_time": "2023-06-01T14:12:51.224904Z",
     "start_time": "2023-06-01T14:12:50.394909Z"
    }
   },
   "outputs": [],
   "source": [
    "owned=pd.read_excel(r\"C:\\Users\\pbann\\Downloads\\Task Data - Paid, Owned & Earned (1).xlsx\",sheet_name=2)"
   ]
  },
  {
   "cell_type": "code",
   "execution_count": 5,
   "id": "c7c2f1e7",
   "metadata": {
    "ExecuteTime": {
     "end_time": "2023-06-01T14:13:17.686932Z",
     "start_time": "2023-06-01T14:13:15.584777Z"
    }
   },
   "outputs": [],
   "source": [
    "earned=pd.read_excel(r\"C:\\Users\\pbann\\Downloads\\Task Data - Paid, Owned & Earned (1).xlsx\",sheet_name=3)"
   ]
  },
  {
   "cell_type": "code",
   "execution_count": 9,
   "id": "8cb19611",
   "metadata": {
    "ExecuteTime": {
     "end_time": "2023-05-25T02:13:38.028995Z",
     "start_time": "2023-05-25T02:13:38.012988Z"
    }
   },
   "outputs": [
    {
     "data": {
      "text/html": [
       "<div>\n",
       "<style scoped>\n",
       "    .dataframe tbody tr th:only-of-type {\n",
       "        vertical-align: middle;\n",
       "    }\n",
       "\n",
       "    .dataframe tbody tr th {\n",
       "        vertical-align: top;\n",
       "    }\n",
       "\n",
       "    .dataframe thead th {\n",
       "        text-align: right;\n",
       "    }\n",
       "</style>\n",
       "<table border=\"1\" class=\"dataframe\">\n",
       "  <thead>\n",
       "    <tr style=\"text-align: right;\">\n",
       "      <th></th>\n",
       "      <th>Campaign Name</th>\n",
       "      <th>Country</th>\n",
       "      <th>Programme</th>\n",
       "      <th>Platform</th>\n",
       "      <th>Assets</th>\n",
       "      <th>Result Type</th>\n",
       "      <th>Results</th>\n",
       "      <th>Engagement</th>\n",
       "      <th>Impressions</th>\n",
       "      <th>Cost Per Result(INR)</th>\n",
       "      <th>Total Spend(INR)</th>\n",
       "      <th>Cost Per Result(USD)</th>\n",
       "      <th>Total Spend(USD)</th>\n",
       "      <th>Clicks (All)</th>\n",
       "      <th>Video Views</th>\n",
       "      <th>Tweet Engagements</th>\n",
       "    </tr>\n",
       "  </thead>\n",
       "  <tbody>\n",
       "    <tr>\n",
       "      <th>0</th>\n",
       "      <td>FY22 Aruba Japan CPE Cloud Networking   Higher...</td>\n",
       "      <td>Japan</td>\n",
       "      <td>Cloud Networking</td>\n",
       "      <td>Twitter-Japan</td>\n",
       "      <td>NaN</td>\n",
       "      <td>Tweet engagements</td>\n",
       "      <td>60</td>\n",
       "      <td>60</td>\n",
       "      <td>6102</td>\n",
       "      <td>34.066667</td>\n",
       "      <td>2044.0</td>\n",
       "      <td>0.466667</td>\n",
       "      <td>28.0</td>\n",
       "      <td>46</td>\n",
       "      <td>0.0</td>\n",
       "      <td>60</td>\n",
       "    </tr>\n",
       "    <tr>\n",
       "      <th>1</th>\n",
       "      <td>FY22 Aruba Japan CPC Cloud Networking   Higher...</td>\n",
       "      <td>Japan</td>\n",
       "      <td>Cloud Networking</td>\n",
       "      <td>Twitter-Japan</td>\n",
       "      <td>NaN</td>\n",
       "      <td>Link clicks</td>\n",
       "      <td>14</td>\n",
       "      <td>148</td>\n",
       "      <td>25798</td>\n",
       "      <td>146.000000</td>\n",
       "      <td>2044.0</td>\n",
       "      <td>2.000000</td>\n",
       "      <td>28.0</td>\n",
       "      <td>91</td>\n",
       "      <td>0.0</td>\n",
       "      <td>148</td>\n",
       "    </tr>\n",
       "    <tr>\n",
       "      <th>2</th>\n",
       "      <td>FY22 Aruba Japan CPE Cloud Networking  Retail ...</td>\n",
       "      <td>Japan</td>\n",
       "      <td>Cloud Networking</td>\n",
       "      <td>Twitter-Japan</td>\n",
       "      <td>NaN</td>\n",
       "      <td>Tweet engagements</td>\n",
       "      <td>49</td>\n",
       "      <td>49</td>\n",
       "      <td>5994</td>\n",
       "      <td>37.244898</td>\n",
       "      <td>1825.0</td>\n",
       "      <td>0.510204</td>\n",
       "      <td>25.0</td>\n",
       "      <td>37</td>\n",
       "      <td>0.0</td>\n",
       "      <td>49</td>\n",
       "    </tr>\n",
       "    <tr>\n",
       "      <th>3</th>\n",
       "      <td>FY22 Aruba Japan CPC Cloud Networking  Retail ...</td>\n",
       "      <td>Japan</td>\n",
       "      <td>Cloud Networking</td>\n",
       "      <td>Twitter-Japan</td>\n",
       "      <td>NaN</td>\n",
       "      <td>Link clicks</td>\n",
       "      <td>14</td>\n",
       "      <td>82</td>\n",
       "      <td>11915</td>\n",
       "      <td>130.357143</td>\n",
       "      <td>1825.0</td>\n",
       "      <td>1.785714</td>\n",
       "      <td>25.0</td>\n",
       "      <td>62</td>\n",
       "      <td>0.0</td>\n",
       "      <td>82</td>\n",
       "    </tr>\n",
       "    <tr>\n",
       "      <th>4</th>\n",
       "      <td>FY22 Aruba Australia CPE Cloud Networking  Aru...</td>\n",
       "      <td>Australia</td>\n",
       "      <td>Cloud Networking</td>\n",
       "      <td>Twitter-APAC</td>\n",
       "      <td>NaN</td>\n",
       "      <td>Tweet engagements</td>\n",
       "      <td>475</td>\n",
       "      <td>475</td>\n",
       "      <td>5439</td>\n",
       "      <td>4.303158</td>\n",
       "      <td>2044.0</td>\n",
       "      <td>0.058947</td>\n",
       "      <td>28.0</td>\n",
       "      <td>22</td>\n",
       "      <td>0.0</td>\n",
       "      <td>475</td>\n",
       "    </tr>\n",
       "  </tbody>\n",
       "</table>\n",
       "</div>"
      ],
      "text/plain": [
       "                                       Campaign Name    Country  \\\n",
       "0  FY22 Aruba Japan CPE Cloud Networking   Higher...      Japan   \n",
       "1  FY22 Aruba Japan CPC Cloud Networking   Higher...      Japan   \n",
       "2  FY22 Aruba Japan CPE Cloud Networking  Retail ...      Japan   \n",
       "3  FY22 Aruba Japan CPC Cloud Networking  Retail ...      Japan   \n",
       "4  FY22 Aruba Australia CPE Cloud Networking  Aru...  Australia   \n",
       "\n",
       "          Programme       Platform  Assets        Result Type  Results  \\\n",
       "0  Cloud Networking  Twitter-Japan     NaN  Tweet engagements       60   \n",
       "1  Cloud Networking  Twitter-Japan     NaN        Link clicks       14   \n",
       "2  Cloud Networking  Twitter-Japan     NaN  Tweet engagements       49   \n",
       "3  Cloud Networking  Twitter-Japan     NaN        Link clicks       14   \n",
       "4  Cloud Networking   Twitter-APAC     NaN  Tweet engagements      475   \n",
       "\n",
       "   Engagement  Impressions  Cost Per Result(INR)  Total Spend(INR)  \\\n",
       "0          60         6102             34.066667            2044.0   \n",
       "1         148        25798            146.000000            2044.0   \n",
       "2          49         5994             37.244898            1825.0   \n",
       "3          82        11915            130.357143            1825.0   \n",
       "4         475         5439              4.303158            2044.0   \n",
       "\n",
       "   Cost Per Result(USD)  Total Spend(USD)  Clicks (All)  Video Views  \\\n",
       "0              0.466667              28.0            46          0.0   \n",
       "1              2.000000              28.0            91          0.0   \n",
       "2              0.510204              25.0            37          0.0   \n",
       "3              1.785714              25.0            62          0.0   \n",
       "4              0.058947              28.0            22          0.0   \n",
       "\n",
       "   Tweet Engagements  \n",
       "0                 60  \n",
       "1                148  \n",
       "2                 49  \n",
       "3                 82  \n",
       "4                475  "
      ]
     },
     "execution_count": 9,
     "metadata": {},
     "output_type": "execute_result"
    }
   ],
   "source": [
    "paid.head(5)"
   ]
  },
  {
   "cell_type": "code",
   "execution_count": 10,
   "id": "49e6cecf",
   "metadata": {
    "ExecuteTime": {
     "end_time": "2023-05-25T02:13:50.455368Z",
     "start_time": "2023-05-25T02:13:50.445388Z"
    }
   },
   "outputs": [],
   "source": [
    "df=paid"
   ]
  },
  {
   "cell_type": "code",
   "execution_count": 11,
   "id": "50501baf",
   "metadata": {
    "ExecuteTime": {
     "end_time": "2023-05-25T02:14:00.819817Z",
     "start_time": "2023-05-25T02:14:00.805818Z"
    }
   },
   "outputs": [
    {
     "data": {
      "text/plain": [
       "Campaign Name            0\n",
       "Country                  0\n",
       "Programme                0\n",
       "Platform                 0\n",
       "Assets                  39\n",
       "Result Type              0\n",
       "Results                  0\n",
       "Engagement               0\n",
       "Impressions              0\n",
       "Cost Per Result(INR)     0\n",
       "Total Spend(INR)         0\n",
       "Cost Per Result(USD)     0\n",
       "Total Spend(USD)         0\n",
       "Clicks (All)             0\n",
       "Video Views             17\n",
       "Tweet Engagements        0\n",
       "dtype: int64"
      ]
     },
     "execution_count": 11,
     "metadata": {},
     "output_type": "execute_result"
    }
   ],
   "source": [
    "df.isnull().sum()"
   ]
  },
  {
   "cell_type": "code",
   "execution_count": 14,
   "id": "a2dca416",
   "metadata": {
    "ExecuteTime": {
     "end_time": "2023-05-25T02:14:56.379432Z",
     "start_time": "2023-05-25T02:14:56.359438Z"
    }
   },
   "outputs": [
    {
     "data": {
      "text/plain": [
       "array([nan])"
      ]
     },
     "execution_count": 14,
     "metadata": {},
     "output_type": "execute_result"
    }
   ],
   "source": [
    "df['Assets'].unique()"
   ]
  },
  {
   "cell_type": "code",
   "execution_count": 15,
   "id": "1e035158",
   "metadata": {
    "ExecuteTime": {
     "end_time": "2023-05-25T02:15:37.958666Z",
     "start_time": "2023-05-25T02:15:37.945155Z"
    }
   },
   "outputs": [
    {
     "data": {
      "text/plain": [
       "array([   0.,   nan,  788.,  217.,  208., 1759.])"
      ]
     },
     "execution_count": 15,
     "metadata": {},
     "output_type": "execute_result"
    }
   ],
   "source": [
    "df['Video Views'].unique()"
   ]
  },
  {
   "cell_type": "code",
   "execution_count": 22,
   "id": "f9459344",
   "metadata": {
    "ExecuteTime": {
     "end_time": "2023-05-25T02:21:54.493738Z",
     "start_time": "2023-05-25T02:21:54.477773Z"
    }
   },
   "outputs": [],
   "source": [
    "df['Video Views']=df['Video Views'].fillna(0)"
   ]
  },
  {
   "cell_type": "code",
   "execution_count": 23,
   "id": "5754b0d0",
   "metadata": {
    "ExecuteTime": {
     "end_time": "2023-05-25T02:22:02.937681Z",
     "start_time": "2023-05-25T02:22:02.926699Z"
    }
   },
   "outputs": [
    {
     "data": {
      "text/plain": [
       "array([   0.,  788.,  217.,  208., 1759.])"
      ]
     },
     "execution_count": 23,
     "metadata": {},
     "output_type": "execute_result"
    }
   ],
   "source": [
    "df['Video Views'].unique()"
   ]
  },
  {
   "cell_type": "code",
   "execution_count": 27,
   "id": "bdd2ad2e",
   "metadata": {
    "ExecuteTime": {
     "end_time": "2023-05-25T02:23:26.724293Z",
     "start_time": "2023-05-25T02:23:26.705239Z"
    }
   },
   "outputs": [],
   "source": [
    "df.drop('Assets',axis=1,inplace=True)"
   ]
  },
  {
   "cell_type": "code",
   "execution_count": 29,
   "id": "8f56bfbc",
   "metadata": {
    "ExecuteTime": {
     "end_time": "2023-05-25T02:24:51.796502Z",
     "start_time": "2023-05-25T02:24:51.774991Z"
    }
   },
   "outputs": [
    {
     "data": {
      "text/plain": [
       "Campaign Name           0\n",
       "Country                 0\n",
       "Programme               0\n",
       "Platform                0\n",
       "Result Type             0\n",
       "Results                 0\n",
       "Engagement              0\n",
       "Impressions             0\n",
       "Cost Per Result(INR)    0\n",
       "Total Spend(INR)        0\n",
       "Cost Per Result(USD)    0\n",
       "Total Spend(USD)        0\n",
       "Clicks (All)            0\n",
       "Video Views             0\n",
       "Tweet Engagements       0\n",
       "dtype: int64"
      ]
     },
     "execution_count": 29,
     "metadata": {},
     "output_type": "execute_result"
    }
   ],
   "source": [
    "df.isnull().sum()"
   ]
  },
  {
   "cell_type": "code",
   "execution_count": 30,
   "id": "d10d9464",
   "metadata": {
    "ExecuteTime": {
     "end_time": "2023-05-25T02:25:02.972640Z",
     "start_time": "2023-05-25T02:25:02.952648Z"
    }
   },
   "outputs": [
    {
     "data": {
      "text/html": [
       "<div>\n",
       "<style scoped>\n",
       "    .dataframe tbody tr th:only-of-type {\n",
       "        vertical-align: middle;\n",
       "    }\n",
       "\n",
       "    .dataframe tbody tr th {\n",
       "        vertical-align: top;\n",
       "    }\n",
       "\n",
       "    .dataframe thead th {\n",
       "        text-align: right;\n",
       "    }\n",
       "</style>\n",
       "<table border=\"1\" class=\"dataframe\">\n",
       "  <thead>\n",
       "    <tr style=\"text-align: right;\">\n",
       "      <th></th>\n",
       "      <th>Campaign Name</th>\n",
       "      <th>Country</th>\n",
       "      <th>Programme</th>\n",
       "      <th>Platform</th>\n",
       "      <th>Result Type</th>\n",
       "      <th>Results</th>\n",
       "      <th>Engagement</th>\n",
       "      <th>Impressions</th>\n",
       "      <th>Cost Per Result(INR)</th>\n",
       "      <th>Total Spend(INR)</th>\n",
       "      <th>Cost Per Result(USD)</th>\n",
       "      <th>Total Spend(USD)</th>\n",
       "      <th>Clicks (All)</th>\n",
       "      <th>Video Views</th>\n",
       "      <th>Tweet Engagements</th>\n",
       "    </tr>\n",
       "  </thead>\n",
       "  <tbody>\n",
       "    <tr>\n",
       "      <th>0</th>\n",
       "      <td>FY22 Aruba Japan CPE Cloud Networking   Higher...</td>\n",
       "      <td>Japan</td>\n",
       "      <td>Cloud Networking</td>\n",
       "      <td>Twitter-Japan</td>\n",
       "      <td>Tweet engagements</td>\n",
       "      <td>60</td>\n",
       "      <td>60</td>\n",
       "      <td>6102</td>\n",
       "      <td>34.066667</td>\n",
       "      <td>2044.0</td>\n",
       "      <td>0.466667</td>\n",
       "      <td>28.0</td>\n",
       "      <td>46</td>\n",
       "      <td>0.0</td>\n",
       "      <td>60</td>\n",
       "    </tr>\n",
       "    <tr>\n",
       "      <th>1</th>\n",
       "      <td>FY22 Aruba Japan CPC Cloud Networking   Higher...</td>\n",
       "      <td>Japan</td>\n",
       "      <td>Cloud Networking</td>\n",
       "      <td>Twitter-Japan</td>\n",
       "      <td>Link clicks</td>\n",
       "      <td>14</td>\n",
       "      <td>148</td>\n",
       "      <td>25798</td>\n",
       "      <td>146.000000</td>\n",
       "      <td>2044.0</td>\n",
       "      <td>2.000000</td>\n",
       "      <td>28.0</td>\n",
       "      <td>91</td>\n",
       "      <td>0.0</td>\n",
       "      <td>148</td>\n",
       "    </tr>\n",
       "    <tr>\n",
       "      <th>2</th>\n",
       "      <td>FY22 Aruba Japan CPE Cloud Networking  Retail ...</td>\n",
       "      <td>Japan</td>\n",
       "      <td>Cloud Networking</td>\n",
       "      <td>Twitter-Japan</td>\n",
       "      <td>Tweet engagements</td>\n",
       "      <td>49</td>\n",
       "      <td>49</td>\n",
       "      <td>5994</td>\n",
       "      <td>37.244898</td>\n",
       "      <td>1825.0</td>\n",
       "      <td>0.510204</td>\n",
       "      <td>25.0</td>\n",
       "      <td>37</td>\n",
       "      <td>0.0</td>\n",
       "      <td>49</td>\n",
       "    </tr>\n",
       "    <tr>\n",
       "      <th>3</th>\n",
       "      <td>FY22 Aruba Japan CPC Cloud Networking  Retail ...</td>\n",
       "      <td>Japan</td>\n",
       "      <td>Cloud Networking</td>\n",
       "      <td>Twitter-Japan</td>\n",
       "      <td>Link clicks</td>\n",
       "      <td>14</td>\n",
       "      <td>82</td>\n",
       "      <td>11915</td>\n",
       "      <td>130.357143</td>\n",
       "      <td>1825.0</td>\n",
       "      <td>1.785714</td>\n",
       "      <td>25.0</td>\n",
       "      <td>62</td>\n",
       "      <td>0.0</td>\n",
       "      <td>82</td>\n",
       "    </tr>\n",
       "    <tr>\n",
       "      <th>4</th>\n",
       "      <td>FY22 Aruba Australia CPE Cloud Networking  Aru...</td>\n",
       "      <td>Australia</td>\n",
       "      <td>Cloud Networking</td>\n",
       "      <td>Twitter-APAC</td>\n",
       "      <td>Tweet engagements</td>\n",
       "      <td>475</td>\n",
       "      <td>475</td>\n",
       "      <td>5439</td>\n",
       "      <td>4.303158</td>\n",
       "      <td>2044.0</td>\n",
       "      <td>0.058947</td>\n",
       "      <td>28.0</td>\n",
       "      <td>22</td>\n",
       "      <td>0.0</td>\n",
       "      <td>475</td>\n",
       "    </tr>\n",
       "  </tbody>\n",
       "</table>\n",
       "</div>"
      ],
      "text/plain": [
       "                                       Campaign Name    Country  \\\n",
       "0  FY22 Aruba Japan CPE Cloud Networking   Higher...      Japan   \n",
       "1  FY22 Aruba Japan CPC Cloud Networking   Higher...      Japan   \n",
       "2  FY22 Aruba Japan CPE Cloud Networking  Retail ...      Japan   \n",
       "3  FY22 Aruba Japan CPC Cloud Networking  Retail ...      Japan   \n",
       "4  FY22 Aruba Australia CPE Cloud Networking  Aru...  Australia   \n",
       "\n",
       "          Programme       Platform        Result Type  Results  Engagement  \\\n",
       "0  Cloud Networking  Twitter-Japan  Tweet engagements       60          60   \n",
       "1  Cloud Networking  Twitter-Japan        Link clicks       14         148   \n",
       "2  Cloud Networking  Twitter-Japan  Tweet engagements       49          49   \n",
       "3  Cloud Networking  Twitter-Japan        Link clicks       14          82   \n",
       "4  Cloud Networking   Twitter-APAC  Tweet engagements      475         475   \n",
       "\n",
       "   Impressions  Cost Per Result(INR)  Total Spend(INR)  Cost Per Result(USD)  \\\n",
       "0         6102             34.066667            2044.0              0.466667   \n",
       "1        25798            146.000000            2044.0              2.000000   \n",
       "2         5994             37.244898            1825.0              0.510204   \n",
       "3        11915            130.357143            1825.0              1.785714   \n",
       "4         5439              4.303158            2044.0              0.058947   \n",
       "\n",
       "   Total Spend(USD)  Clicks (All)  Video Views  Tweet Engagements  \n",
       "0              28.0            46          0.0                 60  \n",
       "1              28.0            91          0.0                148  \n",
       "2              25.0            37          0.0                 49  \n",
       "3              25.0            62          0.0                 82  \n",
       "4              28.0            22          0.0                475  "
      ]
     },
     "execution_count": 30,
     "metadata": {},
     "output_type": "execute_result"
    }
   ],
   "source": [
    "df.head(5)"
   ]
  },
  {
   "cell_type": "code",
   "execution_count": 31,
   "id": "47d0329d",
   "metadata": {
    "ExecuteTime": {
     "end_time": "2023-05-25T02:27:58.586142Z",
     "start_time": "2023-05-25T02:27:58.575140Z"
    }
   },
   "outputs": [
    {
     "data": {
      "text/plain": [
       "array(['Japan', 'Australia', 'New Zealand', 'India', 'Singapore',\n",
       "       'Indonesia', 'Malaysia', 'Hong Kong', 'Thailand', 'Taiwan'],\n",
       "      dtype=object)"
      ]
     },
     "execution_count": 31,
     "metadata": {},
     "output_type": "execute_result"
    }
   ],
   "source": [
    "df['Country'].unique()"
   ]
  },
  {
   "cell_type": "code",
   "execution_count": 32,
   "id": "e059cd45",
   "metadata": {
    "ExecuteTime": {
     "end_time": "2023-05-25T02:28:21.370517Z",
     "start_time": "2023-05-25T02:28:21.364510Z"
    }
   },
   "outputs": [
    {
     "data": {
      "text/plain": [
       "array(['Cloud Networking'], dtype=object)"
      ]
     },
     "execution_count": 32,
     "metadata": {},
     "output_type": "execute_result"
    }
   ],
   "source": [
    "df['Programme'].unique()"
   ]
  },
  {
   "cell_type": "code",
   "execution_count": 33,
   "id": "da9de1e2",
   "metadata": {
    "ExecuteTime": {
     "end_time": "2023-05-25T02:28:37.879020Z",
     "start_time": "2023-05-25T02:28:37.863021Z"
    }
   },
   "outputs": [
    {
     "data": {
      "text/plain": [
       "array(['Twitter-Japan', 'Twitter-APAC', 'Facebook'], dtype=object)"
      ]
     },
     "execution_count": 33,
     "metadata": {},
     "output_type": "execute_result"
    }
   ],
   "source": [
    "df['Platform'].unique()"
   ]
  },
  {
   "cell_type": "code",
   "execution_count": 34,
   "id": "4af3b11a",
   "metadata": {
    "ExecuteTime": {
     "end_time": "2023-05-25T02:43:16.804326Z",
     "start_time": "2023-05-25T02:43:16.459857Z"
    }
   },
   "outputs": [
    {
     "data": {
      "text/plain": [
       "<AxesSubplot:ylabel='Frequency'>"
      ]
     },
     "execution_count": 34,
     "metadata": {},
     "output_type": "execute_result"
    },
    {
     "data": {
      "image/png": "[encoded data removed]",
      "text/plain": [
       "<Figure size 640x480 with 1 Axes>"
      ]
     },
     "metadata": {},
     "output_type": "display_data"
    }
   ],
   "source": [
    "df['Cost Per Result(INR)'].plot(kind='hist')"
   ]
  },
  {
   "cell_type": "code",
   "execution_count": 36,
   "id": "a777ea86",
   "metadata": {
    "ExecuteTime": {
     "end_time": "2023-05-25T02:44:36.912259Z",
     "start_time": "2023-05-25T02:44:36.808074Z"
    }
   },
   "outputs": [
    {
     "data": {
      "text/plain": [
       "<AxesSubplot:ylabel='Frequency'>"
      ]
     },
     "execution_count": 36,
     "metadata": {},
     "output_type": "execute_result"
    },
    {
     "data": {
      "image/png": "[encoded data removed]",
      "text/plain": [
       "<Figure size 640x480 with 1 Axes>"
      ]
     },
     "metadata": {},
     "output_type": "display_data"
    }
   ],
   "source": [
    "df['Total Spend(INR)'].plot(kind='hist')"
   ]
  },
  {
   "cell_type": "code",
   "execution_count": 37,
   "id": "baa72ee6",
   "metadata": {
    "ExecuteTime": {
     "end_time": "2023-05-25T02:45:54.350254Z",
     "start_time": "2023-05-25T02:45:54.220024Z"
    }
   },
   "outputs": [
    {
     "data": {
      "text/plain": [
       "<AxesSubplot:ylabel='Country'>"
      ]
     },
     "execution_count": 37,
     "metadata": {},
     "output_type": "execute_result"
    },
    {
     "data": {
      "image/png": "[encoded data removed]",
      "text/plain": [
       "<Figure size 640x480 with 1 Axes>"
      ]
     },
     "metadata": {},
     "output_type": "display_data"
    }
   ],
   "source": [
    "df['Country'].value_counts().plot(kind='pie',autopct='%0.1f%%')"
   ]
  },
  {
   "cell_type": "code",
   "execution_count": 38,
   "id": "15bceff3",
   "metadata": {
    "ExecuteTime": {
     "end_time": "2023-05-25T02:46:39.559390Z",
     "start_time": "2023-05-25T02:46:39.480632Z"
    }
   },
   "outputs": [
    {
     "data": {
      "text/plain": [
       "<AxesSubplot:ylabel='Platform'>"
      ]
     },
     "execution_count": 38,
     "metadata": {},
     "output_type": "execute_result"
    },
    {
     "data": {
      "image/png": "[encoded data removed]",
      "text/plain": [
       "<Figure size 640x480 with 1 Axes>"
      ]
     },
     "metadata": {},
     "output_type": "display_data"
    }
   ],
   "source": [
    "df['Platform'].value_counts().plot(kind='pie',autopct='%0.1f%%')"
   ]
  },
  {
   "cell_type": "code",
   "execution_count": 39,
   "id": "fe586049",
   "metadata": {
    "ExecuteTime": {
     "end_time": "2023-05-25T02:47:08.502411Z",
     "start_time": "2023-05-25T02:47:08.424501Z"
    }
   },
   "outputs": [
    {
     "data": {
      "text/plain": [
       "<AxesSubplot:ylabel='Result Type'>"
      ]
     },
     "execution_count": 39,
     "metadata": {},
     "output_type": "execute_result"
    },
    {
     "data": {
      "image/png": "[encoded data removed]",
      "text/plain": [
       "<Figure size 640x480 with 1 Axes>"
      ]
     },
     "metadata": {},
     "output_type": "display_data"
    }
   ],
   "source": [
    "df['Result Type'].value_counts().plot(kind='pie',autopct='%0.1f%%')"
   ]
  },
  {
   "cell_type": "code",
   "execution_count": 41,
   "id": "8525a70d",
   "metadata": {
    "ExecuteTime": {
     "end_time": "2023-05-25T03:57:44.648275Z",
     "start_time": "2023-05-25T03:57:44.613282Z"
    }
   },
   "outputs": [
    {
     "data": {
      "text/html": [
       "<div>\n",
       "<style scoped>\n",
       "    .dataframe tbody tr th:only-of-type {\n",
       "        vertical-align: middle;\n",
       "    }\n",
       "\n",
       "    .dataframe tbody tr th {\n",
       "        vertical-align: top;\n",
       "    }\n",
       "\n",
       "    .dataframe thead th {\n",
       "        text-align: right;\n",
       "    }\n",
       "</style>\n",
       "<table border=\"1\" class=\"dataframe\">\n",
       "  <thead>\n",
       "    <tr style=\"text-align: right;\">\n",
       "      <th></th>\n",
       "      <th>Campaign Name</th>\n",
       "      <th>Country</th>\n",
       "      <th>Programme</th>\n",
       "      <th>Platform</th>\n",
       "      <th>Result Type</th>\n",
       "      <th>Results</th>\n",
       "      <th>Engagement</th>\n",
       "      <th>Impressions</th>\n",
       "      <th>Cost Per Result(INR)</th>\n",
       "      <th>Total Spend(INR)</th>\n",
       "      <th>Cost Per Result(USD)</th>\n",
       "      <th>Total Spend(USD)</th>\n",
       "      <th>Clicks (All)</th>\n",
       "      <th>Video Views</th>\n",
       "      <th>Tweet Engagements</th>\n",
       "    </tr>\n",
       "  </thead>\n",
       "  <tbody>\n",
       "    <tr>\n",
       "      <th>0</th>\n",
       "      <td>FY22 Aruba Japan CPE Cloud Networking   Higher...</td>\n",
       "      <td>Japan</td>\n",
       "      <td>Cloud Networking</td>\n",
       "      <td>Twitter-Japan</td>\n",
       "      <td>Tweet engagements</td>\n",
       "      <td>60</td>\n",
       "      <td>60</td>\n",
       "      <td>6102</td>\n",
       "      <td>34.066667</td>\n",
       "      <td>2044.0</td>\n",
       "      <td>0.466667</td>\n",
       "      <td>28.0</td>\n",
       "      <td>46</td>\n",
       "      <td>0.0</td>\n",
       "      <td>60</td>\n",
       "    </tr>\n",
       "    <tr>\n",
       "      <th>1</th>\n",
       "      <td>FY22 Aruba Japan CPC Cloud Networking   Higher...</td>\n",
       "      <td>Japan</td>\n",
       "      <td>Cloud Networking</td>\n",
       "      <td>Twitter-Japan</td>\n",
       "      <td>Link clicks</td>\n",
       "      <td>14</td>\n",
       "      <td>148</td>\n",
       "      <td>25798</td>\n",
       "      <td>146.000000</td>\n",
       "      <td>2044.0</td>\n",
       "      <td>2.000000</td>\n",
       "      <td>28.0</td>\n",
       "      <td>91</td>\n",
       "      <td>0.0</td>\n",
       "      <td>148</td>\n",
       "    </tr>\n",
       "    <tr>\n",
       "      <th>2</th>\n",
       "      <td>FY22 Aruba Japan CPE Cloud Networking  Retail ...</td>\n",
       "      <td>Japan</td>\n",
       "      <td>Cloud Networking</td>\n",
       "      <td>Twitter-Japan</td>\n",
       "      <td>Tweet engagements</td>\n",
       "      <td>49</td>\n",
       "      <td>49</td>\n",
       "      <td>5994</td>\n",
       "      <td>37.244898</td>\n",
       "      <td>1825.0</td>\n",
       "      <td>0.510204</td>\n",
       "      <td>25.0</td>\n",
       "      <td>37</td>\n",
       "      <td>0.0</td>\n",
       "      <td>49</td>\n",
       "    </tr>\n",
       "    <tr>\n",
       "      <th>3</th>\n",
       "      <td>FY22 Aruba Japan CPC Cloud Networking  Retail ...</td>\n",
       "      <td>Japan</td>\n",
       "      <td>Cloud Networking</td>\n",
       "      <td>Twitter-Japan</td>\n",
       "      <td>Link clicks</td>\n",
       "      <td>14</td>\n",
       "      <td>82</td>\n",
       "      <td>11915</td>\n",
       "      <td>130.357143</td>\n",
       "      <td>1825.0</td>\n",
       "      <td>1.785714</td>\n",
       "      <td>25.0</td>\n",
       "      <td>62</td>\n",
       "      <td>0.0</td>\n",
       "      <td>82</td>\n",
       "    </tr>\n",
       "    <tr>\n",
       "      <th>4</th>\n",
       "      <td>FY22 Aruba Australia CPE Cloud Networking  Aru...</td>\n",
       "      <td>Australia</td>\n",
       "      <td>Cloud Networking</td>\n",
       "      <td>Twitter-APAC</td>\n",
       "      <td>Tweet engagements</td>\n",
       "      <td>475</td>\n",
       "      <td>475</td>\n",
       "      <td>5439</td>\n",
       "      <td>4.303158</td>\n",
       "      <td>2044.0</td>\n",
       "      <td>0.058947</td>\n",
       "      <td>28.0</td>\n",
       "      <td>22</td>\n",
       "      <td>0.0</td>\n",
       "      <td>475</td>\n",
       "    </tr>\n",
       "  </tbody>\n",
       "</table>\n",
       "</div>"
      ],
      "text/plain": [
       "                                       Campaign Name    Country  \\\n",
       "0  FY22 Aruba Japan CPE Cloud Networking   Higher...      Japan   \n",
       "1  FY22 Aruba Japan CPC Cloud Networking   Higher...      Japan   \n",
       "2  FY22 Aruba Japan CPE Cloud Networking  Retail ...      Japan   \n",
       "3  FY22 Aruba Japan CPC Cloud Networking  Retail ...      Japan   \n",
       "4  FY22 Aruba Australia CPE Cloud Networking  Aru...  Australia   \n",
       "\n",
       "          Programme       Platform        Result Type  Results  Engagement  \\\n",
       "0  Cloud Networking  Twitter-Japan  Tweet engagements       60          60   \n",
       "1  Cloud Networking  Twitter-Japan        Link clicks       14         148   \n",
       "2  Cloud Networking  Twitter-Japan  Tweet engagements       49          49   \n",
       "3  Cloud Networking  Twitter-Japan        Link clicks       14          82   \n",
       "4  Cloud Networking   Twitter-APAC  Tweet engagements      475         475   \n",
       "\n",
       "   Impressions  Cost Per Result(INR)  Total Spend(INR)  Cost Per Result(USD)  \\\n",
       "0         6102             34.066667            2044.0              0.466667   \n",
       "1        25798            146.000000            2044.0              2.000000   \n",
       "2         5994             37.244898            1825.0              0.510204   \n",
       "3        11915            130.357143            1825.0              1.785714   \n",
       "4         5439              4.303158            2044.0              0.058947   \n",
       "\n",
       "   Total Spend(USD)  Clicks (All)  Video Views  Tweet Engagements  \n",
       "0              28.0            46          0.0                 60  \n",
       "1              28.0            91          0.0                148  \n",
       "2              25.0            37          0.0                 49  \n",
       "3              25.0            62          0.0                 82  \n",
       "4              28.0            22          0.0                475  "
      ]
     },
     "execution_count": 41,
     "metadata": {},
     "output_type": "execute_result"
    }
   ],
   "source": [
    "df.head()"
   ]
  },
  {
   "cell_type": "code",
   "execution_count": 9,
   "id": "80640028",
   "metadata": {
    "ExecuteTime": {
     "end_time": "2023-06-01T14:15:18.602771Z",
     "start_time": "2023-06-01T14:15:18.586225Z"
    }
   },
   "outputs": [
    {
     "data": {
      "text/html": [
       "<div>\n",
       "<style scoped>\n",
       "    .dataframe tbody tr th:only-of-type {\n",
       "        vertical-align: middle;\n",
       "    }\n",
       "\n",
       "    .dataframe tbody tr th {\n",
       "        vertical-align: top;\n",
       "    }\n",
       "\n",
       "    .dataframe thead th {\n",
       "        text-align: right;\n",
       "    }\n",
       "</style>\n",
       "<table border=\"1\" class=\"dataframe\">\n",
       "  <thead>\n",
       "    <tr style=\"text-align: right;\">\n",
       "      <th></th>\n",
       "      <th>Platform</th>\n",
       "      <th>Post Message</th>\n",
       "      <th>Permalink</th>\n",
       "      <th>Countries</th>\n",
       "      <th>Program</th>\n",
       "      <th>Campaign</th>\n",
       "      <th>Asset</th>\n",
       "      <th>Date</th>\n",
       "      <th>Impressions</th>\n",
       "      <th>Impressions 2</th>\n",
       "      <th>Engagement</th>\n",
       "      <th>Engagements 2</th>\n",
       "      <th>clicks</th>\n",
       "      <th>Clicks 2</th>\n",
       "      <th>ER</th>\n",
       "      <th>CTR</th>\n",
       "      <th>Paid/Organic</th>\n",
       "      <th>Type</th>\n",
       "    </tr>\n",
       "  </thead>\n",
       "  <tbody>\n",
       "    <tr>\n",
       "      <th>0</th>\n",
       "      <td>Facebook</td>\n",
       "      <td>#Hybridwork is the future. And to thrive in th...</td>\n",
       "      <td>https://www.facebook.com/ArubaApac/posts/23616...</td>\n",
       "      <td>Thailand</td>\n",
       "      <td>Event</td>\n",
       "      <td>NaN</td>\n",
       "      <td>‘Connected Smart Workplace from Anywhere’ webinar</td>\n",
       "      <td>2022-04-27 12:46:13</td>\n",
       "      <td>189</td>\n",
       "      <td>189.0</td>\n",
       "      <td>0</td>\n",
       "      <td>0.0</td>\n",
       "      <td>0</td>\n",
       "      <td>0.0</td>\n",
       "      <td>0.0</td>\n",
       "      <td>0.0</td>\n",
       "      <td>Organic</td>\n",
       "      <td>Photo</td>\n",
       "    </tr>\n",
       "    <tr>\n",
       "      <th>1</th>\n",
       "      <td>Facebook</td>\n",
       "      <td>【https://hpe.to/6181z6nrBに掲載されました】ArubaがNaaSの新...</td>\n",
       "      <td>https://www.facebook.com/ArubaApac/posts/23616...</td>\n",
       "      <td>Japan</td>\n",
       "      <td>PR Coverage</td>\n",
       "      <td>NaN</td>\n",
       "      <td>Aruba automates NaaS's new strategy</td>\n",
       "      <td>2022-04-27 13:37:06</td>\n",
       "      <td>13</td>\n",
       "      <td>13.0</td>\n",
       "      <td>0</td>\n",
       "      <td>0.0</td>\n",
       "      <td>0</td>\n",
       "      <td>0.0</td>\n",
       "      <td>0.0</td>\n",
       "      <td>0.0</td>\n",
       "      <td>Organic</td>\n",
       "      <td>Link</td>\n",
       "    </tr>\n",
       "  </tbody>\n",
       "</table>\n",
       "</div>"
      ],
      "text/plain": [
       "  Platform                                       Post Message   \\\n",
       "0  Facebook  #Hybridwork is the future. And to thrive in th...   \n",
       "1  Facebook  【https://hpe.to/6181z6nrBに掲載されました】ArubaがNaaSの新...   \n",
       "\n",
       "                                           Permalink Countries     Program   \\\n",
       "0  https://www.facebook.com/ArubaApac/posts/23616...  Thailand        Event   \n",
       "1  https://www.facebook.com/ArubaApac/posts/23616...     Japan  PR Coverage   \n",
       "\n",
       "  Campaign                                              Asset   \\\n",
       "0       NaN  ‘Connected Smart Workplace from Anywhere’ webinar   \n",
       "1       NaN                Aruba automates NaaS's new strategy   \n",
       "\n",
       "                 Date   Impressions  Impressions 2  Engagement  Engagements 2  \\\n",
       "0  2022-04-27 12:46:13          189          189.0           0            0.0   \n",
       "1  2022-04-27 13:37:06           13           13.0           0            0.0   \n",
       "\n",
       "   clicks  Clicks 2  ER   CTR Paid/Organic   Type  \n",
       "0       0       0.0  0.0  0.0      Organic  Photo  \n",
       "1       0       0.0  0.0  0.0      Organic   Link  "
      ]
     },
     "execution_count": 9,
     "metadata": {},
     "output_type": "execute_result"
    }
   ],
   "source": [
    "owned.head(2)"
   ]
  },
  {
   "cell_type": "code",
   "execution_count": 16,
   "id": "0db0f8c8",
   "metadata": {
    "ExecuteTime": {
     "end_time": "2023-06-01T14:20:13.809777Z",
     "start_time": "2023-06-01T14:20:13.799773Z"
    }
   },
   "outputs": [],
   "source": [
    "df=owned.copy()"
   ]
  },
  {
   "cell_type": "code",
   "execution_count": 17,
   "id": "6aa619a5",
   "metadata": {
    "ExecuteTime": {
     "end_time": "2023-06-01T14:20:28.511594Z",
     "start_time": "2023-06-01T14:20:28.502594Z"
    }
   },
   "outputs": [],
   "source": [
    "df.drop(columns=['Impressions 2','Engagements 2','Clicks 2','Permalink'],inplace=True)"
   ]
  },
  {
   "cell_type": "code",
   "execution_count": 18,
   "id": "6751f13f",
   "metadata": {
    "ExecuteTime": {
     "end_time": "2023-06-01T14:20:29.411397Z",
     "start_time": "2023-06-01T14:20:29.397872Z"
    }
   },
   "outputs": [
    {
     "data": {
      "text/html": [
       "<div>\n",
       "<style scoped>\n",
       "    .dataframe tbody tr th:only-of-type {\n",
       "        vertical-align: middle;\n",
       "    }\n",
       "\n",
       "    .dataframe tbody tr th {\n",
       "        vertical-align: top;\n",
       "    }\n",
       "\n",
       "    .dataframe thead th {\n",
       "        text-align: right;\n",
       "    }\n",
       "</style>\n",
       "<table border=\"1\" class=\"dataframe\">\n",
       "  <thead>\n",
       "    <tr style=\"text-align: right;\">\n",
       "      <th></th>\n",
       "      <th>Platform</th>\n",
       "      <th>Post Message</th>\n",
       "      <th>Countries</th>\n",
       "      <th>Program</th>\n",
       "      <th>Campaign</th>\n",
       "      <th>Asset</th>\n",
       "      <th>Date</th>\n",
       "      <th>Impressions</th>\n",
       "      <th>Engagement</th>\n",
       "      <th>clicks</th>\n",
       "      <th>ER</th>\n",
       "      <th>CTR</th>\n",
       "      <th>Paid/Organic</th>\n",
       "      <th>Type</th>\n",
       "    </tr>\n",
       "  </thead>\n",
       "  <tbody>\n",
       "    <tr>\n",
       "      <th>0</th>\n",
       "      <td>Facebook</td>\n",
       "      <td>#Hybridwork is the future. And to thrive in th...</td>\n",
       "      <td>Thailand</td>\n",
       "      <td>Event</td>\n",
       "      <td>NaN</td>\n",
       "      <td>‘Connected Smart Workplace from Anywhere’ webinar</td>\n",
       "      <td>2022-04-27 12:46:13</td>\n",
       "      <td>189</td>\n",
       "      <td>0</td>\n",
       "      <td>0</td>\n",
       "      <td>0.0</td>\n",
       "      <td>0.0</td>\n",
       "      <td>Organic</td>\n",
       "      <td>Photo</td>\n",
       "    </tr>\n",
       "    <tr>\n",
       "      <th>1</th>\n",
       "      <td>Facebook</td>\n",
       "      <td>【https://hpe.to/6181z6nrBに掲載されました】ArubaがNaaSの新...</td>\n",
       "      <td>Japan</td>\n",
       "      <td>PR Coverage</td>\n",
       "      <td>NaN</td>\n",
       "      <td>Aruba automates NaaS's new strategy</td>\n",
       "      <td>2022-04-27 13:37:06</td>\n",
       "      <td>13</td>\n",
       "      <td>0</td>\n",
       "      <td>0</td>\n",
       "      <td>0.0</td>\n",
       "      <td>0.0</td>\n",
       "      <td>Organic</td>\n",
       "      <td>Link</td>\n",
       "    </tr>\n",
       "  </tbody>\n",
       "</table>\n",
       "</div>"
      ],
      "text/plain": [
       "  Platform                                       Post Message  Countries  \\\n",
       "0  Facebook  #Hybridwork is the future. And to thrive in th...  Thailand   \n",
       "1  Facebook  【https://hpe.to/6181z6nrBに掲載されました】ArubaがNaaSの新...     Japan   \n",
       "\n",
       "      Program  Campaign                                              Asset   \\\n",
       "0        Event       NaN  ‘Connected Smart Workplace from Anywhere’ webinar   \n",
       "1  PR Coverage       NaN                Aruba automates NaaS's new strategy   \n",
       "\n",
       "                 Date   Impressions  Engagement  clicks  ER   CTR  \\\n",
       "0  2022-04-27 12:46:13          189           0       0  0.0  0.0   \n",
       "1  2022-04-27 13:37:06           13           0       0  0.0  0.0   \n",
       "\n",
       "  Paid/Organic   Type  \n",
       "0      Organic  Photo  \n",
       "1      Organic   Link  "
      ]
     },
     "execution_count": 18,
     "metadata": {},
     "output_type": "execute_result"
    }
   ],
   "source": [
    "df.head(2)"
   ]
  },
  {
   "cell_type": "code",
   "execution_count": 2,
   "id": "9251e677",
   "metadata": {
    "ExecuteTime": {
     "end_time": "2023-06-04T09:51:47.613795Z",
     "start_time": "2023-06-04T09:51:45.348308Z"
    }
   },
   "outputs": [
    {
     "name": "stderr",
     "output_type": "stream",
     "text": [
      "C:\\Users\\pbann\\AppData\\Local\\Temp\\ipykernel_18160\\4060660888.py:1: DtypeWarning: Columns (18) have mixed types. Specify dtype option on import or set low_memory=False.\n",
      "  df=pd.read_csv(r\"C:\\Users\\pbann\\Downloads\\TG1101 UNIT-2 MOT LEVEL.csv\")\n"
     ]
    }
   ],
   "source": [
    "df=pd.read_csv(r\"C:\\Users\\pbann\\Downloads\\TG1101 UNIT-2 MOT LEVEL.csv\")"
   ]
  },
  {
   "cell_type": "code",
   "execution_count": 3,
   "id": "757eeed6",
   "metadata": {
    "ExecuteTime": {
     "end_time": "2023-06-04T09:51:47.661797Z",
     "start_time": "2023-06-04T09:51:47.615797Z"
    }
   },
   "outputs": [
    {
     "data": {
      "text/html": [
       "<div>\n",
       "<style scoped>\n",
       "    .dataframe tbody tr th:only-of-type {\n",
       "        vertical-align: middle;\n",
       "    }\n",
       "\n",
       "    .dataframe tbody tr th {\n",
       "        vertical-align: top;\n",
       "    }\n",
       "\n",
       "    .dataframe thead th {\n",
       "        text-align: right;\n",
       "    }\n",
       "</style>\n",
       "<table border=\"1\" class=\"dataframe\">\n",
       "  <thead>\n",
       "    <tr style=\"text-align: right;\">\n",
       "      <th></th>\n",
       "      <th>Unnamed: 0</th>\n",
       "      <th>Unnamed: 1</th>\n",
       "      <th>Unnamed: 2</th>\n",
       "      <th>Unnamed: 3</th>\n",
       "      <th>Unnamed: 4</th>\n",
       "      <th>BRG L.O.P OUT PRESS</th>\n",
       "      <th>DC EMR L.O.P OUT PRESS</th>\n",
       "      <th>LUBE OIL PRESS.</th>\n",
       "      <th>ZERO SPEED 1</th>\n",
       "      <th>LUBE OIL TANK LEVEL</th>\n",
       "      <th>EMG L.O.P MTR CURRT</th>\n",
       "      <th>EMG HP SEAL P MTR CURRT</th>\n",
       "      <th>BRG L.O.P MTR CURRT</th>\n",
       "      <th>Unnamed: 13</th>\n",
       "      <th>Unnamed: 14</th>\n",
       "      <th>Unnamed: 15</th>\n",
       "      <th>Unnamed: 16</th>\n",
       "      <th>Unnamed: 17</th>\n",
       "      <th>Unnamed: 18</th>\n",
       "      <th>Unnamed: 19</th>\n",
       "    </tr>\n",
       "  </thead>\n",
       "  <tbody>\n",
       "    <tr>\n",
       "      <th>0</th>\n",
       "      <td>D</td>\n",
       "      <td>161</td>\n",
       "      <td>30-04-2023</td>\n",
       "      <td>00:00:00</td>\n",
       "      <td>India Standard Time</td>\n",
       "      <td>-0.009</td>\n",
       "      <td>-0.002</td>\n",
       "      <td>0.181</td>\n",
       "      <td>2995.7</td>\n",
       "      <td>-6.039</td>\n",
       "      <td>0.1</td>\n",
       "      <td>0</td>\n",
       "      <td>0.98</td>\n",
       "      <td>NaN</td>\n",
       "      <td>NaN</td>\n",
       "      <td>NaN</td>\n",
       "      <td>NaN</td>\n",
       "      <td>NaN</td>\n",
       "      <td>NaN</td>\n",
       "      <td>B</td>\n",
       "    </tr>\n",
       "    <tr>\n",
       "      <th>1</th>\n",
       "      <td>D</td>\n",
       "      <td>161</td>\n",
       "      <td>30-04-2023</td>\n",
       "      <td>00:00:01</td>\n",
       "      <td>India Standard Time</td>\n",
       "      <td>-0.009</td>\n",
       "      <td>-0.002</td>\n",
       "      <td>0.181</td>\n",
       "      <td>2995.7</td>\n",
       "      <td>-6.041</td>\n",
       "      <td>0.1</td>\n",
       "      <td>0</td>\n",
       "      <td>0.98</td>\n",
       "      <td>NaN</td>\n",
       "      <td>NaN</td>\n",
       "      <td>NaN</td>\n",
       "      <td>NaN</td>\n",
       "      <td>NaN</td>\n",
       "      <td>NaN</td>\n",
       "      <td>B</td>\n",
       "    </tr>\n",
       "    <tr>\n",
       "      <th>2</th>\n",
       "      <td>D</td>\n",
       "      <td>161</td>\n",
       "      <td>30-04-2023</td>\n",
       "      <td>00:00:02</td>\n",
       "      <td>India Standard Time</td>\n",
       "      <td>-0.009</td>\n",
       "      <td>-0.002</td>\n",
       "      <td>0.181</td>\n",
       "      <td>2995.9</td>\n",
       "      <td>-6.045</td>\n",
       "      <td>0.1</td>\n",
       "      <td>0</td>\n",
       "      <td>0.98</td>\n",
       "      <td>NaN</td>\n",
       "      <td>NaN</td>\n",
       "      <td>NaN</td>\n",
       "      <td>NaN</td>\n",
       "      <td>NaN</td>\n",
       "      <td>NaN</td>\n",
       "      <td>B</td>\n",
       "    </tr>\n",
       "    <tr>\n",
       "      <th>3</th>\n",
       "      <td>D</td>\n",
       "      <td>161</td>\n",
       "      <td>30-04-2023</td>\n",
       "      <td>00:00:03</td>\n",
       "      <td>India Standard Time</td>\n",
       "      <td>-0.009</td>\n",
       "      <td>-0.002</td>\n",
       "      <td>0.181</td>\n",
       "      <td>2996.0</td>\n",
       "      <td>-6.044</td>\n",
       "      <td>0.1</td>\n",
       "      <td>0</td>\n",
       "      <td>0.97</td>\n",
       "      <td>NaN</td>\n",
       "      <td>NaN</td>\n",
       "      <td>NaN</td>\n",
       "      <td>NaN</td>\n",
       "      <td>NaN</td>\n",
       "      <td>NaN</td>\n",
       "      <td>B</td>\n",
       "    </tr>\n",
       "    <tr>\n",
       "      <th>4</th>\n",
       "      <td>D</td>\n",
       "      <td>161</td>\n",
       "      <td>30-04-2023</td>\n",
       "      <td>00:00:04</td>\n",
       "      <td>India Standard Time</td>\n",
       "      <td>-0.009</td>\n",
       "      <td>-0.002</td>\n",
       "      <td>0.181</td>\n",
       "      <td>2995.9</td>\n",
       "      <td>-6.039</td>\n",
       "      <td>0.1</td>\n",
       "      <td>0</td>\n",
       "      <td>0.98</td>\n",
       "      <td>NaN</td>\n",
       "      <td>NaN</td>\n",
       "      <td>NaN</td>\n",
       "      <td>NaN</td>\n",
       "      <td>NaN</td>\n",
       "      <td>NaN</td>\n",
       "      <td>B</td>\n",
       "    </tr>\n",
       "    <tr>\n",
       "      <th>...</th>\n",
       "      <td>...</td>\n",
       "      <td>...</td>\n",
       "      <td>...</td>\n",
       "      <td>...</td>\n",
       "      <td>...</td>\n",
       "      <td>...</td>\n",
       "      <td>...</td>\n",
       "      <td>...</td>\n",
       "      <td>...</td>\n",
       "      <td>...</td>\n",
       "      <td>...</td>\n",
       "      <td>...</td>\n",
       "      <td>...</td>\n",
       "      <td>...</td>\n",
       "      <td>...</td>\n",
       "      <td>...</td>\n",
       "      <td>...</td>\n",
       "      <td>...</td>\n",
       "      <td>...</td>\n",
       "      <td>...</td>\n",
       "    </tr>\n",
       "    <tr>\n",
       "      <th>1048557</th>\n",
       "      <td>D</td>\n",
       "      <td>161</td>\n",
       "      <td>12-05-2023</td>\n",
       "      <td>03:15:57</td>\n",
       "      <td>India Standard Time</td>\n",
       "      <td>-0.010</td>\n",
       "      <td>-0.003</td>\n",
       "      <td>0.181</td>\n",
       "      <td>3001.1</td>\n",
       "      <td>-5.967</td>\n",
       "      <td>0.1</td>\n",
       "      <td>0</td>\n",
       "      <td>0.98</td>\n",
       "      <td>NaN</td>\n",
       "      <td>NaN</td>\n",
       "      <td>NaN</td>\n",
       "      <td>NaN</td>\n",
       "      <td>NaN</td>\n",
       "      <td>NaN</td>\n",
       "      <td>B</td>\n",
       "    </tr>\n",
       "    <tr>\n",
       "      <th>1048558</th>\n",
       "      <td>D</td>\n",
       "      <td>161</td>\n",
       "      <td>12-05-2023</td>\n",
       "      <td>03:15:58</td>\n",
       "      <td>India Standard Time</td>\n",
       "      <td>-0.010</td>\n",
       "      <td>-0.003</td>\n",
       "      <td>0.181</td>\n",
       "      <td>3000.8</td>\n",
       "      <td>-5.968</td>\n",
       "      <td>0.1</td>\n",
       "      <td>0</td>\n",
       "      <td>0.98</td>\n",
       "      <td>NaN</td>\n",
       "      <td>NaN</td>\n",
       "      <td>NaN</td>\n",
       "      <td>NaN</td>\n",
       "      <td>NaN</td>\n",
       "      <td>NaN</td>\n",
       "      <td>B</td>\n",
       "    </tr>\n",
       "    <tr>\n",
       "      <th>1048559</th>\n",
       "      <td>D</td>\n",
       "      <td>161</td>\n",
       "      <td>12-05-2023</td>\n",
       "      <td>03:15:59</td>\n",
       "      <td>India Standard Time</td>\n",
       "      <td>-0.010</td>\n",
       "      <td>-0.003</td>\n",
       "      <td>0.181</td>\n",
       "      <td>3001.0</td>\n",
       "      <td>-5.969</td>\n",
       "      <td>0.1</td>\n",
       "      <td>0</td>\n",
       "      <td>0.97</td>\n",
       "      <td>NaN</td>\n",
       "      <td>NaN</td>\n",
       "      <td>NaN</td>\n",
       "      <td>NaN</td>\n",
       "      <td>NaN</td>\n",
       "      <td>NaN</td>\n",
       "      <td>B</td>\n",
       "    </tr>\n",
       "    <tr>\n",
       "      <th>1048560</th>\n",
       "      <td>D</td>\n",
       "      <td>161</td>\n",
       "      <td>12-05-2023</td>\n",
       "      <td>03:16:00</td>\n",
       "      <td>India Standard Time</td>\n",
       "      <td>-0.010</td>\n",
       "      <td>-0.003</td>\n",
       "      <td>0.181</td>\n",
       "      <td>3001.6</td>\n",
       "      <td>-5.969</td>\n",
       "      <td>0.1</td>\n",
       "      <td>0</td>\n",
       "      <td>0.97</td>\n",
       "      <td>NaN</td>\n",
       "      <td>NaN</td>\n",
       "      <td>NaN</td>\n",
       "      <td>NaN</td>\n",
       "      <td>NaN</td>\n",
       "      <td>NaN</td>\n",
       "      <td>B</td>\n",
       "    </tr>\n",
       "    <tr>\n",
       "      <th>1048561</th>\n",
       "      <td>D</td>\n",
       "      <td>161</td>\n",
       "      <td>12-05-2023</td>\n",
       "      <td>03:16:01</td>\n",
       "      <td>India Standard Time</td>\n",
       "      <td>-0.010</td>\n",
       "      <td>-0.003</td>\n",
       "      <td>0.182</td>\n",
       "      <td>3001.7</td>\n",
       "      <td>-5.969</td>\n",
       "      <td>0.1</td>\n",
       "      <td>0</td>\n",
       "      <td>0.96</td>\n",
       "      <td>NaN</td>\n",
       "      <td>NaN</td>\n",
       "      <td>NaN</td>\n",
       "      <td>NaN</td>\n",
       "      <td>NaN</td>\n",
       "      <td>NaN</td>\n",
       "      <td>B</td>\n",
       "    </tr>\n",
       "  </tbody>\n",
       "</table>\n",
       "<p>1048562 rows × 20 columns</p>\n",
       "</div>"
      ],
      "text/plain": [
       "        Unnamed: 0  Unnamed: 1  Unnamed: 2 Unnamed: 3           Unnamed: 4  \\\n",
       "0                D         161  30-04-2023   00:00:00  India Standard Time   \n",
       "1                D         161  30-04-2023   00:00:01  India Standard Time   \n",
       "2                D         161  30-04-2023   00:00:02  India Standard Time   \n",
       "3                D         161  30-04-2023   00:00:03  India Standard Time   \n",
       "4                D         161  30-04-2023   00:00:04  India Standard Time   \n",
       "...            ...         ...         ...        ...                  ...   \n",
       "1048557          D         161  12-05-2023   03:15:57  India Standard Time   \n",
       "1048558          D         161  12-05-2023   03:15:58  India Standard Time   \n",
       "1048559          D         161  12-05-2023   03:15:59  India Standard Time   \n",
       "1048560          D         161  12-05-2023   03:16:00  India Standard Time   \n",
       "1048561          D         161  12-05-2023   03:16:01  India Standard Time   \n",
       "\n",
       "         BRG L.O.P OUT PRESS  DC EMR L.O.P OUT PRESS  LUBE OIL PRESS.  \\\n",
       "0                     -0.009                  -0.002            0.181   \n",
       "1                     -0.009                  -0.002            0.181   \n",
       "2                     -0.009                  -0.002            0.181   \n",
       "3                     -0.009                  -0.002            0.181   \n",
       "4                     -0.009                  -0.002            0.181   \n",
       "...                      ...                     ...              ...   \n",
       "1048557               -0.010                  -0.003            0.181   \n",
       "1048558               -0.010                  -0.003            0.181   \n",
       "1048559               -0.010                  -0.003            0.181   \n",
       "1048560               -0.010                  -0.003            0.181   \n",
       "1048561               -0.010                  -0.003            0.182   \n",
       "\n",
       "         ZERO SPEED 1  LUBE OIL TANK LEVEL  EMG L.O.P MTR CURRT  \\\n",
       "0              2995.7               -6.039                  0.1   \n",
       "1              2995.7               -6.041                  0.1   \n",
       "2              2995.9               -6.045                  0.1   \n",
       "3              2996.0               -6.044                  0.1   \n",
       "4              2995.9               -6.039                  0.1   \n",
       "...               ...                  ...                  ...   \n",
       "1048557        3001.1               -5.967                  0.1   \n",
       "1048558        3000.8               -5.968                  0.1   \n",
       "1048559        3001.0               -5.969                  0.1   \n",
       "1048560        3001.6               -5.969                  0.1   \n",
       "1048561        3001.7               -5.969                  0.1   \n",
       "\n",
       "         EMG HP SEAL P MTR CURRT  BRG L.O.P MTR CURRT  Unnamed: 13  \\\n",
       "0                              0                 0.98          NaN   \n",
       "1                              0                 0.98          NaN   \n",
       "2                              0                 0.98          NaN   \n",
       "3                              0                 0.97          NaN   \n",
       "4                              0                 0.98          NaN   \n",
       "...                          ...                  ...          ...   \n",
       "1048557                        0                 0.98          NaN   \n",
       "1048558                        0                 0.98          NaN   \n",
       "1048559                        0                 0.97          NaN   \n",
       "1048560                        0                 0.97          NaN   \n",
       "1048561                        0                 0.96          NaN   \n",
       "\n",
       "         Unnamed: 14  Unnamed: 15  Unnamed: 16  Unnamed: 17 Unnamed: 18  \\\n",
       "0                NaN          NaN          NaN          NaN         NaN   \n",
       "1                NaN          NaN          NaN          NaN         NaN   \n",
       "2                NaN          NaN          NaN          NaN         NaN   \n",
       "3                NaN          NaN          NaN          NaN         NaN   \n",
       "4                NaN          NaN          NaN          NaN         NaN   \n",
       "...              ...          ...          ...          ...         ...   \n",
       "1048557          NaN          NaN          NaN          NaN         NaN   \n",
       "1048558          NaN          NaN          NaN          NaN         NaN   \n",
       "1048559          NaN          NaN          NaN          NaN         NaN   \n",
       "1048560          NaN          NaN          NaN          NaN         NaN   \n",
       "1048561          NaN          NaN          NaN          NaN         NaN   \n",
       "\n",
       "        Unnamed: 19  \n",
       "0                 B  \n",
       "1                 B  \n",
       "2                 B  \n",
       "3                 B  \n",
       "4                 B  \n",
       "...             ...  \n",
       "1048557           B  \n",
       "1048558           B  \n",
       "1048559           B  \n",
       "1048560           B  \n",
       "1048561           B  \n",
       "\n",
       "[1048562 rows x 20 columns]"
      ]
     },
     "execution_count": 3,
     "metadata": {},
     "output_type": "execute_result"
    }
   ],
   "source": [
    "df"
   ]
  },
  {
   "cell_type": "code",
   "execution_count": 4,
   "id": "43f68a9a",
   "metadata": {
    "ExecuteTime": {
     "end_time": "2023-06-04T09:51:47.709049Z",
     "start_time": "2023-06-04T09:51:47.663796Z"
    }
   },
   "outputs": [],
   "source": [
    "df=df[['Unnamed: 2','Unnamed: 3','LUBE OIL TANK LEVEL']]"
   ]
  },
  {
   "cell_type": "code",
   "execution_count": 5,
   "id": "a592d33b",
   "metadata": {
    "ExecuteTime": {
     "end_time": "2023-06-04T09:51:52.245311Z",
     "start_time": "2023-06-04T09:51:52.230311Z"
    }
   },
   "outputs": [
    {
     "data": {
      "text/html": [
       "<div>\n",
       "<style scoped>\n",
       "    .dataframe tbody tr th:only-of-type {\n",
       "        vertical-align: middle;\n",
       "    }\n",
       "\n",
       "    .dataframe tbody tr th {\n",
       "        vertical-align: top;\n",
       "    }\n",
       "\n",
       "    .dataframe thead th {\n",
       "        text-align: right;\n",
       "    }\n",
       "</style>\n",
       "<table border=\"1\" class=\"dataframe\">\n",
       "  <thead>\n",
       "    <tr style=\"text-align: right;\">\n",
       "      <th></th>\n",
       "      <th>Unnamed: 2</th>\n",
       "      <th>Unnamed: 3</th>\n",
       "      <th>LUBE OIL TANK LEVEL</th>\n",
       "    </tr>\n",
       "  </thead>\n",
       "  <tbody>\n",
       "    <tr>\n",
       "      <th>0</th>\n",
       "      <td>30-04-2023</td>\n",
       "      <td>00:00:00</td>\n",
       "      <td>-6.039</td>\n",
       "    </tr>\n",
       "    <tr>\n",
       "      <th>1</th>\n",
       "      <td>30-04-2023</td>\n",
       "      <td>00:00:01</td>\n",
       "      <td>-6.041</td>\n",
       "    </tr>\n",
       "    <tr>\n",
       "      <th>2</th>\n",
       "      <td>30-04-2023</td>\n",
       "      <td>00:00:02</td>\n",
       "      <td>-6.045</td>\n",
       "    </tr>\n",
       "    <tr>\n",
       "      <th>3</th>\n",
       "      <td>30-04-2023</td>\n",
       "      <td>00:00:03</td>\n",
       "      <td>-6.044</td>\n",
       "    </tr>\n",
       "    <tr>\n",
       "      <th>4</th>\n",
       "      <td>30-04-2023</td>\n",
       "      <td>00:00:04</td>\n",
       "      <td>-6.039</td>\n",
       "    </tr>\n",
       "    <tr>\n",
       "      <th>...</th>\n",
       "      <td>...</td>\n",
       "      <td>...</td>\n",
       "      <td>...</td>\n",
       "    </tr>\n",
       "    <tr>\n",
       "      <th>1048557</th>\n",
       "      <td>12-05-2023</td>\n",
       "      <td>03:15:57</td>\n",
       "      <td>-5.967</td>\n",
       "    </tr>\n",
       "    <tr>\n",
       "      <th>1048558</th>\n",
       "      <td>12-05-2023</td>\n",
       "      <td>03:15:58</td>\n",
       "      <td>-5.968</td>\n",
       "    </tr>\n",
       "    <tr>\n",
       "      <th>1048559</th>\n",
       "      <td>12-05-2023</td>\n",
       "      <td>03:15:59</td>\n",
       "      <td>-5.969</td>\n",
       "    </tr>\n",
       "    <tr>\n",
       "      <th>1048560</th>\n",
       "      <td>12-05-2023</td>\n",
       "      <td>03:16:00</td>\n",
       "      <td>-5.969</td>\n",
       "    </tr>\n",
       "    <tr>\n",
       "      <th>1048561</th>\n",
       "      <td>12-05-2023</td>\n",
       "      <td>03:16:01</td>\n",
       "      <td>-5.969</td>\n",
       "    </tr>\n",
       "  </tbody>\n",
       "</table>\n",
       "<p>1048562 rows × 3 columns</p>\n",
       "</div>"
      ],
      "text/plain": [
       "         Unnamed: 2 Unnamed: 3  LUBE OIL TANK LEVEL\n",
       "0        30-04-2023   00:00:00               -6.039\n",
       "1        30-04-2023   00:00:01               -6.041\n",
       "2        30-04-2023   00:00:02               -6.045\n",
       "3        30-04-2023   00:00:03               -6.044\n",
       "4        30-04-2023   00:00:04               -6.039\n",
       "...             ...        ...                  ...\n",
       "1048557  12-05-2023   03:15:57               -5.967\n",
       "1048558  12-05-2023   03:15:58               -5.968\n",
       "1048559  12-05-2023   03:15:59               -5.969\n",
       "1048560  12-05-2023   03:16:00               -5.969\n",
       "1048561  12-05-2023   03:16:01               -5.969\n",
       "\n",
       "[1048562 rows x 3 columns]"
      ]
     },
     "execution_count": 5,
     "metadata": {},
     "output_type": "execute_result"
    }
   ],
   "source": [
    "df"
   ]
  },
  {
   "cell_type": "code",
   "execution_count": 6,
   "id": "be2ed583",
   "metadata": {
    "ExecuteTime": {
     "end_time": "2023-06-04T09:51:58.065428Z",
     "start_time": "2023-06-04T09:51:58.055429Z"
    }
   },
   "outputs": [
    {
     "name": "stderr",
     "output_type": "stream",
     "text": [
      "C:\\Users\\pbann\\AppData\\Local\\Temp\\ipykernel_18160\\4023694618.py:1: SettingWithCopyWarning: \n",
      "A value is trying to be set on a copy of a slice from a DataFrame\n",
      "\n",
      "See the caveats in the documentation: https://pandas.pydata.org/pandas-docs/stable/user_guide/indexing.html#returning-a-view-versus-a-copy\n",
      "  df.rename(columns={'Unnamed: 2':'DATE','Unnamed: 3':'TIME'},inplace=True)\n"
     ]
    }
   ],
   "source": [
    "df.rename(columns={'Unnamed: 2':'DATE','Unnamed: 3':'TIME'},inplace=True)"
   ]
  },
  {
   "cell_type": "code",
   "execution_count": 7,
   "id": "d29d8181",
   "metadata": {
    "ExecuteTime": {
     "end_time": "2023-06-04T09:51:59.231678Z",
     "start_time": "2023-06-04T09:51:59.210115Z"
    }
   },
   "outputs": [
    {
     "data": {
      "text/html": [
       "<div>\n",
       "<style scoped>\n",
       "    .dataframe tbody tr th:only-of-type {\n",
       "        vertical-align: middle;\n",
       "    }\n",
       "\n",
       "    .dataframe tbody tr th {\n",
       "        vertical-align: top;\n",
       "    }\n",
       "\n",
       "    .dataframe thead th {\n",
       "        text-align: right;\n",
       "    }\n",
       "</style>\n",
       "<table border=\"1\" class=\"dataframe\">\n",
       "  <thead>\n",
       "    <tr style=\"text-align: right;\">\n",
       "      <th></th>\n",
       "      <th>DATE</th>\n",
       "      <th>TIME</th>\n",
       "      <th>LUBE OIL TANK LEVEL</th>\n",
       "    </tr>\n",
       "  </thead>\n",
       "  <tbody>\n",
       "    <tr>\n",
       "      <th>0</th>\n",
       "      <td>30-04-2023</td>\n",
       "      <td>00:00:00</td>\n",
       "      <td>-6.039</td>\n",
       "    </tr>\n",
       "    <tr>\n",
       "      <th>1</th>\n",
       "      <td>30-04-2023</td>\n",
       "      <td>00:00:01</td>\n",
       "      <td>-6.041</td>\n",
       "    </tr>\n",
       "    <tr>\n",
       "      <th>2</th>\n",
       "      <td>30-04-2023</td>\n",
       "      <td>00:00:02</td>\n",
       "      <td>-6.045</td>\n",
       "    </tr>\n",
       "    <tr>\n",
       "      <th>3</th>\n",
       "      <td>30-04-2023</td>\n",
       "      <td>00:00:03</td>\n",
       "      <td>-6.044</td>\n",
       "    </tr>\n",
       "    <tr>\n",
       "      <th>4</th>\n",
       "      <td>30-04-2023</td>\n",
       "      <td>00:00:04</td>\n",
       "      <td>-6.039</td>\n",
       "    </tr>\n",
       "    <tr>\n",
       "      <th>...</th>\n",
       "      <td>...</td>\n",
       "      <td>...</td>\n",
       "      <td>...</td>\n",
       "    </tr>\n",
       "    <tr>\n",
       "      <th>1048557</th>\n",
       "      <td>12-05-2023</td>\n",
       "      <td>03:15:57</td>\n",
       "      <td>-5.967</td>\n",
       "    </tr>\n",
       "    <tr>\n",
       "      <th>1048558</th>\n",
       "      <td>12-05-2023</td>\n",
       "      <td>03:15:58</td>\n",
       "      <td>-5.968</td>\n",
       "    </tr>\n",
       "    <tr>\n",
       "      <th>1048559</th>\n",
       "      <td>12-05-2023</td>\n",
       "      <td>03:15:59</td>\n",
       "      <td>-5.969</td>\n",
       "    </tr>\n",
       "    <tr>\n",
       "      <th>1048560</th>\n",
       "      <td>12-05-2023</td>\n",
       "      <td>03:16:00</td>\n",
       "      <td>-5.969</td>\n",
       "    </tr>\n",
       "    <tr>\n",
       "      <th>1048561</th>\n",
       "      <td>12-05-2023</td>\n",
       "      <td>03:16:01</td>\n",
       "      <td>-5.969</td>\n",
       "    </tr>\n",
       "  </tbody>\n",
       "</table>\n",
       "<p>1048562 rows × 3 columns</p>\n",
       "</div>"
      ],
      "text/plain": [
       "               DATE      TIME  LUBE OIL TANK LEVEL\n",
       "0        30-04-2023  00:00:00               -6.039\n",
       "1        30-04-2023  00:00:01               -6.041\n",
       "2        30-04-2023  00:00:02               -6.045\n",
       "3        30-04-2023  00:00:03               -6.044\n",
       "4        30-04-2023  00:00:04               -6.039\n",
       "...             ...       ...                  ...\n",
       "1048557  12-05-2023  03:15:57               -5.967\n",
       "1048558  12-05-2023  03:15:58               -5.968\n",
       "1048559  12-05-2023  03:15:59               -5.969\n",
       "1048560  12-05-2023  03:16:00               -5.969\n",
       "1048561  12-05-2023  03:16:01               -5.969\n",
       "\n",
       "[1048562 rows x 3 columns]"
      ]
     },
     "execution_count": 7,
     "metadata": {},
     "output_type": "execute_result"
    }
   ],
   "source": [
    "df"
   ]
  },
  {
   "cell_type": "code",
   "execution_count": 18,
   "id": "a21ca4fd",
   "metadata": {
    "ExecuteTime": {
     "end_time": "2023-06-04T10:02:07.385446Z",
     "start_time": "2023-06-04T10:02:07.376932Z"
    }
   },
   "outputs": [],
   "source": [
    "df=df.iloc[1::100]"
   ]
  },
  {
   "cell_type": "code",
   "execution_count": 19,
   "id": "20189227",
   "metadata": {
    "ExecuteTime": {
     "end_time": "2023-06-04T10:02:08.026501Z",
     "start_time": "2023-06-04T10:02:08.004966Z"
    }
   },
   "outputs": [
    {
     "data": {
      "text/html": [
       "<div>\n",
       "<style scoped>\n",
       "    .dataframe tbody tr th:only-of-type {\n",
       "        vertical-align: middle;\n",
       "    }\n",
       "\n",
       "    .dataframe tbody tr th {\n",
       "        vertical-align: top;\n",
       "    }\n",
       "\n",
       "    .dataframe thead th {\n",
       "        text-align: right;\n",
       "    }\n",
       "</style>\n",
       "<table border=\"1\" class=\"dataframe\">\n",
       "  <thead>\n",
       "    <tr style=\"text-align: right;\">\n",
       "      <th></th>\n",
       "      <th>DATE</th>\n",
       "      <th>TIME</th>\n",
       "      <th>LUBE OIL TANK LEVEL</th>\n",
       "    </tr>\n",
       "  </thead>\n",
       "  <tbody>\n",
       "    <tr>\n",
       "      <th>101</th>\n",
       "      <td>30-04-2023</td>\n",
       "      <td>00:01:41</td>\n",
       "      <td>-6.041</td>\n",
       "    </tr>\n",
       "    <tr>\n",
       "      <th>10101</th>\n",
       "      <td>30-04-2023</td>\n",
       "      <td>02:48:21</td>\n",
       "      <td>-6.045</td>\n",
       "    </tr>\n",
       "    <tr>\n",
       "      <th>20101</th>\n",
       "      <td>30-04-2023</td>\n",
       "      <td>05:35:01</td>\n",
       "      <td>-6.055</td>\n",
       "    </tr>\n",
       "    <tr>\n",
       "      <th>30101</th>\n",
       "      <td>30-04-2023</td>\n",
       "      <td>08:21:41</td>\n",
       "      <td>-6.053</td>\n",
       "    </tr>\n",
       "    <tr>\n",
       "      <th>40101</th>\n",
       "      <td>30-04-2023</td>\n",
       "      <td>11:08:21</td>\n",
       "      <td>-6.061</td>\n",
       "    </tr>\n",
       "    <tr>\n",
       "      <th>...</th>\n",
       "      <td>...</td>\n",
       "      <td>...</td>\n",
       "      <td>...</td>\n",
       "    </tr>\n",
       "    <tr>\n",
       "      <th>1000101</th>\n",
       "      <td>11-05-2023</td>\n",
       "      <td>13:48:21</td>\n",
       "      <td>-5.922</td>\n",
       "    </tr>\n",
       "    <tr>\n",
       "      <th>1010101</th>\n",
       "      <td>11-05-2023</td>\n",
       "      <td>16:35:01</td>\n",
       "      <td>-5.919</td>\n",
       "    </tr>\n",
       "    <tr>\n",
       "      <th>1020101</th>\n",
       "      <td>11-05-2023</td>\n",
       "      <td>19:21:41</td>\n",
       "      <td>-5.930</td>\n",
       "    </tr>\n",
       "    <tr>\n",
       "      <th>1030101</th>\n",
       "      <td>11-05-2023</td>\n",
       "      <td>22:08:21</td>\n",
       "      <td>-5.945</td>\n",
       "    </tr>\n",
       "    <tr>\n",
       "      <th>1040101</th>\n",
       "      <td>12-05-2023</td>\n",
       "      <td>00:55:01</td>\n",
       "      <td>-5.954</td>\n",
       "    </tr>\n",
       "  </tbody>\n",
       "</table>\n",
       "<p>105 rows × 3 columns</p>\n",
       "</div>"
      ],
      "text/plain": [
       "               DATE      TIME  LUBE OIL TANK LEVEL\n",
       "101      30-04-2023  00:01:41               -6.041\n",
       "10101    30-04-2023  02:48:21               -6.045\n",
       "20101    30-04-2023  05:35:01               -6.055\n",
       "30101    30-04-2023  08:21:41               -6.053\n",
       "40101    30-04-2023  11:08:21               -6.061\n",
       "...             ...       ...                  ...\n",
       "1000101  11-05-2023  13:48:21               -5.922\n",
       "1010101  11-05-2023  16:35:01               -5.919\n",
       "1020101  11-05-2023  19:21:41               -5.930\n",
       "1030101  11-05-2023  22:08:21               -5.945\n",
       "1040101  12-05-2023  00:55:01               -5.954\n",
       "\n",
       "[105 rows x 3 columns]"
      ]
     },
     "execution_count": 19,
     "metadata": {},
     "output_type": "execute_result"
    }
   ],
   "source": [
    "df"
   ]
  },
  {
   "cell_type": "code",
   "execution_count": 41,
   "id": "f7c5f22f",
   "metadata": {
    "ExecuteTime": {
     "end_time": "2023-06-04T03:09:14.333682Z",
     "start_time": "2023-06-04T03:09:13.336638Z"
    }
   },
   "outputs": [],
   "source": [
    "df.to_excel('2_min.xlsx')"
   ]
  },
  {
   "cell_type": "code",
   "execution_count": 20,
   "id": "0648f2c6",
   "metadata": {
    "ExecuteTime": {
     "end_time": "2023-06-04T10:02:15.732130Z",
     "start_time": "2023-06-04T10:02:15.714602Z"
    }
   },
   "outputs": [],
   "source": [
    "df=df.iloc[1::3]"
   ]
  },
  {
   "cell_type": "code",
   "execution_count": 45,
   "id": "2b856dfc",
   "metadata": {
    "ExecuteTime": {
     "end_time": "2023-06-04T03:10:04.291961Z",
     "start_time": "2023-06-04T03:10:04.024513Z"
    }
   },
   "outputs": [],
   "source": [
    "df.to_excel('5_min.xlsx')"
   ]
  },
  {
   "cell_type": "code",
   "execution_count": 21,
   "id": "2f33f5df",
   "metadata": {
    "ExecuteTime": {
     "end_time": "2023-06-04T10:02:18.126982Z",
     "start_time": "2023-06-04T10:02:18.110466Z"
    }
   },
   "outputs": [
    {
     "data": {
      "text/html": [
       "<div>\n",
       "<style scoped>\n",
       "    .dataframe tbody tr th:only-of-type {\n",
       "        vertical-align: middle;\n",
       "    }\n",
       "\n",
       "    .dataframe tbody tr th {\n",
       "        vertical-align: top;\n",
       "    }\n",
       "\n",
       "    .dataframe thead th {\n",
       "        text-align: right;\n",
       "    }\n",
       "</style>\n",
       "<table border=\"1\" class=\"dataframe\">\n",
       "  <thead>\n",
       "    <tr style=\"text-align: right;\">\n",
       "      <th></th>\n",
       "      <th>DATE</th>\n",
       "      <th>TIME</th>\n",
       "      <th>LUBE OIL TANK LEVEL</th>\n",
       "    </tr>\n",
       "  </thead>\n",
       "  <tbody>\n",
       "    <tr>\n",
       "      <th>10101</th>\n",
       "      <td>30-04-2023</td>\n",
       "      <td>02:48:21</td>\n",
       "      <td>-6.045</td>\n",
       "    </tr>\n",
       "    <tr>\n",
       "      <th>40101</th>\n",
       "      <td>30-04-2023</td>\n",
       "      <td>11:08:21</td>\n",
       "      <td>-6.061</td>\n",
       "    </tr>\n",
       "    <tr>\n",
       "      <th>70101</th>\n",
       "      <td>30-04-2023</td>\n",
       "      <td>19:28:21</td>\n",
       "      <td>-6.052</td>\n",
       "    </tr>\n",
       "    <tr>\n",
       "      <th>100101</th>\n",
       "      <td>01-05-2023</td>\n",
       "      <td>03:48:21</td>\n",
       "      <td>-6.059</td>\n",
       "    </tr>\n",
       "    <tr>\n",
       "      <th>130101</th>\n",
       "      <td>01-05-2023</td>\n",
       "      <td>12:08:21</td>\n",
       "      <td>-6.035</td>\n",
       "    </tr>\n",
       "    <tr>\n",
       "      <th>160101</th>\n",
       "      <td>01-05-2023</td>\n",
       "      <td>20:28:21</td>\n",
       "      <td>-6.038</td>\n",
       "    </tr>\n",
       "    <tr>\n",
       "      <th>190101</th>\n",
       "      <td>02-05-2023</td>\n",
       "      <td>04:48:21</td>\n",
       "      <td>-6.043</td>\n",
       "    </tr>\n",
       "    <tr>\n",
       "      <th>220101</th>\n",
       "      <td>02-05-2023</td>\n",
       "      <td>13:08:21</td>\n",
       "      <td>-6.020</td>\n",
       "    </tr>\n",
       "    <tr>\n",
       "      <th>250101</th>\n",
       "      <td>02-05-2023</td>\n",
       "      <td>21:28:21</td>\n",
       "      <td>-6.010</td>\n",
       "    </tr>\n",
       "    <tr>\n",
       "      <th>280101</th>\n",
       "      <td>03-05-2023</td>\n",
       "      <td>05:48:21</td>\n",
       "      <td>-6.028</td>\n",
       "    </tr>\n",
       "    <tr>\n",
       "      <th>310101</th>\n",
       "      <td>03-05-2023</td>\n",
       "      <td>14:08:21</td>\n",
       "      <td>-6.028</td>\n",
       "    </tr>\n",
       "    <tr>\n",
       "      <th>340101</th>\n",
       "      <td>03-05-2023</td>\n",
       "      <td>22:28:21</td>\n",
       "      <td>-6.017</td>\n",
       "    </tr>\n",
       "    <tr>\n",
       "      <th>370101</th>\n",
       "      <td>04-05-2023</td>\n",
       "      <td>06:48:21</td>\n",
       "      <td>-6.024</td>\n",
       "    </tr>\n",
       "    <tr>\n",
       "      <th>400101</th>\n",
       "      <td>04-05-2023</td>\n",
       "      <td>15:08:21</td>\n",
       "      <td>-5.994</td>\n",
       "    </tr>\n",
       "    <tr>\n",
       "      <th>430101</th>\n",
       "      <td>04-05-2023</td>\n",
       "      <td>23:28:21</td>\n",
       "      <td>-5.998</td>\n",
       "    </tr>\n",
       "    <tr>\n",
       "      <th>460101</th>\n",
       "      <td>05-05-2023</td>\n",
       "      <td>07:48:21</td>\n",
       "      <td>-6.010</td>\n",
       "    </tr>\n",
       "    <tr>\n",
       "      <th>490101</th>\n",
       "      <td>05-05-2023</td>\n",
       "      <td>16:08:21</td>\n",
       "      <td>-5.986</td>\n",
       "    </tr>\n",
       "    <tr>\n",
       "      <th>520101</th>\n",
       "      <td>06-05-2023</td>\n",
       "      <td>00:28:21</td>\n",
       "      <td>-6.006</td>\n",
       "    </tr>\n",
       "    <tr>\n",
       "      <th>550101</th>\n",
       "      <td>06-05-2023</td>\n",
       "      <td>08:48:21</td>\n",
       "      <td>-5.999</td>\n",
       "    </tr>\n",
       "    <tr>\n",
       "      <th>580101</th>\n",
       "      <td>06-05-2023</td>\n",
       "      <td>17:08:21</td>\n",
       "      <td>-5.959</td>\n",
       "    </tr>\n",
       "    <tr>\n",
       "      <th>610101</th>\n",
       "      <td>07-05-2023</td>\n",
       "      <td>01:28:21</td>\n",
       "      <td>-5.983</td>\n",
       "    </tr>\n",
       "    <tr>\n",
       "      <th>640101</th>\n",
       "      <td>07-05-2023</td>\n",
       "      <td>09:48:21</td>\n",
       "      <td>-5.990</td>\n",
       "    </tr>\n",
       "    <tr>\n",
       "      <th>670101</th>\n",
       "      <td>07-05-2023</td>\n",
       "      <td>18:08:21</td>\n",
       "      <td>-5.972</td>\n",
       "    </tr>\n",
       "    <tr>\n",
       "      <th>700101</th>\n",
       "      <td>08-05-2023</td>\n",
       "      <td>02:28:21</td>\n",
       "      <td>-5.996</td>\n",
       "    </tr>\n",
       "    <tr>\n",
       "      <th>730101</th>\n",
       "      <td>08-05-2023</td>\n",
       "      <td>10:48:21</td>\n",
       "      <td>-5.975</td>\n",
       "    </tr>\n",
       "    <tr>\n",
       "      <th>760101</th>\n",
       "      <td>08-05-2023</td>\n",
       "      <td>19:08:21</td>\n",
       "      <td>-5.946</td>\n",
       "    </tr>\n",
       "    <tr>\n",
       "      <th>790101</th>\n",
       "      <td>09-05-2023</td>\n",
       "      <td>03:28:21</td>\n",
       "      <td>-5.954</td>\n",
       "    </tr>\n",
       "    <tr>\n",
       "      <th>820101</th>\n",
       "      <td>09-05-2023</td>\n",
       "      <td>11:48:21</td>\n",
       "      <td>-5.929</td>\n",
       "    </tr>\n",
       "    <tr>\n",
       "      <th>850101</th>\n",
       "      <td>09-05-2023</td>\n",
       "      <td>20:08:21</td>\n",
       "      <td>-5.937</td>\n",
       "    </tr>\n",
       "    <tr>\n",
       "      <th>880101</th>\n",
       "      <td>10-05-2023</td>\n",
       "      <td>04:28:21</td>\n",
       "      <td>-5.946</td>\n",
       "    </tr>\n",
       "    <tr>\n",
       "      <th>910101</th>\n",
       "      <td>10-05-2023</td>\n",
       "      <td>12:48:21</td>\n",
       "      <td>-5.912</td>\n",
       "    </tr>\n",
       "    <tr>\n",
       "      <th>940101</th>\n",
       "      <td>10-05-2023</td>\n",
       "      <td>21:08:21</td>\n",
       "      <td>-5.911</td>\n",
       "    </tr>\n",
       "    <tr>\n",
       "      <th>970101</th>\n",
       "      <td>11-05-2023</td>\n",
       "      <td>05:28:21</td>\n",
       "      <td>-5.954</td>\n",
       "    </tr>\n",
       "    <tr>\n",
       "      <th>1000101</th>\n",
       "      <td>11-05-2023</td>\n",
       "      <td>13:48:21</td>\n",
       "      <td>-5.922</td>\n",
       "    </tr>\n",
       "    <tr>\n",
       "      <th>1030101</th>\n",
       "      <td>11-05-2023</td>\n",
       "      <td>22:08:21</td>\n",
       "      <td>-5.945</td>\n",
       "    </tr>\n",
       "  </tbody>\n",
       "</table>\n",
       "</div>"
      ],
      "text/plain": [
       "               DATE      TIME  LUBE OIL TANK LEVEL\n",
       "10101    30-04-2023  02:48:21               -6.045\n",
       "40101    30-04-2023  11:08:21               -6.061\n",
       "70101    30-04-2023  19:28:21               -6.052\n",
       "100101   01-05-2023  03:48:21               -6.059\n",
       "130101   01-05-2023  12:08:21               -6.035\n",
       "160101   01-05-2023  20:28:21               -6.038\n",
       "190101   02-05-2023  04:48:21               -6.043\n",
       "220101   02-05-2023  13:08:21               -6.020\n",
       "250101   02-05-2023  21:28:21               -6.010\n",
       "280101   03-05-2023  05:48:21               -6.028\n",
       "310101   03-05-2023  14:08:21               -6.028\n",
       "340101   03-05-2023  22:28:21               -6.017\n",
       "370101   04-05-2023  06:48:21               -6.024\n",
       "400101   04-05-2023  15:08:21               -5.994\n",
       "430101   04-05-2023  23:28:21               -5.998\n",
       "460101   05-05-2023  07:48:21               -6.010\n",
       "490101   05-05-2023  16:08:21               -5.986\n",
       "520101   06-05-2023  00:28:21               -6.006\n",
       "550101   06-05-2023  08:48:21               -5.999\n",
       "580101   06-05-2023  17:08:21               -5.959\n",
       "610101   07-05-2023  01:28:21               -5.983\n",
       "640101   07-05-2023  09:48:21               -5.990\n",
       "670101   07-05-2023  18:08:21               -5.972\n",
       "700101   08-05-2023  02:28:21               -5.996\n",
       "730101   08-05-2023  10:48:21               -5.975\n",
       "760101   08-05-2023  19:08:21               -5.946\n",
       "790101   09-05-2023  03:28:21               -5.954\n",
       "820101   09-05-2023  11:48:21               -5.929\n",
       "850101   09-05-2023  20:08:21               -5.937\n",
       "880101   10-05-2023  04:28:21               -5.946\n",
       "910101   10-05-2023  12:48:21               -5.912\n",
       "940101   10-05-2023  21:08:21               -5.911\n",
       "970101   11-05-2023  05:28:21               -5.954\n",
       "1000101  11-05-2023  13:48:21               -5.922\n",
       "1030101  11-05-2023  22:08:21               -5.945"
      ]
     },
     "execution_count": 21,
     "metadata": {},
     "output_type": "execute_result"
    }
   ],
   "source": [
    "df"
   ]
  },
  {
   "cell_type": "code",
   "execution_count": 22,
   "id": "80147194",
   "metadata": {
    "ExecuteTime": {
     "end_time": "2023-06-04T10:02:38.086446Z",
     "start_time": "2023-06-04T10:02:37.962360Z"
    }
   },
   "outputs": [
    {
     "data": {
      "text/plain": [
       "[<matplotlib.lines.Line2D at 0x1efe82979a0>]"
      ]
     },
     "execution_count": 22,
     "metadata": {},
     "output_type": "execute_result"
    },
    {
     "data": {
      "image/png": "[encoded data removed]",
      "text/plain": [
       "<Figure size 640x480 with 1 Axes>"
      ]
     },
     "metadata": {},
     "output_type": "display_data"
    }
   ],
   "source": [
    "plt.plot(df['LUBE OIL TANK LEVEL'])"
   ]
  },
  {
   "cell_type": "code",
   "execution_count": 30,
   "id": "93dbc0f2",
   "metadata": {
    "ExecuteTime": {
     "end_time": "2023-06-04T10:31:05.198449Z",
     "start_time": "2023-06-04T10:31:05.032441Z"
    }
   },
   "outputs": [
    {
     "data": {
      "image/png": "[encoded data removed]",
      "text/plain": [
       "<Figure size 1800x1000 with 1 Axes>"
      ]
     },
     "metadata": {},
     "output_type": "display_data"
    }
   ],
   "source": [
    "plt.figure(figsize=(18,10))\n",
    "plt.scatter(df['DATE'],df['LUBE OIL TANK LEVEL'])\n",
    "\n",
    "plt.xticks(rotation='vertical')\n",
    "plt.show()"
   ]
  },
  {
   "cell_type": "code",
   "execution_count": 34,
   "id": "c8773b29",
   "metadata": {
    "ExecuteTime": {
     "end_time": "2023-06-04T10:33:45.937806Z",
     "start_time": "2023-06-04T10:33:45.924097Z"
    }
   },
   "outputs": [
    {
     "data": {
      "text/plain": [
       "-6.061"
      ]
     },
     "execution_count": 34,
     "metadata": {},
     "output_type": "execute_result"
    }
   ],
   "source": [
    "df['LUBE OIL TANK LEVEL'].min()"
   ]
  },
  {
   "cell_type": "code",
   "execution_count": null,
   "id": "f5cec8e4",
   "metadata": {},
   "outputs": [],
   "source": []
  },
  {
   "cell_type": "code",
   "execution_count": null,
   "id": "d5f4733e",
   "metadata": {},
   "outputs": [],
   "source": []
  },
  {
   "cell_type": "code",
   "execution_count": null,
   "id": "a3d5f963",
   "metadata": {},
   "outputs": [],
   "source": []
  },
  {
   "cell_type": "code",
   "execution_count": null,
   "id": "6bbb14ce",
   "metadata": {},
   "outputs": [],
   "source": []
  }
 ],
 "metadata": {
  "kernelspec": {
   "display_name": "Python 3 (ipykernel)",
   "language": "python",
   "name": "python3"
  },
  "language_info": {
   "codemirror_mode": {
    "name": "ipython",
    "version": 3
   },
   "file_extension": ".py",
   "mimetype": "text/x-python",
   "name": "python",
   "nbconvert_exporter": "python",
   "pygments_lexer": "ipython3",
   "version": "3.9.13"
  }
 },
 "nbformat": 4,
 "nbformat_minor": 5
}
