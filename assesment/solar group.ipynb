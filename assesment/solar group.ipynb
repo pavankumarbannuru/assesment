{
 "cells": [
  {
   "cell_type": "markdown",
   "id": "7c612660",
   "metadata": {},
   "source": [
    "************************************Question 1***********************************\n",
    "Given two arrays, arr1 and arr2 of equal length N, the task is to find if the given arrays are equal or not. \n",
    "\n",
    "Two arrays are said to be equal if:\n",
    "both of them contain the same set of elements, \n",
    "arrangements (or permutations) of elements might/might not be same.\n",
    "If there are repetitions, then counts of repeated elements must also be the same for two arrays to be equal.\n",
    "\n",
    "Input: arr1[] = {1, 2, 5, 4, 0}, arr2[] = {2, 4, 5, 0, 1}\n",
    "Output: Yes\n",
    "\n",
    "Input: arr1[] = {1, 2, 5, 4, 0, 2, 1}, arr2[] = {2, 4, 5, 0, 1, 1, 2} \n",
    "Output: Yes\n",
    "\n",
    "Input: arr1[] = {1, 7, 1}, arr2[] = {7, 7, 1}\n",
    "Output: No\n",
    "\n",
    "Expected Time Complexity = O(n)\n",
    "\n",
    "\n",
    "\n",
    "***********************Question 2*************************************\n",
    "Given an array A of positive integers. Your task is to find the leaders in the array. \n",
    "An element of array is leader if it is greater than or equal to all the elements to its right side. The rightmost element is always a leader.\n",
    "\n",
    "\n",
    "Input:\n",
    "n = 6\n",
    "A[] = {16,17,4,3,5,2}\n",
    "Output: 17 5 2\n",
    "Explanation: The first leader is 17 \n",
    "as it is greater than all the elements\n",
    "to its right.  Similarly, the next \n",
    "leader is 5. The right most element \n",
    "is always a leader so it is also \n",
    "included.\n",
    "\n",
    "Input:\n",
    "n = 5\n",
    "A[] = {1,2,3,4,0}\n",
    "Output: 4 0\n",
    "Expected Time Complexity: O(n) \n",
    "\n",
    "\n",
    "\n",
    "\n",
    "****************************************Question 3******************************************************\n",
    "Given an array of integers, find the length of the longest sub-sequence such that elements in the subsequence are consecutive integers, the consecutive numbers can be in any order.\n",
    "Input: arr[] = {1, 9, 3, 10, 4, 20, 2}\n",
    "Output: 4\n",
    "Explanation: The subsequence 1, 3, 4, 2 is the longest subsequence of consecutive elements\n",
    "\n",
    "Input: arr[] = {36, 41, 56, 35, 44, 33, 34, 92, 43, 32, 42}\n",
    "Output: 5\n",
    "Explanation: The subsequence 36, 35, 33, 34, 32 is the longest subsequence of consecutive elements.\n",
    "\n",
    "\n",
    "\n",
    "\n",
    "***********************************Question 4************************************************************\n",
    "Given an unsorted array Arr of size N of positive integers. One number 'A' from set {1, 2, …N} is missing and one number 'B' occurs twice in array. Find these two numbers.\n",
    "Input:\n",
    "N = 2\n",
    "Arr[] = {2, 2}\n",
    "Output: 2 1\n",
    "Explanation: Repeating number is 2 and \n",
    "smallest positive missing number is 1.\n",
    "Input:\n",
    "N = 4\n",
    "Arr[] = {1, 3, 3}\n",
    "Output: 3 2\n",
    "Explanation: Repeating number is 3 and \n",
    "smallest positive missing number is 2.s\n",
    "\n",
    "\n",
    "\n",
    "\n",
    "\n",
    "\n",
    "******************** SQL *********************************\n",
    "\n",
    "1. Write a SQL query to find all numbers that appear at least three times consecutively.\n",
    "\n",
    "Ex 1 \n",
    "+----+-----+\n",
    "| Id | Num |\n",
    "+----+-----+\n",
    "| 1 | 1 |\n",
    "| 2 | 1 |\n",
    "| 3 | 1 |\n",
    "| 4 | 2 |\n",
    "| 5 | 1 |\n",
    "\n",
    "given the above Logs table, 1 is the only number that appears consecutively for at least three times.\n",
    "\n",
    "\n",
    "\n",
    "2. Write a SQL query to get the nth highest salary from the Employee table.\n",
    "\n",
    "+----+--------+\n",
    "| Id | Salary |\n",
    "+----+--------+\n",
    "| 1 | 100 |\n",
    "| 2 | 200 |\n",
    "| 3 | 300 |\n",
    "\n",
    "\n",
    "For example, given the above Employee table, the nth highest salary where n = 2 is 200. If there is no nth highest salary, then the query should return null.\n",
    "\n",
    "\n",
    "\n",
    "\n"
   ]
  },
  {
   "cell_type": "markdown",
   "id": "768ac613",
   "metadata": {},
   "source": [
    "1. ************************************Question 1***********************************\n",
    "Given two arrays, arr1 and arr2 of equal length N, the task is to find if the given arrays are equal or not. \n",
    "\n",
    "Two arrays are said to be equal if:\n",
    "both of them contain the same set of elements, \n",
    "arrangements (or permutations) of elements might/might not be same.\n",
    "If there are repetitions, then counts of repeated elements must also be the same for two arrays to be equal.\n",
    "\n",
    "Input: arr1[] = {1, 2, 5, 4, 0}, arr2[] = {2, 4, 5, 0, 1}\n",
    "Output: Yes\n",
    "\n",
    "Input: arr1[] = {1, 2, 5, 4, 0, 2, 1}, arr2[] = {2, 4, 5, 0, 1, 1, 2} \n",
    "Output: Yes\n",
    "\n",
    "Input: arr1[] = {1, 7, 1}, arr2[] = {7, 7, 1}\n",
    "Output: No\n",
    "\n",
    "Expected Time Complexity = O(n)"
   ]
  },
  {
   "cell_type": "code",
   "execution_count": 4,
   "id": "4e043f25",
   "metadata": {
    "ExecuteTime": {
     "end_time": "2023-03-16T16:07:19.732900Z",
     "start_time": "2023-03-16T16:07:19.721032Z"
    }
   },
   "outputs": [],
   "source": [
    "l1=[1, 7, 1]\n",
    "l2=[7, 7, 1]"
   ]
  },
  {
   "cell_type": "code",
   "execution_count": 6,
   "id": "50d8a80d",
   "metadata": {
    "ExecuteTime": {
     "end_time": "2023-03-16T16:07:35.200307Z",
     "start_time": "2023-03-16T16:07:35.180718Z"
    }
   },
   "outputs": [
    {
     "data": {
      "text/plain": [
       "[1, 1, 7]"
      ]
     },
     "execution_count": 6,
     "metadata": {},
     "output_type": "execute_result"
    }
   ],
   "source": [
    "sorted(l1)"
   ]
  },
  {
   "cell_type": "code",
   "execution_count": 7,
   "id": "02415306",
   "metadata": {
    "ExecuteTime": {
     "end_time": "2023-03-16T16:09:26.510793Z",
     "start_time": "2023-03-16T16:09:26.497523Z"
    }
   },
   "outputs": [],
   "source": [
    "def ll(l1,l2):\n",
    "    if sorted(l1)==sorted(l2):\n",
    "        print('ok')\n",
    "    else:\n",
    "        print('not ok')"
   ]
  },
  {
   "cell_type": "code",
   "execution_count": 8,
   "id": "9c48530f",
   "metadata": {
    "ExecuteTime": {
     "end_time": "2023-03-16T16:09:27.291766Z",
     "start_time": "2023-03-16T16:09:27.280910Z"
    }
   },
   "outputs": [
    {
     "name": "stdout",
     "output_type": "stream",
     "text": [
      "not ok\n"
     ]
    }
   ],
   "source": [
    "ll(l1,l2)"
   ]
  },
  {
   "cell_type": "code",
   "execution_count": 4,
   "id": "50946e6c",
   "metadata": {
    "ExecuteTime": {
     "end_time": "2023-03-03T09:55:13.370726Z",
     "start_time": "2023-03-03T09:55:13.360165Z"
    }
   },
   "outputs": [
    {
     "name": "stdout",
     "output_type": "stream",
     "text": [
      "yes\n",
      "yes\n"
     ]
    }
   ],
   "source": [
    "for i in range(len(l1)):\n",
    "    for j in range(len(l1)):\n",
    "        if l1[i]!=l2[j]:\n",
    "            break \n",
    "            print('NO')\n",
    "        else:\n",
    "            print('yes')\n",
    "    "
   ]
  },
  {
   "cell_type": "code",
   "execution_count": 1,
   "id": "06e3a429",
   "metadata": {
    "ExecuteTime": {
     "end_time": "2023-03-08T04:32:15.696780Z",
     "start_time": "2023-03-08T04:32:15.667410Z"
    }
   },
   "outputs": [],
   "source": [
    "def are_arrays_equal(arr1, arr2):\n",
    "    # Step 1\n",
    "    if len(arr1) != len(arr2):\n",
    "        return False\n",
    "    \n",
    "    # Step 2\n",
    "    count1 = {}\n",
    "    count2 = {}\n",
    "    \n",
    "    # Step 3\n",
    "    for num in arr1:\n",
    "        count1[num] = count1.get(num, 0) + 1\n",
    "    \n",
    "    # Step 4\n",
    "    for num in arr2:\n",
    "        count2[num] = count2.get(num, 0) + 1\n",
    "    \n",
    "    # Step 5\n",
    "    for num in count1:\n",
    "        if count1[num] != count2.get(num, 0):\n",
    "            return False\n",
    "    \n",
    "    # Step 6\n",
    "    return True\n",
    "\n",
    "\n",
    "\n",
    "\n"
   ]
  },
  {
   "cell_type": "code",
   "execution_count": 1,
   "id": "47bbb960",
   "metadata": {
    "ExecuteTime": {
     "end_time": "2023-03-16T16:04:23.034659Z",
     "start_time": "2023-03-16T16:04:16.338621Z"
    }
   },
   "outputs": [
    {
     "name": "stdout",
     "output_type": "stream",
     "text": [
      "1\n",
      "2\n",
      "3\n",
      "3\n",
      "1\n"
     ]
    }
   ],
   "source": [
    "def equal_arr(arr1, arr2):\n",
    "    if sorted(arr1) == sorted(arr2):\n",
    "        return 1\n",
    "    else:\n",
    "        return 0\n",
    "\n",
    "\n",
    "t = int(input())\n",
    "for i in range(t):\n",
    "    n = int(input())\n",
    "    arr1 = list(map(int, input().split()))\n",
    "    arr2 = list(map(int, input().split()))\n",
    "    print(equal_arr(arr1,arr2))"
   ]
  },
  {
   "cell_type": "code",
   "execution_count": 4,
   "id": "bc0ad6f6",
   "metadata": {
    "ExecuteTime": {
     "end_time": "2023-03-08T04:32:52.942450Z",
     "start_time": "2023-03-08T04:32:52.922441Z"
    }
   },
   "outputs": [
    {
     "data": {
      "text/plain": [
       "False"
      ]
     },
     "execution_count": 4,
     "metadata": {},
     "output_type": "execute_result"
    }
   ],
   "source": [
    "are_arrays_equal(l1,l2)"
   ]
  },
  {
   "cell_type": "markdown",
   "id": "59c44656",
   "metadata": {},
   "source": [
    "2. Given an array A of positive integers. Your task is to find the leaders in the array. \n",
    "An element of array is leader if it is greater than or equal to all the elements to its right side. The rightmost element is always a leader.\n",
    "\n",
    "\n",
    "Input:\n",
    "n = 6\n",
    "A[] = {16,17,4,3,5,2}\n",
    "Output: 17 5 2\n",
    "Explanation: The first leader is 17 \n",
    "as it is greater than all the elements\n",
    "to its right.  Similarly, the next \n",
    "leader is 5. The right most element \n",
    "is always a leader so it is also \n",
    "included.\n",
    "\n",
    "Input:\n",
    "n = 5\n",
    "A[] = {1,2,3,4,0}\n",
    "Output: 4 0\n",
    "Expected Time Complexity: O(n) "
   ]
  },
  {
   "cell_type": "code",
   "execution_count": 42,
   "id": "5112ca6a",
   "metadata": {
    "ExecuteTime": {
     "end_time": "2023-03-02T10:20:50.478429Z",
     "start_time": "2023-03-02T10:20:50.473038Z"
    }
   },
   "outputs": [],
   "source": [
    "arr=[16,17,4,3,5,2]\n",
    "def leader(arr,x):\n",
    "    for i in range(0,x):\n",
    "        for j in range(i+1,x):\n",
    "            if arr[i]<=arr[j]:\n",
    "                break\n",
    "        if j==x-1:\n",
    "            print(arr[i],' ',end='')\n",
    "            \n",
    "        \n",
    "        "
   ]
  },
  {
   "cell_type": "code",
   "execution_count": 43,
   "id": "7e604455",
   "metadata": {
    "ExecuteTime": {
     "end_time": "2023-03-02T10:20:51.347562Z",
     "start_time": "2023-03-02T10:20:51.332232Z"
    }
   },
   "outputs": [
    {
     "name": "stdout",
     "output_type": "stream",
     "text": [
      "17  5  2  "
     ]
    }
   ],
   "source": [
    "leader(l,len(l))"
   ]
  },
  {
   "cell_type": "markdown",
   "id": "5394b345",
   "metadata": {},
   "source": [
    "3. Given an array of integers, find the length of the longest sub-sequence such that elements in the subsequence are consecutive integers, the consecutive numbers can be in any order.\n",
    "Input: arr[] = {1, 9, 3, 10, 4, 20, 2}\n",
    "Output: 4\n",
    "Explanation: The subsequence 1, 3, 4, 2 is the longest subsequence of consecutive elements\n",
    "\n",
    "Input: arr[] = {36, 41, 56, 35, 44, 33, 34, 92, 43, 32, 42}\n",
    "Output: 5\n",
    "Explanation: The subsequence 36, 35, 33, 34, 32 is the longest subsequence of consecutive elements.\n",
    "\n"
   ]
  },
  {
   "cell_type": "code",
   "execution_count": 15,
   "id": "21eb57f0",
   "metadata": {
    "ExecuteTime": {
     "end_time": "2023-07-26T15:49:50.097556Z",
     "start_time": "2023-07-26T15:49:50.090558Z"
    }
   },
   "outputs": [],
   "source": [
    "arr=[1, 9, 3, 10, 4, 20, 11]\n",
    "def consec(arr):\n",
    "    arr=sorted(arr)\n",
    "    n= len(arr)\n",
    "    max_len=0\n",
    "    curr_len=1\n",
    "    for i in range(1,n):\n",
    "        if arr[i] == arr[i-1]+1:\n",
    "            curr_len+=1\n",
    "        else:\n",
    "            max_len=max(max_len,curr_len)\n",
    "            curr_len=1\n",
    "    max_len=max(max_len,curr_len)\n",
    "    return max_len"
   ]
  },
  {
   "cell_type": "code",
   "execution_count": 16,
   "id": "c0fdb794",
   "metadata": {
    "ExecuteTime": {
     "end_time": "2023-07-26T15:49:51.878844Z",
     "start_time": "2023-07-26T15:49:51.863080Z"
    }
   },
   "outputs": [
    {
     "data": {
      "text/plain": [
       "3"
      ]
     },
     "execution_count": 16,
     "metadata": {},
     "output_type": "execute_result"
    }
   ],
   "source": [
    "consec(arr)"
   ]
  },
  {
   "cell_type": "code",
   "execution_count": null,
   "id": "5582e608",
   "metadata": {},
   "outputs": [],
   "source": [
    "def test3(l):\n",
    "    a=0\n",
    "    b=1\n",
    "    for i in range(1,len(l)):\n",
    "        if l[i]==l[i-1]+1:\n",
    "            a=a+1\n",
    "            b=max(a,b)\n",
    "    return b"
   ]
  },
  {
   "cell_type": "markdown",
   "id": "ae3cca1f",
   "metadata": {},
   "source": [
    "4. \n",
    "Given an unsorted array Arr of size N of positive integers. One number 'A' from set {1, 2, …N} is missing and one number 'B' occurs twice in array. Find these two numbers.\n",
    "Input:\n",
    "N = 2\n",
    "Arr[] = {2, 2}\n",
    "Output: 2 1\n",
    "Explanation: Repeating number is 2 and \n",
    "smallest positive missing number is 1.\n",
    "Input:\n",
    "N = 4\n",
    "Arr[] = {1, 3, 3}\n",
    "Output: 3 2\n",
    "Explanation: Repeating number is 3 and \n",
    "smallest positive missing number is 2.s\n"
   ]
  },
  {
   "cell_type": "code",
   "execution_count": null,
   "id": "7d4efa0c",
   "metadata": {},
   "outputs": [],
   "source": [
    "def find_missing_and_repeating_numbers(arr):\n",
    "    n = len(arr)\n",
    "    present = [False] * (n + 1)\n",
    "    missing = 0\n",
    "    repeating = 0\n",
    "    \n",
    "    for i in range(n):\n",
    "        if present[arr[i]] == False:\n",
    "            present[arr[i]] = True\n",
    "        else:\n",
    "            repeating = arr[i]\n",
    "    \n",
    "    for i in range(1, n+1):\n",
    "        if present[i] == False:\n",
    "            missing = i\n",
    "            break\n",
    "    \n",
    "    return repeating, missing"
   ]
  },
  {
   "cell_type": "code",
   "execution_count": 19,
   "id": "e4b27682",
   "metadata": {
    "ExecuteTime": {
     "end_time": "2023-07-26T16:07:11.795748Z",
     "start_time": "2023-07-26T16:07:11.785748Z"
    }
   },
   "outputs": [
    {
     "data": {
      "text/plain": [
       "[False, False, False, False]"
      ]
     },
     "execution_count": 19,
     "metadata": {},
     "output_type": "execute_result"
    }
   ],
   "source": [
    "arr = [1, 3, 3]\n",
    "present = [False] * (len(arr) + 1)\n",
    "present"
   ]
  },
  {
   "cell_type": "code",
   "execution_count": null,
   "id": "ebd6393e",
   "metadata": {},
   "outputs": [],
   "source": [
    "arr1 = [2, 2]\n",
    "repeating1, missing1 = find_missing_and_repeating_numbers(arr1)\n",
    "print(\"Repeating number:\", repeating1)\n",
    "print(\"Missing number:\", missing1)\n",
    "\n",
    "arr2 = [1, 3, 3]\n",
    "repeating2, missing2 = find_missing_and_repeating_numbers(arr2)\n",
    "print(\"Repeating number:\", repeating2)\n",
    "print(\"Missing number:\", missing2)"
   ]
  },
  {
   "cell_type": "code",
   "execution_count": null,
   "id": "1a057bab",
   "metadata": {},
   "outputs": [],
   "source": []
  },
  {
   "cell_type": "code",
   "execution_count": null,
   "id": "8ad483dd",
   "metadata": {},
   "outputs": [],
   "source": [
    "1. Write a SQL query to find all numbers that appear at least three times consecutively.\n",
    "\n",
    "Ex 1 \n",
    "+----+-----+\n",
    "| Id | Num |\n",
    "+----+-----+\n",
    "| 1 | 1 |\n",
    "| 2 | 1 |\n",
    "| 3 | 1 |\n",
    "| 4 | 2 |\n",
    "| 5 | 1 |\n",
    "\n",
    "given the above Logs table, 1 is the only number that appears consecutively for at least three times.\n"
   ]
  },
  {
   "cell_type": "code",
   "execution_count": null,
   "id": "0994d304",
   "metadata": {},
   "outputs": [],
   "source": [
    "select Num,count(*) from table group by Num having count>2"
   ]
  },
  {
   "cell_type": "code",
   "execution_count": null,
   "id": "89571cbf",
   "metadata": {},
   "outputs": [],
   "source": [
    "select num from table logs order by num where count(num)>2"
   ]
  },
  {
   "cell_type": "code",
   "execution_count": null,
   "id": "1769e742",
   "metadata": {},
   "outputs": [],
   "source": [
    "2. Write a SQL query to get the nth highest salary from the Employee table.\n",
    "\n",
    "+----+--------+\n",
    "| Id | Salary |\n",
    "+----+--------+\n",
    "| 1 | 100 |\n",
    "| 2 | 200 |\n",
    "| 3 | 300 |\n",
    "\n",
    "\n",
    "For example, given the above Employee table, the nth highest salary where n = 2 is 200. If there is no nth highest salary, then the query should return null.\n"
   ]
  },
  {
   "cell_type": "code",
   "execution_count": null,
   "id": "c80eecff",
   "metadata": {},
   "outputs": [],
   "source": [
    "select * from table employee order by salary desc limit 1"
   ]
  },
  {
   "cell_type": "code",
   "execution_count": null,
   "id": "4ccdbfcb",
   "metadata": {},
   "outputs": [],
   "source": [
    "select nthvalue(salary, n) over(order by salary desc)"
   ]
  },
  {
   "cell_type": "code",
   "execution_count": null,
   "id": "6cbb6a69",
   "metadata": {},
   "outputs": [],
   "source": [
    "****Question 1*** Given two arrays, arr1 and arr2 of equal length N, the task is to find if the given arrays are equal or not.\n",
    "\n",
    "Two arrays are said to be equal if: both of them contain the same set of elements, arrangements (or permutations) of elements \n",
    "might/might not be same. If there are repetitions, then counts of repeated elements must also be the same for two arrays\n",
    "to be equal.\n",
    "\n",
    "Input: arr1[] = {1, 2, 5, 4, 0}, arr2[] = {2, 4, 5, 0, 1} Output: Yes\n",
    "\n",
    "Input: arr1[] = {1, 2, 5, 4, 0, 2, 1}, arr2[] = {2, 4, 5, 0, 1, 1, 2} Output: Yes\n",
    "\n",
    "Input: arr1[] = {1, 7, 1}, arr2[] = {7, 7, 1} Output: No\n",
    "\n",
    "Expected Time Complexity = O(n)"
   ]
  },
  {
   "cell_type": "code",
   "execution_count": null,
   "id": "86487397",
   "metadata": {},
   "outputs": [],
   "source": [
    "len(arr1)==len(arr2)\n",
    "same set of elements in both lists\n",
    "same no of repeating elements in both lists"
   ]
  },
  {
   "cell_type": "code",
   "execution_count": 17,
   "id": "1cce28d6",
   "metadata": {
    "ExecuteTime": {
     "end_time": "2023-07-03T12:33:55.405638Z",
     "start_time": "2023-07-03T12:33:55.396638Z"
    }
   },
   "outputs": [],
   "source": [
    "def test(l1,l2):\n",
    "    if len(l1)!=len(l2) and set(l1)!=set(l2):\n",
    "        return 'NO'\n",
    "    count1={}\n",
    "    count2={}\n",
    "    for i in l1:\n",
    "        count1[i]=count1.get(i,0)+1\n",
    "    for j in l2:\n",
    "        count2[j]=count2.get(j,0)+1\n",
    "    for num in count1:\n",
    "        if count1[num]!= count2[num]:\n",
    "            return 'False'\n",
    "    return 'True'"
   ]
  },
  {
   "cell_type": "code",
   "execution_count": 18,
   "id": "9a62e43f",
   "metadata": {
    "ExecuteTime": {
     "end_time": "2023-07-03T12:33:55.824911Z",
     "start_time": "2023-07-03T12:33:55.818945Z"
    }
   },
   "outputs": [
    {
     "data": {
      "text/plain": [
       "'True'"
      ]
     },
     "execution_count": 18,
     "metadata": {},
     "output_type": "execute_result"
    }
   ],
   "source": [
    "test(l1,l2)"
   ]
  },
  {
   "cell_type": "markdown",
   "id": "11094611",
   "metadata": {},
   "source": [
    "***Question 2***** Given an array A of positive integers. Your task is to find the leaders in the array. An element of array is leader if it is greater than or equal to all the elements to its right side. The rightmost element is always a leader.\n",
    "\n",
    "Input: n = 6 A[] = {16,17,4,3,5,2} Output: 17 5 2 Explanation: The first leader is 17 as it is greater than all the elements to its right. Similarly, the next leader is 5. The right most element is always a leader so it is also included.\n",
    "\n",
    "Input: n = 5 A[] = {1,2,3,4,0} Output: 4 0 Expected Time Complexity: O(n)"
   ]
  },
  {
   "cell_type": "code",
   "execution_count": 43,
   "id": "d0e2f6f9",
   "metadata": {
    "ExecuteTime": {
     "end_time": "2023-07-03T14:26:16.660025Z",
     "start_time": "2023-07-03T14:26:16.650026Z"
    }
   },
   "outputs": [],
   "source": [
    "def test2(list1):\n",
    "    if len(list1)<1:\n",
    "        return 'list has no adeqaute values'\n",
    "    l1=[]\n",
    "    k=max(list1)\n",
    "    l1.append(k)\n",
    "    l1.append(max(list1[(list1.index(k))+1:]))\n",
    "    l1.append(list1[-1])\n",
    "    return set(l1)\n",
    "        "
   ]
  },
  {
   "cell_type": "code",
   "execution_count": 44,
   "id": "d69aaa56",
   "metadata": {
    "ExecuteTime": {
     "end_time": "2023-07-03T14:26:17.140310Z",
     "start_time": "2023-07-03T14:26:17.126413Z"
    }
   },
   "outputs": [],
   "source": [
    "list1=[1,2,3,4,0]"
   ]
  },
  {
   "cell_type": "code",
   "execution_count": 45,
   "id": "9f175fe9",
   "metadata": {
    "ExecuteTime": {
     "end_time": "2023-07-03T14:26:17.484176Z",
     "start_time": "2023-07-03T14:26:17.477862Z"
    }
   },
   "outputs": [
    {
     "data": {
      "text/plain": [
       "{0, 4}"
      ]
     },
     "execution_count": 45,
     "metadata": {},
     "output_type": "execute_result"
    }
   ],
   "source": [
    "test2(list1)"
   ]
  },
  {
   "cell_type": "markdown",
   "id": "69c55644",
   "metadata": {},
   "source": [
    "****Question 3** Given an array of integers, find the length of the longest sub-sequence such that elements in the subsequence are consecutive integers, the consecutive numbers can be in any order. Input: arr[] = {1, 9, 3, 10, 4, 20, 2} Output: 4 Explanation: The subsequence 1, 3, 4, 2 is the longest subsequence of consecutive elements\n",
    "\n",
    "Input: arr[] = {36, 41, 56, 35, 44, 33, 34, 92, 43, 32, 42} Output: 5 Explanation: The subsequence 36, 35, 33, 34, 32 is the longest subsequence of consecutive elements."
   ]
  },
  {
   "cell_type": "code",
   "execution_count": 9,
   "id": "4da3d356",
   "metadata": {
    "ExecuteTime": {
     "end_time": "2023-07-26T15:47:56.566932Z",
     "start_time": "2023-07-26T15:47:56.557933Z"
    }
   },
   "outputs": [],
   "source": [
    "l=[36, 41, 56, 35, 44, 45, 34, 92, 43, 32, 42]\n",
    "l1=[1, 9, 3, 10, 4, 20, 2]"
   ]
  },
  {
   "cell_type": "code",
   "execution_count": 10,
   "id": "4f6feac8",
   "metadata": {
    "ExecuteTime": {
     "end_time": "2023-07-26T15:47:59.668447Z",
     "start_time": "2023-07-26T15:47:59.652446Z"
    }
   },
   "outputs": [],
   "source": [
    "def test3(l):\n",
    "    l=sorted(l)\n",
    "    j=1\n",
    "  \n",
    "    for i in range(len(l)-1):\n",
    "        if l[i]+1==l[i+1]:\n",
    "            j+=1\n",
    "        else:\n",
    "            break\n",
    "    return j\n",
    "\n",
    "           \n",
    "    "
   ]
  },
  {
   "cell_type": "code",
   "execution_count": 11,
   "id": "d5a389ea",
   "metadata": {
    "ExecuteTime": {
     "end_time": "2023-07-26T15:48:07.594527Z",
     "start_time": "2023-07-26T15:48:07.581876Z"
    }
   },
   "outputs": [
    {
     "data": {
      "text/plain": [
       "1"
      ]
     },
     "execution_count": 11,
     "metadata": {},
     "output_type": "execute_result"
    }
   ],
   "source": [
    "test3(l)"
   ]
  },
  {
   "cell_type": "markdown",
   "id": "93198a6c",
   "metadata": {},
   "source": [
    "***Question 4**** Given an unsorted array Arr of size N of positive integers. One number 'A' from set {1, 2, …N} is missing and one number 'B' occurs twice in array. Find these two numbers. Input: N = 2 Arr[] = {2, 2} Output: 2 1 Explanation: Repeating number is 2 and smallest positive missing number is 1. Input: N = 4 Arr[] = {1, 3, 3} Output: 3 2 Explanation: Repeating number is 3 and smallest positive missing number is 2.s"
   ]
  },
  {
   "cell_type": "code",
   "execution_count": 58,
   "id": "57d912ef",
   "metadata": {
    "ExecuteTime": {
     "end_time": "2023-07-04T10:14:00.934776Z",
     "start_time": "2023-07-04T10:14:00.928777Z"
    }
   },
   "outputs": [],
   "source": [
    "l=[2, 2]\n",
    "def test4(l):\n",
    "    l=sorted(l)\n",
    "    for i in range(len(l)-1):\n",
    "        if l[i]+1!=l[i+1] or l[i]!=l[i+1]:\n",
    "            print(l[i]+1)\n",
    "            break\n",
    "    "
   ]
  },
  {
   "cell_type": "code",
   "execution_count": 59,
   "id": "bcbf15a4",
   "metadata": {
    "ExecuteTime": {
     "end_time": "2023-07-04T10:14:02.641074Z",
     "start_time": "2023-07-04T10:14:02.633076Z"
    }
   },
   "outputs": [
    {
     "name": "stdout",
     "output_type": "stream",
     "text": [
      "3\n"
     ]
    }
   ],
   "source": [
    "test4(l)"
   ]
  },
  {
   "cell_type": "code",
   "execution_count": 51,
   "id": "36784c1d",
   "metadata": {
    "ExecuteTime": {
     "end_time": "2023-07-04T10:08:03.050504Z",
     "start_time": "2023-07-04T10:08:03.036178Z"
    }
   },
   "outputs": [
    {
     "data": {
      "text/plain": [
       "{1, 3}"
      ]
     },
     "execution_count": 51,
     "metadata": {},
     "output_type": "execute_result"
    }
   ],
   "source": [
    "l"
   ]
  },
  {
   "cell_type": "code",
   "execution_count": null,
   "id": "023a4586",
   "metadata": {},
   "outputs": [],
   "source": []
  }
 ],
 "metadata": {
  "kernelspec": {
   "display_name": "Python 3 (ipykernel)",
   "language": "python",
   "name": "python3"
  },
  "language_info": {
   "codemirror_mode": {
    "name": "ipython",
    "version": 3
   },
   "file_extension": ".py",
   "mimetype": "text/x-python",
   "name": "python",
   "nbconvert_exporter": "python",
   "pygments_lexer": "ipython3",
   "version": "3.9.13"
  }
 },
 "nbformat": 4,
 "nbformat_minor": 5
}
