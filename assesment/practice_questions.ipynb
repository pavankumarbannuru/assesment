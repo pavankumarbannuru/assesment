{
 "cells": [
  {
   "cell_type": "markdown",
   "id": "4f1158d4",
   "metadata": {},
   "source": [
    "1.\n",
    "With a given list [12,24,35,24,88,120,155,88,120,155], write a program to print this list after removing all duplicate values with original order reserved.\n",
    "\n",
    "Hints:\n",
    "Use set() to store a number of values without duplicate."
   ]
  },
  {
   "cell_type": "code",
   "execution_count": 1,
   "id": "9554e55a",
   "metadata": {
    "ExecuteTime": {
     "end_time": "2024-02-09T06:46:46.089170Z",
     "start_time": "2024-02-09T06:46:46.042271Z"
    }
   },
   "outputs": [
    {
     "data": {
      "text/plain": [
       "{12, 24, 35, 88, 120, 155}"
      ]
     },
     "execution_count": 1,
     "metadata": {},
     "output_type": "execute_result"
    }
   ],
   "source": [
    "l= [12,24,35,24,88,120,155,88,120,155]\n",
    "def test1(l):\n",
    "   # l.sort()\n",
    "    l=set(l)\n",
    "    return l\n",
    "test1(l)"
   ]
  },
  {
   "cell_type": "code",
   "execution_count": 3,
   "id": "f67efff5",
   "metadata": {
    "ExecuteTime": {
     "end_time": "2024-02-09T06:47:32.080686Z",
     "start_time": "2024-02-09T06:47:32.049773Z"
    }
   },
   "outputs": [
    {
     "data": {
      "text/plain": [
       "[12, 24, 35, 88, 120, 155]"
      ]
     },
     "execution_count": 3,
     "metadata": {},
     "output_type": "execute_result"
    }
   ],
   "source": [
    "l2=[]\n",
    "for i in l: \n",
    "    if i not in l2:\n",
    "        l2.append(i)\n",
    "l2"
   ]
  },
  {
   "cell_type": "code",
   "execution_count": 10,
   "id": "3a68c4c0",
   "metadata": {
    "ExecuteTime": {
     "end_time": "2023-09-26T13:08:44.000059Z",
     "start_time": "2023-09-26T13:08:43.981478Z"
    }
   },
   "outputs": [
    {
     "name": "stdout",
     "output_type": "stream",
     "text": [
      "[12, 24, 35, 88, 120, 155]\n"
     ]
    }
   ],
   "source": [
    "def removeDuplicate( li ):\n",
    "    newli=[]\n",
    "    seen = set()\n",
    "    for item in li:\n",
    "        if item not in seen:\n",
    "            seen.add( item )\n",
    "            newli.append(item)\n",
    "\n",
    "    return newli\n",
    "\n",
    "li=[12,24,35,24,88,120,155,88,120,155]\n",
    "print(removeDuplicate(li))\n"
   ]
  },
  {
   "cell_type": "markdown",
   "id": "d94d14ae",
   "metadata": {},
   "source": [
    "2.\n",
    "Define a class Person and its two child classes: Male and Female. All classes have a method \"getGender\" which can print \"Male\" for Male class and \"Female\" for Female class.\n",
    "\n",
    "Hints:\n",
    "Use Subclass(Parentclass) to define a child class.\n"
   ]
  },
  {
   "cell_type": "code",
   "execution_count": 15,
   "id": "8efd27a1",
   "metadata": {
    "ExecuteTime": {
     "end_time": "2023-09-26T13:28:27.158289Z",
     "start_time": "2023-09-26T13:28:27.140207Z"
    }
   },
   "outputs": [],
   "source": [
    "class Person:\n",
    "    def __init__(slef):\n",
    "        pass\n",
    "class Male(Person):\n",
    "\n",
    "    def get_gender(self):\n",
    "        return 'Male'\n",
    "class Female(Person):\n",
    "\n",
    "    def get_gender(self):\n",
    "        return 'Female'"
   ]
  },
  {
   "cell_type": "code",
   "execution_count": 16,
   "id": "25e68851",
   "metadata": {
    "ExecuteTime": {
     "end_time": "2023-09-26T13:28:27.655224Z",
     "start_time": "2023-09-26T13:28:27.646092Z"
    }
   },
   "outputs": [
    {
     "name": "stdout",
     "output_type": "stream",
     "text": [
      "Male\n",
      "Female\n"
     ]
    }
   ],
   "source": [
    "a=Male()\n",
    "b=Female()\n",
    "print(a.get_gender())\n",
    "print(b.get_gender())"
   ]
  },
  {
   "cell_type": "markdown",
   "id": "5d4f9eec",
   "metadata": {},
   "source": [
    "3.\n",
    "Question:\n",
    "Write a program which will find all such numbers which are divisible by 7 but are not a multiple of 5,\n",
    "between 2000 and 3200 (both included).\n",
    "The numbers obtained should be printed in a comma-separated sequence on a single line.\n",
    "\n",
    "Hints: \n",
    "Consider use range(#begin, #end) method"
   ]
  },
  {
   "cell_type": "code",
   "execution_count": 25,
   "id": "6a886cea",
   "metadata": {
    "ExecuteTime": {
     "end_time": "2023-09-26T14:33:54.054076Z",
     "start_time": "2023-09-26T14:33:53.762585Z"
    }
   },
   "outputs": [
    {
     "ename": "TypeError",
     "evalue": "sequence item 0: expected str instance, int found",
     "output_type": "error",
     "traceback": [
      "\u001b[1;31m---------------------------------------------------------------------------\u001b[0m",
      "\u001b[1;31mTypeError\u001b[0m                                 Traceback (most recent call last)",
      "\u001b[1;32m~\\AppData\\Local\\Temp\\ipykernel_20092\\1418599281.py\u001b[0m in \u001b[0;36m<module>\u001b[1;34m\u001b[0m\n\u001b[0;32m      5\u001b[0m             \u001b[0ml\u001b[0m\u001b[1;33m.\u001b[0m\u001b[0mappend\u001b[0m\u001b[1;33m(\u001b[0m\u001b[0mi\u001b[0m\u001b[1;33m)\u001b[0m\u001b[1;33m\u001b[0m\u001b[1;33m\u001b[0m\u001b[0m\n\u001b[0;32m      6\u001b[0m     \u001b[1;32mreturn\u001b[0m \u001b[1;34m','\u001b[0m\u001b[1;33m.\u001b[0m\u001b[0mjoin\u001b[0m\u001b[1;33m(\u001b[0m\u001b[0ml\u001b[0m\u001b[1;33m)\u001b[0m\u001b[1;33m\u001b[0m\u001b[1;33m\u001b[0m\u001b[0m\n\u001b[1;32m----> 7\u001b[1;33m \u001b[0mtest\u001b[0m\u001b[1;33m(\u001b[0m\u001b[1;33m)\u001b[0m\u001b[1;33m\u001b[0m\u001b[1;33m\u001b[0m\u001b[0m\n\u001b[0m",
      "\u001b[1;32m~\\AppData\\Local\\Temp\\ipykernel_20092\\1418599281.py\u001b[0m in \u001b[0;36mtest\u001b[1;34m()\u001b[0m\n\u001b[0;32m      4\u001b[0m         \u001b[1;32mif\u001b[0m \u001b[0mi\u001b[0m\u001b[1;33m%\u001b[0m\u001b[1;36m7\u001b[0m\u001b[1;33m==\u001b[0m\u001b[1;36m0\u001b[0m \u001b[1;32mand\u001b[0m \u001b[0mi\u001b[0m\u001b[1;33m%\u001b[0m\u001b[1;36m5\u001b[0m\u001b[1;33m!=\u001b[0m\u001b[1;36m0\u001b[0m\u001b[1;33m:\u001b[0m\u001b[1;33m\u001b[0m\u001b[1;33m\u001b[0m\u001b[0m\n\u001b[0;32m      5\u001b[0m             \u001b[0ml\u001b[0m\u001b[1;33m.\u001b[0m\u001b[0mappend\u001b[0m\u001b[1;33m(\u001b[0m\u001b[0mi\u001b[0m\u001b[1;33m)\u001b[0m\u001b[1;33m\u001b[0m\u001b[1;33m\u001b[0m\u001b[0m\n\u001b[1;32m----> 6\u001b[1;33m     \u001b[1;32mreturn\u001b[0m \u001b[1;34m','\u001b[0m\u001b[1;33m.\u001b[0m\u001b[0mjoin\u001b[0m\u001b[1;33m(\u001b[0m\u001b[0ml\u001b[0m\u001b[1;33m)\u001b[0m\u001b[1;33m\u001b[0m\u001b[1;33m\u001b[0m\u001b[0m\n\u001b[0m\u001b[0;32m      7\u001b[0m \u001b[0mtest\u001b[0m\u001b[1;33m(\u001b[0m\u001b[1;33m)\u001b[0m\u001b[1;33m\u001b[0m\u001b[1;33m\u001b[0m\u001b[0m\n",
      "\u001b[1;31mTypeError\u001b[0m: sequence item 0: expected str instance, int found"
     ]
    }
   ],
   "source": [
    "def test():\n",
    "    l=[]\n",
    "    for i in range(2000,3201):\n",
    "        if i%7==0 and i%5!=0:\n",
    "            l.append(i) \n",
    "    return l \n",
    "test()       "
   ]
  },
  {
   "cell_type": "code",
   "execution_count": 17,
   "id": "43d62fc8",
   "metadata": {
    "ExecuteTime": {
     "end_time": "2023-09-26T14:29:20.584453Z",
     "start_time": "2023-09-26T14:29:20.567614Z"
    }
   },
   "outputs": [
    {
     "data": {
      "text/plain": [
       "28"
      ]
     },
     "execution_count": 17,
     "metadata": {},
     "output_type": "execute_result"
    }
   ],
   "source": [
    "200//7"
   ]
  },
  {
   "cell_type": "code",
   "execution_count": 22,
   "id": "2b84a965",
   "metadata": {
    "ExecuteTime": {
     "end_time": "2023-09-26T14:32:04.627430Z",
     "start_time": "2023-09-26T14:32:04.611423Z"
    }
   },
   "outputs": [
    {
     "data": {
      "text/plain": [
       "0"
      ]
     },
     "execution_count": 22,
     "metadata": {},
     "output_type": "execute_result"
    }
   ],
   "source": [
    "14%7"
   ]
  },
  {
   "cell_type": "code",
   "execution_count": 36,
   "id": "eea72e26",
   "metadata": {
    "ExecuteTime": {
     "end_time": "2023-09-26T14:56:41.247666Z",
     "start_time": "2023-09-26T14:56:39.567273Z"
    }
   },
   "outputs": [
    {
     "name": "stdout",
     "output_type": "stream",
     "text": [
      "enter no8\n"
     ]
    },
    {
     "data": {
      "text/plain": [
       "40320"
      ]
     },
     "execution_count": 36,
     "metadata": {},
     "output_type": "execute_result"
    }
   ],
   "source": [
    "x=int(input('enter no'))\n",
    "def fact(x):\n",
    "    if x==0:\n",
    "        return 1\n",
    "    return x*fact(x-1)\n",
    "fact(8)"
   ]
  },
  {
   "cell_type": "markdown",
   "id": "686a686b",
   "metadata": {},
   "source": [
    "4.\n",
    "With a given integral number n, write a program to generate a dictionary that contains (i, i*i) such that is an integral number between 1 and n (both included). and then the program should print the dictionary.\n",
    "Suppose the following input is supplied to the program:\n",
    "8\n",
    "Then, the output should be:\n",
    "{1: 1, 2: 4, 3: 9, 4: 16, 5: 25, 6: 36, 7: 49, 8: 64}\n"
   ]
  },
  {
   "cell_type": "code",
   "execution_count": 37,
   "id": "2afacb5f",
   "metadata": {
    "ExecuteTime": {
     "end_time": "2023-09-26T15:01:27.361931Z",
     "start_time": "2023-09-26T15:01:27.351961Z"
    }
   },
   "outputs": [
    {
     "data": {
      "text/plain": [
       "{1: 1, 2: 4, 3: 9, 4: 16, 5: 25, 6: 36, 7: 49, 8: 64}"
      ]
     },
     "execution_count": 37,
     "metadata": {},
     "output_type": "execute_result"
    }
   ],
   "source": [
    "x=8\n",
    "{i:i**2 for i in range(1,x+1)}       "
   ]
  },
  {
   "cell_type": "markdown",
   "id": "e2de26dc",
   "metadata": {},
   "source": [
    "5.Write a program which accepts a sequence of comma-separated numbers from console and generate a list and a tuple which contains every number.\n",
    "Suppose the following input is supplied to the program:\n",
    "34,67,55,33,12,98\n",
    "Then, the output should be:\n",
    "['34', '67', '55', '33', '12', '98']\n",
    "('34', '67', '55', '33', '12', '98')"
   ]
  },
  {
   "cell_type": "code",
   "execution_count": 46,
   "id": "fa09ea87",
   "metadata": {
    "ExecuteTime": {
     "end_time": "2023-09-26T15:10:07.952742Z",
     "start_time": "2023-09-26T15:10:04.430574Z"
    }
   },
   "outputs": [
    {
     "name": "stdout",
     "output_type": "stream",
     "text": [
      "enter no10,20,30\n",
      "['10', '20', '30'] ('10', '20', '30')\n"
     ]
    }
   ],
   "source": [
    "l=input('enter no').split(',')\n",
    "t=tuple(l)\n",
    "print(l,t)"
   ]
  },
  {
   "cell_type": "markdown",
   "id": "74ef4b44",
   "metadata": {},
   "source": [
    "6.Question:\n",
    "Define a class which has at least two methods:\n",
    "getString: to get a string from console input\n",
    "printString: to print the string in upper case.\n",
    "Also please include simple test function to test the class methods."
   ]
  },
  {
   "cell_type": "code",
   "execution_count": 55,
   "id": "3b888da4",
   "metadata": {
    "ExecuteTime": {
     "end_time": "2023-09-26T15:30:54.069972Z",
     "start_time": "2023-09-26T15:30:54.052651Z"
    }
   },
   "outputs": [],
   "source": [
    "class A:\n",
    "    def __init__(self):\n",
    "        self.a=''\n",
    "    def getinput(self):\n",
    "        self.a=input('enter')\n",
    "    def get3string(self):\n",
    "        return self.a.upper()\n",
    "        "
   ]
  },
  {
   "cell_type": "code",
   "execution_count": 59,
   "id": "e95d05ac",
   "metadata": {
    "ExecuteTime": {
     "end_time": "2023-09-26T15:31:41.079071Z",
     "start_time": "2023-09-26T15:31:20.804297Z"
    }
   },
   "outputs": [
    {
     "name": "stdout",
     "output_type": "stream",
     "text": [
      "enterhello\n"
     ]
    },
    {
     "data": {
      "text/plain": [
       "'HELLO'"
      ]
     },
     "execution_count": 59,
     "metadata": {},
     "output_type": "execute_result"
    }
   ],
   "source": [
    "a=A()\n",
    "a.getinput()\n",
    "a.get3string()"
   ]
  },
  {
   "cell_type": "code",
   "execution_count": 64,
   "id": "5799ac43",
   "metadata": {
    "ExecuteTime": {
     "end_time": "2023-09-26T16:16:31.057947Z",
     "start_time": "2023-09-26T16:16:31.043623Z"
    }
   },
   "outputs": [
    {
     "data": {
      "text/plain": [
       "5"
      ]
     },
     "execution_count": 64,
     "metadata": {},
     "output_type": "execute_result"
    }
   ],
   "source": [
    "105%10"
   ]
  },
  {
   "cell_type": "code",
   "execution_count": 63,
   "id": "a83215dd",
   "metadata": {
    "ExecuteTime": {
     "end_time": "2023-09-26T16:16:17.545296Z",
     "start_time": "2023-09-26T16:16:17.538296Z"
    }
   },
   "outputs": [
    {
     "data": {
      "text/plain": [
       "10"
      ]
     },
     "execution_count": 63,
     "metadata": {},
     "output_type": "execute_result"
    }
   ],
   "source": [
    "105//10"
   ]
  },
  {
   "cell_type": "code",
   "execution_count": 68,
   "id": "9118858c",
   "metadata": {
    "ExecuteTime": {
     "end_time": "2023-09-26T16:19:52.081687Z",
     "start_time": "2023-09-26T16:19:52.070978Z"
    }
   },
   "outputs": [
    {
     "data": {
      "text/plain": [
       "True"
      ]
     },
     "execution_count": 68,
     "metadata": {},
     "output_type": "execute_result"
    }
   ],
   "source": [
    "x=1234321\n",
    "def test(x):\n",
    "    if x==0: \n",
    "        return False\n",
    "    a=x\n",
    "    c=0\n",
    "    while x>0: \n",
    "        b=x%10\n",
    "        c=c*10+b \n",
    "        x=x//10\n",
    "    return c==a\n",
    "test(x)       \n",
    "        "
   ]
  },
  {
   "cell_type": "code",
   "execution_count": 92,
   "id": "5abd1486",
   "metadata": {
    "ExecuteTime": {
     "end_time": "2023-09-26T16:58:52.456687Z",
     "start_time": "2023-09-26T16:58:52.447466Z"
    }
   },
   "outputs": [
    {
     "data": {
      "text/plain": [
       "{'B': 2, 'A': 6}"
      ]
     },
     "execution_count": 92,
     "metadata": {},
     "output_type": "execute_result"
    }
   ],
   "source": [
    "a=[\"B:-1\", \"A:1\", \"B:3\", \"A:5\"]\n",
    "d={}\n",
    "for i in a: \n",
    "    key,value=i.split(':')\n",
    "    d[key]=d.get(key,0)+int(value)\n",
    "d"
   ]
  },
  {
   "cell_type": "code",
   "execution_count": 1,
   "id": "e2e38543",
   "metadata": {
    "ExecuteTime": {
     "end_time": "2023-10-06T04:52:30.558778Z",
     "start_time": "2023-10-06T04:52:30.535592Z"
    }
   },
   "outputs": [],
   "source": [
    "l=[1,2,3,4,5,7,8]"
   ]
  },
  {
   "cell_type": "code",
   "execution_count": 11,
   "id": "fcd1457b",
   "metadata": {
    "ExecuteTime": {
     "end_time": "2023-10-06T04:54:51.947861Z",
     "start_time": "2023-10-06T04:54:51.934168Z"
    }
   },
   "outputs": [
    {
     "data": {
      "text/plain": [
       "[7, 5, 4]"
      ]
     },
     "execution_count": 11,
     "metadata": {},
     "output_type": "execute_result"
    }
   ],
   "source": [
    "l[-2:-5:-1]"
   ]
  },
  {
   "cell_type": "code",
   "execution_count": 9,
   "id": "d7369793",
   "metadata": {
    "ExecuteTime": {
     "end_time": "2023-10-06T04:54:18.376877Z",
     "start_time": "2023-10-06T04:54:18.365861Z"
    }
   },
   "outputs": [
    {
     "data": {
      "text/plain": [
       "[8, 7, 5, 4, 3, 2, 1]"
      ]
     },
     "execution_count": 9,
     "metadata": {},
     "output_type": "execute_result"
    }
   ],
   "source": [
    "l[::-1]"
   ]
  },
  {
   "cell_type": "code",
   "execution_count": 12,
   "id": "badb0873",
   "metadata": {
    "ExecuteTime": {
     "end_time": "2023-10-06T05:01:08.246956Z",
     "start_time": "2023-10-06T05:01:08.240943Z"
    }
   },
   "outputs": [
    {
     "data": {
      "text/plain": [
       "[1, 2, 3, 4, 5, 7, 8]"
      ]
     },
     "execution_count": 12,
     "metadata": {},
     "output_type": "execute_result"
    }
   ],
   "source": [
    "l[0:]"
   ]
  },
  {
   "cell_type": "code",
   "execution_count": 15,
   "id": "428d413b",
   "metadata": {
    "ExecuteTime": {
     "end_time": "2023-10-06T05:02:06.143988Z",
     "start_time": "2023-10-06T05:02:06.136440Z"
    }
   },
   "outputs": [
    {
     "data": {
      "text/plain": [
       "[4, 5, 7]"
      ]
     },
     "execution_count": 15,
     "metadata": {},
     "output_type": "execute_result"
    }
   ],
   "source": [
    "l[-4:-1]"
   ]
  },
  {
   "cell_type": "code",
   "execution_count": 16,
   "id": "972648ba",
   "metadata": {
    "ExecuteTime": {
     "end_time": "2023-10-06T05:02:32.481795Z",
     "start_time": "2023-10-06T05:02:32.463792Z"
    }
   },
   "outputs": [
    {
     "data": {
      "text/plain": [
       "8"
      ]
     },
     "execution_count": 16,
     "metadata": {},
     "output_type": "execute_result"
    }
   ],
   "source": [
    "l[-1]"
   ]
  },
  {
   "cell_type": "code",
   "execution_count": 23,
   "id": "fc97b4c9",
   "metadata": {
    "ExecuteTime": {
     "end_time": "2023-10-06T05:06:28.906683Z",
     "start_time": "2023-10-06T05:06:28.896624Z"
    }
   },
   "outputs": [
    {
     "data": {
      "text/plain": [
       "[2, 3, 4, 5, 7]"
      ]
     },
     "execution_count": 23,
     "metadata": {},
     "output_type": "execute_result"
    }
   ],
   "source": [
    "l[-6:-1]"
   ]
  },
  {
   "cell_type": "code",
   "execution_count": 22,
   "id": "1c32cd58",
   "metadata": {
    "ExecuteTime": {
     "end_time": "2023-10-06T05:06:06.957273Z",
     "start_time": "2023-10-06T05:06:06.948220Z"
    }
   },
   "outputs": [
    {
     "data": {
      "text/plain": [
       "[8, 7, 5, 4, 3]"
      ]
     },
     "execution_count": 22,
     "metadata": {},
     "output_type": "execute_result"
    }
   ],
   "source": [
    "l[-1:-6:-1]"
   ]
  },
  {
   "cell_type": "code",
   "execution_count": 24,
   "id": "917c50ff",
   "metadata": {
    "ExecuteTime": {
     "end_time": "2023-10-06T05:07:25.392594Z",
     "start_time": "2023-10-06T05:07:25.377537Z"
    }
   },
   "outputs": [],
   "source": [
    "l=[1,2,3,4]"
   ]
  },
  {
   "cell_type": "code",
   "execution_count": 26,
   "id": "b705f8a4",
   "metadata": {
    "ExecuteTime": {
     "end_time": "2023-10-06T05:07:56.942930Z",
     "start_time": "2023-10-06T05:07:56.928516Z"
    }
   },
   "outputs": [
    {
     "data": {
      "text/plain": [
       "[4, 3, 2]"
      ]
     },
     "execution_count": 26,
     "metadata": {},
     "output_type": "execute_result"
    }
   ],
   "source": [
    "l[-1:-4:-1]"
   ]
  },
  {
   "cell_type": "code",
   "execution_count": null,
   "id": "80e9ca40",
   "metadata": {},
   "outputs": [],
   "source": []
  }
 ],
 "metadata": {
  "kernelspec": {
   "display_name": "Python 3 (ipykernel)",
   "language": "python",
   "name": "python3"
  },
  "language_info": {
   "codemirror_mode": {
    "name": "ipython",
    "version": 3
   },
   "file_extension": ".py",
   "mimetype": "text/x-python",
   "name": "python",
   "nbconvert_exporter": "python",
   "pygments_lexer": "ipython3",
   "version": "3.9.13"
  }
 },
 "nbformat": 4,
 "nbformat_minor": 5
}
