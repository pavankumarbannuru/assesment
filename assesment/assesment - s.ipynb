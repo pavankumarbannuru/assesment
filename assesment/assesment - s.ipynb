{
 "cells": [
  {
   "cell_type": "markdown",
   "id": "3ffc4d97",
   "metadata": {},
   "source": [
    "1. Addmatrix, \n",
    "2. ASCII, \n",
    "3. bubblesort, \n",
    "4. DifferenceTime, \n",
    "5. evennumbers, \n",
    "6. fibonacci, \n",
    "7. file.txt, \n",
    "8. filereadandwrite, \n",
    "9. largestelementarray, \n",
    "10. lengthOfString, \n",
    "11. linearsearch,\n",
    "12. Nlargestelement, \n",
    "13. palindrome, \n",
    "14. redundancy,\n",
    "15. reversestring,\n",
    "16. reversinglist,\n",
    "17. secodlargest,\n",
    "18. sizeoftuple,\n",
    "19. substring"
   ]
  },
  {
   "cell_type": "code",
   "execution_count": 38,
   "id": "9c297f06",
   "metadata": {
    "ExecuteTime": {
     "end_time": "2023-07-16T15:07:36.053084Z",
     "start_time": "2023-07-16T15:07:36.042085Z"
    }
   },
   "outputs": [],
   "source": [
    "def nlargest(n,l):\n",
    "    l=sorted(l)\n",
    "    return l[-n]"
   ]
  },
  {
   "cell_type": "code",
   "execution_count": 40,
   "id": "7ca826d7",
   "metadata": {
    "ExecuteTime": {
     "end_time": "2023-07-16T15:08:22.926627Z",
     "start_time": "2023-07-16T15:08:22.908625Z"
    }
   },
   "outputs": [
    {
     "data": {
      "text/plain": [
       "78"
      ]
     },
     "execution_count": 40,
     "metadata": {},
     "output_type": "execute_result"
    }
   ],
   "source": [
    "l=[12,50,4,1,24,78,222]\n",
    "nlargest(2,l)"
   ]
  },
  {
   "cell_type": "code",
   "execution_count": 35,
   "id": "b7556e4d",
   "metadata": {
    "ExecuteTime": {
     "end_time": "2023-07-16T15:02:24.133652Z",
     "start_time": "2023-07-16T15:02:24.122651Z"
    }
   },
   "outputs": [
    {
     "name": "stdout",
     "output_type": "stream",
     "text": [
      "7 8 9\n",
      "1 2 3\n"
     ]
    }
   ],
   "source": [
    "l=[7,8,9,1,2,3,5,7,6,8]\n",
    "for i in range(len(l)-2):\n",
    "    if l[i]+2 == l[i+1]+1 ==l[i+2]:\n",
    "        print(l[i],l[i+1],l[i+2])"
   ]
  },
  {
   "cell_type": "code",
   "execution_count": 31,
   "id": "4735f6ba",
   "metadata": {
    "ExecuteTime": {
     "end_time": "2023-07-16T14:55:39.424914Z",
     "start_time": "2023-07-16T14:55:39.415404Z"
    }
   },
   "outputs": [],
   "source": [
    "def palindrome(s):\n",
    "    for i in range(int(len(s)/2)): \n",
    "        if s[i]==s[-i-1]:\n",
    "            return 'its a palindrome'\n",
    "        else:\n",
    "            return 'its not'"
   ]
  },
  {
   "cell_type": "code",
   "execution_count": 33,
   "id": "b15f4e0c",
   "metadata": {
    "ExecuteTime": {
     "end_time": "2023-07-16T14:56:40.565462Z",
     "start_time": "2023-07-16T14:56:40.554454Z"
    }
   },
   "outputs": [
    {
     "data": {
      "text/plain": [
       "'its a palindrome'"
      ]
     },
     "execution_count": 33,
     "metadata": {},
     "output_type": "execute_result"
    }
   ],
   "source": [
    "palindrome('voxov')"
   ]
  },
  {
   "cell_type": "code",
   "execution_count": 30,
   "id": "f929960b",
   "metadata": {
    "ExecuteTime": {
     "end_time": "2023-07-16T14:53:32.122394Z",
     "start_time": "2023-07-16T14:53:32.111394Z"
    }
   },
   "outputs": [
    {
     "data": {
      "text/plain": [
       "'its a palindrome'"
      ]
     },
     "execution_count": 30,
     "metadata": {},
     "output_type": "execute_result"
    }
   ],
   "source": [
    "palindrome('hell00')"
   ]
  },
  {
   "cell_type": "code",
   "execution_count": 22,
   "id": "569e7d27",
   "metadata": {
    "ExecuteTime": {
     "end_time": "2023-07-16T14:47:36.852031Z",
     "start_time": "2023-07-16T14:47:36.835029Z"
    }
   },
   "outputs": [
    {
     "data": {
      "text/plain": [
       "[123, 77, 54, 20, 10, 8, 4, 1, 1]"
      ]
     },
     "execution_count": 22,
     "metadata": {},
     "output_type": "execute_result"
    }
   ],
   "source": [
    "l=[20,1,54,4,8,77,1,10,123]\n",
    "def bubble(l):\n",
    "    for i in range(len(l)-1):\n",
    "        if l[i]<l[i+1]:\n",
    "            l[i],l[i+1]=l[i+1],l[i]\n",
    "            return bubble(l)\n",
    "    return l\n",
    "bubble(l)"
   ]
  },
  {
   "cell_type": "code",
   "execution_count": 7,
   "id": "15092a2d",
   "metadata": {
    "ExecuteTime": {
     "end_time": "2023-07-16T14:33:26.371152Z",
     "start_time": "2023-07-16T14:33:26.365151Z"
    }
   },
   "outputs": [],
   "source": [
    "rows=3\n",
    "columns=3\n",
    "a= [[1 for j in range(columns)]for i in range(rows)]\n",
    "b= [[2 for j in range(columns)]for i in range(rows)]\n",
    "c= [[0 for j in range(columns)]for i in range(rows)]"
   ]
  },
  {
   "cell_type": "code",
   "execution_count": 12,
   "id": "cd9d1295",
   "metadata": {
    "ExecuteTime": {
     "end_time": "2023-07-16T14:36:38.885353Z",
     "start_time": "2023-07-16T14:36:38.876350Z"
    }
   },
   "outputs": [],
   "source": [
    "for i in range(columns):\n",
    "    for j in range(rows):\n",
    "        c[i][j]=a[i][j]+b[i][j]"
   ]
  },
  {
   "cell_type": "code",
   "execution_count": 17,
   "id": "48f0863d",
   "metadata": {
    "ExecuteTime": {
     "end_time": "2023-07-16T14:40:44.296640Z",
     "start_time": "2023-07-16T14:40:44.282638Z"
    }
   },
   "outputs": [
    {
     "data": {
      "text/plain": [
       "[[3, 3, 3], [3, 3, 3], [3, 3, 3]]"
      ]
     },
     "execution_count": 17,
     "metadata": {},
     "output_type": "execute_result"
    }
   ],
   "source": [
    "d=[[a[i][j]+b[i][j] for i in range(columns)] for j in range(rows)]\n",
    "d"
   ]
  },
  {
   "cell_type": "code",
   "execution_count": 13,
   "id": "dc754bc3",
   "metadata": {
    "ExecuteTime": {
     "end_time": "2023-07-16T14:36:43.415840Z",
     "start_time": "2023-07-16T14:36:43.399818Z"
    }
   },
   "outputs": [
    {
     "data": {
      "text/plain": [
       "[[3, 3, 3], [3, 3, 3], [3, 3, 3]]"
      ]
     },
     "execution_count": 13,
     "metadata": {},
     "output_type": "execute_result"
    }
   ],
   "source": [
    "c"
   ]
  },
  {
   "cell_type": "code",
   "execution_count": 44,
   "id": "9da5e061",
   "metadata": {
    "ExecuteTime": {
     "end_time": "2022-12-25T06:48:13.073811Z",
     "start_time": "2022-12-25T06:48:13.059449Z"
    }
   },
   "outputs": [],
   "source": [
    "def mat(matrix):\n",
    "    for i in range(len(matrix)):\n",
    "        for j in range(len(matrix[0])):\n",
    "            print(format(matrix[i][j],'<3'),end=\"\")\n",
    "        print()\n",
    "def matadd(matrix1,matrix2):\n",
    "    result=[[0 for i in range(row)]for j in range(column)]\n",
    "    for i in range(row):\n",
    "        for j in range(column):\n",
    "            result[i][j]=matrix1[i][j]+matrix2[i][j]\n",
    "            print(format(result[i][j],'<3'),end=\"\")\n",
    "        print()\n",
    "            "
   ]
  },
  {
   "cell_type": "code",
   "execution_count": 45,
   "id": "ab615d39",
   "metadata": {
    "ExecuteTime": {
     "end_time": "2022-12-25T06:48:13.559134Z",
     "start_time": "2022-12-25T06:48:13.550006Z"
    }
   },
   "outputs": [
    {
     "name": "stdout",
     "output_type": "stream",
     "text": [
      "6  8  \n",
      "10 12 \n"
     ]
    }
   ],
   "source": [
    "matadd(matrix1,matrix2)"
   ]
  },
  {
   "cell_type": "code",
   "execution_count": 47,
   "id": "8311835a",
   "metadata": {
    "ExecuteTime": {
     "end_time": "2022-12-25T06:48:59.299195Z",
     "start_time": "2022-12-25T06:48:51.641404Z"
    }
   },
   "outputs": [
    {
     "name": "stdout",
     "output_type": "stream",
     "text": [
      "eneter no of rows2\n",
      "eneter no of columns2\n",
      "1\n",
      "2\n",
      "3\n",
      "4\n",
      "5\n",
      "6\n",
      "7\n",
      "8\n",
      "matrix1:\n",
      "1  2  \n",
      "3  4  \n",
      "matrix2:\n",
      "5  6  \n",
      "7  8  \n",
      "result matrix:\n",
      "6  8  \n",
      "10 12 \n"
     ]
    }
   ],
   "source": [
    "row=int(input('eneter no of rows'))\n",
    "column=int(input('eneter no of columns'))\n",
    "matrix1=[[int(input()) for i in range(column)]for j in range(row)]\n",
    "matrix2=[[int(input()) for i in range(column)]for j in range(row)]\n",
    "print(\"matrix1:\")\n",
    "mat(matrix1)\n",
    "print(\"matrix2:\")\n",
    "mat(matrix2)\n",
    "print(\"result matrix:\")\n",
    "matadd(matrix1,matrix2)"
   ]
  },
  {
   "cell_type": "code",
   "execution_count": 3,
   "id": "240df600",
   "metadata": {
    "ExecuteTime": {
     "end_time": "2022-12-25T05:56:56.298153Z",
     "start_time": "2022-12-25T05:56:52.102462Z"
    }
   },
   "outputs": [
    {
     "name": "stdout",
     "output_type": "stream",
     "text": [
      "eneter the string for ASCII:hello\n",
      "104 , 101 , 108 , 108 , 111 , "
     ]
    }
   ],
   "source": [
    "# ASCII\n",
    "string=input('eneter the string for ASCII:')\n",
    "for i in string:\n",
    "    print(ord(i),end=' , ')"
   ]
  },
  {
   "cell_type": "code",
   "execution_count": 1,
   "id": "dee9ca76",
   "metadata": {
    "ExecuteTime": {
     "end_time": "2022-12-25T06:11:03.322153Z",
     "start_time": "2022-12-25T06:11:03.311240Z"
    }
   },
   "outputs": [
    {
     "name": "stdout",
     "output_type": "stream",
     "text": [
      "[1, 2, 6, 8, 25, 44, 47, 88, 95]\n"
     ]
    }
   ],
   "source": [
    "# Bubblesort:\n",
    "def bubble(list):\n",
    "    for i in range(len(list)-1):  \n",
    "        if list[i]>list[i+1]:\n",
    "            list[i],list[i+1]=list[i+1],list[i]\n",
    "            return bubble(list)    \n",
    "list=[25,88,95,1,2,47,8,6,44]\n",
    "bubble(list)\n",
    "print(list)"
   ]
  },
  {
   "cell_type": "code",
   "execution_count": 5,
   "id": "490e12b5",
   "metadata": {
    "ExecuteTime": {
     "end_time": "2022-12-25T05:57:01.758151Z",
     "start_time": "2022-12-25T05:57:01.741597Z"
    }
   },
   "outputs": [
    {
     "name": "stdout",
     "output_type": "stream",
     "text": [
      "0\n",
      "1\n",
      "1\n",
      "2\n",
      "3\n",
      "5\n",
      "8\n"
     ]
    }
   ],
   "source": [
    "#fibonacci series:\n",
    "def fib(n):\n",
    "    first=0\n",
    "    second=1\n",
    "    for i in range(n):\n",
    "        print(first)\n",
    "        temp = first\n",
    "        first=second\n",
    "        second=temp+second\n",
    "fib(7)"
   ]
  },
  {
   "cell_type": "code",
   "execution_count": 6,
   "id": "ab866933",
   "metadata": {
    "ExecuteTime": {
     "end_time": "2022-12-25T05:57:08.236180Z",
     "start_time": "2022-12-25T05:57:05.993185Z"
    }
   },
   "outputs": [
    {
     "name": "stdout",
     "output_type": "stream",
     "text": [
      "enter fibonacci number to check225\n",
      "225 its not a fibonacci number\n"
     ]
    }
   ],
   "source": [
    "import math\n",
    "def perfectsquare(x):\n",
    "    s=int(math.sqrt(x))\n",
    "    return s*s==x\n",
    "n=int(input('enter fibonacci number to check'))\n",
    "r1=5*(n*n)+4\n",
    "r2=5*(n*n)-4\n",
    "if perfectsquare(r1) or perfectsquare(r2):\n",
    "    print(n,'its is fibonacci')\n",
    "else:\n",
    "    print(n, 'its not a fibonacci number')"
   ]
  },
  {
   "cell_type": "code",
   "execution_count": 4,
   "id": "6b0ec256",
   "metadata": {
    "ExecuteTime": {
     "end_time": "2022-12-25T06:13:04.602701Z",
     "start_time": "2022-12-25T06:13:04.588867Z"
    }
   },
   "outputs": [],
   "source": [
    "# largestelementarray:\n",
    "def arr(no_of_elements):\n",
    "    a=[]\n",
    "    for i in range(0,no_of_elements):\n",
    "        element=int(input('enter number'))\n",
    "        a.append(element)\n",
    "    return a\n",
    "def largest_element():\n",
    "    list=arr(int(input('no of elements:')))\n",
    "    bubble(list)\n",
    "    return list[-1]"
   ]
  },
  {
   "cell_type": "code",
   "execution_count": 4,
   "id": "8baf52bf",
   "metadata": {
    "ExecuteTime": {
     "end_time": "2023-01-09T02:14:51.429799Z",
     "start_time": "2023-01-09T02:14:51.415590Z"
    }
   },
   "outputs": [],
   "source": [
    "def bubble(list):\n",
    "    for i in range(len(list)-1):\n",
    "        if list[i]>list[i+1]:\n",
    "            list[i],list[i+1]=list[i+1],list[i]\n",
    "            return bubble(list)\n",
    "    print('n largest element:', list[-1])\n"
   ]
  },
  {
   "cell_type": "code",
   "execution_count": 5,
   "id": "2cad1ad7",
   "metadata": {
    "ExecuteTime": {
     "end_time": "2023-01-09T02:14:52.231901Z",
     "start_time": "2023-01-09T02:14:52.216293Z"
    }
   },
   "outputs": [
    {
     "name": "stdout",
     "output_type": "stream",
     "text": [
      "n largest element: 5956\n",
      "[5, 7, 23, 44, 88, 457, 5956]\n"
     ]
    }
   ],
   "source": [
    "list=[23,5,88,5956,457,44,7]\n",
    "bubble(list)\n",
    "print(list)\n"
   ]
  },
  {
   "cell_type": "code",
   "execution_count": 151,
   "id": "b6473e06",
   "metadata": {
    "ExecuteTime": {
     "end_time": "2022-12-25T05:03:54.808390Z",
     "start_time": "2022-12-25T05:03:43.357592Z"
    }
   },
   "outputs": [
    {
     "name": "stdout",
     "output_type": "stream",
     "text": [
      "no of elements:5\n",
      "enter number12\n",
      "enter number21\n",
      "enter number32\n",
      "enter number23\n",
      "enter number25\n"
     ]
    },
    {
     "data": {
      "text/plain": [
       "32"
      ]
     },
     "execution_count": 151,
     "metadata": {},
     "output_type": "execute_result"
    }
   ],
   "source": [
    "largest_element()"
   ]
  },
  {
   "cell_type": "code",
   "execution_count": 168,
   "id": "e8ac06e4",
   "metadata": {
    "ExecuteTime": {
     "end_time": "2022-12-25T05:16:08.182726Z",
     "start_time": "2022-12-25T05:16:05.978390Z"
    }
   },
   "outputs": [
    {
     "name": "stdout",
     "output_type": "stream",
     "text": [
      "enter the string:hello\n"
     ]
    },
    {
     "data": {
      "text/plain": [
       "5"
      ]
     },
     "execution_count": 168,
     "metadata": {},
     "output_type": "execute_result"
    }
   ],
   "source": [
    "# length of the string:\n",
    "def pklen(string):\n",
    "    j=0\n",
    "    for i in string:\n",
    "        j=j+1\n",
    "    return j \n",
    "string=input('enter the string:')\n",
    "pklen(string)"
   ]
  },
  {
   "cell_type": "code",
   "execution_count": 179,
   "id": "fb400cb1",
   "metadata": {
    "ExecuteTime": {
     "end_time": "2022-12-25T05:22:30.911499Z",
     "start_time": "2022-12-25T05:22:30.899499Z"
    }
   },
   "outputs": [],
   "source": [
    "# linear search:\n",
    "def linsearch(list,key):\n",
    "    for i in range(len(list)):\n",
    "        if key==list[i]:\n",
    "            print('key element is found at the index',i)\n",
    "            break\n",
    "    else:\n",
    "        print('key element not found')"
   ]
  },
  {
   "cell_type": "code",
   "execution_count": 180,
   "id": "1832a41f",
   "metadata": {
    "ExecuteTime": {
     "end_time": "2022-12-25T05:22:31.331300Z",
     "start_time": "2022-12-25T05:22:31.316141Z"
    }
   },
   "outputs": [
    {
     "name": "stdout",
     "output_type": "stream",
     "text": [
      "key element is found at the index 3\n"
     ]
    }
   ],
   "source": [
    "list=[12,123,23,45,26,4,77,10]\n",
    "linsearch(list,45)"
   ]
  },
  {
   "cell_type": "code",
   "execution_count": 218,
   "id": "dedbe912",
   "metadata": {
    "ExecuteTime": {
     "end_time": "2022-12-25T05:38:29.067729Z",
     "start_time": "2022-12-25T05:38:29.047123Z"
    }
   },
   "outputs": [
    {
     "name": "stdout",
     "output_type": "stream",
     "text": [
      "hello : its not a palindrome\n",
      "rotor : its a palindrome\n",
      "12321 : its a palindrome\n"
     ]
    }
   ],
   "source": [
    "# palindrome:\n",
    "def palindrome(string):\n",
    "    s=string\n",
    "    rs=s[::-1]\n",
    "    if s==rs:\n",
    "        print(string, ': its a palindrome')\n",
    "    else:\n",
    "        print(string, ': its not a palindrome')\n",
    "palindrome('hello')        \n",
    "palindrome('rotor')\n",
    "palindrome('12321')"
   ]
  },
  {
   "cell_type": "code",
   "execution_count": 43,
   "id": "1e3427f8",
   "metadata": {
    "ExecuteTime": {
     "end_time": "2023-07-16T15:12:07.968855Z",
     "start_time": "2023-07-16T15:12:05.347837Z"
    }
   },
   "outputs": [
    {
     "name": "stdout",
     "output_type": "stream",
     "text": [
      "enter inputhello\n"
     ]
    },
    {
     "data": {
      "text/plain": [
       "'olleh'"
      ]
     },
     "execution_count": 43,
     "metadata": {},
     "output_type": "execute_result"
    }
   ],
   "source": [
    "def reverse_string(word):\n",
    "    r=''\n",
    "    for i in word:\n",
    "        r= i+r\n",
    "    return r\n",
    "word=input(\"enter input\")\n",
    "reverse_string(word)"
   ]
  },
  {
   "cell_type": "code",
   "execution_count": null,
   "id": "12151f9e",
   "metadata": {
    "ExecuteTime": {
     "end_time": "2023-07-16T15:11:43.147393Z",
     "start_time": "2023-07-16T15:11:43.147393Z"
    }
   },
   "outputs": [],
   "source": [
    "s=l[::-1]\n",
    "s"
   ]
  },
  {
   "cell_type": "code",
   "execution_count": 1,
   "id": "cd21b8aa",
   "metadata": {
    "ExecuteTime": {
     "end_time": "2023-07-01T10:26:55.966109Z",
     "start_time": "2023-07-01T10:26:55.953112Z"
    }
   },
   "outputs": [],
   "source": [
    "# reversing a list\n",
    "l = [1,2,3,4,5]\n",
    "def rev_list(list):\n",
    "    l1=[]\n",
    "    for i in range(len(l)-1,-1,-1):\n",
    "        l1.append(l[i])\n",
    "    return l1"
   ]
  },
  {
   "cell_type": "code",
   "execution_count": 14,
   "id": "5ea05cd6",
   "metadata": {
    "ExecuteTime": {
     "end_time": "2022-12-25T06:06:13.608481Z",
     "start_time": "2022-12-25T06:06:13.589488Z"
    }
   },
   "outputs": [
    {
     "data": {
      "text/plain": [
       "[5, 4, 3, 2, 1]"
      ]
     },
     "execution_count": 14,
     "metadata": {},
     "output_type": "execute_result"
    }
   ],
   "source": [
    "rev_list(l)"
   ]
  },
  {
   "cell_type": "code",
   "execution_count": 10,
   "id": "ed9bfc15",
   "metadata": {
    "ExecuteTime": {
     "end_time": "2022-12-25T06:15:29.407772Z",
     "start_time": "2022-12-25T06:15:29.399764Z"
    }
   },
   "outputs": [
    {
     "data": {
      "text/plain": [
       "4"
      ]
     },
     "execution_count": 10,
     "metadata": {},
     "output_type": "execute_result"
    }
   ],
   "source": [
    "# second largest number in a list\n",
    "def sec_lar_num(list):\n",
    "    bubble(list)\n",
    "    return list[-2]\n",
    "sec_lar_num([1,2,3,4,5])"
   ]
  },
  {
   "cell_type": "code",
   "execution_count": 20,
   "id": "d6614eb4",
   "metadata": {
    "ExecuteTime": {
     "end_time": "2023-01-30T05:55:51.687350Z",
     "start_time": "2023-01-30T05:55:48.734323Z"
    },
    "scrolled": false
   },
   "outputs": [
    {
     "name": "stdout",
     "output_type": "stream",
     "text": [
      "entered string:hai\n",
      "\n",
      "h +++++ 0 1\n",
      "\n",
      "ha +++++ 0 2\n",
      "\n",
      "hai +++++ 0 3\n",
      "\n",
      "a +++++ 1 2\n",
      "\n",
      "ai +++++ 1 3\n",
      "\n",
      "i +++++ 2 3\n"
     ]
    }
   ],
   "source": [
    "#substring\n",
    "string=input('entered string:')\n",
    "for i in range(len(string)):\n",
    "    for j in range(i+1,len(string)+1):\n",
    "        print(string[i:j],'+++++',i,j)\n",
    "#DEBUGGING:\n",
    "# i=0,3\n",
    "# i= 0,1,2\n",
    "# i=0\n",
    "# j=1,4\n",
    "# j=1,2,3\n",
    "# s[0:1],[0:2],[0:3]\n",
    "# i=1\n",
    "# j=2,4\n",
    "# j=2,3\n",
    "# s[1:2],[1:3]\n",
    "# i=2\n",
    "# j=3\n",
    "# s[2:3]"
   ]
  },
  {
   "cell_type": "code",
   "execution_count": null,
   "id": "c3cdc522",
   "metadata": {},
   "outputs": [],
   "source": []
  }
 ],
 "metadata": {
  "kernelspec": {
   "display_name": "Python 3 (ipykernel)",
   "language": "python",
   "name": "python3"
  },
  "language_info": {
   "codemirror_mode": {
    "name": "ipython",
    "version": 3
   },
   "file_extension": ".py",
   "mimetype": "text/x-python",
   "name": "python",
   "nbconvert_exporter": "python",
   "pygments_lexer": "ipython3",
   "version": "3.9.13"
  }
 },
 "nbformat": 4,
 "nbformat_minor": 5
}
