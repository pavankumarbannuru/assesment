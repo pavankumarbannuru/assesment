{
 "cells": [
  {
   "cell_type": "markdown",
   "id": "237cd643",
   "metadata": {
    "ExecuteTime": {
     "end_time": "2024-02-16T02:27:24.293846Z",
     "start_time": "2024-02-16T02:27:24.285236Z"
    }
   },
   "source": [
    "1.\n",
    "a='abc'\n",
    "b='adeadcabccde'\n",
    "python code to check wether 'abc' is substring of 'adeadcabccde' if yes give index of first \n",
    "letter of substring 'abc' in  'adeadcabccde'"
   ]
  },
  {
   "cell_type": "code",
   "execution_count": 1,
   "id": "06f66e76",
   "metadata": {
    "ExecuteTime": {
     "end_time": "2024-02-16T02:21:48.338900Z",
     "start_time": "2024-02-16T02:21:48.322760Z"
    }
   },
   "outputs": [
    {
     "name": "stdout",
     "output_type": "stream",
     "text": [
      "The substring 'abc' is present in the main string at index 6.\n"
     ]
    }
   ],
   "source": [
    "main_string = 'adeadcabccde'\n",
    "substring = 'abc'\n",
    "\n",
    "index = main_string.find(substring)\n",
    "\n",
    "if index != -1:\n",
    "    print(f\"The substring '{substring}' is present in the main string at index {index}.\")\n",
    "else:\n",
    "    print(f\"The substring '{substring}' is not present in the main string.\")\n"
   ]
  },
  {
   "cell_type": "code",
   "execution_count": 9,
   "id": "1c04c50a",
   "metadata": {
    "ExecuteTime": {
     "end_time": "2024-02-16T02:41:24.117988Z",
     "start_time": "2024-02-16T02:41:24.104134Z"
    }
   },
   "outputs": [
    {
     "data": {
      "text/plain": [
       "6"
      ]
     },
     "execution_count": 9,
     "metadata": {},
     "output_type": "execute_result"
    }
   ],
   "source": [
    "def cust_find(b,a):\n",
    "    for i in range(len(b)-len(a)+1):\n",
    "        if b[i:i+len(a)]==a:\n",
    "            return i\n",
    "cust_find(b,a)"
   ]
  },
  {
   "cell_type": "markdown",
   "id": "eae36b79",
   "metadata": {},
   "source": [
    "2. a=1,3,5,7,9,15,17,19,23,27,29,37,39,..... python code that creates groups in this way group 1 is 1,group 2 is 3,5 and group 3 is 7,9,15 and so on and when any group  is called then it should returns sum of elements in that group"
   ]
  },
  {
   "cell_type": "code",
   "execution_count": 18,
   "id": "a2284a0a",
   "metadata": {
    "ExecuteTime": {
     "end_time": "2024-02-16T03:13:59.247220Z",
     "start_time": "2024-02-16T03:13:59.239378Z"
    }
   },
   "outputs": [
    {
     "name": "stdout",
     "output_type": "stream",
     "text": [
      "Sum of elements in group 4: 115\n"
     ]
    }
   ],
   "source": [
    "def create_groups_and_sum(index):\n",
    "    a = [1, 3, 5, 7, 9, 15, 17, 19, 23, 27, 29, 37, 39]  # Your sequence\n",
    "\n",
    "    # Calculate the starting index for the group\n",
    "    start_index = sum(range(index))\n",
    "\n",
    "    # Calculate the ending index for the group\n",
    "    end_index = start_index + index + 1\n",
    "\n",
    "    # Get the elements in the specified group\n",
    "    group_elements = a[start_index:end_index]\n",
    "\n",
    "    # Calculate and return the sum of elements in the group\n",
    "    group_sum = sum(group_elements)\n",
    "    return group_sum\n",
    "\n",
    "# Example usage:\n",
    "group_index = 4\n",
    "result = create_groups_and_sum(group_index)\n",
    "print(f\"Sum of elements in group {group_index}: {result}\")\n"
   ]
  },
  {
   "cell_type": "code",
   "execution_count": 12,
   "id": "456907d3",
   "metadata": {
    "ExecuteTime": {
     "end_time": "2024-02-16T03:03:54.020764Z",
     "start_time": "2024-02-16T03:03:54.012308Z"
    }
   },
   "outputs": [
    {
     "data": {
      "text/plain": [
       "(3, 7)"
      ]
     },
     "execution_count": 12,
     "metadata": {},
     "output_type": "execute_result"
    }
   ],
   "source": [
    "index=3\n",
    "start_index = sum(range(index))\n",
    "end_index = start_index + index + 1\n",
    "start_index,end_index"
   ]
  },
  {
   "cell_type": "code",
   "execution_count": 17,
   "id": "c2a93d75",
   "metadata": {
    "ExecuteTime": {
     "end_time": "2024-02-16T03:13:40.384856Z",
     "start_time": "2024-02-16T03:13:40.379805Z"
    }
   },
   "outputs": [
    {
     "name": "stdout",
     "output_type": "stream",
     "text": [
      "86 [17, 19, 23, 27] 6 10\n"
     ]
    }
   ],
   "source": [
    "a = [1, 3, 5, 7, 9, 15, 17, 19, 23, 27, 29, 37, 39]\n",
    "index=4\n",
    "start=sum(range(index))\n",
    "end=start+index\n",
    "group=a[start:end]\n",
    "print(sum(group),group,start,end)"
   ]
  },
  {
   "cell_type": "markdown",
   "id": "a748eaa3",
   "metadata": {},
   "source": [
    "Reverse a String: Write a function to reverse a string without using any built-in functions.\n",
    "\n",
    "Check for Anagrams: Write a function to check if two strings are anagrams of each other.\n",
    "\n",
    "Find the Missing Number: Given an array containing n distinct numbers taken from 0, 1, 2, ..., n, find the one that is missing.\n",
    "\n",
    "Implement a Stack: Implement a stack using either lists or arrays in Python.\n",
    "\n",
    "Find the Maximum Subarray Sum: Given an array of integers, find the contiguous subarray with the largest sum.\n",
    "\n",
    "Detect a Cycle in a Linked List: Determine if a linked list has a cycle and find the starting point of the cycle if present.\n",
    "\n",
    "Check for Palindrome: Write a function to check if a given string is a palindrome.\n",
    "\n",
    "Merge Two Sorted Lists: Merge two sorted linked lists into one sorted linked list.\n",
    "\n",
    "Implement Binary Search: Write a function to perform binary search on a sorted array.\n",
    "\n",
    "Rotate an Array: Rotate an array to the right by k steps, where k is a non-negative integer."
   ]
  },
  {
   "cell_type": "code",
   "execution_count": 1,
   "id": "a303bf9d",
   "metadata": {
    "ExecuteTime": {
     "end_time": "2024-02-17T07:51:23.509596Z",
     "start_time": "2024-02-17T07:51:23.463045Z"
    }
   },
   "outputs": [
    {
     "data": {
      "text/plain": [
       "33"
      ]
     },
     "execution_count": 1,
     "metadata": {},
     "output_type": "execute_result"
    }
   ],
   "source": [
    "def max_subarray_sum(nums):\n",
    "    max_sum = current_sum = nums[0]\n",
    "    for num in nums[1:]:\n",
    "        current_sum = max(num, current_sum + num)\n",
    "        max_sum = max(max_sum, current_sum)\n",
    "    return max_sum\n",
    "max_subarray_sum([1,5,2,7,3,4,5,6])"
   ]
  },
  {
   "cell_type": "code",
   "execution_count": null,
   "id": "2b87ba2e",
   "metadata": {},
   "outputs": [],
   "source": [
    "def is_palindrome(s):\n",
    "    s = ''.join(char.lower() for char in s if char.isalnum())\n",
    "    return s == s[::-1]\n"
   ]
  },
  {
   "cell_type": "code",
   "execution_count": null,
   "id": "2a28659c",
   "metadata": {},
   "outputs": [],
   "source": [
    "class ListNode:\n",
    "    def __init__(self, val=0, next=None):\n",
    "        self.val = val\n",
    "        self.next = next\n",
    "\n",
    "def merge_sorted_lists(l1, l2):\n",
    "    dummy = ListNode()\n",
    "    current = dummy\n",
    "\n",
    "    while l1 and l2:\n",
    "        if l1.val < l2.val:\n",
    "            current.next = l1\n",
    "            l1 = l1.next\n",
    "        else:\n",
    "            current.next = l2\n",
    "            l2 = l2.next\n",
    "        current = current.next\n",
    "\n",
    "    if l1:\n",
    "        current.next = l1\n",
    "    else:\n",
    "        current.next = l2\n",
    "\n",
    "    return dummy.next\n"
   ]
  },
  {
   "cell_type": "code",
   "execution_count": null,
   "id": "be223df3",
   "metadata": {},
   "outputs": [],
   "source": [
    "def binary_search(arr, target):\n",
    "    low, high = 0, len(arr) - 1\n",
    "    while low <= high:\n",
    "        mid = (low + high) // 2\n",
    "        if arr[mid] == target:\n",
    "            return mid\n",
    "        elif arr[mid] < target:\n",
    "            low = mid + 1\n",
    "        else:\n",
    "            high = mid - 1\n",
    "    return -1\n"
   ]
  },
  {
   "cell_type": "code",
   "execution_count": 39,
   "id": "6050bada",
   "metadata": {
    "ExecuteTime": {
     "end_time": "2024-02-16T07:37:45.186234Z",
     "start_time": "2024-02-16T07:37:45.173782Z"
    }
   },
   "outputs": [
    {
     "data": {
      "text/plain": [
       "[3, 4, 6, 1, 2]"
      ]
     },
     "execution_count": 39,
     "metadata": {},
     "output_type": "execute_result"
    }
   ],
   "source": [
    "def rotate_array(nums, k):\n",
    "    k %= len(nums)  # check if complete of 1 cycle\n",
    "    nums[:] = nums[-k:] + nums[:-k]\n",
    "    return nums\n",
    "rotate_array([1,2,3,4,6],8)"
   ]
  },
  {
   "cell_type": "code",
   "execution_count": 33,
   "id": "7a6fb6c1",
   "metadata": {
    "ExecuteTime": {
     "end_time": "2024-02-16T05:21:57.837342Z",
     "start_time": "2024-02-16T05:21:57.827693Z"
    }
   },
   "outputs": [
    {
     "data": {
      "text/plain": [
       "8"
      ]
     },
     "execution_count": 33,
     "metadata": {},
     "output_type": "execute_result"
    }
   ],
   "source": [
    "def missing_number(n):\n",
    "    for i in range(len(n)-1):\n",
    "        if n[i]+1!=n[i+1]:\n",
    "            return n[i]+1\n",
    "missing_number([1,2,3,4,5,6,7,9])"
   ]
  },
  {
   "cell_type": "code",
   "execution_count": 34,
   "id": "3f831485",
   "metadata": {
    "ExecuteTime": {
     "end_time": "2024-02-16T05:23:12.857202Z",
     "start_time": "2024-02-16T05:23:12.848253Z"
    }
   },
   "outputs": [
    {
     "data": {
      "text/plain": [
       "1"
      ]
     },
     "execution_count": 34,
     "metadata": {},
     "output_type": "execute_result"
    }
   ],
   "source": [
    "def find_missing_number(nums):\n",
    "    n = len(nums) + 1\n",
    "    expected_sum = n * (n // 2)\n",
    "    actual_sum = sum(nums)\n",
    "    return expected_sum - actual_sum\n",
    "find_missing_number([1,2,3,5,6])"
   ]
  },
  {
   "cell_type": "code",
   "execution_count": null,
   "id": "ec400cd0",
   "metadata": {},
   "outputs": [],
   "source": []
  },
  {
   "cell_type": "code",
   "execution_count": null,
   "id": "d0c86e87",
   "metadata": {},
   "outputs": [],
   "source": []
  },
  {
   "cell_type": "code",
   "execution_count": null,
   "id": "fe85aa0a",
   "metadata": {},
   "outputs": [],
   "source": []
  },
  {
   "cell_type": "code",
   "execution_count": null,
   "id": "01ddb918",
   "metadata": {},
   "outputs": [],
   "source": []
  },
  {
   "cell_type": "code",
   "execution_count": 23,
   "id": "56e58c9a",
   "metadata": {
    "ExecuteTime": {
     "end_time": "2024-02-16T04:58:36.679201Z",
     "start_time": "2024-02-16T04:58:36.666446Z"
    }
   },
   "outputs": [
    {
     "name": "stdout",
     "output_type": "stream",
     "text": [
      "found\n",
      "L1  ::: pavan\n"
     ]
    }
   ],
   "source": [
    "a='pavan'\n",
    "b='navap'\n",
    "l1=''\n",
    "l2=''\n",
    "for i in a: \n",
    "    if i not in b:\n",
    "        l1=l1+i\n",
    "    else:\n",
    "        l2=l2+i\n",
    "if l1 or l2 == a:\n",
    "    print('found')\n",
    "print('L1',l1,':::',l2)"
   ]
  },
  {
   "cell_type": "code",
   "execution_count": 28,
   "id": "7824a2d1",
   "metadata": {
    "ExecuteTime": {
     "end_time": "2024-02-16T05:06:10.673536Z",
     "start_time": "2024-02-16T05:06:10.662136Z"
    }
   },
   "outputs": [
    {
     "data": {
      "text/plain": [
       "'yes a,b are anagrams'"
      ]
     },
     "execution_count": 28,
     "metadata": {},
     "output_type": "execute_result"
    }
   ],
   "source": [
    "def anagram(a,b):\n",
    "    if sorted(b)==sorted(a):\n",
    "        return 'yes a,b are anagrams'\n",
    "    else:\n",
    "        return 'a,b are not anagrams'\n",
    "anagram('bad','bda')"
   ]
  },
  {
   "cell_type": "code",
   "execution_count": 19,
   "id": "4882876a",
   "metadata": {
    "ExecuteTime": {
     "end_time": "2024-02-16T04:48:03.688102Z",
     "start_time": "2024-02-16T04:48:03.677894Z"
    }
   },
   "outputs": [
    {
     "data": {
      "text/plain": [
       "'navap'"
      ]
     },
     "execution_count": 19,
     "metadata": {},
     "output_type": "execute_result"
    }
   ],
   "source": [
    "a='pavan'\n",
    "def reverse(a):\n",
    "    b=''\n",
    "    for i in a:\n",
    "        b=i+b\n",
    "    return b\n",
    "reverse(a)"
   ]
  },
  {
   "cell_type": "code",
   "execution_count": 29,
   "id": "c0d31159",
   "metadata": {
    "ExecuteTime": {
     "end_time": "2024-02-16T05:07:13.743564Z",
     "start_time": "2024-02-16T05:07:13.733347Z"
    }
   },
   "outputs": [
    {
     "data": {
      "text/plain": [
       "'navap'"
      ]
     },
     "execution_count": 29,
     "metadata": {},
     "output_type": "execute_result"
    }
   ],
   "source": [
    "def reverse1(a):\n",
    "    b=a[::-1]\n",
    "    return b\n",
    "reverse('pavan')"
   ]
  },
  {
   "cell_type": "code",
   "execution_count": null,
   "id": "cbd6ce9d",
   "metadata": {},
   "outputs": [],
   "source": []
  },
  {
   "cell_type": "code",
   "execution_count": null,
   "id": "f875dd6f",
   "metadata": {},
   "outputs": [],
   "source": []
  },
  {
   "cell_type": "code",
   "execution_count": null,
   "id": "53cfda3f",
   "metadata": {},
   "outputs": [],
   "source": []
  },
  {
   "cell_type": "code",
   "execution_count": null,
   "id": "1bea58b6",
   "metadata": {},
   "outputs": [],
   "source": []
  },
  {
   "cell_type": "code",
   "execution_count": null,
   "id": "7444a067",
   "metadata": {},
   "outputs": [],
   "source": []
  },
  {
   "cell_type": "code",
   "execution_count": null,
   "id": "f42c014b",
   "metadata": {},
   "outputs": [],
   "source": []
  },
  {
   "cell_type": "code",
   "execution_count": null,
   "id": "1f0ccb67",
   "metadata": {},
   "outputs": [],
   "source": []
  },
  {
   "cell_type": "code",
   "execution_count": null,
   "id": "2a0504c2",
   "metadata": {},
   "outputs": [],
   "source": []
  },
  {
   "cell_type": "code",
   "execution_count": null,
   "id": "61e52339",
   "metadata": {},
   "outputs": [],
   "source": []
  },
  {
   "cell_type": "code",
   "execution_count": 49,
   "id": "c551c7fd",
   "metadata": {
    "ExecuteTime": {
     "end_time": "2024-02-16T09:24:49.519923Z",
     "start_time": "2024-02-16T09:24:49.507177Z"
    }
   },
   "outputs": [
    {
     "data": {
      "text/plain": [
       "(2, [2, 9])"
      ]
     },
     "execution_count": 49,
     "metadata": {},
     "output_type": "execute_result"
    }
   ],
   "source": [
    "k='abcabccdecabdefrgfrg'\n",
    "g='cab'\n",
    "k.find(g)\n",
    "def count_substrings(k,g):\n",
    "    counter=0\n",
    "    l=[]\n",
    "    for i in range(len(k)):\n",
    "        if k[i:len(g)+i]==g:\n",
    "            l.append(i)\n",
    "            counter+=1\n",
    "    return counter,l\n",
    "count_substrings(k,g)"
   ]
  },
  {
   "cell_type": "code",
   "execution_count": null,
   "id": "056e78ae",
   "metadata": {},
   "outputs": [],
   "source": []
  },
  {
   "cell_type": "code",
   "execution_count": null,
   "id": "36f0984a",
   "metadata": {},
   "outputs": [],
   "source": [
    "def pattern_matching(pattern, main_string):\n",
    "    pattern = pattern.replace('*', '.*')\n",
    "    regex = re.compile(pattern)\n",
    "    match = regex.search(main_string)\n",
    "    return match is not None\n"
   ]
  },
  {
   "cell_type": "code",
   "execution_count": null,
   "id": "8d882f2f",
   "metadata": {},
   "outputs": [],
   "source": [
    "def grouped_sum_of_substrings(sequence, group_index):\n",
    "    start_index = sum(range(group_index))\n",
    "    end_index = start_index + group_index\n",
    "    group_elements = sequence[start_index:end_index]\n",
    "    return sum(group_elements)\n"
   ]
  },
  {
   "cell_type": "code",
   "execution_count": null,
   "id": "1308e236",
   "metadata": {},
   "outputs": [],
   "source": [
    "def compress_string(s):\n",
    "    result = []\n",
    "    count = 1\n",
    "    for i in range(1, len(s)):\n",
    "        if s[i] == s[i - 1]:\n",
    "            count += 1\n",
    "        else:\n",
    "            result.append(s[i - 1] + str(count))\n",
    "            count = 1\n",
    "    result.append(s[-1] + str(count))\n",
    "    return ''.join(result)\n"
   ]
  },
  {
   "cell_type": "code",
   "execution_count": null,
   "id": "01f888a3",
   "metadata": {},
   "outputs": [],
   "source": []
  },
  {
   "cell_type": "code",
   "execution_count": 60,
   "id": "557c7811",
   "metadata": {
    "ExecuteTime": {
     "end_time": "2024-02-16T10:23:23.740444Z",
     "start_time": "2024-02-16T10:23:23.726831Z"
    }
   },
   "outputs": [
    {
     "data": {
      "text/plain": [
       "('abc', [3, 3, 4, 3])"
      ]
     },
     "execution_count": 60,
     "metadata": {},
     "output_type": "execute_result"
    }
   ],
   "source": [
    "a='aaabbbccccddd'\n",
    "l=''\n",
    "l1=[]\n",
    "counter=1\n",
    "for i in range(len(a)-1):\n",
    "    if a[i]==a[i+1]:\n",
    "        counter+=1\n",
    "    if a[i]!=a[i+1]:\n",
    "        l1.append(counter)\n",
    "        counter=1\n",
    "        l=l+a[i]\n",
    "l1.append(counter)\n",
    "l,l1"
   ]
  },
  {
   "cell_type": "code",
   "execution_count": 58,
   "id": "75f3e1fd",
   "metadata": {
    "ExecuteTime": {
     "end_time": "2024-02-16T10:21:45.648868Z",
     "start_time": "2024-02-16T10:21:45.643699Z"
    }
   },
   "outputs": [
    {
     "name": "stdout",
     "output_type": "stream",
     "text": [
      "abcd [3, 3, 4, 3]\n"
     ]
    }
   ],
   "source": [
    "a = 'aaabbbccccddd'\n",
    "l = ''\n",
    "l1 = []\n",
    "counter = 1\n",
    "for i in range(len(a) - 1):\n",
    "    if a[i] == a[i + 1]:\n",
    "        counter += 1\n",
    "    if a[i] != a[i + 1]:\n",
    "        l1.append(counter)\n",
    "        counter = 1\n",
    "        l += a[i]\n",
    "# Append the last character and its count after the loop\n",
    "l1.append(counter)\n",
    "l += a[-1]\n",
    "print(l, l1)"
   ]
  },
  {
   "cell_type": "code",
   "execution_count": 65,
   "id": "ba498b89",
   "metadata": {
    "ExecuteTime": {
     "end_time": "2024-02-16T10:32:31.749685Z",
     "start_time": "2024-02-16T10:32:31.734408Z"
    }
   },
   "outputs": [
    {
     "data": {
      "text/plain": [
       "({'a': 4, 'b': 4, 'c': 5, 'd': 4}, dict_keys(['a', 'b', 'c', 'd']))"
      ]
     },
     "execution_count": 65,
     "metadata": {},
     "output_type": "execute_result"
    }
   ],
   "source": [
    "a = 'aaabbbccccddd'\n",
    "b={}\n",
    "for i in a:\n",
    "    if i not in b:\n",
    "        b[i]=1\n",
    "    if i in b.keys():\n",
    "        b[i]=b.get(i)+1\n",
    "b,b.keys()"
   ]
  },
  {
   "cell_type": "code",
   "execution_count": null,
   "id": "0468f64f",
   "metadata": {},
   "outputs": [],
   "source": [
    "def longest_common_prefix(strings):\n",
    "    if not strings:\n",
    "        return \"\"\n",
    "    prefix = strings[0]\n",
    "    for string in strings[1:]:\n",
    "        i = 0\n",
    "        while i < len(prefix) and i < len(string) and prefix[i] == string[i]:\n",
    "            i += 1\n",
    "        prefix = prefix[:i]\n",
    "    return prefix\n"
   ]
  },
  {
   "cell_type": "code",
   "execution_count": null,
   "id": "8cf0a95d",
   "metadata": {},
   "outputs": [],
   "source": [
    "def longest_substring_without_repeating(s):\n",
    "    seen = {}\n",
    "    start = 0\n",
    "    max_length = 0\n",
    "    for end, char in enumerate(s):\n",
    "        if char in seen and seen[char] >= start:\n",
    "            start = seen[char] + 1\n",
    "        seen[char] = end\n",
    "        max_length = max(max_length, end - start + 1)\n",
    "    return max_length\n"
   ]
  },
  {
   "cell_type": "code",
   "execution_count": null,
   "id": "7027523a",
   "metadata": {},
   "outputs": [],
   "source": [
    "def generate_fibonacci(n):\n",
    "    fib_sequence = [0, 1]\n",
    "    for i in range(2, n):\n",
    "        fib_sequence.append(fib_sequence[-1] + fib_sequence[-2])\n",
    "    return fib_sequence\n",
    "\n",
    "def grouped_sum_of_fibonacci(group_index):\n",
    "    fib_sequence = generate_fibonacci(group_index)\n",
    "    return sum(fib_sequence)\n"
   ]
  },
  {
   "cell_type": "code",
   "execution_count": 69,
   "id": "ac3d74f1",
   "metadata": {
    "ExecuteTime": {
     "end_time": "2024-02-16T12:01:16.115274Z",
     "start_time": "2024-02-16T12:01:16.098768Z"
    }
   },
   "outputs": [],
   "source": [
    "#fibonacci\n",
    "l=[0,1]\n",
    "n=50\n",
    "for i in range(n):\n",
    "    a=l[-2]+l[-1]\n",
    "    l.append(a)"
   ]
  },
  {
   "cell_type": "code",
   "execution_count": null,
   "id": "cb95e3d4",
   "metadata": {},
   "outputs": [],
   "source": [
    "def num_distinct_subsequences(s, t):\n",
    "    m, n = len(s), len(t)\n",
    "    dp = [[0] * (n + 1) for _ in range(m + 1)]\n",
    "\n",
    "    for i in range(m + 1):\n",
    "        dp[i][0] = 1\n",
    "\n",
    "    for i in range(1, m + 1):\n",
    "        for j in range(1, n + 1):\n",
    "            dp[i][j] = dp[i - 1][j]\n",
    "            if s[i - 1] == t[j - 1]:\n",
    "                dp[i][j] += dp[i - 1][j - 1]\n",
    "\n",
    "    return dp[m][n]\n"
   ]
  },
  {
   "cell_type": "code",
   "execution_count": null,
   "id": "b0797059",
   "metadata": {},
   "outputs": [],
   "source": [
    "def grouped_sum_alternating(sequence, group_index):\n",
    "    start_index = 0\n",
    "    group_sum = 0\n",
    "    for i in range(1, group_index + 1):\n",
    "        if i % 2 == 0:\n",
    "            group_sum += sequence[start_index]\n",
    "        else:\n",
    "            group_sum -= sequence[start_index]\n",
    "        start_index += i\n",
    "    return group_sum\n"
   ]
  },
  {
   "cell_type": "code",
   "execution_count": null,
   "id": "36721f55",
   "metadata": {},
   "outputs": [],
   "source": [
    "def is_balanced_parentheses(s):\n",
    "    stack = []\n",
    "    mapping = {')': '(', '}': '{', ']': '['}\n",
    "\n",
    "    for char in s:\n",
    "        if char in mapping:\n",
    "            top_element = stack.pop() if stack else '#'\n",
    "            if mapping[char] != top_element:\n",
    "                return False\n",
    "        else:\n",
    "            stack.append(char)\n",
    "\n",
    "    return not stack\n"
   ]
  },
  {
   "cell_type": "code",
   "execution_count": null,
   "id": "22b33e6a",
   "metadata": {},
   "outputs": [],
   "source": []
  },
  {
   "cell_type": "code",
   "execution_count": null,
   "id": "b05ca376",
   "metadata": {},
   "outputs": [],
   "source": []
  },
  {
   "cell_type": "code",
   "execution_count": null,
   "id": "be1eb81d",
   "metadata": {},
   "outputs": [],
   "source": []
  },
  {
   "cell_type": "code",
   "execution_count": null,
   "id": "17347a1c",
   "metadata": {},
   "outputs": [],
   "source": []
  },
  {
   "cell_type": "code",
   "execution_count": null,
   "id": "400707c9",
   "metadata": {},
   "outputs": [],
   "source": []
  },
  {
   "cell_type": "code",
   "execution_count": null,
   "id": "18e984b3",
   "metadata": {},
   "outputs": [],
   "source": []
  }
 ],
 "metadata": {
  "kernelspec": {
   "display_name": "Python 3 (ipykernel)",
   "language": "python",
   "name": "python3"
  },
  "language_info": {
   "codemirror_mode": {
    "name": "ipython",
    "version": 3
   },
   "file_extension": ".py",
   "mimetype": "text/x-python",
   "name": "python",
   "nbconvert_exporter": "python",
   "pygments_lexer": "ipython3",
   "version": "3.9.13"
  }
 },
 "nbformat": 4,
 "nbformat_minor": 5
}
