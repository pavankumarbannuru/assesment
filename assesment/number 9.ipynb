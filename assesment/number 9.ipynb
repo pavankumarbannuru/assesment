{
 "cells": [
  {
   "cell_type": "code",
   "execution_count": 1,
   "id": "df24f13c",
   "metadata": {
    "ExecuteTime": {
     "end_time": "2023-07-23T04:51:54.365902Z",
     "start_time": "2023-07-23T04:51:53.474010Z"
    }
   },
   "outputs": [],
   "source": [
    "import pandas as pd"
   ]
  },
  {
   "cell_type": "markdown",
   "id": "023b8e04",
   "metadata": {},
   "source": [
    "9. You have a dataset named customer_data.csv that contains information about customers. The dataset has columns customer_id, age, gender, email, and purchases. Write a Python script to read the dataset, perform data cleaning by removing duplicates and handling missing values, and then calculate the average number of purchases for each gender."
   ]
  },
  {
   "cell_type": "code",
   "execution_count": 26,
   "id": "4537c2b2",
   "metadata": {
    "ExecuteTime": {
     "end_time": "2023-07-23T05:27:45.171003Z",
     "start_time": "2023-07-23T05:27:45.165023Z"
    }
   },
   "outputs": [],
   "source": [
    "def clean_data(path):\n",
    "    df=pd.read_csv(r'C:\\Users\\pbann\\Downloads\\customer_data.csv')\n",
    "    df.drop_duplicates()\n",
    "    for  i in df.columns:\n",
    "        df[i]=df[i].fillna(df[i].mode())\n",
    "    return df   "
   ]
  },
  {
   "cell_type": "code",
   "execution_count": 29,
   "id": "19df091a",
   "metadata": {
    "ExecuteTime": {
     "end_time": "2023-07-23T05:29:48.261057Z",
     "start_time": "2023-07-23T05:29:48.243058Z"
    }
   },
   "outputs": [
    {
     "data": {
      "text/html": [
       "<div>\n",
       "<style scoped>\n",
       "    .dataframe tbody tr th:only-of-type {\n",
       "        vertical-align: middle;\n",
       "    }\n",
       "\n",
       "    .dataframe tbody tr th {\n",
       "        vertical-align: top;\n",
       "    }\n",
       "\n",
       "    .dataframe thead th {\n",
       "        text-align: right;\n",
       "    }\n",
       "</style>\n",
       "<table border=\"1\" class=\"dataframe\">\n",
       "  <thead>\n",
       "    <tr style=\"text-align: right;\">\n",
       "      <th></th>\n",
       "      <th>customer_id</th>\n",
       "      <th>age</th>\n",
       "      <th>gender</th>\n",
       "      <th>email</th>\n",
       "      <th>purchases</th>\n",
       "    </tr>\n",
       "  </thead>\n",
       "  <tbody>\n",
       "    <tr>\n",
       "      <th>0</th>\n",
       "      <td>1001</td>\n",
       "      <td>35</td>\n",
       "      <td>M</td>\n",
       "      <td>abc@example.com</td>\n",
       "      <td>10.0</td>\n",
       "    </tr>\n",
       "    <tr>\n",
       "      <th>1</th>\n",
       "      <td>1002</td>\n",
       "      <td>28</td>\n",
       "      <td>F</td>\n",
       "      <td>def@example.com</td>\n",
       "      <td>5.0</td>\n",
       "    </tr>\n",
       "    <tr>\n",
       "      <th>2</th>\n",
       "      <td>1003</td>\n",
       "      <td>40</td>\n",
       "      <td>F</td>\n",
       "      <td>ghi@example.com</td>\n",
       "      <td>8.0</td>\n",
       "    </tr>\n",
       "    <tr>\n",
       "      <th>3</th>\n",
       "      <td>1004</td>\n",
       "      <td>45</td>\n",
       "      <td>M</td>\n",
       "      <td>jkl@example.com</td>\n",
       "      <td>8.0</td>\n",
       "    </tr>\n",
       "    <tr>\n",
       "      <th>4</th>\n",
       "      <td>1005</td>\n",
       "      <td>33</td>\n",
       "      <td>M</td>\n",
       "      <td>mno@example.com</td>\n",
       "      <td>15.0</td>\n",
       "    </tr>\n",
       "    <tr>\n",
       "      <th>5</th>\n",
       "      <td>1006</td>\n",
       "      <td>27</td>\n",
       "      <td>F</td>\n",
       "      <td>pqr@example.com</td>\n",
       "      <td>12.0</td>\n",
       "    </tr>\n",
       "    <tr>\n",
       "      <th>6</th>\n",
       "      <td>1007</td>\n",
       "      <td>50</td>\n",
       "      <td>M</td>\n",
       "      <td>stu@example.com</td>\n",
       "      <td>12.0</td>\n",
       "    </tr>\n",
       "    <tr>\n",
       "      <th>7</th>\n",
       "      <td>1008</td>\n",
       "      <td>29</td>\n",
       "      <td>F</td>\n",
       "      <td>vwx@example.com</td>\n",
       "      <td>7.0</td>\n",
       "    </tr>\n",
       "    <tr>\n",
       "      <th>8</th>\n",
       "      <td>1009</td>\n",
       "      <td>38</td>\n",
       "      <td>F</td>\n",
       "      <td>yza@example.com</td>\n",
       "      <td>9.0</td>\n",
       "    </tr>\n",
       "  </tbody>\n",
       "</table>\n",
       "</div>"
      ],
      "text/plain": [
       "   customer_id  age gender            email  purchases\n",
       "0         1001   35      M  abc@example.com       10.0\n",
       "1         1002   28      F  def@example.com        5.0\n",
       "2         1003   40      F  ghi@example.com        8.0\n",
       "3         1004   45      M  jkl@example.com        8.0\n",
       "4         1005   33      M  mno@example.com       15.0\n",
       "5         1006   27      F  pqr@example.com       12.0\n",
       "6         1007   50      M  stu@example.com       12.0\n",
       "7         1008   29      F  vwx@example.com        7.0\n",
       "8         1009   38      F  yza@example.com        9.0"
      ]
     },
     "execution_count": 29,
     "metadata": {},
     "output_type": "execute_result"
    }
   ],
   "source": [
    "path=r'C:\\Users\\pbann\\Downloads\\customer_data.csv'\n",
    "clean_data(path)"
   ]
  },
  {
   "cell_type": "code",
   "execution_count": 31,
   "id": "8f7cd692",
   "metadata": {
    "ExecuteTime": {
     "end_time": "2023-07-23T05:32:42.784761Z",
     "start_time": "2023-07-23T05:32:42.768715Z"
    }
   },
   "outputs": [
    {
     "data": {
      "text/plain": [
       "gender\n",
       "F    5\n",
       "M    4\n",
       "Name: purchases, dtype: int64"
      ]
     },
     "execution_count": 31,
     "metadata": {},
     "output_type": "execute_result"
    }
   ],
   "source": [
    "df.groupby('gender')['purchases'].count()"
   ]
  }
 ],
 "metadata": {
  "kernelspec": {
   "display_name": "Python 3 (ipykernel)",
   "language": "python",
   "name": "python3"
  },
  "language_info": {
   "codemirror_mode": {
    "name": "ipython",
    "version": 3
   },
   "file_extension": ".py",
   "mimetype": "text/x-python",
   "name": "python",
   "nbconvert_exporter": "python",
   "pygments_lexer": "ipython3",
   "version": "3.9.13"
  }
 },
 "nbformat": 4,
 "nbformat_minor": 5
}
