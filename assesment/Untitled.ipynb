{
 "cells": [
  {
   "cell_type": "markdown",
   "id": "482e7d8f",
   "metadata": {},
   "source": [
    "****Question 1*** Given two arrays, arr1 and arr2 of equal length N, the task is to find if the given arrays are equal or not.\n",
    "\n",
    "Two arrays are said to be equal if: both of them contain the same set of elements, arrangements (or permutations) of elements might/might not be same. If there are repetitions, then counts of repeated elements must also be the same for two arrays to be equal.\n",
    "\n",
    "Input: arr1[] = {1, 2, 5, 4, 0}, arr2[] = {2, 4, 5, 0, 1} Output: Yes\n",
    "\n",
    "Input: arr1[] = {1, 2, 5, 4, 0, 2, 1}, arr2[] = {2, 4, 5, 0, 1, 1, 2} Output: Yes\n",
    "\n",
    "Input: arr1[] = {1, 7, 1}, arr2[] = {7, 7, 1} Output: No\n",
    "\n",
    "Expected Time Complexity = O(n)\n",
    "\n",
    "Question 2** Given an array A of positive integers. Your task is to find the leaders in the array. An element of array is leader if it is greater than or equal to all the elements to its right side. The rightmost element is always a leader.\n",
    "\n",
    "Input: n = 6 A[] = {16,17,4,3,5,2} Output: 17 5 2 Explanation: The first leader is 17 as it is greater than all the elements to its right. Similarly, the next leader is 5. The right most element is always a leader so it is also included.\n",
    "\n",
    "Input: n = 5 A[] = {1,2,3,4,0} Output: 4 0 Expected Time Complexity: O(n)\n",
    "\n",
    "****Question 3** Given an array of integers, find the length of the longest sub-sequence such that elements in the subsequence are consecutive integers, the consecutive numbers can be in any order. Input: arr[] = {1, 9, 3, 10, 4, 20, 2} Output: 4 Explanation: The subsequence 1, 3, 4, 2 is the longest subsequence of consecutive elements\n",
    "\n",
    "Input: arr[] = {36, 41, 56, 35, 44, 33, 34, 92, 43, 32, 42} Output: 5 Explanation: The subsequence 36, 35, 33, 34, 32 is the longest subsequence of consecutive elements.\n",
    "\n",
    "***Question 4**** Given an unsorted array Arr of size N of positive integers. One number 'A' from set {1, 2, …N} is missing and one number 'B' occurs twice in array. Find these two numbers. Input: N = 2 Arr[] = {2, 2} Output: 2 1 Explanation: Repeating number is 2 and smallest positive missing number is 1. Input: N = 4 Arr[] = {1, 3, 3} Output: 3 2 Explanation: Repeating number is 3 and smallest positive missing number is 2.s"
   ]
  },
  {
   "cell_type": "code",
   "execution_count": 1,
   "id": "eb02c771",
   "metadata": {
    "ExecuteTime": {
     "end_time": "2023-09-07T05:57:50.945173Z",
     "start_time": "2023-09-07T05:57:50.923135Z"
    }
   },
   "outputs": [],
   "source": [
    "l1,l2,l3,l4,l5,l6=[1, 2, 5, 4, 0],[2, 4, 5, 0, 1],[1, 2, 5, 4, 0, 2, 1],[2, 4, 5, 0, 1, 1, 2],[1,7,1],[7,7,1]"
   ]
  },
  {
   "cell_type": "code",
   "execution_count": 2,
   "id": "d4593805",
   "metadata": {
    "ExecuteTime": {
     "end_time": "2023-09-07T05:57:51.393865Z",
     "start_time": "2023-09-07T05:57:51.377346Z"
    }
   },
   "outputs": [],
   "source": [
    "def test(l1,l2):\n",
    "    if sorted(l1)==sorted(l2) :\n",
    "        return 'yes'\n",
    "    return 'no'"
   ]
  },
  {
   "cell_type": "code",
   "execution_count": 3,
   "id": "e3a038fd",
   "metadata": {
    "ExecuteTime": {
     "end_time": "2023-09-07T05:57:51.909079Z",
     "start_time": "2023-09-07T05:57:51.897076Z"
    }
   },
   "outputs": [
    {
     "data": {
      "text/plain": [
       "'yes'"
      ]
     },
     "execution_count": 3,
     "metadata": {},
     "output_type": "execute_result"
    }
   ],
   "source": [
    "test(l1,l2)"
   ]
  },
  {
   "cell_type": "code",
   "execution_count": 4,
   "id": "62f77a54",
   "metadata": {
    "ExecuteTime": {
     "end_time": "2023-09-07T05:57:52.673971Z",
     "start_time": "2023-09-07T05:57:52.652960Z"
    }
   },
   "outputs": [
    {
     "data": {
      "text/plain": [
       "'yes'"
      ]
     },
     "execution_count": 4,
     "metadata": {},
     "output_type": "execute_result"
    }
   ],
   "source": [
    "test(l3,l4)"
   ]
  },
  {
   "cell_type": "code",
   "execution_count": 5,
   "id": "cfdf6980",
   "metadata": {
    "ExecuteTime": {
     "end_time": "2023-09-07T05:57:53.094691Z",
     "start_time": "2023-09-07T05:57:53.079175Z"
    }
   },
   "outputs": [
    {
     "data": {
      "text/plain": [
       "'no'"
      ]
     },
     "execution_count": 5,
     "metadata": {},
     "output_type": "execute_result"
    }
   ],
   "source": [
    "test(l5,l6)"
   ]
  },
  {
   "cell_type": "markdown",
   "id": "45666fb7",
   "metadata": {},
   "source": [
    "***Question 2***** Given an array A of positive integers. Your task is to find the leaders in the array. An element of array is leader if it is greater than or equal to all the elements to its right side. The rightmost element is always a leader.\n",
    "\n",
    "Input: n = 6 A[] = {16,17,4,3,5,2} Output: 17 5 2 Explanation: The first leader is 17 as it is greater than all the elements to its right. Similarly, the next leader is 5. The right most element is always a leader so it is also included.\n",
    "\n",
    "Input: n = 5 A[] = {1,2,3,4,0} Output: 4 0 Expected Time Complexity: O(n)"
   ]
  },
  {
   "cell_type": "code",
   "execution_count": null,
   "id": "d01692f2",
   "metadata": {
    "ExecuteTime": {
     "end_time": "2023-07-26T15:07:40.326286Z",
     "start_time": "2023-07-26T15:07:40.316039Z"
    }
   },
   "outputs": [],
   "source": [
    "l,x=[16,17,4,3,5,2],[1,2,3,4,0]"
   ]
  },
  {
   "cell_type": "code",
   "execution_count": null,
   "id": "778e1c52",
   "metadata": {
    "ExecuteTime": {
     "end_time": "2023-07-26T15:08:53.696291Z",
     "start_time": "2023-07-26T15:08:53.682960Z"
    }
   },
   "outputs": [],
   "source": [
    "def test1(l):\n",
    "    a=max(l)\n",
    "    b=l.index(max(l))\n",
    "    c=max(l[b+1:])\n",
    "    d=l[-1]\n",
    "    return set((a,c,d))\n",
    "        "
   ]
  },
  {
   "cell_type": "code",
   "execution_count": null,
   "id": "5ed25c71",
   "metadata": {
    "ExecuteTime": {
     "end_time": "2023-07-26T15:08:54.116828Z",
     "start_time": "2023-07-26T15:08:54.108829Z"
    }
   },
   "outputs": [],
   "source": [
    "test1(l)"
   ]
  },
  {
   "cell_type": "code",
   "execution_count": null,
   "id": "2ae3d33d",
   "metadata": {
    "ExecuteTime": {
     "end_time": "2023-07-26T15:08:55.719002Z",
     "start_time": "2023-07-26T15:08:55.699441Z"
    }
   },
   "outputs": [],
   "source": [
    "test1(x)"
   ]
  },
  {
   "cell_type": "markdown",
   "id": "ba63b4ff",
   "metadata": {},
   "source": [
    "****Question 3** Given an array of integers, find the length of the longest sub-sequence such that elements in the subsequence are consecutive integers, the consecutive numbers can be in any order. Input: arr[] = {1, 9, 3, 10, 4, 20, 2} Output: 4 Explanation: The subsequence 1, 3, 4, 2 is the longest subsequence of consecutive elements\n",
    "\n",
    "Input: arr[] = {36, 41, 56, 35, 44, 33, 34, 92, 43, 32, 42} Output: 5 Explanation: The subsequence 36, 35, 33, 34, 32 is the longest subsequence of consecutive elements."
   ]
  },
  {
   "cell_type": "code",
   "execution_count": 1,
   "id": "8e8094fc",
   "metadata": {
    "ExecuteTime": {
     "end_time": "2023-11-24T04:44:14.222532Z",
     "start_time": "2023-11-24T04:44:14.204984Z"
    }
   },
   "outputs": [
    {
     "data": {
      "text/plain": [
       "1"
      ]
     },
     "execution_count": 1,
     "metadata": {},
     "output_type": "execute_result"
    }
   ],
   "source": [
    "l=[1, 3, 4, 2]\n",
    "def test3(l):\n",
    "    l=sorted(l)\n",
    "    counter=0\n",
    "    i=0\n",
    "    for i in range(len(l)-1):\n",
    "        if l[i]+1==l[i+1]:\n",
    "            counter=+1        \n",
    "    return counter\n",
    "test3(l)       "
   ]
  },
  {
   "cell_type": "code",
   "execution_count": 4,
   "id": "c05dffb1",
   "metadata": {
    "ExecuteTime": {
     "end_time": "2023-11-24T04:44:26.055528Z",
     "start_time": "2023-11-24T04:44:26.047492Z"
    }
   },
   "outputs": [
    {
     "data": {
      "text/plain": [
       "1"
      ]
     },
     "execution_count": 4,
     "metadata": {},
     "output_type": "execute_result"
    }
   ],
   "source": [
    "test3(l)"
   ]
  },
  {
   "cell_type": "code",
   "execution_count": 11,
   "id": "31abd91f",
   "metadata": {
    "ExecuteTime": {
     "end_time": "2023-12-01T04:33:47.169146Z",
     "start_time": "2023-12-01T04:33:47.149146Z"
    }
   },
   "outputs": [
    {
     "data": {
      "text/plain": [
       "5"
      ]
     },
     "execution_count": 11,
     "metadata": {},
     "output_type": "execute_result"
    }
   ],
   "source": [
    "n=14526\n",
    "def test(n):\n",
    "    if n<1:\n",
    "        return 0\n",
    "    counter=0\n",
    "    while n>0: \n",
    "        counter+=1\n",
    "        n//=10\n",
    " \n",
    "    return counter\n",
    "test(n)"
   ]
  },
  {
   "cell_type": "code",
   "execution_count": 18,
   "id": "92a2237f",
   "metadata": {
    "ExecuteTime": {
     "end_time": "2023-12-01T04:56:28.375758Z",
     "start_time": "2023-12-01T04:56:28.367729Z"
    }
   },
   "outputs": [
    {
     "data": {
      "text/plain": [
       "[1, 1, 2, 3, 4, 9, 10, 12, 13, 20]"
      ]
     },
     "execution_count": 18,
     "metadata": {},
     "output_type": "execute_result"
    }
   ],
   "source": [
    "l=[1, 9, 3, 10, 4, 20, 2,1,12,13]\n",
    "l=sorted(l)\n",
    "l"
   ]
  },
  {
   "cell_type": "code",
   "execution_count": 19,
   "id": "16dec8e0",
   "metadata": {
    "ExecuteTime": {
     "end_time": "2023-12-01T04:56:28.905395Z",
     "start_time": "2023-12-01T04:56:28.881880Z"
    }
   },
   "outputs": [
    {
     "ename": "TypeError",
     "evalue": "'<' not supported between instances of 'list' and 'int'",
     "output_type": "error",
     "traceback": [
      "\u001b[1;31m---------------------------------------------------------------------------\u001b[0m",
      "\u001b[1;31mTypeError\u001b[0m                                 Traceback (most recent call last)",
      "\u001b[1;32m~\\AppData\\Local\\Temp\\ipykernel_17732\\3368006855.py\u001b[0m in \u001b[0;36m<module>\u001b[1;34m\u001b[0m\n\u001b[0;32m      7\u001b[0m             \u001b[0mb\u001b[0m\u001b[1;33m=\u001b[0m\u001b[0mmax\u001b[0m\u001b[1;33m(\u001b[0m\u001b[0ma\u001b[0m\u001b[1;33m,\u001b[0m\u001b[0mb\u001b[0m\u001b[1;33m)\u001b[0m\u001b[1;33m\u001b[0m\u001b[1;33m\u001b[0m\u001b[0m\n\u001b[0;32m      8\u001b[0m     \u001b[1;32mreturn\u001b[0m \u001b[0mb\u001b[0m\u001b[1;33m\u001b[0m\u001b[1;33m\u001b[0m\u001b[0m\n\u001b[1;32m----> 9\u001b[1;33m \u001b[0mtest\u001b[0m\u001b[1;33m(\u001b[0m\u001b[0ml\u001b[0m\u001b[1;33m)\u001b[0m\u001b[1;33m\u001b[0m\u001b[1;33m\u001b[0m\u001b[0m\n\u001b[0m",
      "\u001b[1;32m~\\AppData\\Local\\Temp\\ipykernel_17732\\928769662.py\u001b[0m in \u001b[0;36mtest\u001b[1;34m(n)\u001b[0m\n\u001b[0;32m      1\u001b[0m \u001b[1;32mdef\u001b[0m \u001b[0mtest\u001b[0m\u001b[1;33m(\u001b[0m\u001b[0mn\u001b[0m\u001b[1;33m)\u001b[0m\u001b[1;33m:\u001b[0m\u001b[1;33m\u001b[0m\u001b[1;33m\u001b[0m\u001b[0m\n\u001b[1;32m----> 2\u001b[1;33m     \u001b[1;32mif\u001b[0m \u001b[0mn\u001b[0m\u001b[1;33m<\u001b[0m\u001b[1;36m1\u001b[0m\u001b[1;33m:\u001b[0m\u001b[1;33m\u001b[0m\u001b[1;33m\u001b[0m\u001b[0m\n\u001b[0m\u001b[0;32m      3\u001b[0m         \u001b[1;32mreturn\u001b[0m \u001b[1;32mFalse\u001b[0m\u001b[1;33m\u001b[0m\u001b[1;33m\u001b[0m\u001b[0m\n\u001b[0;32m      4\u001b[0m     \u001b[0mb\u001b[0m\u001b[1;33m=\u001b[0m\u001b[1;36m0\u001b[0m\u001b[1;33m\u001b[0m\u001b[1;33m\u001b[0m\u001b[0m\n\u001b[0;32m      5\u001b[0m     \u001b[0ma\u001b[0m\u001b[1;33m=\u001b[0m\u001b[0mn\u001b[0m\u001b[1;33m\u001b[0m\u001b[1;33m\u001b[0m\u001b[0m\n",
      "\u001b[1;31mTypeError\u001b[0m: '<' not supported between instances of 'list' and 'int'"
     ]
    }
   ],
   "source": [
    "\n",
    "def test3(l):\n",
    "    a=0\n",
    "    b=1\n",
    "    for i in range(1,len(l)):\n",
    "        if l[i]==l[i-1]+1:\n",
    "            a=a+1\n",
    "            b=max(a,b)\n",
    "    return b\n",
    "test(l)"
   ]
  },
  {
   "cell_type": "code",
   "execution_count": null,
   "id": "5afe31e0",
   "metadata": {
    "ExecuteTime": {
     "end_time": "2023-07-27T06:05:50.305158Z",
     "start_time": "2023-07-27T06:05:50.300656Z"
    }
   },
   "outputs": [],
   "source": [
    "test3(l)"
   ]
  },
  {
   "cell_type": "markdown",
   "id": "c8593202",
   "metadata": {},
   "source": [
    "***Question 4**** Given an unsorted array Arr of size N of positive integers. One number 'A' from set {1, 2, …N} is missing and one number 'B' occurs twice in array. Find these two numbers. Input: N = 2 Arr[] = {2, 2} Output: 2 1 Explanation: Repeating number is 2 and smallest positive missing number is 1. Input: N = 4 Arr[] = {1, 3, 3} Output: 3 2 Explanation: Repeating number is 3 and smallest positive missing number is 2.s"
   ]
  },
  {
   "cell_type": "code",
   "execution_count": 9,
   "id": "d951e603",
   "metadata": {
    "ExecuteTime": {
     "end_time": "2023-11-16T13:34:13.027468Z",
     "start_time": "2023-11-16T13:34:13.015866Z"
    }
   },
   "outputs": [],
   "source": [
    "l1=[1,3,3]\n",
    "l2=[2,2]\n",
    "l3=[]\n",
    "def test(l):\n",
    "    l=sorted(l)\n",
    "    for i in range(len(l)-1):\n",
    "            if l[i]==l[i+1]:\n",
    "                print(l[i])\n",
    "   # b=l.index(a)\n",
    "\n",
    "    "
   ]
  },
  {
   "cell_type": "code",
   "execution_count": 10,
   "id": "0ed9f013",
   "metadata": {
    "ExecuteTime": {
     "end_time": "2023-11-16T13:34:16.311606Z",
     "start_time": "2023-11-16T13:34:16.300258Z"
    }
   },
   "outputs": [],
   "source": [
    "test(l3)"
   ]
  },
  {
   "cell_type": "code",
   "execution_count": 5,
   "id": "10a9ecf0",
   "metadata": {
    "ExecuteTime": {
     "end_time": "2023-11-24T04:45:17.660955Z",
     "start_time": "2023-11-24T04:45:17.641957Z"
    }
   },
   "outputs": [],
   "source": [
    "l=[1,3,3]\n",
    "l=sorted(l)\n",
    "for i in range(len(l)-1):\n",
    "        if l[i]==l[i+1]:\n",
    "            a=l[i]\n",
    "b=l.index(a)\n",
    "for i in range(len(l[:b])):\n",
    "    if l[i]+1!=l[i+1]:\n",
    "        c=l[i]+1\n",
    "\n",
    "           "
   ]
  },
  {
   "cell_type": "code",
   "execution_count": 6,
   "id": "994e6d48",
   "metadata": {
    "ExecuteTime": {
     "end_time": "2023-11-24T04:45:19.262266Z",
     "start_time": "2023-11-24T04:45:19.247269Z"
    }
   },
   "outputs": [
    {
     "data": {
      "text/plain": [
       "(3, 1, 2)"
      ]
     },
     "execution_count": 6,
     "metadata": {},
     "output_type": "execute_result"
    }
   ],
   "source": [
    "a,b,c"
   ]
  },
  {
   "cell_type": "code",
   "execution_count": null,
   "id": "d1cc5f26",
   "metadata": {},
   "outputs": [],
   "source": [
    "Write a SQL query to find all numbers that appear at least three times consecutively.\n",
    "Ex 1 +----+-----+ | Id | Num | +----+-----+ | 1 | 1 | | 2 | 1 | | 3 | 1 | | 4 | 2 | | 5 | 1 |\n",
    "\n",
    "given the above Logs table, 1 is the only number that appears consecutively for at least three times.\n",
    "\n",
    "Write a SQL query to get the nth highest salary from the Employee table.\n",
    "+----+--------+ | Id | Salary | +----+--------+ | 1 | 100 | | 2 | 200 | | 3 | 300 |\n",
    "\n",
    "For example, given the above Employee table, the nth highest salary where n = 2 is 200. \n",
    "If there is no nth highest salary, then the query should return null."
   ]
  },
  {
   "cell_type": "code",
   "execution_count": null,
   "id": "616921c4",
   "metadata": {},
   "outputs": [],
   "source": [
    "Write a SQL query to find all numbers that appear at least three times consecutively.\n",
    "Ex 1 +----+-----+ | Id | Num | +----+-----+ | 1 | 1 | | 2 | 1 | | 3 | 1 | | 4 | 2 | | 5 | 1 |\n",
    "given the above Logs table, 1 is the only number that appears consecutively for at least three times.\n",
    "\n",
    "select * from logs(select *,row_number() over(partition by numbers)from logs) rn where rn>2"
   ]
  },
  {
   "cell_type": "code",
   "execution_count": null,
   "id": "ef7df843",
   "metadata": {},
   "outputs": [],
   "source": [
    "select * first_value(salary, n) over(order by salary)"
   ]
  },
  {
   "cell_type": "code",
   "execution_count": null,
   "id": "44839145",
   "metadata": {},
   "outputs": [],
   "source": [
    "SELECT DISTINCT Salary\n",
    "FROM Employee\n",
    "ORDER BY Salary DESC\n",
    "LIMIT 1 OFFSET n-1;"
   ]
  },
  {
   "cell_type": "code",
   "execution_count": null,
   "id": "9c3d4fa0",
   "metadata": {},
   "outputs": [],
   "source": [
    "SELECT Salary\n",
    "FROM (\n",
    "    SELECT Salary, DENSE_RANK() OVER (ORDER BY Salary DESC) as rank\n",
    "    FROM Employee\n",
    ") AS ranked_salaries\n",
    "WHERE rank = n;"
   ]
  },
  {
   "cell_type": "code",
   "execution_count": null,
   "id": "6b104204",
   "metadata": {},
   "outputs": [],
   "source": [
    "SELECT DISTINCT FIRST_VALUE(Salary) OVER (ORDER BY Salary DESC) as NthHighestSalary\n",
    "FROM Employee\n",
    "OFFSET n-1 ROWS\n",
    "FETCH NEXT 1 ROWS ONLY;"
   ]
  },
  {
   "cell_type": "code",
   "execution_count": null,
   "id": "fdf1ec23",
   "metadata": {
    "ExecuteTime": {
     "end_time": "2023-07-27T07:22:53.283560Z",
     "start_time": "2023-07-27T07:22:53.268550Z"
    }
   },
   "outputs": [],
   "source": [
    "list(map(lambda x,y:x+y,[1,2,3],[4,5,6]))"
   ]
  },
  {
   "cell_type": "markdown",
   "id": "9d048876",
   "metadata": {},
   "source": [
    "Question 1: Write a Python program to take an input string and return true iff the string contains only alphabets,\n",
    "numbers and underscores.\n",
    "Question 2: Define a class Person and two child classes: Male and Female. All classes have a method \"getGender\" which can print \"Male\" for Male class and \"Female\" for Female class.\n",
    "Question 3: Write a Python program to get the maximum and minimum value in a dictionary\n",
    "(consider my_dict = {'x':500, 'y':5874, 'z': 560}) \n",
    "Question 4: Write a function named \"check\" whose task is to check if every vowel is present in the input string or not. We consider a vowel to be present if it is present in upper case or lower case. i.e. ‘a’, ‘e’, ‘i’.’o’, ‘u’ or ‘A’, ‘E’, ‘I’, ‘O’, ‘U’ . The function should print \"accepted\" when the input string to the function has all the vowels otherwise it should print \"Not Accepted\". Then run function \"check\" with input string as \"SEEquoiaL\" \n",
    "Question 5: Print all elements which occurs three consecutive times in any Input list.\n",
    "Ex.\n",
    "input :\n",
    "[1, 1, 1, 64, 23, 64, 22, 22, 22]\n",
    "output :\n",
    "1\n",
    "22 \n",
    "Question 6: Write a python program to find the longest word/s in the following string:\n",
    "str = \"What is Python language? Python is a widely used high-level, general-purpose, interpreted, dynamic programming language. Its design philosophy emphasizes code readability, and its syntax allows programmers to express concepts in fewer lines of code than possible in languages such as C++ or Java. Python supports multiple programming paradigms, including object-oriented, imperative and functional programming or procedural styles.It features a dynamic type system and automatic memory management and has a large and comprehensive standard library.The best way we learn anything is by practice and exercise questions. We have started this section for those (beginner to intermediate) who are familiar with Python.\"\n",
    "Question 7: Write a program to solve a classic ancient Chinese puzzle: We count 35 heads and 94 legs among the chickens and rabbits in a farm. How many rabbits and how many chickens do we have?\n",
    "Question 8: Write a program to generate all possible sentences in the following format: Subject-Verb-Object.\n",
    "Subject: [\"I\", \"You\"]\n",
    "Verb: [\"Play\", \"Love\"]\n",
    "Object: [\"Hockey\",\"Football\"]\n",
    "Example sentences:\n",
    "I Play Hockey.\n",
    "You Love Football"
   ]
  },
  {
   "cell_type": "code",
   "execution_count": 65,
   "id": "595892ab",
   "metadata": {
    "ExecuteTime": {
     "end_time": "2023-07-27T10:48:00.641148Z",
     "start_time": "2023-07-27T10:48:00.631144Z"
    }
   },
   "outputs": [
    {
     "name": "stdout",
     "output_type": "stream",
     "text": [
      "12 23\n"
     ]
    }
   ],
   "source": [
    "n=35\n",
    "for x in range(35):\n",
    "    y=n-x\n",
    "    if 4*x+2*y==94 and x+y==35:\n",
    "        print(x,y)\n",
    "    "
   ]
  },
  {
   "cell_type": "code",
   "execution_count": 7,
   "id": "b32b678e",
   "metadata": {
    "ExecuteTime": {
     "end_time": "2023-11-24T04:58:07.072907Z",
     "start_time": "2023-11-24T04:58:07.065908Z"
    }
   },
   "outputs": [],
   "source": [
    "s = \"What is Python language? Python is a widely used high-level, general-purpose, interpreted, dynamic programming language. Its design philosophy emphasizes code readability, and its syntax allows programmers to express concepts in fewer lines of code than possible in languages such as C++ or Java. Python supports multiple programming paradigms, including object-oriented, imperative and functional programming or procedural styles.It features a dynamic type system and automatic memory management and has a large and comprehensive standard library.The best way we learn anything is by practice and exercise questions. We have started this section for those (beginner to intermediate) who are familiar with Python.\""
   ]
  },
  {
   "cell_type": "code",
   "execution_count": 60,
   "id": "39fde5a6",
   "metadata": {
    "ExecuteTime": {
     "end_time": "2023-07-27T10:41:59.867314Z",
     "start_time": "2023-07-27T10:41:59.854882Z"
    }
   },
   "outputs": [
    {
     "name": "stdout",
     "output_type": "stream",
     "text": [
      "16\n",
      "general-purpose,\n",
      "object-oriented,\n"
     ]
    }
   ],
   "source": [
    "a=1\n",
    "for i in s.split(' '):\n",
    "    if a<len(i):\n",
    "        a=len(i)\n",
    "print(a)\n",
    "for i in s.split(' '):\n",
    "    if len(i)==16:\n",
    "        print(i)"
   ]
  },
  {
   "cell_type": "code",
   "execution_count": 29,
   "id": "49a3ea31",
   "metadata": {
    "ExecuteTime": {
     "end_time": "2023-07-27T10:04:14.599611Z",
     "start_time": "2023-07-27T10:04:14.583830Z"
    }
   },
   "outputs": [],
   "source": [
    "my_dict = {'x':500, 'y':5874, 'z': 560}"
   ]
  },
  {
   "cell_type": "code",
   "execution_count": 31,
   "id": "8d9ec47d",
   "metadata": {
    "ExecuteTime": {
     "end_time": "2023-07-27T10:04:34.834781Z",
     "start_time": "2023-07-27T10:04:34.821902Z"
    }
   },
   "outputs": [
    {
     "data": {
      "text/plain": [
       "500"
      ]
     },
     "execution_count": 31,
     "metadata": {},
     "output_type": "execute_result"
    }
   ],
   "source": [
    "min(my_dict.values())"
   ]
  },
  {
   "cell_type": "code",
   "execution_count": 7,
   "id": "0ad47611",
   "metadata": {
    "ExecuteTime": {
     "end_time": "2023-07-28T07:36:56.262879Z",
     "start_time": "2023-07-28T07:36:56.242871Z"
    }
   },
   "outputs": [
    {
     "name": "stdout",
     "output_type": "stream",
     "text": [
      "A\n",
      "E\n",
      "I\n",
      "O\n",
      "U\n"
     ]
    }
   ],
   "source": [
    "a='SEEquoiaL'\n",
    "b='aeiouAEIOU'\n",
    "for i in b:\n",
    "    if i not in a.lower():\n",
    "        print(i)"
   ]
  },
  {
   "cell_type": "code",
   "execution_count": 8,
   "id": "9654d7f0",
   "metadata": {
    "ExecuteTime": {
     "end_time": "2023-07-28T07:36:56.650159Z",
     "start_time": "2023-07-28T07:36:56.632178Z"
    }
   },
   "outputs": [
    {
     "data": {
      "text/plain": [
       "'seequoial'"
      ]
     },
     "execution_count": 8,
     "metadata": {},
     "output_type": "execute_result"
    }
   ],
   "source": [
    "a.lower()"
   ]
  },
  {
   "cell_type": "code",
   "execution_count": 6,
   "id": "d2b6d8c4",
   "metadata": {
    "ExecuteTime": {
     "end_time": "2023-07-28T07:36:34.670524Z",
     "start_time": "2023-07-28T07:36:34.655380Z"
    }
   },
   "outputs": [
    {
     "data": {
      "text/plain": [
       "True"
      ]
     },
     "execution_count": 6,
     "metadata": {},
     "output_type": "execute_result"
    }
   ],
   "source": [
    "all(i in a.lower() for i in b.lower())"
   ]
  },
  {
   "cell_type": "code",
   "execution_count": 43,
   "id": "85b07882",
   "metadata": {
    "ExecuteTime": {
     "end_time": "2023-07-27T10:35:05.781790Z",
     "start_time": "2023-07-27T10:35:05.769968Z"
    }
   },
   "outputs": [],
   "source": [
    "pattern=re.compile(r'[aeiou]')"
   ]
  },
  {
   "cell_type": "code",
   "execution_count": 55,
   "id": "6f9ce812",
   "metadata": {
    "ExecuteTime": {
     "end_time": "2023-07-27T10:38:56.942265Z",
     "start_time": "2023-07-27T10:38:56.932273Z"
    }
   },
   "outputs": [
    {
     "data": {
      "text/plain": [
       "True"
      ]
     },
     "execution_count": 55,
     "metadata": {},
     "output_type": "execute_result"
    }
   ],
   "source": [
    "a='SEEquoiaL'\n",
    "a=a.lower()\n",
    "vowels = {'a', 'e', 'i', 'o', 'u'}\n",
    "vowels.issubset(set(a))"
   ]
  },
  {
   "cell_type": "code",
   "execution_count": 51,
   "id": "c7c03ae5",
   "metadata": {
    "ExecuteTime": {
     "end_time": "2023-07-27T10:36:55.494751Z",
     "start_time": "2023-07-27T10:36:55.475722Z"
    }
   },
   "outputs": [
    {
     "data": {
      "text/plain": [
       "'ueoai'"
      ]
     },
     "execution_count": 51,
     "metadata": {},
     "output_type": "execute_result"
    }
   ],
   "source": [
    "s"
   ]
  },
  {
   "cell_type": "code",
   "execution_count": null,
   "id": "55e1f5b9",
   "metadata": {},
   "outputs": [],
   "source": []
  },
  {
   "cell_type": "code",
   "execution_count": 1,
   "id": "bec1df9e",
   "metadata": {
    "ExecuteTime": {
     "end_time": "2023-11-06T10:01:40.808055Z",
     "start_time": "2023-11-06T10:01:40.761082Z"
    }
   },
   "outputs": [
    {
     "name": "stdout",
     "output_type": "stream",
     "text": [
      "yes\n"
     ]
    }
   ],
   "source": [
    "import string\n",
    "\n",
    "s = 'hi im the one to take the charge123_ '\n",
    "a = string.ascii_letters + string.digits + '_' + ' '\n",
    "\n",
    "if all(char in a for char in s):\n",
    "    print('yes')\n",
    "else:\n",
    "    print('no')"
   ]
  },
  {
   "cell_type": "code",
   "execution_count": 2,
   "id": "7d29251c",
   "metadata": {
    "ExecuteTime": {
     "end_time": "2023-11-06T10:01:43.767429Z",
     "start_time": "2023-11-06T10:01:43.744429Z"
    }
   },
   "outputs": [
    {
     "data": {
      "text/plain": [
       "'abcdefghijklmnopqrstuvwxyzABCDEFGHIJKLMNOPQRSTUVWXYZ0123456789 '"
      ]
     },
     "execution_count": 2,
     "metadata": {},
     "output_type": "execute_result"
    }
   ],
   "source": [
    "a=string.ascii_letters+string.digits+_+' '\n",
    "a"
   ]
  },
  {
   "cell_type": "code",
   "execution_count": 3,
   "id": "46c8c43a",
   "metadata": {
    "ExecuteTime": {
     "end_time": "2023-11-06T10:01:45.952426Z",
     "start_time": "2023-11-06T10:01:45.937427Z"
    }
   },
   "outputs": [
    {
     "data": {
      "text/plain": [
       "False"
      ]
     },
     "execution_count": 3,
     "metadata": {},
     "output_type": "execute_result"
    }
   ],
   "source": [
    " all(i not in a  for i in s)"
   ]
  },
  {
   "cell_type": "code",
   "execution_count": 9,
   "id": "6fdea4f5",
   "metadata": {
    "ExecuteTime": {
     "end_time": "2023-11-06T10:02:31.586248Z",
     "start_time": "2023-11-06T10:02:31.566241Z"
    }
   },
   "outputs": [
    {
     "data": {
      "text/plain": [
       "[]"
      ]
     },
     "execution_count": 9,
     "metadata": {},
     "output_type": "execute_result"
    }
   ],
   "source": [
    "import re \n",
    "pattern = re.compile(r'[^a-zA-Z0-9_ ]')\n",
    "pattern.findall(s)"
   ]
  },
  {
   "cell_type": "code",
   "execution_count": 23,
   "id": "2d7505f2",
   "metadata": {
    "ExecuteTime": {
     "end_time": "2023-07-27T09:54:48.550459Z",
     "start_time": "2023-07-27T09:54:48.546790Z"
    }
   },
   "outputs": [
    {
     "name": "stdout",
     "output_type": "stream",
     "text": [
      "True\n"
     ]
    }
   ],
   "source": [
    "import re \n",
    "pattern = re.compile(r'[^a-zA-Z0-9_ ]')   # other than digits,letters,_,  rest all things will be stored in pattern\n",
    "s='hi im the one to take the charge123_'\n",
    "for i in s:\n",
    "    if re.match(pattern,i):  # it checks if any match with pattern\n",
    "        print(False)\n",
    "        break\n",
    "    \n",
    "print(True)"
   ]
  },
  {
   "cell_type": "code",
   "execution_count": 14,
   "id": "5a2de69d",
   "metadata": {
    "ExecuteTime": {
     "end_time": "2023-07-27T09:51:40.657925Z",
     "start_time": "2023-07-27T09:51:40.638566Z"
    }
   },
   "outputs": [
    {
     "name": "stdout",
     "output_type": "stream",
     "text": [
      "hi im the one to take the charge123_"
     ]
    }
   ],
   "source": [
    "import re \n",
    "pattern = re.compile(r'[a-zA-Z0-9_ ]')\n",
    "s='hi im the one to take the charge123_'\n",
    "for i in s:\n",
    "    if re.match(pattern,i):\n",
    "        print(i,end='')"
   ]
  },
  {
   "cell_type": "code",
   "execution_count": null,
   "id": "247ddcdc",
   "metadata": {},
   "outputs": [],
   "source": [
    "Question 1: Write a Python program to take an input string and return true if the string contains only alphabets,\n",
    "numbers and underscores.\n",
    "Question 2: Define a class Person and two child classes: Male and Female. All classes have a method \"getGender\" which can print \"Male\" for Male class and \"Female\" for Female class.\n",
    "Question 3: Write a Python program to get the maximum and minimum value in a dictionary\n",
    "(consider my_dict = {'x':500, 'y':5874, 'z': 560}) \n",
    "Question 4: Write a function named \"check\" whose task is to check if every vowel is present in the input string or not. We consider a vowel to be present if it is present in upper case or lower case. i.e. ‘a’, ‘e’, ‘i’.’o’, ‘u’ or ‘A’, ‘E’, ‘I’, ‘O’, ‘U’ . The function should print \"accepted\" when the input string to the function has all the vowels otherwise it should print \"Not Accepted\". Then run function \"check\" with input string as \"SEEquoiaL\" \n",
    "Question 5: Print all elements which occurs three consecutive times in any Input list.\n",
    "Ex.\n",
    "input :\n",
    "[1, 1, 1, 64, 23, 64, 22, 22, 22]\n",
    "output :\n",
    "1\n",
    "22 \n",
    "Question 6: Write a python program to find the longest word/s in the following string:\n",
    "str = \"What is Python language? Python is a widely used high-level, general-purpose, interpreted, dynamic programming language. Its design philosophy emphasizes code readability, and its syntax allows programmers to express concepts in fewer lines of code than possible in languages such as C++ or Java. Python supports multiple programming paradigms, including object-oriented, imperative and functional programming or procedural styles.It features a dynamic type system and automatic memory management and has a large and comprehensive standard library.The best way we learn anything is by practice and exercise questions. We have started this section for those (beginner to intermediate) who are familiar with Python.\"\n",
    "Question 7: Write a program to solve a classic ancient Chinese puzzle: We count 35 heads and 94 legs among the chickens and rabbits in a farm. How many rabbits and how many chickens do we have?\n",
    "Question 8: Write a program to generate all possible sentences in the following format: Subject-Verb-Object.\n",
    "Subject: [\"I\", \"You\"]\n",
    "Verb: [\"Play\", \"Love\"]\n",
    "Object: [\"Hockey\",\"Football\"]\n",
    "Example sentences:\n",
    "I Play Hockey.\n",
    "You Love Football"
   ]
  },
  {
   "cell_type": "code",
   "execution_count": 21,
   "id": "949d36c1",
   "metadata": {
    "ExecuteTime": {
     "end_time": "2023-12-01T05:36:41.804000Z",
     "start_time": "2023-12-01T05:36:41.788477Z"
    }
   },
   "outputs": [],
   "source": [
    "s='hello we are trying to reach you 123'"
   ]
  },
  {
   "cell_type": "code",
   "execution_count": 22,
   "id": "70db5f2e",
   "metadata": {
    "ExecuteTime": {
     "end_time": "2023-12-01T05:36:43.235810Z",
     "start_time": "2023-12-01T05:36:43.221911Z"
    }
   },
   "outputs": [],
   "source": [
    "import string\n",
    "a=string.ascii_letters+string.digits+'_'+' '"
   ]
  },
  {
   "cell_type": "code",
   "execution_count": 23,
   "id": "d644e3ee",
   "metadata": {
    "ExecuteTime": {
     "end_time": "2023-12-01T05:36:44.231783Z",
     "start_time": "2023-12-01T05:36:44.219824Z"
    }
   },
   "outputs": [
    {
     "data": {
      "text/plain": [
       "'abcdefghijklmnopqrstuvwxyzABCDEFGHIJKLMNOPQRSTUVWXYZ0123456789_ '"
      ]
     },
     "execution_count": 23,
     "metadata": {},
     "output_type": "execute_result"
    }
   ],
   "source": [
    "a"
   ]
  },
  {
   "cell_type": "code",
   "execution_count": 24,
   "id": "29ecc030",
   "metadata": {
    "ExecuteTime": {
     "end_time": "2023-12-01T05:36:47.380869Z",
     "start_time": "2023-12-01T05:36:47.363059Z"
    }
   },
   "outputs": [
    {
     "data": {
      "text/plain": [
       "True"
      ]
     },
     "execution_count": 24,
     "metadata": {},
     "output_type": "execute_result"
    }
   ],
   "source": [
    "all(i in a for i in s)"
   ]
  },
  {
   "cell_type": "code",
   "execution_count": 25,
   "id": "920a71f1",
   "metadata": {
    "ExecuteTime": {
     "end_time": "2023-12-01T05:36:49.328038Z",
     "start_time": "2023-12-01T05:36:49.315674Z"
    }
   },
   "outputs": [],
   "source": [
    "import re \n",
    "pattern = re.compile('[^a-zA-Z0-9_ ]')\n",
    "for i in s:\n",
    "    if re.match(pattern,i):\n",
    "        print(i,end='')\n",
    "   "
   ]
  },
  {
   "cell_type": "code",
   "execution_count": 52,
   "id": "b04107db",
   "metadata": {
    "ExecuteTime": {
     "end_time": "2023-09-07T07:06:10.745561Z",
     "start_time": "2023-09-07T07:06:10.736565Z"
    }
   },
   "outputs": [],
   "source": [
    "a=[1, 1, 1, 64, 23, 64, 22, 22, 22]"
   ]
  },
  {
   "cell_type": "code",
   "execution_count": 54,
   "id": "37cdc10a",
   "metadata": {
    "ExecuteTime": {
     "end_time": "2023-09-07T07:08:01.537595Z",
     "start_time": "2023-09-07T07:08:01.527967Z"
    }
   },
   "outputs": [
    {
     "name": "stdout",
     "output_type": "stream",
     "text": [
      "1\n",
      "22\n"
     ]
    }
   ],
   "source": [
    "for i in range(len(a)-2): \n",
    "    if a[i]==a[i+1]==a[i+2]:\n",
    "        print(a[i])"
   ]
  },
  {
   "cell_type": "markdown",
   "id": "5b2140c6",
   "metadata": {},
   "source": [
    "****Question 1*** Given two arrays, arr1 and arr2 of equal length N, the task is to find if the given arrays are equal or not.\n",
    "\n",
    "Two arrays are said to be equal if: both of them contain the same set of elements, arrangements (or permutations) of elements might/might not be same. If there are repetitions, then counts of repeated elements must also be the same for two arrays to be equal.\n",
    "\n",
    "Input: arr1[] = {1, 2, 5, 4, 0}, arr2[] = {2, 4, 5, 0, 1} Output: Yes\n",
    "\n",
    "Input: arr1[] = {1, 2, 5, 4, 0, 2, 1}, arr2[] = {2, 4, 5, 0, 1, 1, 2} Output: Yes\n",
    "\n",
    "Input: arr1[] = {1, 7, 1}, arr2[] = {7, 7, 1} Output: No\n",
    "\n",
    "Expected Time Complexity = O(n)\n",
    "\n",
    "Question 2** Given an array A of positive integers. Your task is to find the leaders in the array. An element of array is leader if it is greater than or equal to all the elements to its right side. The rightmost element is always a leader.\n",
    "\n",
    "Input: n = 6 A[] = {16,17,4,3,5,2} Output: 17 5 2 Explanation: The first leader is 17 as it is greater than all the elements to its right. Similarly, the next leader is 5. The right most element is always a leader so it is also included.\n",
    "\n",
    "Input: n = 5 A[] = {1,2,3,4,0} Output: 4 0 Expected Time Complexity: O(n)\n",
    "\n",
    "****Question 3** Given an array of integers, find the length of the longest sub-sequence such that elements in the subsequence are consecutive integers, the consecutive numbers can be in any order. Input: arr[] = {1, 9, 3, 10, 4, 20, 2} Output: 4 Explanation: The subsequence 1, 3, 4, 2 is the longest subsequence of consecutive elements\n",
    "\n",
    "Input: arr[] = {36, 41, 56, 35, 44, 33, 34, 92, 43, 32, 42} Output: 5 Explanation: The subsequence 36, 35, 33, 34, 32 is the longest subsequence of consecutive elements.\n",
    "\n",
    "***Question 4**** Given an unsorted array Arr of size N of positive integers. One number 'A' from set {1, 2, …N} is missing and one number 'B' occurs twice in array. Find these two numbers. Input: N = 2 Arr[] = {2, 2} Output: 2 1 Explanation: Repeating number is 2 and smallest positive missing number is 1. Input: N = 4 Arr[] = {1, 3, 3} Output: 3 2 Explanation: Repeating number is 3 and smallest positive missing number is 2.s"
   ]
  },
  {
   "cell_type": "code",
   "execution_count": 2,
   "id": "ba4f4bb4",
   "metadata": {
    "ExecuteTime": {
     "end_time": "2023-09-17T15:32:10.727136Z",
     "start_time": "2023-09-17T15:32:10.703123Z"
    }
   },
   "outputs": [],
   "source": [
    "from itertools import *"
   ]
  },
  {
   "cell_type": "code",
   "execution_count": null,
   "id": "05b70532",
   "metadata": {},
   "outputs": [],
   "source": [
    "groupby,permutations,"
   ]
  },
  {
   "cell_type": "code",
   "execution_count": 4,
   "id": "dea612c9",
   "metadata": {
    "ExecuteTime": {
     "end_time": "2023-09-17T15:33:14.304598Z",
     "start_time": "2023-09-17T15:33:14.291850Z"
    }
   },
   "outputs": [
    {
     "name": "stdout",
     "output_type": "stream",
     "text": [
      "('a', 'b')\n",
      "('a', 'c')\n",
      "('a', 'd')\n",
      "('b', 'a')\n",
      "('b', 'c')\n",
      "('b', 'd')\n",
      "('c', 'a')\n",
      "('c', 'b')\n",
      "('c', 'd')\n",
      "('d', 'a')\n",
      "('d', 'b')\n",
      "('d', 'c')\n"
     ]
    }
   ],
   "source": [
    "for i in permutations(['a','b','c','d'],r=2):\n",
    "    print(i)"
   ]
  },
  {
   "cell_type": "code",
   "execution_count": 5,
   "id": "3471f4c8",
   "metadata": {
    "ExecuteTime": {
     "end_time": "2023-09-17T15:39:34.278001Z",
     "start_time": "2023-09-17T15:39:34.270854Z"
    }
   },
   "outputs": [
    {
     "name": "stdout",
     "output_type": "stream",
     "text": [
      "('a', 'b')\n",
      "('a', 'c')\n",
      "('a', 'd')\n",
      "('b', 'c')\n",
      "('b', 'd')\n",
      "('c', 'd')\n"
     ]
    }
   ],
   "source": [
    "for i in combinations(['a','b','c','d'],r=2):\n",
    "    print(i)"
   ]
  },
  {
   "cell_type": "code",
   "execution_count": 6,
   "id": "0ee35b16",
   "metadata": {
    "ExecuteTime": {
     "end_time": "2023-09-17T15:41:23.651433Z",
     "start_time": "2023-09-17T15:41:23.644788Z"
    }
   },
   "outputs": [
    {
     "name": "stdout",
     "output_type": "stream",
     "text": [
      "('a', 'a')\n",
      "('a', 'b')\n",
      "('a', 'c')\n",
      "('a', 'd')\n",
      "('b', 'b')\n",
      "('b', 'c')\n",
      "('b', 'd')\n",
      "('c', 'c')\n",
      "('c', 'd')\n",
      "('d', 'd')\n"
     ]
    }
   ],
   "source": [
    "for i in combinations_with_replacement(['a','b','c','d'],r=2):\n",
    "    print(i)"
   ]
  },
  {
   "cell_type": "code",
   "execution_count": 7,
   "id": "c59e8791",
   "metadata": {
    "ExecuteTime": {
     "end_time": "2023-09-17T15:47:13.379241Z",
     "start_time": "2023-09-17T15:47:13.368830Z"
    }
   },
   "outputs": [
    {
     "name": "stdout",
     "output_type": "stream",
     "text": [
      "10\n",
      "10\n",
      "10\n"
     ]
    }
   ],
   "source": [
    "for i in repeat(10,3):\n",
    "    print(i)"
   ]
  },
  {
   "cell_type": "code",
   "execution_count": 26,
   "id": "b8e1a65e",
   "metadata": {
    "ExecuteTime": {
     "end_time": "2023-09-17T16:00:30.525685Z",
     "start_time": "2023-09-17T16:00:30.506722Z"
    }
   },
   "outputs": [
    {
     "name": "stdout",
     "output_type": "stream",
     "text": [
      "2 _ 1\n",
      "1 _ 2\n",
      "1 _ 4\n",
      "1 _ 1\n",
      "1 _ 4\n",
      "1 _ 5\n",
      "1 _ 2\n",
      "1 _ 3\n",
      "1 _ 2\n",
      "1 _ 1\n"
     ]
    }
   ],
   "source": [
    "for i,j in groupby([1,1,2,4,1,4,5,2,3,2,1]):\n",
    "    print(len(list(j)),'_',i)"
   ]
  },
  {
   "cell_type": "markdown",
   "id": "f12e79c5",
   "metadata": {},
   "source": [
    "Given an array of integers nums and an integer target, return indices of the two numbers such that they add up to target.\n",
    "\n",
    "You may assume that each input would have exactly one solution, and you may not use the same element twice.\n",
    "\n",
    "You can return the answer in any order.\n",
    "\n",
    " \n",
    "\n",
    "Example 1:\n",
    "\n",
    "Input: nums = [2,7,11,15], target = 9\n",
    "Output: [0,1]\n",
    "Explanation: Because nums[0] + nums[1] == 9, we return [0, 1].\n",
    "Example 2:\n",
    "\n",
    "Input: nums = [3,2,4], target = 6\n",
    "Output: [1,2]\n",
    "Example 3:\n",
    "\n",
    "Input: nums = [3,3], target = 6\n",
    "Output: [0,1]"
   ]
  },
  {
   "cell_type": "code",
   "execution_count": 26,
   "id": "363d6135",
   "metadata": {
    "ExecuteTime": {
     "end_time": "2023-11-16T15:12:27.780056Z",
     "start_time": "2023-11-16T15:12:27.768060Z"
    }
   },
   "outputs": [
    {
     "data": {
      "text/plain": [
       "(1, 0)"
      ]
     },
     "execution_count": 26,
     "metadata": {},
     "output_type": "execute_result"
    }
   ],
   "source": [
    "nums = [2,7,11,15]\n",
    "target = 9 \n",
    "def test1(nums,target):\n",
    "    for i in nums:\n",
    "        a=target-i\n",
    "        if a in nums:\n",
    "            for j in nums:\n",
    "                if a+j == target and nums.index(a)!=nums.index(j):\n",
    "                    return nums.index(a),nums.index(j)\n",
    "test1(nums,target)"
   ]
  },
  {
   "cell_type": "code",
   "execution_count": 27,
   "id": "0b1645e0",
   "metadata": {
    "ExecuteTime": {
     "end_time": "2023-11-16T15:12:28.599722Z",
     "start_time": "2023-11-16T15:12:28.583722Z"
    }
   },
   "outputs": [
    {
     "data": {
      "text/plain": [
       "(2, 1)"
      ]
     },
     "execution_count": 27,
     "metadata": {},
     "output_type": "execute_result"
    }
   ],
   "source": [
    "nums = [3,2,4]\n",
    "target = 6\n",
    "test1(nums,target)"
   ]
  },
  {
   "cell_type": "code",
   "execution_count": 29,
   "id": "f9380668",
   "metadata": {
    "ExecuteTime": {
     "end_time": "2023-11-16T15:24:16.917286Z",
     "start_time": "2023-11-16T15:24:16.897288Z"
    }
   },
   "outputs": [
    {
     "data": {
      "text/plain": [
       "(0, 1)"
      ]
     },
     "execution_count": 29,
     "metadata": {},
     "output_type": "execute_result"
    }
   ],
   "source": [
    "def test1(nums,target):\n",
    "        for i in range(len(nums)):\n",
    "            a = target - nums[i]\n",
    "            if a in nums[i+1:]:\n",
    "                return i, nums.index(a, i+1)\n",
    "nums = [3,3]\n",
    "target = 6\n",
    "test1(nums,target)\n"
   ]
  },
  {
   "cell_type": "code",
   "execution_count": 16,
   "id": "4d4338b3",
   "metadata": {
    "ExecuteTime": {
     "end_time": "2023-12-01T04:47:49.077949Z",
     "start_time": "2023-12-01T04:47:49.068951Z"
    }
   },
   "outputs": [
    {
     "data": {
      "text/plain": [
       "False"
      ]
     },
     "execution_count": 16,
     "metadata": {},
     "output_type": "execute_result"
    }
   ],
   "source": [
    "def test(n):\n",
    "    if n<1:\n",
    "        return False\n",
    "    b=0\n",
    "    a=n\n",
    "    while n>0:\n",
    "        c=n%10\n",
    "        b=b*10+c\n",
    "        n//=10\n",
    "    if a==b: \n",
    "        return True\n",
    "    else:\n",
    "        return False\n",
    "n=1232\n",
    "test(n)      "
   ]
  },
  {
   "cell_type": "code",
   "execution_count": null,
   "id": "fdf0e54e",
   "metadata": {},
   "outputs": [],
   "source": []
  },
  {
   "cell_type": "code",
   "execution_count": null,
   "id": "3c8f7dca",
   "metadata": {},
   "outputs": [],
   "source": []
  },
  {
   "cell_type": "code",
   "execution_count": null,
   "id": "9b344c73",
   "metadata": {},
   "outputs": [],
   "source": []
  },
  {
   "cell_type": "code",
   "execution_count": null,
   "id": "a45a467f",
   "metadata": {},
   "outputs": [],
   "source": []
  },
  {
   "cell_type": "code",
   "execution_count": null,
   "id": "dbc045d2",
   "metadata": {},
   "outputs": [],
   "source": []
  },
  {
   "cell_type": "code",
   "execution_count": null,
   "id": "575e9843",
   "metadata": {},
   "outputs": [],
   "source": []
  },
  {
   "cell_type": "code",
   "execution_count": null,
   "id": "79de2715",
   "metadata": {},
   "outputs": [],
   "source": []
  }
 ],
 "metadata": {
  "kernelspec": {
   "display_name": "Python 3 (ipykernel)",
   "language": "python",
   "name": "python3"
  },
  "language_info": {
   "codemirror_mode": {
    "name": "ipython",
    "version": 3
   },
   "file_extension": ".py",
   "mimetype": "text/x-python",
   "name": "python",
   "nbconvert_exporter": "python",
   "pygments_lexer": "ipython3",
   "version": "3.9.13"
  }
 },
 "nbformat": 4,
 "nbformat_minor": 5
}
