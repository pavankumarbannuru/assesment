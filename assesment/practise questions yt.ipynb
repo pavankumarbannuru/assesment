{
 "cells": [
  {
   "cell_type": "markdown",
   "id": "147a9793",
   "metadata": {},
   "source": [
    "1. User will input (3ages).Find the oldest one\n",
    "2. Write a program that will convert celsius value to fahrenheit\n",
    "3. User will input (2numbers).Write a program to swap the numbers\n",
    "4. Write a program that will give you the sum of 3 digits\n",
    "5. Write a program that will reverse a four digit number.Also it checks whether the reverse is true.\n",
    "6. Write a program that will tell whether the number entered by the user is odd or even.\n",
    "7. Write a program that will tell whether the given year is a leap year or not.\n",
    "8. Write a program to find the euclidean distance between two coordinates.\n",
    "9. Write a program that take a user inputr of three angles and will find out whether it can form a triangle or not.\n",
    "10. Write a program that will take user input of cost price and selling price and determines whether its a loss or a profit\n",
    "11. Write a program to find the simple interest when the value of principle,rate of interest and time period is given.\n",
    "12. Write a program to find the volume of the cylinder. Also find the cost when ,when the cost of 1litre milk is 40Rs.\n",
    "13. Write  a program that will tell whether the given number is divisible by 3 & 6.\n",
    "https://practice.geeksforgeeks.org/problems/angle-between-hour-and-minute-hand0545/1?page=2&category[]=Mathematical&category[]=Numbers&category[]=number-theory&sortBy=submissions\n",
    "https://practice.geeksforgeeks.org/problems/overlapping-rectangles1924/1?page=3&category[]=Mathematical&category[]=Numbers&category[]=number-theory&sortBy=submissions\n",
    "14. Write a program that will determine weather when the value of temperature and humidity is provided by the user.\n",
    "TEMPERATURE(C)      HUMIDITY(%)      WEATHER\n",
    "\n",
    "      >= 30                             >=90                Hot and Humid\n",
    "      >= 30                             < 90                 Hot\n",
    "      <30                                >= 90               Cool and Humid\n",
    "      <30                                 <90                 Cool\n",
    "15. Write a program that will take three digits from the user and add the square of each digit.\n",
    "16. Write a program that will check whether the number is armstrong number or not.\n",
    "17. Write a program that will take user input of (4 digits number) and check whether the number is narcissist number or not.\n",
    "18. Write a program that will give you the in hand salary after deduction of HRA(10%),DA(5%),PF(3%), and tax(if salary is between 5-10 lakh–10%),(11-20lakh–20%),(20< _   – 30%)(0-1lakh print k).\n",
    "19. Write a menu driven program - 1.cm to ft  2.kl to miles  3.usd to inr  4.exit\n",
    "20. Write a program that will tell the number of dogs and chicken are there when the user will provide the value of total heads and legs.\n",
    "21. Write a program that will swap numbers\n",
    "22. Write a program to find the sum of first n numbers, where n will be provided by the user. Eg if the user provides n=10 the output should be 55.\n",
    "23. Write a program that can multiply 2 numbers provided by the user without using the * operator\n",
    "24. Write a program that can find the factorial of a given number provided by the user.\n",
    "25. Write a program to print the first 25 odd numbers\n",
    "26. Write a program to print whether a given number is prime number or not\n",
    "27. Print all the armstrong numbers in the range of 100 to 1000\n",
    "28. The current population of a town is 10000. The population of the town is increasing at the rate of 10% per year. You have to 29. write a program to find out the population at the end of each of the last 10 years. For eg current population is 10000 so the output should be like this:\n",
    "10th year - 10000\n",
    "9th year - 9000\n",
    "8th year - 8100 and so on\n",
    "30. Write a program to print all the unique combinations of 1,2,3 and 4\n",
    "User will provide 2 numbers you have to find the HCF of those 2 numbers\n",
    "User will provide 2 numbers you have to find the by LCM of those 2 numbers\n",
    "Print first 25 prime numbers\n",
    "Print the first 20 numbers of a Fibonacci series\n",
    "Write a program to find the compound interest \n",
    "Write a Python program that accepts an integer (n) and computes the value of n+nn+nnn.\n",
    "Take a number from the user and find the number of digits in it. \n",
    "Print all factors of a given number provided by the user.\n",
    "Find the reverse of a number provided by the user(any number of digit) \n",
    "Write a program to print the following pattern\n",
    "*\n",
    "**\n",
    "***\n",
    "****\n",
    "*****\n",
    "Write a program to print the following pattern\n",
    "*\n",
    "**\n",
    "***\n",
    "**\n",
    "*\n",
    "Write  a program to print the following pattern\n",
    "        *\n",
    "      * * *\n",
    "    * * * * *\n",
    "   * * * * * * *\n",
    "* * * * * * * * *\n",
    "\n",
    "Write a program to print the following pattern\n",
    "1\n",
    "1 2 1\n",
    "1 2 3 2 1\n",
    "1 2 3 4 3 2 1\n",
    "1 2 3 4 5 4 3 2 1\n",
    "Write a program to print the following pattern\n",
    "1\n",
    "2 3\n",
    "4 5 6\n",
    "7 8 9 10\n",
    "Write a program to calculate the sum of the following series till the nth term\n",
    "1/1! + 2/2! + 3/3! + 4/4! +…….+ n/n!\n",
    "n will be provided by the user\n",
    "Write a Python Program to Find the Sum of the Series till the nth term: \n",
    "1 + x^2/2 + x^3/3 + … x^n/n\n",
    "n will be provided by the user\n",
    "\n",
    "\n",
    "\n",
    "The natural logarithm can be approximated by the following series.\n",
    "\n",
    "If x is input through the keyboard, write a program to calculate the sum of the first seven terms of this series.\n",
    " Write a program that keeps on accepting a number from the user until the user enters Zero. Display the sum and average of all the numbers.\n",
    "Write a program that accepts 2 numbers from the user a numerator and a denominator and then simplifies it\n",
    "Eg if the num = 5, den = 15 the answer should be ⅓\n",
    "Eg if the num = 6, den = 9 the answer should be ⅔\n",
    "Find the length of a given string without using the len() function. \n",
    "Extract username from a given email. \n",
    "Eg if the email is nitish24singh@gmail.com then the username should be nitish24singh\n",
    "Count the frequency of a particular character in a provided string. Eg 'hello how are you' is the string, the frequency of h in this string is 2.\n",
    "Find the index position of a particular character in another string. \n",
    "Count the number of vowels in a string provided by the user.\n",
    "Write a program which can remove a particular character from a string. \n",
    "Write a program that can check whether a given string is palindrome or not.\n",
    "Write a python program to remove all the duplicates from a list\n",
    "Write a python program to convert a string to title case without using the title()\n",
    "Write a python program to find the max item from a list without using the max function\n",
    "Write a python program to reverse a list\n",
    "Write a python program to search a given number from a list\n",
    "Write a program that can create a new list from a given list where each item in the new list is square of the item of the old list\n",
    "Write a program that can reverse words of a given string.\n",
    "Eg if the input is Hello how are you\n",
    "Output should be you are how Hello\n",
    "Write a program that can count the number of words in a given string\n",
    "Write a program to check if a list is in ascending order or not\n",
    "Create 2 lists from a given list where 1st list will contain all the odd numbers from the original list and the 2nd one will contain all the even numbers \n",
    "Write a program to merge 2 list without using the + operator\n",
    "Write a program to replace an item with a different item if found in the list \n",
    "Write a program that can convert a 2D list to 1D listWrite a program that can print \n",
    "Write a program that can perform union and intersection on 2 given list. \n",
    "the max item of each row of a matrix. \n",
    "Write a program that can convert an integer to string. \n",
    "Write a program to print the shape of a matrix. \n",
    "Write a program that can check if you can perform matrix multiplication on 2 matrices \n",
    "Write a program to perform matrix multiplication on 2 matrices\n",
    "Write a program that can sort a given unsorted list. Dont use any built in function for sorting.\n",
    "Write a program that can find the most used word in a bollywood song\n",
    "Assume a list with numbers from 1 to 10 and then convert it into a dictionary where the key would be the numbers of the list and the values would be the square of those numbers.\n",
    "Write a program to merge two given dictionary\n",
    "Write a program to swap the key value pair for max and min values\n",
    "Eg if the dict is like this {‘a’:1,’b’:2,’c’:3}\n",
    "Output should be {a:3,b:2,c:1}\n",
    "Write a program to find histogram of a given set of numbers. Take bin size from user. Print the result in the form of a dictionary.\n",
    "Write a function that accepts a string and returns the number of upper case chars and lower case chars as a dictionary\n",
    "Write a function that accepts a list of strings and performs Bag of words and convert it to numerical vectors.\n",
    "https://en.wikipedia.org/wiki/Bag-of-words_model\n",
    "Write a dummy program that can perform login and registration using a menu driven program\n",
    "Write a program that accepts neighbors(set of 2D co-ordinates) and a point(single 2D co-ordinate) and tells nearest neighbor(in terms of euclidean distance)\n",
    "Write a function that accepts a number and returns it’s factorial. You can not use any loop\n"
   ]
  },
  {
   "cell_type": "code",
   "execution_count": 14,
   "id": "379aaee7",
   "metadata": {
    "ExecuteTime": {
     "end_time": "2023-02-02T04:34:52.324850Z",
     "start_time": "2023-02-02T04:34:49.361110Z"
    }
   },
   "outputs": [
    {
     "name": "stdout",
     "output_type": "stream",
     "text": [
      "enter the age110\n",
      "enter the age220\n",
      "enter the age330\n"
     ]
    },
    {
     "data": {
      "text/plain": [
       "30"
      ]
     },
     "execution_count": 14,
     "metadata": {},
     "output_type": "execute_result"
    }
   ],
   "source": [
    "user1=int(input('enter the age1'))\n",
    "user2=int(input('enter the age2'))\n",
    "user3=int(input('enter the age3'))\n",
    "list1=[user1,user2,user3]\n",
    "sorted(list1)\n",
    "list1[-1]\n"
   ]
  },
  {
   "cell_type": "code",
   "execution_count": 15,
   "id": "b3281391",
   "metadata": {
    "ExecuteTime": {
     "end_time": "2023-02-02T04:34:55.667212Z",
     "start_time": "2023-02-02T04:34:55.656216Z"
    }
   },
   "outputs": [
    {
     "name": "stdout",
     "output_type": "stream",
     "text": [
      "30\n"
     ]
    }
   ],
   "source": [
    "max1=user1\n",
    "if max1<user2:\n",
    "    max1=user2\n",
    "if max1<user3:\n",
    "    max1=user3\n",
    "print(max1)\n"
   ]
  },
  {
   "cell_type": "code",
   "execution_count": 16,
   "id": "6d0797e0",
   "metadata": {
    "ExecuteTime": {
     "end_time": "2023-02-02T04:34:57.932157Z",
     "start_time": "2023-02-02T04:34:57.921304Z"
    }
   },
   "outputs": [],
   "source": [
    "user1,user2=user2,user1"
   ]
  },
  {
   "cell_type": "code",
   "execution_count": 39,
   "id": "ad753888",
   "metadata": {
    "ExecuteTime": {
     "end_time": "2023-02-02T05:18:12.313514Z",
     "start_time": "2023-02-02T05:18:10.221932Z"
    }
   },
   "outputs": [
    {
     "name": "stdout",
     "output_type": "stream",
     "text": [
      "eneter any umber5279\n"
     ]
    },
    {
     "data": {
      "text/plain": [
       "23"
      ]
     },
     "execution_count": 39,
     "metadata": {},
     "output_type": "execute_result"
    }
   ],
   "source": [
    "user=input('eneter any umber')\n",
    "sum(map(int,user))"
   ]
  },
  {
   "cell_type": "code",
   "execution_count": 40,
   "id": "bd66acfb",
   "metadata": {
    "ExecuteTime": {
     "end_time": "2023-02-02T05:22:02.702286Z",
     "start_time": "2023-02-02T05:21:51.985775Z"
    }
   },
   "outputs": [
    {
     "name": "stdout",
     "output_type": "stream",
     "text": [
      "eneter any number123456\n"
     ]
    }
   ],
   "source": [
    "user=input('eneter any number')\n",
    "rev=user[::-1]"
   ]
  },
  {
   "cell_type": "code",
   "execution_count": 71,
   "id": "1c908941",
   "metadata": {
    "ExecuteTime": {
     "end_time": "2023-02-02T05:40:24.088972Z",
     "start_time": "2023-02-02T05:40:24.084603Z"
    }
   },
   "outputs": [
    {
     "name": "stdout",
     "output_type": "stream",
     "text": [
      "{9, 5, 7}\n"
     ]
    }
   ],
   "source": [
    "nums1 = [1, 2, 3]\n",
    "nums2 = [4, 5, 6]\n",
    "result = map(lambda x, y: x + y, nums1, nums2)\n",
    "print(set(result))\n"
   ]
  },
  {
   "cell_type": "code",
   "execution_count": 60,
   "id": "9163d33a",
   "metadata": {
    "ExecuteTime": {
     "end_time": "2023-02-02T05:32:18.370706Z",
     "start_time": "2023-02-02T05:32:18.361707Z"
    }
   },
   "outputs": [
    {
     "name": "stdout",
     "output_type": "stream",
     "text": [
      "Original list:\n",
      "[1, 2, 3]\n",
      "[4, 5, 6]\n",
      "\n",
      "Result: after adding two list\n",
      "{9, 5, 7}\n"
     ]
    }
   ],
   "source": [
    "nums1 = [1, 2, 3]\n",
    "nums2 = [4, 5, 6]\n",
    "print(\"Original list:\")\n",
    "print(nums1)\n",
    "print(nums2)\n",
    "result = map(lambda x, y: x + y, nums1, nums2)\n",
    "print(\"\\nResult: after adding two list\")\n",
    "print(set(result))"
   ]
  },
  {
   "cell_type": "code",
   "execution_count": 95,
   "id": "5ac44803",
   "metadata": {
    "ExecuteTime": {
     "end_time": "2023-02-02T06:10:01.828832Z",
     "start_time": "2023-02-02T06:10:01.818587Z"
    }
   },
   "outputs": [
    {
     "name": "stdout",
     "output_type": "stream",
     "text": [
      "<map object at 0x000001EEA8BA6B50>\n"
     ]
    }
   ],
   "source": [
    "a = '12345'\n",
    "sum_a = map(lambda x, y:x+y, a)\n",
    "print(sum_a)"
   ]
  },
  {
   "cell_type": "code",
   "execution_count": 101,
   "id": "48b98e3b",
   "metadata": {
    "ExecuteTime": {
     "end_time": "2023-02-02T06:11:06.655056Z",
     "start_time": "2023-02-02T06:11:06.645056Z"
    }
   },
   "outputs": [
    {
     "name": "stdout",
     "output_type": "stream",
     "text": [
      "15\n"
     ]
    }
   ],
   "source": [
    "s=0\n",
    "for i in a:\n",
    "    s=s+int(i)\n",
    "print(s)"
   ]
  },
  {
   "cell_type": "code",
   "execution_count": 97,
   "id": "59a0f10b",
   "metadata": {
    "ExecuteTime": {
     "end_time": "2023-02-02T06:10:06.276644Z",
     "start_time": "2023-02-02T06:10:06.267352Z"
    }
   },
   "outputs": [
    {
     "data": {
      "text/plain": [
       "'12345'"
      ]
     },
     "execution_count": 97,
     "metadata": {},
     "output_type": "execute_result"
    }
   ],
   "source": [
    "a"
   ]
  },
  {
   "cell_type": "code",
   "execution_count": 125,
   "id": "6d6ed661",
   "metadata": {
    "ExecuteTime": {
     "end_time": "2023-02-02T06:55:41.648160Z",
     "start_time": "2023-02-02T06:55:39.986833Z"
    }
   },
   "outputs": [
    {
     "name": "stdout",
     "output_type": "stream",
     "text": [
      "eneter any number121\n",
      "4\n"
     ]
    }
   ],
   "source": [
    "user=input('eneter any number')\n",
    "s=0\n",
    "for i in user:\n",
    "    s=s+int(i)\n",
    "print(s)"
   ]
  },
  {
   "cell_type": "code",
   "execution_count": 81,
   "id": "056f605d",
   "metadata": {
    "ExecuteTime": {
     "end_time": "2023-02-02T05:49:04.289643Z",
     "start_time": "2023-02-02T05:49:03.002698Z"
    }
   },
   "outputs": [
    {
     "name": "stdout",
     "output_type": "stream",
     "text": [
      "eneter an integer254\n",
      "eneterd even number\n"
     ]
    }
   ],
   "source": [
    "user=int(input('eneter an integer'))\n",
    "def check(user):\n",
    "    if user%2 ==0:\n",
    "        print('eneterd even number')\n",
    "    elif user%3 ==0 or user%7==0 or user%5==0:\n",
    "        print('enterd is odd')\n",
    "    else:\n",
    "        print('prime')\n",
    "check(user)"
   ]
  },
  {
   "cell_type": "code",
   "execution_count": 84,
   "id": "b8bf54ad",
   "metadata": {
    "ExecuteTime": {
     "end_time": "2023-02-02T05:53:12.694579Z",
     "start_time": "2023-02-02T05:53:12.685613Z"
    }
   },
   "outputs": [
    {
     "data": {
      "text/plain": [
       "4.242640687119285"
      ]
     },
     "execution_count": 84,
     "metadata": {},
     "output_type": "execute_result"
    }
   ],
   "source": [
    "p1=(1,2)\n",
    "p2=(4,5)\n",
    "result=((p2[0]-p1[0])**2+(p2[1]-p1[1])**2)**0.5\n",
    "result"
   ]
  },
  {
   "cell_type": "code",
   "execution_count": 87,
   "id": "c4570b3a",
   "metadata": {
    "ExecuteTime": {
     "end_time": "2023-02-02T05:58:32.365939Z",
     "start_time": "2023-02-02T05:58:32.358181Z"
    }
   },
   "outputs": [
    {
     "data": {
      "text/plain": [
       "True"
      ]
     },
     "execution_count": 87,
     "metadata": {},
     "output_type": "execute_result"
    }
   ],
   "source": [
    "a=60\n",
    "b=30\n",
    "c=90\n",
    "a+b+c==180 and a!=0 and b!=0 and c!=0"
   ]
  },
  {
   "cell_type": "code",
   "execution_count": 127,
   "id": "98e07f59",
   "metadata": {
    "ExecuteTime": {
     "end_time": "2023-02-02T07:03:27.302487Z",
     "start_time": "2023-02-02T07:03:27.291973Z"
    }
   },
   "outputs": [],
   "source": [
    "l=[1,2,3]"
   ]
  },
  {
   "cell_type": "code",
   "execution_count": 131,
   "id": "b6a76a09",
   "metadata": {
    "ExecuteTime": {
     "end_time": "2023-02-02T07:04:37.077235Z",
     "start_time": "2023-02-02T07:04:37.065232Z"
    }
   },
   "outputs": [],
   "source": [
    "l1=[]\n",
    "for i in l: \n",
    "    l1.append(i+1)\n",
    "    "
   ]
  },
  {
   "cell_type": "code",
   "execution_count": 132,
   "id": "5f8be0ad",
   "metadata": {
    "ExecuteTime": {
     "end_time": "2023-02-02T07:04:37.542554Z",
     "start_time": "2023-02-02T07:04:37.531036Z"
    }
   },
   "outputs": [
    {
     "data": {
      "text/plain": [
       "[2, 3, 4]"
      ]
     },
     "execution_count": 132,
     "metadata": {},
     "output_type": "execute_result"
    }
   ],
   "source": [
    "l1"
   ]
  },
  {
   "cell_type": "code",
   "execution_count": 134,
   "id": "2c697b8f",
   "metadata": {
    "ExecuteTime": {
     "end_time": "2023-02-02T07:05:22.195586Z",
     "start_time": "2023-02-02T07:05:22.189211Z"
    }
   },
   "outputs": [
    {
     "data": {
      "text/plain": [
       "[2, 3, 4]"
      ]
     },
     "execution_count": 134,
     "metadata": {},
     "output_type": "execute_result"
    }
   ],
   "source": [
    "[(i+1) for i in l]"
   ]
  },
  {
   "cell_type": "code",
   "execution_count": 136,
   "id": "f17c8f1c",
   "metadata": {
    "ExecuteTime": {
     "end_time": "2023-02-02T07:06:25.454518Z",
     "start_time": "2023-02-02T07:06:25.446849Z"
    }
   },
   "outputs": [
    {
     "data": {
      "text/plain": [
       "[5, 7, 9]"
      ]
     },
     "execution_count": 136,
     "metadata": {},
     "output_type": "execute_result"
    }
   ],
   "source": [
    "l1=[1,2,3]\n",
    "l2=[4,5,6]\n",
    "[(i+j) for i,j in zip(l1,l2)]"
   ]
  },
  {
   "cell_type": "code",
   "execution_count": 144,
   "id": "ddf68286",
   "metadata": {
    "ExecuteTime": {
     "end_time": "2023-02-02T07:09:59.989011Z",
     "start_time": "2023-02-02T07:09:59.984464Z"
    }
   },
   "outputs": [
    {
     "name": "stdout",
     "output_type": "stream",
     "text": [
      "1 : 2\n",
      "3 : 4\n",
      "5 : 6\n"
     ]
    }
   ],
   "source": [
    "l=[1,2,3,4,5,6]\n",
    "for i in range(0,len(l),2):\n",
    "    print(l[i],':',l[i+1])"
   ]
  },
  {
   "cell_type": "code",
   "execution_count": 149,
   "id": "aa4e87bd",
   "metadata": {
    "ExecuteTime": {
     "end_time": "2023-02-02T07:11:39.034930Z",
     "start_time": "2023-02-02T07:11:39.028110Z"
    }
   },
   "outputs": [
    {
     "data": {
      "text/plain": [
       "[(1, 4), (2, 5), (3, 6)]"
      ]
     },
     "execution_count": 149,
     "metadata": {},
     "output_type": "execute_result"
    }
   ],
   "source": [
    "[(i,j) for i,j in zip(l1,l2)]"
   ]
  },
  {
   "cell_type": "code",
   "execution_count": 8,
   "id": "32182a68",
   "metadata": {
    "ExecuteTime": {
     "end_time": "2023-02-03T02:38:24.481620Z",
     "start_time": "2023-02-03T02:38:24.450560Z"
    }
   },
   "outputs": [
    {
     "data": {
      "text/plain": [
       "[5, 7, 9]"
      ]
     },
     "execution_count": 8,
     "metadata": {},
     "output_type": "execute_result"
    }
   ],
   "source": [
    "x=[1,2,3]\n",
    "y=[4,5,6]\n",
    "[i+j for i,j in zip(x,y)]"
   ]
  },
  {
   "cell_type": "code",
   "execution_count": 9,
   "id": "508c2ea8",
   "metadata": {
    "ExecuteTime": {
     "end_time": "2023-02-03T02:47:12.098193Z",
     "start_time": "2023-02-03T02:47:12.091950Z"
    }
   },
   "outputs": [
    {
     "data": {
      "text/plain": [
       "[False, False, False, False, True, True]"
      ]
     },
     "execution_count": 9,
     "metadata": {},
     "output_type": "execute_result"
    }
   ],
   "source": [
    "list(map(lambda x: x>5,[1,2,4,5,7,8]))"
   ]
  },
  {
   "cell_type": "code",
   "execution_count": 10,
   "id": "245a8cd3",
   "metadata": {
    "ExecuteTime": {
     "end_time": "2023-02-03T02:47:32.285562Z",
     "start_time": "2023-02-03T02:47:32.266423Z"
    }
   },
   "outputs": [
    {
     "data": {
      "text/plain": [
       "[7, 8]"
      ]
     },
     "execution_count": 10,
     "metadata": {},
     "output_type": "execute_result"
    }
   ],
   "source": [
    "list(filter(lambda x: x>5,[1,2,4,5,7,8]))"
   ]
  },
  {
   "cell_type": "code",
   "execution_count": 12,
   "id": "f0bdac1f",
   "metadata": {
    "ExecuteTime": {
     "end_time": "2023-02-03T05:46:54.352750Z",
     "start_time": "2023-02-03T05:46:52.735859Z"
    }
   },
   "outputs": [
    {
     "name": "stdout",
     "output_type": "stream",
     "text": [
      "enter4\n",
      "*\n",
      "**\n",
      "***\n",
      "****\n"
     ]
    }
   ],
   "source": [
    "n=int(input('enter'))\n",
    "for i in range(1,n+1):\n",
    "    for j in range(1,i+1):\n",
    "        print('*',end='')\n",
    "    print()"
   ]
  },
  {
   "cell_type": "code",
   "execution_count": 14,
   "id": "1ffd7df2",
   "metadata": {
    "ExecuteTime": {
     "end_time": "2023-02-03T05:58:47.084776Z",
     "start_time": "2023-02-03T05:58:47.079225Z"
    }
   },
   "outputs": [
    {
     "name": "stdout",
     "output_type": "stream",
     "text": [
      "1\n",
      "121\n",
      "12321\n",
      "1234321\n"
     ]
    }
   ],
   "source": [
    "for i in range(1,n+1):\n",
    "    for j in range(1,i+1):\n",
    "        print(j,end='')\n",
    "    for k in range(i-1,0,-1):\n",
    "        print(k,end='')\n",
    "    print()"
   ]
  },
  {
   "cell_type": "code",
   "execution_count": null,
   "id": "5e7060db",
   "metadata": {},
   "outputs": [],
   "source": [
    "Given two arrays of equal size n and an integer k. The task is to permute both arrays such that \n",
    "sum of their corresponding element is greater than or equal to k i.e a[i] + b[i] >= k. \n",
    "The task is to print “Yes” if any such permutation exists, otherwise print “No”.\n",
    "\n",
    "Examples : \n",
    "\n",
    "Input : a[] = {2, 1, 3}, \n",
    "        b[] = { 7, 8, 9 }, \n",
    "        k = 10. \n",
    "Output : Yes\n",
    "Permutation  a[] = { 1, 2, 3 } and b[] = { 9, 8, 7 } \n",
    "satisfied the condition a[i] + b[i] >= K.\n",
    "\n",
    "Input : a[] = {1, 2, 2, 1}, \n",
    "        b[] = { 3, 3, 3, 4 }, \n",
    "        k = 5. \n",
    "Output : No"
   ]
  },
  {
   "cell_type": "code",
   "execution_count": 3,
   "id": "970b4c3d",
   "metadata": {
    "ExecuteTime": {
     "end_time": "2023-02-17T10:50:00.387033Z",
     "start_time": "2023-02-17T10:50:00.367031Z"
    }
   },
   "outputs": [
    {
     "name": "stdout",
     "output_type": "stream",
     "text": [
      "no\n",
      "no\n",
      "yes\n"
     ]
    }
   ],
   "source": [
    "a=[2,1,3]\n",
    "b=[7,8,9]\n",
    "for i in range(len(a)):\n",
    "    if a[i]+b[i] >=10:\n",
    "        print('yes')\n",
    "    else:\n",
    "        print('no')"
   ]
  },
  {
   "cell_type": "code",
   "execution_count": 15,
   "id": "c72ea397",
   "metadata": {
    "ExecuteTime": {
     "end_time": "2023-02-03T06:16:31.245052Z",
     "start_time": "2023-02-03T06:16:31.226565Z"
    }
   },
   "outputs": [
    {
     "name": "stdout",
     "output_type": "stream",
     "text": [
      "Yes\n"
     ]
    }
   ],
   "source": [
    "def isPossible(a,b,n,k):\n",
    " \n",
    "    # Sort the array a[]\n",
    "    # in decreasing order.\n",
    "    a.sort(reverse=True)\n",
    "  \n",
    "    # Sort the array b[]\n",
    "    # in increasing order.\n",
    "    b.sort()\n",
    "  \n",
    "    # Checking condition\n",
    "    # on each index.\n",
    "    for i in range(n):\n",
    "        if (a[i] + b[i] < k):\n",
    "            return False\n",
    "  \n",
    "    return True\n",
    " \n",
    " \n",
    "# Driver code\n",
    " \n",
    "a = [ 2, 1, 3]\n",
    "b = [7, 8, 9]\n",
    "k = 10\n",
    "n =len(a)\n",
    "  \n",
    "if(isPossible(a, b, n, k)):\n",
    "    print(\"Yes\")\n",
    "else:\n",
    "    print(\"No\")"
   ]
  },
  {
   "cell_type": "code",
   "execution_count": 22,
   "id": "522b0758",
   "metadata": {
    "ExecuteTime": {
     "end_time": "2023-02-03T06:35:03.037006Z",
     "start_time": "2023-02-03T06:34:58.724462Z"
    }
   },
   "outputs": [
    {
     "name": "stdout",
     "output_type": "stream",
     "text": [
      "enterpavan@gma\n",
      "pavan\n"
     ]
    }
   ],
   "source": [
    "s=input('enter')\n",
    "a=''\n",
    "for i in s:\n",
    "    if i == '@':\n",
    "        break\n",
    "    a=a+i\n",
    "print(a)"
   ]
  },
  {
   "cell_type": "code",
   "execution_count": 33,
   "id": "6275f661",
   "metadata": {
    "ExecuteTime": {
     "end_time": "2023-02-03T06:49:17.037651Z",
     "start_time": "2023-02-03T06:49:11.176941Z"
    }
   },
   "outputs": [
    {
     "name": "stdout",
     "output_type": "stream",
     "text": [
      "enter palindrome to checkmalayalam\n",
      "its palindrome\n"
     ]
    }
   ],
   "source": [
    "s= input('enter palindrome to check')\n",
    "flag=True\n",
    "for i in range(0,len(s)//2):\n",
    "    if s[i]!=s[len(s)-i-1]:\n",
    "        flag=False\n",
    "        print('its not palindrome')\n",
    "        break\n",
    "if flag:\n",
    "    print('its palindrome')"
   ]
  },
  {
   "cell_type": "code",
   "execution_count": 36,
   "id": "f9631adb",
   "metadata": {
    "ExecuteTime": {
     "end_time": "2023-02-03T06:50:47.611929Z",
     "start_time": "2023-02-03T06:50:44.479520Z"
    }
   },
   "outputs": [
    {
     "name": "stdout",
     "output_type": "stream",
     "text": [
      "enterhello\n",
      "not a palindrome\n"
     ]
    }
   ],
   "source": [
    "s=input('enter')\n",
    "k=s[::-1]\n",
    "if s==k:\n",
    "    print('palindomr')\n",
    "else:\n",
    "    print('not a palindrome')"
   ]
  },
  {
   "cell_type": "code",
   "execution_count": 41,
   "id": "f8db14dd",
   "metadata": {
    "ExecuteTime": {
     "end_time": "2023-02-03T06:59:34.327918Z",
     "start_time": "2023-02-03T06:59:29.278237Z"
    }
   },
   "outputs": [
    {
     "name": "stdout",
     "output_type": "stream",
     "text": [
      "enterhi how are you\n",
      "['hi', 'how', 'are', 'you']\n"
     ]
    }
   ],
   "source": [
    "s= input('enter')\n",
    "l=[]\n",
    "temp=''\n",
    "for i in s:\n",
    " \n",
    "    if i!=' ':\n",
    "        temp=temp+i\n",
    "    else:\n",
    "        l.append(temp)\n",
    "        temp=''\n",
    "l.append(temp)        \n",
    "print(l)        \n",
    "        \n",
    "        \n",
    "    "
   ]
  },
  {
   "cell_type": "code",
   "execution_count": 48,
   "id": "6bf2e51d",
   "metadata": {
    "ExecuteTime": {
     "end_time": "2023-02-03T07:10:36.041114Z",
     "start_time": "2023-02-03T07:10:33.023639Z"
    }
   },
   "outputs": [
    {
     "name": "stdout",
     "output_type": "stream",
     "text": [
      "enter any number234\n",
      "<class 'str'> 234\n"
     ]
    }
   ],
   "source": [
    "number = int(input('enter any number'))\n",
    "\n",
    "string='0123456789'\n",
    "result=''\n",
    "while number!=0:\n",
    "    a=string[number%10]+result\n",
    "    number=number//10\n",
    "    \n",
    "    result=a  \n",
    "print(type(result),result)\n",
    "\n",
    "    "
   ]
  },
  {
   "cell_type": "code",
   "execution_count": 5,
   "id": "a84cc2da",
   "metadata": {
    "ExecuteTime": {
     "end_time": "2023-02-10T06:24:40.158194Z",
     "start_time": "2023-02-10T06:24:40.145679Z"
    }
   },
   "outputs": [
    {
     "name": "stdout",
     "output_type": "stream",
     "text": [
      "[1, 2, 3, 4, 5, 6, 7, 8, 9, 10]\n"
     ]
    }
   ],
   "source": [
    "# add 1 to 10 numbers to a list:\n",
    "\n",
    "l=[i for i in range(1,11)]\n",
    "print(l)"
   ]
  },
  {
   "cell_type": "code",
   "execution_count": 6,
   "id": "3521e1ba",
   "metadata": {
    "ExecuteTime": {
     "end_time": "2023-10-20T09:03:33.755150Z",
     "start_time": "2023-10-20T09:03:25.392917Z"
    }
   },
   "outputs": [
    {
     "name": "stdout",
     "output_type": "stream",
     "text": [
      "enter a number2\n",
      "enter a number2\n",
      "enter a number2\n",
      "enter a number2\n",
      "enter a number2\n",
      "enter a number2\n",
      "enter a number2\n",
      "enter a number2\n",
      "enter a number2\n"
     ]
    }
   ],
   "source": [
    "rows,columns=3,3\n",
    "a=[[1 for i in range(rows)]for j in range(columns)]\n",
    "b=[[int(input('enter a number')) for i in range(rows)]for j in range(columns)]"
   ]
  },
  {
   "cell_type": "code",
   "execution_count": 7,
   "id": "de0a8eda",
   "metadata": {
    "ExecuteTime": {
     "end_time": "2023-10-20T09:03:38.745813Z",
     "start_time": "2023-10-20T09:03:38.721811Z"
    }
   },
   "outputs": [
    {
     "data": {
      "text/plain": [
       "[[1, 1, 1], [1, 1, 1], [1, 1, 1]]"
      ]
     },
     "execution_count": 7,
     "metadata": {},
     "output_type": "execute_result"
    }
   ],
   "source": [
    "a"
   ]
  },
  {
   "cell_type": "code",
   "execution_count": 8,
   "id": "d5815c1e",
   "metadata": {
    "ExecuteTime": {
     "end_time": "2023-10-20T09:03:42.382707Z",
     "start_time": "2023-10-20T09:03:42.369476Z"
    }
   },
   "outputs": [
    {
     "data": {
      "text/plain": [
       "[[2, 2, 2], [2, 2, 2], [2, 2, 2]]"
      ]
     },
     "execution_count": 8,
     "metadata": {},
     "output_type": "execute_result"
    }
   ],
   "source": [
    "b"
   ]
  },
  {
   "cell_type": "code",
   "execution_count": 13,
   "id": "87895fed",
   "metadata": {
    "ExecuteTime": {
     "end_time": "2023-10-20T09:10:09.015669Z",
     "start_time": "2023-10-20T09:10:09.008132Z"
    }
   },
   "outputs": [],
   "source": [
    "n=[[0 for i in range(len(a))]for j in range(len(a))]\n",
    "for i in range(len(a)):\n",
    "    for j in range(len(a)):\n",
    "        n[i][j]=a[i][j]+b[i][j]"
   ]
  },
  {
   "cell_type": "code",
   "execution_count": 14,
   "id": "0439824d",
   "metadata": {
    "ExecuteTime": {
     "end_time": "2023-10-20T09:10:14.746577Z",
     "start_time": "2023-10-20T09:10:14.739884Z"
    }
   },
   "outputs": [
    {
     "data": {
      "text/plain": [
       "[[3, 3, 3], [3, 3, 3], [3, 3, 3]]"
      ]
     },
     "execution_count": 14,
     "metadata": {},
     "output_type": "execute_result"
    }
   ],
   "source": [
    "n"
   ]
  },
  {
   "cell_type": "code",
   "execution_count": 22,
   "id": "191d3367",
   "metadata": {
    "ExecuteTime": {
     "end_time": "2023-10-20T09:18:10.596167Z",
     "start_time": "2023-10-20T09:18:10.591167Z"
    }
   },
   "outputs": [],
   "source": [
    "n=12321\n",
    "def test(n):\n",
    "    if n<=1:\n",
    "        return False\n",
    "    a=n \n",
    "    b=0\n",
    "    while n>0:\n",
    "        c=n%10\n",
    "        b=b*10+c\n",
    "        n=n//10\n",
    "    if a==b: \n",
    "        return True\n",
    "        \n",
    "    "
   ]
  },
  {
   "cell_type": "code",
   "execution_count": 24,
   "id": "f9a1dc62",
   "metadata": {
    "ExecuteTime": {
     "end_time": "2023-10-20T09:18:12.607221Z",
     "start_time": "2023-10-20T09:18:12.603220Z"
    }
   },
   "outputs": [
    {
     "data": {
      "text/plain": [
       "True"
      ]
     },
     "execution_count": 24,
     "metadata": {},
     "output_type": "execute_result"
    }
   ],
   "source": [
    "test(12321)"
   ]
  },
  {
   "cell_type": "code",
   "execution_count": 25,
   "id": "d3339835",
   "metadata": {
    "ExecuteTime": {
     "end_time": "2023-10-20T09:22:39.145096Z",
     "start_time": "2023-10-20T09:22:39.128093Z"
    }
   },
   "outputs": [],
   "source": [
    "a=[12,24,35,24,88,120,155,88,120,155]"
   ]
  },
  {
   "cell_type": "code",
   "execution_count": 26,
   "id": "1ca5f00f",
   "metadata": {
    "ExecuteTime": {
     "end_time": "2023-10-20T09:23:00.968787Z",
     "start_time": "2023-10-20T09:23:00.956787Z"
    }
   },
   "outputs": [],
   "source": [
    "a=set(a)"
   ]
  },
  {
   "cell_type": "code",
   "execution_count": 27,
   "id": "9726d779",
   "metadata": {
    "ExecuteTime": {
     "end_time": "2023-10-20T09:23:03.583514Z",
     "start_time": "2023-10-20T09:23:03.576328Z"
    }
   },
   "outputs": [
    {
     "data": {
      "text/plain": [
       "{12, 24, 35, 88, 120, 155}"
      ]
     },
     "execution_count": 27,
     "metadata": {},
     "output_type": "execute_result"
    }
   ],
   "source": [
    "a"
   ]
  },
  {
   "cell_type": "code",
   "execution_count": 34,
   "id": "510cf94a",
   "metadata": {
    "ExecuteTime": {
     "end_time": "2023-10-20T09:29:05.918166Z",
     "start_time": "2023-10-20T09:29:05.911130Z"
    }
   },
   "outputs": [],
   "source": [
    "b=[]\n",
    "for i in a: \n",
    "    if i not in b: \n",
    "        b.append(i)\n"
   ]
  },
  {
   "cell_type": "code",
   "execution_count": 35,
   "id": "163946ba",
   "metadata": {
    "ExecuteTime": {
     "end_time": "2023-10-20T09:29:06.668207Z",
     "start_time": "2023-10-20T09:29:06.658233Z"
    }
   },
   "outputs": [
    {
     "data": {
      "text/plain": [
       "[35, 12, 155, 24, 88, 120]"
      ]
     },
     "execution_count": 35,
     "metadata": {},
     "output_type": "execute_result"
    }
   ],
   "source": [
    "b"
   ]
  },
  {
   "cell_type": "code",
   "execution_count": 36,
   "id": "3aa5d9c6",
   "metadata": {
    "ExecuteTime": {
     "end_time": "2023-10-20T09:29:14.220952Z",
     "start_time": "2023-10-20T09:29:14.214375Z"
    }
   },
   "outputs": [],
   "source": [
    "b=set()\n",
    "for i in a: \n",
    "    if i not in b: \n",
    "        b.add(i)"
   ]
  },
  {
   "cell_type": "code",
   "execution_count": 37,
   "id": "84f5186d",
   "metadata": {
    "ExecuteTime": {
     "end_time": "2023-10-20T09:29:14.670226Z",
     "start_time": "2023-10-20T09:29:14.664207Z"
    }
   },
   "outputs": [
    {
     "data": {
      "text/plain": [
       "{12, 24, 35, 88, 120, 155}"
      ]
     },
     "execution_count": 37,
     "metadata": {},
     "output_type": "execute_result"
    }
   ],
   "source": [
    "b"
   ]
  },
  {
   "cell_type": "code",
   "execution_count": 43,
   "id": "62dca16b",
   "metadata": {
    "ExecuteTime": {
     "end_time": "2023-10-20T09:35:21.807393Z",
     "start_time": "2023-10-20T09:35:21.791392Z"
    }
   },
   "outputs": [
    {
     "name": "stdout",
     "output_type": "stream",
     "text": [
      "2002\n",
      "2009\n",
      "2016\n",
      "2023\n",
      "2037\n",
      "2044\n",
      "2051\n",
      "2058\n",
      "2072\n",
      "2079\n",
      "2086\n",
      "2093\n",
      "2107\n",
      "2114\n",
      "2121\n",
      "2128\n",
      "2142\n",
      "2149\n",
      "2156\n",
      "2163\n",
      "2177\n",
      "2184\n",
      "2191\n",
      "2198\n",
      "2212\n",
      "2219\n",
      "2226\n",
      "2233\n",
      "2247\n",
      "2254\n",
      "2261\n",
      "2268\n",
      "2282\n",
      "2289\n",
      "2296\n",
      "2303\n",
      "2317\n",
      "2324\n",
      "2331\n",
      "2338\n",
      "2352\n",
      "2359\n",
      "2366\n",
      "2373\n",
      "2387\n",
      "2394\n",
      "2401\n",
      "2408\n",
      "2422\n",
      "2429\n",
      "2436\n",
      "2443\n",
      "2457\n",
      "2464\n",
      "2471\n",
      "2478\n",
      "2492\n",
      "2499\n",
      "2506\n",
      "2513\n",
      "2527\n",
      "2534\n",
      "2541\n",
      "2548\n",
      "2562\n",
      "2569\n",
      "2576\n",
      "2583\n",
      "2597\n",
      "2604\n",
      "2611\n",
      "2618\n",
      "2632\n",
      "2639\n",
      "2646\n",
      "2653\n",
      "2667\n",
      "2674\n",
      "2681\n",
      "2688\n",
      "2702\n",
      "2709\n",
      "2716\n",
      "2723\n",
      "2737\n",
      "2744\n",
      "2751\n",
      "2758\n",
      "2772\n",
      "2779\n",
      "2786\n",
      "2793\n",
      "2807\n",
      "2814\n",
      "2821\n",
      "2828\n",
      "2842\n",
      "2849\n",
      "2856\n",
      "2863\n",
      "2877\n",
      "2884\n",
      "2891\n",
      "2898\n",
      "2912\n",
      "2919\n",
      "2926\n",
      "2933\n",
      "2947\n",
      "2954\n",
      "2961\n",
      "2968\n",
      "2982\n",
      "2989\n",
      "2996\n"
     ]
    }
   ],
   "source": [
    "for i in range(2000,3001):\n",
    "    if i%7==0 and i%5!=0:\n",
    "        print(i)"
   ]
  },
  {
   "cell_type": "code",
   "execution_count": 46,
   "id": "8ea0129d",
   "metadata": {
    "ExecuteTime": {
     "end_time": "2023-10-20T09:37:56.978759Z",
     "start_time": "2023-10-20T09:37:56.970642Z"
    }
   },
   "outputs": [
    {
     "data": {
      "text/plain": [
       "{1: 1, 2: 4, 3: 9, 4: 16, 5: 25, 6: 36}"
      ]
     },
     "execution_count": 46,
     "metadata": {},
     "output_type": "execute_result"
    }
   ],
   "source": [
    "n=6\n",
    "{i:i**2 for i in range(1,n+1)}"
   ]
  },
  {
   "cell_type": "code",
   "execution_count": 62,
   "id": "f3de3977",
   "metadata": {
    "ExecuteTime": {
     "end_time": "2023-10-20T10:34:03.297463Z",
     "start_time": "2023-10-20T10:34:03.276414Z"
    }
   },
   "outputs": [
    {
     "name": "stdout",
     "output_type": "stream",
     "text": [
      "{'B': 2, 'A': 6}\n"
     ]
    }
   ],
   "source": [
    "a=[\"B:-1\", \"A:1\", \"B:3\", \"A:5\"]\n",
    "d={}\n",
    "for i in a:\n",
    "    key,pair=i.split(':')\n",
    "    d[key]=d.get(key,0)+int(pair)\n",
    "print(d)"
   ]
  },
  {
   "cell_type": "code",
   "execution_count": 79,
   "id": "d99e6208",
   "metadata": {
    "ExecuteTime": {
     "end_time": "2023-10-20T12:01:27.083207Z",
     "start_time": "2023-10-20T12:01:27.061620Z"
    }
   },
   "outputs": [
    {
     "data": {
      "text/plain": [
       "[0, 1, 1, 2, 3, 5, 8, 13, 21, 34]"
      ]
     },
     "execution_count": 79,
     "metadata": {},
     "output_type": "execute_result"
    }
   ],
   "source": [
    "#fibonacci: 0,1,1,2,3,5,8,13....\n",
    "def fib(n):\n",
    "    a,b=0,1\n",
    "    l=[]\n",
    "    for i in range(n):\n",
    "        l.append(a)\n",
    "        a,b=b,a+b\n",
    "    return l\n",
    "fib(10) "
   ]
  },
  {
   "cell_type": "code",
   "execution_count": 81,
   "id": "a682d1c6",
   "metadata": {
    "ExecuteTime": {
     "end_time": "2023-10-20T12:05:30.558185Z",
     "start_time": "2023-10-20T12:05:30.540306Z"
    }
   },
   "outputs": [
    {
     "data": {
      "text/plain": [
       "[11, 14, 21, 47, 52, 96, 258]"
      ]
     },
     "execution_count": 81,
     "metadata": {},
     "output_type": "execute_result"
    }
   ],
   "source": [
    "def bubble(l):\n",
    "    for i in range(len(l)-1):\n",
    "        if l[i]>l[i+1]:\n",
    "            l[i],l[i+1]=l[i+1],l[i]\n",
    "            return bubble(l)\n",
    "    return l\n",
    "bubble([52,47,14,258,96,21,11])"
   ]
  },
  {
   "cell_type": "code",
   "execution_count": 84,
   "id": "2fdad981",
   "metadata": {
    "ExecuteTime": {
     "end_time": "2023-10-20T12:12:32.287325Z",
     "start_time": "2023-10-20T12:12:32.270089Z"
    }
   },
   "outputs": [
    {
     "data": {
      "text/plain": [
       "[11, 14, 21, 47, 52, 96, 258]"
      ]
     },
     "execution_count": 84,
     "metadata": {},
     "output_type": "execute_result"
    }
   ],
   "source": [
    "def qs(l):\n",
    "    if len(l)<1:\n",
    "        return l\n",
    "    a=l[0]\n",
    "    right=[i for i in l if i>a]\n",
    "    left=[i for i in l if i<a]\n",
    "    return qs(left)+[a]+qs(right)\n",
    "qs([52,47,14,258,96,21,11])"
   ]
  },
  {
   "cell_type": "code",
   "execution_count": 87,
   "id": "1416033c",
   "metadata": {
    "ExecuteTime": {
     "end_time": "2023-10-20T12:13:46.475794Z",
     "start_time": "2023-10-20T12:13:46.469987Z"
    }
   },
   "outputs": [
    {
     "data": {
      "text/plain": [
       "[1, 2, 3, 5]"
      ]
     },
     "execution_count": 87,
     "metadata": {},
     "output_type": "execute_result"
    }
   ],
   "source": [
    "list(map(int,'1235'))"
   ]
  },
  {
   "cell_type": "code",
   "execution_count": 88,
   "id": "28880243",
   "metadata": {
    "ExecuteTime": {
     "end_time": "2023-10-20T12:14:27.702268Z",
     "start_time": "2023-10-20T12:14:27.697270Z"
    }
   },
   "outputs": [
    {
     "name": "stdout",
     "output_type": "stream",
     "text": [
      "{1: 4}\n",
      "{2: 5}\n",
      "{3: 6}\n"
     ]
    }
   ],
   "source": [
    "l1={1,2,3}\n",
    "l2=[4,5,6]\n",
    "for i,j in zip(l1,l2):\n",
    "    print({i:j})"
   ]
  },
  {
   "cell_type": "code",
   "execution_count": 90,
   "id": "46df7a7d",
   "metadata": {
    "ExecuteTime": {
     "end_time": "2023-10-20T12:16:19.462372Z",
     "start_time": "2023-10-20T12:16:19.448061Z"
    }
   },
   "outputs": [
    {
     "data": {
      "text/plain": [
       "[1, 32, 729]"
      ]
     },
     "execution_count": 90,
     "metadata": {},
     "output_type": "execute_result"
    }
   ],
   "source": [
    "list(map(lambda x,y:x**y,[1,2,3],[4,5,6]))"
   ]
  },
  {
   "cell_type": "code",
   "execution_count": 91,
   "id": "e343d3b1",
   "metadata": {
    "ExecuteTime": {
     "end_time": "2023-10-20T12:18:30.668951Z",
     "start_time": "2023-10-20T12:18:30.653946Z"
    }
   },
   "outputs": [],
   "source": [
    "l=[10,25,1,44,57,87,52,63,69,88]"
   ]
  },
  {
   "cell_type": "code",
   "execution_count": 93,
   "id": "8f8e14ae",
   "metadata": {
    "ExecuteTime": {
     "end_time": "2023-10-20T12:18:55.808989Z",
     "start_time": "2023-10-20T12:18:55.793031Z"
    }
   },
   "outputs": [],
   "source": [
    "l.remove(max(l))"
   ]
  },
  {
   "cell_type": "code",
   "execution_count": 94,
   "id": "bfce5c96",
   "metadata": {
    "ExecuteTime": {
     "end_time": "2023-10-20T12:18:57.627833Z",
     "start_time": "2023-10-20T12:18:57.616115Z"
    }
   },
   "outputs": [
    {
     "data": {
      "text/plain": [
       "87"
      ]
     },
     "execution_count": 94,
     "metadata": {},
     "output_type": "execute_result"
    }
   ],
   "source": [
    "max(l)"
   ]
  },
  {
   "cell_type": "code",
   "execution_count": 96,
   "id": "e9909ec4",
   "metadata": {
    "ExecuteTime": {
     "end_time": "2023-10-20T12:21:42.459854Z",
     "start_time": "2023-10-20T12:21:42.453818Z"
    }
   },
   "outputs": [],
   "source": [
    "l=[16,22,35,8,20,1,21,11]\n",
    "a=sum(l)"
   ]
  },
  {
   "cell_type": "code",
   "execution_count": 8,
   "id": "78965595",
   "metadata": {
    "ExecuteTime": {
     "end_time": "2023-10-20T12:51:55.025182Z",
     "start_time": "2023-10-20T12:51:55.016589Z"
    }
   },
   "outputs": [
    {
     "name": "stdout",
     "output_type": "stream",
     "text": [
      "First sublist: [20, 8, 11, 16]\n",
      "Second sublist: [1, 21, 22, 35]\n"
     ]
    }
   ],
   "source": [
    "def test(l):\n",
    "    l = sorted(l)\n",
    "    a = len(l) / 2\n",
    "    b = l[:int(a)]  # Using int(a) for proper slicing\n",
    "    c = l[int(a):]\n",
    "\n",
    "    while sum(b) != sum(c):\n",
    "        if sum(b) > sum(c):\n",
    "            b[0], c[0] = c[0], b[0]\n",
    "        elif sum(b) < sum(c):\n",
    "            c[0], b[0] = b[0], c[0]\n",
    "        \n",
    "        # Check if the difference between the sums remains the same\n",
    "        if sum(b) != sum(c):\n",
    "            break\n",
    "\n",
    "    return b, c\n",
    "\n",
    "result = test([16, 22, 35, 8, 20, 1, 21, 11])\n",
    "print(\"First sublist:\", result[0])\n",
    "print(\"Second sublist:\", result[1])\n"
   ]
  },
  {
   "cell_type": "markdown",
   "id": "8e703f94",
   "metadata": {},
   "source": [
    "1. Question: Write a function that takes a list of numbers and returns the sum."
   ]
  },
  {
   "cell_type": "code",
   "execution_count": 4,
   "id": "74d50416",
   "metadata": {
    "ExecuteTime": {
     "end_time": "2023-10-29T10:58:26.070897Z",
     "start_time": "2023-10-29T10:58:23.014943Z"
    }
   },
   "outputs": [
    {
     "name": "stdout",
     "output_type": "stream",
     "text": [
      "enter a number4\n",
      "1\n",
      "2\n",
      "3\n",
      "4\n"
     ]
    },
    {
     "data": {
      "text/plain": [
       "10"
      ]
     },
     "execution_count": 4,
     "metadata": {},
     "output_type": "execute_result"
    }
   ],
   "source": [
    "n=int(input('enter a number'))\n",
    "l1=[int(input()) for i in range(n)]\n",
    "def test(l1):\n",
    "    return sum(l1)\n",
    "test(l1)"
   ]
  },
  {
   "cell_type": "code",
   "execution_count": null,
   "id": "435509e4",
   "metadata": {},
   "outputs": [],
   "source": []
  },
  {
   "cell_type": "code",
   "execution_count": null,
   "id": "39c44b53",
   "metadata": {},
   "outputs": [],
   "source": []
  },
  {
   "cell_type": "code",
   "execution_count": null,
   "id": "02ad5ec7",
   "metadata": {},
   "outputs": [],
   "source": []
  },
  {
   "cell_type": "code",
   "execution_count": null,
   "id": "0bce5a84",
   "metadata": {},
   "outputs": [],
   "source": []
  },
  {
   "cell_type": "code",
   "execution_count": null,
   "id": "bb09834e",
   "metadata": {},
   "outputs": [],
   "source": []
  },
  {
   "cell_type": "code",
   "execution_count": null,
   "id": "db7c9baf",
   "metadata": {},
   "outputs": [],
   "source": []
  },
  {
   "cell_type": "code",
   "execution_count": null,
   "id": "3e78460d",
   "metadata": {},
   "outputs": [],
   "source": []
  },
  {
   "cell_type": "code",
   "execution_count": null,
   "id": "190edf40",
   "metadata": {},
   "outputs": [],
   "source": []
  },
  {
   "cell_type": "code",
   "execution_count": null,
   "id": "02cef183",
   "metadata": {},
   "outputs": [],
   "source": []
  },
  {
   "cell_type": "code",
   "execution_count": null,
   "id": "4284b94e",
   "metadata": {},
   "outputs": [],
   "source": []
  },
  {
   "cell_type": "code",
   "execution_count": null,
   "id": "23094dd8",
   "metadata": {},
   "outputs": [],
   "source": []
  },
  {
   "cell_type": "code",
   "execution_count": null,
   "id": "a4bdb61b",
   "metadata": {},
   "outputs": [],
   "source": []
  },
  {
   "cell_type": "code",
   "execution_count": null,
   "id": "b1116fb5",
   "metadata": {},
   "outputs": [],
   "source": []
  },
  {
   "cell_type": "code",
   "execution_count": null,
   "id": "8a98abae",
   "metadata": {},
   "outputs": [],
   "source": []
  },
  {
   "cell_type": "code",
   "execution_count": null,
   "id": "ad471906",
   "metadata": {},
   "outputs": [],
   "source": []
  }
 ],
 "metadata": {
  "kernelspec": {
   "display_name": "Python 3 (ipykernel)",
   "language": "python",
   "name": "python3"
  },
  "language_info": {
   "codemirror_mode": {
    "name": "ipython",
    "version": 3
   },
   "file_extension": ".py",
   "mimetype": "text/x-python",
   "name": "python",
   "nbconvert_exporter": "python",
   "pygments_lexer": "ipython3",
   "version": "3.9.13"
  }
 },
 "nbformat": 4,
 "nbformat_minor": 5
}
