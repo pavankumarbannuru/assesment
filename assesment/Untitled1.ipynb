{
 "cells": [
  {
   "cell_type": "code",
   "execution_count": null,
   "id": "5c5c676c",
   "metadata": {},
   "outputs": [],
   "source": [
    "fun return true if number is palindrome "
   ]
  },
  {
   "cell_type": "code",
   "execution_count": 6,
   "id": "2a42f7c2",
   "metadata": {
    "ExecuteTime": {
     "end_time": "2023-08-08T01:10:40.059936Z",
     "start_time": "2023-08-08T01:10:40.045898Z"
    }
   },
   "outputs": [],
   "source": [
    "s= 123"
   ]
  },
  {
   "cell_type": "code",
   "execution_count": 7,
   "id": "28c2a4d3",
   "metadata": {
    "ExecuteTime": {
     "end_time": "2023-08-08T01:10:40.932423Z",
     "start_time": "2023-08-08T01:10:40.922726Z"
    }
   },
   "outputs": [
    {
     "data": {
      "text/plain": [
       "12"
      ]
     },
     "execution_count": 7,
     "metadata": {},
     "output_type": "execute_result"
    }
   ],
   "source": [
    "s//10"
   ]
  },
  {
   "cell_type": "code",
   "execution_count": 4,
   "id": "17446a0d",
   "metadata": {
    "ExecuteTime": {
     "end_time": "2023-08-08T01:04:22.595453Z",
     "start_time": "2023-08-08T01:04:22.569408Z"
    }
   },
   "outputs": [
    {
     "name": "stdout",
     "output_type": "stream",
     "text": [
      "The length of 12345 is 5\n"
     ]
    }
   ],
   "source": [
    "def number_length(n):\n",
    "    if n == 0:\n",
    "        return 1\n",
    "    length = 0\n",
    "    while n != 0:\n",
    "        n //= 10\n",
    "        length += 1\n",
    "    return length\n",
    "\n",
    "# Example usage:\n",
    "num = 12345\n",
    "length = number_length(num)\n",
    "print(f\"The length of {num} is {length}\")\n"
   ]
  },
  {
   "cell_type": "code",
   "execution_count": 1,
   "id": "82bd4c3d",
   "metadata": {
    "ExecuteTime": {
     "end_time": "2023-11-24T06:46:32.763167Z",
     "start_time": "2023-11-24T06:46:32.755165Z"
    }
   },
   "outputs": [],
   "source": [
    "n=12345"
   ]
  },
  {
   "cell_type": "code",
   "execution_count": 7,
   "id": "580a6471",
   "metadata": {
    "ExecuteTime": {
     "end_time": "2023-11-24T06:46:48.455045Z",
     "start_time": "2023-11-24T06:46:48.444044Z"
    }
   },
   "outputs": [
    {
     "data": {
      "text/plain": [
       "0"
      ]
     },
     "execution_count": 7,
     "metadata": {},
     "output_type": "execute_result"
    }
   ],
   "source": [
    "n //= 10\n",
    "n"
   ]
  },
  {
   "cell_type": "code",
   "execution_count": 13,
   "id": "15d9a641",
   "metadata": {
    "ExecuteTime": {
     "end_time": "2023-08-08T01:22:17.120406Z",
     "start_time": "2023-08-08T01:22:17.099395Z"
    }
   },
   "outputs": [
    {
     "data": {
      "text/plain": [
       "True"
      ]
     },
     "execution_count": 13,
     "metadata": {},
     "output_type": "execute_result"
    }
   ],
   "source": [
    "def test(num):\n",
    "    if num==0:\n",
    "        return False\n",
    "    a=num \n",
    "    b=0\n",
    "    while num>0:\n",
    "        c=num%10\n",
    "        b=b*10+c\n",
    "        num//=10\n",
    "    return a==b\n",
    "test(12321)        \n"
   ]
  },
  {
   "cell_type": "code",
   "execution_count": 18,
   "id": "eaec5a5d",
   "metadata": {
    "ExecuteTime": {
     "end_time": "2023-08-08T01:57:11.524315Z",
     "start_time": "2023-08-08T01:57:11.519311Z"
    }
   },
   "outputs": [],
   "source": [
    "n//=10  # n= n//10"
   ]
  },
  {
   "cell_type": "code",
   "execution_count": 19,
   "id": "6fc84b65",
   "metadata": {
    "ExecuteTime": {
     "end_time": "2023-08-08T01:57:12.844897Z",
     "start_time": "2023-08-08T01:57:12.825262Z"
    }
   },
   "outputs": [
    {
     "data": {
      "text/plain": [
       "12"
      ]
     },
     "execution_count": 19,
     "metadata": {},
     "output_type": "execute_result"
    }
   ],
   "source": [
    "n"
   ]
  },
  {
   "cell_type": "code",
   "execution_count": 1,
   "id": "cb855d6b",
   "metadata": {
    "ExecuteTime": {
     "end_time": "2023-12-01T04:34:14.205861Z",
     "start_time": "2023-12-01T04:34:14.187863Z"
    }
   },
   "outputs": [
    {
     "data": {
      "text/plain": [
       "5"
      ]
     },
     "execution_count": 1,
     "metadata": {},
     "output_type": "execute_result"
    }
   ],
   "source": [
    "n=14526\n",
    "def test(n):\n",
    "    if n<1:\n",
    "        return 0\n",
    "    counter=0\n",
    "    while n>0: \n",
    "        counter+=1\n",
    "        n//=10\n",
    " \n",
    "    return counter\n",
    "test(n)"
   ]
  },
  {
   "cell_type": "code",
   "execution_count": null,
   "id": "be79ca4a",
   "metadata": {},
   "outputs": [],
   "source": [
    "def is_palindrome(n):\n",
    "    if n < 0:\n",
    "        return False\n",
    "    \n",
    "    original_number = n\n",
    "    reversed_number = 0\n",
    "    \n",
    "    while n > 0:\n",
    "        digit = n % 10\n",
    "        reversed_number = reversed_number * 10 + digit\n",
    "        n //= 10\n",
    "    \n",
    "    return original_number == reversed_number\n",
    "\n",
    "# Example usage:\n",
    "num = 12321\n",
    "if is_palindrome(num):\n",
    "    print(f\"{num} is a palindrome\")\n",
    "else:\n",
    "    print(f\"{num} is not a palindrome\")\n"
   ]
  },
  {
   "cell_type": "code",
   "execution_count": 2,
   "id": "49576968",
   "metadata": {
    "ExecuteTime": {
     "end_time": "2023-12-01T04:34:40.233725Z",
     "start_time": "2023-12-01T04:34:40.214623Z"
    }
   },
   "outputs": [],
   "source": [
    "def test(s):\n",
    "    a=s[::-1]\n",
    "    if a==s:\n",
    "        return True\n",
    "    else:\n",
    "        False"
   ]
  },
  {
   "cell_type": "code",
   "execution_count": 5,
   "id": "d42b37eb",
   "metadata": {
    "ExecuteTime": {
     "end_time": "2023-12-01T04:35:15.858474Z",
     "start_time": "2023-12-01T04:35:15.847991Z"
    }
   },
   "outputs": [
    {
     "ename": "TypeError",
     "evalue": "'int' object is not subscriptable",
     "output_type": "error",
     "traceback": [
      "\u001b[1;31m---------------------------------------------------------------------------\u001b[0m",
      "\u001b[1;31mTypeError\u001b[0m                                 Traceback (most recent call last)",
      "\u001b[1;32m~\\AppData\\Local\\Temp\\ipykernel_22416\\541182918.py\u001b[0m in \u001b[0;36m<module>\u001b[1;34m\u001b[0m\n\u001b[1;32m----> 1\u001b[1;33m \u001b[0mtest\u001b[0m\u001b[1;33m(\u001b[0m\u001b[1;36m123\u001b[0m\u001b[1;33m)\u001b[0m\u001b[1;33m\u001b[0m\u001b[1;33m\u001b[0m\u001b[0m\n\u001b[0m",
      "\u001b[1;32m~\\AppData\\Local\\Temp\\ipykernel_22416\\1633405596.py\u001b[0m in \u001b[0;36mtest\u001b[1;34m(s)\u001b[0m\n\u001b[0;32m      1\u001b[0m \u001b[1;32mdef\u001b[0m \u001b[0mtest\u001b[0m\u001b[1;33m(\u001b[0m\u001b[0ms\u001b[0m\u001b[1;33m)\u001b[0m\u001b[1;33m:\u001b[0m\u001b[1;33m\u001b[0m\u001b[1;33m\u001b[0m\u001b[0m\n\u001b[1;32m----> 2\u001b[1;33m     \u001b[0ma\u001b[0m\u001b[1;33m=\u001b[0m\u001b[0ms\u001b[0m\u001b[1;33m[\u001b[0m\u001b[1;33m:\u001b[0m\u001b[1;33m:\u001b[0m\u001b[1;33m-\u001b[0m\u001b[1;36m1\u001b[0m\u001b[1;33m]\u001b[0m\u001b[1;33m\u001b[0m\u001b[1;33m\u001b[0m\u001b[0m\n\u001b[0m\u001b[0;32m      3\u001b[0m     \u001b[1;32mif\u001b[0m \u001b[0ma\u001b[0m\u001b[1;33m==\u001b[0m\u001b[0ms\u001b[0m\u001b[1;33m:\u001b[0m\u001b[1;33m\u001b[0m\u001b[1;33m\u001b[0m\u001b[0m\n\u001b[0;32m      4\u001b[0m         \u001b[1;32mreturn\u001b[0m \u001b[1;32mTrue\u001b[0m\u001b[1;33m\u001b[0m\u001b[1;33m\u001b[0m\u001b[0m\n\u001b[0;32m      5\u001b[0m     \u001b[1;32melse\u001b[0m\u001b[1;33m:\u001b[0m\u001b[1;33m\u001b[0m\u001b[1;33m\u001b[0m\u001b[0m\n",
      "\u001b[1;31mTypeError\u001b[0m: 'int' object is not subscriptable"
     ]
    }
   ],
   "source": [
    "test(123)"
   ]
  },
  {
   "cell_type": "code",
   "execution_count": 6,
   "id": "2a0cdea3",
   "metadata": {
    "ExecuteTime": {
     "end_time": "2023-07-31T09:40:44.163218Z",
     "start_time": "2023-07-31T09:40:44.149546Z"
    }
   },
   "outputs": [
    {
     "data": {
      "text/plain": [
       "1"
      ]
     },
     "execution_count": 6,
     "metadata": {},
     "output_type": "execute_result"
    }
   ],
   "source": [
    "\n",
    "s//100"
   ]
  },
  {
   "cell_type": "code",
   "execution_count": 8,
   "id": "f8df8dd4",
   "metadata": {
    "ExecuteTime": {
     "end_time": "2023-07-31T09:41:14.995979Z",
     "start_time": "2023-07-31T09:41:14.978391Z"
    }
   },
   "outputs": [
    {
     "data": {
      "text/plain": [
       "2"
      ]
     },
     "execution_count": 8,
     "metadata": {},
     "output_type": "execute_result"
    }
   ],
   "source": [
    "a=s//10\n",
    "a%10"
   ]
  },
  {
   "cell_type": "code",
   "execution_count": null,
   "id": "6fa47078",
   "metadata": {},
   "outputs": [],
   "source": [
    "def test(s):\n",
    "    a=s//100\n",
    "    "
   ]
  },
  {
   "cell_type": "code",
   "execution_count": 1,
   "id": "f9c96b30",
   "metadata": {
    "ExecuteTime": {
     "end_time": "2023-09-07T05:31:23.572050Z",
     "start_time": "2023-09-07T05:31:23.559036Z"
    }
   },
   "outputs": [],
   "source": [
    "num=12321"
   ]
  },
  {
   "cell_type": "code",
   "execution_count": 2,
   "id": "c66fcadd",
   "metadata": {
    "ExecuteTime": {
     "end_time": "2023-09-07T05:31:30.049225Z",
     "start_time": "2023-09-07T05:31:30.038223Z"
    }
   },
   "outputs": [
    {
     "data": {
      "text/plain": [
       "1"
      ]
     },
     "execution_count": 2,
     "metadata": {},
     "output_type": "execute_result"
    }
   ],
   "source": [
    "num%10"
   ]
  },
  {
   "cell_type": "code",
   "execution_count": 4,
   "id": "c0c688ac",
   "metadata": {
    "ExecuteTime": {
     "end_time": "2023-09-07T05:33:54.055192Z",
     "start_time": "2023-09-07T05:33:54.051986Z"
    }
   },
   "outputs": [],
   "source": [
    "test(num)"
   ]
  },
  {
   "cell_type": "code",
   "execution_count": null,
   "id": "01ac5006",
   "metadata": {},
   "outputs": [],
   "source": [
    "student table: id,name,gender,marks"
   ]
  },
  {
   "cell_type": "code",
   "execution_count": null,
   "id": "46a3b7c5",
   "metadata": {},
   "outputs": [],
   "source": [
    "select gender, min(marks),max(marks) from students group by gender"
   ]
  },
  {
   "cell_type": "code",
   "execution_count": null,
   "id": "46b93526",
   "metadata": {},
   "outputs": [],
   "source": [
    "student table: id,name,gender,marks\n",
    "select * from (select *,row number() over(partition by gender desc ) as rn) where rn<3"
   ]
  },
  {
   "cell_type": "markdown",
   "id": "ffb95b05",
   "metadata": {},
   "source": [
    "6. You have been given two tables: customers and customer_transactions. The customers table contains customer information such as customer_id, name, email, and signup_date. The customer_transactions table contains information about transactions made by each customer, including customer_id, transaction_id, transaction_date, and amount. Write an SQL query to find the customer churn rate for each month in the year 2023. The churn rate is defined as the percentage of customers who did not make any transactions in the following month after their signup month."
   ]
  },
  {
   "cell_type": "markdown",
   "id": "15682ed3",
   "metadata": {},
   "source": [
    "customers   : cust_id,name,email,signup_date\n",
    "customer_transactions : transaction_id,cust_id,transaction_date,amount\n",
    "Write an SQL query to find the customer churn rate for each month in the year 2023. The churn rate is defined as the percentage of customers who did not make any transactions in the following month after their signup month."
   ]
  },
  {
   "cell_type": "code",
   "execution_count": null,
   "id": "e3ba6278",
   "metadata": {},
   "outputs": [],
   "source": [
    "SELECT\n",
    "    MONTH(c1.signup_date) AS signup_month,\n",
    "    COUNT(DISTINCT c1.cust_id) AS total_customers,\n",
    "    COUNT(DISTINCT CASE WHEN c2.cust_id IS NULL THEN c1.cust_id END) AS churned_customers,\n",
    "    ROUND(COUNT(DISTINCT CASE WHEN c2.cust_id IS NULL THEN c1.cust_id END) / COUNT(DISTINCT c1.cust_id) * 100, 2) AS churn_rate\n",
    "FROM customers c1\n",
    "LEFT JOIN customer_transactions ct ON c1.cust_id = ct.cust_id\n",
    "LEFT JOIN customers c2 ON c1.cust_id = c2.cust_id\n",
    "    AND MONTH(c1.signup_date) = MONTH(c2.signup_date) - 1\n",
    "    AND YEAR(c1.signup_date) = YEAR(c2.signup_date)\n",
    "    AND NOT EXISTS (\n",
    "        SELECT 1\n",
    "        FROM customer_transactions ct2\n",
    "        WHERE ct2.cust_id = c1.cust_id\n",
    "        AND MONTH(ct2.transaction_date) = MONTH(c2.signup_date)\n",
    "        AND YEAR(ct2.transaction_date) = YEAR(c2.signup_date)\n",
    "    )\n",
    "WHERE YEAR(c1.signup_date) = 2023\n",
    "GROUP BY MONTH(c1.signup_date)\n",
    "ORDER BY signup_month;\n"
   ]
  },
  {
   "cell_type": "code",
   "execution_count": 25,
   "id": "bc949f74",
   "metadata": {
    "ExecuteTime": {
     "end_time": "2023-09-10T07:34:18.965524Z",
     "start_time": "2023-09-10T07:34:18.951524Z"
    }
   },
   "outputs": [],
   "source": [
    "l=[12,25,4,2,3,87,4,52,14,72]"
   ]
  },
  {
   "cell_type": "code",
   "execution_count": 4,
   "id": "3e018d71",
   "metadata": {
    "ExecuteTime": {
     "end_time": "2023-09-10T04:18:57.464484Z",
     "start_time": "2023-09-10T04:18:57.458484Z"
    }
   },
   "outputs": [],
   "source": [
    "def qs(l):\n",
    "    if len(l)<=1:\n",
    "        return l\n",
    "    p=l[0]\n",
    "    left=[x for x in l if x>p]\n",
    "    right=[x for x in l if x<p]\n",
    "    return qs(left)+[p]+qs(right)"
   ]
  },
  {
   "cell_type": "code",
   "execution_count": 5,
   "id": "eb6b06bf",
   "metadata": {
    "ExecuteTime": {
     "end_time": "2023-09-10T04:18:58.178727Z",
     "start_time": "2023-09-10T04:18:58.157718Z"
    }
   },
   "outputs": [
    {
     "data": {
      "text/plain": [
       "[87, 72, 52, 25, 14, 12, 4, 3, 2]"
      ]
     },
     "execution_count": 5,
     "metadata": {},
     "output_type": "execute_result"
    }
   ],
   "source": [
    "qs(l)"
   ]
  },
  {
   "cell_type": "code",
   "execution_count": 24,
   "id": "c50b756b",
   "metadata": {
    "ExecuteTime": {
     "end_time": "2023-09-10T04:53:54.228842Z",
     "start_time": "2023-09-10T04:53:54.210819Z"
    }
   },
   "outputs": [
    {
     "data": {
      "text/plain": [
       "True"
      ]
     },
     "execution_count": 24,
     "metadata": {},
     "output_type": "execute_result"
    }
   ],
   "source": [
    "n=1234321\n",
    "def test(n):\n",
    "    if n==0:\n",
    "        return False\n",
    "    a=n \n",
    "    b=0\n",
    "    while n>0:\n",
    "        c=n%10\n",
    "        b=b*10+c\n",
    "        n//=10\n",
    "    return a==b\n",
    "test(n)       "
   ]
  },
  {
   "cell_type": "code",
   "execution_count": 28,
   "id": "ae5ea1af",
   "metadata": {
    "ExecuteTime": {
     "end_time": "2023-09-10T07:34:32.422943Z",
     "start_time": "2023-09-10T07:34:32.402209Z"
    }
   },
   "outputs": [],
   "source": [
    "def bubble(l):\n",
    "    if len(l)==1:\n",
    "        return l\n",
    "    else:\n",
    "        for i in range(len(l)-1):\n",
    "            if l[i]<l[i+1]:\n",
    "                l[i],l[i+1]=l[i+1],l[i]\n",
    "                return bubble(l)\n",
    "    return l\n",
    "        "
   ]
  },
  {
   "cell_type": "code",
   "execution_count": 29,
   "id": "a06bb944",
   "metadata": {
    "ExecuteTime": {
     "end_time": "2023-09-10T07:34:32.843760Z",
     "start_time": "2023-09-10T07:34:32.836194Z"
    }
   },
   "outputs": [
    {
     "data": {
      "text/plain": [
       "[87, 72, 52, 25, 14, 12, 4, 4, 3, 2]"
      ]
     },
     "execution_count": 29,
     "metadata": {},
     "output_type": "execute_result"
    }
   ],
   "source": [
    "bubble(l)"
   ]
  },
  {
   "cell_type": "code",
   "execution_count": 1,
   "id": "448b06fb",
   "metadata": {
    "ExecuteTime": {
     "end_time": "2023-09-14T04:25:24.625620Z",
     "start_time": "2023-09-14T04:25:24.616104Z"
    }
   },
   "outputs": [],
   "source": [
    "class A:\n",
    "    def __init__(self,s):\n",
    "        self.s=s\n",
    "    def print():\n",
    "        pass"
   ]
  },
  {
   "cell_type": "code",
   "execution_count": 5,
   "id": "d4d38a81",
   "metadata": {
    "ExecuteTime": {
     "end_time": "2023-09-14T04:25:54.754085Z",
     "start_time": "2023-09-14T04:25:54.735573Z"
    }
   },
   "outputs": [],
   "source": [
    "a=A('hs')"
   ]
  },
  {
   "cell_type": "code",
   "execution_count": 8,
   "id": "6fd842f4",
   "metadata": {
    "ExecuteTime": {
     "end_time": "2023-09-14T04:26:11.226279Z",
     "start_time": "2023-09-14T04:26:11.206280Z"
    }
   },
   "outputs": [
    {
     "data": {
      "text/plain": [
       "<bound method A.print of <__main__.A object at 0x00000285EA6C67F0>>"
      ]
     },
     "execution_count": 8,
     "metadata": {},
     "output_type": "execute_result"
    }
   ],
   "source": [
    "a.print"
   ]
  },
  {
   "cell_type": "code",
   "execution_count": 9,
   "id": "93d111dd",
   "metadata": {
    "ExecuteTime": {
     "end_time": "2023-09-14T04:27:05.614747Z",
     "start_time": "2023-09-14T04:27:05.599222Z"
    }
   },
   "outputs": [],
   "source": [
    "def add(a,b):\n",
    "    assert (a>b)\n",
    "    assert (b>a)\n",
    "    print(a/b)"
   ]
  },
  {
   "cell_type": "code",
   "execution_count": 10,
   "id": "ed83bc37",
   "metadata": {
    "ExecuteTime": {
     "end_time": "2023-09-14T04:27:11.734210Z",
     "start_time": "2023-09-14T04:27:11.709218Z"
    }
   },
   "outputs": [
    {
     "ename": "AssertionError",
     "evalue": "",
     "output_type": "error",
     "traceback": [
      "\u001b[1;31m---------------------------------------------------------------------------\u001b[0m",
      "\u001b[1;31mAssertionError\u001b[0m                            Traceback (most recent call last)",
      "\u001b[1;32m~\\AppData\\Local\\Temp\\ipykernel_19860\\1029398061.py\u001b[0m in \u001b[0;36m<module>\u001b[1;34m\u001b[0m\n\u001b[1;32m----> 1\u001b[1;33m \u001b[0madd\u001b[0m\u001b[1;33m(\u001b[0m\u001b[1;36m4\u001b[0m\u001b[1;33m,\u001b[0m\u001b[1;36m0\u001b[0m\u001b[1;33m)\u001b[0m\u001b[1;33m\u001b[0m\u001b[1;33m\u001b[0m\u001b[0m\n\u001b[0m",
      "\u001b[1;32m~\\AppData\\Local\\Temp\\ipykernel_19860\\3738070549.py\u001b[0m in \u001b[0;36madd\u001b[1;34m(a, b)\u001b[0m\n\u001b[0;32m      1\u001b[0m \u001b[1;32mdef\u001b[0m \u001b[0madd\u001b[0m\u001b[1;33m(\u001b[0m\u001b[0ma\u001b[0m\u001b[1;33m,\u001b[0m\u001b[0mb\u001b[0m\u001b[1;33m)\u001b[0m\u001b[1;33m:\u001b[0m\u001b[1;33m\u001b[0m\u001b[1;33m\u001b[0m\u001b[0m\n\u001b[0;32m      2\u001b[0m     \u001b[1;32massert\u001b[0m \u001b[1;33m(\u001b[0m\u001b[0ma\u001b[0m\u001b[1;33m>\u001b[0m\u001b[0mb\u001b[0m\u001b[1;33m)\u001b[0m\u001b[1;33m\u001b[0m\u001b[1;33m\u001b[0m\u001b[0m\n\u001b[1;32m----> 3\u001b[1;33m     \u001b[1;32massert\u001b[0m \u001b[1;33m(\u001b[0m\u001b[0mb\u001b[0m\u001b[1;33m>\u001b[0m\u001b[0ma\u001b[0m\u001b[1;33m)\u001b[0m\u001b[1;33m\u001b[0m\u001b[1;33m\u001b[0m\u001b[0m\n\u001b[0m\u001b[0;32m      4\u001b[0m     \u001b[0mprint\u001b[0m\u001b[1;33m(\u001b[0m\u001b[0ma\u001b[0m\u001b[1;33m/\u001b[0m\u001b[0mb\u001b[0m\u001b[1;33m)\u001b[0m\u001b[1;33m\u001b[0m\u001b[1;33m\u001b[0m\u001b[0m\n",
      "\u001b[1;31mAssertionError\u001b[0m: "
     ]
    }
   ],
   "source": [
    "add(4,0)"
   ]
  },
  {
   "cell_type": "code",
   "execution_count": 38,
   "id": "6a63776c",
   "metadata": {
    "ExecuteTime": {
     "end_time": "2023-09-14T05:07:16.827060Z",
     "start_time": "2023-09-14T05:07:10.149593Z"
    }
   },
   "outputs": [
    {
     "name": "stdout",
     "output_type": "stream",
     "text": [
      "3\n",
      "abcdfe\n",
      "abcdfe\n"
     ]
    }
   ],
   "source": [
    "def solve (N, ch):\n",
    "    l=[]\n",
    "    for i in ch: \n",
    "        l.append(i)    \n",
    "    result_string=''\n",
    "    for i in range(min(N, len(l))):\n",
    "        result_string += l[i]\n",
    "    return result_string\n",
    "\n",
    "\n",
    "N = int(input())\n",
    "ch = input().split()\n",
    "\n",
    "out_ = solve(N, ch)\n",
    "print (out_)"
   ]
  },
  {
   "cell_type": "code",
   "execution_count": 44,
   "id": "d67909fc",
   "metadata": {
    "ExecuteTime": {
     "end_time": "2023-09-14T05:09:15.434311Z",
     "start_time": "2023-09-14T05:09:15.420534Z"
    }
   },
   "outputs": [
    {
     "name": "stdout",
     "output_type": "stream",
     "text": [
      "abc\n"
     ]
    }
   ],
   "source": [
    "    N=3\n",
    "    ch='abcdf'\n",
    "    l=[]\n",
    "    for i in ch: \n",
    "        l.append(i)    \n",
    "    result_string=''\n",
    "    for i in range(min(N, len(l))):\n",
    "        result_string += l[i]\n",
    "    print(result_string)"
   ]
  },
  {
   "cell_type": "code",
   "execution_count": 41,
   "id": "49efe564",
   "metadata": {
    "ExecuteTime": {
     "end_time": "2023-09-14T05:08:36.998947Z",
     "start_time": "2023-09-14T05:08:36.989205Z"
    }
   },
   "outputs": [
    {
     "data": {
      "text/plain": [
       "['abcdf']"
      ]
     },
     "execution_count": 41,
     "metadata": {},
     "output_type": "execute_result"
    }
   ],
   "source": [
    "l"
   ]
  },
  {
   "cell_type": "code",
   "execution_count": 42,
   "id": "060d6fef",
   "metadata": {
    "ExecuteTime": {
     "end_time": "2023-09-14T05:08:53.272618Z",
     "start_time": "2023-09-14T05:08:53.265303Z"
    }
   },
   "outputs": [
    {
     "name": "stdout",
     "output_type": "stream",
     "text": [
      "abcdf\n"
     ]
    }
   ],
   "source": [
    "for i in ch: \n",
    "    print(i)"
   ]
  },
  {
   "cell_type": "code",
   "execution_count": 47,
   "id": "bcd11a95",
   "metadata": {
    "ExecuteTime": {
     "end_time": "2023-09-14T05:12:59.719532Z",
     "start_time": "2023-09-14T05:12:55.749027Z"
    }
   },
   "outputs": [
    {
     "name": "stdout",
     "output_type": "stream",
     "text": [
      "hello world\n"
     ]
    }
   ],
   "source": [
    "a=input().split()"
   ]
  },
  {
   "cell_type": "code",
   "execution_count": 49,
   "id": "61337f13",
   "metadata": {
    "ExecuteTime": {
     "end_time": "2023-09-14T05:13:06.848490Z",
     "start_time": "2023-09-14T05:13:06.839487Z"
    }
   },
   "outputs": [
    {
     "data": {
      "text/plain": [
       "list"
      ]
     },
     "execution_count": 49,
     "metadata": {},
     "output_type": "execute_result"
    }
   ],
   "source": [
    "type(a)"
   ]
  },
  {
   "cell_type": "code",
   "execution_count": 48,
   "id": "52c87928",
   "metadata": {
    "ExecuteTime": {
     "end_time": "2023-09-14T05:13:03.904938Z",
     "start_time": "2023-09-14T05:13:03.886357Z"
    }
   },
   "outputs": [
    {
     "data": {
      "text/plain": [
       "['hello', 'world']"
      ]
     },
     "execution_count": 48,
     "metadata": {},
     "output_type": "execute_result"
    }
   ],
   "source": [
    "a"
   ]
  },
  {
   "cell_type": "code",
   "execution_count": 50,
   "id": "b11eb0c6",
   "metadata": {
    "ExecuteTime": {
     "end_time": "2023-09-14T05:13:19.790257Z",
     "start_time": "2023-09-14T05:13:19.778952Z"
    }
   },
   "outputs": [
    {
     "name": "stdout",
     "output_type": "stream",
     "text": [
      "w\n",
      "o\n",
      "r\n",
      "l\n",
      "d\n"
     ]
    }
   ],
   "source": [
    "for i in a[1]:\n",
    "    print(i)"
   ]
  },
  {
   "cell_type": "code",
   "execution_count": 1,
   "id": "8092ca7c",
   "metadata": {
    "ExecuteTime": {
     "end_time": "2023-09-20T14:30:45.723370Z",
     "start_time": "2023-09-20T14:30:45.712209Z"
    }
   },
   "outputs": [],
   "source": [
    "def remove_duplicate_ids(ids_list):\n",
    "    \n",
    "    list2=[]\n",
    "    for i in ids_list:\n",
    "        if i not in list2:\n",
    "            list2.append(i)\n",
    "    N=len(list2)\n",
    "    return (N, list2)"
   ]
  },
  {
   "cell_type": "code",
   "execution_count": null,
   "id": "7d631b00",
   "metadata": {},
   "outputs": [],
   "source": [
    "def create_permutations(numpad_list):\n",
    "    \"\"\"\n",
    "    INPUT:\n",
    "        numpad_list: The list of unique values on the numpad \n",
    "    OUPUT:\n",
    "        permutations_output: The list of lists containing all permutations.\n",
    "    \"\"\"\n",
    "    def permutation_looper(first_number_index = 0):\n",
    "        '''\n",
    "        This is our resursive function. We simply provide it the index value of\n",
    "        the original location of first number in the current permutation.\n",
    "        \n",
    "        For example, if our numpad_list is [1,2,3] than first_number_index=0 is\n",
    "        the integer 1 (which corresponds to permutations [1,2,3] and [1,3,2]\n",
    "        \n",
    "        Once first_number_index == n (for example if numpad_list is [1,2,3] than once\n",
    "        first_number_index==2 then we have permutations starting at the last number,\n",
    "        meaning we've created all possible permutations.\n",
    "        '''\n",
    "        # If the index of the first_number in the permutation\n",
    "        # is equal to our current n length of numpad_list, we are done\n",
    "        # creating permutations!\n",
    "        if first_number_index == n:  \n",
    "            permutations_output.append(numpad_list[:])\n",
    "        \n",
    "        \n",
    "        for i in range(first_number_index, n):\n",
    "            # Go through numpad_list, starting at our current\n",
    "            # \"first_number_index\".\n",
    "            numpad_list[first_number_index], numpad_list[i] = numpad_list[i], numpad_list[first_number_index]\n",
    "            \n",
    "            # Continue resursively to use the next numbers \n",
    "            # to create the permutations\n",
    "            permutation_looper(first_number_index + 1)\n",
    "            \n",
    "            # Now reset the values again, since we have called\n",
    "            # permutation_looper again.\n",
    "            numpad_list[first_number_index], numpad_list[i] = numpad_list[i], numpad_list[first_number_index]\n",
    "    \n",
    "    # N is the current length of the numpad_list\n",
    "    n = len(numpad_list)\n",
    "    \n",
    "    permutations_output = []\n",
    "    permutation_looper()\n",
    "    return permutations_output"
   ]
  },
  {
   "cell_type": "code",
   "execution_count": 2,
   "id": "3aa0b69a",
   "metadata": {
    "ExecuteTime": {
     "end_time": "2023-09-20T14:53:29.393997Z",
     "start_time": "2023-09-20T14:53:29.387999Z"
    }
   },
   "outputs": [],
   "source": [
    "from itertools import *"
   ]
  },
  {
   "cell_type": "code",
   "execution_count": 1,
   "id": "8f7d83fd",
   "metadata": {
    "ExecuteTime": {
     "end_time": "2023-09-21T11:38:45.052730Z",
     "start_time": "2023-09-21T11:38:45.034734Z"
    }
   },
   "outputs": [],
   "source": [
    "l=[1,2,3]\n",
    "def test(l):\n",
    "    return permutations(l)"
   ]
  },
  {
   "cell_type": "code",
   "execution_count": 5,
   "id": "fe32ddda",
   "metadata": {
    "ExecuteTime": {
     "end_time": "2023-09-20T14:54:20.985979Z",
     "start_time": "2023-09-20T14:54:20.967135Z"
    }
   },
   "outputs": [
    {
     "data": {
      "text/plain": [
       "[(1, 2, 3), (1, 3, 2), (2, 1, 3), (2, 3, 1), (3, 1, 2), (3, 2, 1)]"
      ]
     },
     "execution_count": 5,
     "metadata": {},
     "output_type": "execute_result"
    }
   ],
   "source": [
    "list(test(l))"
   ]
  },
  {
   "cell_type": "code",
   "execution_count": null,
   "id": "b045c8bc",
   "metadata": {},
   "outputs": [],
   "source": [
    "def test(l):\n",
    "    l=sorted(l)\n",
    "    l1=l[:]\n",
    "    for i in l: \n",
    "        "
   ]
  },
  {
   "cell_type": "code",
   "execution_count": 2,
   "id": "dc54f1ba",
   "metadata": {
    "ExecuteTime": {
     "end_time": "2023-09-21T11:50:20.500346Z",
     "start_time": "2023-09-21T11:50:20.480385Z"
    }
   },
   "outputs": [],
   "source": [
    "def permutations(head, tail=''):\n",
    "    if len(head) == 0:\n",
    "        print(tail)\n",
    "    else:\n",
    "        for i in range(len(head)):\n",
    "            permutations(head[:i] + head[i+1:], tail + head[i])"
   ]
  },
  {
   "cell_type": "code",
   "execution_count": 4,
   "id": "c86c7f90",
   "metadata": {
    "ExecuteTime": {
     "end_time": "2023-09-21T11:50:57.490174Z",
     "start_time": "2023-09-21T11:50:57.476853Z"
    }
   },
   "outputs": [
    {
     "name": "stdout",
     "output_type": "stream",
     "text": [
      "123\n",
      "132\n",
      "213\n",
      "231\n",
      "312\n",
      "321\n"
     ]
    }
   ],
   "source": [
    "permutations('123')"
   ]
  },
  {
   "cell_type": "code",
   "execution_count": null,
   "id": "2d1639b7",
   "metadata": {},
   "outputs": [],
   "source": []
  }
 ],
 "metadata": {
  "kernelspec": {
   "display_name": "Python 3 (ipykernel)",
   "language": "python",
   "name": "python3"
  },
  "language_info": {
   "codemirror_mode": {
    "name": "ipython",
    "version": 3
   },
   "file_extension": ".py",
   "mimetype": "text/x-python",
   "name": "python",
   "nbconvert_exporter": "python",
   "pygments_lexer": "ipython3",
   "version": "3.9.13"
  }
 },
 "nbformat": 4,
 "nbformat_minor": 5
}
