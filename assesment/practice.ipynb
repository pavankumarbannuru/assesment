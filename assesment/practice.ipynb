{
 "cells": [
  {
   "cell_type": "code",
   "execution_count": 40,
   "id": "5837c619",
   "metadata": {
    "ExecuteTime": {
     "end_time": "2023-02-10T06:40:03.955399Z",
     "start_time": "2023-02-10T06:40:03.947674Z"
    }
   },
   "outputs": [],
   "source": [
    "l1=[1,2,3]\n",
    "l2=[4,5,6]\n",
    "output=[5,7,9]"
   ]
  },
  {
   "cell_type": "code",
   "execution_count": 3,
   "id": "3085dc8f",
   "metadata": {
    "ExecuteTime": {
     "end_time": "2023-02-01T10:18:39.618716Z",
     "start_time": "2023-02-01T10:18:39.600719Z"
    }
   },
   "outputs": [
    {
     "data": {
      "text/plain": [
       "[5, 7, 9]"
      ]
     },
     "execution_count": 3,
     "metadata": {},
     "output_type": "execute_result"
    }
   ],
   "source": [
    "[i+j for i,j in zip(l1,l2)]"
   ]
  },
  {
   "cell_type": "code",
   "execution_count": 7,
   "id": "71656c22",
   "metadata": {
    "ExecuteTime": {
     "end_time": "2023-02-17T09:18:35.877139Z",
     "start_time": "2023-02-17T09:18:35.857610Z"
    }
   },
   "outputs": [
    {
     "data": {
      "text/plain": [
       "[5, 7, 9, 11]"
      ]
     },
     "execution_count": 7,
     "metadata": {},
     "output_type": "execute_result"
    }
   ],
   "source": [
    "list1=[1,2,3,4]\n",
    "list2=[4,5,6,7]\n",
    "result=[]\n",
    "for i in range(len(list1)):\n",
    "    result.append(list1[i]+list2[i])\n",
    "result    "
   ]
  },
  {
   "cell_type": "code",
   "execution_count": 8,
   "id": "0e652007",
   "metadata": {
    "ExecuteTime": {
     "end_time": "2023-02-17T09:19:10.204947Z",
     "start_time": "2023-02-17T09:19:10.181422Z"
    }
   },
   "outputs": [
    {
     "ename": "IndexError",
     "evalue": "list assignment index out of range",
     "output_type": "error",
     "traceback": [
      "\u001b[1;31m---------------------------------------------------------------------------\u001b[0m",
      "\u001b[1;31mIndexError\u001b[0m                                Traceback (most recent call last)",
      "\u001b[1;32m~\\AppData\\Local\\Temp\\ipykernel_22972\\657711256.py\u001b[0m in \u001b[0;36m<module>\u001b[1;34m\u001b[0m\n\u001b[0;32m      3\u001b[0m \u001b[0mresult\u001b[0m\u001b[1;33m=\u001b[0m\u001b[1;33m[\u001b[0m\u001b[1;33m]\u001b[0m\u001b[1;33m\u001b[0m\u001b[1;33m\u001b[0m\u001b[0m\n\u001b[0;32m      4\u001b[0m \u001b[1;32mfor\u001b[0m \u001b[0mi\u001b[0m \u001b[1;32min\u001b[0m \u001b[0mrange\u001b[0m\u001b[1;33m(\u001b[0m\u001b[0mlen\u001b[0m\u001b[1;33m(\u001b[0m\u001b[0mlist1\u001b[0m\u001b[1;33m)\u001b[0m\u001b[1;33m)\u001b[0m\u001b[1;33m:\u001b[0m\u001b[1;33m\u001b[0m\u001b[1;33m\u001b[0m\u001b[0m\n\u001b[1;32m----> 5\u001b[1;33m     \u001b[0mresult\u001b[0m\u001b[1;33m[\u001b[0m\u001b[0mi\u001b[0m\u001b[1;33m]\u001b[0m\u001b[1;33m=\u001b[0m\u001b[0mlist1\u001b[0m\u001b[1;33m[\u001b[0m\u001b[0mi\u001b[0m\u001b[1;33m]\u001b[0m\u001b[1;33m+\u001b[0m\u001b[0mlist2\u001b[0m\u001b[1;33m[\u001b[0m\u001b[0mi\u001b[0m\u001b[1;33m]\u001b[0m\u001b[1;33m\u001b[0m\u001b[1;33m\u001b[0m\u001b[0m\n\u001b[0m\u001b[0;32m      6\u001b[0m \u001b[0mresult\u001b[0m\u001b[1;33m\u001b[0m\u001b[1;33m\u001b[0m\u001b[0m\n",
      "\u001b[1;31mIndexError\u001b[0m: list assignment index out of range"
     ]
    }
   ],
   "source": [
    "list1=[1,2,3,4]\n",
    "list2=[4,5,6,7]\n",
    "result=[]\n",
    "for i in range(len(list1)):\n",
    "    result[i]=list1[i]+list2[i]\n",
    "result \n",
    "# as list is empty it can not access the index which was not created"
   ]
  },
  {
   "cell_type": "code",
   "execution_count": 4,
   "id": "8e6acf48",
   "metadata": {
    "ExecuteTime": {
     "end_time": "2023-06-01T04:28:16.595084Z",
     "start_time": "2023-06-01T04:28:16.576084Z"
    }
   },
   "outputs": [
    {
     "data": {
      "text/plain": [
       "[5, 7, 9, 11]"
      ]
     },
     "execution_count": 4,
     "metadata": {},
     "output_type": "execute_result"
    }
   ],
   "source": [
    "list1=[1,2,3,4]\n",
    "list2=[4,5,6,7]\n",
    "result=[]\n",
    "for i in range(len(list1)):\n",
    "    result.append(list1[i]+list2[i])\n",
    "result"
   ]
  },
  {
   "cell_type": "code",
   "execution_count": 1,
   "id": "305d9fd8",
   "metadata": {
    "ExecuteTime": {
     "end_time": "2023-06-01T04:12:04.390591Z",
     "start_time": "2023-06-01T04:12:04.352560Z"
    }
   },
   "outputs": [
    {
     "name": "stdout",
     "output_type": "stream",
     "text": [
      "20\n",
      "72\n"
     ]
    },
    {
     "data": {
      "text/plain": [
       "72"
      ]
     },
     "execution_count": 1,
     "metadata": {},
     "output_type": "execute_result"
    }
   ],
   "source": [
    "d={}\n",
    "d[(1,2,3)]=20\n",
    "d[(8,5,9)]=52\n",
    "s=0\n",
    "for i in d:\n",
    "    s=s+d[i] \n",
    "    print(s)\n",
    "s   "
   ]
  },
  {
   "cell_type": "code",
   "execution_count": 5,
   "id": "b99e4547",
   "metadata": {
    "ExecuteTime": {
     "end_time": "2023-06-01T04:43:31.629746Z",
     "start_time": "2023-06-01T04:43:31.619974Z"
    }
   },
   "outputs": [],
   "source": [
    "d={}\n",
    "d[(1,2,3)]=20\n",
    "d[(8,5,9)]=52\n",
    "s=0\n",
    "for i in d:\n",
    "    s=s+d[i]\n",
    "    "
   ]
  },
  {
   "cell_type": "code",
   "execution_count": 6,
   "id": "87a831ab",
   "metadata": {
    "ExecuteTime": {
     "end_time": "2023-06-01T04:43:34.497882Z",
     "start_time": "2023-06-01T04:43:34.478374Z"
    }
   },
   "outputs": [
    {
     "data": {
      "text/plain": [
       "72"
      ]
     },
     "execution_count": 6,
     "metadata": {},
     "output_type": "execute_result"
    }
   ],
   "source": [
    "s"
   ]
  },
  {
   "cell_type": "code",
   "execution_count": 7,
   "id": "23afcd8e",
   "metadata": {
    "ExecuteTime": {
     "end_time": "2023-06-01T04:43:50.163336Z",
     "start_time": "2023-06-01T04:43:50.146260Z"
    }
   },
   "outputs": [
    {
     "data": {
      "text/plain": [
       "{(1, 2, 3): 20, (8, 5, 9): 52}"
      ]
     },
     "execution_count": 7,
     "metadata": {},
     "output_type": "execute_result"
    }
   ],
   "source": [
    "d"
   ]
  },
  {
   "cell_type": "code",
   "execution_count": 3,
   "id": "afe7b6ad",
   "metadata": {
    "ExecuteTime": {
     "end_time": "2023-02-03T07:13:13.036190Z",
     "start_time": "2023-02-03T07:13:13.015666Z"
    }
   },
   "outputs": [
    {
     "data": {
      "text/plain": [
       "[{1: 4}, {2: 5}, {3: 6}]"
      ]
     },
     "execution_count": 3,
     "metadata": {},
     "output_type": "execute_result"
    }
   ],
   "source": [
    "[{i:j} for i,j in zip(l1,l2)]"
   ]
  },
  {
   "cell_type": "code",
   "execution_count": 6,
   "id": "d32dddab",
   "metadata": {
    "ExecuteTime": {
     "end_time": "2023-02-03T07:15:27.380997Z",
     "start_time": "2023-02-03T07:15:27.374000Z"
    }
   },
   "outputs": [
    {
     "name": "stdout",
     "output_type": "stream",
     "text": [
      "{1: 2}\n",
      "{3: 4}\n",
      "{5: 6}\n"
     ]
    }
   ],
   "source": [
    "l=[1,2,3,4,5,6]\n",
    "for i in range(0,len(l),2):\n",
    "    print({l[i]:l[i+1]})"
   ]
  },
  {
   "cell_type": "code",
   "execution_count": 3,
   "id": "e06bb96a",
   "metadata": {
    "ExecuteTime": {
     "end_time": "2023-02-01T05:41:31.135892Z",
     "start_time": "2023-02-01T05:41:31.117367Z"
    }
   },
   "outputs": [
    {
     "data": {
      "text/plain": [
       "[1, 2, 3, 5]"
      ]
     },
     "execution_count": 3,
     "metadata": {},
     "output_type": "execute_result"
    }
   ],
   "source": [
    "l1"
   ]
  },
  {
   "cell_type": "code",
   "execution_count": 4,
   "id": "2a143511",
   "metadata": {
    "ExecuteTime": {
     "end_time": "2023-02-01T05:41:39.797555Z",
     "start_time": "2023-02-01T05:41:39.785978Z"
    }
   },
   "outputs": [],
   "source": [
    "t=(1,2,3)"
   ]
  },
  {
   "cell_type": "code",
   "execution_count": null,
   "id": "7e3a75e0",
   "metadata": {},
   "outputs": [],
   "source": [
    "output={1:4,2:5,3:6}"
   ]
  },
  {
   "cell_type": "code",
   "execution_count": 15,
   "id": "9e075f74",
   "metadata": {
    "ExecuteTime": {
     "end_time": "2023-02-10T01:44:55.741034Z",
     "start_time": "2023-02-10T01:44:55.731818Z"
    }
   },
   "outputs": [],
   "source": [
    "list=[1,2,3,4,5,6,7,8]"
   ]
  },
  {
   "cell_type": "code",
   "execution_count": 21,
   "id": "d7811b37",
   "metadata": {
    "ExecuteTime": {
     "end_time": "2023-02-10T01:47:59.149916Z",
     "start_time": "2023-02-10T01:47:59.142899Z"
    }
   },
   "outputs": [
    {
     "name": "stdout",
     "output_type": "stream",
     "text": [
      "{1: 2}\n",
      "{3: 4}\n",
      "{5: 6}\n",
      "{7: 8}\n"
     ]
    }
   ],
   "source": [
    "for i in range(0,len(list),2):\n",
    "    print({list[i]:list[i+1]})"
   ]
  },
  {
   "cell_type": "code",
   "execution_count": 26,
   "id": "b448b422",
   "metadata": {
    "ExecuteTime": {
     "end_time": "2023-02-10T01:50:11.543808Z",
     "start_time": "2023-02-10T01:50:11.535104Z"
    }
   },
   "outputs": [
    {
     "name": "stdout",
     "output_type": "stream",
     "text": [
      "{(1, 2): (3, 4)}\n",
      "{(5, 6): (7, 8)}\n"
     ]
    }
   ],
   "source": [
    "for i in range(0,len(list),4):\n",
    "    print({(list[i],list[i+1]):(list[i+2],list[i+3])})"
   ]
  },
  {
   "cell_type": "code",
   "execution_count": 28,
   "id": "7543a89d",
   "metadata": {
    "ExecuteTime": {
     "end_time": "2023-02-10T01:50:59.315105Z",
     "start_time": "2023-02-10T01:50:59.291843Z"
    }
   },
   "outputs": [
    {
     "ename": "TypeError",
     "evalue": "unhashable type: 'list'",
     "output_type": "error",
     "traceback": [
      "\u001b[1;31m---------------------------------------------------------------------------\u001b[0m",
      "\u001b[1;31mTypeError\u001b[0m                                 Traceback (most recent call last)",
      "\u001b[1;32m~\\AppData\\Local\\Temp\\ipykernel_34536\\440617340.py\u001b[0m in \u001b[0;36m<module>\u001b[1;34m\u001b[0m\n\u001b[1;32m----> 1\u001b[1;33m \u001b[1;33m{\u001b[0m\u001b[1;33m[\u001b[0m\u001b[1;36m1\u001b[0m\u001b[1;33m,\u001b[0m\u001b[1;36m2\u001b[0m\u001b[1;33m]\u001b[0m\u001b[1;33m:\u001b[0m\u001b[1;33m[\u001b[0m\u001b[1;36m3\u001b[0m\u001b[1;33m,\u001b[0m\u001b[1;36m4\u001b[0m\u001b[1;33m]\u001b[0m\u001b[1;33m}\u001b[0m\u001b[1;33m\u001b[0m\u001b[1;33m\u001b[0m\u001b[0m\n\u001b[0m",
      "\u001b[1;31mTypeError\u001b[0m: unhashable type: 'list'"
     ]
    }
   ],
   "source": [
    "{[1,2]:[3,4]}"
   ]
  },
  {
   "cell_type": "code",
   "execution_count": 7,
   "id": "9d7b88d1",
   "metadata": {
    "ExecuteTime": {
     "end_time": "2023-02-03T07:16:28.191717Z",
     "start_time": "2023-02-03T07:16:28.180719Z"
    }
   },
   "outputs": [],
   "source": [
    "list1=[1,2,445,12,1]"
   ]
  },
  {
   "cell_type": "code",
   "execution_count": 9,
   "id": "efdeac90",
   "metadata": {
    "ExecuteTime": {
     "end_time": "2023-02-03T07:16:47.652016Z",
     "start_time": "2023-02-03T07:16:47.645015Z"
    }
   },
   "outputs": [
    {
     "data": {
      "text/plain": [
       "12"
      ]
     },
     "execution_count": 9,
     "metadata": {},
     "output_type": "execute_result"
    }
   ],
   "source": [
    "list1=sorted(list1)\n",
    "list1[-2]"
   ]
  },
  {
   "cell_type": "code",
   "execution_count": 11,
   "id": "9fbd49ec",
   "metadata": {
    "ExecuteTime": {
     "end_time": "2023-02-03T07:18:30.450569Z",
     "start_time": "2023-02-03T07:18:30.445086Z"
    }
   },
   "outputs": [
    {
     "data": {
      "text/plain": [
       "[2, 3, 4, 5]"
      ]
     },
     "execution_count": 11,
     "metadata": {},
     "output_type": "execute_result"
    }
   ],
   "source": [
    "list(map(lambda x: x+1,[1,2,3,4]))"
   ]
  },
  {
   "cell_type": "code",
   "execution_count": null,
   "id": "0172b255",
   "metadata": {},
   "outputs": [],
   "source": []
  },
  {
   "cell_type": "code",
   "execution_count": 1,
   "id": "332445e6",
   "metadata": {
    "ExecuteTime": {
     "end_time": "2023-02-10T01:39:06.177399Z",
     "start_time": "2023-02-10T01:39:06.150397Z"
    }
   },
   "outputs": [],
   "source": [
    "list=[125,44,5,77,8889,552]"
   ]
  },
  {
   "cell_type": "code",
   "execution_count": 2,
   "id": "1dc7236f",
   "metadata": {
    "ExecuteTime": {
     "end_time": "2023-02-10T01:39:07.701131Z",
     "start_time": "2023-02-10T01:39:07.687131Z"
    }
   },
   "outputs": [],
   "source": [
    "def bub(list):\n",
    "    for i in range(len(list)-1):\n",
    "        if list[i]>list[i+1]:\n",
    "            list[i],list[i+1]=list[i+1],list[i]\n",
    "            return bub(list)\n",
    "    return list[-2]\n",
    "        "
   ]
  },
  {
   "cell_type": "code",
   "execution_count": 3,
   "id": "4be32bf1",
   "metadata": {
    "ExecuteTime": {
     "end_time": "2023-02-10T01:39:09.179384Z",
     "start_time": "2023-02-10T01:39:09.151384Z"
    }
   },
   "outputs": [
    {
     "data": {
      "text/plain": [
       "552"
      ]
     },
     "execution_count": 3,
     "metadata": {},
     "output_type": "execute_result"
    }
   ],
   "source": [
    "bub(list)"
   ]
  },
  {
   "cell_type": "code",
   "execution_count": 7,
   "id": "8e84de03",
   "metadata": {
    "ExecuteTime": {
     "end_time": "2023-02-10T01:40:50.499193Z",
     "start_time": "2023-02-10T01:40:50.478591Z"
    }
   },
   "outputs": [
    {
     "ename": "NameError",
     "evalue": "name 'n' is not defined",
     "output_type": "error",
     "traceback": [
      "\u001b[1;31m---------------------------------------------------------------------------\u001b[0m",
      "\u001b[1;31mNameError\u001b[0m                                 Traceback (most recent call last)",
      "\u001b[1;32m~\\AppData\\Local\\Temp\\ipykernel_34536\\2429720120.py\u001b[0m in \u001b[0;36m<module>\u001b[1;34m\u001b[0m\n\u001b[0;32m      1\u001b[0m \u001b[0ml4\u001b[0m\u001b[1;33m=\u001b[0m\u001b[1;33m[\u001b[0m\u001b[1;36m1\u001b[0m\u001b[1;33m,\u001b[0m\u001b[1;36m2\u001b[0m\u001b[1;33m,\u001b[0m\u001b[1;36m3\u001b[0m\u001b[1;33m,\u001b[0m\u001b[1;36m4\u001b[0m\u001b[1;33m]\u001b[0m\u001b[1;33m\u001b[0m\u001b[1;33m\u001b[0m\u001b[0m\n\u001b[1;32m----> 2\u001b[1;33m \u001b[0mmap\u001b[0m\u001b[1;33m(\u001b[0m\u001b[0mcn\u001b[0m\u001b[1;33m(\u001b[0m\u001b[0mn\u001b[0m\u001b[1;33m)\u001b[0m\u001b[1;33m,\u001b[0m\u001b[0ml4\u001b[0m\u001b[1;33m)\u001b[0m\u001b[1;33m\u001b[0m\u001b[1;33m\u001b[0m\u001b[0m\n\u001b[0m\u001b[0;32m      3\u001b[0m \u001b[0ml4\u001b[0m\u001b[1;33m\u001b[0m\u001b[1;33m\u001b[0m\u001b[0m\n",
      "\u001b[1;31mNameError\u001b[0m: name 'n' is not defined"
     ]
    }
   ],
   "source": [
    "l4=[1,2,3,4]\n",
    "map(cn(n),l4)\n",
    "l4"
   ]
  },
  {
   "cell_type": "code",
   "execution_count": 14,
   "id": "19cd62f6",
   "metadata": {
    "ExecuteTime": {
     "end_time": "2023-02-10T01:43:19.174516Z",
     "start_time": "2023-02-10T01:43:19.167008Z"
    }
   },
   "outputs": [
    {
     "data": {
      "text/plain": [
       "{2, 4, 6, 8}"
      ]
     },
     "execution_count": 14,
     "metadata": {},
     "output_type": "execute_result"
    }
   ],
   "source": [
    "set(map(cn,l4))"
   ]
  },
  {
   "cell_type": "code",
   "execution_count": 11,
   "id": "24616cc1",
   "metadata": {
    "ExecuteTime": {
     "end_time": "2023-02-10T01:41:51.396577Z",
     "start_time": "2023-02-10T01:41:51.378039Z"
    }
   },
   "outputs": [
    {
     "data": {
      "text/plain": [
       "{1, 4, 9, 16}"
      ]
     },
     "execution_count": 11,
     "metadata": {},
     "output_type": "execute_result"
    }
   ],
   "source": [
    "set(map(lambda x:x*x,l4))"
   ]
  },
  {
   "cell_type": "code",
   "execution_count": 8,
   "id": "edd7d636",
   "metadata": {
    "ExecuteTime": {
     "end_time": "2023-02-10T01:40:53.368239Z",
     "start_time": "2023-02-10T01:40:53.358612Z"
    }
   },
   "outputs": [],
   "source": [
    "def cn(n):\n",
    "    return n+n"
   ]
  },
  {
   "cell_type": "code",
   "execution_count": 35,
   "id": "0e7289eb",
   "metadata": {
    "ExecuteTime": {
     "end_time": "2023-02-01T10:49:00.616594Z",
     "start_time": "2023-02-01T10:49:00.600584Z"
    }
   },
   "outputs": [
    {
     "name": "stdout",
     "output_type": "stream",
     "text": [
      "<map object at 0x00000244D9551BE0>\n",
      "{8, 2, 4, 6}\n"
     ]
    }
   ],
   "source": [
    "def calculateAddition(n):  \n",
    "      return n+n  \n",
    "  \n",
    "numbers = (1, 2, 3, 4)  \n",
    "result = map(calculateAddition, numbers)  \n",
    "print(result)  \n",
    "numbersAddition = set(result)  \n",
    "print(numbersAddition)  "
   ]
  },
  {
   "cell_type": "code",
   "execution_count": null,
   "id": "eaefb88e",
   "metadata": {},
   "outputs": [],
   "source": [
    "student table:\n",
    "    student id,\n",
    "    name,\n",
    "    gender,\n",
    "    age\n",
    "    marks"
   ]
  },
  {
   "cell_type": "code",
   "execution_count": null,
   "id": "187ae534",
   "metadata": {},
   "outputs": [],
   "source": [
    "select student_id,AVG(marks) as 'AVERAGE_MARKS'\n",
    "from student groupby gender"
   ]
  },
  {
   "cell_type": "code",
   "execution_count": 3,
   "id": "09d2363d",
   "metadata": {
    "ExecuteTime": {
     "end_time": "2023-02-07T06:02:34.558687Z",
     "start_time": "2023-02-07T06:02:34.555169Z"
    }
   },
   "outputs": [],
   "source": [
    "l= [1,2,3,4,5,7,55,2,41,3,5,4]"
   ]
  },
  {
   "cell_type": "code",
   "execution_count": 4,
   "id": "1dd1a0cc",
   "metadata": {
    "ExecuteTime": {
     "end_time": "2023-02-07T06:02:35.168716Z",
     "start_time": "2023-02-07T06:02:35.151423Z"
    }
   },
   "outputs": [
    {
     "data": {
      "text/plain": [
       "55"
      ]
     },
     "execution_count": 4,
     "metadata": {},
     "output_type": "execute_result"
    }
   ],
   "source": [
    "max(l)"
   ]
  },
  {
   "cell_type": "code",
   "execution_count": 5,
   "id": "65faa407",
   "metadata": {
    "ExecuteTime": {
     "end_time": "2023-02-07T06:02:49.109420Z",
     "start_time": "2023-02-07T06:02:49.104066Z"
    }
   },
   "outputs": [],
   "source": [
    "l.remove(max(l))"
   ]
  },
  {
   "cell_type": "code",
   "execution_count": 7,
   "id": "110685d9",
   "metadata": {
    "ExecuteTime": {
     "end_time": "2023-02-07T06:03:06.871364Z",
     "start_time": "2023-02-07T06:03:06.853364Z"
    }
   },
   "outputs": [
    {
     "data": {
      "text/plain": [
       "41"
      ]
     },
     "execution_count": 7,
     "metadata": {},
     "output_type": "execute_result"
    }
   ],
   "source": [
    "max(l)"
   ]
  },
  {
   "cell_type": "code",
   "execution_count": 30,
   "id": "a9a247cc",
   "metadata": {
    "ExecuteTime": {
     "end_time": "2023-02-10T06:26:17.610521Z",
     "start_time": "2023-02-10T06:26:17.596878Z"
    }
   },
   "outputs": [
    {
     "name": "stdout",
     "output_type": "stream",
     "text": [
      "[-6, -9, -12]\n"
     ]
    }
   ],
   "source": [
    "s=-3 \n",
    "v=[2,3,4]\n",
    "# scalar multiplication on a vector\n",
    "l=[s*i for i in v] \n",
    "print(l)"
   ]
  },
  {
   "cell_type": "code",
   "execution_count": 35,
   "id": "610d6833",
   "metadata": {
    "ExecuteTime": {
     "end_time": "2023-02-10T06:29:53.749853Z",
     "start_time": "2023-02-10T06:29:53.737069Z"
    }
   },
   "outputs": [
    {
     "data": {
      "text/plain": [
       "[1, 4, 9, 16, 25, 36]"
      ]
     },
     "execution_count": 35,
     "metadata": {},
     "output_type": "execute_result"
    }
   ],
   "source": [
    "l=[1,2,3,4,5,6]\n",
    "n=0\n",
    "[(i*i) for i in l]"
   ]
  },
  {
   "cell_type": "code",
   "execution_count": 37,
   "id": "20c97026",
   "metadata": {
    "ExecuteTime": {
     "end_time": "2023-02-10T06:32:15.260482Z",
     "start_time": "2023-02-10T06:32:15.242800Z"
    }
   },
   "outputs": [
    {
     "data": {
      "text/plain": [
       "[0, 5, 10, 15, 20, 25, 30, 35, 40, 45]"
      ]
     },
     "execution_count": 37,
     "metadata": {},
     "output_type": "execute_result"
    }
   ],
   "source": [
    "[i for i in range(50) if i%5==0]"
   ]
  },
  {
   "cell_type": "code",
   "execution_count": 38,
   "id": "d91a124b",
   "metadata": {
    "ExecuteTime": {
     "end_time": "2023-02-10T06:37:48.587956Z",
     "start_time": "2023-02-10T06:37:48.576840Z"
    }
   },
   "outputs": [
    {
     "data": {
      "text/plain": [
       "['python', 'pk', 'pycharm']"
      ]
     },
     "execution_count": 38,
     "metadata": {},
     "output_type": "execute_result"
    }
   ],
   "source": [
    "l=['java','python','pk','pycharm','vscode']\n",
    "[i for i in l if i[0]=='p']"
   ]
  },
  {
   "cell_type": "code",
   "execution_count": 39,
   "id": "83fe0e37",
   "metadata": {
    "ExecuteTime": {
     "end_time": "2023-02-10T06:38:42.841724Z",
     "start_time": "2023-02-10T06:38:42.836212Z"
    }
   },
   "outputs": [
    {
     "data": {
      "text/plain": [
       "['python', 'pk', 'pycharm']"
      ]
     },
     "execution_count": 39,
     "metadata": {},
     "output_type": "execute_result"
    }
   ],
   "source": [
    "[i for i in l if i.startswith('p')]"
   ]
  },
  {
   "cell_type": "code",
   "execution_count": 45,
   "id": "542f7e84",
   "metadata": {
    "ExecuteTime": {
     "end_time": "2023-02-10T06:43:23.162401Z",
     "start_time": "2023-02-10T06:43:23.143877Z"
    }
   },
   "outputs": [
    {
     "data": {
      "text/plain": [
       "['python']"
      ]
     },
     "execution_count": 45,
     "metadata": {},
     "output_type": "execute_result"
    }
   ],
   "source": [
    "l=['java','python','pk','pycharm','vscode']\n",
    "p=['numpy','pandas','python']\n",
    "# checking in both lists and startswith p\n",
    "[i for i in l if i in p if i.startswith('p')]"
   ]
  },
  {
   "cell_type": "code",
   "execution_count": 95,
   "id": "94c12f6c",
   "metadata": {
    "ExecuteTime": {
     "end_time": "2023-02-10T11:18:44.825283Z",
     "start_time": "2023-02-10T11:18:44.814284Z"
    }
   },
   "outputs": [
    {
     "data": {
      "text/plain": [
       "((1, 5), (2, 6), (3, 7), (4, 8), (5, 9))"
      ]
     },
     "execution_count": 95,
     "metadata": {},
     "output_type": "execute_result"
    }
   ],
   "source": [
    "l1=[1,2,3,4,5]\n",
    "l2=[5,6,7,8,9]\n",
    "tuple(zip(l1,l2))"
   ]
  },
  {
   "cell_type": "code",
   "execution_count": 97,
   "id": "e9e78dfd",
   "metadata": {
    "ExecuteTime": {
     "end_time": "2023-02-10T11:19:09.644226Z",
     "start_time": "2023-02-10T11:19:09.633916Z"
    }
   },
   "outputs": [
    {
     "ename": "TypeError",
     "evalue": "'list' object is not callable",
     "output_type": "error",
     "traceback": [
      "\u001b[1;31m---------------------------------------------------------------------------\u001b[0m",
      "\u001b[1;31mTypeError\u001b[0m                                 Traceback (most recent call last)",
      "\u001b[1;32m~\\AppData\\Local\\Temp\\ipykernel_34536\\4205572011.py\u001b[0m in \u001b[0;36m<module>\u001b[1;34m\u001b[0m\n\u001b[1;32m----> 1\u001b[1;33m \u001b[0mlist\u001b[0m\u001b[1;33m(\u001b[0m\u001b[0mzip\u001b[0m\u001b[1;33m(\u001b[0m\u001b[0ml1\u001b[0m\u001b[1;33m,\u001b[0m\u001b[0ml2\u001b[0m\u001b[1;33m)\u001b[0m\u001b[1;33m)\u001b[0m\u001b[1;33m\u001b[0m\u001b[1;33m\u001b[0m\u001b[0m\n\u001b[0m",
      "\u001b[1;31mTypeError\u001b[0m: 'list' object is not callable"
     ]
    }
   ],
   "source": [
    "list(zip(l1,l2))"
   ]
  },
  {
   "cell_type": "code",
   "execution_count": 98,
   "id": "2a31c66a",
   "metadata": {
    "ExecuteTime": {
     "end_time": "2023-02-10T11:19:24.537363Z",
     "start_time": "2023-02-10T11:19:24.523898Z"
    }
   },
   "outputs": [
    {
     "data": {
      "text/plain": [
       "{(1, 5), (2, 6), (3, 7), (4, 8), (5, 9)}"
      ]
     },
     "execution_count": 98,
     "metadata": {},
     "output_type": "execute_result"
    }
   ],
   "source": [
    "set(zip(l1,l2))"
   ]
  },
  {
   "cell_type": "code",
   "execution_count": 51,
   "id": "1489c0f9",
   "metadata": {
    "ExecuteTime": {
     "end_time": "2023-02-10T06:52:03.656152Z",
     "start_time": "2023-02-10T06:52:03.636335Z"
    }
   },
   "outputs": [
    {
     "data": {
      "text/plain": [
       "[0, 0, 0, 0]"
      ]
     },
     "execution_count": 51,
     "metadata": {},
     "output_type": "execute_result"
    }
   ],
   "source": [
    "L1 = [1,2,3,4]\n",
    "L2 = [-1,-2,-3,-4]\n",
    "\n",
    "#list(zip(L1,L2)) \n",
    "\n",
    "[i+j for i,j in zip(L1,L2)]"
   ]
  },
  {
   "cell_type": "code",
   "execution_count": 85,
   "id": "31f75352",
   "metadata": {
    "ExecuteTime": {
     "end_time": "2023-02-10T07:01:44.558427Z",
     "start_time": "2023-02-10T07:01:44.545737Z"
    }
   },
   "outputs": [
    {
     "data": {
      "text/plain": [
       "[1, 2, 3, 4, 5, 5, 6, 7, 8, 9]"
      ]
     },
     "execution_count": 85,
     "metadata": {},
     "output_type": "execute_result"
    }
   ],
   "source": [
    "l=l1+l2\n",
    "l"
   ]
  },
  {
   "cell_type": "code",
   "execution_count": 88,
   "id": "32a0c5b4",
   "metadata": {
    "ExecuteTime": {
     "end_time": "2023-02-10T07:01:54.915806Z",
     "start_time": "2023-02-10T07:01:54.897736Z"
    }
   },
   "outputs": [],
   "source": [
    "for i in range(len(l)):\n",
    "    if l[i]==5:\n",
    "        #break\n",
    "        l[i]=300"
   ]
  },
  {
   "cell_type": "code",
   "execution_count": 89,
   "id": "c3f3a474",
   "metadata": {
    "ExecuteTime": {
     "end_time": "2023-02-10T07:01:55.503238Z",
     "start_time": "2023-02-10T07:01:55.489236Z"
    }
   },
   "outputs": [
    {
     "data": {
      "text/plain": [
       "[1, 2, 3, 4, 300, 300, 6, 7, 8, 9]"
      ]
     },
     "execution_count": 89,
     "metadata": {},
     "output_type": "execute_result"
    }
   ],
   "source": [
    "l"
   ]
  },
  {
   "cell_type": "code",
   "execution_count": 90,
   "id": "e8a5e4d5",
   "metadata": {
    "ExecuteTime": {
     "end_time": "2023-02-10T11:01:01.296502Z",
     "start_time": "2023-02-10T11:01:01.279910Z"
    }
   },
   "outputs": [
    {
     "data": {
      "text/plain": [
       "(1, 2, 3, 4, 4, 5, 6, 7)"
      ]
     },
     "execution_count": 90,
     "metadata": {},
     "output_type": "execute_result"
    }
   ],
   "source": [
    "t1=(1,2,3,4)\n",
    "t2=(4,5,6,7)\n",
    "t1+t2"
   ]
  },
  {
   "cell_type": "code",
   "execution_count": 91,
   "id": "27ed6f48",
   "metadata": {
    "ExecuteTime": {
     "end_time": "2023-02-10T11:11:33.486449Z",
     "start_time": "2023-02-10T11:11:33.473737Z"
    }
   },
   "outputs": [
    {
     "name": "stdout",
     "output_type": "stream",
     "text": [
      "[1, 2, 3, 4]\n",
      "[1, 2, 3, 4]\n"
     ]
    }
   ],
   "source": [
    "a=[1,2,3]\n",
    "b=a \n",
    "a.append(4)\n",
    "print(a)\n",
    "print(b)"
   ]
  },
  {
   "cell_type": "code",
   "execution_count": 94,
   "id": "003a4d03",
   "metadata": {
    "ExecuteTime": {
     "end_time": "2023-02-10T11:12:14.929993Z",
     "start_time": "2023-02-10T11:12:14.911024Z"
    }
   },
   "outputs": [
    {
     "name": "stdout",
     "output_type": "stream",
     "text": [
      "(1, 2, 3, 4)\n",
      "(1, 2, 3)\n"
     ]
    }
   ],
   "source": [
    "a=(1,2,3)\n",
    "b=a \n",
    "a=a+(4,)\n",
    "print(a)\n",
    "print(b)"
   ]
  },
  {
   "cell_type": "code",
   "execution_count": 109,
   "id": "016a4848",
   "metadata": {
    "ExecuteTime": {
     "end_time": "2023-02-10T11:24:55.048810Z",
     "start_time": "2023-02-10T11:24:55.034294Z"
    }
   },
   "outputs": [],
   "source": [
    "a={1,2,3,(1,2,3)}  # set dont contain mutable data types"
   ]
  },
  {
   "cell_type": "code",
   "execution_count": 110,
   "id": "c5b66f42",
   "metadata": {
    "ExecuteTime": {
     "end_time": "2023-02-10T11:24:55.576257Z",
     "start_time": "2023-02-10T11:24:55.569749Z"
    }
   },
   "outputs": [
    {
     "data": {
      "text/plain": [
       "{(1, 2, 3), 1, 2, 3}"
      ]
     },
     "execution_count": 110,
     "metadata": {},
     "output_type": "execute_result"
    }
   ],
   "source": [
    "a"
   ]
  },
  {
   "cell_type": "code",
   "execution_count": 112,
   "id": "9bedd671",
   "metadata": {
    "ExecuteTime": {
     "end_time": "2023-02-10T11:25:01.749201Z",
     "start_time": "2023-02-10T11:25:01.732162Z"
    }
   },
   "outputs": [
    {
     "data": {
      "text/plain": [
       "set"
      ]
     },
     "execution_count": 112,
     "metadata": {},
     "output_type": "execute_result"
    }
   ],
   "source": [
    "type(a)"
   ]
  },
  {
   "cell_type": "code",
   "execution_count": null,
   "id": "cf177152",
   "metadata": {},
   "outputs": [],
   "source": []
  },
  {
   "cell_type": "code",
   "execution_count": null,
   "id": "1a4a1fb1",
   "metadata": {},
   "outputs": [],
   "source": [
    "l1=[25,30,35,40,45,50]\n",
    "l2=[60]\n",
    "l3=[60,(25-60),(30+35),(35-65)...]\n",
    "l3 is build in this way\n",
    "l3[0]=60\n",
    "l3[1]=l1[0]-l3[0]\n",
    "l3[2]=l1[1]-l3[1]\n",
    "l3[3]=l1[2]-l3[2]\n",
    "\n",
    "l3[0]=60\n",
    "l3[1]=l1[0]-l3[0]\n",
    "l3[2]=l1[1]+l3[1]\n",
    "l3[3]=l1[2]-l3[2]\n",
    "\n",
    "l3=[]\n",
    "l1=[25,30,35,40,45,50]\n",
    "l2=[60]\n",
    "for i in range(len(l1)):\n",
    "    l3.append(l2)\n",
    "    if i%2==0:\n",
    "        s=l1[i]-l3[i]\n",
    "        l.append(s) \n",
    "    else:\n",
    "        s=l1[i]=l3[i]\n",
    "        l3.append(s)"
   ]
  },
  {
   "cell_type": "code",
   "execution_count": null,
   "id": "019d8bc0",
   "metadata": {},
   "outputs": [],
   "source": []
  },
  {
   "cell_type": "code",
   "execution_count": null,
   "id": "167ebae3",
   "metadata": {},
   "outputs": [],
   "source": []
  },
  {
   "cell_type": "code",
   "execution_count": 9,
   "id": "0d31e6bc",
   "metadata": {
    "ExecuteTime": {
     "end_time": "2023-02-14T10:14:53.674637Z",
     "start_time": "2023-02-14T10:14:53.654603Z"
    }
   },
   "outputs": [],
   "source": [
    "row,column = 3,3\n",
    "x=[[1 for i in range(row)] for j in range(column)]\n",
    "y=[[2 for i in range(row)] for j in range(column)]\n",
    "z=[[3 for i in range(row)] for j in range(column)]"
   ]
  },
  {
   "cell_type": "code",
   "execution_count": 10,
   "id": "51955b5c",
   "metadata": {
    "ExecuteTime": {
     "end_time": "2023-02-14T10:14:56.784525Z",
     "start_time": "2023-02-14T10:14:56.768796Z"
    }
   },
   "outputs": [],
   "source": [
    "for i in range(row):\n",
    "    for j in range(column):\n",
    "        x[i][j]=y[i][j]+z[i][j] "
   ]
  },
  {
   "cell_type": "code",
   "execution_count": 11,
   "id": "35e111a5",
   "metadata": {
    "ExecuteTime": {
     "end_time": "2023-02-14T10:15:00.366682Z",
     "start_time": "2023-02-14T10:15:00.349037Z"
    }
   },
   "outputs": [
    {
     "data": {
      "text/plain": [
       "[[5, 5, 5], [5, 5, 5], [5, 5, 5]]"
      ]
     },
     "execution_count": 11,
     "metadata": {},
     "output_type": "execute_result"
    }
   ],
   "source": [
    "x"
   ]
  },
  {
   "cell_type": "code",
   "execution_count": 13,
   "id": "89f5d220",
   "metadata": {
    "ExecuteTime": {
     "end_time": "2023-02-14T10:26:10.282450Z",
     "start_time": "2023-02-14T10:26:10.265688Z"
    }
   },
   "outputs": [],
   "source": [
    "def s(l):\n",
    "    for i in range(0,len(l)-1):\n",
    "        if l[i]<l[i+1]:\n",
    "            l[i],l[i+1]=l[i+1],l[i]\n",
    "            return s(l)\n",
    "    return l\n"
   ]
  },
  {
   "cell_type": "code",
   "execution_count": 15,
   "id": "f3120db5",
   "metadata": {
    "ExecuteTime": {
     "end_time": "2023-02-17T10:20:12.631553Z",
     "start_time": "2023-02-17T10:20:12.616709Z"
    }
   },
   "outputs": [],
   "source": [
    "l=[25,45,77,1,2,3,5,66,7]\n",
    "#s(l)\n",
    "s=[100,25,114,10,223,65,9989,741]"
   ]
  },
  {
   "cell_type": "code",
   "execution_count": 17,
   "id": "f9e04170",
   "metadata": {
    "ExecuteTime": {
     "end_time": "2023-02-17T10:20:23.432560Z",
     "start_time": "2023-02-17T10:20:23.424908Z"
    }
   },
   "outputs": [],
   "source": [
    "#quick sort \n",
    "def qs(l):\n",
    "    if len(l)<1:\n",
    "        return l\n",
    "    else:\n",
    "        p=l[0]\n",
    "        left=[x for x in l[1:] if x<p]\n",
    "        right=[x for x in l[1:] if x>=p]\n",
    "        return qs(left)+[p]+qs(right)"
   ]
  },
  {
   "cell_type": "code",
   "execution_count": 18,
   "id": "62a64348",
   "metadata": {
    "ExecuteTime": {
     "end_time": "2023-02-17T10:20:23.988477Z",
     "start_time": "2023-02-17T10:20:23.981919Z"
    }
   },
   "outputs": [
    {
     "data": {
      "text/plain": [
       "[10, 25, 65, 100, 114, 223, 741, 9989]"
      ]
     },
     "execution_count": 18,
     "metadata": {},
     "output_type": "execute_result"
    }
   ],
   "source": [
    "qs(s)"
   ]
  },
  {
   "cell_type": "code",
   "execution_count": 14,
   "id": "b003750d",
   "metadata": {
    "ExecuteTime": {
     "end_time": "2023-02-17T10:01:52.213823Z",
     "start_time": "2023-02-17T10:01:52.190320Z"
    }
   },
   "outputs": [
    {
     "ename": "AssertionError",
     "evalue": "",
     "output_type": "error",
     "traceback": [
      "\u001b[1;31m---------------------------------------------------------------------------\u001b[0m",
      "\u001b[1;31mAssertionError\u001b[0m                            Traceback (most recent call last)",
      "\u001b[1;32m~\\AppData\\Local\\Temp\\ipykernel_22972\\604311764.py\u001b[0m in \u001b[0;36m<module>\u001b[1;34m\u001b[0m\n\u001b[0;32m      3\u001b[0m     \u001b[1;32massert\u001b[0m\u001b[1;33m(\u001b[0m\u001b[0mb\u001b[0m\u001b[1;33m>\u001b[0m\u001b[0ma\u001b[0m\u001b[1;33m)\u001b[0m\u001b[1;33m\u001b[0m\u001b[1;33m\u001b[0m\u001b[0m\n\u001b[0;32m      4\u001b[0m     \u001b[0mprint\u001b[0m\u001b[1;33m(\u001b[0m\u001b[0ma\u001b[0m\u001b[1;33m/\u001b[0m\u001b[0mb\u001b[0m\u001b[1;33m)\u001b[0m\u001b[1;33m\u001b[0m\u001b[1;33m\u001b[0m\u001b[0m\n\u001b[1;32m----> 5\u001b[1;33m \u001b[0madd\u001b[0m\u001b[1;33m(\u001b[0m\u001b[1;36m4\u001b[0m\u001b[1;33m,\u001b[0m\u001b[1;36m0\u001b[0m\u001b[1;33m)\u001b[0m\u001b[1;33m\u001b[0m\u001b[1;33m\u001b[0m\u001b[0m\n\u001b[0m",
      "\u001b[1;32m~\\AppData\\Local\\Temp\\ipykernel_22972\\604311764.py\u001b[0m in \u001b[0;36madd\u001b[1;34m(a, b)\u001b[0m\n\u001b[0;32m      1\u001b[0m \u001b[1;32mdef\u001b[0m \u001b[0madd\u001b[0m\u001b[1;33m(\u001b[0m\u001b[0ma\u001b[0m\u001b[1;33m,\u001b[0m\u001b[0mb\u001b[0m\u001b[1;33m)\u001b[0m\u001b[1;33m:\u001b[0m\u001b[1;33m\u001b[0m\u001b[1;33m\u001b[0m\u001b[0m\n\u001b[0;32m      2\u001b[0m     \u001b[1;32massert\u001b[0m\u001b[1;33m(\u001b[0m\u001b[0ma\u001b[0m\u001b[1;33m>\u001b[0m\u001b[0mb\u001b[0m\u001b[1;33m)\u001b[0m\u001b[1;33m\u001b[0m\u001b[1;33m\u001b[0m\u001b[0m\n\u001b[1;32m----> 3\u001b[1;33m     \u001b[1;32massert\u001b[0m\u001b[1;33m(\u001b[0m\u001b[0mb\u001b[0m\u001b[1;33m>\u001b[0m\u001b[0ma\u001b[0m\u001b[1;33m)\u001b[0m\u001b[1;33m\u001b[0m\u001b[1;33m\u001b[0m\u001b[0m\n\u001b[0m\u001b[0;32m      4\u001b[0m     \u001b[0mprint\u001b[0m\u001b[1;33m(\u001b[0m\u001b[0ma\u001b[0m\u001b[1;33m/\u001b[0m\u001b[0mb\u001b[0m\u001b[1;33m)\u001b[0m\u001b[1;33m\u001b[0m\u001b[1;33m\u001b[0m\u001b[0m\n\u001b[0;32m      5\u001b[0m \u001b[0madd\u001b[0m\u001b[1;33m(\u001b[0m\u001b[1;36m4\u001b[0m\u001b[1;33m,\u001b[0m\u001b[1;36m0\u001b[0m\u001b[1;33m)\u001b[0m\u001b[1;33m\u001b[0m\u001b[1;33m\u001b[0m\u001b[0m\n",
      "\u001b[1;31mAssertionError\u001b[0m: "
     ]
    }
   ],
   "source": [
    "def add(a,b):\n",
    "    assert(a>b)\n",
    "    assert(b>a)\n",
    "    print(a/b)\n",
    "add(4,0)"
   ]
  },
  {
   "cell_type": "code",
   "execution_count": 15,
   "id": "44d3db1a",
   "metadata": {
    "ExecuteTime": {
     "end_time": "2023-07-17T05:16:37.235676Z",
     "start_time": "2023-07-17T05:16:37.226644Z"
    }
   },
   "outputs": [],
   "source": [
    "class phone:\n",
    "    def __init__(self,price,brand,camera):\n",
    "        self.price=price\n",
    "        self.brand=brand\n",
    "        self.camera=camera\n",
    "class smartphone(phone):\n",
    "    def __init__(self,os,ram,price,brand,camera):\n",
    "        super().__init__(price,brand,camera)\n",
    "        self.os=os\n",
    "        self.ram=ram"
   ]
  },
  {
   "cell_type": "markdown",
   "id": "eb62262b",
   "metadata": {},
   "source": [
    "## if super class is inherited then no need to initialize in child class, attributes called in init is initialized by parent class"
   ]
  },
  {
   "cell_type": "code",
   "execution_count": 16,
   "id": "dad567e4",
   "metadata": {
    "ExecuteTime": {
     "end_time": "2023-07-17T05:16:39.207764Z",
     "start_time": "2023-07-17T05:16:39.194729Z"
    }
   },
   "outputs": [],
   "source": [
    "a=smartphone(6,8,1000,'sam','10mp')"
   ]
  },
  {
   "cell_type": "code",
   "execution_count": 14,
   "id": "7a1530ac",
   "metadata": {
    "ExecuteTime": {
     "end_time": "2023-07-17T05:16:27.254069Z",
     "start_time": "2023-07-17T05:16:27.240072Z"
    }
   },
   "outputs": [
    {
     "ename": "SyntaxError",
     "evalue": "invalid syntax (3905452595.py, line 1)",
     "output_type": "error",
     "traceback": [
      "\u001b[1;36m  File \u001b[1;32m\"C:\\Users\\pbann\\AppData\\Local\\Temp\\ipykernel_29292\\3905452595.py\"\u001b[1;36m, line \u001b[1;32m1\u001b[0m\n\u001b[1;33m    a.\u001b[0m\n\u001b[1;37m      ^\u001b[0m\n\u001b[1;31mSyntaxError\u001b[0m\u001b[1;31m:\u001b[0m invalid syntax\n"
     ]
    }
   ],
   "source": [
    "a."
   ]
  },
  {
   "cell_type": "markdown",
   "id": "94268dc8",
   "metadata": {},
   "source": [
    "Thanks to all your hard work Puppy Corp is a huge success! They've decided to organize a 24 hour conference with a variety of speakers in different time slots that will go all through the early morning, through the day, and late into the night!\n",
    "They are also developing a companion mobile app that can let attendees choose which talks to attend and select them from a list. As an additional feature, the puppies would like you to help develop a feature that can inform an attendee if they can actually attend all the talks they've selected, or if there is timing overlap, meaning they can't attend 100% of all the talks.\n",
    "The mobile application converts the times of conference speakers into intervals on a 24 hour clock. For example, if a speaker is talking from 2PM to 4PM, the interval is reported as [14,16]. If a speaker is speaking from 2AM to 4AM it is reported as [2,4].\n",
    "Complete the function below to take a list of intervals from the application as input and then report back if the attendee can attend all the speaker sessions (True) , or return False if there is an overlap in the intervals.\n",
    "Expected Input:\n",
    "Input will be a list of interval pairs selected by the user: [ [2,3] , [10,12] , [14,16] ]\n",
    "Note: The intervals are not guaranteed to be in any sorted order!\n",
    "Expected Output:\n",
    "True if there are no overlaps in the intervals\n",
    "False if there is an overlap\n",
    "Example Input and Output:\n",
    "INPUT:\n",
    "[ [2,3] , [10,12] , [14,16] ]\n",
    "OUTPUT:\n",
    "True # there are no intervals\n",
    "INPUT:\n",
    "[ [2,3], [4,6], [5,7]]\n",
    "OUTPUT:\n",
    "False # there was overlap"
   ]
  },
  {
   "cell_type": "code",
   "execution_count": 6,
   "id": "380cecca",
   "metadata": {
    "ExecuteTime": {
     "end_time": "2023-07-18T14:25:45.635386Z",
     "start_time": "2023-07-18T14:25:45.623788Z"
    }
   },
   "outputs": [
    {
     "name": "stdout",
     "output_type": "stream",
     "text": [
      "no\n"
     ]
    }
   ],
   "source": [
    "l=[[2,3], [4,6], [5,7]]\n",
    "if l[0][1]>l[1][0]:\n",
    "    print('no')"
   ]
  },
  {
   "cell_type": "code",
   "execution_count": 18,
   "id": "391cbded",
   "metadata": {
    "ExecuteTime": {
     "end_time": "2023-07-18T14:35:06.803291Z",
     "start_time": "2023-07-18T14:35:06.789294Z"
    }
   },
   "outputs": [
    {
     "name": "stdout",
     "output_type": "stream",
     "text": [
      "FALSE\n"
     ]
    }
   ],
   "source": [
    "l=[[2,3], [4,6], [5,7]]\n",
    "for i in range(len(l)-1):\n",
    "    if l[i][1]>l[i+1][0]:\n",
    "        print('FALSE')\n",
    "        break\n",
    "    \n",
    "        print('TRUE')"
   ]
  },
  {
   "cell_type": "code",
   "execution_count": 21,
   "id": "50587771",
   "metadata": {
    "ExecuteTime": {
     "end_time": "2023-07-18T14:43:11.899677Z",
     "start_time": "2023-07-18T14:43:11.879663Z"
    }
   },
   "outputs": [
    {
     "data": {
      "text/plain": [
       "'FALSE'"
      ]
     },
     "execution_count": 21,
     "metadata": {},
     "output_type": "execute_result"
    }
   ],
   "source": [
    "l=[[2,3], [4,6], [5,7]]\n",
    "def test(l):\n",
    "    for i in range(len(l)-1):\n",
    "        if l[i][1]>l[i+1][0]:\n",
    "            return 'FALSE'\n",
    "        #return'TRUE'\n",
    "test(l)"
   ]
  },
  {
   "cell_type": "code",
   "execution_count": null,
   "id": "73fed215",
   "metadata": {},
   "outputs": [],
   "source": []
  },
  {
   "cell_type": "code",
   "execution_count": null,
   "id": "3d5ca503",
   "metadata": {},
   "outputs": [],
   "source": []
  },
  {
   "cell_type": "code",
   "execution_count": null,
   "id": "e96aa492",
   "metadata": {},
   "outputs": [],
   "source": []
  }
 ],
 "metadata": {
  "kernelspec": {
   "display_name": "Python 3 (ipykernel)",
   "language": "python",
   "name": "python3"
  },
  "language_info": {
   "codemirror_mode": {
    "name": "ipython",
    "version": 3
   },
   "file_extension": ".py",
   "mimetype": "text/x-python",
   "name": "python",
   "nbconvert_exporter": "python",
   "pygments_lexer": "ipython3",
   "version": "3.9.13"
  }
 },
 "nbformat": 4,
 "nbformat_minor": 5
}
