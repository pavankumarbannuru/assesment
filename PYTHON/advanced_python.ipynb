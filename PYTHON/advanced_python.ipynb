{
 "cells": [
  {
   "cell_type": "markdown",
   "id": "610dfbef",
   "metadata": {},
   "source": [
    "# MULTI THREADING"
   ]
  },
  {
   "cell_type": "code",
   "execution_count": 1,
   "id": "d39215ae",
   "metadata": {
    "ExecuteTime": {
     "end_time": "2024-01-01T13:42:17.835083Z",
     "start_time": "2024-01-01T13:42:17.816464Z"
    }
   },
   "outputs": [],
   "source": [
    "from threading import *\n",
    "from time import *\n",
    "from queue import *"
   ]
  },
  {
   "cell_type": "code",
   "execution_count": 2,
   "id": "b24d875f",
   "metadata": {
    "ExecuteTime": {
     "end_time": "2024-01-01T13:14:39.811107Z",
     "start_time": "2024-01-01T13:14:39.802102Z"
    },
    "scrolled": true
   },
   "outputs": [
    {
     "name": "stdout",
     "output_type": "stream",
     "text": [
      "A\n",
      "B\n",
      "C\n",
      "D\n",
      "E\n",
      "F\n",
      "G\n",
      "65\n",
      "66\n",
      "67\n",
      "68\n",
      "69\n",
      "70\n",
      "71\n"
     ]
    }
   ],
   "source": [
    "def test():\n",
    "    for i in range(65,72):\n",
    "        print(chr(i))\n",
    "        #sleep(1)\n",
    "t=Thread(target=test,name='thread1:a;phabets')\n",
    "t.start()\n",
    "for i in range(65,72):\n",
    "    print(i)\n",
    "t.join()   ## main function has to wait for thread to execute"
   ]
  },
  {
   "cell_type": "markdown",
   "id": "21c9f360",
   "metadata": {},
   "source": [
    "# class method"
   ]
  },
  {
   "cell_type": "code",
   "execution_count": 3,
   "id": "0e84da3a",
   "metadata": {
    "ExecuteTime": {
     "end_time": "2024-01-01T13:14:40.693739Z",
     "start_time": "2024-01-01T13:14:40.680226Z"
    }
   },
   "outputs": [
    {
     "name": "stdout",
     "output_type": "stream",
     "text": [
      "A\n",
      "B\n",
      "C\n",
      "D\n",
      "E\n",
      "F\n",
      "G\n",
      "65\n",
      "66\n",
      "67\n",
      "68\n",
      "69\n",
      "70\n",
      "71\n"
     ]
    }
   ],
   "source": [
    "class alpha(Thread):\n",
    "    def run(self):\n",
    "        for i in range(65,72):\n",
    "            print(chr(i))\n",
    "t=alpha()\n",
    "t.start()\n",
    "for i in range(65,72):\n",
    "    print(i)\n",
    "t.join()        "
   ]
  },
  {
   "cell_type": "markdown",
   "id": "53d979a5",
   "metadata": {},
   "source": [
    "# Thread synchronisation"
   ]
  },
  {
   "cell_type": "code",
   "execution_count": 4,
   "id": "ea468b42",
   "metadata": {
    "ExecuteTime": {
     "end_time": "2024-01-01T13:14:41.435955Z",
     "start_time": "2024-01-01T13:14:41.425952Z"
    }
   },
   "outputs": [
    {
     "name": "stdout",
     "output_type": "stream",
     "text": [
      "H\n",
      "e\n",
      "l\n",
      "l\n",
      "o\n",
      " \n",
      "W\n",
      "o\n",
      "r\n",
      "l\n",
      "d\n",
      "p\n",
      "a\n",
      "v\n",
      "a\n",
      "n\n",
      " \n",
      "k\n",
      "u\n",
      "m\n",
      "a\n",
      "r\n"
     ]
    }
   ],
   "source": [
    "def test1(str1):\n",
    "    for i in str1:\n",
    "        print(i)\n",
    "t1=Thread(target=test1,args=('Hello World',))\n",
    "t2=Thread(target=test1,args=('pavan kumar',))\n",
    "t1.start()\n",
    "t2.start()\n",
    "t1.join()\n",
    "t2.join()"
   ]
  },
  {
   "cell_type": "markdown",
   "id": "ffb7a0a0",
   "metadata": {},
   "source": [
    "# mutex : gives locks to threads that ends race condtion b/w threads  (mutex:mutually exclusive lock/variables)\n",
    "#### using a function by multiple threads at same time is restricted through lock"
   ]
  },
  {
   "cell_type": "code",
   "execution_count": 5,
   "id": "d96cd2f9",
   "metadata": {
    "ExecuteTime": {
     "end_time": "2024-01-01T13:14:42.165536Z",
     "start_time": "2024-01-01T13:14:42.148535Z"
    }
   },
   "outputs": [
    {
     "name": "stdout",
     "output_type": "stream",
     "text": [
      "H\n",
      "e\n",
      "l\n",
      "l\n",
      "o\n",
      " \n",
      "W\n",
      "o\n",
      "r\n",
      "l\n",
      "d\n",
      "p\n",
      "a\n",
      "v\n",
      "a\n",
      "n\n",
      " \n",
      "k\n",
      "u\n",
      "m\n",
      "a\n",
      "r\n"
     ]
    }
   ],
   "source": [
    "def test1(str1):\n",
    "    l.acquire()\n",
    "    for i in str1:\n",
    "        print(i)\n",
    "    l.release()\n",
    "l=Lock()\n",
    "t1=Thread(target=test1,args=('Hello World',))\n",
    "t2=Thread(target=test1,args=('pavan kumar',))\n",
    "t1.start()\n",
    "t2.start()\n",
    "t1.join()\n",
    "t2.join()"
   ]
  },
  {
   "cell_type": "markdown",
   "id": "a13e1e2a",
   "metadata": {},
   "source": [
    "# Thread synchronisation using semaphore"
   ]
  },
  {
   "cell_type": "code",
   "execution_count": 6,
   "id": "1341b13d",
   "metadata": {
    "ExecuteTime": {
     "end_time": "2024-01-01T13:14:42.687411Z",
     "start_time": "2024-01-01T13:14:42.666346Z"
    }
   },
   "outputs": [
    {
     "name": "stdout",
     "output_type": "stream",
     "text": [
      "H\n",
      "e\n",
      "l\n",
      "l\n",
      "o\n",
      " \n",
      "W\n",
      "o\n",
      "r\n",
      "l\n",
      "d\n",
      "p\n",
      "a\n",
      "v\n",
      "a\n",
      "n\n",
      " \n",
      "k\n",
      "u\n",
      "m\n",
      "a\n",
      "r\n"
     ]
    }
   ],
   "source": [
    "def test1(str1):\n",
    "    l.acquire()\n",
    "    for i in str1:\n",
    "        print(i)\n",
    "    l.release()\n",
    "l=Semaphore(1)\n",
    "t1=Thread(target=test1,args=('Hello World',))\n",
    "t2=Thread(target=test1,args=('pavan kumar',))\n",
    "t1.start()\n",
    "t2.start()\n",
    "t1.join()\n",
    "t2.join()"
   ]
  },
  {
   "cell_type": "markdown",
   "id": "10c27b19",
   "metadata": {
    "ExecuteTime": {
     "end_time": "2024-01-01T12:36:28.202773Z",
     "start_time": "2024-01-01T12:36:28.187776Z"
    }
   },
   "source": [
    "#### semaphore creates num =0/1 if one threading is using num becomes 0 so no thread can use it all remaining threads wil be in que"
   ]
  },
  {
   "cell_type": "code",
   "execution_count": 7,
   "id": "17444391",
   "metadata": {
    "ExecuteTime": {
     "end_time": "2024-01-01T13:14:43.151245Z",
     "start_time": "2024-01-01T13:14:43.132243Z"
    }
   },
   "outputs": [
    {
     "name": "stdout",
     "output_type": "stream",
     "text": [
      "H\n",
      "e\n",
      "l\n",
      "l\n",
      "o\n",
      " \n",
      "W\n",
      "o\n",
      "r\n",
      "l\n",
      "d\n",
      "p\n",
      "a\n",
      "v\n",
      "a\n",
      "n\n",
      " \n",
      "k\n",
      "u\n",
      "m\n",
      "a\n",
      "r\n",
      "j\n",
      "y\n",
      "o\n",
      "t\n",
      "h\n",
      "i\n",
      "1\n",
      "2\n",
      "3\n",
      "4\n",
      "5\n",
      "6\n"
     ]
    }
   ],
   "source": [
    "def test1(str1):\n",
    "    l.acquire()\n",
    "    for i in str1:\n",
    "        print(i)\n",
    "    l.release()\n",
    "l=Semaphore(2)\n",
    "t1=Thread(target=test1,args=('Hello World',))\n",
    "t2=Thread(target=test1,args=('pavan kumar',))\n",
    "t3=Thread(target=test1,args=('jyothi123456',))\n",
    "t1.start()\n",
    "t2.start()\n",
    "t3.start()\n",
    "t1.join()\n",
    "t2.join()\n",
    "t3.join()"
   ]
  },
  {
   "cell_type": "markdown",
   "id": "df67a864",
   "metadata": {},
   "source": [
    "# Inter thread comunication"
   ]
  },
  {
   "cell_type": "code",
   "execution_count": null,
   "id": "54fa0854",
   "metadata": {
    "ExecuteTime": {
     "start_time": "2024-01-01T13:14:43.959Z"
    }
   },
   "outputs": [
    {
     "name": "stdout",
     "output_type": "stream",
     "text": [
      "producer: 1\n",
      "consumer: 1\n",
      "producer: 2\n",
      "consumer: 2\n",
      "producer: 3\n",
      "consumer: 3\n",
      "producer: 4\n",
      "consumer: 4\n",
      "producer: 5\n",
      "consumer: 5\n",
      "producer:consumer: 6\n",
      " 6\n",
      "producer: 7\n",
      "consumer: 7\n",
      "producer: 8\n",
      "consumer: 8\n",
      "producer: 9\n",
      "consumer: 9\n"
     ]
    }
   ],
   "source": [
    "from threading import * \n",
    "from time import *\n",
    "class Mydata:\n",
    "    def __init__(self):\n",
    "        self.lock=Lock()\n",
    "        self.flag=False\n",
    "        self.data=0\n",
    "    def put(self,d):\n",
    "        while self.flag!=False:\n",
    "            pass\n",
    "        self.lock.acquire()\n",
    "        self.data=d\n",
    "        self.flag=True\n",
    "        self.lock.release()\n",
    "    def get(self):\n",
    "        while self.flag!=True:\n",
    "            pass\n",
    "        self.lock.acquire()\n",
    "        x=self.data\n",
    "        self.flag=False\n",
    "        self.lock.release()\n",
    "        return x\n",
    "def producer(data):\n",
    "    i=1\n",
    "    while i<10:\n",
    "        data.put(i)\n",
    "        print('producer:',i)\n",
    "        i+=1\n",
    "def consumer(data):\n",
    "    while True:\n",
    "        x=data.get()\n",
    "        print('consumer:',x)\n",
    "data=Mydata()\n",
    "t1=Thread(target=lambda:producer(data))\n",
    "t2=Thread(target=lambda:consumer(data))\n",
    "t1.start()\n",
    "t2.start()\n",
    "t1.join()\n",
    "t2.join()"
   ]
  },
  {
   "cell_type": "code",
   "execution_count": null,
   "id": "8170125b",
   "metadata": {
    "ExecuteTime": {
     "start_time": "2024-01-01T13:30:16.464Z"
    }
   },
   "outputs": [],
   "source": [
    "from threading import * \n",
    "from time import *\n",
    "class Mydata:\n",
    "    def __init__(self):\n",
    "        self.data=0\n",
    "        self.cv=Condition()\n",
    "    def put(self,d):\n",
    "        self.cv.acquire()\n",
    "        self.cv.wait(timeout=0)\n",
    "        self.data=d\n",
    "        self.cv.notify()\n",
    "        self.lock.release()\n",
    "    def get(self):\n",
    "        self.cv.acquire()\n",
    "        self.cv.wait(timeout=0)\n",
    "        x=self.data\n",
    "        self.cv.notify()\n",
    "        self.cv.release()\n",
    "        return x\n",
    "def producer(data):\n",
    "    i=1\n",
    "    while i<10:\n",
    "        data.put(i)\n",
    "        print('producer:',i)\n",
    "        i+=1\n",
    "def consumer(data):\n",
    "    while True:\n",
    "        x=data.get()\n",
    "        print('consumer:',x)\n",
    "data=Mydata()\n",
    "t1=Thread(target=lambda:producer(data))\n",
    "t2=Thread(target=lambda:consumer(data))\n",
    "t1.start()\n",
    "t2.start()\n",
    "t1.join()\n",
    "t2.join()"
   ]
  },
  {
   "cell_type": "code",
   "execution_count": null,
   "id": "d71f1313",
   "metadata": {},
   "outputs": [],
   "source": [
    "from threading import * \n",
    "from time import *\n",
    "from queue import *\n",
    "q=Queue()\n",
    "def producer(que):\n",
    "    i=1\n",
    "    while i<10:\n",
    "        que.put(i)\n",
    "        print('producer:',i)\n",
    "        i+=1\n",
    "def consumer(que):\n",
    "    while True:\n",
    "        x=que.get()\n",
    "        print('consumer:',x)\n",
    "\n",
    "t1=Thread(target=lambda:producer(q))\n",
    "t2=Thread(target=lambda:consumer(q))\n",
    "t1.start()\n",
    "t2.start()\n",
    "t1.join()\n",
    "t2.join()"
   ]
  },
  {
   "cell_type": "code",
   "execution_count": null,
   "id": "22e455b7",
   "metadata": {},
   "outputs": [],
   "source": []
  },
  {
   "cell_type": "code",
   "execution_count": null,
   "id": "d55175fa",
   "metadata": {},
   "outputs": [],
   "source": []
  },
  {
   "cell_type": "code",
   "execution_count": null,
   "id": "34cafd25",
   "metadata": {},
   "outputs": [],
   "source": []
  },
  {
   "cell_type": "code",
   "execution_count": null,
   "id": "9ebba28a",
   "metadata": {},
   "outputs": [],
   "source": []
  },
  {
   "cell_type": "code",
   "execution_count": null,
   "id": "d37ccd5c",
   "metadata": {},
   "outputs": [],
   "source": []
  },
  {
   "cell_type": "code",
   "execution_count": null,
   "id": "176f35bd",
   "metadata": {},
   "outputs": [],
   "source": []
  }
 ],
 "metadata": {
  "kernelspec": {
   "display_name": "Python 3 (ipykernel)",
   "language": "python",
   "name": "python3"
  },
  "language_info": {
   "codemirror_mode": {
    "name": "ipython",
    "version": 3
   },
   "file_extension": ".py",
   "mimetype": "text/x-python",
   "name": "python",
   "nbconvert_exporter": "python",
   "pygments_lexer": "ipython3",
   "version": "3.9.13"
  }
 },
 "nbformat": 4,
 "nbformat_minor": 5
}
