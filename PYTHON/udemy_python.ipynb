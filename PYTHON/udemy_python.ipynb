{
 "cells": [
  {
   "cell_type": "code",
   "execution_count": 3,
   "id": "364a7f04",
   "metadata": {
    "ExecuteTime": {
     "end_time": "2023-07-26T10:34:37.479029Z",
     "start_time": "2023-07-26T10:34:37.475013Z"
    }
   },
   "outputs": [],
   "source": [
    "def myf(a,b):\n",
    "    return a*b "
   ]
  },
  {
   "cell_type": "code",
   "execution_count": 4,
   "id": "55e58074",
   "metadata": {
    "ExecuteTime": {
     "end_time": "2023-07-26T10:34:37.886727Z",
     "start_time": "2023-07-26T10:34:37.875726Z"
    }
   },
   "outputs": [
    {
     "data": {
      "text/plain": [
       "[1, 2, 3, 1, 2, 3]"
      ]
     },
     "execution_count": 4,
     "metadata": {},
     "output_type": "execute_result"
    }
   ],
   "source": [
    "myf([1,2,3],2)"
   ]
  },
  {
   "cell_type": "code",
   "execution_count": 5,
   "id": "b9b27fa3",
   "metadata": {
    "ExecuteTime": {
     "end_time": "2023-06-11T10:15:16.472838Z",
     "start_time": "2023-06-11T10:15:16.461321Z"
    }
   },
   "outputs": [],
   "source": [
    "def funn(a,b,c):\n",
    "    print(a,b,c)"
   ]
  },
  {
   "cell_type": "code",
   "execution_count": 6,
   "id": "ffbfdd16",
   "metadata": {
    "ExecuteTime": {
     "end_time": "2023-06-11T10:16:01.627391Z",
     "start_time": "2023-06-11T10:16:01.616388Z"
    }
   },
   "outputs": [],
   "source": [
    "def func1(a, # comment\n",
    "         b,\n",
    "         c):\n",
    "    print(a,b,c)"
   ]
  },
  {
   "cell_type": "code",
   "execution_count": 7,
   "id": "a34515ed",
   "metadata": {
    "ExecuteTime": {
     "end_time": "2023-06-11T10:16:16.687958Z",
     "start_time": "2023-06-11T10:16:16.671755Z"
    }
   },
   "outputs": [
    {
     "name": "stdout",
     "output_type": "stream",
     "text": [
      "10 20 30\n"
     ]
    }
   ],
   "source": [
    "funn(10,20,30)"
   ]
  },
  {
   "cell_type": "code",
   "execution_count": 8,
   "id": "0c2c290d",
   "metadata": {
    "ExecuteTime": {
     "end_time": "2023-06-11T10:16:39.867326Z",
     "start_time": "2023-06-11T10:16:39.861012Z"
    }
   },
   "outputs": [
    {
     "name": "stdout",
     "output_type": "stream",
     "text": [
      "10 20 30\n"
     ]
    }
   ],
   "source": [
    "func1(10,20,30)"
   ]
  },
  {
   "cell_type": "code",
   "execution_count": 11,
   "id": "66d9caae",
   "metadata": {
    "ExecuteTime": {
     "end_time": "2023-06-11T10:18:37.705122Z",
     "start_time": "2023-06-11T10:18:37.686983Z"
    }
   },
   "outputs": [
    {
     "name": "stdout",
     "output_type": "stream",
     "text": [
      "No\n"
     ]
    }
   ],
   "source": [
    "a=7\n",
    "if a>5 and a>10 and a<100:\n",
    "    print('yes')\n",
    "else:\n",
    "    print('No')"
   ]
  },
  {
   "cell_type": "code",
   "execution_count": 27,
   "id": "5e001d62",
   "metadata": {
    "ExecuteTime": {
     "end_time": "2023-06-11T10:33:20.039170Z",
     "start_time": "2023-06-11T10:33:20.031148Z"
    }
   },
   "outputs": [
    {
     "name": "stdout",
     "output_type": "stream",
     "text": [
      "yes\n"
     ]
    }
   ],
   "source": [
    "a = 11\n",
    "if a > 5 \\\n",
    "    and a > 10 \\\n",
    "    and a < 20:\n",
    "    print('yes')"
   ]
  },
  {
   "cell_type": "code",
   "execution_count": 31,
   "id": "0082bf5d",
   "metadata": {
    "ExecuteTime": {
     "end_time": "2023-06-11T10:34:24.419211Z",
     "start_time": "2023-06-11T10:34:24.407201Z"
    }
   },
   "outputs": [
    {
     "ename": "SyntaxError",
     "evalue": "unexpected character after line continuation character (3295921327.py, line 2)",
     "output_type": "error",
     "traceback": [
      "\u001b[1;36m  File \u001b[1;32m\"C:\\Users\\pbann\\AppData\\Local\\Temp\\ipykernel_39860\\3295921327.py\"\u001b[1;36m, line \u001b[1;32m2\u001b[0m\n\u001b[1;33m    if a > 5 \\\u001b[0m\n\u001b[1;37m              ^\u001b[0m\n\u001b[1;31mSyntaxError\u001b[0m\u001b[1;31m:\u001b[0m unexpected character after line continuation character\n"
     ]
    }
   ],
   "source": [
    "a = 11\n",
    "if a > 5 \\ \n",
    "    and a > 10 \\\n",
    "    and a < 100: \n",
    "    print('yes')"
   ]
  },
  {
   "cell_type": "code",
   "execution_count": 34,
   "id": "be142086",
   "metadata": {
    "ExecuteTime": {
     "end_time": "2023-06-11T11:20:56.011749Z",
     "start_time": "2023-06-11T11:20:50.865745Z"
    }
   },
   "outputs": [
    {
     "name": "stdout",
     "output_type": "stream",
     "text": [
      "enter the name12\n",
      "enter the namea\n",
      "enter the nameasd\n",
      "hello asd\n"
     ]
    }
   ],
   "source": [
    "min_length=2\n",
    "while True:\n",
    "    name=input('enter the name')\n",
    "    if len(name)>min_length and name.isprintable() and name.isalpha():\n",
    "        break \n",
    "print('hello',name)"
   ]
  },
  {
   "cell_type": "code",
   "execution_count": 35,
   "id": "cc4bf68b",
   "metadata": {
    "ExecuteTime": {
     "end_time": "2023-06-11T11:52:15.416105Z",
     "start_time": "2023-06-11T11:52:15.397877Z"
    }
   },
   "outputs": [
    {
     "name": "stdout",
     "output_type": "stream",
     "text": [
      "1 2\n",
      "3 4\n"
     ]
    }
   ],
   "source": [
    "for i, j in [(1,2),(3,4)]:\n",
    "    print(i,j)"
   ]
  },
  {
   "cell_type": "code",
   "execution_count": 40,
   "id": "c8615cd0",
   "metadata": {
    "ExecuteTime": {
     "end_time": "2023-06-11T11:53:52.521748Z",
     "start_time": "2023-06-11T11:53:52.506015Z"
    }
   },
   "outputs": [
    {
     "name": "stdout",
     "output_type": "stream",
     "text": [
      "{'1:2'}\n",
      "{'3:4'}\n"
     ]
    }
   ],
   "source": [
    "for i, j in [[1,2],[3,4]]:\n",
    "    print({'{}:{}'.format(i,j)})"
   ]
  },
  {
   "cell_type": "code",
   "execution_count": 42,
   "id": "b3bb9908",
   "metadata": {
    "ExecuteTime": {
     "end_time": "2023-06-11T11:55:34.488421Z",
     "start_time": "2023-06-11T11:55:34.477180Z"
    }
   },
   "outputs": [
    {
     "name": "stdout",
     "output_type": "stream",
     "text": [
      "0\n",
      "1\n",
      "2\n"
     ]
    }
   ],
   "source": [
    "for i in range(5):\n",
    "    if i == 3:\n",
    "        break\n",
    "    print(i)"
   ]
  },
  {
   "cell_type": "code",
   "execution_count": 43,
   "id": "3bdde7f6",
   "metadata": {
    "ExecuteTime": {
     "end_time": "2023-06-11T11:55:48.701048Z",
     "start_time": "2023-06-11T11:55:48.693535Z"
    }
   },
   "outputs": [
    {
     "name": "stdout",
     "output_type": "stream",
     "text": [
      "0\n",
      "1\n",
      "2\n",
      "4\n"
     ]
    }
   ],
   "source": [
    "for i in range(5):\n",
    "    if i == 3:\n",
    "        continue\n",
    "    print(i)"
   ]
  },
  {
   "cell_type": "code",
   "execution_count": 1,
   "id": "c828c8e1",
   "metadata": {
    "ExecuteTime": {
     "end_time": "2023-06-12T04:24:54.382301Z",
     "start_time": "2023-06-12T04:24:54.364298Z"
    }
   },
   "outputs": [
    {
     "name": "stdout",
     "output_type": "stream",
     "text": [
      "0 h\n",
      "1 e\n",
      "2 l\n",
      "3 l\n",
      "4 o\n"
     ]
    }
   ],
   "source": [
    "s='hello'\n",
    "for i in range(len(s)):\n",
    "    print(i,s[i])"
   ]
  },
  {
   "cell_type": "code",
   "execution_count": 2,
   "id": "02c3f85e",
   "metadata": {
    "ExecuteTime": {
     "end_time": "2023-06-12T04:25:12.887618Z",
     "start_time": "2023-06-12T04:25:12.876700Z"
    }
   },
   "outputs": [
    {
     "name": "stdout",
     "output_type": "stream",
     "text": [
      "0 h\n",
      "1 e\n",
      "2 l\n",
      "3 l\n",
      "4 o\n"
     ]
    }
   ],
   "source": [
    "for i,j in enumerate(s):\n",
    "    print(i,j)"
   ]
  },
  {
   "cell_type": "markdown",
   "id": "3b36927c",
   "metadata": {},
   "source": [
    "## Class with magic methods"
   ]
  },
  {
   "cell_type": "code",
   "execution_count": 65,
   "id": "1f21fcb3",
   "metadata": {
    "ExecuteTime": {
     "end_time": "2023-06-22T16:11:13.582202Z",
     "start_time": "2023-06-22T16:11:13.574171Z"
    }
   },
   "outputs": [],
   "source": [
    "class Rectangle:\n",
    "    def __init__(self,h,w):\n",
    "        self.w=w\n",
    "        self.h=h \n",
    "    def area(self):\n",
    "        return self.h*self.w\n",
    "    def perimeter(something):\n",
    "        return something.w+something.h\n",
    "    def __str__(self):\n",
    "        return \"Rectange:width={0},height={1}\".format(self.w,self.h)\n",
    "    def __repr__(self):\n",
    "        return \"Rectange:{0},{1}\".format(self.w,self.h)\n",
    "    def __eq__(self,other):\n",
    "        if isinstance(other,Rectangle):\n",
    "            return self.w==other.w and self.h==other.h\n",
    "        else:\n",
    "            False\n",
    "    def __gt__(self,other):\n",
    "        if instances(other,polygon):\n",
    "            return self.n>other.n\n",
    "        else:\n",
    "            return False"
   ]
  },
  {
   "cell_type": "code",
   "execution_count": 67,
   "id": "e19ab235",
   "metadata": {
    "ExecuteTime": {
     "end_time": "2023-06-22T16:11:35.823503Z",
     "start_time": "2023-06-22T16:11:35.815528Z"
    }
   },
   "outputs": [],
   "source": [
    "a=Rectangle(10,20)\n",
    "b=Rectangle(10,20)\n",
    "c=Rectangle(20,30)"
   ]
  },
  {
   "cell_type": "code",
   "execution_count": 9,
   "id": "f275d9ab",
   "metadata": {
    "ExecuteTime": {
     "end_time": "2023-06-12T04:47:54.226724Z",
     "start_time": "2023-06-12T04:47:54.204723Z"
    }
   },
   "outputs": [
    {
     "data": {
      "text/plain": [
       "Rectange:20,10"
      ]
     },
     "execution_count": 9,
     "metadata": {},
     "output_type": "execute_result"
    }
   ],
   "source": [
    "a"
   ]
  },
  {
   "cell_type": "code",
   "execution_count": 10,
   "id": "e757fb84",
   "metadata": {
    "ExecuteTime": {
     "end_time": "2023-06-12T04:48:01.210301Z",
     "start_time": "2023-06-12T04:48:01.201337Z"
    }
   },
   "outputs": [
    {
     "data": {
      "text/plain": [
       "'Rectange:width=20,height=10'"
      ]
     },
     "execution_count": 10,
     "metadata": {},
     "output_type": "execute_result"
    }
   ],
   "source": [
    "str(a)"
   ]
  },
  {
   "cell_type": "code",
   "execution_count": 14,
   "id": "ab8cc603",
   "metadata": {
    "ExecuteTime": {
     "end_time": "2023-06-12T04:48:35.144780Z",
     "start_time": "2023-06-12T04:48:35.131780Z"
    }
   },
   "outputs": [
    {
     "name": "stdout",
     "output_type": "stream",
     "text": [
      "200 30\n"
     ]
    }
   ],
   "source": [
    "print(a.area(),a.perimeter())"
   ]
  },
  {
   "cell_type": "code",
   "execution_count": 15,
   "id": "d1565340",
   "metadata": {
    "ExecuteTime": {
     "end_time": "2023-06-12T04:48:54.236363Z",
     "start_time": "2023-06-12T04:48:54.221353Z"
    }
   },
   "outputs": [
    {
     "data": {
      "text/plain": [
       "True"
      ]
     },
     "execution_count": 15,
     "metadata": {},
     "output_type": "execute_result"
    }
   ],
   "source": [
    "a==b"
   ]
  },
  {
   "cell_type": "code",
   "execution_count": 16,
   "id": "07994091",
   "metadata": {
    "ExecuteTime": {
     "end_time": "2023-06-12T04:48:58.600776Z",
     "start_time": "2023-06-12T04:48:58.581585Z"
    }
   },
   "outputs": [
    {
     "data": {
      "text/plain": [
       "False"
      ]
     },
     "execution_count": 16,
     "metadata": {},
     "output_type": "execute_result"
    }
   ],
   "source": [
    "a==c"
   ]
  },
  {
   "cell_type": "markdown",
   "id": "9404c3a1",
   "metadata": {},
   "source": [
    "# handling private using getter and setter methods"
   ]
  },
  {
   "cell_type": "code",
   "execution_count": 69,
   "id": "3b7b9dce",
   "metadata": {
    "ExecuteTime": {
     "end_time": "2023-06-12T05:15:15.573623Z",
     "start_time": "2023-06-12T05:15:15.553087Z"
    }
   },
   "outputs": [],
   "source": [
    "class Rectangle1:\n",
    "    def __init__(self,h,w):\n",
    "        self._w=w\n",
    "        self.h=h \n",
    "    def get_width(self):\n",
    "        return self._w\n",
    "    def set_width(self,width):\n",
    "        if width <= 0:\n",
    "            raise ValueError(\"entered width is not positive or a zero\")\n",
    "        else:\n",
    "             self._w = width\n",
    "    def area(self):\n",
    "        return self.h*self._w\n",
    "    def perimeter(something):\n",
    "        return something._w+something.h\n",
    "    def __str__(self):\n",
    "        return \"Rectange:width={0},height={1}\".format(self._w,self.h)\n",
    "    def __repr__(self):\n",
    "        return \"Rectange:{0},{1}\".format(self._w,self.h)\n",
    "    def __eq__(self,other):\n",
    "        if isinstance(other,Rectangle):\n",
    "            return self._w==other._w and self.h==other.h\n",
    "        else:\n",
    "            False"
   ]
  },
  {
   "cell_type": "code",
   "execution_count": 70,
   "id": "8bbb2687",
   "metadata": {
    "ExecuteTime": {
     "end_time": "2023-06-12T05:15:16.213081Z",
     "start_time": "2023-06-12T05:15:16.200081Z"
    }
   },
   "outputs": [],
   "source": [
    "a=Rectangle1(10,20)\n",
    "b=Rectangle1(20,30)\n"
   ]
  },
  {
   "cell_type": "code",
   "execution_count": 72,
   "id": "41df4b97",
   "metadata": {
    "ExecuteTime": {
     "end_time": "2023-06-12T05:15:20.245224Z",
     "start_time": "2023-06-12T05:15:20.240228Z"
    }
   },
   "outputs": [],
   "source": [
    "a.set_width(100)"
   ]
  },
  {
   "cell_type": "code",
   "execution_count": 73,
   "id": "5286a99e",
   "metadata": {
    "ExecuteTime": {
     "end_time": "2023-06-12T05:15:20.679507Z",
     "start_time": "2023-06-12T05:15:20.670507Z"
    }
   },
   "outputs": [
    {
     "data": {
      "text/plain": [
       "Rectange:100,10"
      ]
     },
     "execution_count": 73,
     "metadata": {},
     "output_type": "execute_result"
    }
   ],
   "source": [
    "a"
   ]
  },
  {
   "cell_type": "markdown",
   "id": "adf5de65",
   "metadata": {},
   "source": [
    "## using setter function instead of getter and setter methods"
   ]
  },
  {
   "cell_type": "code",
   "execution_count": 1,
   "id": "68fdcbb4",
   "metadata": {
    "ExecuteTime": {
     "end_time": "2023-07-28T06:10:07.943403Z",
     "start_time": "2023-07-28T06:10:07.926402Z"
    }
   },
   "outputs": [],
   "source": [
    "class Rectangle2:\n",
    "    def __init__(self,h,width):\n",
    "        self._width=width\n",
    "        self.h=h \n",
    "    @property\n",
    "    def width(self):\n",
    "        return self._width\n",
    "    @width.setter\n",
    "    def width(self,width):\n",
    "        if width <= 0:\n",
    "            raise ValueError(\"entered width is not positive or a zero\")\n",
    "        else:\n",
    "             self._width = width\n",
    "        \n",
    "    def area(self):\n",
    "        return self.h*self._width\n",
    "    def perimeter(something):\n",
    "        return something._width+something.h\n",
    "    def __str__(self):\n",
    "        return \"Rectange:width={0},height={1}\".format(self._width,self.h)\n",
    "    def __repr__(self):\n",
    "        return \"Rectange:{0},{1}\".format(self._width,self.h)\n",
    "    def __eq__(self,other):\n",
    "        if isinstance(other,Rectangle):\n",
    "            return self._width==other._width and self.h==other.h\n",
    "        else:\n",
    "            False"
   ]
  },
  {
   "cell_type": "code",
   "execution_count": 2,
   "id": "58476152",
   "metadata": {
    "ExecuteTime": {
     "end_time": "2023-07-28T06:10:10.342726Z",
     "start_time": "2023-07-28T06:10:10.333724Z"
    }
   },
   "outputs": [],
   "source": [
    "a=Rectangle2(10,20)"
   ]
  },
  {
   "cell_type": "code",
   "execution_count": 82,
   "id": "93460ed9",
   "metadata": {
    "ExecuteTime": {
     "end_time": "2023-06-12T05:28:20.388928Z",
     "start_time": "2023-06-12T05:28:20.366614Z"
    }
   },
   "outputs": [
    {
     "data": {
      "text/plain": [
       "20"
      ]
     },
     "execution_count": 82,
     "metadata": {},
     "output_type": "execute_result"
    }
   ],
   "source": [
    "a.width"
   ]
  },
  {
   "cell_type": "code",
   "execution_count": 4,
   "id": "7ded8318",
   "metadata": {
    "ExecuteTime": {
     "end_time": "2023-07-28T06:10:24.542708Z",
     "start_time": "2023-07-28T06:10:24.524711Z"
    }
   },
   "outputs": [],
   "source": [
    "a.width=120"
   ]
  },
  {
   "cell_type": "code",
   "execution_count": 5,
   "id": "78b78070",
   "metadata": {
    "ExecuteTime": {
     "end_time": "2023-07-28T06:10:40.745080Z",
     "start_time": "2023-07-28T06:10:40.733769Z"
    }
   },
   "outputs": [
    {
     "data": {
      "text/plain": [
       "120"
      ]
     },
     "execution_count": 5,
     "metadata": {},
     "output_type": "execute_result"
    }
   ],
   "source": [
    "a.width"
   ]
  },
  {
   "cell_type": "code",
   "execution_count": 83,
   "id": "f5fff867",
   "metadata": {
    "ExecuteTime": {
     "end_time": "2023-06-12T05:28:23.240983Z",
     "start_time": "2023-06-12T05:28:23.235982Z"
    }
   },
   "outputs": [],
   "source": [
    "a.width=100"
   ]
  },
  {
   "cell_type": "code",
   "execution_count": 84,
   "id": "9585f866",
   "metadata": {
    "ExecuteTime": {
     "end_time": "2023-06-12T05:28:23.816442Z",
     "start_time": "2023-06-12T05:28:23.798440Z"
    }
   },
   "outputs": [
    {
     "data": {
      "text/plain": [
       "Rectange:100,10"
      ]
     },
     "execution_count": 84,
     "metadata": {},
     "output_type": "execute_result"
    }
   ],
   "source": [
    "a"
   ]
  },
  {
   "cell_type": "markdown",
   "id": "fc55b084",
   "metadata": {},
   "source": [
    "## We are using setter to restrict creating object with -ve/zero number"
   ]
  },
  {
   "cell_type": "code",
   "execution_count": 9,
   "id": "e53cfc1d",
   "metadata": {
    "ExecuteTime": {
     "end_time": "2023-07-26T11:07:41.021653Z",
     "start_time": "2023-07-26T11:07:41.007522Z"
    }
   },
   "outputs": [],
   "source": [
    "class Rectangle3:\n",
    "    def __init__(self,h,width):\n",
    "        self._width=width\n",
    "        self.h=h \n",
    "    @property\n",
    "    def width(self):\n",
    "        return self._width\n",
    "    @width.setter\n",
    "    def width(self,width):\n",
    "        if width <= 0:\n",
    "            raise ValueError(\"entered width is not positive or a zero\")\n",
    "        else:\n",
    "             self._width = width\n",
    "        \n",
    "    def area(self):\n",
    "        return self.h*self.width\n",
    "    def perimeter(something):\n",
    "        return something.width+something.h\n",
    "    def __str__(self):\n",
    "        return \"Rectange:width={0},height={1}\".format(self.width,self.h)\n",
    "    def __repr__(self):\n",
    "        return \"Rectange:{0},{1}\".format(self.width,self.h)\n",
    "    def __eq__(self,other):\n",
    "        if isinstance(other,Rectangle):\n",
    "            return self.width==other.width and self.h==other.h\n",
    "        else:\n",
    "            False"
   ]
  },
  {
   "cell_type": "code",
   "execution_count": 10,
   "id": "1d921f2e",
   "metadata": {
    "ExecuteTime": {
     "end_time": "2023-07-26T11:07:44.077959Z",
     "start_time": "2023-07-26T11:07:44.071960Z"
    }
   },
   "outputs": [],
   "source": [
    "a=Rectangle3(10,-20)  # not accepted as earlier"
   ]
  },
  {
   "cell_type": "code",
   "execution_count": 13,
   "id": "8f2f901b",
   "metadata": {
    "ExecuteTime": {
     "end_time": "2023-07-26T11:08:20.099295Z",
     "start_time": "2023-07-26T11:08:20.085295Z"
    }
   },
   "outputs": [
    {
     "data": {
      "text/plain": [
       "-20"
      ]
     },
     "execution_count": 13,
     "metadata": {},
     "output_type": "execute_result"
    }
   ],
   "source": [
    "a._width"
   ]
  },
  {
   "cell_type": "code",
   "execution_count": 1,
   "id": "80d78bc7",
   "metadata": {
    "ExecuteTime": {
     "end_time": "2023-06-13T05:14:24.392561Z",
     "start_time": "2023-06-13T05:14:24.371574Z"
    }
   },
   "outputs": [
    {
     "ename": "SyntaxError",
     "evalue": "non-default argument follows default argument (2585793797.py, line 1)",
     "output_type": "error",
     "traceback": [
      "\u001b[1;36m  File \u001b[1;32m\"C:\\Users\\pbann\\AppData\\Local\\Temp\\ipykernel_40244\\2585793797.py\"\u001b[1;36m, line \u001b[1;32m1\u001b[0m\n\u001b[1;33m    def my_func(a,b=20,c):\u001b[0m\n\u001b[1;37m                        ^\u001b[0m\n\u001b[1;31mSyntaxError\u001b[0m\u001b[1;31m:\u001b[0m non-default argument follows default argument\n"
     ]
    }
   ],
   "source": [
    "def my_func(a,b=20,c):\n",
    "    print('ok')"
   ]
  },
  {
   "cell_type": "code",
   "execution_count": 4,
   "id": "77ec23ba",
   "metadata": {
    "ExecuteTime": {
     "end_time": "2023-06-13T05:15:32.525707Z",
     "start_time": "2023-06-13T05:15:32.516384Z"
    }
   },
   "outputs": [],
   "source": [
    "def my_func2(a,b,c=10):\n",
    "    print('ok')"
   ]
  },
  {
   "cell_type": "code",
   "execution_count": 8,
   "id": "4384d87d",
   "metadata": {
    "ExecuteTime": {
     "end_time": "2023-06-13T05:16:33.965241Z",
     "start_time": "2023-06-13T05:16:33.954257Z"
    }
   },
   "outputs": [],
   "source": [
    "def my_func1(a,b=20,c=20):\n",
    "    print(a,b,c)"
   ]
  },
  {
   "cell_type": "code",
   "execution_count": 9,
   "id": "9fa33e36",
   "metadata": {
    "ExecuteTime": {
     "end_time": "2023-06-13T05:16:34.821640Z",
     "start_time": "2023-06-13T05:16:34.813641Z"
    }
   },
   "outputs": [
    {
     "name": "stdout",
     "output_type": "stream",
     "text": [
      "ok\n"
     ]
    }
   ],
   "source": [
    "my_func2(10,20)"
   ]
  },
  {
   "cell_type": "code",
   "execution_count": 10,
   "id": "2d5dadf8",
   "metadata": {
    "ExecuteTime": {
     "end_time": "2023-06-13T05:16:35.351292Z",
     "start_time": "2023-06-13T05:16:35.339288Z"
    }
   },
   "outputs": [
    {
     "name": "stdout",
     "output_type": "stream",
     "text": [
      "10 30 20\n"
     ]
    }
   ],
   "source": [
    "my_func1(10,30)"
   ]
  },
  {
   "cell_type": "code",
   "execution_count": 13,
   "id": "d3d23d63",
   "metadata": {
    "ExecuteTime": {
     "end_time": "2023-06-13T05:18:09.254807Z",
     "start_time": "2023-06-13T05:18:09.236864Z"
    }
   },
   "outputs": [
    {
     "ename": "SyntaxError",
     "evalue": "positional argument follows keyword argument (1636991459.py, line 1)",
     "output_type": "error",
     "traceback": [
      "\u001b[1;36m  File \u001b[1;32m\"C:\\Users\\pbann\\AppData\\Local\\Temp\\ipykernel_40244\\1636991459.py\"\u001b[1;36m, line \u001b[1;32m1\u001b[0m\n\u001b[1;33m    my_func1(a=10,20,30)  # once keyword is used all arguments has to be keyword only\u001b[0m\n\u001b[1;37m                       ^\u001b[0m\n\u001b[1;31mSyntaxError\u001b[0m\u001b[1;31m:\u001b[0m positional argument follows keyword argument\n"
     ]
    }
   ],
   "source": [
    "my_func1(a=10,20,30)  # once keyword is used all arguments has to be keyword only"
   ]
  },
  {
   "cell_type": "code",
   "execution_count": 14,
   "id": "4a15bd02",
   "metadata": {
    "ExecuteTime": {
     "end_time": "2023-06-13T05:18:09.858047Z",
     "start_time": "2023-06-13T05:18:09.843562Z"
    }
   },
   "outputs": [
    {
     "name": "stdout",
     "output_type": "stream",
     "text": [
      "20 30 50\n"
     ]
    }
   ],
   "source": [
    " my_func1(a=20,b=30,c=50)"
   ]
  },
  {
   "cell_type": "code",
   "execution_count": 15,
   "id": "3bb1b824",
   "metadata": {
    "ExecuteTime": {
     "end_time": "2023-06-13T05:22:06.859540Z",
     "start_time": "2023-06-13T05:22:06.841697Z"
    }
   },
   "outputs": [],
   "source": [
    "a,b,c='xyz'"
   ]
  },
  {
   "cell_type": "code",
   "execution_count": 17,
   "id": "eacc7f2e",
   "metadata": {
    "ExecuteTime": {
     "end_time": "2023-06-13T05:22:22.038688Z",
     "start_time": "2023-06-13T05:22:22.019636Z"
    }
   },
   "outputs": [
    {
     "name": "stdout",
     "output_type": "stream",
     "text": [
      "x y z\n"
     ]
    }
   ],
   "source": [
    "print(a,b,c)"
   ]
  },
  {
   "cell_type": "code",
   "execution_count": 20,
   "id": "9b66b4f4",
   "metadata": {
    "ExecuteTime": {
     "end_time": "2023-06-13T05:23:10.001928Z",
     "start_time": "2023-06-13T05:23:09.997089Z"
    }
   },
   "outputs": [
    {
     "name": "stdout",
     "output_type": "stream",
     "text": [
      "10 20\n",
      "20 10\n"
     ]
    }
   ],
   "source": [
    "a=10\n",
    "b=20\n",
    "print(a,b)\n",
    "a,b=b,a\n",
    "print(a,b)"
   ]
  },
  {
   "cell_type": "code",
   "execution_count": 48,
   "id": "475c7134",
   "metadata": {
    "ExecuteTime": {
     "end_time": "2023-06-14T11:48:52.142898Z",
     "start_time": "2023-06-14T11:48:52.139893Z"
    }
   },
   "outputs": [],
   "source": [
    "l=(-1,1,2,3,4,5)"
   ]
  },
  {
   "cell_type": "code",
   "execution_count": 49,
   "id": "b36b2269",
   "metadata": {
    "ExecuteTime": {
     "end_time": "2023-06-14T11:48:52.793926Z",
     "start_time": "2023-06-14T11:48:52.787682Z"
    }
   },
   "outputs": [
    {
     "name": "stdout",
     "output_type": "stream",
     "text": [
      "-1 , [1, 2, 3, 4, 5]\n"
     ]
    }
   ],
   "source": [
    "a,*b=l\n",
    "print(a,',',b)"
   ]
  },
  {
   "cell_type": "code",
   "execution_count": 25,
   "id": "6597b1ed",
   "metadata": {
    "ExecuteTime": {
     "end_time": "2023-06-13T05:52:25.437751Z",
     "start_time": "2023-06-13T05:52:25.427236Z"
    }
   },
   "outputs": [
    {
     "name": "stdout",
     "output_type": "stream",
     "text": [
      "p ['y', 't', 'h'] o n\n"
     ]
    }
   ],
   "source": [
    "a,*b,c,d='python'\n",
    "print(a,b,c,d)"
   ]
  },
  {
   "cell_type": "code",
   "execution_count": 28,
   "id": "d623729f",
   "metadata": {
    "ExecuteTime": {
     "end_time": "2023-06-13T05:54:23.931816Z",
     "start_time": "2023-06-13T05:54:23.920815Z"
    }
   },
   "outputs": [],
   "source": [
    "l1=[1,2,3]\n",
    "l2=[4,5,6]\n",
    "l3='xyz'\n",
    "l4=[*l1,*l2]\n",
    "l5=[*l1,*l3]"
   ]
  },
  {
   "cell_type": "code",
   "execution_count": 29,
   "id": "f75f91b9",
   "metadata": {
    "ExecuteTime": {
     "end_time": "2023-06-13T05:54:33.667257Z",
     "start_time": "2023-06-13T05:54:33.656219Z"
    }
   },
   "outputs": [
    {
     "name": "stdout",
     "output_type": "stream",
     "text": [
      "[1, 2, 3, 4, 5, 6] [1, 2, 3, 'x', 'y', 'z']\n"
     ]
    }
   ],
   "source": [
    "print(l4,l5)"
   ]
  },
  {
   "cell_type": "code",
   "execution_count": 30,
   "id": "5bcaec1f",
   "metadata": {
    "ExecuteTime": {
     "end_time": "2023-06-13T05:55:53.121823Z",
     "start_time": "2023-06-13T05:55:53.103823Z"
    }
   },
   "outputs": [
    {
     "data": {
      "text/plain": [
       "[1, 2, 3, 4, 5, 6]"
      ]
     },
     "execution_count": 30,
     "metadata": {},
     "output_type": "execute_result"
    }
   ],
   "source": [
    "l1+l2"
   ]
  },
  {
   "cell_type": "code",
   "execution_count": 31,
   "id": "8e43ddba",
   "metadata": {
    "ExecuteTime": {
     "end_time": "2023-06-13T05:56:10.495113Z",
     "start_time": "2023-06-13T05:56:10.249266Z"
    }
   },
   "outputs": [
    {
     "ename": "TypeError",
     "evalue": "can only concatenate list (not \"str\") to list",
     "output_type": "error",
     "traceback": [
      "\u001b[1;31m---------------------------------------------------------------------------\u001b[0m",
      "\u001b[1;31mTypeError\u001b[0m                                 Traceback (most recent call last)",
      "\u001b[1;32m~\\AppData\\Local\\Temp\\ipykernel_40244\\2241285606.py\u001b[0m in \u001b[0;36m<module>\u001b[1;34m\u001b[0m\n\u001b[1;32m----> 1\u001b[1;33m \u001b[0ml1\u001b[0m\u001b[1;33m+\u001b[0m\u001b[0ml3\u001b[0m\u001b[1;33m\u001b[0m\u001b[1;33m\u001b[0m\u001b[0m\n\u001b[0m",
      "\u001b[1;31mTypeError\u001b[0m: can only concatenate list (not \"str\") to list"
     ]
    }
   ],
   "source": [
    "l1+l3"
   ]
  },
  {
   "cell_type": "code",
   "execution_count": 1,
   "id": "44a68e92",
   "metadata": {
    "ExecuteTime": {
     "end_time": "2023-07-12T15:25:04.826239Z",
     "start_time": "2023-07-12T15:25:04.817242Z"
    }
   },
   "outputs": [],
   "source": [
    "d1={'a':1,'b':2,'c':3}\n",
    "d2={'c':4,'d':8}\n",
    "d={**d1,**d2}\n",
    "k={*d1,*d2}\n",
    "l=[*d1,*d2]"
   ]
  },
  {
   "cell_type": "code",
   "execution_count": 36,
   "id": "83471d57",
   "metadata": {
    "ExecuteTime": {
     "end_time": "2023-06-13T06:09:46.404209Z",
     "start_time": "2023-06-13T06:09:46.393753Z"
    }
   },
   "outputs": [
    {
     "data": {
      "text/plain": [
       "{'a': 1, 'b': 2, 'c': 4, 'd': 8}"
      ]
     },
     "execution_count": 36,
     "metadata": {},
     "output_type": "execute_result"
    }
   ],
   "source": [
    "d  # merge keys and values but overwrites"
   ]
  },
  {
   "cell_type": "code",
   "execution_count": 38,
   "id": "67a5bd82",
   "metadata": {
    "ExecuteTime": {
     "end_time": "2023-06-13T06:10:03.444648Z",
     "start_time": "2023-06-13T06:10:03.438762Z"
    }
   },
   "outputs": [
    {
     "data": {
      "text/plain": [
       "{'a', 'b', 'c', 'd'}"
      ]
     },
     "execution_count": 38,
     "metadata": {},
     "output_type": "execute_result"
    }
   ],
   "source": [
    "k   # only keys"
   ]
  },
  {
   "cell_type": "code",
   "execution_count": 40,
   "id": "809609ee",
   "metadata": {
    "ExecuteTime": {
     "end_time": "2023-06-13T06:11:27.115156Z",
     "start_time": "2023-06-13T06:11:27.096233Z"
    }
   },
   "outputs": [
    {
     "data": {
      "text/plain": [
       "['a', 'b', 'c', 'c', 'd']"
      ]
     },
     "execution_count": 40,
     "metadata": {},
     "output_type": "execute_result"
    }
   ],
   "source": [
    "l  # accepts repetitive"
   ]
  },
  {
   "cell_type": "code",
   "execution_count": 43,
   "id": "a01ab860",
   "metadata": {
    "ExecuteTime": {
     "end_time": "2023-06-13T06:19:06.430562Z",
     "start_time": "2023-06-13T06:19:06.417442Z"
    }
   },
   "outputs": [
    {
     "name": "stdout",
     "output_type": "stream",
     "text": [
      "1 2 3 4\n"
     ]
    }
   ],
   "source": [
    "a,b,(c,d)=[1,2,[3,4]]\n",
    "print(a,b,c,d)"
   ]
  },
  {
   "cell_type": "code",
   "execution_count": 44,
   "id": "98c7e302",
   "metadata": {
    "ExecuteTime": {
     "end_time": "2023-06-13T06:19:45.625353Z",
     "start_time": "2023-06-13T06:19:45.618350Z"
    }
   },
   "outputs": [
    {
     "name": "stdout",
     "output_type": "stream",
     "text": [
      "1 [2, 3, 4] p ['y', 't', 'h', 'o', 'n']\n"
     ]
    }
   ],
   "source": [
    "a,*b,(c,*d)=[1,2,3,4,'python'] \n",
    "print(a,b,c,d)"
   ]
  },
  {
   "cell_type": "code",
   "execution_count": 7,
   "id": "4066046d",
   "metadata": {
    "ExecuteTime": {
     "end_time": "2023-06-14T10:25:01.806074Z",
     "start_time": "2023-06-14T10:25:01.796071Z"
    }
   },
   "outputs": [],
   "source": [
    "def func(a,b,*args,d):\n",
    "    print(a,b,*args,d)"
   ]
  },
  {
   "cell_type": "code",
   "execution_count": 8,
   "id": "0ae847a6",
   "metadata": {
    "ExecuteTime": {
     "end_time": "2023-06-14T10:25:02.163988Z",
     "start_time": "2023-06-14T10:25:02.151471Z"
    }
   },
   "outputs": [
    {
     "name": "stdout",
     "output_type": "stream",
     "text": [
      "10 20 200 a b 100\n"
     ]
    }
   ],
   "source": [
    "func(10,20,200,'a','b',d=100)"
   ]
  },
  {
   "cell_type": "code",
   "execution_count": 14,
   "id": "8af2dcb8",
   "metadata": {
    "ExecuteTime": {
     "end_time": "2023-06-14T10:27:58.198200Z",
     "start_time": "2023-06-14T10:27:58.181198Z"
    }
   },
   "outputs": [
    {
     "name": "stdout",
     "output_type": "stream",
     "text": [
      "a= 1 b= 2 c= 3\n"
     ]
    }
   ],
   "source": [
    "def func1(a,b,c):\n",
    "    print('a=',a,'b=',b,'c=',c)\n",
    "l=[1,2,3]\n",
    "func1(*l)"
   ]
  },
  {
   "cell_type": "code",
   "execution_count": 77,
   "id": "4b25c4ff",
   "metadata": {
    "ExecuteTime": {
     "end_time": "2023-06-14T13:24:22.525958Z",
     "start_time": "2023-06-14T13:24:22.517970Z"
    }
   },
   "outputs": [],
   "source": [
    "def func2(a,b,*c):\n",
    "    print(a,b,c,sep=' ; ')"
   ]
  },
  {
   "cell_type": "code",
   "execution_count": 78,
   "id": "31d72484",
   "metadata": {
    "ExecuteTime": {
     "end_time": "2023-06-14T13:24:40.854404Z",
     "start_time": "2023-06-14T13:24:40.846404Z"
    }
   },
   "outputs": [
    {
     "name": "stdout",
     "output_type": "stream",
     "text": [
      "10 ; 20 ; (22, 30, 45)\n"
     ]
    }
   ],
   "source": [
    "func2(10,20,22,30,45)"
   ]
  },
  {
   "cell_type": "code",
   "execution_count": 21,
   "id": "4dd1d730",
   "metadata": {
    "ExecuteTime": {
     "end_time": "2023-06-14T11:10:40.725222Z",
     "start_time": "2023-06-14T11:10:40.720234Z"
    }
   },
   "outputs": [
    {
     "name": "stdout",
     "output_type": "stream",
     "text": [
      "a is > b\n"
     ]
    }
   ],
   "source": [
    "a=10\n",
    "b=2\n",
    "if b>0:\n",
    "    if a/b>2:\n",
    "        print('a is > b')"
   ]
  },
  {
   "cell_type": "code",
   "execution_count": 3,
   "id": "654e5a4f",
   "metadata": {
    "ExecuteTime": {
     "end_time": "2023-07-01T10:24:43.602286Z",
     "start_time": "2023-07-01T10:24:43.586248Z"
    }
   },
   "outputs": [
    {
     "name": "stdout",
     "output_type": "stream",
     "text": [
      "a is > b\n"
     ]
    }
   ],
   "source": [
    "a=10\n",
    "b=1\n",
    "if b and a/b>2:\n",
    "    print('a is > b')"
   ]
  },
  {
   "cell_type": "code",
   "execution_count": 4,
   "id": "8c29d5e9",
   "metadata": {
    "ExecuteTime": {
     "end_time": "2023-07-01T10:25:02.461974Z",
     "start_time": "2023-07-01T10:25:02.453981Z"
    }
   },
   "outputs": [],
   "source": [
    "a=10\n",
    "b=0\n",
    "if b and a/b>2:\n",
    "    print('a is > b')\n"
   ]
  },
  {
   "cell_type": "code",
   "execution_count": 1,
   "id": "a109a8ed",
   "metadata": {
    "ExecuteTime": {
     "end_time": "2023-07-01T10:24:21.626934Z",
     "start_time": "2023-07-01T10:24:21.606939Z"
    }
   },
   "outputs": [
    {
     "name": "stdout",
     "output_type": "stream",
     "text": [
      "a is > b\n"
     ]
    }
   ],
   "source": [
    "a=10\n",
    "b=2\n",
    "if b and a/b>2:\n",
    "    print('a is > b')"
   ]
  },
  {
   "cell_type": "code",
   "execution_count": 22,
   "id": "fb1d19a8",
   "metadata": {
    "ExecuteTime": {
     "end_time": "2023-06-14T11:14:15.847114Z",
     "start_time": "2023-06-14T11:14:15.828971Z"
    }
   },
   "outputs": [],
   "source": [
    "import string"
   ]
  },
  {
   "cell_type": "code",
   "execution_count": 24,
   "id": "e15dbb3f",
   "metadata": {
    "ExecuteTime": {
     "end_time": "2023-06-14T11:15:14.852260Z",
     "start_time": "2023-06-14T11:15:14.839760Z"
    }
   },
   "outputs": [
    {
     "name": "stdout",
     "output_type": "stream",
     "text": [
      "name cannot start with digit\n"
     ]
    }
   ],
   "source": [
    "name='1abc'\n",
    "if name[0] in string.digits:\n",
    "    print('name cannot start with digit')"
   ]
  },
  {
   "cell_type": "code",
   "execution_count": 29,
   "id": "1af15774",
   "metadata": {
    "ExecuteTime": {
     "end_time": "2023-06-14T11:20:25.313327Z",
     "start_time": "2023-06-14T11:20:25.290234Z"
    }
   },
   "outputs": [
    {
     "ename": "IndexError",
     "evalue": "string index out of range",
     "output_type": "error",
     "traceback": [
      "\u001b[1;31m---------------------------------------------------------------------------\u001b[0m",
      "\u001b[1;31mIndexError\u001b[0m                                Traceback (most recent call last)",
      "\u001b[1;32m~\\AppData\\Local\\Temp\\ipykernel_18872\\3281460.py\u001b[0m in \u001b[0;36m<module>\u001b[1;34m\u001b[0m\n\u001b[0;32m      1\u001b[0m \u001b[0mname\u001b[0m\u001b[1;33m=\u001b[0m\u001b[1;34m''\u001b[0m   \u001b[1;31m# code breaks if none in name\u001b[0m\u001b[1;33m\u001b[0m\u001b[1;33m\u001b[0m\u001b[0m\n\u001b[1;32m----> 2\u001b[1;33m \u001b[1;32mif\u001b[0m \u001b[0mname\u001b[0m\u001b[1;33m[\u001b[0m\u001b[1;36m0\u001b[0m\u001b[1;33m]\u001b[0m \u001b[1;32min\u001b[0m \u001b[0mstring\u001b[0m\u001b[1;33m.\u001b[0m\u001b[0mdigits\u001b[0m\u001b[1;33m:\u001b[0m\u001b[1;33m\u001b[0m\u001b[1;33m\u001b[0m\u001b[0m\n\u001b[0m\u001b[0;32m      3\u001b[0m     \u001b[0mprint\u001b[0m\u001b[1;33m(\u001b[0m\u001b[1;34m'name cannot start with digit'\u001b[0m\u001b[1;33m)\u001b[0m\u001b[1;33m\u001b[0m\u001b[1;33m\u001b[0m\u001b[0m\n",
      "\u001b[1;31mIndexError\u001b[0m: string index out of range"
     ]
    }
   ],
   "source": [
    "name=''   # code breaks if none in name\n",
    "if name[0] in string.digits:\n",
    "    print('name cannot start with digit')"
   ]
  },
  {
   "cell_type": "markdown",
   "id": "a4f76ed8",
   "metadata": {},
   "source": [
    "### here and check len(name)>0 then checks name[0]\n",
    "### as len(name) means if empty it is =0 so false, so just len(name) is ok instead of >0\n",
    "### as if name = '  '  then bool always return 0 so no need of len as it defaults check len so name is just enough and also if name is None it throws error"
   ]
  },
  {
   "cell_type": "code",
   "execution_count": 28,
   "id": "929ee558",
   "metadata": {
    "ExecuteTime": {
     "end_time": "2023-06-14T11:19:15.459700Z",
     "start_time": "2023-06-14T11:19:15.444700Z"
    }
   },
   "outputs": [
    {
     "name": "stdout",
     "output_type": "stream",
     "text": [
      "False True\n"
     ]
    }
   ],
   "source": [
    "name=''\n",
    "name1='abc'\n",
    "print(bool(name),bool(name1))"
   ]
  },
  {
   "cell_type": "code",
   "execution_count": 31,
   "id": "c839ad05",
   "metadata": {
    "ExecuteTime": {
     "end_time": "2023-06-14T11:21:35.799605Z",
     "start_time": "2023-06-14T11:21:35.787489Z"
    }
   },
   "outputs": [
    {
     "ename": "TypeError",
     "evalue": "object of type 'NoneType' has no len()",
     "output_type": "error",
     "traceback": [
      "\u001b[1;31m---------------------------------------------------------------------------\u001b[0m",
      "\u001b[1;31mTypeError\u001b[0m                                 Traceback (most recent call last)",
      "\u001b[1;32m~\\AppData\\Local\\Temp\\ipykernel_18872\\2600413013.py\u001b[0m in \u001b[0;36m<module>\u001b[1;34m\u001b[0m\n\u001b[0;32m      1\u001b[0m \u001b[0mname\u001b[0m\u001b[1;33m=\u001b[0m\u001b[1;32mNone\u001b[0m\u001b[1;33m\u001b[0m\u001b[1;33m\u001b[0m\u001b[0m\n\u001b[1;32m----> 2\u001b[1;33m \u001b[1;32mif\u001b[0m \u001b[0mlen\u001b[0m\u001b[1;33m(\u001b[0m\u001b[0mname\u001b[0m\u001b[1;33m)\u001b[0m \u001b[1;32mand\u001b[0m \u001b[0mname\u001b[0m\u001b[1;33m[\u001b[0m\u001b[1;36m0\u001b[0m\u001b[1;33m]\u001b[0m \u001b[1;32min\u001b[0m \u001b[0mstring\u001b[0m\u001b[1;33m.\u001b[0m\u001b[0mdigits\u001b[0m\u001b[1;33m:\u001b[0m\u001b[1;33m\u001b[0m\u001b[1;33m\u001b[0m\u001b[0m\n\u001b[0m\u001b[0;32m      3\u001b[0m     \u001b[0mprint\u001b[0m\u001b[1;33m(\u001b[0m\u001b[1;34m'name cannot start with digit'\u001b[0m\u001b[1;33m)\u001b[0m\u001b[1;33m\u001b[0m\u001b[1;33m\u001b[0m\u001b[0m\n",
      "\u001b[1;31mTypeError\u001b[0m: object of type 'NoneType' has no len()"
     ]
    }
   ],
   "source": [
    "name=None\n",
    "if len(name) and name[0] in string.digits:\n",
    "    print('name cannot start with digit')"
   ]
  },
  {
   "cell_type": "code",
   "execution_count": 32,
   "id": "0d2113e8",
   "metadata": {
    "ExecuteTime": {
     "end_time": "2023-06-14T11:21:45.624834Z",
     "start_time": "2023-06-14T11:21:45.618238Z"
    }
   },
   "outputs": [],
   "source": [
    "name=None\n",
    "if name and name[0] in string.digits:\n",
    "    print('name cannot start with digit')"
   ]
  },
  {
   "cell_type": "code",
   "execution_count": 57,
   "id": "5d8b6654",
   "metadata": {
    "ExecuteTime": {
     "end_time": "2023-06-14T11:51:43.961818Z",
     "start_time": "2023-06-14T11:51:43.951543Z"
    }
   },
   "outputs": [],
   "source": [
    "def mean(*args):\n",
    "    count=len(args)\n",
    "    d=sum(args)\n",
    "    return count and d/count"
   ]
  },
  {
   "cell_type": "code",
   "execution_count": 62,
   "id": "52dc8ecd",
   "metadata": {
    "ExecuteTime": {
     "end_time": "2023-06-14T12:07:55.015492Z",
     "start_time": "2023-06-14T12:07:55.005491Z"
    }
   },
   "outputs": [
    {
     "data": {
      "text/plain": [
       "0"
      ]
     },
     "execution_count": 62,
     "metadata": {},
     "output_type": "execute_result"
    }
   ],
   "source": [
    "mean()"
   ]
  },
  {
   "cell_type": "code",
   "execution_count": 60,
   "id": "226f7432",
   "metadata": {
    "ExecuteTime": {
     "end_time": "2023-06-14T11:52:05.379368Z",
     "start_time": "2023-06-14T11:52:05.358407Z"
    }
   },
   "outputs": [
    {
     "data": {
      "text/plain": [
       "11.428571428571429"
      ]
     },
     "execution_count": 60,
     "metadata": {},
     "output_type": "execute_result"
    }
   ],
   "source": [
    "mean(10,2,0,3,4,50,11)"
   ]
  },
  {
   "cell_type": "code",
   "execution_count": 63,
   "id": "e50667ca",
   "metadata": {
    "ExecuteTime": {
     "end_time": "2023-06-14T12:08:42.815607Z",
     "start_time": "2023-06-14T12:08:42.809581Z"
    }
   },
   "outputs": [],
   "source": [
    "def mean1(a,*args):   # this method no need to check len as forcing to have atleast 1 argument\n",
    "    c=len(args)+a\n",
    "    d=sum(args)+a\n",
    "    return d/c"
   ]
  },
  {
   "cell_type": "code",
   "execution_count": 64,
   "id": "4a588c3b",
   "metadata": {
    "ExecuteTime": {
     "end_time": "2023-06-14T12:08:50.867168Z",
     "start_time": "2023-06-14T12:08:50.854865Z"
    }
   },
   "outputs": [
    {
     "data": {
      "text/plain": [
       "1.0"
      ]
     },
     "execution_count": 64,
     "metadata": {},
     "output_type": "execute_result"
    }
   ],
   "source": [
    "mean1(1)   "
   ]
  },
  {
   "cell_type": "code",
   "execution_count": 65,
   "id": "8d292f9f",
   "metadata": {
    "ExecuteTime": {
     "end_time": "2023-06-14T12:11:24.267901Z",
     "start_time": "2023-06-14T12:11:24.261871Z"
    }
   },
   "outputs": [],
   "source": [
    "def fun(a,b,c):\n",
    "    print(a)\n",
    "    print(b)\n",
    "    print(c)"
   ]
  },
  {
   "cell_type": "code",
   "execution_count": 69,
   "id": "fe867660",
   "metadata": {
    "ExecuteTime": {
     "end_time": "2023-06-14T12:13:02.814918Z",
     "start_time": "2023-06-14T12:13:02.804919Z"
    }
   },
   "outputs": [
    {
     "name": "stdout",
     "output_type": "stream",
     "text": [
      "10\n",
      "20\n",
      "30\n"
     ]
    }
   ],
   "source": [
    "l=[10,20,30]\n",
    "fun(*l)"
   ]
  },
  {
   "cell_type": "markdown",
   "id": "e6cf2094",
   "metadata": {},
   "source": [
    "### this method avoids zero division error"
   ]
  },
  {
   "cell_type": "code",
   "execution_count": 61,
   "id": "ed7d4c59",
   "metadata": {
    "ExecuteTime": {
     "end_time": "2023-06-14T11:56:05.412293Z",
     "start_time": "2023-06-14T11:56:05.406860Z"
    }
   },
   "outputs": [
    {
     "name": "stdout",
     "output_type": "stream",
     "text": [
      "5.0\n"
     ]
    }
   ],
   "source": [
    "a=10\n",
    "b=2\n",
    "print(b and a/b)"
   ]
  },
  {
   "cell_type": "code",
   "execution_count": 70,
   "id": "e1831388",
   "metadata": {
    "ExecuteTime": {
     "end_time": "2023-06-14T13:11:05.747582Z",
     "start_time": "2023-06-14T13:11:05.737580Z"
    }
   },
   "outputs": [],
   "source": [
    "def ffff(*,d):  # * indicates end of positional arguments\n",
    "    print('ok')"
   ]
  },
  {
   "cell_type": "code",
   "execution_count": 71,
   "id": "e9205214",
   "metadata": {
    "ExecuteTime": {
     "end_time": "2023-06-14T13:11:17.758124Z",
     "start_time": "2023-06-14T13:11:17.735371Z"
    }
   },
   "outputs": [
    {
     "ename": "TypeError",
     "evalue": "ffff() takes 0 positional arguments but 2 positional arguments (and 1 keyword-only argument) were given",
     "output_type": "error",
     "traceback": [
      "\u001b[1;31m---------------------------------------------------------------------------\u001b[0m",
      "\u001b[1;31mTypeError\u001b[0m                                 Traceback (most recent call last)",
      "\u001b[1;32m~\\AppData\\Local\\Temp\\ipykernel_18872\\3806488802.py\u001b[0m in \u001b[0;36m<module>\u001b[1;34m\u001b[0m\n\u001b[1;32m----> 1\u001b[1;33m \u001b[0mffff\u001b[0m\u001b[1;33m(\u001b[0m\u001b[1;36m1\u001b[0m\u001b[1;33m,\u001b[0m\u001b[1;36m2\u001b[0m\u001b[1;33m,\u001b[0m\u001b[0md\u001b[0m\u001b[1;33m=\u001b[0m\u001b[1;36m10\u001b[0m\u001b[1;33m)\u001b[0m\u001b[1;33m\u001b[0m\u001b[1;33m\u001b[0m\u001b[0m\n\u001b[0m",
      "\u001b[1;31mTypeError\u001b[0m: ffff() takes 0 positional arguments but 2 positional arguments (and 1 keyword-only argument) were given"
     ]
    }
   ],
   "source": [
    "ffff(1,2,d=10)"
   ]
  },
  {
   "cell_type": "code",
   "execution_count": 72,
   "id": "5a44d845",
   "metadata": {
    "ExecuteTime": {
     "end_time": "2023-06-14T13:12:00.990007Z",
     "start_time": "2023-06-14T13:12:00.982327Z"
    }
   },
   "outputs": [],
   "source": [
    "def ff(a,b,*,d):\n",
    "    print('ok')"
   ]
  },
  {
   "cell_type": "code",
   "execution_count": 73,
   "id": "b74f504b",
   "metadata": {
    "ExecuteTime": {
     "end_time": "2023-06-14T13:12:16.220896Z",
     "start_time": "2023-06-14T13:12:16.205302Z"
    }
   },
   "outputs": [
    {
     "name": "stdout",
     "output_type": "stream",
     "text": [
      "ok\n"
     ]
    }
   ],
   "source": [
    "ff(10,20,d=10)"
   ]
  },
  {
   "cell_type": "code",
   "execution_count": 79,
   "id": "3cedaf6d",
   "metadata": {
    "ExecuteTime": {
     "end_time": "2023-06-14T13:35:32.134583Z",
     "start_time": "2023-06-14T13:35:32.121582Z"
    }
   },
   "outputs": [],
   "source": [
    "def cal_hi_lo_avg(*args,flag=False):\n",
    "    hi=int(bool(args)) and max(args)\n",
    "    lo=min(args) if len(args)>0 else 0\n",
    "    avg= (hi+lo)/2\n",
    "    if flag:\n",
    "        print(hi,lo,avg,sep=':::')\n",
    "    return avg"
   ]
  },
  {
   "cell_type": "code",
   "execution_count": 80,
   "id": "da58f1a4",
   "metadata": {
    "ExecuteTime": {
     "end_time": "2023-06-14T13:35:51.344643Z",
     "start_time": "2023-06-14T13:35:51.336614Z"
    }
   },
   "outputs": [
    {
     "name": "stdout",
     "output_type": "stream",
     "text": [
      "3:::1:::2.0\n"
     ]
    },
    {
     "data": {
      "text/plain": [
       "2.0"
      ]
     },
     "execution_count": 80,
     "metadata": {},
     "output_type": "execute_result"
    }
   ],
   "source": [
    "cal_hi_lo_avg(1,2,3,flag=True)"
   ]
  },
  {
   "cell_type": "code",
   "execution_count": 81,
   "id": "bdcd913f",
   "metadata": {
    "ExecuteTime": {
     "end_time": "2023-06-14T13:46:48.096859Z",
     "start_time": "2023-06-14T13:46:48.077347Z"
    }
   },
   "outputs": [],
   "source": [
    "def t_f(fn,*args,**kwargs):\n",
    "    fn(*args,**kwargs)"
   ]
  },
  {
   "cell_type": "markdown",
   "id": "6f22edc5",
   "metadata": {},
   "source": [
    "## here func has * expressions so it is merging both arguments"
   ]
  },
  {
   "cell_type": "code",
   "execution_count": 82,
   "id": "fe04ee7e",
   "metadata": {
    "ExecuteTime": {
     "end_time": "2023-06-14T13:47:20.283514Z",
     "start_time": "2023-06-14T13:47:20.264513Z"
    }
   },
   "outputs": [
    {
     "name": "stdout",
     "output_type": "stream",
     "text": [
      "1==2==3****"
     ]
    }
   ],
   "source": [
    "t_f(print,1,2,3,sep='==',end='****')"
   ]
  },
  {
   "cell_type": "code",
   "execution_count": 98,
   "id": "336fa622",
   "metadata": {
    "ExecuteTime": {
     "end_time": "2023-06-14T13:55:47.022301Z",
     "start_time": "2023-06-14T13:55:47.008792Z"
    }
   },
   "outputs": [],
   "source": [
    "import time\n",
    "def time_it(fn,*args,rep=1,**kwargs):\n",
    "    start=time.perf_counter()\n",
    "    for i in range(rep):\n",
    "        fn(*args,**kwargs)\n",
    "    stop=time.perf_counter()\n",
    "    return (stop-start)/rep"
   ]
  },
  {
   "cell_type": "code",
   "execution_count": 99,
   "id": "230e3423",
   "metadata": {
    "ExecuteTime": {
     "end_time": "2023-06-14T13:55:47.521489Z",
     "start_time": "2023-06-14T13:55:47.502659Z"
    }
   },
   "outputs": [
    {
     "name": "stdout",
     "output_type": "stream",
     "text": [
      "1;;;2;;;3---\n",
      "1;;;2;;;3---\n",
      "1;;;2;;;3---\n",
      "1;;;2;;;3---\n",
      "1;;;2;;;3---\n"
     ]
    },
    {
     "data": {
      "text/plain": [
       "1.2619999688467943e-05"
      ]
     },
     "execution_count": 99,
     "metadata": {},
     "output_type": "execute_result"
    }
   ],
   "source": [
    "time_it(print,1,2,3,rep=5,sep=\";;;\",end='---\\n')"
   ]
  },
  {
   "cell_type": "code",
   "execution_count": 100,
   "id": "c8e0a3d8",
   "metadata": {
    "ExecuteTime": {
     "end_time": "2023-06-14T14:01:39.211845Z",
     "start_time": "2023-06-14T14:01:39.206186Z"
    }
   },
   "outputs": [],
   "source": [
    "def com_pow(n,*,start=1,end):\n",
    "    r=[]\n",
    "    for i in range(start,end):\n",
    "        r.append(n**i)\n",
    "    return r\n",
    "        "
   ]
  },
  {
   "cell_type": "code",
   "execution_count": 102,
   "id": "81df7c79",
   "metadata": {
    "ExecuteTime": {
     "end_time": "2023-06-14T14:02:00.473705Z",
     "start_time": "2023-06-14T14:02:00.465707Z"
    }
   },
   "outputs": [
    {
     "data": {
      "text/plain": [
       "[2, 4, 8, 16]"
      ]
     },
     "execution_count": 102,
     "metadata": {},
     "output_type": "execute_result"
    }
   ],
   "source": [
    "com_pow(2,end=5)"
   ]
  },
  {
   "cell_type": "code",
   "execution_count": 103,
   "id": "f4039492",
   "metadata": {
    "ExecuteTime": {
     "end_time": "2023-06-14T14:02:53.865962Z",
     "start_time": "2023-06-14T14:02:53.854448Z"
    }
   },
   "outputs": [],
   "source": [
    "def com_pow1(n,*,start=1,end):\n",
    "    return [n**i for i in range(start,end)]"
   ]
  },
  {
   "cell_type": "code",
   "execution_count": 104,
   "id": "cb85940e",
   "metadata": {
    "ExecuteTime": {
     "end_time": "2023-06-14T14:03:04.830734Z",
     "start_time": "2023-06-14T14:03:04.826517Z"
    }
   },
   "outputs": [
    {
     "data": {
      "text/plain": [
       "[2, 4, 8, 16]"
      ]
     },
     "execution_count": 104,
     "metadata": {},
     "output_type": "execute_result"
    }
   ],
   "source": [
    "com_pow1(2,end=5)"
   ]
  },
  {
   "cell_type": "code",
   "execution_count": 106,
   "id": "dc187b45",
   "metadata": {
    "ExecuteTime": {
     "end_time": "2023-06-14T14:06:58.200946Z",
     "start_time": "2023-06-14T14:06:58.195045Z"
    }
   },
   "outputs": [],
   "source": [
    "def com_pow2(n,*,start=1,end):    # its a generator so fast\n",
    "    return (n**i for i in range(start,end))"
   ]
  },
  {
   "cell_type": "code",
   "execution_count": 108,
   "id": "df44b04d",
   "metadata": {
    "ExecuteTime": {
     "end_time": "2023-06-14T14:07:42.010487Z",
     "start_time": "2023-06-14T14:07:40.019711Z"
    }
   },
   "outputs": [
    {
     "data": {
      "text/plain": [
       "0.395251719999942"
      ]
     },
     "execution_count": 108,
     "metadata": {},
     "output_type": "execute_result"
    }
   ],
   "source": [
    "time_it(com_pow,2,rep=5,end=20000)"
   ]
  },
  {
   "cell_type": "code",
   "execution_count": 105,
   "id": "3e10219c",
   "metadata": {
    "ExecuteTime": {
     "end_time": "2023-06-14T14:04:29.461278Z",
     "start_time": "2023-06-14T14:04:27.654286Z"
    }
   },
   "outputs": [
    {
     "data": {
      "text/plain": [
       "0.35909131999978855"
      ]
     },
     "execution_count": 105,
     "metadata": {},
     "output_type": "execute_result"
    }
   ],
   "source": [
    "time_it(com_pow1,2,rep=5,end=20000)"
   ]
  },
  {
   "cell_type": "code",
   "execution_count": 107,
   "id": "25b0d862",
   "metadata": {
    "ExecuteTime": {
     "end_time": "2023-06-14T14:07:12.053657Z",
     "start_time": "2023-06-14T14:07:12.043655Z"
    }
   },
   "outputs": [
    {
     "data": {
      "text/plain": [
       "1.5400000847876072e-06"
      ]
     },
     "execution_count": 107,
     "metadata": {},
     "output_type": "execute_result"
    }
   ],
   "source": [
    "time_it(com_pow2,2,rep=5,end=20000)  "
   ]
  },
  {
   "cell_type": "code",
   "execution_count": 113,
   "id": "a0711d1d",
   "metadata": {
    "ExecuteTime": {
     "end_time": "2023-06-14T14:09:00.555756Z",
     "start_time": "2023-06-14T14:09:00.545357Z"
    }
   },
   "outputs": [
    {
     "data": {
      "text/plain": [
       "<generator object <genexpr> at 0x00000179CF963F90>"
      ]
     },
     "execution_count": 113,
     "metadata": {},
     "output_type": "execute_result"
    }
   ],
   "source": [
    "a=(2**i for i in range(5))\n",
    "a"
   ]
  },
  {
   "cell_type": "code",
   "execution_count": 114,
   "id": "2915f067",
   "metadata": {
    "ExecuteTime": {
     "end_time": "2023-06-14T14:09:01.022258Z",
     "start_time": "2023-06-14T14:09:01.009680Z"
    }
   },
   "outputs": [
    {
     "data": {
      "text/plain": [
       "[1, 2, 4, 8, 16]"
      ]
     },
     "execution_count": 114,
     "metadata": {},
     "output_type": "execute_result"
    }
   ],
   "source": [
    "list(a)"
   ]
  },
  {
   "cell_type": "code",
   "execution_count": 117,
   "id": "66fc6254",
   "metadata": {
    "ExecuteTime": {
     "end_time": "2023-06-14T14:25:45.552257Z",
     "start_time": "2023-06-14T14:25:45.543678Z"
    }
   },
   "outputs": [],
   "source": [
    "from datetime import datetime\n",
    "def log(msg,*,dt=None):\n",
    "    if not dt:\n",
    "        dt=datetime.utcnow()\n",
    "    print(dt,msg)"
   ]
  },
  {
   "cell_type": "code",
   "execution_count": 119,
   "id": "a3ed1d49",
   "metadata": {
    "ExecuteTime": {
     "end_time": "2023-06-14T14:25:59.277807Z",
     "start_time": "2023-06-14T14:25:59.262427Z"
    }
   },
   "outputs": [
    {
     "name": "stdout",
     "output_type": "stream",
     "text": [
      "2023-06-14 14:25:59.264945 message1\n"
     ]
    }
   ],
   "source": [
    "log('message1')"
   ]
  },
  {
   "cell_type": "code",
   "execution_count": 120,
   "id": "3757d239",
   "metadata": {
    "ExecuteTime": {
     "end_time": "2023-06-14T14:26:08.011291Z",
     "start_time": "2023-06-14T14:26:07.999671Z"
    }
   },
   "outputs": [
    {
     "name": "stdout",
     "output_type": "stream",
     "text": [
      "2023-06-14 14:26:08.001671 message2\n"
     ]
    }
   ],
   "source": [
    "log('message2')"
   ]
  },
  {
   "cell_type": "code",
   "execution_count": 121,
   "id": "dce1434b",
   "metadata": {
    "ExecuteTime": {
     "end_time": "2023-06-14T14:26:50.140606Z",
     "start_time": "2023-06-14T14:26:50.129460Z"
    }
   },
   "outputs": [],
   "source": [
    "def log1(msg,*,dt=None):\n",
    "    dt=dt or datetime.utcnow()\n",
    "    print(dt,msg)"
   ]
  },
  {
   "cell_type": "code",
   "execution_count": 122,
   "id": "198aaf0a",
   "metadata": {
    "ExecuteTime": {
     "end_time": "2023-06-14T14:27:00.248562Z",
     "start_time": "2023-06-14T14:27:00.233227Z"
    }
   },
   "outputs": [
    {
     "name": "stdout",
     "output_type": "stream",
     "text": [
      "2023-06-14 14:27:00.234227 msg3\n"
     ]
    }
   ],
   "source": [
    "log1('msg3')"
   ]
  },
  {
   "cell_type": "code",
   "execution_count": 123,
   "id": "5db133e1",
   "metadata": {
    "ExecuteTime": {
     "end_time": "2023-06-14T14:47:59.634539Z",
     "start_time": "2023-06-14T14:47:59.620536Z"
    }
   },
   "outputs": [],
   "source": [
    "def fact(n):  \n",
    "    return count and n*fact(n-1)"
   ]
  },
  {
   "cell_type": "code",
   "execution_count": 124,
   "id": "2c74883e",
   "metadata": {
    "ExecuteTime": {
     "end_time": "2023-06-14T14:48:06.883973Z",
     "start_time": "2023-06-14T14:48:06.872068Z"
    }
   },
   "outputs": [
    {
     "ename": "TypeError",
     "evalue": "object of type 'int' has no len()",
     "output_type": "error",
     "traceback": [
      "\u001b[1;31m---------------------------------------------------------------------------\u001b[0m",
      "\u001b[1;31mTypeError\u001b[0m                                 Traceback (most recent call last)",
      "\u001b[1;32m~\\AppData\\Local\\Temp\\ipykernel_18872\\3720129738.py\u001b[0m in \u001b[0;36m<module>\u001b[1;34m\u001b[0m\n\u001b[1;32m----> 1\u001b[1;33m \u001b[0mfact\u001b[0m\u001b[1;33m(\u001b[0m\u001b[1;36m2\u001b[0m\u001b[1;33m)\u001b[0m\u001b[1;33m\u001b[0m\u001b[1;33m\u001b[0m\u001b[0m\n\u001b[0m",
      "\u001b[1;32m~\\AppData\\Local\\Temp\\ipykernel_18872\\3125384497.py\u001b[0m in \u001b[0;36mfact\u001b[1;34m(n)\u001b[0m\n\u001b[0;32m      1\u001b[0m \u001b[1;32mdef\u001b[0m \u001b[0mfact\u001b[0m\u001b[1;33m(\u001b[0m\u001b[0mn\u001b[0m\u001b[1;33m)\u001b[0m\u001b[1;33m:\u001b[0m\u001b[1;33m\u001b[0m\u001b[1;33m\u001b[0m\u001b[0m\n\u001b[1;32m----> 2\u001b[1;33m     \u001b[0mcount\u001b[0m\u001b[1;33m=\u001b[0m\u001b[0mlen\u001b[0m\u001b[1;33m(\u001b[0m\u001b[0mn\u001b[0m\u001b[1;33m)\u001b[0m\u001b[1;33m\u001b[0m\u001b[1;33m\u001b[0m\u001b[0m\n\u001b[0m\u001b[0;32m      3\u001b[0m     \u001b[1;32mreturn\u001b[0m \u001b[0mcount\u001b[0m \u001b[1;32mand\u001b[0m \u001b[0mn\u001b[0m\u001b[1;33m*\u001b[0m\u001b[0mfact\u001b[0m\u001b[1;33m(\u001b[0m\u001b[0mn\u001b[0m\u001b[1;33m-\u001b[0m\u001b[1;36m1\u001b[0m\u001b[1;33m)\u001b[0m\u001b[1;33m\u001b[0m\u001b[1;33m\u001b[0m\u001b[0m\n",
      "\u001b[1;31mTypeError\u001b[0m: object of type 'int' has no len()"
     ]
    }
   ],
   "source": [
    "fact(2)"
   ]
  },
  {
   "cell_type": "code",
   "execution_count": 1,
   "id": "e6dfc958",
   "metadata": {
    "ExecuteTime": {
     "end_time": "2023-06-15T10:33:22.350453Z",
     "start_time": "2023-06-15T10:33:22.328448Z"
    }
   },
   "outputs": [],
   "source": [
    "my_f=lambda x : x**3"
   ]
  },
  {
   "cell_type": "code",
   "execution_count": 2,
   "id": "db86ed70",
   "metadata": {
    "ExecuteTime": {
     "end_time": "2023-06-15T10:33:31.025976Z",
     "start_time": "2023-06-15T10:33:31.008435Z"
    }
   },
   "outputs": [
    {
     "data": {
      "text/plain": [
       "8"
      ]
     },
     "execution_count": 2,
     "metadata": {},
     "output_type": "execute_result"
    }
   ],
   "source": [
    "my_f(2)"
   ]
  },
  {
   "cell_type": "code",
   "execution_count": 3,
   "id": "b4e93597",
   "metadata": {
    "ExecuteTime": {
     "end_time": "2023-06-15T10:35:23.737823Z",
     "start_time": "2023-06-15T10:35:23.729963Z"
    }
   },
   "outputs": [],
   "source": [
    "def apply_fun(x,fn):\n",
    "    return fn(x)"
   ]
  },
  {
   "cell_type": "code",
   "execution_count": 4,
   "id": "05da0601",
   "metadata": {
    "ExecuteTime": {
     "end_time": "2023-06-15T10:35:43.343192Z",
     "start_time": "2023-06-15T10:35:43.328187Z"
    }
   },
   "outputs": [
    {
     "data": {
      "text/plain": [
       "100"
      ]
     },
     "execution_count": 4,
     "metadata": {},
     "output_type": "execute_result"
    }
   ],
   "source": [
    "apply_fun(10,lambda x:x**2)"
   ]
  },
  {
   "cell_type": "code",
   "execution_count": 14,
   "id": "b437f42c",
   "metadata": {
    "ExecuteTime": {
     "end_time": "2023-06-15T11:00:13.252739Z",
     "start_time": "2023-06-15T11:00:13.243735Z"
    }
   },
   "outputs": [],
   "source": [
    "f=lambda x,*args,y,**kwargs: (x,*args,y,kwargs)"
   ]
  },
  {
   "cell_type": "code",
   "execution_count": 15,
   "id": "ab566886",
   "metadata": {
    "ExecuteTime": {
     "end_time": "2023-06-15T11:00:13.597025Z",
     "start_time": "2023-06-15T11:00:13.584892Z"
    }
   },
   "outputs": [
    {
     "data": {
      "text/plain": [
       "(10, 'a', 'b', 'c', 200, {'z': 80, 'aa': 982})"
      ]
     },
     "execution_count": 15,
     "metadata": {},
     "output_type": "execute_result"
    }
   ],
   "source": [
    "f(10,'a','b','c',y=200,z=80,aa=982)"
   ]
  },
  {
   "cell_type": "code",
   "execution_count": 26,
   "id": "933299bd",
   "metadata": {
    "ExecuteTime": {
     "end_time": "2023-06-15T11:12:17.472645Z",
     "start_time": "2023-06-15T11:12:17.456717Z"
    }
   },
   "outputs": [],
   "source": [
    "def app_f(fn,*args,**kwargs):\n",
    "    return fn(*args,**kwargs)"
   ]
  },
  {
   "cell_type": "code",
   "execution_count": 27,
   "id": "453120ea",
   "metadata": {
    "ExecuteTime": {
     "end_time": "2023-06-15T11:12:42.729669Z",
     "start_time": "2023-06-15T11:12:42.716728Z"
    }
   },
   "outputs": [
    {
     "data": {
      "text/plain": [
       "10"
      ]
     },
     "execution_count": 27,
     "metadata": {},
     "output_type": "execute_result"
    }
   ],
   "source": [
    "app_f(lambda *args:sum(args),1,2,3,4,)"
   ]
  },
  {
   "cell_type": "code",
   "execution_count": 28,
   "id": "108907ed",
   "metadata": {
    "ExecuteTime": {
     "end_time": "2023-06-15T11:13:12.240540Z",
     "start_time": "2023-06-15T11:13:12.231547Z"
    }
   },
   "outputs": [
    {
     "data": {
      "text/plain": [
       "10"
      ]
     },
     "execution_count": 28,
     "metadata": {},
     "output_type": "execute_result"
    }
   ],
   "source": [
    "app_f(sum,[1,2,3,4])"
   ]
  },
  {
   "cell_type": "code",
   "execution_count": 29,
   "id": "d9c7ce7c",
   "metadata": {
    "ExecuteTime": {
     "end_time": "2023-06-15T11:41:41.879762Z",
     "start_time": "2023-06-15T11:41:41.862726Z"
    }
   },
   "outputs": [],
   "source": [
    "import random"
   ]
  },
  {
   "cell_type": "code",
   "execution_count": 30,
   "id": "95236d32",
   "metadata": {
    "ExecuteTime": {
     "end_time": "2023-06-15T11:41:47.642696Z",
     "start_time": "2023-06-15T11:41:47.623698Z"
    }
   },
   "outputs": [
    {
     "name": "stdout",
     "output_type": "stream",
     "text": [
      "Help on module random:\n",
      "\n",
      "NAME\n",
      "    random - Random variable generators.\n",
      "\n",
      "MODULE REFERENCE\n",
      "    https://docs.python.org/3.9/library/random\n",
      "    \n",
      "    The following documentation is automatically generated from the Python\n",
      "    source files.  It may be incomplete, incorrect or include features that\n",
      "    are considered implementation detail and may vary between Python\n",
      "    implementations.  When in doubt, consult the module reference at the\n",
      "    location listed above.\n",
      "\n",
      "DESCRIPTION\n",
      "        bytes\n",
      "        -----\n",
      "               uniform bytes (values between 0 and 255)\n",
      "    \n",
      "        integers\n",
      "        --------\n",
      "               uniform within range\n",
      "    \n",
      "        sequences\n",
      "        ---------\n",
      "               pick random element\n",
      "               pick random sample\n",
      "               pick weighted random sample\n",
      "               generate random permutation\n",
      "    \n",
      "        distributions on the real line:\n",
      "        ------------------------------\n",
      "               uniform\n",
      "               triangular\n",
      "               normal (Gaussian)\n",
      "               lognormal\n",
      "               negative exponential\n",
      "               gamma\n",
      "               beta\n",
      "               pareto\n",
      "               Weibull\n",
      "    \n",
      "        distributions on the circle (angles 0 to 2pi)\n",
      "        ---------------------------------------------\n",
      "               circular uniform\n",
      "               von Mises\n",
      "    \n",
      "    General notes on the underlying Mersenne Twister core generator:\n",
      "    \n",
      "    * The period is 2**19937-1.\n",
      "    * It is one of the most extensively tested generators in existence.\n",
      "    * The random() method is implemented in C, executes in a single Python step,\n",
      "      and is, therefore, threadsafe.\n",
      "\n",
      "CLASSES\n",
      "    _random.Random(builtins.object)\n",
      "        Random\n",
      "            SystemRandom\n",
      "    \n",
      "    class Random(_random.Random)\n",
      "     |  Random(x=None)\n",
      "     |  \n",
      "     |  Random number generator base class used by bound module functions.\n",
      "     |  \n",
      "     |  Used to instantiate instances of Random to get generators that don't\n",
      "     |  share state.\n",
      "     |  \n",
      "     |  Class Random can also be subclassed if you want to use a different basic\n",
      "     |  generator of your own devising: in that case, override the following\n",
      "     |  methods:  random(), seed(), getstate(), and setstate().\n",
      "     |  Optionally, implement a getrandbits() method so that randrange()\n",
      "     |  can cover arbitrarily large ranges.\n",
      "     |  \n",
      "     |  Method resolution order:\n",
      "     |      Random\n",
      "     |      _random.Random\n",
      "     |      builtins.object\n",
      "     |  \n",
      "     |  Methods defined here:\n",
      "     |  \n",
      "     |  __getstate__(self)\n",
      "     |      # Issue 17489: Since __reduce__ was defined to fix #759889 this is no\n",
      "     |      # longer called; we leave it here because it has been here since random was\n",
      "     |      # rewritten back in 2001 and why risk breaking something.\n",
      "     |  \n",
      "     |  __init__(self, x=None)\n",
      "     |      Initialize an instance.\n",
      "     |      \n",
      "     |      Optional argument x controls seeding, as for Random.seed().\n",
      "     |  \n",
      "     |  __reduce__(self)\n",
      "     |      Helper for pickle.\n",
      "     |  \n",
      "     |  __setstate__(self, state)\n",
      "     |  \n",
      "     |  betavariate(self, alpha, beta)\n",
      "     |      Beta distribution.\n",
      "     |      \n",
      "     |      Conditions on the parameters are alpha > 0 and beta > 0.\n",
      "     |      Returned values range between 0 and 1.\n",
      "     |  \n",
      "     |  choice(self, seq)\n",
      "     |      Choose a random element from a non-empty sequence.\n",
      "     |  \n",
      "     |  choices(self, population, weights=None, *, cum_weights=None, k=1)\n",
      "     |      Return a k sized list of population elements chosen with replacement.\n",
      "     |      \n",
      "     |      If the relative weights or cumulative weights are not specified,\n",
      "     |      the selections are made with equal probability.\n",
      "     |  \n",
      "     |  expovariate(self, lambd)\n",
      "     |      Exponential distribution.\n",
      "     |      \n",
      "     |      lambd is 1.0 divided by the desired mean.  It should be\n",
      "     |      nonzero.  (The parameter would be called \"lambda\", but that is\n",
      "     |      a reserved word in Python.)  Returned values range from 0 to\n",
      "     |      positive infinity if lambd is positive, and from negative\n",
      "     |      infinity to 0 if lambd is negative.\n",
      "     |  \n",
      "     |  gammavariate(self, alpha, beta)\n",
      "     |      Gamma distribution.  Not the gamma function!\n",
      "     |      \n",
      "     |      Conditions on the parameters are alpha > 0 and beta > 0.\n",
      "     |      \n",
      "     |      The probability distribution function is:\n",
      "     |      \n",
      "     |                  x ** (alpha - 1) * math.exp(-x / beta)\n",
      "     |        pdf(x) =  --------------------------------------\n",
      "     |                    math.gamma(alpha) * beta ** alpha\n",
      "     |  \n",
      "     |  gauss(self, mu, sigma)\n",
      "     |      Gaussian distribution.\n",
      "     |      \n",
      "     |      mu is the mean, and sigma is the standard deviation.  This is\n",
      "     |      slightly faster than the normalvariate() function.\n",
      "     |      \n",
      "     |      Not thread-safe without a lock around calls.\n",
      "     |  \n",
      "     |  getstate(self)\n",
      "     |      Return internal state; can be passed to setstate() later.\n",
      "     |  \n",
      "     |  lognormvariate(self, mu, sigma)\n",
      "     |      Log normal distribution.\n",
      "     |      \n",
      "     |      If you take the natural logarithm of this distribution, you'll get a\n",
      "     |      normal distribution with mean mu and standard deviation sigma.\n",
      "     |      mu can have any value, and sigma must be greater than zero.\n",
      "     |  \n",
      "     |  normalvariate(self, mu, sigma)\n",
      "     |      Normal distribution.\n",
      "     |      \n",
      "     |      mu is the mean, and sigma is the standard deviation.\n",
      "     |  \n",
      "     |  paretovariate(self, alpha)\n",
      "     |      Pareto distribution.  alpha is the shape parameter.\n",
      "     |  \n",
      "     |  randbytes(self, n)\n",
      "     |      Generate n random bytes.\n",
      "     |  \n",
      "     |  randint(self, a, b)\n",
      "     |      Return random integer in range [a, b], including both end points.\n",
      "     |  \n",
      "     |  randrange(self, start, stop=None, step=1)\n",
      "     |      Choose a random item from range(start, stop[, step]).\n",
      "     |      \n",
      "     |      This fixes the problem with randint() which includes the\n",
      "     |      endpoint; in Python this is usually not what you want.\n",
      "     |  \n",
      "     |  sample(self, population, k, *, counts=None)\n",
      "     |      Chooses k unique random elements from a population sequence or set.\n",
      "     |      \n",
      "     |      Returns a new list containing elements from the population while\n",
      "     |      leaving the original population unchanged.  The resulting list is\n",
      "     |      in selection order so that all sub-slices will also be valid random\n",
      "     |      samples.  This allows raffle winners (the sample) to be partitioned\n",
      "     |      into grand prize and second place winners (the subslices).\n",
      "     |      \n",
      "     |      Members of the population need not be hashable or unique.  If the\n",
      "     |      population contains repeats, then each occurrence is a possible\n",
      "     |      selection in the sample.\n",
      "     |      \n",
      "     |      Repeated elements can be specified one at a time or with the optional\n",
      "     |      counts parameter.  For example:\n",
      "     |      \n",
      "     |          sample(['red', 'blue'], counts=[4, 2], k=5)\n",
      "     |      \n",
      "     |      is equivalent to:\n",
      "     |      \n",
      "     |          sample(['red', 'red', 'red', 'red', 'blue', 'blue'], k=5)\n",
      "     |      \n",
      "     |      To choose a sample from a range of integers, use range() for the\n",
      "     |      population argument.  This is especially fast and space efficient\n",
      "     |      for sampling from a large population:\n",
      "     |      \n",
      "     |          sample(range(10000000), 60)\n",
      "     |  \n",
      "     |  seed(self, a=None, version=2)\n",
      "     |      Initialize internal state from a seed.\n",
      "     |      \n",
      "     |      The only supported seed types are None, int, float,\n",
      "     |      str, bytes, and bytearray.\n",
      "     |      \n",
      "     |      None or no argument seeds from current time or from an operating\n",
      "     |      system specific randomness source if available.\n",
      "     |      \n",
      "     |      If *a* is an int, all bits are used.\n",
      "     |      \n",
      "     |      For version 2 (the default), all of the bits are used if *a* is a str,\n",
      "     |      bytes, or bytearray.  For version 1 (provided for reproducing random\n",
      "     |      sequences from older versions of Python), the algorithm for str and\n",
      "     |      bytes generates a narrower range of seeds.\n",
      "     |  \n",
      "     |  setstate(self, state)\n",
      "     |      Restore internal state from object returned by getstate().\n",
      "     |  \n",
      "     |  shuffle(self, x, random=None)\n",
      "     |      Shuffle list x in place, and return None.\n",
      "     |      \n",
      "     |      Optional argument random is a 0-argument function returning a\n",
      "     |      random float in [0.0, 1.0); if it is the default None, the\n",
      "     |      standard random.random will be used.\n",
      "     |  \n",
      "     |  triangular(self, low=0.0, high=1.0, mode=None)\n",
      "     |      Triangular distribution.\n",
      "     |      \n",
      "     |      Continuous distribution bounded by given lower and upper limits,\n",
      "     |      and having a given mode value in-between.\n",
      "     |      \n",
      "     |      http://en.wikipedia.org/wiki/Triangular_distribution\n",
      "     |  \n",
      "     |  uniform(self, a, b)\n",
      "     |      Get a random number in the range [a, b) or [a, b] depending on rounding.\n",
      "     |  \n",
      "     |  vonmisesvariate(self, mu, kappa)\n",
      "     |      Circular data distribution.\n",
      "     |      \n",
      "     |      mu is the mean angle, expressed in radians between 0 and 2*pi, and\n",
      "     |      kappa is the concentration parameter, which must be greater than or\n",
      "     |      equal to zero.  If kappa is equal to zero, this distribution reduces\n",
      "     |      to a uniform random angle over the range 0 to 2*pi.\n",
      "     |  \n",
      "     |  weibullvariate(self, alpha, beta)\n",
      "     |      Weibull distribution.\n",
      "     |      \n",
      "     |      alpha is the scale parameter and beta is the shape parameter.\n",
      "     |  \n",
      "     |  ----------------------------------------------------------------------\n",
      "     |  Class methods defined here:\n",
      "     |  \n",
      "     |  __init_subclass__(**kwargs) from builtins.type\n",
      "     |      Control how subclasses generate random integers.\n",
      "     |      \n",
      "     |      The algorithm a subclass can use depends on the random() and/or\n",
      "     |      getrandbits() implementation available to it and determines\n",
      "     |      whether it can generate random integers from arbitrarily large\n",
      "     |      ranges.\n",
      "     |  \n",
      "     |  ----------------------------------------------------------------------\n",
      "     |  Data descriptors defined here:\n",
      "     |  \n",
      "     |  __dict__\n",
      "     |      dictionary for instance variables (if defined)\n",
      "     |  \n",
      "     |  __weakref__\n",
      "     |      list of weak references to the object (if defined)\n",
      "     |  \n",
      "     |  ----------------------------------------------------------------------\n",
      "     |  Data and other attributes defined here:\n",
      "     |  \n",
      "     |  VERSION = 3\n",
      "     |  \n",
      "     |  ----------------------------------------------------------------------\n",
      "     |  Methods inherited from _random.Random:\n",
      "     |  \n",
      "     |  getrandbits(self, k, /)\n",
      "     |      getrandbits(k) -> x.  Generates an int with k random bits.\n",
      "     |  \n",
      "     |  random(self, /)\n",
      "     |      random() -> x in the interval [0, 1).\n",
      "     |  \n",
      "     |  ----------------------------------------------------------------------\n",
      "     |  Static methods inherited from _random.Random:\n",
      "     |  \n",
      "     |  __new__(*args, **kwargs) from builtins.type\n",
      "     |      Create and return a new object.  See help(type) for accurate signature.\n",
      "    \n",
      "    class SystemRandom(Random)\n",
      "     |  SystemRandom(x=None)\n",
      "     |  \n",
      "     |  Alternate random number generator using sources provided\n",
      "     |  by the operating system (such as /dev/urandom on Unix or\n",
      "     |  CryptGenRandom on Windows).\n",
      "     |  \n",
      "     |   Not available on all systems (see os.urandom() for details).\n",
      "     |  \n",
      "     |  Method resolution order:\n",
      "     |      SystemRandom\n",
      "     |      Random\n",
      "     |      _random.Random\n",
      "     |      builtins.object\n",
      "     |  \n",
      "     |  Methods defined here:\n",
      "     |  \n",
      "     |  getrandbits(self, k)\n",
      "     |      getrandbits(k) -> x.  Generates an int with k random bits.\n",
      "     |  \n",
      "     |  getstate = _notimplemented(self, *args, **kwds)\n",
      "     |  \n",
      "     |  randbytes(self, n)\n",
      "     |      Generate n random bytes.\n",
      "     |  \n",
      "     |  random(self)\n",
      "     |      Get the next random number in the range [0.0, 1.0).\n",
      "     |  \n",
      "     |  seed(self, *args, **kwds)\n",
      "     |      Stub method.  Not used for a system random number generator.\n",
      "     |  \n",
      "     |  setstate = _notimplemented(self, *args, **kwds)\n",
      "     |  \n",
      "     |  ----------------------------------------------------------------------\n",
      "     |  Methods inherited from Random:\n",
      "     |  \n",
      "     |  __getstate__(self)\n",
      "     |      # Issue 17489: Since __reduce__ was defined to fix #759889 this is no\n",
      "     |      # longer called; we leave it here because it has been here since random was\n",
      "     |      # rewritten back in 2001 and why risk breaking something.\n",
      "     |  \n",
      "     |  __init__(self, x=None)\n",
      "     |      Initialize an instance.\n",
      "     |      \n",
      "     |      Optional argument x controls seeding, as for Random.seed().\n",
      "     |  \n",
      "     |  __reduce__(self)\n",
      "     |      Helper for pickle.\n",
      "     |  \n",
      "     |  __setstate__(self, state)\n",
      "     |  \n",
      "     |  betavariate(self, alpha, beta)\n",
      "     |      Beta distribution.\n",
      "     |      \n",
      "     |      Conditions on the parameters are alpha > 0 and beta > 0.\n",
      "     |      Returned values range between 0 and 1.\n",
      "     |  \n",
      "     |  choice(self, seq)\n",
      "     |      Choose a random element from a non-empty sequence.\n",
      "     |  \n",
      "     |  choices(self, population, weights=None, *, cum_weights=None, k=1)\n",
      "     |      Return a k sized list of population elements chosen with replacement.\n",
      "     |      \n",
      "     |      If the relative weights or cumulative weights are not specified,\n",
      "     |      the selections are made with equal probability.\n",
      "     |  \n",
      "     |  expovariate(self, lambd)\n",
      "     |      Exponential distribution.\n",
      "     |      \n",
      "     |      lambd is 1.0 divided by the desired mean.  It should be\n",
      "     |      nonzero.  (The parameter would be called \"lambda\", but that is\n",
      "     |      a reserved word in Python.)  Returned values range from 0 to\n",
      "     |      positive infinity if lambd is positive, and from negative\n",
      "     |      infinity to 0 if lambd is negative.\n",
      "     |  \n",
      "     |  gammavariate(self, alpha, beta)\n",
      "     |      Gamma distribution.  Not the gamma function!\n",
      "     |      \n",
      "     |      Conditions on the parameters are alpha > 0 and beta > 0.\n",
      "     |      \n",
      "     |      The probability distribution function is:\n",
      "     |      \n",
      "     |                  x ** (alpha - 1) * math.exp(-x / beta)\n",
      "     |        pdf(x) =  --------------------------------------\n",
      "     |                    math.gamma(alpha) * beta ** alpha\n",
      "     |  \n",
      "     |  gauss(self, mu, sigma)\n",
      "     |      Gaussian distribution.\n",
      "     |      \n",
      "     |      mu is the mean, and sigma is the standard deviation.  This is\n",
      "     |      slightly faster than the normalvariate() function.\n",
      "     |      \n",
      "     |      Not thread-safe without a lock around calls.\n",
      "     |  \n",
      "     |  lognormvariate(self, mu, sigma)\n",
      "     |      Log normal distribution.\n",
      "     |      \n",
      "     |      If you take the natural logarithm of this distribution, you'll get a\n",
      "     |      normal distribution with mean mu and standard deviation sigma.\n",
      "     |      mu can have any value, and sigma must be greater than zero.\n",
      "     |  \n",
      "     |  normalvariate(self, mu, sigma)\n",
      "     |      Normal distribution.\n",
      "     |      \n",
      "     |      mu is the mean, and sigma is the standard deviation.\n",
      "     |  \n",
      "     |  paretovariate(self, alpha)\n",
      "     |      Pareto distribution.  alpha is the shape parameter.\n",
      "     |  \n",
      "     |  randint(self, a, b)\n",
      "     |      Return random integer in range [a, b], including both end points.\n",
      "     |  \n",
      "     |  randrange(self, start, stop=None, step=1)\n",
      "     |      Choose a random item from range(start, stop[, step]).\n",
      "     |      \n",
      "     |      This fixes the problem with randint() which includes the\n",
      "     |      endpoint; in Python this is usually not what you want.\n",
      "     |  \n",
      "     |  sample(self, population, k, *, counts=None)\n",
      "     |      Chooses k unique random elements from a population sequence or set.\n",
      "     |      \n",
      "     |      Returns a new list containing elements from the population while\n",
      "     |      leaving the original population unchanged.  The resulting list is\n",
      "     |      in selection order so that all sub-slices will also be valid random\n",
      "     |      samples.  This allows raffle winners (the sample) to be partitioned\n",
      "     |      into grand prize and second place winners (the subslices).\n",
      "     |      \n",
      "     |      Members of the population need not be hashable or unique.  If the\n",
      "     |      population contains repeats, then each occurrence is a possible\n",
      "     |      selection in the sample.\n",
      "     |      \n",
      "     |      Repeated elements can be specified one at a time or with the optional\n",
      "     |      counts parameter.  For example:\n",
      "     |      \n",
      "     |          sample(['red', 'blue'], counts=[4, 2], k=5)\n",
      "     |      \n",
      "     |      is equivalent to:\n",
      "     |      \n",
      "     |          sample(['red', 'red', 'red', 'red', 'blue', 'blue'], k=5)\n",
      "     |      \n",
      "     |      To choose a sample from a range of integers, use range() for the\n",
      "     |      population argument.  This is especially fast and space efficient\n",
      "     |      for sampling from a large population:\n",
      "     |      \n",
      "     |          sample(range(10000000), 60)\n",
      "     |  \n",
      "     |  shuffle(self, x, random=None)\n",
      "     |      Shuffle list x in place, and return None.\n",
      "     |      \n",
      "     |      Optional argument random is a 0-argument function returning a\n",
      "     |      random float in [0.0, 1.0); if it is the default None, the\n",
      "     |      standard random.random will be used.\n",
      "     |  \n",
      "     |  triangular(self, low=0.0, high=1.0, mode=None)\n",
      "     |      Triangular distribution.\n",
      "     |      \n",
      "     |      Continuous distribution bounded by given lower and upper limits,\n",
      "     |      and having a given mode value in-between.\n",
      "     |      \n",
      "     |      http://en.wikipedia.org/wiki/Triangular_distribution\n",
      "     |  \n",
      "     |  uniform(self, a, b)\n",
      "     |      Get a random number in the range [a, b) or [a, b] depending on rounding.\n",
      "     |  \n",
      "     |  vonmisesvariate(self, mu, kappa)\n",
      "     |      Circular data distribution.\n",
      "     |      \n",
      "     |      mu is the mean angle, expressed in radians between 0 and 2*pi, and\n",
      "     |      kappa is the concentration parameter, which must be greater than or\n",
      "     |      equal to zero.  If kappa is equal to zero, this distribution reduces\n",
      "     |      to a uniform random angle over the range 0 to 2*pi.\n",
      "     |  \n",
      "     |  weibullvariate(self, alpha, beta)\n",
      "     |      Weibull distribution.\n",
      "     |      \n",
      "     |      alpha is the scale parameter and beta is the shape parameter.\n",
      "     |  \n",
      "     |  ----------------------------------------------------------------------\n",
      "     |  Class methods inherited from Random:\n",
      "     |  \n",
      "     |  __init_subclass__(**kwargs) from builtins.type\n",
      "     |      Control how subclasses generate random integers.\n",
      "     |      \n",
      "     |      The algorithm a subclass can use depends on the random() and/or\n",
      "     |      getrandbits() implementation available to it and determines\n",
      "     |      whether it can generate random integers from arbitrarily large\n",
      "     |      ranges.\n",
      "     |  \n",
      "     |  ----------------------------------------------------------------------\n",
      "     |  Data descriptors inherited from Random:\n",
      "     |  \n",
      "     |  __dict__\n",
      "     |      dictionary for instance variables (if defined)\n",
      "     |  \n",
      "     |  __weakref__\n",
      "     |      list of weak references to the object (if defined)\n",
      "     |  \n",
      "     |  ----------------------------------------------------------------------\n",
      "     |  Data and other attributes inherited from Random:\n",
      "     |  \n",
      "     |  VERSION = 3\n",
      "     |  \n",
      "     |  ----------------------------------------------------------------------\n",
      "     |  Static methods inherited from _random.Random:\n",
      "     |  \n",
      "     |  __new__(*args, **kwargs) from builtins.type\n",
      "     |      Create and return a new object.  See help(type) for accurate signature.\n",
      "\n",
      "FUNCTIONS\n",
      "    betavariate(alpha, beta) method of Random instance\n",
      "        Beta distribution.\n",
      "        \n",
      "        Conditions on the parameters are alpha > 0 and beta > 0.\n",
      "        Returned values range between 0 and 1.\n",
      "    \n",
      "    choice(seq) method of Random instance\n",
      "        Choose a random element from a non-empty sequence.\n",
      "    \n",
      "    choices(population, weights=None, *, cum_weights=None, k=1) method of Random instance\n",
      "        Return a k sized list of population elements chosen with replacement.\n",
      "        \n",
      "        If the relative weights or cumulative weights are not specified,\n",
      "        the selections are made with equal probability.\n",
      "    \n",
      "    expovariate(lambd) method of Random instance\n",
      "        Exponential distribution.\n",
      "        \n",
      "        lambd is 1.0 divided by the desired mean.  It should be\n",
      "        nonzero.  (The parameter would be called \"lambda\", but that is\n",
      "        a reserved word in Python.)  Returned values range from 0 to\n",
      "        positive infinity if lambd is positive, and from negative\n",
      "        infinity to 0 if lambd is negative.\n",
      "    \n",
      "    gammavariate(alpha, beta) method of Random instance\n",
      "        Gamma distribution.  Not the gamma function!\n",
      "        \n",
      "        Conditions on the parameters are alpha > 0 and beta > 0.\n",
      "        \n",
      "        The probability distribution function is:\n",
      "        \n",
      "                    x ** (alpha - 1) * math.exp(-x / beta)\n",
      "          pdf(x) =  --------------------------------------\n",
      "                      math.gamma(alpha) * beta ** alpha\n",
      "    \n",
      "    gauss(mu, sigma) method of Random instance\n",
      "        Gaussian distribution.\n",
      "        \n",
      "        mu is the mean, and sigma is the standard deviation.  This is\n",
      "        slightly faster than the normalvariate() function.\n",
      "        \n",
      "        Not thread-safe without a lock around calls.\n",
      "    \n",
      "    getrandbits(k, /) method of Random instance\n",
      "        getrandbits(k) -> x.  Generates an int with k random bits.\n",
      "    \n",
      "    getstate() method of Random instance\n",
      "        Return internal state; can be passed to setstate() later.\n",
      "    \n",
      "    lognormvariate(mu, sigma) method of Random instance\n",
      "        Log normal distribution.\n",
      "        \n",
      "        If you take the natural logarithm of this distribution, you'll get a\n",
      "        normal distribution with mean mu and standard deviation sigma.\n",
      "        mu can have any value, and sigma must be greater than zero.\n",
      "    \n",
      "    normalvariate(mu, sigma) method of Random instance\n",
      "        Normal distribution.\n",
      "        \n",
      "        mu is the mean, and sigma is the standard deviation.\n",
      "    \n",
      "    paretovariate(alpha) method of Random instance\n",
      "        Pareto distribution.  alpha is the shape parameter.\n",
      "    \n",
      "    randbytes(n) method of Random instance\n",
      "        Generate n random bytes.\n",
      "    \n",
      "    randint(a, b) method of Random instance\n",
      "        Return random integer in range [a, b], including both end points.\n",
      "    \n",
      "    random() method of Random instance\n",
      "        random() -> x in the interval [0, 1).\n",
      "    \n",
      "    randrange(start, stop=None, step=1) method of Random instance\n",
      "        Choose a random item from range(start, stop[, step]).\n",
      "        \n",
      "        This fixes the problem with randint() which includes the\n",
      "        endpoint; in Python this is usually not what you want.\n",
      "    \n",
      "    sample(population, k, *, counts=None) method of Random instance\n",
      "        Chooses k unique random elements from a population sequence or set.\n",
      "        \n",
      "        Returns a new list containing elements from the population while\n",
      "        leaving the original population unchanged.  The resulting list is\n",
      "        in selection order so that all sub-slices will also be valid random\n",
      "        samples.  This allows raffle winners (the sample) to be partitioned\n",
      "        into grand prize and second place winners (the subslices).\n",
      "        \n",
      "        Members of the population need not be hashable or unique.  If the\n",
      "        population contains repeats, then each occurrence is a possible\n",
      "        selection in the sample.\n",
      "        \n",
      "        Repeated elements can be specified one at a time or with the optional\n",
      "        counts parameter.  For example:\n",
      "        \n",
      "            sample(['red', 'blue'], counts=[4, 2], k=5)\n",
      "        \n",
      "        is equivalent to:\n",
      "        \n",
      "            sample(['red', 'red', 'red', 'red', 'blue', 'blue'], k=5)\n",
      "        \n",
      "        To choose a sample from a range of integers, use range() for the\n",
      "        population argument.  This is especially fast and space efficient\n",
      "        for sampling from a large population:\n",
      "        \n",
      "            sample(range(10000000), 60)\n",
      "    \n",
      "    seed(a=None, version=2) method of Random instance\n",
      "        Initialize internal state from a seed.\n",
      "        \n",
      "        The only supported seed types are None, int, float,\n",
      "        str, bytes, and bytearray.\n",
      "        \n",
      "        None or no argument seeds from current time or from an operating\n",
      "        system specific randomness source if available.\n",
      "        \n",
      "        If *a* is an int, all bits are used.\n",
      "        \n",
      "        For version 2 (the default), all of the bits are used if *a* is a str,\n",
      "        bytes, or bytearray.  For version 1 (provided for reproducing random\n",
      "        sequences from older versions of Python), the algorithm for str and\n",
      "        bytes generates a narrower range of seeds.\n",
      "    \n",
      "    setstate(state) method of Random instance\n",
      "        Restore internal state from object returned by getstate().\n",
      "    \n",
      "    shuffle(x, random=None) method of Random instance\n",
      "        Shuffle list x in place, and return None.\n",
      "        \n",
      "        Optional argument random is a 0-argument function returning a\n",
      "        random float in [0.0, 1.0); if it is the default None, the\n",
      "        standard random.random will be used.\n",
      "    \n",
      "    triangular(low=0.0, high=1.0, mode=None) method of Random instance\n",
      "        Triangular distribution.\n",
      "        \n",
      "        Continuous distribution bounded by given lower and upper limits,\n",
      "        and having a given mode value in-between.\n",
      "        \n",
      "        http://en.wikipedia.org/wiki/Triangular_distribution\n",
      "    \n",
      "    uniform(a, b) method of Random instance\n",
      "        Get a random number in the range [a, b) or [a, b] depending on rounding.\n",
      "    \n",
      "    vonmisesvariate(mu, kappa) method of Random instance\n",
      "        Circular data distribution.\n",
      "        \n",
      "        mu is the mean angle, expressed in radians between 0 and 2*pi, and\n",
      "        kappa is the concentration parameter, which must be greater than or\n",
      "        equal to zero.  If kappa is equal to zero, this distribution reduces\n",
      "        to a uniform random angle over the range 0 to 2*pi.\n",
      "    \n",
      "    weibullvariate(alpha, beta) method of Random instance\n",
      "        Weibull distribution.\n",
      "        \n",
      "        alpha is the scale parameter and beta is the shape parameter.\n",
      "\n",
      "DATA\n",
      "    __all__ = ['Random', 'SystemRandom', 'betavariate', 'choice', 'choices...\n",
      "\n",
      "FILE\n",
      "    c:\\users\\pbann\\anaconda3\\lib\\random.py\n",
      "\n",
      "\n"
     ]
    }
   ],
   "source": [
    "help(random)"
   ]
  },
  {
   "cell_type": "code",
   "execution_count": 32,
   "id": "ac37d43d",
   "metadata": {
    "ExecuteTime": {
     "end_time": "2023-06-15T11:44:01.973714Z",
     "start_time": "2023-06-15T11:44:01.960716Z"
    }
   },
   "outputs": [],
   "source": [
    "l=[1,2,3,4,5,6,7,8,9,10]"
   ]
  },
  {
   "cell_type": "code",
   "execution_count": 37,
   "id": "613eedef",
   "metadata": {
    "ExecuteTime": {
     "end_time": "2023-06-15T11:45:15.942187Z",
     "start_time": "2023-06-15T11:45:15.934190Z"
    }
   },
   "outputs": [
    {
     "data": {
      "text/plain": [
       "0.10652184310125101"
      ]
     },
     "execution_count": 37,
     "metadata": {},
     "output_type": "execute_result"
    }
   ],
   "source": [
    "random.random()"
   ]
  },
  {
   "cell_type": "code",
   "execution_count": 43,
   "id": "9d34db65",
   "metadata": {
    "ExecuteTime": {
     "end_time": "2023-06-15T11:47:50.893437Z",
     "start_time": "2023-06-15T11:47:50.882451Z"
    }
   },
   "outputs": [
    {
     "data": {
      "text/plain": [
       "[3, 1, 5, 4, 2, 10, 7, 8, 6, 9]"
      ]
     },
     "execution_count": 43,
     "metadata": {},
     "output_type": "execute_result"
    }
   ],
   "source": [
    "sorted(l,key=lambda x:random.random())"
   ]
  },
  {
   "cell_type": "code",
   "execution_count": 15,
   "id": "8527b8d9",
   "metadata": {
    "ExecuteTime": {
     "end_time": "2023-06-16T13:33:30.808877Z",
     "start_time": "2023-06-16T13:33:30.794800Z"
    }
   },
   "outputs": [
    {
     "data": {
      "text/plain": [
       "[21, 54, 11, 10, 58, 9]"
      ]
     },
     "execution_count": 15,
     "metadata": {},
     "output_type": "execute_result"
    }
   ],
   "source": [
    "l"
   ]
  },
  {
   "cell_type": "code",
   "execution_count": 7,
   "id": "6a0bbe07",
   "metadata": {
    "ExecuteTime": {
     "end_time": "2023-06-16T13:05:26.338038Z",
     "start_time": "2023-06-16T13:05:26.325288Z"
    }
   },
   "outputs": [],
   "source": [
    "def max_n(l):\n",
    "    result=l[0]\n",
    "    for i in l:\n",
    "        result=max(result,i)\n",
    "    return result"
   ]
  },
  {
   "cell_type": "code",
   "execution_count": 8,
   "id": "f0ce447b",
   "metadata": {
    "ExecuteTime": {
     "end_time": "2023-06-16T13:05:26.883277Z",
     "start_time": "2023-06-16T13:05:26.874277Z"
    }
   },
   "outputs": [
    {
     "data": {
      "text/plain": [
       "58"
      ]
     },
     "execution_count": 8,
     "metadata": {},
     "output_type": "execute_result"
    }
   ],
   "source": [
    "max_n(l)"
   ]
  },
  {
   "cell_type": "code",
   "execution_count": 9,
   "id": "8737600f",
   "metadata": {
    "ExecuteTime": {
     "end_time": "2023-06-16T13:29:34.661697Z",
     "start_time": "2023-06-16T13:29:34.643917Z"
    }
   },
   "outputs": [],
   "source": [
    "def func(fn,l):\n",
    "    result=l[0]\n",
    "    for i in l[1:]:\n",
    "        result=fn(result,i)\n",
    "    return result"
   ]
  },
  {
   "cell_type": "code",
   "execution_count": 10,
   "id": "6aec9b85",
   "metadata": {
    "ExecuteTime": {
     "end_time": "2023-06-16T13:30:09.991302Z",
     "start_time": "2023-06-16T13:30:09.972916Z"
    }
   },
   "outputs": [
    {
     "data": {
      "text/plain": [
       "9"
      ]
     },
     "execution_count": 10,
     "metadata": {},
     "output_type": "execute_result"
    }
   ],
   "source": [
    "func(lambda x,y: x if x<y else y ,l)"
   ]
  },
  {
   "cell_type": "code",
   "execution_count": 13,
   "id": "cc3895c2",
   "metadata": {
    "ExecuteTime": {
     "end_time": "2023-06-16T13:32:59.066221Z",
     "start_time": "2023-06-16T13:32:59.056237Z"
    }
   },
   "outputs": [
    {
     "data": {
      "text/plain": [
       "58"
      ]
     },
     "execution_count": 13,
     "metadata": {},
     "output_type": "execute_result"
    }
   ],
   "source": [
    "func(lambda x,y: x if x>y else y ,l)"
   ]
  },
  {
   "cell_type": "code",
   "execution_count": 14,
   "id": "773b38ec",
   "metadata": {
    "ExecuteTime": {
     "end_time": "2023-06-16T13:33:18.766333Z",
     "start_time": "2023-06-16T13:33:18.749333Z"
    }
   },
   "outputs": [
    {
     "data": {
      "text/plain": [
       "163"
      ]
     },
     "execution_count": 14,
     "metadata": {},
     "output_type": "execute_result"
    }
   ],
   "source": [
    "func(lambda x,y:x+y ,l)"
   ]
  },
  {
   "cell_type": "code",
   "execution_count": 16,
   "id": "770877b8",
   "metadata": {
    "ExecuteTime": {
     "end_time": "2023-06-16T13:33:39.209639Z",
     "start_time": "2023-06-16T13:33:39.199542Z"
    }
   },
   "outputs": [
    {
     "data": {
      "text/plain": [
       "163"
      ]
     },
     "execution_count": 16,
     "metadata": {},
     "output_type": "execute_result"
    }
   ],
   "source": [
    "sum(l)"
   ]
  },
  {
   "cell_type": "code",
   "execution_count": 18,
   "id": "db3f297d",
   "metadata": {
    "ExecuteTime": {
     "end_time": "2023-06-16T13:38:30.903555Z",
     "start_time": "2023-06-16T13:38:30.896084Z"
    }
   },
   "outputs": [],
   "source": [
    "from functools import reduce"
   ]
  },
  {
   "cell_type": "code",
   "execution_count": 19,
   "id": "92f5143f",
   "metadata": {
    "ExecuteTime": {
     "end_time": "2023-06-16T13:38:54.139115Z",
     "start_time": "2023-06-16T13:38:54.129488Z"
    }
   },
   "outputs": [
    {
     "data": {
      "text/plain": [
       "134"
      ]
     },
     "execution_count": 19,
     "metadata": {},
     "output_type": "execute_result"
    }
   ],
   "source": [
    "reduce(lambda x,y:x+y,[12,54,23,25,8,12])"
   ]
  },
  {
   "cell_type": "code",
   "execution_count": 20,
   "id": "42f1d1c0",
   "metadata": {
    "ExecuteTime": {
     "end_time": "2023-06-16T13:39:27.926555Z",
     "start_time": "2023-06-16T13:39:27.917556Z"
    }
   },
   "outputs": [
    {
     "data": {
      "text/plain": [
       "58"
      ]
     },
     "execution_count": 20,
     "metadata": {},
     "output_type": "execute_result"
    }
   ],
   "source": [
    "reduce(lambda x,y: x if x>y else y ,l)"
   ]
  },
  {
   "cell_type": "code",
   "execution_count": 25,
   "id": "9b2df6a5",
   "metadata": {
    "ExecuteTime": {
     "end_time": "2023-06-16T13:51:03.676870Z",
     "start_time": "2023-06-16T13:51:03.664871Z"
    }
   },
   "outputs": [
    {
     "ename": "TypeError",
     "evalue": "reduce() of empty sequence with no initial value",
     "output_type": "error",
     "traceback": [
      "\u001b[1;31m---------------------------------------------------------------------------\u001b[0m",
      "\u001b[1;31mTypeError\u001b[0m                                 Traceback (most recent call last)",
      "\u001b[1;32m~\\AppData\\Local\\Temp\\ipykernel_6652\\1720334755.py\u001b[0m in \u001b[0;36m<module>\u001b[1;34m\u001b[0m\n\u001b[0;32m      1\u001b[0m \u001b[0ml\u001b[0m\u001b[1;33m=\u001b[0m\u001b[1;33m[\u001b[0m\u001b[1;33m]\u001b[0m\u001b[1;33m\u001b[0m\u001b[1;33m\u001b[0m\u001b[0m\n\u001b[0;32m      2\u001b[0m \u001b[0ml1\u001b[0m\u001b[1;33m=\u001b[0m\u001b[1;33m[\u001b[0m\u001b[1;36m1\u001b[0m\u001b[1;33m,\u001b[0m\u001b[1;36m2\u001b[0m\u001b[1;33m,\u001b[0m\u001b[1;36m3\u001b[0m\u001b[1;33m]\u001b[0m\u001b[1;33m\u001b[0m\u001b[1;33m\u001b[0m\u001b[0m\n\u001b[1;32m----> 3\u001b[1;33m \u001b[0mreduce\u001b[0m\u001b[1;33m(\u001b[0m\u001b[1;32mlambda\u001b[0m \u001b[0mx\u001b[0m\u001b[1;33m,\u001b[0m\u001b[0my\u001b[0m \u001b[1;33m:\u001b[0m \u001b[0mx\u001b[0m\u001b[1;33m+\u001b[0m\u001b[0my\u001b[0m\u001b[1;33m,\u001b[0m\u001b[0ml\u001b[0m\u001b[1;33m)\u001b[0m\u001b[1;33m\u001b[0m\u001b[1;33m\u001b[0m\u001b[0m\n\u001b[0m",
      "\u001b[1;31mTypeError\u001b[0m: reduce() of empty sequence with no initial value"
     ]
    }
   ],
   "source": [
    "l=[]\n",
    "l1=[1,2,3]\n",
    "reduce(lambda x,y : x+y,l)"
   ]
  },
  {
   "cell_type": "markdown",
   "id": "701b57c7",
   "metadata": {},
   "source": [
    " ### o is the initializer here to avid error if list is empty"
   ]
  },
  {
   "cell_type": "code",
   "execution_count": 26,
   "id": "88cc76ea",
   "metadata": {
    "ExecuteTime": {
     "end_time": "2023-06-16T13:51:04.561992Z",
     "start_time": "2023-06-16T13:51:04.545481Z"
    }
   },
   "outputs": [
    {
     "data": {
      "text/plain": [
       "6"
      ]
     },
     "execution_count": 26,
     "metadata": {},
     "output_type": "execute_result"
    }
   ],
   "source": [
    "reduce(lambda x,y : x+y,l1,0)  "
   ]
  },
  {
   "cell_type": "code",
   "execution_count": 7,
   "id": "39128c3c",
   "metadata": {
    "ExecuteTime": {
     "end_time": "2023-06-17T04:28:44.536452Z",
     "start_time": "2023-06-17T04:28:44.520942Z"
    }
   },
   "outputs": [],
   "source": [
    "newyork=('n_y','USA',8_500_000)  # packing"
   ]
  },
  {
   "cell_type": "code",
   "execution_count": 8,
   "id": "66c4b206",
   "metadata": {
    "ExecuteTime": {
     "end_time": "2023-06-17T04:28:44.833764Z",
     "start_time": "2023-06-17T04:28:44.820121Z"
    }
   },
   "outputs": [],
   "source": [
    "city,country,population= newyork   # unpacking"
   ]
  },
  {
   "cell_type": "code",
   "execution_count": 10,
   "id": "1871ff1b",
   "metadata": {
    "ExecuteTime": {
     "end_time": "2023-06-17T04:32:07.147122Z",
     "start_time": "2023-06-17T04:32:07.127124Z"
    }
   },
   "outputs": [
    {
     "data": {
      "text/plain": [
       "('n_y', 'USA', 8500000)"
      ]
     },
     "execution_count": 10,
     "metadata": {},
     "output_type": "execute_result"
    }
   ],
   "source": [
    "city,country,population"
   ]
  },
  {
   "cell_type": "code",
   "execution_count": 40,
   "id": "d367254d",
   "metadata": {
    "ExecuteTime": {
     "end_time": "2023-06-17T04:49:22.914940Z",
     "start_time": "2023-06-17T04:49:22.897838Z"
    }
   },
   "outputs": [],
   "source": [
    "record=('PK',1992,10,4,74,86,74,70)"
   ]
  },
  {
   "cell_type": "code",
   "execution_count": 29,
   "id": "ff01caf6",
   "metadata": {
    "ExecuteTime": {
     "end_time": "2023-06-17T04:39:06.670554Z",
     "start_time": "2023-06-17T04:39:06.664886Z"
    }
   },
   "outputs": [],
   "source": [
    "name,year,day,month,school,inter,graduat,pg = record"
   ]
  },
  {
   "cell_type": "code",
   "execution_count": 26,
   "id": "f081d3f2",
   "metadata": {
    "ExecuteTime": {
     "end_time": "2023-06-17T04:38:59.327879Z",
     "start_time": "2023-06-17T04:38:59.310878Z"
    }
   },
   "outputs": [],
   "source": [
    "record1=('DJIA',2018,1,19,25987.25,26071,25942,26071)"
   ]
  },
  {
   "cell_type": "code",
   "execution_count": 27,
   "id": "7ff1d6c7",
   "metadata": {
    "ExecuteTime": {
     "end_time": "2023-06-17T04:39:04.465868Z",
     "start_time": "2023-06-17T04:39:04.459973Z"
    }
   },
   "outputs": [],
   "source": [
    "symbol,year,month,day,open,high,low,close=record1"
   ]
  },
  {
   "cell_type": "code",
   "execution_count": 30,
   "id": "9d91a06e",
   "metadata": {
    "ExecuteTime": {
     "end_time": "2023-06-17T04:39:23.259632Z",
     "start_time": "2023-06-17T04:39:23.243632Z"
    }
   },
   "outputs": [
    {
     "data": {
      "text/plain": [
       "'PK'"
      ]
     },
     "execution_count": 30,
     "metadata": {},
     "output_type": "execute_result"
    }
   ],
   "source": [
    "name"
   ]
  },
  {
   "cell_type": "code",
   "execution_count": 42,
   "id": "88148348",
   "metadata": {
    "ExecuteTime": {
     "end_time": "2023-06-17T04:49:40.770597Z",
     "start_time": "2023-06-17T04:49:40.752601Z"
    }
   },
   "outputs": [],
   "source": [
    "symbol,*dob_scores,close=record"
   ]
  },
  {
   "cell_type": "code",
   "execution_count": 43,
   "id": "6fbb8655",
   "metadata": {
    "ExecuteTime": {
     "end_time": "2023-06-17T04:49:42.195641Z",
     "start_time": "2023-06-17T04:49:42.185639Z"
    }
   },
   "outputs": [
    {
     "data": {
      "text/plain": [
       "[1992, 10, 4, 74, 86, 74]"
      ]
     },
     "execution_count": 43,
     "metadata": {},
     "output_type": "execute_result"
    }
   ],
   "source": [
    "dob_scores"
   ]
  },
  {
   "cell_type": "code",
   "execution_count": 44,
   "id": "47d86396",
   "metadata": {
    "ExecuteTime": {
     "end_time": "2023-06-17T04:50:16.101962Z",
     "start_time": "2023-06-17T04:50:16.097949Z"
    }
   },
   "outputs": [],
   "source": [
    "symbol,*dob_scores,close=('kp',1992,10,4,80,70,74,85)"
   ]
  },
  {
   "cell_type": "code",
   "execution_count": 45,
   "id": "3b74bb44",
   "metadata": {
    "ExecuteTime": {
     "end_time": "2023-06-17T04:50:22.852622Z",
     "start_time": "2023-06-17T04:50:22.832623Z"
    }
   },
   "outputs": [
    {
     "data": {
      "text/plain": [
       "[1992, 10, 4, 80, 70, 74]"
      ]
     },
     "execution_count": 45,
     "metadata": {},
     "output_type": "execute_result"
    }
   ],
   "source": [
    "dob_scores"
   ]
  },
  {
   "cell_type": "code",
   "execution_count": 46,
   "id": "fb13401f",
   "metadata": {
    "ExecuteTime": {
     "end_time": "2023-06-17T05:06:43.285203Z",
     "start_time": "2023-06-17T05:06:43.276202Z"
    }
   },
   "outputs": [],
   "source": [
    "london=('london','uk',8_700_000)\n",
    "newyork=('newyork','usa',7_700_000)\n",
    "beijing=('beijing','china',9_700_000)"
   ]
  },
  {
   "cell_type": "markdown",
   "id": "da6fa0a7",
   "metadata": {},
   "source": [
    "### List is a homogenous kind here any other data type is not accepted"
   ]
  },
  {
   "cell_type": "code",
   "execution_count": 56,
   "id": "a1b3900c",
   "metadata": {
    "ExecuteTime": {
     "end_time": "2023-06-17T05:10:11.639114Z",
     "start_time": "2023-06-17T05:10:11.620360Z"
    }
   },
   "outputs": [],
   "source": [
    "cities=[london,newyork,beijing]"
   ]
  },
  {
   "cell_type": "code",
   "execution_count": 57,
   "id": "de4abe56",
   "metadata": {
    "ExecuteTime": {
     "end_time": "2023-06-17T05:10:12.027437Z",
     "start_time": "2023-06-17T05:10:12.016158Z"
    }
   },
   "outputs": [
    {
     "name": "stdout",
     "output_type": "stream",
     "text": [
      "26100000\n"
     ]
    }
   ],
   "source": [
    "total=0\n",
    "for i in cities:\n",
    "    total+=i[2]\n",
    "print(total)"
   ]
  },
  {
   "cell_type": "code",
   "execution_count": 53,
   "id": "4f60c2fe",
   "metadata": {
    "ExecuteTime": {
     "end_time": "2023-06-17T05:08:56.093529Z",
     "start_time": "2023-06-17T05:08:56.078526Z"
    }
   },
   "outputs": [],
   "source": [
    "cities=[london,newyork,beijing,120]"
   ]
  },
  {
   "cell_type": "code",
   "execution_count": 54,
   "id": "e57c2b0f",
   "metadata": {
    "ExecuteTime": {
     "end_time": "2023-06-17T05:08:56.530555Z",
     "start_time": "2023-06-17T05:08:56.521554Z"
    }
   },
   "outputs": [
    {
     "ename": "TypeError",
     "evalue": "'int' object is not subscriptable",
     "output_type": "error",
     "traceback": [
      "\u001b[1;31m---------------------------------------------------------------------------\u001b[0m",
      "\u001b[1;31mTypeError\u001b[0m                                 Traceback (most recent call last)",
      "\u001b[1;32m~\\AppData\\Local\\Temp\\ipykernel_31100\\250271640.py\u001b[0m in \u001b[0;36m<module>\u001b[1;34m\u001b[0m\n\u001b[0;32m      1\u001b[0m \u001b[0mtotal\u001b[0m\u001b[1;33m=\u001b[0m\u001b[1;36m0\u001b[0m\u001b[1;33m\u001b[0m\u001b[1;33m\u001b[0m\u001b[0m\n\u001b[0;32m      2\u001b[0m \u001b[1;32mfor\u001b[0m \u001b[0mi\u001b[0m \u001b[1;32min\u001b[0m \u001b[0mcities\u001b[0m\u001b[1;33m:\u001b[0m\u001b[1;33m\u001b[0m\u001b[1;33m\u001b[0m\u001b[0m\n\u001b[1;32m----> 3\u001b[1;33m     \u001b[0mtotal\u001b[0m\u001b[1;33m+=\u001b[0m\u001b[0mi\u001b[0m\u001b[1;33m[\u001b[0m\u001b[1;36m2\u001b[0m\u001b[1;33m]\u001b[0m\u001b[1;33m\u001b[0m\u001b[1;33m\u001b[0m\u001b[0m\n\u001b[0m\u001b[0;32m      4\u001b[0m \u001b[0mprint\u001b[0m\u001b[1;33m(\u001b[0m\u001b[0mtotal\u001b[0m\u001b[1;33m)\u001b[0m\u001b[1;33m\u001b[0m\u001b[1;33m\u001b[0m\u001b[0m\n",
      "\u001b[1;31mTypeError\u001b[0m: 'int' object is not subscriptable"
     ]
    }
   ],
   "source": [
    "total=0\n",
    "for i in cities:\n",
    "    total+=i[2]\n",
    "print(total)"
   ]
  },
  {
   "cell_type": "code",
   "execution_count": 59,
   "id": "7aa91b88",
   "metadata": {
    "ExecuteTime": {
     "end_time": "2023-06-17T05:10:21.185262Z",
     "start_time": "2023-06-17T05:10:21.166355Z"
    }
   },
   "outputs": [
    {
     "data": {
      "text/plain": [
       "26100000"
      ]
     },
     "execution_count": 59,
     "metadata": {},
     "output_type": "execute_result"
    }
   ],
   "source": [
    "total=sum(city[2] for city in cities)\n",
    "total"
   ]
  },
  {
   "cell_type": "code",
   "execution_count": 60,
   "id": "de9bf810",
   "metadata": {
    "ExecuteTime": {
     "end_time": "2023-06-17T05:15:28.669553Z",
     "start_time": "2023-06-17T05:15:28.658044Z"
    }
   },
   "outputs": [
    {
     "name": "stdout",
     "output_type": "stream",
     "text": [
      "('london', 'uk', 8700000)\n",
      "('newyork', 'usa', 7700000)\n",
      "('beijing', 'china', 9700000)\n"
     ]
    }
   ],
   "source": [
    "for item in cities:\n",
    "    print(item)"
   ]
  },
  {
   "cell_type": "code",
   "execution_count": 63,
   "id": "79cf9e4a",
   "metadata": {
    "ExecuteTime": {
     "end_time": "2023-06-17T05:16:11.059859Z",
     "start_time": "2023-06-17T05:16:11.049855Z"
    }
   },
   "outputs": [
    {
     "name": "stdout",
     "output_type": "stream",
     "text": [
      "0 ('london', 'uk', 8700000)\n",
      "1 ('newyork', 'usa', 7700000)\n",
      "2 ('beijing', 'china', 9700000)\n"
     ]
    }
   ],
   "source": [
    "for index,city in enumerate(cities):\n",
    "    print(index,city)"
   ]
  },
  {
   "cell_type": "code",
   "execution_count": 64,
   "id": "9d73d434",
   "metadata": {
    "ExecuteTime": {
     "end_time": "2023-06-17T05:16:23.554246Z",
     "start_time": "2023-06-17T05:16:23.548239Z"
    }
   },
   "outputs": [
    {
     "name": "stdout",
     "output_type": "stream",
     "text": [
      "(0, ('london', 'uk', 8700000))\n",
      "(1, ('newyork', 'usa', 7700000))\n",
      "(2, ('beijing', 'china', 9700000))\n"
     ]
    }
   ],
   "source": [
    "for index in enumerate(cities):\n",
    "    print(index)"
   ]
  },
  {
   "cell_type": "code",
   "execution_count": 2,
   "id": "0fb52b3b",
   "metadata": {
    "ExecuteTime": {
     "end_time": "2023-06-18T09:49:09.384269Z",
     "start_time": "2023-06-18T09:49:09.371228Z"
    }
   },
   "outputs": [],
   "source": [
    "from collections import namedtuple"
   ]
  },
  {
   "cell_type": "code",
   "execution_count": 66,
   "id": "a3f76abf",
   "metadata": {
    "ExecuteTime": {
     "end_time": "2023-06-17T07:20:13.482923Z",
     "start_time": "2023-06-17T07:20:13.467923Z"
    }
   },
   "outputs": [],
   "source": [
    "point2d=namedtuple('point2d',['x','y'])"
   ]
  },
  {
   "cell_type": "code",
   "execution_count": 67,
   "id": "342acb93",
   "metadata": {
    "ExecuteTime": {
     "end_time": "2023-06-17T07:20:27.081082Z",
     "start_time": "2023-06-17T07:20:27.065082Z"
    }
   },
   "outputs": [],
   "source": [
    "p=point2d(10,20)"
   ]
  },
  {
   "cell_type": "code",
   "execution_count": 69,
   "id": "a1fedb75",
   "metadata": {
    "ExecuteTime": {
     "end_time": "2023-06-17T07:21:11.300007Z",
     "start_time": "2023-06-17T07:21:11.293009Z"
    }
   },
   "outputs": [],
   "source": [
    "point3d=namedtuple('point3d','x,y,z')"
   ]
  },
  {
   "cell_type": "code",
   "execution_count": 70,
   "id": "a75768a5",
   "metadata": {
    "ExecuteTime": {
     "end_time": "2023-06-17T07:21:31.791068Z",
     "start_time": "2023-06-17T07:21:31.783031Z"
    }
   },
   "outputs": [],
   "source": [
    "point4d=namedtuple('point3d','x y z a')"
   ]
  },
  {
   "cell_type": "code",
   "execution_count": 71,
   "id": "9f2ad31a",
   "metadata": {
    "ExecuteTime": {
     "end_time": "2023-06-17T07:21:46.400246Z",
     "start_time": "2023-06-17T07:21:46.386246Z"
    }
   },
   "outputs": [],
   "source": [
    "p2=point4d(10,20,30,40)"
   ]
  },
  {
   "cell_type": "code",
   "execution_count": 73,
   "id": "c2689005",
   "metadata": {
    "ExecuteTime": {
     "end_time": "2023-06-17T07:21:59.798849Z",
     "start_time": "2023-06-17T07:21:59.789848Z"
    }
   },
   "outputs": [
    {
     "data": {
      "text/plain": [
       "40"
      ]
     },
     "execution_count": 73,
     "metadata": {},
     "output_type": "execute_result"
    }
   ],
   "source": [
    "p2.a"
   ]
  },
  {
   "cell_type": "code",
   "execution_count": 2,
   "id": "83e2760f",
   "metadata": {
    "ExecuteTime": {
     "end_time": "2023-06-17T12:06:07.235822Z",
     "start_time": "2023-06-17T12:06:07.216822Z"
    }
   },
   "outputs": [],
   "source": [
    "stock=namedtuple('stock','''symbol\n",
    "                            year\n",
    "                            Day\n",
    "                            open\n",
    "                            high\n",
    "                            low\n",
    "                            close''')"
   ]
  },
  {
   "cell_type": "code",
   "execution_count": 6,
   "id": "63cf65c4",
   "metadata": {
    "ExecuteTime": {
     "end_time": "2023-06-17T12:07:46.791363Z",
     "start_time": "2023-06-17T12:07:46.774362Z"
    }
   },
   "outputs": [],
   "source": [
    "hal=stock('hal1',2018,'today',3600,3880,3550,3850)"
   ]
  },
  {
   "cell_type": "code",
   "execution_count": 7,
   "id": "63223442",
   "metadata": {
    "ExecuteTime": {
     "end_time": "2023-06-17T12:07:54.602618Z",
     "start_time": "2023-06-17T12:07:54.589843Z"
    }
   },
   "outputs": [
    {
     "data": {
      "text/plain": [
       "'hal1'"
      ]
     },
     "execution_count": 7,
     "metadata": {},
     "output_type": "execute_result"
    }
   ],
   "source": [
    "hal.symbol"
   ]
  },
  {
   "cell_type": "code",
   "execution_count": 13,
   "id": "a4fcb785",
   "metadata": {
    "ExecuteTime": {
     "end_time": "2023-06-17T12:14:27.231219Z",
     "start_time": "2023-06-17T12:14:27.213824Z"
    }
   },
   "outputs": [],
   "source": [
    "person = namedtuple('person','name age _2 _ssn',rename=True)"
   ]
  },
  {
   "cell_type": "code",
   "execution_count": 14,
   "id": "a5f5f406",
   "metadata": {
    "ExecuteTime": {
     "end_time": "2023-06-17T12:14:27.773959Z",
     "start_time": "2023-06-17T12:14:27.767959Z"
    }
   },
   "outputs": [
    {
     "data": {
      "text/plain": [
       "('name', 'age', '_2', '_3')"
      ]
     },
     "execution_count": 14,
     "metadata": {},
     "output_type": "execute_result"
    }
   ],
   "source": [
    "person._fields"
   ]
  },
  {
   "cell_type": "code",
   "execution_count": 31,
   "id": "8881427f",
   "metadata": {
    "ExecuteTime": {
     "end_time": "2023-06-17T13:47:18.007130Z",
     "start_time": "2023-06-17T13:47:17.988142Z"
    }
   },
   "outputs": [],
   "source": [
    "color=namedtuple('color','red green blue alpha')"
   ]
  },
  {
   "cell_type": "code",
   "execution_count": 1,
   "id": "3ea611f7",
   "metadata": {
    "ExecuteTime": {
     "end_time": "2023-06-19T07:40:12.812014Z",
     "start_time": "2023-06-19T07:40:12.798982Z"
    }
   },
   "outputs": [],
   "source": [
    "from random import randint,random\n",
    "def random_color():\n",
    "    red=random(0,255)\n",
    "    green=random(0,255)\n",
    "    blue=random(0,255)\n",
    "    alpha=random(0,255)\n",
    "    return color(red,green,blue,alpha)\n",
    "    \n",
    "    "
   ]
  },
  {
   "cell_type": "code",
   "execution_count": 23,
   "id": "37d6708c",
   "metadata": {
    "ExecuteTime": {
     "end_time": "2023-06-17T13:45:26.446267Z",
     "start_time": "2023-06-17T13:45:26.438267Z"
    }
   },
   "outputs": [],
   "source": [
    "data=dict(key1=100,key2=200,key3=300)"
   ]
  },
  {
   "cell_type": "code",
   "execution_count": 24,
   "id": "ea01a4c1",
   "metadata": {
    "ExecuteTime": {
     "end_time": "2023-06-17T13:45:26.914990Z",
     "start_time": "2023-06-17T13:45:26.907991Z"
    }
   },
   "outputs": [
    {
     "data": {
      "text/plain": [
       "100"
      ]
     },
     "execution_count": 24,
     "metadata": {},
     "output_type": "execute_result"
    }
   ],
   "source": [
    "data['key1']"
   ]
  },
  {
   "cell_type": "code",
   "execution_count": 1,
   "id": "9ced371e",
   "metadata": {
    "ExecuteTime": {
     "end_time": "2023-06-18T09:48:53.105871Z",
     "start_time": "2023-06-18T09:48:53.090869Z"
    }
   },
   "outputs": [],
   "source": [
    "data_dict={'key1':100,'key2':200,'key3':300}"
   ]
  },
  {
   "cell_type": "code",
   "execution_count": 3,
   "id": "2a3c19d0",
   "metadata": {
    "ExecuteTime": {
     "end_time": "2023-06-18T09:49:25.809322Z",
     "start_time": "2023-06-18T09:49:25.804731Z"
    }
   },
   "outputs": [],
   "source": [
    "data=namedtuple('data',data_dict.keys())"
   ]
  },
  {
   "cell_type": "code",
   "execution_count": 4,
   "id": "c4a9d889",
   "metadata": {
    "ExecuteTime": {
     "end_time": "2023-06-18T09:49:43.170456Z",
     "start_time": "2023-06-18T09:49:43.160457Z"
    }
   },
   "outputs": [],
   "source": [
    "d=data(*data_dict.values())"
   ]
  },
  {
   "cell_type": "code",
   "execution_count": 5,
   "id": "efe3711a",
   "metadata": {
    "ExecuteTime": {
     "end_time": "2023-06-18T09:49:45.929464Z",
     "start_time": "2023-06-18T09:49:45.916101Z"
    }
   },
   "outputs": [
    {
     "data": {
      "text/plain": [
       "data(key1=100, key2=200, key3=300)"
      ]
     },
     "execution_count": 5,
     "metadata": {},
     "output_type": "execute_result"
    }
   ],
   "source": [
    "d"
   ]
  },
  {
   "cell_type": "code",
   "execution_count": 6,
   "id": "e92e4634",
   "metadata": {
    "ExecuteTime": {
     "end_time": "2023-06-18T09:50:11.932032Z",
     "start_time": "2023-06-18T09:50:11.917032Z"
    }
   },
   "outputs": [
    {
     "data": {
      "text/plain": [
       "('key1', 'key2', 'key3')"
      ]
     },
     "execution_count": 6,
     "metadata": {},
     "output_type": "execute_result"
    }
   ],
   "source": [
    "data._fields"
   ]
  },
  {
   "cell_type": "code",
   "execution_count": 13,
   "id": "b2f67d1a",
   "metadata": {
    "ExecuteTime": {
     "end_time": "2023-06-18T13:39:43.056765Z",
     "start_time": "2023-06-18T13:39:43.038602Z"
    }
   },
   "outputs": [],
   "source": [
    "def outer():\n",
    "    x='python'\n",
    "    def inner():\n",
    "        print('{0} rocks'.format(x))\n",
    "    inner()"
   ]
  },
  {
   "cell_type": "code",
   "execution_count": 14,
   "id": "834534fd",
   "metadata": {
    "ExecuteTime": {
     "end_time": "2023-06-18T13:39:43.651190Z",
     "start_time": "2023-06-18T13:39:43.632190Z"
    }
   },
   "outputs": [
    {
     "name": "stdout",
     "output_type": "stream",
     "text": [
      "python rocks\n"
     ]
    }
   ],
   "source": [
    "outer()"
   ]
  },
  {
   "cell_type": "code",
   "execution_count": 17,
   "id": "83997808",
   "metadata": {
    "ExecuteTime": {
     "end_time": "2023-06-18T13:40:23.147546Z",
     "start_time": "2023-06-18T13:40:23.129547Z"
    }
   },
   "outputs": [],
   "source": [
    "# this returns closure\n",
    "def outer():\n",
    "    x='python'\n",
    "    def inner():\n",
    "        print('{0} rocks'.format(x))\n",
    "    return inner"
   ]
  },
  {
   "cell_type": "code",
   "execution_count": 20,
   "id": "01a0d643",
   "metadata": {
    "ExecuteTime": {
     "end_time": "2023-06-18T13:50:31.089515Z",
     "start_time": "2023-06-18T13:50:31.070517Z"
    }
   },
   "outputs": [
    {
     "name": "stdout",
     "output_type": "stream",
     "text": [
      "python rocks\n"
     ]
    }
   ],
   "source": [
    "fn=outer()\n",
    "fn()"
   ]
  },
  {
   "cell_type": "code",
   "execution_count": 6,
   "id": "3a4b50e8",
   "metadata": {
    "ExecuteTime": {
     "end_time": "2023-06-19T08:25:22.876637Z",
     "start_time": "2023-06-19T08:25:22.864556Z"
    }
   },
   "outputs": [],
   "source": [
    "# closure func\n",
    "def averager():\n",
    "    numbers=[]\n",
    "    def add(number):\n",
    "        numbers.append(number)\n",
    "        total=sum(numbers)\n",
    "        count=len(numbers)\n",
    "        return total/count\n",
    "    return add"
   ]
  },
  {
   "cell_type": "code",
   "execution_count": 7,
   "id": "1621c601",
   "metadata": {
    "ExecuteTime": {
     "end_time": "2023-06-19T08:25:23.662910Z",
     "start_time": "2023-06-19T08:25:23.645910Z"
    }
   },
   "outputs": [],
   "source": [
    "a=averager()"
   ]
  },
  {
   "cell_type": "code",
   "execution_count": 8,
   "id": "0db9b5d3",
   "metadata": {
    "ExecuteTime": {
     "end_time": "2023-06-19T08:25:24.762659Z",
     "start_time": "2023-06-19T08:25:24.758162Z"
    }
   },
   "outputs": [
    {
     "data": {
      "text/plain": [
       "10.0"
      ]
     },
     "execution_count": 8,
     "metadata": {},
     "output_type": "execute_result"
    }
   ],
   "source": [
    "a(10)"
   ]
  },
  {
   "cell_type": "code",
   "execution_count": 9,
   "id": "66ef0189",
   "metadata": {
    "ExecuteTime": {
     "end_time": "2023-06-19T08:25:25.600285Z",
     "start_time": "2023-06-19T08:25:25.588771Z"
    }
   },
   "outputs": [
    {
     "data": {
      "text/plain": [
       "15.0"
      ]
     },
     "execution_count": 9,
     "metadata": {},
     "output_type": "execute_result"
    }
   ],
   "source": [
    "a(20)"
   ]
  },
  {
   "cell_type": "code",
   "execution_count": 10,
   "id": "997e77b0",
   "metadata": {
    "ExecuteTime": {
     "end_time": "2023-06-19T14:09:32.197216Z",
     "start_time": "2023-06-19T14:09:32.182157Z"
    }
   },
   "outputs": [],
   "source": [
    "x=[[0,0]]"
   ]
  },
  {
   "cell_type": "code",
   "execution_count": 11,
   "id": "8164cd44",
   "metadata": {
    "ExecuteTime": {
     "end_time": "2023-06-19T14:09:38.399859Z",
     "start_time": "2023-06-19T14:09:38.380858Z"
    }
   },
   "outputs": [],
   "source": [
    "a=x+x"
   ]
  },
  {
   "cell_type": "code",
   "execution_count": 12,
   "id": "baea8023",
   "metadata": {
    "ExecuteTime": {
     "end_time": "2023-06-19T14:09:40.694735Z",
     "start_time": "2023-06-19T14:09:40.666976Z"
    }
   },
   "outputs": [
    {
     "data": {
      "text/plain": [
       "[[0, 0], [0, 0]]"
      ]
     },
     "execution_count": 12,
     "metadata": {},
     "output_type": "execute_result"
    }
   ],
   "source": [
    "a"
   ]
  },
  {
   "cell_type": "code",
   "execution_count": 13,
   "id": "9b07d182",
   "metadata": {
    "ExecuteTime": {
     "end_time": "2023-06-19T14:09:49.648037Z",
     "start_time": "2023-06-19T14:09:49.630507Z"
    }
   },
   "outputs": [],
   "source": [
    "a[0][0]=100"
   ]
  },
  {
   "cell_type": "code",
   "execution_count": 14,
   "id": "1f73038c",
   "metadata": {
    "ExecuteTime": {
     "end_time": "2023-06-19T14:09:51.782066Z",
     "start_time": "2023-06-19T14:09:51.777064Z"
    }
   },
   "outputs": [
    {
     "data": {
      "text/plain": [
       "[[100, 0], [100, 0]]"
      ]
     },
     "execution_count": 14,
     "metadata": {},
     "output_type": "execute_result"
    }
   ],
   "source": [
    "a"
   ]
  },
  {
   "cell_type": "markdown",
   "id": "26ba7758",
   "metadata": {},
   "source": [
    "as address of a[0],a[1] is same changle is reflected in both as concatenating mutable object should be noted"
   ]
  },
  {
   "cell_type": "code",
   "execution_count": 15,
   "id": "d6ea79b0",
   "metadata": {
    "ExecuteTime": {
     "end_time": "2023-06-19T14:12:18.249856Z",
     "start_time": "2023-06-19T14:12:18.237861Z"
    }
   },
   "outputs": [
    {
     "data": {
      "text/plain": [
       "2797163404736"
      ]
     },
     "execution_count": 15,
     "metadata": {},
     "output_type": "execute_result"
    }
   ],
   "source": [
    "id(a[0])"
   ]
  },
  {
   "cell_type": "code",
   "execution_count": 16,
   "id": "245dbcf7",
   "metadata": {
    "ExecuteTime": {
     "end_time": "2023-06-19T14:12:25.531216Z",
     "start_time": "2023-06-19T14:12:25.527212Z"
    }
   },
   "outputs": [
    {
     "data": {
      "text/plain": [
       "2797163404736"
      ]
     },
     "execution_count": 16,
     "metadata": {},
     "output_type": "execute_result"
    }
   ],
   "source": [
    "id(a[1])"
   ]
  },
  {
   "cell_type": "code",
   "execution_count": 23,
   "id": "8d6bc152",
   "metadata": {
    "ExecuteTime": {
     "end_time": "2023-06-19T14:13:36.596271Z",
     "start_time": "2023-06-19T14:13:36.583761Z"
    }
   },
   "outputs": [],
   "source": [
    "b=['python']*2"
   ]
  },
  {
   "cell_type": "code",
   "execution_count": 24,
   "id": "95296603",
   "metadata": {
    "ExecuteTime": {
     "end_time": "2023-06-19T14:13:37.033866Z",
     "start_time": "2023-06-19T14:13:37.020869Z"
    }
   },
   "outputs": [
    {
     "data": {
      "text/plain": [
       "['python', 'python']"
      ]
     },
     "execution_count": 24,
     "metadata": {},
     "output_type": "execute_result"
    }
   ],
   "source": [
    "b"
   ]
  },
  {
   "cell_type": "code",
   "execution_count": 25,
   "id": "3fccb0a4",
   "metadata": {
    "ExecuteTime": {
     "end_time": "2023-06-19T14:13:50.178915Z",
     "start_time": "2023-06-19T14:13:50.166885Z"
    }
   },
   "outputs": [
    {
     "data": {
      "text/plain": [
       "2797128624048"
      ]
     },
     "execution_count": 25,
     "metadata": {},
     "output_type": "execute_result"
    }
   ],
   "source": [
    "id(b[0])"
   ]
  },
  {
   "cell_type": "code",
   "execution_count": 26,
   "id": "ef76c7a6",
   "metadata": {
    "ExecuteTime": {
     "end_time": "2023-06-19T14:13:57.319739Z",
     "start_time": "2023-06-19T14:13:57.305225Z"
    }
   },
   "outputs": [
    {
     "data": {
      "text/plain": [
       "2797128624048"
      ]
     },
     "execution_count": 26,
     "metadata": {},
     "output_type": "execute_result"
    }
   ],
   "source": [
    "id(b[1])"
   ]
  },
  {
   "cell_type": "code",
   "execution_count": 29,
   "id": "aafa4d5c",
   "metadata": {
    "ExecuteTime": {
     "end_time": "2023-06-19T14:23:42.828619Z",
     "start_time": "2023-06-19T14:23:42.809939Z"
    }
   },
   "outputs": [
    {
     "data": {
      "text/plain": [
       "'abccde'"
      ]
     },
     "execution_count": 29,
     "metadata": {},
     "output_type": "execute_result"
    }
   ],
   "source": [
    "''.join(list('abc')+['c','d','e'])"
   ]
  },
  {
   "cell_type": "code",
   "execution_count": 30,
   "id": "fc7056aa",
   "metadata": {
    "ExecuteTime": {
     "end_time": "2023-06-19T14:25:58.573794Z",
     "start_time": "2023-06-19T14:25:58.556627Z"
    }
   },
   "outputs": [
    {
     "data": {
      "text/plain": [
       "[(0, 'p'), (1, 'y'), (2, 't'), (3, 'h'), (4, 'o'), (5, 'n')]"
      ]
     },
     "execution_count": 30,
     "metadata": {},
     "output_type": "execute_result"
    }
   ],
   "source": [
    "s='python'\n",
    "list(enumerate(s))"
   ]
  },
  {
   "cell_type": "code",
   "execution_count": 1,
   "id": "b4abbbb2",
   "metadata": {
    "ExecuteTime": {
     "end_time": "2023-06-20T13:14:36.633094Z",
     "start_time": "2023-06-20T13:14:36.623973Z"
    }
   },
   "outputs": [],
   "source": [
    "s=(1,2,3)"
   ]
  },
  {
   "cell_type": "code",
   "execution_count": 2,
   "id": "68953932",
   "metadata": {
    "ExecuteTime": {
     "end_time": "2023-06-20T13:14:43.438303Z",
     "start_time": "2023-06-20T13:14:43.208459Z"
    }
   },
   "outputs": [
    {
     "ename": "AttributeError",
     "evalue": "'tuple' object has no attribute 'copy'",
     "output_type": "error",
     "traceback": [
      "\u001b[1;31m---------------------------------------------------------------------------\u001b[0m",
      "\u001b[1;31mAttributeError\u001b[0m                            Traceback (most recent call last)",
      "\u001b[1;32m~\\AppData\\Local\\Temp\\ipykernel_3660\\3242147764.py\u001b[0m in \u001b[0;36m<module>\u001b[1;34m\u001b[0m\n\u001b[1;32m----> 1\u001b[1;33m \u001b[0md\u001b[0m\u001b[1;33m=\u001b[0m\u001b[0ms\u001b[0m\u001b[1;33m.\u001b[0m\u001b[0mcopy\u001b[0m\u001b[1;33m(\u001b[0m\u001b[1;33m)\u001b[0m\u001b[1;33m\u001b[0m\u001b[1;33m\u001b[0m\u001b[0m\n\u001b[0m",
      "\u001b[1;31mAttributeError\u001b[0m: 'tuple' object has no attribute 'copy'"
     ]
    }
   ],
   "source": [
    "d=s.copy()   # this not works for immutable data types"
   ]
  },
  {
   "cell_type": "code",
   "execution_count": 3,
   "id": "f9580f56",
   "metadata": {
    "ExecuteTime": {
     "end_time": "2023-06-20T14:13:49.832102Z",
     "start_time": "2023-06-20T14:13:49.812072Z"
    }
   },
   "outputs": [],
   "source": [
    "l=[1,2,[5,8]]"
   ]
  },
  {
   "cell_type": "code",
   "execution_count": 4,
   "id": "0aa6c291",
   "metadata": {
    "ExecuteTime": {
     "end_time": "2023-06-20T14:14:00.176665Z",
     "start_time": "2023-06-20T14:14:00.172665Z"
    }
   },
   "outputs": [],
   "source": [
    "s=l.copy()"
   ]
  },
  {
   "cell_type": "code",
   "execution_count": 8,
   "id": "eaa04a13",
   "metadata": {
    "ExecuteTime": {
     "end_time": "2023-06-20T14:15:00.170310Z",
     "start_time": "2023-06-20T14:15:00.152797Z"
    }
   },
   "outputs": [
    {
     "data": {
      "text/plain": [
       "[1, 2, [5, 8]]"
      ]
     },
     "execution_count": 8,
     "metadata": {},
     "output_type": "execute_result"
    }
   ],
   "source": [
    "s"
   ]
  },
  {
   "cell_type": "code",
   "execution_count": 13,
   "id": "475b171f",
   "metadata": {
    "ExecuteTime": {
     "end_time": "2023-06-20T14:15:56.155508Z",
     "start_time": "2023-06-20T14:15:56.148509Z"
    }
   },
   "outputs": [],
   "source": [
    "s[1]='pyt'"
   ]
  },
  {
   "cell_type": "code",
   "execution_count": 14,
   "id": "82e2fdef",
   "metadata": {
    "ExecuteTime": {
     "end_time": "2023-06-20T14:16:04.386589Z",
     "start_time": "2023-06-20T14:16:04.381025Z"
    }
   },
   "outputs": [
    {
     "data": {
      "text/plain": [
       "[1, 'pyt', [5, 100]]"
      ]
     },
     "execution_count": 14,
     "metadata": {},
     "output_type": "execute_result"
    }
   ],
   "source": [
    "s"
   ]
  },
  {
   "cell_type": "code",
   "execution_count": 15,
   "id": "1d8cce2a",
   "metadata": {
    "ExecuteTime": {
     "end_time": "2023-06-20T14:16:12.600684Z",
     "start_time": "2023-06-20T14:16:12.590384Z"
    }
   },
   "outputs": [
    {
     "data": {
      "text/plain": [
       "[1, 2, [5, 100]]"
      ]
     },
     "execution_count": 15,
     "metadata": {},
     "output_type": "execute_result"
    }
   ],
   "source": [
    "l  # no change in original list"
   ]
  },
  {
   "cell_type": "code",
   "execution_count": 10,
   "id": "0acc0afd",
   "metadata": {
    "ExecuteTime": {
     "end_time": "2023-06-20T14:15:22.855544Z",
     "start_time": "2023-06-20T14:15:22.852544Z"
    }
   },
   "outputs": [],
   "source": [
    "s[2][1]=100"
   ]
  },
  {
   "cell_type": "code",
   "execution_count": 11,
   "id": "eb36b520",
   "metadata": {
    "ExecuteTime": {
     "end_time": "2023-06-20T14:15:25.400559Z",
     "start_time": "2023-06-20T14:15:25.393424Z"
    }
   },
   "outputs": [
    {
     "data": {
      "text/plain": [
       "[1, 2, [5, 100]]"
      ]
     },
     "execution_count": 11,
     "metadata": {},
     "output_type": "execute_result"
    }
   ],
   "source": [
    "s"
   ]
  },
  {
   "cell_type": "code",
   "execution_count": 12,
   "id": "64e26f4f",
   "metadata": {
    "ExecuteTime": {
     "end_time": "2023-06-20T14:15:29.444288Z",
     "start_time": "2023-06-20T14:15:29.429633Z"
    }
   },
   "outputs": [
    {
     "data": {
      "text/plain": [
       "[1, 2, [5, 100]]"
      ]
     },
     "execution_count": 12,
     "metadata": {},
     "output_type": "execute_result"
    }
   ],
   "source": [
    "l # change is seen in original this is called shallow copy"
   ]
  },
  {
   "cell_type": "code",
   "execution_count": 1,
   "id": "52b0b869",
   "metadata": {
    "ExecuteTime": {
     "end_time": "2023-06-22T13:21:07.733758Z",
     "start_time": "2023-06-22T13:21:07.722756Z"
    }
   },
   "outputs": [],
   "source": [
    "d={'a':100,'b':25,'c':10}"
   ]
  },
  {
   "cell_type": "code",
   "execution_count": 2,
   "id": "c47f8486",
   "metadata": {
    "ExecuteTime": {
     "end_time": "2023-06-22T13:21:24.166474Z",
     "start_time": "2023-06-22T13:21:24.146437Z"
    }
   },
   "outputs": [
    {
     "data": {
      "text/plain": [
       "['c', 'b', 'a']"
      ]
     },
     "execution_count": 2,
     "metadata": {},
     "output_type": "execute_result"
    }
   ],
   "source": [
    "sorted(d,key=lambda x:d[x])"
   ]
  },
  {
   "cell_type": "code",
   "execution_count": 3,
   "id": "ed397480",
   "metadata": {
    "ExecuteTime": {
     "end_time": "2023-06-22T13:21:56.801809Z",
     "start_time": "2023-06-22T13:21:56.794809Z"
    }
   },
   "outputs": [],
   "source": [
    "d=['hi','hello','kiran','iam','got','will']"
   ]
  },
  {
   "cell_type": "code",
   "execution_count": 4,
   "id": "b9ad847d",
   "metadata": {
    "ExecuteTime": {
     "end_time": "2023-06-22T13:22:13.516892Z",
     "start_time": "2023-06-22T13:22:13.495892Z"
    }
   },
   "outputs": [
    {
     "data": {
      "text/plain": [
       "['hi', 'iam', 'got', 'will', 'hello', 'kiran']"
      ]
     },
     "execution_count": 4,
     "metadata": {},
     "output_type": "execute_result"
    }
   ],
   "source": [
    "sorted(d,key=lambda x:len(x))"
   ]
  },
  {
   "cell_type": "code",
   "execution_count": 5,
   "id": "9ecb135f",
   "metadata": {
    "ExecuteTime": {
     "end_time": "2023-06-22T13:22:25.693839Z",
     "start_time": "2023-06-22T13:22:25.676812Z"
    }
   },
   "outputs": [
    {
     "data": {
      "text/plain": [
       "['got', 'hello', 'hi', 'iam', 'kiran', 'will']"
      ]
     },
     "execution_count": 5,
     "metadata": {},
     "output_type": "execute_result"
    }
   ],
   "source": [
    "sorted(d) # ---> based on ASCII number"
   ]
  },
  {
   "cell_type": "code",
   "execution_count": 11,
   "id": "6d575f88",
   "metadata": {
    "ExecuteTime": {
     "end_time": "2023-06-22T13:32:15.277802Z",
     "start_time": "2023-06-22T13:32:15.263704Z"
    }
   },
   "outputs": [],
   "source": [
    "a= 10+1j,2+2j,13+3j,12+5j"
   ]
  },
  {
   "cell_type": "code",
   "execution_count": 12,
   "id": "7bafe467",
   "metadata": {
    "ExecuteTime": {
     "end_time": "2023-06-22T13:32:16.041508Z",
     "start_time": "2023-06-22T13:32:16.032260Z"
    }
   },
   "outputs": [
    {
     "ename": "TypeError",
     "evalue": "'<' not supported between instances of 'complex' and 'complex'",
     "output_type": "error",
     "traceback": [
      "\u001b[1;31m---------------------------------------------------------------------------\u001b[0m",
      "\u001b[1;31mTypeError\u001b[0m                                 Traceback (most recent call last)",
      "\u001b[1;32m~\\AppData\\Local\\Temp\\ipykernel_34368\\3234951509.py\u001b[0m in \u001b[0;36m<module>\u001b[1;34m\u001b[0m\n\u001b[1;32m----> 1\u001b[1;33m \u001b[0msorted\u001b[0m\u001b[1;33m(\u001b[0m\u001b[0ma\u001b[0m\u001b[1;33m)\u001b[0m\u001b[1;33m\u001b[0m\u001b[1;33m\u001b[0m\u001b[0m\n\u001b[0m",
      "\u001b[1;31mTypeError\u001b[0m: '<' not supported between instances of 'complex' and 'complex'"
     ]
    }
   ],
   "source": [
    "sorted(a)"
   ]
  },
  {
   "cell_type": "code",
   "execution_count": 13,
   "id": "dea2316b",
   "metadata": {
    "ExecuteTime": {
     "end_time": "2023-06-22T13:32:16.977054Z",
     "start_time": "2023-06-22T13:32:16.961023Z"
    }
   },
   "outputs": [
    {
     "data": {
      "text/plain": [
       "[(2+2j), (10+1j), (12+5j), (13+3j)]"
      ]
     },
     "execution_count": 13,
     "metadata": {},
     "output_type": "execute_result"
    }
   ],
   "source": [
    "sorted(a,key=lambda x:abs(x))  # abs= dist from origin"
   ]
  },
  {
   "cell_type": "code",
   "execution_count": 14,
   "id": "e8b481e4",
   "metadata": {
    "ExecuteTime": {
     "end_time": "2023-06-22T13:32:18.859024Z",
     "start_time": "2023-06-22T13:32:18.853927Z"
    }
   },
   "outputs": [
    {
     "data": {
      "text/plain": [
       "[(10+1j), (2+2j), (13+3j), (12+5j)]"
      ]
     },
     "execution_count": 14,
     "metadata": {},
     "output_type": "execute_result"
    }
   ],
   "source": [
    "sorted(a,key=lambda x:x.imag) "
   ]
  },
  {
   "cell_type": "code",
   "execution_count": 17,
   "id": "d207ae72",
   "metadata": {
    "ExecuteTime": {
     "end_time": "2023-06-22T13:35:16.444744Z",
     "start_time": "2023-06-22T13:35:16.427901Z"
    }
   },
   "outputs": [
    {
     "data": {
      "text/plain": [
       "['this', 'is', 'a', 'green', 'parrot', 'and', \"it's\", 'my', 'friend']"
      ]
     },
     "execution_count": 17,
     "metadata": {},
     "output_type": "execute_result"
    }
   ],
   "source": [
    "l=\"this is a green parrot and it's my friend\".split(' ')\n",
    "l"
   ]
  },
  {
   "cell_type": "code",
   "execution_count": 18,
   "id": "d059cf3f",
   "metadata": {
    "ExecuteTime": {
     "end_time": "2023-06-22T13:35:35.551252Z",
     "start_time": "2023-06-22T13:35:35.535477Z"
    }
   },
   "outputs": [
    {
     "data": {
      "text/plain": [
       "['a', 'is', 'my', 'and', 'this', \"it's\", 'green', 'parrot', 'friend']"
      ]
     },
     "execution_count": 18,
     "metadata": {},
     "output_type": "execute_result"
    }
   ],
   "source": [
    "sorted(l,key=lambda x: len(x))"
   ]
  },
  {
   "cell_type": "code",
   "execution_count": 19,
   "id": "bd4cb21b",
   "metadata": {
    "ExecuteTime": {
     "end_time": "2023-06-22T13:35:54.789608Z",
     "start_time": "2023-06-22T13:35:54.772614Z"
    }
   },
   "outputs": [],
   "source": [
    "l.sort(key=lambda x:len(x))"
   ]
  },
  {
   "cell_type": "code",
   "execution_count": 20,
   "id": "e9c77f11",
   "metadata": {
    "ExecuteTime": {
     "end_time": "2023-06-22T13:35:58.277481Z",
     "start_time": "2023-06-22T13:35:58.269852Z"
    }
   },
   "outputs": [
    {
     "data": {
      "text/plain": [
       "['a', 'is', 'my', 'and', 'this', \"it's\", 'green', 'parrot', 'friend']"
      ]
     },
     "execution_count": 20,
     "metadata": {},
     "output_type": "execute_result"
    }
   ],
   "source": [
    "l"
   ]
  },
  {
   "cell_type": "markdown",
   "id": "b25db271",
   "metadata": {},
   "source": [
    "### sorted: it copies the sequence and do the sorting\n",
    "### sort : it does not need to copy sequence it does inplace by default it mutates the sequence"
   ]
  },
  {
   "cell_type": "code",
   "execution_count": 21,
   "id": "58923585",
   "metadata": {
    "ExecuteTime": {
     "end_time": "2023-06-22T14:33:45.900987Z",
     "start_time": "2023-06-22T14:33:45.889984Z"
    }
   },
   "outputs": [
    {
     "data": {
      "text/plain": [
       "[[0, 0, 0, 0, 0],\n",
       " [0, 1, 2, 3, 4],\n",
       " [0, 2, 4, 6, 8],\n",
       " [0, 3, 6, 9, 12],\n",
       " [0, 4, 8, 12, 16]]"
      ]
     },
     "execution_count": 21,
     "metadata": {},
     "output_type": "execute_result"
    }
   ],
   "source": [
    "[[i*j for j in range(5)]for i in range(5)] "
   ]
  },
  {
   "cell_type": "markdown",
   "id": "378a54c0",
   "metadata": {},
   "source": [
    "### this is a nested list comprehension as i is non local variable for nested function, so this a closure"
   ]
  },
  {
   "cell_type": "code",
   "execution_count": 27,
   "id": "af285da7",
   "metadata": {
    "ExecuteTime": {
     "end_time": "2023-06-22T14:39:39.257895Z",
     "start_time": "2023-06-22T14:39:39.253298Z"
    }
   },
   "outputs": [
    {
     "data": {
      "text/plain": [
       "[(0, 0, 0), (0, 0, 1), (0, 0, 2), (0, 1, 0), (0, 1, 1), (0, 1, 2)]"
      ]
     },
     "execution_count": 27,
     "metadata": {},
     "output_type": "execute_result"
    }
   ],
   "source": [
    "[(i,j,k) for i in range(1) for j in range(2) for k in range(3)]"
   ]
  },
  {
   "cell_type": "code",
   "execution_count": 28,
   "id": "25fb9801",
   "metadata": {
    "ExecuteTime": {
     "end_time": "2023-06-22T14:42:03.603857Z",
     "start_time": "2023-06-22T14:42:03.593113Z"
    }
   },
   "outputs": [],
   "source": [
    "l=[[(i,j) for i in range(5) if i==j] for j in range(5)]"
   ]
  },
  {
   "cell_type": "code",
   "execution_count": 30,
   "id": "8a97cdeb",
   "metadata": {
    "ExecuteTime": {
     "end_time": "2023-06-22T14:42:11.274119Z",
     "start_time": "2023-06-22T14:42:11.257149Z"
    }
   },
   "outputs": [
    {
     "data": {
      "text/plain": [
       "[[(0, 0)], [(1, 1)], [(2, 2)], [(3, 3)], [(4, 4)]]"
      ]
     },
     "execution_count": 30,
     "metadata": {},
     "output_type": "execute_result"
    }
   ],
   "source": [
    "l"
   ]
  },
  {
   "cell_type": "code",
   "execution_count": 31,
   "id": "7e645973",
   "metadata": {
    "ExecuteTime": {
     "end_time": "2023-06-22T14:42:59.071319Z",
     "start_time": "2023-06-22T14:42:59.060321Z"
    }
   },
   "outputs": [],
   "source": [
    "l=[(i,j) for i in range(5) for j in range(5) if i==j]"
   ]
  },
  {
   "cell_type": "code",
   "execution_count": 32,
   "id": "149b06e6",
   "metadata": {
    "ExecuteTime": {
     "end_time": "2023-06-22T14:43:01.439285Z",
     "start_time": "2023-06-22T14:43:01.431287Z"
    }
   },
   "outputs": [
    {
     "data": {
      "text/plain": [
       "[(0, 0), (1, 1), (2, 2), (3, 3), (4, 4)]"
      ]
     },
     "execution_count": 32,
     "metadata": {},
     "output_type": "execute_result"
    }
   ],
   "source": [
    "l"
   ]
  },
  {
   "cell_type": "code",
   "execution_count": 15,
   "id": "54dce2a1",
   "metadata": {
    "ExecuteTime": {
     "end_time": "2023-06-23T03:43:57.448498Z",
     "start_time": "2023-06-23T03:43:57.437504Z"
    }
   },
   "outputs": [],
   "source": [
    "import math as m\n",
    "class polygon:\n",
    "    def __init__(self,n,R):\n",
    "        self.n=n\n",
    "        self.R=R\n",
    "        self.interior_angle=(self.n-2)*180/self.n\n",
    "        self.s=2*R*m.sin(7.14/self.n)\n",
    "        self.a=R*m.cos(7.14/self.n)\n",
    "        self.area=0.5*self.n*self.s*self.a\n",
    "        self.perimeter=self.n*self.s \n",
    "    def __repr__(self):\n",
    "        return \" polygon : n_sides: {0}, Circumradius : {1}\".format(self.n,self.R)\n",
    "    def __eq__(self,other):\n",
    "        if isinstance(other,self.__class__):\n",
    "            return self.n == other.n and self.R==other.n\n",
    "        else:\n",
    "            return NotImplemented\n",
    "            "
   ]
  },
  {
   "cell_type": "code",
   "execution_count": 16,
   "id": "00fd179a",
   "metadata": {
    "ExecuteTime": {
     "end_time": "2023-06-23T03:43:57.988988Z",
     "start_time": "2023-06-23T03:43:57.969428Z"
    }
   },
   "outputs": [],
   "source": [
    "p1=polygon(5,10)"
   ]
  },
  {
   "cell_type": "code",
   "execution_count": 17,
   "id": "082f1a42",
   "metadata": {
    "ExecuteTime": {
     "end_time": "2023-06-23T03:43:58.439214Z",
     "start_time": "2023-06-23T03:43:58.421218Z"
    }
   },
   "outputs": [],
   "source": [
    "p2=polygon(5,25)"
   ]
  },
  {
   "cell_type": "code",
   "execution_count": 18,
   "id": "0d56fa76",
   "metadata": {
    "ExecuteTime": {
     "end_time": "2023-06-23T03:43:58.747363Z",
     "start_time": "2023-06-23T03:43:58.731332Z"
    }
   },
   "outputs": [],
   "source": [
    "p3=polygon(5,10)"
   ]
  },
  {
   "cell_type": "code",
   "execution_count": 19,
   "id": "c3f56c85",
   "metadata": {
    "ExecuteTime": {
     "end_time": "2023-06-23T03:43:59.024656Z",
     "start_time": "2023-06-23T03:43:59.013669Z"
    }
   },
   "outputs": [
    {
     "data": {
      "text/plain": [
       "19.79643834208265"
      ]
     },
     "execution_count": 19,
     "metadata": {},
     "output_type": "execute_result"
    }
   ],
   "source": [
    "p1.s"
   ]
  },
  {
   "cell_type": "code",
   "execution_count": 20,
   "id": "aba96231",
   "metadata": {
    "ExecuteTime": {
     "end_time": "2023-06-23T03:43:59.337608Z",
     "start_time": "2023-06-23T03:43:59.328058Z"
    }
   },
   "outputs": [
    {
     "data": {
      "text/plain": [
       " polygon : n_sides: 5, Circumradius : 10"
      ]
     },
     "execution_count": 20,
     "metadata": {},
     "output_type": "execute_result"
    }
   ],
   "source": [
    "p1"
   ]
  },
  {
   "cell_type": "code",
   "execution_count": 21,
   "id": "2910f42f",
   "metadata": {
    "ExecuteTime": {
     "end_time": "2023-06-23T03:43:59.753598Z",
     "start_time": "2023-06-23T03:43:59.737573Z"
    }
   },
   "outputs": [
    {
     "data": {
      "text/plain": [
       "1.423115329841538"
      ]
     },
     "execution_count": 21,
     "metadata": {},
     "output_type": "execute_result"
    }
   ],
   "source": [
    "p1.a"
   ]
  },
  {
   "cell_type": "code",
   "execution_count": 22,
   "id": "834befc7",
   "metadata": {
    "ExecuteTime": {
     "end_time": "2023-06-23T03:44:00.420946Z",
     "start_time": "2023-06-23T03:44:00.405951Z"
    }
   },
   "outputs": [
    {
     "data": {
      "text/plain": [
       "False"
      ]
     },
     "execution_count": 22,
     "metadata": {},
     "output_type": "execute_result"
    }
   ],
   "source": [
    "p1 is p2"
   ]
  },
  {
   "cell_type": "code",
   "execution_count": 23,
   "id": "d1ecbc81",
   "metadata": {
    "ExecuteTime": {
     "end_time": "2023-06-23T03:44:00.870797Z",
     "start_time": "2023-06-23T03:44:00.849762Z"
    }
   },
   "outputs": [
    {
     "data": {
      "text/plain": [
       "False"
      ]
     },
     "execution_count": 23,
     "metadata": {},
     "output_type": "execute_result"
    }
   ],
   "source": [
    "p1==p2"
   ]
  },
  {
   "cell_type": "code",
   "execution_count": 24,
   "id": "0444489e",
   "metadata": {
    "ExecuteTime": {
     "end_time": "2023-06-23T03:44:01.691822Z",
     "start_time": "2023-06-23T03:44:01.678822Z"
    }
   },
   "outputs": [
    {
     "data": {
      "text/plain": [
       "False"
      ]
     },
     "execution_count": 24,
     "metadata": {},
     "output_type": "execute_result"
    }
   ],
   "source": [
    "p1==p3"
   ]
  },
  {
   "cell_type": "code",
   "execution_count": 25,
   "id": "95d82aa7",
   "metadata": {
    "ExecuteTime": {
     "end_time": "2023-06-23T03:44:02.798154Z",
     "start_time": "2023-06-23T03:44:02.775598Z"
    }
   },
   "outputs": [
    {
     "data": {
      "text/plain": [
       "False"
      ]
     },
     "execution_count": 25,
     "metadata": {},
     "output_type": "execute_result"
    }
   ],
   "source": [
    "p1 is p3"
   ]
  },
  {
   "cell_type": "code",
   "execution_count": 14,
   "id": "0f5971b9",
   "metadata": {
    "ExecuteTime": {
     "end_time": "2023-06-23T03:43:12.849788Z",
     "start_time": "2023-06-23T03:43:12.838267Z"
    }
   },
   "outputs": [
    {
     "data": {
      "text/plain": [
       " polygon : n_sides: 5, Circumradius : 10"
      ]
     },
     "execution_count": 14,
     "metadata": {},
     "output_type": "execute_result"
    }
   ],
   "source": [
    "p1"
   ]
  },
  {
   "cell_type": "code",
   "execution_count": 60,
   "id": "cd781e8f",
   "metadata": {
    "ExecuteTime": {
     "end_time": "2023-06-22T16:07:55.863894Z",
     "start_time": "2023-06-22T16:07:55.856593Z"
    }
   },
   "outputs": [
    {
     "data": {
      "text/plain": [
       " polygon : n_sides: 5, Circumradius : 10"
      ]
     },
     "execution_count": 60,
     "metadata": {},
     "output_type": "execute_result"
    }
   ],
   "source": [
    "p3"
   ]
  },
  {
   "cell_type": "code",
   "execution_count": 63,
   "id": "ab38aa19",
   "metadata": {
    "ExecuteTime": {
     "end_time": "2023-06-22T16:08:22.256103Z",
     "start_time": "2023-06-22T16:08:22.237628Z"
    }
   },
   "outputs": [
    {
     "data": {
      "text/plain": [
       "1.423115329841538"
      ]
     },
     "execution_count": 63,
     "metadata": {},
     "output_type": "execute_result"
    }
   ],
   "source": [
    "p1.a"
   ]
  },
  {
   "cell_type": "code",
   "execution_count": 64,
   "id": "6923418a",
   "metadata": {
    "ExecuteTime": {
     "end_time": "2023-06-22T16:08:27.379921Z",
     "start_time": "2023-06-22T16:08:27.369831Z"
    }
   },
   "outputs": [
    {
     "data": {
      "text/plain": [
       "1.423115329841538"
      ]
     },
     "execution_count": 64,
     "metadata": {},
     "output_type": "execute_result"
    }
   ],
   "source": [
    "p3.a"
   ]
  },
  {
   "cell_type": "code",
   "execution_count": 8,
   "id": "4f398050",
   "metadata": {
    "ExecuteTime": {
     "end_time": "2023-06-23T15:04:03.317625Z",
     "start_time": "2023-06-23T15:04:03.290172Z"
    }
   },
   "outputs": [],
   "source": [
    "import math as m\n",
    "class polygon1:\n",
    "    def __init__(self,n,R):\n",
    "        self.n=n\n",
    "        self.R=R\n",
    "        \n",
    "    def __repr__(self):\n",
    "        return \" polygon : n_sides: {0}, Circumradius : {1}\".format(self.n,self.R)\n",
    "    @property\n",
    "    def edges(self):\n",
    "        return self.n\n",
    "    @property\n",
    "    def vertices(self):\n",
    "        return self.n\n",
    "    @property\n",
    "    def interior_angle(self):\n",
    "        return (self.n-2)*180/self.n\n",
    "    @property\n",
    "    def edge_len(self):\n",
    "        return 2*R*m.sin(7.14/self.n)\n",
    "    @property\n",
    "    def apothem(self):\n",
    "        return R*m.cos(7.14/self.n)\n",
    "    @property\n",
    "    def area(self):\n",
    "        return 0.5*self.n*self.s*self.apothem\n",
    "    @property\n",
    "    def perimeter(self):\n",
    "        return self.n*self.s\n",
    "    def __eq__(self,other):\n",
    "        if isinstance(other,self.__class__):\n",
    "            return self.n == other.n and self.R==other.n\n",
    "        else:\n",
    "            return False"
   ]
  },
  {
   "cell_type": "code",
   "execution_count": 71,
   "id": "cdeb1d6b",
   "metadata": {
    "ExecuteTime": {
     "end_time": "2023-06-22T16:18:21.295418Z",
     "start_time": "2023-06-22T16:18:21.282404Z"
    }
   },
   "outputs": [],
   "source": [
    "p1=polygon1"
   ]
  },
  {
   "cell_type": "code",
   "execution_count": 74,
   "id": "0a394843",
   "metadata": {
    "ExecuteTime": {
     "end_time": "2023-06-22T16:18:43.130040Z",
     "start_time": "2023-06-22T16:18:43.124919Z"
    }
   },
   "outputs": [
    {
     "data": {
      "text/plain": [
       "<property at 0x175ebcfd7c0>"
      ]
     },
     "execution_count": 74,
     "metadata": {},
     "output_type": "execute_result"
    }
   ],
   "source": [
    "p1.apothem"
   ]
  },
  {
   "cell_type": "code",
   "execution_count": 2,
   "id": "b7aa7523",
   "metadata": {
    "ExecuteTime": {
     "end_time": "2023-06-23T12:12:04.673852Z",
     "start_time": "2023-06-23T12:12:04.660854Z"
    }
   },
   "outputs": [],
   "source": [
    "d=dict.fromkeys(['a',(0,0),100],'N/A')"
   ]
  },
  {
   "cell_type": "code",
   "execution_count": 3,
   "id": "afdd43f4",
   "metadata": {
    "ExecuteTime": {
     "end_time": "2023-06-23T12:12:07.834432Z",
     "start_time": "2023-06-23T12:12:07.816389Z"
    }
   },
   "outputs": [
    {
     "data": {
      "text/plain": [
       "{'a': 'N/A', (0, 0): 'N/A', 100: 'N/A'}"
      ]
     },
     "execution_count": 3,
     "metadata": {},
     "output_type": "execute_result"
    }
   ],
   "source": [
    "d"
   ]
  },
  {
   "cell_type": "code",
   "execution_count": 6,
   "id": "612720b0",
   "metadata": {
    "ExecuteTime": {
     "end_time": "2023-06-23T12:12:57.662235Z",
     "start_time": "2023-06-23T12:12:57.655008Z"
    }
   },
   "outputs": [],
   "source": [
    "d1=dict.fromkeys(['a',(0,0),100],['1',2,3])"
   ]
  },
  {
   "cell_type": "code",
   "execution_count": 7,
   "id": "57a9b1bb",
   "metadata": {
    "ExecuteTime": {
     "end_time": "2023-06-23T12:12:58.221737Z",
     "start_time": "2023-06-23T12:12:58.205769Z"
    }
   },
   "outputs": [
    {
     "data": {
      "text/plain": [
       "{'a': ['1', 2, 3], (0, 0): ['1', 2, 3], 100: ['1', 2, 3]}"
      ]
     },
     "execution_count": 7,
     "metadata": {},
     "output_type": "execute_result"
    }
   ],
   "source": [
    "d1"
   ]
  },
  {
   "cell_type": "code",
   "execution_count": 9,
   "id": "6068771b",
   "metadata": {
    "ExecuteTime": {
     "end_time": "2023-06-23T15:04:13.739807Z",
     "start_time": "2023-06-23T15:04:13.730157Z"
    }
   },
   "outputs": [
    {
     "data": {
      "text/plain": [
       "mappingproxy({'__module__': '__main__',\n",
       "              '__init__': <function __main__.polygon1.__init__(self, n, R)>,\n",
       "              '__repr__': <function __main__.polygon1.__repr__(self)>,\n",
       "              'edges': <property at 0x1b7874d07c0>,\n",
       "              'vertices': <property at 0x1b78944e220>,\n",
       "              'interior_angle': <property at 0x1b78944e270>,\n",
       "              'edge_len': <property at 0x1b78944e2c0>,\n",
       "              'apothem': <property at 0x1b78944e310>,\n",
       "              'area': <property at 0x1b78944e360>,\n",
       "              'perimeter': <property at 0x1b78944e3b0>,\n",
       "              '__eq__': <function __main__.polygon1.__eq__(self, other)>,\n",
       "              '__dict__': <attribute '__dict__' of 'polygon1' objects>,\n",
       "              '__weakref__': <attribute '__weakref__' of 'polygon1' objects>,\n",
       "              '__doc__': None,\n",
       "              '__hash__': None})"
      ]
     },
     "execution_count": 9,
     "metadata": {},
     "output_type": "execute_result"
    }
   ],
   "source": [
    "polygon1.__dict__"
   ]
  },
  {
   "cell_type": "code",
   "execution_count": 26,
   "id": "72537f51",
   "metadata": {
    "ExecuteTime": {
     "end_time": "2023-07-05T04:22:37.926978Z",
     "start_time": "2023-07-05T04:22:37.911601Z"
    }
   },
   "outputs": [],
   "source": [
    "text='Hi iwant to create a schift schedule for all operation employees'\n",
    "e=dict()\n",
    "\n",
    "for i in text.lower():\n",
    "    e[i]=e.get(i,0)+1"
   ]
  },
  {
   "cell_type": "code",
   "execution_count": 16,
   "id": "fc5727df",
   "metadata": {
    "ExecuteTime": {
     "end_time": "2023-07-05T04:21:31.466329Z",
     "start_time": "2023-07-05T04:21:31.451330Z"
    }
   },
   "outputs": [
    {
     "data": {
      "text/plain": [
       "{'h': 3,\n",
       " 'i': 4,\n",
       " ' ': 10,\n",
       " 'w': 1,\n",
       " 'a': 5,\n",
       " 'n': 2,\n",
       " 't': 5,\n",
       " 'o': 5,\n",
       " 'c': 3,\n",
       " 'r': 3,\n",
       " 'e': 8,\n",
       " 's': 3,\n",
       " 'f': 2,\n",
       " 'd': 1,\n",
       " 'u': 1,\n",
       " 'l': 4,\n",
       " 'p': 2,\n",
       " 'm': 1,\n",
       " 'y': 1}"
      ]
     },
     "execution_count": 16,
     "metadata": {},
     "output_type": "execute_result"
    }
   ],
   "source": [
    "e"
   ]
  },
  {
   "cell_type": "code",
   "execution_count": 29,
   "id": "e3b9552e",
   "metadata": {
    "ExecuteTime": {
     "end_time": "2023-07-05T04:33:18.652748Z",
     "start_time": "2023-07-05T04:33:18.637894Z"
    }
   },
   "outputs": [
    {
     "data": {
      "text/plain": [
       "{'H': 1,\n",
       " 'i': 4,\n",
       " 'w': 1,\n",
       " 'a': 5,\n",
       " 'n': 2,\n",
       " 't': 5,\n",
       " 'o': 5,\n",
       " 'c': 3,\n",
       " 'r': 3,\n",
       " 'e': 8,\n",
       " 's': 3,\n",
       " 'h': 2,\n",
       " 'f': 2,\n",
       " 'd': 1,\n",
       " 'u': 1,\n",
       " 'l': 4,\n",
       " 'p': 2,\n",
       " 'm': 1,\n",
       " 'y': 1}"
      ]
     },
     "execution_count": 29,
     "metadata": {},
     "output_type": "execute_result"
    }
   ],
   "source": [
    "import string \n",
    "e=dict()\n",
    "for i in text:\n",
    "    if i in string.ascii_letters:\n",
    "        e[i]=e.get(i,0)+1\n",
    "e"
   ]
  },
  {
   "cell_type": "code",
   "execution_count": 13,
   "id": "9ad4221a",
   "metadata": {
    "ExecuteTime": {
     "end_time": "2023-07-09T05:54:40.193489Z",
     "start_time": "2023-07-09T05:54:40.177490Z"
    }
   },
   "outputs": [],
   "source": [
    "class myclass:\n",
    "    def say_hello(): # class attribute\n",
    "        return 'hello world'\n",
    "        "
   ]
  },
  {
   "cell_type": "code",
   "execution_count": 14,
   "id": "f9990223",
   "metadata": {
    "ExecuteTime": {
     "end_time": "2023-07-09T05:54:40.611706Z",
     "start_time": "2023-07-09T05:54:40.597191Z"
    }
   },
   "outputs": [],
   "source": [
    "a=myclass()"
   ]
  },
  {
   "cell_type": "code",
   "execution_count": 15,
   "id": "924801b9",
   "metadata": {
    "ExecuteTime": {
     "end_time": "2023-07-09T05:54:40.796884Z",
     "start_time": "2023-07-09T05:54:40.790878Z"
    }
   },
   "outputs": [
    {
     "ename": "TypeError",
     "evalue": "say_hello() takes 0 positional arguments but 1 was given",
     "output_type": "error",
     "traceback": [
      "\u001b[1;31m---------------------------------------------------------------------------\u001b[0m",
      "\u001b[1;31mTypeError\u001b[0m                                 Traceback (most recent call last)",
      "\u001b[1;32m~\\AppData\\Local\\Temp\\ipykernel_30496\\1227467195.py\u001b[0m in \u001b[0;36m<module>\u001b[1;34m\u001b[0m\n\u001b[1;32m----> 1\u001b[1;33m \u001b[0ma\u001b[0m\u001b[1;33m.\u001b[0m\u001b[0msay_hello\u001b[0m\u001b[1;33m(\u001b[0m\u001b[1;33m)\u001b[0m\u001b[1;33m\u001b[0m\u001b[1;33m\u001b[0m\u001b[0m\n\u001b[0m",
      "\u001b[1;31mTypeError\u001b[0m: say_hello() takes 0 positional arguments but 1 was given"
     ]
    }
   ],
   "source": [
    "a.say_hello()"
   ]
  },
  {
   "cell_type": "code",
   "execution_count": 16,
   "id": "4f15e6c6",
   "metadata": {
    "ExecuteTime": {
     "end_time": "2023-07-09T05:54:40.967111Z",
     "start_time": "2023-07-09T05:54:40.954112Z"
    }
   },
   "outputs": [
    {
     "data": {
      "text/plain": [
       "'hello world'"
      ]
     },
     "execution_count": 16,
     "metadata": {},
     "output_type": "execute_result"
    }
   ],
   "source": [
    "myclass.say_hello()"
   ]
  },
  {
   "cell_type": "code",
   "execution_count": 17,
   "id": "b9641157",
   "metadata": {
    "ExecuteTime": {
     "end_time": "2023-07-09T05:54:41.123838Z",
     "start_time": "2023-07-09T05:54:41.119797Z"
    }
   },
   "outputs": [],
   "source": [
    "class class1:\n",
    "    def say_hello(self):  # method\n",
    "        return 'hello world'"
   ]
  },
  {
   "cell_type": "code",
   "execution_count": 18,
   "id": "fa6eb2f0",
   "metadata": {
    "ExecuteTime": {
     "end_time": "2023-07-09T05:54:41.295124Z",
     "start_time": "2023-07-09T05:54:41.279093Z"
    }
   },
   "outputs": [],
   "source": [
    "b=class1()"
   ]
  },
  {
   "cell_type": "code",
   "execution_count": 19,
   "id": "7af0ee29",
   "metadata": {
    "ExecuteTime": {
     "end_time": "2023-07-09T05:54:41.451549Z",
     "start_time": "2023-07-09T05:54:41.445549Z"
    }
   },
   "outputs": [
    {
     "data": {
      "text/plain": [
       "'hello world'"
      ]
     },
     "execution_count": 19,
     "metadata": {},
     "output_type": "execute_result"
    }
   ],
   "source": [
    "b.say_hello()"
   ]
  },
  {
   "cell_type": "code",
   "execution_count": 23,
   "id": "c6be88fe",
   "metadata": {
    "ExecuteTime": {
     "end_time": "2023-07-09T06:00:57.760100Z",
     "start_time": "2023-07-09T06:00:57.750402Z"
    }
   },
   "outputs": [
    {
     "data": {
      "text/plain": [
       "<bound method class1.say_hello of <__main__.class1 object at 0x000001779E59EA90>>"
      ]
     },
     "execution_count": 23,
     "metadata": {},
     "output_type": "execute_result"
    }
   ],
   "source": [
    "b.say_hello"
   ]
  },
  {
   "cell_type": "code",
   "execution_count": 20,
   "id": "c7527261",
   "metadata": {
    "ExecuteTime": {
     "end_time": "2023-07-09T05:58:01.965960Z",
     "start_time": "2023-07-09T05:58:01.947006Z"
    }
   },
   "outputs": [
    {
     "data": {
      "text/plain": [
       "<function __main__.class1.say_hello(self)>"
      ]
     },
     "execution_count": 20,
     "metadata": {},
     "output_type": "execute_result"
    }
   ],
   "source": [
    "b.say_hello.__func__"
   ]
  },
  {
   "cell_type": "code",
   "execution_count": 21,
   "id": "e6bde09f",
   "metadata": {
    "ExecuteTime": {
     "end_time": "2023-07-09T05:58:44.031916Z",
     "start_time": "2023-07-09T05:58:44.011884Z"
    }
   },
   "outputs": [
    {
     "data": {
      "text/plain": [
       "<__main__.class1 at 0x1779e59ea90>"
      ]
     },
     "execution_count": 21,
     "metadata": {},
     "output_type": "execute_result"
    }
   ],
   "source": [
    "b.say_hello.__self__"
   ]
  },
  {
   "cell_type": "code",
   "execution_count": 22,
   "id": "5606d24a",
   "metadata": {
    "ExecuteTime": {
     "end_time": "2023-07-09T05:59:05.001900Z",
     "start_time": "2023-07-09T05:59:04.992921Z"
    }
   },
   "outputs": [
    {
     "data": {
      "text/plain": [
       "<__main__.myclass at 0x1779e5867f0>"
      ]
     },
     "execution_count": 22,
     "metadata": {},
     "output_type": "execute_result"
    }
   ],
   "source": [
    "a.say_hello.__self__"
   ]
  },
  {
   "cell_type": "code",
   "execution_count": 5,
   "id": "478f256f",
   "metadata": {
    "ExecuteTime": {
     "end_time": "2023-07-17T13:34:55.839975Z",
     "start_time": "2023-07-17T13:34:55.821848Z"
    }
   },
   "outputs": [],
   "source": [
    "class shape:\n",
    "    pass\n",
    "class ellipse(shape):\n",
    "    pass\n",
    "class circle(ellipse):\n",
    "    pass\n",
    "class polygon(shape):\n",
    "    pass\n",
    "class rectangle(polygon):\n",
    "    pass\n",
    "class square(rectangle,polygon):\n",
    "    pass\n",
    "class triangle(polygon):\n",
    "    pass"
   ]
  },
  {
   "cell_type": "code",
   "execution_count": 2,
   "id": "06ff204c",
   "metadata": {
    "ExecuteTime": {
     "end_time": "2023-07-17T13:32:11.495804Z",
     "start_time": "2023-07-17T13:32:11.474807Z"
    }
   },
   "outputs": [
    {
     "data": {
      "text/plain": [
       "True"
      ]
     },
     "execution_count": 2,
     "metadata": {},
     "output_type": "execute_result"
    }
   ],
   "source": [
    "issubclass(triangle,shape)"
   ]
  },
  {
   "cell_type": "code",
   "execution_count": 3,
   "id": "b4fc06ba",
   "metadata": {
    "ExecuteTime": {
     "end_time": "2023-07-17T13:33:46.737543Z",
     "start_time": "2023-07-17T13:33:46.726361Z"
    }
   },
   "outputs": [],
   "source": [
    "s=triangle()"
   ]
  },
  {
   "cell_type": "code",
   "execution_count": 4,
   "id": "d88b2e48",
   "metadata": {
    "ExecuteTime": {
     "end_time": "2023-07-17T13:33:56.374634Z",
     "start_time": "2023-07-17T13:33:56.357587Z"
    }
   },
   "outputs": [
    {
     "data": {
      "text/plain": [
       "True"
      ]
     },
     "execution_count": 4,
     "metadata": {},
     "output_type": "execute_result"
    }
   ],
   "source": [
    "isinstance(s,shape)"
   ]
  },
  {
   "cell_type": "code",
   "execution_count": null,
   "id": "c040332b",
   "metadata": {},
   "outputs": [],
   "source": []
  }
 ],
 "metadata": {
  "kernelspec": {
   "display_name": "Python 3 (ipykernel)",
   "language": "python",
   "name": "python3"
  },
  "language_info": {
   "codemirror_mode": {
    "name": "ipython",
    "version": 3
   },
   "file_extension": ".py",
   "mimetype": "text/x-python",
   "name": "python",
   "nbconvert_exporter": "python",
   "pygments_lexer": "ipython3",
   "version": "3.9.13"
  }
 },
 "nbformat": 4,
 "nbformat_minor": 5
}
