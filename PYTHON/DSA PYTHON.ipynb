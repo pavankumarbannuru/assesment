{
 "cells": [
  {
   "cell_type": "code",
   "execution_count": 10,
   "id": "1db485b4",
   "metadata": {
    "ExecuteTime": {
     "end_time": "2023-07-10T12:24:33.186979Z",
     "start_time": "2023-07-10T12:24:33.171641Z"
    }
   },
   "outputs": [],
   "source": [
    "l=[10,-1,25,48,1000,50,7,8,123]"
   ]
  },
  {
   "cell_type": "code",
   "execution_count": 4,
   "id": "058e2164",
   "metadata": {
    "ExecuteTime": {
     "end_time": "2023-07-10T12:20:15.896874Z",
     "start_time": "2023-07-10T12:20:15.883862Z"
    }
   },
   "outputs": [],
   "source": [
    "def sort(l):\n",
    "    for i in range(len(l)-1):\n",
    "        if l[i]>l[i+1]:\n",
    "            l[i],l[i+1]=l[i+1],l[i]\n",
    "            return sort(l)\n",
    "    return l   "
   ]
  },
  {
   "cell_type": "code",
   "execution_count": 5,
   "id": "d68b31f5",
   "metadata": {
    "ExecuteTime": {
     "end_time": "2023-07-10T12:20:16.227263Z",
     "start_time": "2023-07-10T12:20:16.210264Z"
    }
   },
   "outputs": [
    {
     "data": {
      "text/plain": [
       "[-1, 7, 8, 10, 25, 48, 50, 123, 1000]"
      ]
     },
     "execution_count": 5,
     "metadata": {},
     "output_type": "execute_result"
    }
   ],
   "source": [
    "sort(l)"
   ]
  },
  {
   "cell_type": "code",
   "execution_count": 11,
   "id": "250af837",
   "metadata": {
    "ExecuteTime": {
     "end_time": "2023-07-10T12:24:36.055386Z",
     "start_time": "2023-07-10T12:24:36.043386Z"
    }
   },
   "outputs": [
    {
     "data": {
      "text/plain": [
       "[10, -1, 25, 48, 1000, 50, 7, 8, 123]"
      ]
     },
     "execution_count": 11,
     "metadata": {},
     "output_type": "execute_result"
    }
   ],
   "source": [
    "l"
   ]
  },
  {
   "cell_type": "code",
   "execution_count": 8,
   "id": "e3a796dc",
   "metadata": {
    "ExecuteTime": {
     "end_time": "2023-07-10T12:24:09.164526Z",
     "start_time": "2023-07-10T12:24:09.155525Z"
    }
   },
   "outputs": [],
   "source": [
    "def sort1(l):\n",
    "    a=0\n",
    "    k=l[a]\n",
    "    for i in range(1,len(l)-1):\n",
    "        if k>l[i]:\n",
    "            l[a],l[i]=l[i],l[a]\n",
    "            a=a+1\n",
    "        else:\n",
    "            a=a+1\n",
    "    return l\n",
    "            \n",
    "    "
   ]
  },
  {
   "cell_type": "code",
   "execution_count": 9,
   "id": "a1440542",
   "metadata": {
    "ExecuteTime": {
     "end_time": "2023-07-10T12:24:09.739622Z",
     "start_time": "2023-07-10T12:24:09.720616Z"
    }
   },
   "outputs": [
    {
     "data": {
      "text/plain": [
       "[-1, 10, 25, 48, 1000, 7, 8, 50, 123]"
      ]
     },
     "execution_count": 9,
     "metadata": {},
     "output_type": "execute_result"
    }
   ],
   "source": [
    "sort1(l)"
   ]
  },
  {
   "cell_type": "markdown",
   "id": "47b5fea4",
   "metadata": {},
   "source": [
    "<aside>\n",
    "💡 Question 1\n",
    "\n",
    "Q1. Given an array of size N. The task is to find the maximum and the\n",
    "minimum element of the array using the minimum number of comparisons.\n",
    "Examples:\n",
    "Input: arr[] = {3, 5, 4, 1, 9}\n",
    "Output: Minimum element is: 1\n",
    "Maximum element is: 9\n",
    "\n",
    "TC : O(n)\n",
    "SC: O(n)\n",
    "\n",
    "</aside>"
   ]
  },
  {
   "cell_type": "code",
   "execution_count": 15,
   "id": "907dec92",
   "metadata": {
    "ExecuteTime": {
     "end_time": "2023-07-10T12:34:47.103066Z",
     "start_time": "2023-07-10T12:34:47.086603Z"
    }
   },
   "outputs": [
    {
     "ename": "IndentationError",
     "evalue": "unindent does not match any outer indentation level (<tokenize>, line 6)",
     "output_type": "error",
     "traceback": [
      "\u001b[1;36m  File \u001b[1;32m\"<tokenize>\"\u001b[1;36m, line \u001b[1;32m6\u001b[0m\n\u001b[1;33m    def getMinMax(arr: list, n: int) -> pair:\u001b[0m\n\u001b[1;37m    ^\u001b[0m\n\u001b[1;31mIndentationError\u001b[0m\u001b[1;31m:\u001b[0m unindent does not match any outer indentation level\n"
     ]
    }
   ],
   "source": [
    "class pair:\n",
    "\tdef __init__(self):\n",
    "\t\tself.min = 0\n",
    "\t\tself.max = 0\n",
    " \n",
    "    def getMinMax(arr: list, n: int) -> pair:\n",
    "        minmax = pair()\n",
    " \n",
    "\t# If there is only one element then return it as min and max both\n",
    "\tif n == 1:\n",
    "\t\tminmax.max = arr[0]\n",
    "\t\tminmax.min = arr[0]\n",
    "\t\treturn minmax\n",
    " \n",
    "\t# If there are more than one elements, then initialize min\n",
    "\t# and max\n",
    "\tif arr[0] > arr[1]:\n",
    "\t\tminmax.max = arr[0]\n",
    "\t\tminmax.min = arr[1]\n",
    "\telse:\n",
    "\t\tminmax.max = arr[1]\n",
    "\t\tminmax.min = arr[0]\n",
    " \n",
    "\tfor i in range(2, n):\n",
    "\t\tif arr[i] > minmax.max:\n",
    "\t\t\tminmax.max = arr[i]\n",
    "\t\telif arr[i] < minmax.min:\n",
    "\t\t\tminmax.min = arr[i]\n",
    " \n",
    "\treturn minmax\n",
    " \n",
    "# Driver Code\n",
    "if __name__ == \"__main__\":\n",
    "\tarr = [1000, 11, 445, 1, 330, 3000]\n",
    "\tarr_size = 6\n",
    "\tminmax = getMinMax(arr, arr_size)\n",
    "\tprint(\"Minimum element is\", minmax.min)\n",
    "\tprint(\"Maximum element is\", minmax.max)"
   ]
  },
  {
   "cell_type": "code",
   "execution_count": null,
   "id": "dd364af6",
   "metadata": {},
   "outputs": [],
   "source": [
    "<aside>\n",
    "💡 Question 2\n",
    "\n",
    "You are given an array prices where prices[i] is the price of a given stock\n",
    "on the ith day.\n",
    "You want to maximize your profit by choosing a single day to buy one stock\n",
    "and choosing a different day in the future to sell that stock.\n",
    "Return the maximum profit you can achieve from this transaction. If you\n",
    "cannot achieve any profit, return 0.\n",
    "Example :\n",
    "Input: prices = [7,1,5,3,6,4]\n",
    "Output: 5\n",
    "Explanation: Buy on day 2 (price = 1) and sell on day 5 (price = 6), profit = 6-1\n",
    "= 5.\n",
    "Note that buying on day 2 and selling on day 1 is not allowed because you\n",
    "must buy before you sell.\n",
    "Solution:\n",
    "\n",
    "</aside>"
   ]
  },
  {
   "cell_type": "code",
   "execution_count": 71,
   "id": "f6ce1e51",
   "metadata": {
    "ExecuteTime": {
     "end_time": "2023-07-10T13:36:46.218840Z",
     "start_time": "2023-07-10T13:36:46.207945Z"
    }
   },
   "outputs": [],
   "source": [
    "l=[1,7,5,3,-1,6,4]"
   ]
  },
  {
   "cell_type": "code",
   "execution_count": 72,
   "id": "81a94a33",
   "metadata": {
    "ExecuteTime": {
     "end_time": "2023-07-10T13:36:46.825288Z",
     "start_time": "2023-07-10T13:36:46.810776Z"
    }
   },
   "outputs": [],
   "source": [
    "def share(l):\n",
    "    min=l[0]\n",
    "    max=0\n",
    "    for i in l[1:]:\n",
    "        if i<min:\n",
    "            min=i \n",
    "        elif i>max:\n",
    "            max=i\n",
    "    profit = max-min\n",
    "    return profit"
   ]
  },
  {
   "cell_type": "code",
   "execution_count": 73,
   "id": "7ec3e2f4",
   "metadata": {
    "ExecuteTime": {
     "end_time": "2023-07-10T13:36:47.228091Z",
     "start_time": "2023-07-10T13:36:47.218496Z"
    }
   },
   "outputs": [
    {
     "data": {
      "text/plain": [
       "8"
      ]
     },
     "execution_count": 73,
     "metadata": {},
     "output_type": "execute_result"
    }
   ],
   "source": [
    "share(l)"
   ]
  },
  {
   "cell_type": "code",
   "execution_count": null,
   "id": "84236639",
   "metadata": {},
   "outputs": [],
   "source": [
    "class Solution:\n",
    "    def maxProfit(self, prices: List[int]) -> int:\n",
    "        min_price = float('inf')\n",
    "        max_profit = 0\n",
    "        for i in range(len(prices)):\n",
    "            if prices[i] < min_price:\n",
    "                min_price = prices[i]\n",
    "            elif prices[i] - min_price > max_profit:\n",
    "                max_profit = prices[i] - min_price\n",
    " \n",
    "        return max_profit"
   ]
  },
  {
   "cell_type": "code",
   "execution_count": null,
   "id": "0d39cf3b",
   "metadata": {},
   "outputs": [],
   "source": [
    "<aside>\n",
    "💡 Question 3\n",
    "\n",
    "Given an integer array nums, find a subarray that has the largest product,\n",
    "and return the product.\n",
    "The test cases are generated so that the answer will fit in a 32-bit integer.\n",
    "Example:\n",
    "Input: nums = [2,3,-2,4]\n",
    "Output: 6\n",
    "Explanation: [2,3] has the largest product 6.\n",
    "\n",
    "</aside>"
   ]
  },
  {
   "cell_type": "code",
   "execution_count": null,
   "id": "40b1fafa",
   "metadata": {},
   "outputs": [],
   "source": [
    "class Solution:\n",
    "    def maxProduct(self, nums: List[int]) -> int:\n",
    "        if len(nums) == 0:\n",
    "            return 0\n",
    " \n",
    "        max_so_far = nums[0]\n",
    "        min_so_far = nums[0]\n",
    "        result = max_so_far\n",
    " \n",
    "        for i in range(1, len(nums)):\n",
    "            curr = nums[i]\n",
    "            temp_max = max(curr, max_so_far * curr, min_so_far * curr)\n",
    "            min_so_far = min(curr, max_so_far * curr, min_so_far * curr)\n",
    " \n",
    "            max_so_far = temp_max\n",
    " \n",
    "            result = max(max_so_far, result)\n",
    " \n",
    "        return result"
   ]
  },
  {
   "cell_type": "code",
   "execution_count": null,
   "id": "c8864e99",
   "metadata": {},
   "outputs": [],
   "source": [
    "<aside>\n",
    "💡 Question 4\n",
    "\n",
    "Given an integer array nums, return all the triplets [nums[i], nums[j],\n",
    "nums[k]] such that i != j, i != k, and j != k, and nums[i] + nums[j] + nums[k] ==\n",
    "0.\n",
    "Notice that the solution set must not contain duplicate triplets.\n",
    "Example:\n",
    "Input: nums = [-1,0,1,2,-1,-4]\n",
    "Output: [[-1,-1,2],[-1,0,1]]\n",
    "Explanation:\n",
    "nums[0] + nums[1] + nums[2] = (-1) + 0 + 1 = 0.\n",
    "nums[1] + nums[2] + nums[4] = 0 + 1 + (-1) = 0.\n",
    "nums[0] + nums[3] + nums[4] = (-1) + 2 + (-1) = 0.\n",
    "The distinct triplets are [-1,0,1] and [-1,-1,2].\n",
    "Notice that the order of the output and the order of the triplets does not\n",
    "matter.\n",
    "\n",
    "</aside>"
   ]
  },
  {
   "cell_type": "code",
   "execution_count": null,
   "id": "2afa2196",
   "metadata": {},
   "outputs": [],
   "source": [
    "class Solution:\n",
    "    def threeSum(self, nums: List[int]) -> List[List[int]]:\n",
    "        res = []\n",
    "        nums.sort()\n",
    "        for i in range(len(nums)):\n",
    "            if nums[i] > 0:\n",
    "                break\n",
    "            if i == 0 or nums[i - 1] != nums[i]:\n",
    "                self.twoSumII(nums, i, res)\n",
    "        return res\n",
    " \n",
    "    def twoSumII(self, nums: List[int], i: int, res: List[List[int]]):\n",
    "        lo, hi = i + 1, len(nums) - 1\n",
    "        while (lo < hi):\n",
    "            sum = nums[i] + nums[lo] + nums[hi]\n",
    "            if sum < 0:\n",
    "                lo += 1\n",
    "            elif sum > 0:\n",
    "                hi -= 1\n",
    "            else:\n",
    "                res.append([nums[i], nums[lo], nums[hi]])\n",
    "                lo += 1\n",
    "                hi -= 1\n",
    "                while lo < hi and nums[lo] == nums[lo - 1]:\n",
    "                    lo += 1"
   ]
  },
  {
   "cell_type": "code",
   "execution_count": null,
   "id": "a9b5fd46",
   "metadata": {},
   "outputs": [],
   "source": [
    "<aside>\n",
    "💡 Question 5\n",
    "\n",
    "Given an integer array nums and an integer k, return the kth largest\n",
    "element in the array. Note that it is the kth largest element in the sorted order,\n",
    "not the kth distinct element.\n",
    "Example 1:\n",
    "Input: nums = [3,2,1,5,6,4], k = 2\n",
    "Output: 5\n",
    "\n",
    "</aside>"
   ]
  },
  {
   "cell_type": "code",
   "execution_count": null,
   "id": "1364b74b",
   "metadata": {},
   "outputs": [],
   "source": [
    "class Solution:\n",
    "    def findKthLargest(self, nums, k):\n",
    "        \"\"\"\n",
    "        :type nums: List[int]\n",
    "        :type k: int\n",
    "        :rtype: int\n",
    "        \"\"\"\n",
    "        return heapq.nlargest(k, nums)[-1]"
   ]
  },
  {
   "cell_type": "code",
   "execution_count": null,
   "id": "55e894a1",
   "metadata": {},
   "outputs": [],
   "source": [
    "<aside>\n",
    "💡 Question 6\n",
    "\n",
    "Given an integer array nums and an integer k, return the kth smallest\n",
    "element in the array. Note that it is the kth smallest element in the sorted\n",
    "order, not the kth distinct element.\n",
    "Example 1:\n",
    "Input: nums = [3,2,1,5,6,4], k = 2\n",
    "Output: 2\n",
    "\n",
    "</aside>"
   ]
  },
  {
   "cell_type": "code",
   "execution_count": null,
   "id": "7e4f76cf",
   "metadata": {},
   "outputs": [],
   "source": [
    "import heapq\n",
    " \n",
    "def find_kth_smallest(nums, k):\n",
    "    return heapq.nsmallest(k, nums)[-1]"
   ]
  },
  {
   "cell_type": "markdown",
   "id": "a81763e2",
   "metadata": {},
   "source": [
    "# sorting methods"
   ]
  },
  {
   "cell_type": "code",
   "execution_count": 120,
   "id": "d545f336",
   "metadata": {
    "ExecuteTime": {
     "end_time": "2023-07-12T11:47:51.558741Z",
     "start_time": "2023-07-12T11:47:51.547954Z"
    }
   },
   "outputs": [],
   "source": [
    "l=[20,14,7,8,2,2,55,1]"
   ]
  },
  {
   "cell_type": "code",
   "execution_count": 133,
   "id": "c7adfbe7",
   "metadata": {
    "ExecuteTime": {
     "end_time": "2023-07-12T11:51:33.617307Z",
     "start_time": "2023-07-12T11:51:33.610306Z"
    }
   },
   "outputs": [
    {
     "data": {
      "text/plain": [
       "[20, 14, 7, 8, 2, 2, 55, 1]"
      ]
     },
     "execution_count": 133,
     "metadata": {},
     "output_type": "execute_result"
    }
   ],
   "source": [
    "l=[20,14,7,8,2,2,55,1]\n",
    "for i in range(len(l)-1): \n",
    "    min1=l[i]\n",
    "    for i in range(i+1,len(l)):\n",
    "        if l[i]<min1:\n",
    "            min1=l[i]\n",
    "    k=l.index(min1,i)\n",
    "    if l[i]!=l[k:]:\n",
    "        l[i],l[k]=l[k],l[i]\n",
    "\n",
    "l\n",
    "       "
   ]
  },
  {
   "cell_type": "code",
   "execution_count": 136,
   "id": "a6504a46",
   "metadata": {
    "ExecuteTime": {
     "end_time": "2023-07-12T11:54:12.182940Z",
     "start_time": "2023-07-12T11:54:12.167654Z"
    }
   },
   "outputs": [
    {
     "data": {
      "text/plain": [
       "[1, 2, 2, 7, 8, 14, 20, 55]"
      ]
     },
     "execution_count": 136,
     "metadata": {},
     "output_type": "execute_result"
    }
   ],
   "source": [
    "for i in range(len(l)-1):\n",
    "    min_v=min(l[i:])\n",
    "    min_ind=l.index(min_v,i)\n",
    "    l[i],l[min_ind]=l[min_ind],l[i]\n",
    "l    "
   ]
  },
  {
   "cell_type": "code",
   "execution_count": 22,
   "id": "11ca9345",
   "metadata": {
    "ExecuteTime": {
     "end_time": "2023-07-12T15:31:55.798076Z",
     "start_time": "2023-07-12T15:31:55.790557Z"
    }
   },
   "outputs": [
    {
     "data": {
      "text/plain": [
       "548"
      ]
     },
     "execution_count": 22,
     "metadata": {},
     "output_type": "execute_result"
    }
   ],
   "source": [
    "# def is_divisible_by_last_digit(arr, D):\n",
    "last_digit = \"\"\n",
    "arr=[15,14,18]   \n",
    "for num in arr:\n",
    "    last_digit += str(num)[-1]  # Extract the last digit of each number\n",
    "    \n",
    "last_digit_num = int(last_digit)\n",
    "    \n",
    "#     return last_digit_num % D == 0\n",
    "last_digit_num"
   ]
  },
  {
   "cell_type": "code",
   "execution_count": 159,
   "id": "4c2b73cb",
   "metadata": {
    "ExecuteTime": {
     "end_time": "2023-07-12T12:23:28.471298Z",
     "start_time": "2023-07-12T12:23:24.722749Z"
    }
   },
   "outputs": [
    {
     "name": "stdout",
     "output_type": "stream",
     "text": [
      "25\n",
      "63\n"
     ]
    }
   ],
   "source": [
    "N = int(input())\n",
    "data = [int(x) for x in input().split()]\n",
    "k=''\n",
    "for i in data:\n",
    "    i=str(i)\n",
    "    k=k+i[-1]\n",
    "#     if int(k)/10==0:\n",
    "#         print('yes')\n",
    "#     else:\n",
    "#         print('no') "
   ]
  },
  {
   "cell_type": "code",
   "execution_count": 160,
   "id": "88ea67a2",
   "metadata": {
    "ExecuteTime": {
     "end_time": "2023-07-12T12:23:30.105759Z",
     "start_time": "2023-07-12T12:23:30.089755Z"
    }
   },
   "outputs": [
    {
     "data": {
      "text/plain": [
       "'3'"
      ]
     },
     "execution_count": 160,
     "metadata": {},
     "output_type": "execute_result"
    }
   ],
   "source": [
    "k"
   ]
  },
  {
   "cell_type": "code",
   "execution_count": 154,
   "id": "8d428a69",
   "metadata": {
    "ExecuteTime": {
     "end_time": "2023-07-12T12:21:33.427674Z",
     "start_time": "2023-07-12T12:21:33.417675Z"
    }
   },
   "outputs": [
    {
     "ename": "ValueError",
     "evalue": "invalid literal for int() with base 10: '[65]'",
     "output_type": "error",
     "traceback": [
      "\u001b[1;31m---------------------------------------------------------------------------\u001b[0m",
      "\u001b[1;31mValueError\u001b[0m                                Traceback (most recent call last)",
      "\u001b[1;32m~\\AppData\\Local\\Temp\\ipykernel_11356\\3681117209.py\u001b[0m in \u001b[0;36m<module>\u001b[1;34m\u001b[0m\n\u001b[1;32m----> 1\u001b[1;33m \u001b[0mint\u001b[0m\u001b[1;33m(\u001b[0m\u001b[0mk\u001b[0m\u001b[1;33m)\u001b[0m\u001b[1;33m\u001b[0m\u001b[1;33m\u001b[0m\u001b[0m\n\u001b[0m",
      "\u001b[1;31mValueError\u001b[0m: invalid literal for int() with base 10: '[65]'"
     ]
    }
   ],
   "source": [
    "int(k)"
   ]
  },
  {
   "cell_type": "markdown",
   "id": "81a7307a",
   "metadata": {},
   "source": [
    "Question 1: Write a Python program to take an input string and return true iff the string contains only alphabets, \n",
    "numbers and underscores.\n",
    " \n"
   ]
  },
  {
   "cell_type": "code",
   "execution_count": 207,
   "id": "312f2ee5",
   "metadata": {
    "ExecuteTime": {
     "end_time": "2023-07-12T12:51:22.024551Z",
     "start_time": "2023-07-12T12:51:22.005037Z"
    }
   },
   "outputs": [
    {
     "data": {
      "text/plain": [
       "<generator object <genexpr> at 0x000001FFD25CA7B0>"
      ]
     },
     "execution_count": 207,
     "metadata": {},
     "output_type": "execute_result"
    }
   ],
   "source": [
    "import re \n",
    "s='hiwhore9you_'\n",
    "pattern=re.compile('[a-zA-Z0-9_-]+$')\n",
    "(i in pattern for i in s)"
   ]
  },
  {
   "cell_type": "code",
   "execution_count": 52,
   "id": "498e1bff",
   "metadata": {
    "ExecuteTime": {
     "end_time": "2023-07-13T04:57:27.958861Z",
     "start_time": "2023-07-13T04:57:27.942866Z"
    }
   },
   "outputs": [],
   "source": [
    "def pattern(s):\n",
    "    pattern = re.compile(r'[^a-zA-Z0-9_ ]')\n",
    "    for i in s:\n",
    "        if re.match(pattern, i):\n",
    "            return 'not accepeted'\n",
    "    return 'accepeted'\n",
    "            "
   ]
  },
  {
   "cell_type": "code",
   "execution_count": null,
   "id": "7f52c686",
   "metadata": {},
   "outputs": [],
   "source": [
    "import re \n",
    "pattern = re.compile(r'[^a-zA-Z0-9_ ]')   # other than digits,letters,_,  rest all things will be stored in pattern\n",
    "s='hi im the one to take the charge123_'\n",
    "for i in s:\n",
    "    if re.match(pattern,i):  # it checks if any match with pattern\n",
    "        print(False)\n",
    "        break\n",
    "    \n",
    "print(True)"
   ]
  },
  {
   "cell_type": "code",
   "execution_count": 367,
   "id": "e81e6382",
   "metadata": {
    "ExecuteTime": {
     "end_time": "2023-07-12T15:13:38.472453Z",
     "start_time": "2023-07-12T15:13:38.465453Z"
    }
   },
   "outputs": [
    {
     "data": {
      "text/plain": [
       "True"
      ]
     },
     "execution_count": 367,
     "metadata": {},
     "output_type": "execute_result"
    }
   ],
   "source": [
    "reg=re.compile(r'^[A-Za-z0-9_ ]')\n",
    "bool(re.match(reg,s))\n"
   ]
  },
  {
   "cell_type": "code",
   "execution_count": 195,
   "id": "54d11dd9",
   "metadata": {
    "ExecuteTime": {
     "end_time": "2023-07-12T12:43:56.794004Z",
     "start_time": "2023-07-12T12:43:56.776989Z"
    }
   },
   "outputs": [],
   "source": [
    "import string\n",
    "allowed = string.ascii_letters + string.digits + '_' + '-'\n",
    "\n",
    "def check_naive(mystring):\n",
    "    return all(c in allowed for c in mystring)"
   ]
  },
  {
   "cell_type": "code",
   "execution_count": 189,
   "id": "146b6dd9",
   "metadata": {
    "ExecuteTime": {
     "end_time": "2023-07-12T12:41:06.148741Z",
     "start_time": "2023-07-12T12:41:06.141741Z"
    }
   },
   "outputs": [
    {
     "data": {
      "text/plain": [
       "True"
      ]
     },
     "execution_count": 189,
     "metadata": {},
     "output_type": "execute_result"
    }
   ],
   "source": [
    "check_naive(s)"
   ]
  },
  {
   "cell_type": "code",
   "execution_count": null,
   "id": "6b27fcc2",
   "metadata": {},
   "outputs": [],
   "source": [
    "Question 3: Write a Python program to get the maximum and minimum value in a dictionary\n",
    "(consider my_dict = {'x':500, 'y':5874, 'z': 560})\n",
    " "
   ]
  },
  {
   "cell_type": "code",
   "execution_count": 13,
   "id": "56912b55",
   "metadata": {
    "ExecuteTime": {
     "end_time": "2023-07-12T15:22:16.320242Z",
     "start_time": "2023-07-12T15:22:16.301240Z"
    }
   },
   "outputs": [
    {
     "name": "stdout",
     "output_type": "stream",
     "text": [
      "min- y:500, max- x:5874\n"
     ]
    }
   ],
   "source": [
    "max_key=max(my_dict,key=my_dict.get)\n",
    "min_key=min(my_dict,key=my_dict.get)\n",
    "print(\"min- {0}:{1}, max- {2}:{3}\".format(max_key,min(my_dict.values()),min_key,max(my_dict.values())))"
   ]
  },
  {
   "cell_type": "code",
   "execution_count": 17,
   "id": "f3325879",
   "metadata": {
    "ExecuteTime": {
     "end_time": "2023-07-12T15:25:30.506567Z",
     "start_time": "2023-07-12T15:25:30.492567Z"
    }
   },
   "outputs": [
    {
     "data": {
      "text/plain": [
       "{'x', 'y', 'z'}"
      ]
     },
     "execution_count": 17,
     "metadata": {},
     "output_type": "execute_result"
    }
   ],
   "source": [
    "{*my_dict}"
   ]
  },
  {
   "cell_type": "code",
   "execution_count": 2,
   "id": "6d45751b",
   "metadata": {
    "ExecuteTime": {
     "end_time": "2023-07-12T15:18:07.099148Z",
     "start_time": "2023-07-12T15:18:07.090147Z"
    }
   },
   "outputs": [
    {
     "name": "stdout",
     "output_type": "stream",
     "text": [
      "500 5874\n"
     ]
    }
   ],
   "source": [
    "my_dict = {'x':500, 'y':5874, 'z': 560}\n",
    "k=[]\n",
    "for i in my_dict.items():\n",
    "    k.append(i[1])\n",
    "    k=sorted(k)\n",
    "print(k[0],k[-1])\n",
    "\n",
    "    \n",
    "    "
   ]
  },
  {
   "cell_type": "markdown",
   "id": "50e43a35",
   "metadata": {},
   "source": [
    "Question 2: Define a class Person and two child classes: Male and Female. All classes have a method \"getGender\" which can print \"Male\" for Male class and \"Female\" for Female class.\n",
    " \n"
   ]
  },
  {
   "cell_type": "code",
   "execution_count": 226,
   "id": "3dc75610",
   "metadata": {
    "ExecuteTime": {
     "end_time": "2023-07-12T13:07:39.206831Z",
     "start_time": "2023-07-12T13:07:39.197834Z"
    }
   },
   "outputs": [],
   "source": [
    "class person:\n",
    "    def __str__(self):\n",
    "        return 'this is person class'\n",
    "class Male(person):\n",
    "    def getGender(self):\n",
    "        return 'Male'\n",
    "class Female(person):\n",
    "    def getGender(self):\n",
    "        return 'Female'"
   ]
  },
  {
   "cell_type": "code",
   "execution_count": 227,
   "id": "975fb060",
   "metadata": {
    "ExecuteTime": {
     "end_time": "2023-07-12T13:07:45.762350Z",
     "start_time": "2023-07-12T13:07:45.744351Z"
    }
   },
   "outputs": [],
   "source": [
    "a=Male()"
   ]
  },
  {
   "cell_type": "code",
   "execution_count": 228,
   "id": "01193140",
   "metadata": {
    "ExecuteTime": {
     "end_time": "2023-07-12T13:07:57.764004Z",
     "start_time": "2023-07-12T13:07:57.751001Z"
    }
   },
   "outputs": [],
   "source": [
    "b=Female()"
   ]
  },
  {
   "cell_type": "code",
   "execution_count": 229,
   "id": "75616fb6",
   "metadata": {
    "ExecuteTime": {
     "end_time": "2023-07-12T13:08:03.984778Z",
     "start_time": "2023-07-12T13:08:03.978227Z"
    }
   },
   "outputs": [
    {
     "data": {
      "text/plain": [
       "'Male'"
      ]
     },
     "execution_count": 229,
     "metadata": {},
     "output_type": "execute_result"
    }
   ],
   "source": [
    "a.getGender()"
   ]
  },
  {
   "cell_type": "code",
   "execution_count": 230,
   "id": "ce126c1e",
   "metadata": {
    "ExecuteTime": {
     "end_time": "2023-07-12T13:08:11.543583Z",
     "start_time": "2023-07-12T13:08:11.535583Z"
    }
   },
   "outputs": [
    {
     "data": {
      "text/plain": [
       "'Female'"
      ]
     },
     "execution_count": 230,
     "metadata": {},
     "output_type": "execute_result"
    }
   ],
   "source": [
    "b.getGender()"
   ]
  },
  {
   "cell_type": "markdown",
   "id": "7ddcdd44",
   "metadata": {},
   "source": [
    " \n",
    "Question 4: Write a function named \"check\" whose task is to check if every vowel is present in the input string or not. \n",
    "We consider a vowel to be present if it is present in upper case or \n",
    "lower case. i.e. ‘a’, ‘e’, ‘i’.’o’, ‘u’ or ‘A’, ‘E’, ‘I’, ‘O’, ‘U’ . The function should print \"accepted\" \n",
    "when the input string to the function has all the vowels otherwise it should print \"Not Accepted\". \n",
    "Then run function \"check\" with input string as \"SEEquoiaL\"\n",
    " \n"
   ]
  },
  {
   "cell_type": "code",
   "execution_count": 18,
   "id": "432054ad",
   "metadata": {
    "ExecuteTime": {
     "end_time": "2023-07-12T15:27:28.051227Z",
     "start_time": "2023-07-12T15:27:28.044227Z"
    }
   },
   "outputs": [],
   "source": [
    "def check(input_string):\n",
    "    vowels = {'a', 'e', 'i', 'o', 'u'}\n",
    "    input_string = input_string.lower()\n",
    "    if vowels.issubset(set(input_string)):\n",
    "        print(\"Accepted\")\n",
    "    else:\n",
    "        print(\"Not Accepted\")\n"
   ]
  },
  {
   "cell_type": "code",
   "execution_count": 241,
   "id": "b232bd47",
   "metadata": {
    "ExecuteTime": {
     "end_time": "2023-07-12T13:17:59.843755Z",
     "start_time": "2023-07-12T13:17:59.825750Z"
    }
   },
   "outputs": [
    {
     "name": "stdout",
     "output_type": "stream",
     "text": [
      "not accepted o\n"
     ]
    }
   ],
   "source": [
    "check_string='aeiouAEIOU'\n",
    "s=\"SEEquiaL\"\n",
    "k=''\n",
    "for i in s:\n",
    "    if i in check_string:\n",
    "        k=k+i\n",
    "for j in check_string.lower(): \n",
    "    if j not in k.lower():\n",
    "        print('not accepted',j)\n",
    "        break\n",
    " "
   ]
  },
  {
   "cell_type": "code",
   "execution_count": 238,
   "id": "9d127043",
   "metadata": {
    "ExecuteTime": {
     "end_time": "2023-07-12T13:15:19.582770Z",
     "start_time": "2023-07-12T13:15:19.576773Z"
    }
   },
   "outputs": [
    {
     "data": {
      "text/plain": [
       "'EEuia'"
      ]
     },
     "execution_count": 238,
     "metadata": {},
     "output_type": "execute_result"
    }
   ],
   "source": [
    "k"
   ]
  },
  {
   "cell_type": "code",
   "execution_count": null,
   "id": "f4f405d0",
   "metadata": {},
   "outputs": [],
   "source": [
    "Question 5: Print all elements which occurs three consecutive times in any Input list.\n",
    "Ex.\n",
    "input :\n",
    "[1, 1, 1, 64, 23, 64, 22, 22, 22]\n",
    " \n",
    "\n",
    "output :\n",
    "1\n",
    "22\n",
    " \n",
    "\n"
   ]
  },
  {
   "cell_type": "code",
   "execution_count": 255,
   "id": "e0b0cc40",
   "metadata": {
    "ExecuteTime": {
     "end_time": "2023-07-12T13:23:51.811378Z",
     "start_time": "2023-07-12T13:23:51.800382Z"
    }
   },
   "outputs": [],
   "source": [
    "l=[1, 1, 1, 64, 23, 64, 22, 22, 22]\n",
    "def check3s(l):\n",
    "    for i in range(len(l)-2): \n",
    "        if l[i]==l[i+1] == l[i+2]:\n",
    "            print(l[i],end=',')"
   ]
  },
  {
   "cell_type": "code",
   "execution_count": 256,
   "id": "f3187ed7",
   "metadata": {
    "ExecuteTime": {
     "end_time": "2023-07-12T13:23:52.076063Z",
     "start_time": "2023-07-12T13:23:52.061605Z"
    }
   },
   "outputs": [
    {
     "name": "stdout",
     "output_type": "stream",
     "text": [
      "1,22,"
     ]
    }
   ],
   "source": [
    "check3s(l)"
   ]
  },
  {
   "cell_type": "markdown",
   "id": "4d9b0d27",
   "metadata": {},
   "source": [
    "\n",
    "Question 6: Write a python program to find the longest word/s in the following string:\n",
    "1. str = \"What is Python language? Python is a widely used high-level, general-purpose, interpreted, dynamic programming language. Its design philosophy emphasizes code readability, and its syntax allows programmers to express concepts in fewer lines of code than possible in languages such as C++ or Java. Python supports multiple programming paradigms, including object-oriented, imperative and functional programming or procedural styles.It features a dynamic type system and automatic memory management and has a large and comprehensive standard library.The best way we learn anything is by practice and exercise questions. We have started this section for those (beginner to intermediate) who are familiar with Python.\"\n",
    " \n"
   ]
  },
  {
   "cell_type": "code",
   "execution_count": 3,
   "id": "cc71f7ca",
   "metadata": {
    "ExecuteTime": {
     "end_time": "2023-07-31T02:43:57.266244Z",
     "start_time": "2023-07-31T02:43:57.248098Z"
    }
   },
   "outputs": [],
   "source": [
    "str1 = \"What is Python language? Python is a widely used high-level, general-purpose, interpreted, dynamic programming language. Its design philosophy emphasizes code readability, and its syntax allows programmers to express concepts in fewer lines of code than possible in languages such as C++ or Java. Python supports multiple programming paradigms, including object-oriented, imperative and functional programming or procedural styles.It features a dynamic type system and automatic memory management and has a large and comprehensive standard library.The best way we learn anything is by practice and exercise questions. We have started this section for those (beginner to intermediate) who are familiar with Python.\"\n",
    " "
   ]
  },
  {
   "cell_type": "code",
   "execution_count": 5,
   "id": "1bc479aa",
   "metadata": {
    "ExecuteTime": {
     "end_time": "2023-07-31T02:44:16.086440Z",
     "start_time": "2023-07-31T02:44:16.076780Z"
    }
   },
   "outputs": [
    {
     "name": "stdout",
     "output_type": "stream",
     "text": [
      "14 generalpurpose\n",
      "14 objectoriented\n"
     ]
    }
   ],
   "source": [
    "import re\n",
    "a=0\n",
    "str1= re.sub(r'[^\\w\\s]', '', str1) # reove punctuations\n",
    "for i in str1.split(' '):\n",
    "    if len(i)>a:\n",
    "        a=len(i)\n",
    "for i in str1.split(' '):\n",
    "    if len(i)==a:\n",
    "        print(a,i)\n",
    "    "
   ]
  },
  {
   "cell_type": "markdown",
   "id": "0ce4f54c",
   "metadata": {},
   "source": [
    "Question 7: Write a program to solve a classic ancient Chinese puzzle: We count 35 heads and 94 legs among the chickens and rabbits in a farm. How many rabbits and how many chickens do we have?\n"
   ]
  },
  {
   "cell_type": "code",
   "execution_count": 6,
   "id": "0af31d25",
   "metadata": {
    "ExecuteTime": {
     "end_time": "2023-07-31T02:44:34.803383Z",
     "start_time": "2023-07-31T02:44:34.790963Z"
    }
   },
   "outputs": [],
   "source": [
    "heads=35\n",
    "chicken=2\n",
    "rabbit=4\n",
    "legs=94"
   ]
  },
  {
   "cell_type": "code",
   "execution_count": 7,
   "id": "ccba1c6c",
   "metadata": {
    "ExecuteTime": {
     "end_time": "2023-07-31T02:44:35.630125Z",
     "start_time": "2023-07-31T02:44:35.614110Z"
    }
   },
   "outputs": [
    {
     "ename": "SyntaxError",
     "evalue": "invalid syntax (4221774422.py, line 1)",
     "output_type": "error",
     "traceback": [
      "\u001b[1;36m  File \u001b[1;32m\"C:\\Users\\pbann\\AppData\\Local\\Temp\\ipykernel_33556\\4221774422.py\"\u001b[1;36m, line \u001b[1;32m1\u001b[0m\n\u001b[1;33m    4x+2y=94\u001b[0m\n\u001b[1;37m     ^\u001b[0m\n\u001b[1;31mSyntaxError\u001b[0m\u001b[1;31m:\u001b[0m invalid syntax\n"
     ]
    }
   ],
   "source": [
    "4x+2y=94\n",
    "x+y=35"
   ]
  },
  {
   "cell_type": "code",
   "execution_count": 8,
   "id": "60ede80b",
   "metadata": {
    "ExecuteTime": {
     "end_time": "2023-07-31T02:44:36.484629Z",
     "start_time": "2023-07-31T02:44:36.464402Z"
    }
   },
   "outputs": [],
   "source": [
    "def puzzle(heads,legs):\n",
    "    for x in range(heads):\n",
    "        y=heads-x\n",
    "        if 4*x+2*y==legs and x+y==heads:\n",
    "            return f'no of chickens:{x}, no of rabbits:{y}'\n",
    "    return 'no solution found'\n",
    "        "
   ]
  },
  {
   "cell_type": "code",
   "execution_count": 9,
   "id": "a93f2fe4",
   "metadata": {
    "ExecuteTime": {
     "end_time": "2023-07-31T02:44:37.591357Z",
     "start_time": "2023-07-31T02:44:37.570829Z"
    }
   },
   "outputs": [
    {
     "data": {
      "text/plain": [
       "'no of chickens:13, no of rabbits:23'"
      ]
     },
     "execution_count": 9,
     "metadata": {},
     "output_type": "execute_result"
    }
   ],
   "source": [
    "puzzle(36,98)"
   ]
  },
  {
   "cell_type": "code",
   "execution_count": null,
   "id": "eeb46415",
   "metadata": {},
   "outputs": [],
   "source": [
    " \n",
    "Question 8: Write a program to generate all possible sentences in the following format: Subject-Verb-Object.\n",
    "Subject: [\"I\", \"You\"]\n",
    "Verb: [\"Play\", \"Love\"]\n",
    "Object: [\"Hockey\",\"Football\"]\n",
    "Example sentences:\n",
    "I Play Hockey.\n",
    "You Love Football"
   ]
  },
  {
   "cell_type": "code",
   "execution_count": 309,
   "id": "26bced35",
   "metadata": {
    "ExecuteTime": {
     "end_time": "2023-07-12T14:18:04.540231Z",
     "start_time": "2023-07-12T14:18:04.530233Z"
    }
   },
   "outputs": [
    {
     "data": {
      "text/plain": [
       "[('I', 'Play', 'Hockey'),\n",
       " ('I', 'Play', 'Football'),\n",
       " ('I', 'Love', 'Hockey'),\n",
       " ('I', 'Love', 'Football'),\n",
       " ('You', 'Play', 'Hockey'),\n",
       " ('You', 'Play', 'Football'),\n",
       " ('You', 'Love', 'Hockey'),\n",
       " ('You', 'Love', 'Football')]"
      ]
     },
     "execution_count": 309,
     "metadata": {},
     "output_type": "execute_result"
    }
   ],
   "source": [
    "sentence =[(l,m,n) for l in subjects for m in verbs for n in objects]\n",
    "sentence"
   ]
  },
  {
   "cell_type": "code",
   "execution_count": 336,
   "id": "6a59c060",
   "metadata": {
    "ExecuteTime": {
     "end_time": "2023-07-12T15:00:52.487934Z",
     "start_time": "2023-07-12T15:00:52.473933Z"
    }
   },
   "outputs": [
    {
     "data": {
      "text/plain": [
       "'abcdefghijklmnopqrstuvwxyzABCDEFGHIJKLMNOPQRSTUVWXYZ0123456789_- '"
      ]
     },
     "execution_count": 336,
     "metadata": {},
     "output_type": "execute_result"
    }
   ],
   "source": [
    "string1=string.ascii_letters+string.digits+'_'+'-'+\" \"\n",
    "string1"
   ]
  },
  {
   "cell_type": "code",
   "execution_count": 342,
   "id": "b59caf94",
   "metadata": {
    "ExecuteTime": {
     "end_time": "2023-07-12T15:03:32.599131Z",
     "start_time": "2023-07-12T15:03:32.583130Z"
    }
   },
   "outputs": [
    {
     "data": {
      "text/plain": [
       "'hiimthe4person_'"
      ]
     },
     "execution_count": 342,
     "metadata": {},
     "output_type": "execute_result"
    }
   ],
   "source": [
    "s='hi im the 4person_'\n",
    "s.replace(\" \",\"\")\n"
   ]
  },
  {
   "cell_type": "code",
   "execution_count": 344,
   "id": "5bdf204f",
   "metadata": {
    "ExecuteTime": {
     "end_time": "2023-07-12T15:04:56.137520Z",
     "start_time": "2023-07-12T15:04:56.131994Z"
    }
   },
   "outputs": [],
   "source": [
    "pattern=re.compile(r'[^a-zA-Z0-9_]')"
   ]
  },
  {
   "cell_type": "code",
   "execution_count": 3,
   "id": "df950f93",
   "metadata": {
    "ExecuteTime": {
     "end_time": "2023-07-28T07:32:56.078264Z",
     "start_time": "2023-07-28T07:32:56.061096Z"
    }
   },
   "outputs": [],
   "source": [
    "import re\n",
    "pattern=re.compile(r'[^a-zA-Z0-9_*]')\n",
    "s='hi im the 4person_'\n",
    "for i in s.replace(\" \",\"\"):\n",
    "    if  re.match(pattern,i):\n",
    "        print('not accepetd')"
   ]
  },
  {
   "cell_type": "code",
   "execution_count": 4,
   "id": "7ca04c8d",
   "metadata": {
    "ExecuteTime": {
     "end_time": "2023-07-28T07:33:26.401765Z",
     "start_time": "2023-07-28T07:33:26.392541Z"
    }
   },
   "outputs": [
    {
     "name": "stdout",
     "output_type": "stream",
     "text": [
      "not accepted\n"
     ]
    }
   ],
   "source": [
    "import re\n",
    "\n",
    "pattern = re.compile(r'[^a-zA-Z0-9_ ]')\n",
    "s = 'hi im the 4person_*'\n",
    "\n",
    "for i in s:\n",
    "    if re.match(pattern, i):\n",
    "        print('not accepted')\n",
    "        break\n"
   ]
  },
  {
   "cell_type": "code",
   "execution_count": 358,
   "id": "9e5d0ce4",
   "metadata": {
    "ExecuteTime": {
     "end_time": "2023-07-12T15:10:56.811847Z",
     "start_time": "2023-07-12T15:10:56.797848Z"
    }
   },
   "outputs": [
    {
     "data": {
      "text/plain": [
       "'not accepeted'"
      ]
     },
     "execution_count": 358,
     "metadata": {},
     "output_type": "execute_result"
    }
   ],
   "source": [
    "pattern(s)"
   ]
  },
  {
   "cell_type": "code",
   "execution_count": 340,
   "id": "6d22e0f8",
   "metadata": {
    "ExecuteTime": {
     "end_time": "2023-07-12T15:01:22.129028Z",
     "start_time": "2023-07-12T15:01:22.111214Z"
    }
   },
   "outputs": [
    {
     "name": "stdout",
     "output_type": "stream",
     "text": [
      "accepted\n"
     ]
    }
   ],
   "source": [
    "s='hi im the 4person_'\n",
    "for i in s: \n",
    "    if i not in string1:\n",
    "        print('not accepted')\n",
    "        break\n",
    "\n",
    "\n"
   ]
  },
  {
   "cell_type": "code",
   "execution_count": null,
   "id": "6b152726",
   "metadata": {},
   "outputs": [],
   "source": [
    "Question 1: Write a Python program to take an input string and return true iff the string contains only alphabets,\n",
    "numbers and underscores.\n",
    "Question 2: Define a class Person and two child classes: Male and Female. All classes have a method \"getGender\" which can print \"Male\" for Male class and \"Female\" for Female class.\n",
    "Question 3: Write a Python program to get the maximum and minimum value in a dictionary\n",
    "(consider my_dict = {'x':500, 'y':5874, 'z': 560}) \n",
    "Question 4: Write a function named \"check\" whose task is to check if every vowel is present in the input string or not. We consider a vowel to be present if it is present in upper case or lower case. i.e. ‘a’, ‘e’, ‘i’.’o’, ‘u’ or ‘A’, ‘E’, ‘I’, ‘O’, ‘U’ . The function should print \"accepted\" when the input string to the function has all the vowels otherwise it should print \"Not Accepted\". Then run function \"check\" with input string as \"SEEquoiaL\" \n",
    "Question 5: Print all elements which occurs three consecutive times in any Input list.\n",
    "Ex.\n",
    "input :\n",
    "[1, 1, 1, 64, 23, 64, 22, 22, 22]\n",
    "output :\n",
    "1\n",
    "22 \n",
    "Question 6: Write a python program to find the longest word/s in the following string:\n",
    "str = \"What is Python language? Python is a widely used high-level, general-purpose, interpreted, dynamic programming language. Its design philosophy emphasizes code readability, and its syntax allows programmers to express concepts in fewer lines of code than possible in languages such as C++ or Java. Python supports multiple programming paradigms, including object-oriented, imperative and functional programming or procedural styles.It features a dynamic type system and automatic memory management and has a large and comprehensive standard library.The best way we learn anything is by practice and exercise questions. We have started this section for those (beginner to intermediate) who are familiar with Python.\"\n",
    "Question 7: Write a program to solve a classic ancient Chinese puzzle: We count 35 heads and 94 legs among the chickens and rabbits in a farm. How many rabbits and how many chickens do we have?\n",
    "Question 8: Write a program to generate all possible sentences in the following format: Subject-Verb-Object.\n",
    "Subject: [\"I\", \"You\"]\n",
    "Verb: [\"Play\", \"Love\"]\n",
    "Object: [\"Hockey\",\"Football\"]\n",
    "Example sentences:\n",
    "I Play Hockey.\n",
    "You Love Football\n"
   ]
  },
  {
   "cell_type": "code",
   "execution_count": 3,
   "id": "1497daea",
   "metadata": {
    "ExecuteTime": {
     "end_time": "2023-07-27T09:24:41.627792Z",
     "start_time": "2023-07-27T09:24:41.612792Z"
    }
   },
   "outputs": [],
   "source": [
    "import string"
   ]
  },
  {
   "cell_type": "code",
   "execution_count": 4,
   "id": "adf8349c",
   "metadata": {
    "ExecuteTime": {
     "end_time": "2023-07-27T09:24:41.893041Z",
     "start_time": "2023-07-27T09:24:41.878042Z"
    }
   },
   "outputs": [],
   "source": [
    "check=string.ascii_letters+string.digits+_"
   ]
  },
  {
   "cell_type": "code",
   "execution_count": 14,
   "id": "eb0e96c8",
   "metadata": {
    "ExecuteTime": {
     "end_time": "2023-07-13T04:14:23.240845Z",
     "start_time": "2023-07-13T04:14:23.231848Z"
    }
   },
   "outputs": [
    {
     "name": "stdout",
     "output_type": "stream",
     "text": [
      "not accepeted\n"
     ]
    }
   ],
   "source": [
    "s='enter the lin 4_u'\n",
    "for i in s:\n",
    "    if i not in check:\n",
    "        print('not accepeted')\n",
    "        break"
   ]
  },
  {
   "cell_type": "code",
   "execution_count": 16,
   "id": "85edcfa6",
   "metadata": {
    "ExecuteTime": {
     "end_time": "2023-07-13T04:16:13.542564Z",
     "start_time": "2023-07-13T04:16:13.526566Z"
    }
   },
   "outputs": [],
   "source": [
    "class person:\n",
    "    def __init__(self):\n",
    "        'pass'\n",
    "class Male(person):\n",
    "    def gender(self):\n",
    "        return 'male'\n",
    "class female(person):\n",
    "    def gender(self):\n",
    "        return 'female'"
   ]
  },
  {
   "cell_type": "code",
   "execution_count": 22,
   "id": "e53437f8",
   "metadata": {
    "ExecuteTime": {
     "end_time": "2023-07-13T04:17:08.851139Z",
     "start_time": "2023-07-13T04:17:08.843049Z"
    }
   },
   "outputs": [
    {
     "data": {
      "text/plain": [
       "('male', 'female')"
      ]
     },
     "execution_count": 22,
     "metadata": {},
     "output_type": "execute_result"
    }
   ],
   "source": [
    "a=Male()\n",
    "b=female()\n",
    "a.gender(),b.gender()"
   ]
  },
  {
   "cell_type": "code",
   "execution_count": 29,
   "id": "c1484a19",
   "metadata": {
    "ExecuteTime": {
     "end_time": "2023-07-13T04:22:48.903323Z",
     "start_time": "2023-07-13T04:22:48.883317Z"
    }
   },
   "outputs": [
    {
     "data": {
      "text/plain": [
       "(5874, 'y')"
      ]
     },
     "execution_count": 29,
     "metadata": {},
     "output_type": "execute_result"
    }
   ],
   "source": [
    "my_dict = {'x':500, 'y':5874, 'z': 560}\n",
    "max(my_dict.values()),max(my_dict,key=my_dict.get)"
   ]
  },
  {
   "cell_type": "code",
   "execution_count": 35,
   "id": "b1829253",
   "metadata": {
    "ExecuteTime": {
     "end_time": "2023-07-13T04:30:00.322891Z",
     "start_time": "2023-07-13T04:30:00.314852Z"
    }
   },
   "outputs": [
    {
     "data": {
      "text/plain": [
       "'accepted'"
      ]
     },
     "execution_count": 35,
     "metadata": {},
     "output_type": "execute_result"
    }
   ],
   "source": [
    "checks=\"SEEquoiaL\"\n",
    "vowel=['a','e','i','o','u']\n",
    "def vowel_check(vowel,checks):\n",
    "    for i in vowel:\n",
    "        if i not in checks.lower():\n",
    "            print('not accepted')\n",
    "    return 'accepted'\n",
    "vowel_check(vowel,checks)  "
   ]
  },
  {
   "cell_type": "code",
   "execution_count": 40,
   "id": "9dd5aa3f",
   "metadata": {
    "ExecuteTime": {
     "end_time": "2023-07-13T04:32:57.433319Z",
     "start_time": "2023-07-13T04:32:57.417295Z"
    }
   },
   "outputs": [
    {
     "name": "stdout",
     "output_type": "stream",
     "text": [
      "1\n",
      "22\n"
     ]
    }
   ],
   "source": [
    "l=[1, 1, 1, 64, 23, 64, 22, 22, 22]\n",
    "for i in range(len(l)-2): \n",
    "    if l[i]==l[i+1]==l[i+2]:\n",
    "        print(l[i])"
   ]
  },
  {
   "cell_type": "code",
   "execution_count": 42,
   "id": "819cda43",
   "metadata": {
    "ExecuteTime": {
     "end_time": "2023-07-13T04:34:20.123756Z",
     "start_time": "2023-07-13T04:34:20.109756Z"
    }
   },
   "outputs": [],
   "source": [
    "str1 = \"What is Python language? Python is a widely used high-level, general-purpose, interpreted, dynamic programming language. Its design philosophy emphasizes code readability, and its syntax allows programmers to express concepts in fewer lines of code than possible in languages such as C++ or Java. Python supports multiple programming paradigms, including object-oriented, imperative and functional programming or procedural styles.It features a dynamic type system and automatic memory management and has a large and comprehensive standard library.The best way we learn anything is by practice and exercise questions. We have started this section for those (beginner to intermediate) who are familiar with Python.\""
   ]
  },
  {
   "cell_type": "code",
   "execution_count": 48,
   "id": "42eee76c",
   "metadata": {
    "ExecuteTime": {
     "end_time": "2023-07-13T04:38:09.551372Z",
     "start_time": "2023-07-13T04:38:09.545859Z"
    }
   },
   "outputs": [
    {
     "name": "stdout",
     "output_type": "stream",
     "text": [
      "generalpurpose\n",
      "objectoriented\n"
     ]
    }
   ],
   "source": [
    "max_len=0\n",
    "str1=re.sub(r'[^\\w\\s]','',str1)\n",
    "for i in str1.split(' '):\n",
    "    if len(i)>max_len:\n",
    "        max_len=len(i) \n",
    "for i in str1.split(' '):\n",
    "    if len(i)==max_len:\n",
    "        print(i)"
   ]
  },
  {
   "cell_type": "code",
   "execution_count": 51,
   "id": "80bfdb0b",
   "metadata": {
    "ExecuteTime": {
     "end_time": "2023-07-13T04:53:17.890128Z",
     "start_time": "2023-07-13T04:53:17.873131Z"
    }
   },
   "outputs": [
    {
     "name": "stdout",
     "output_type": "stream",
     "text": [
      "12 23\n"
     ]
    }
   ],
   "source": [
    "heads=35\n",
    "legs=94\n",
    "for i in range(heads):\n",
    "    x=i \n",
    "    y=heads-x\n",
    "    if 4*x+2*y ==94 and x+y==35:\n",
    "        print(x,y)"
   ]
  },
  {
   "cell_type": "code",
   "execution_count": 50,
   "id": "4795cefa",
   "metadata": {
    "ExecuteTime": {
     "end_time": "2023-07-13T04:51:13.110034Z",
     "start_time": "2023-07-13T04:51:13.088914Z"
    }
   },
   "outputs": [
    {
     "data": {
      "text/plain": [
       "[('I', 'Play', 'Hockey'),\n",
       " ('I', 'Play', 'Football'),\n",
       " ('I', 'Love', 'Hockey'),\n",
       " ('I', 'Love', 'Football'),\n",
       " ('You', 'Play', 'Hockey'),\n",
       " ('You', 'Play', 'Football'),\n",
       " ('You', 'Love', 'Hockey'),\n",
       " ('You', 'Love', 'Football')]"
      ]
     },
     "execution_count": 50,
     "metadata": {},
     "output_type": "execute_result"
    }
   ],
   "source": [
    "Subject= [\"I\", \"You\"]\n",
    "Verb= [\"Play\", \"Love\"]\n",
    "Object= [\"Hockey\",\"Football\"]\n",
    "[(i,j,k) for i in Subject for j in Verb for k in Object]"
   ]
  },
  {
   "cell_type": "code",
   "execution_count": 1,
   "id": "a0948ac1",
   "metadata": {
    "ExecuteTime": {
     "end_time": "2023-07-14T16:40:28.475783Z",
     "start_time": "2023-07-14T16:40:28.452746Z"
    }
   },
   "outputs": [
    {
     "data": {
      "text/plain": [
       "354224848179261915075"
      ]
     },
     "execution_count": 1,
     "metadata": {},
     "output_type": "execute_result"
    }
   ],
   "source": [
    "# print the N-th Fibonacci number\n",
    "def fibonacci_iteration(n):\n",
    " \n",
    "    a, b = 0, 1\n",
    " \n",
    "    while n > 0:\n",
    "        n = n - 1\n",
    "        a, b = b, a + b\n",
    " \n",
    "    return a\n",
    " \n",
    " \n",
    "fibonacci_iteration(100)"
   ]
  },
  {
   "cell_type": "code",
   "execution_count": null,
   "id": "98ee9d7c",
   "metadata": {},
   "outputs": [],
   "source": []
  }
 ],
 "metadata": {
  "kernelspec": {
   "display_name": "Python 3 (ipykernel)",
   "language": "python",
   "name": "python3"
  },
  "language_info": {
   "codemirror_mode": {
    "name": "ipython",
    "version": 3
   },
   "file_extension": ".py",
   "mimetype": "text/x-python",
   "name": "python",
   "nbconvert_exporter": "python",
   "pygments_lexer": "ipython3",
   "version": "3.9.13"
  }
 },
 "nbformat": 4,
 "nbformat_minor": 5
}
