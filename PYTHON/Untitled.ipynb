{
 "cells": [
  {
   "cell_type": "code",
   "execution_count": 8,
   "id": "0a268322",
   "metadata": {
    "ExecuteTime": {
     "end_time": "2023-06-30T15:07:17.138199Z",
     "start_time": "2023-06-30T15:07:17.124718Z"
    }
   },
   "outputs": [
    {
     "ename": "ValueError",
     "evalue": "too many values to unpack (expected 4)",
     "output_type": "error",
     "traceback": [
      "\u001b[1;31m---------------------------------------------------------------------------\u001b[0m",
      "\u001b[1;31mValueError\u001b[0m                                Traceback (most recent call last)",
      "\u001b[1;32m~\\AppData\\Local\\Temp\\ipykernel_45384\\2913861102.py\u001b[0m in \u001b[0;36m<module>\u001b[1;34m\u001b[0m\n\u001b[0;32m      3\u001b[0m \u001b[0mg3\u001b[0m\u001b[1;33m=\u001b[0m\u001b[1;33m[\u001b[0m\u001b[1;33m]\u001b[0m\u001b[1;33m\u001b[0m\u001b[1;33m\u001b[0m\u001b[0m\n\u001b[0;32m      4\u001b[0m \u001b[0mg4\u001b[0m\u001b[1;33m=\u001b[0m\u001b[1;33m[\u001b[0m\u001b[1;33m]\u001b[0m\u001b[1;33m\u001b[0m\u001b[1;33m\u001b[0m\u001b[0m\n\u001b[1;32m----> 5\u001b[1;33m \u001b[1;32mfor\u001b[0m \u001b[0mi\u001b[0m\u001b[1;33m,\u001b[0m\u001b[0mj\u001b[0m\u001b[1;33m,\u001b[0m\u001b[0mk\u001b[0m\u001b[1;33m,\u001b[0m\u001b[0ml\u001b[0m \u001b[1;32min\u001b[0m \u001b[0mzip\u001b[0m\u001b[1;33m(\u001b[0m\u001b[0msce\u001b[0m\u001b[1;33m,\u001b[0m\u001b[0mnsce\u001b[0m\u001b[1;33m,\u001b[0m\u001b[0mam\u001b[0m\u001b[1;33m,\u001b[0m\u001b[0mexe\u001b[0m\u001b[1;33m,\u001b[0m\u001b[0mfield\u001b[0m\u001b[1;33m)\u001b[0m\u001b[1;33m:\u001b[0m\u001b[1;33m\u001b[0m\u001b[1;33m\u001b[0m\u001b[0m\n\u001b[0m\u001b[0;32m      6\u001b[0m     \u001b[0mprint\u001b[0m\u001b[1;33m(\u001b[0m\u001b[0mi\u001b[0m\u001b[1;33m)\u001b[0m\u001b[1;33m\u001b[0m\u001b[1;33m\u001b[0m\u001b[0m\n\u001b[0;32m      7\u001b[0m \u001b[1;33m\u001b[0m\u001b[0m\n",
      "\u001b[1;31mValueError\u001b[0m: too many values to unpack (expected 4)"
     ]
    }
   ],
   "source": [
    "g1=[]\n",
    "g2=[]\n",
    "g3=[]\n",
    "g4=[]\n",
    "for i,j,k,l in zip(sce,nsce,am,exe,field):\n",
    "    print(i)\n",
    "    "
   ]
  },
  {
   "cell_type": "code",
   "execution_count": 1,
   "id": "396585c6",
   "metadata": {
    "ExecuteTime": {
     "end_time": "2023-07-14T14:55:12.524711Z",
     "start_time": "2023-07-14T14:55:12.501233Z"
    }
   },
   "outputs": [],
   "source": [
    "l=[1,2,3,4,5,6]"
   ]
  },
  {
   "cell_type": "code",
   "execution_count": 8,
   "id": "e8c6adb3",
   "metadata": {
    "ExecuteTime": {
     "end_time": "2023-07-14T15:16:38.141539Z",
     "start_time": "2023-07-14T15:16:38.124473Z"
    }
   },
   "outputs": [
    {
     "data": {
      "text/plain": [
       "[6, 2]"
      ]
     },
     "execution_count": 8,
     "metadata": {},
     "output_type": "execute_result"
    }
   ],
   "source": [
    "l[::-4]"
   ]
  },
  {
   "cell_type": "code",
   "execution_count": 2,
   "id": "c5e56659",
   "metadata": {
    "ExecuteTime": {
     "end_time": "2023-07-14T14:55:20.356849Z",
     "start_time": "2023-07-14T14:55:20.343850Z"
    }
   },
   "outputs": [
    {
     "data": {
      "text/plain": [
       "[2, 3, 4, 5, 6]"
      ]
     },
     "execution_count": 2,
     "metadata": {},
     "output_type": "execute_result"
    }
   ],
   "source": [
    "l[1:]"
   ]
  },
  {
   "cell_type": "code",
   "execution_count": 4,
   "id": "6317afc9",
   "metadata": {
    "ExecuteTime": {
     "end_time": "2023-07-14T14:55:36.672627Z",
     "start_time": "2023-07-14T14:55:36.658628Z"
    }
   },
   "outputs": [
    {
     "data": {
      "text/plain": [
       "[1, 2, 3, 4, 5]"
      ]
     },
     "execution_count": 4,
     "metadata": {},
     "output_type": "execute_result"
    }
   ],
   "source": [
    "l[:-1]"
   ]
  },
  {
   "cell_type": "code",
   "execution_count": 6,
   "id": "47142c99",
   "metadata": {
    "ExecuteTime": {
     "end_time": "2023-07-14T14:57:52.415104Z",
     "start_time": "2023-07-14T14:57:52.404103Z"
    }
   },
   "outputs": [
    {
     "data": {
      "text/plain": [
       "[3, 4, 5, 6]"
      ]
     },
     "execution_count": 6,
     "metadata": {},
     "output_type": "execute_result"
    }
   ],
   "source": [
    "l[-4:]"
   ]
  },
  {
   "cell_type": "code",
   "execution_count": 16,
   "id": "3a68de71",
   "metadata": {
    "ExecuteTime": {
     "end_time": "2023-07-15T12:19:35.780199Z",
     "start_time": "2023-07-15T12:19:35.768063Z"
    }
   },
   "outputs": [],
   "source": [
    "class atm:\n",
    "    def __init__(self,pin,balance):\n",
    "        self.pin=pin \n",
    "        self.balance=balance\n",
    "        self.menu()\n",
    "#     def get_pin(self):\n",
    "#         return self._pin\n",
    "    def menu(self):\n",
    "        user_input=input(\"\"\"hello\n",
    "        1. press 1 for check balance\n",
    "        2. set pin \n",
    "        3. create pin \n",
    "        4. withdraw\n",
    "        5. anything to exit\n",
    "        \"\"\")\n",
    "        if user_input == '1':\n",
    "            return self.check_balance()\n",
    "        elif user_input == '2':\n",
    "            return self.set_pin()\n",
    "    def check_balance(self):\n",
    "        return self.balance\n",
    "    def set_pin(self):\n",
    "        ask_balance=int(input('eneter the balance'))\n",
    "        if ask_balance==self.balance:\n",
    "            new_pin = input('eneter the pin to change')\n",
    "            self.pin=new_pin\n",
    "        else:\n",
    "            return 'balance not mathed'\n",
    "        return 'pin updated'"
   ]
  },
  {
   "cell_type": "code",
   "execution_count": 17,
   "id": "a107f845",
   "metadata": {
    "ExecuteTime": {
     "end_time": "2023-07-15T12:19:39.615699Z",
     "start_time": "2023-07-15T12:19:36.783829Z"
    }
   },
   "outputs": [
    {
     "name": "stdout",
     "output_type": "stream",
     "text": [
      "hello\n",
      "        1. press 1 for check balance\n",
      "        2. set pin \n",
      "        3. create pin \n",
      "        4. withdraw\n",
      "        5. anything to exit\n",
      "        10000\n"
     ]
    }
   ],
   "source": [
    "a=atm(123,10000)"
   ]
  },
  {
   "cell_type": "code",
   "execution_count": 5,
   "id": "f13b70d8",
   "metadata": {
    "ExecuteTime": {
     "end_time": "2023-07-15T12:11:43.812854Z",
     "start_time": "2023-07-15T12:11:43.795874Z"
    }
   },
   "outputs": [
    {
     "data": {
      "text/plain": [
       "10000"
      ]
     },
     "execution_count": 5,
     "metadata": {},
     "output_type": "execute_result"
    }
   ],
   "source": [
    "a.balance"
   ]
  },
  {
   "cell_type": "code",
   "execution_count": null,
   "id": "de1cce96",
   "metadata": {},
   "outputs": [],
   "source": [
    "class ATM:\n",
    "    def __init__(self, pin, balance):\n",
    "        self.pin = pin\n",
    "        self.balance = balance\n",
    "        self.menu()\n",
    "\n",
    "    def menu(self):\n",
    "        user_input = input(\"\"\"Hello,\n",
    "        1. Press 1 to check balance\n",
    "        2. Press 2 to set pin\n",
    "        3. Press 3 to create pin\n",
    "        4. Press 4 to withdraw\n",
    "        5. Press any other key to exit\n",
    "        \"\"\")\n",
    "\n",
    "        if user_input == '1':\n",
    "            self.check_balance()\n",
    "        elif user_input == '2':\n",
    "            self.set_pin()\n",
    "        elif user_input == '3':\n",
    "            self.create_pin()\n",
    "        elif user_input == '4':\n",
    "            self.withdraw()\n",
    "        else:\n",
    "            return\n",
    "\n",
    "    def check_balance(self):\n",
    "        print(\"Your balance is:\", self.balance)\n",
    "\n",
    "    def set_pin(self):\n",
    "        current_pin = input('Enter your current pin: ')\n",
    "        if current_pin == self.pin:\n",
    "            new_pin = input('Enter your new pin: ')\n",
    "            self.pin = new_pin\n",
    "            print('Pin updated successfully.')\n",
    "        else:\n",
    "            print('Incorrect pin.')\n",
    "\n",
    "    def create_pin(self):\n",
    "        new_pin = input('Enter your new pin: ')\n",
    "        self.pin = new_pin\n",
    "        print('Pin created successfully.')\n",
    "\n",
    "    def withdraw(self):\n",
    "        amount = float(input('Enter the amount to withdraw: '))\n",
    "        if amount <= self.balance:\n",
    "            self.balance -= amount\n",
    "            print('Withdrawal successful.')\n",
    "            self.check_balance()\n",
    "        else:\n",
    "            print('Insufficient balance.')\n",
    "\n",
    "my_atm = ATM(\"1234\", 1000)\n"
   ]
  },
  {
   "cell_type": "code",
   "execution_count": null,
   "id": "645a25ff",
   "metadata": {},
   "outputs": [],
   "source": []
  },
  {
   "cell_type": "code",
   "execution_count": null,
   "id": "9f2e23dc",
   "metadata": {},
   "outputs": [],
   "source": []
  },
  {
   "cell_type": "code",
   "execution_count": null,
   "id": "6b6cab7a",
   "metadata": {},
   "outputs": [],
   "source": []
  },
  {
   "cell_type": "code",
   "execution_count": null,
   "id": "39204be8",
   "metadata": {},
   "outputs": [],
   "source": []
  },
  {
   "cell_type": "code",
   "execution_count": null,
   "id": "d2f73dbc",
   "metadata": {},
   "outputs": [],
   "source": []
  },
  {
   "cell_type": "code",
   "execution_count": 9,
   "id": "55073951",
   "metadata": {
    "ExecuteTime": {
     "end_time": "2023-06-30T15:37:12.532450Z",
     "start_time": "2023-06-30T15:37:12.513258Z"
    }
   },
   "outputs": [
    {
     "name": "stdout",
     "output_type": "stream",
     "text": [
      "Group 1: ['usorte', 'shail', 'chetan']\n",
      "Group 2: ['kamlesh', 'aswj', 'NG']\n",
      "Group 3: ['kk', 'akshay', 'pankaj']\n",
      "Group 4: ['pavan', 'nishant', 'amar']\n"
     ]
    }
   ],
   "source": [
    "sce = ['usorte', 'shail', 'chetan', 'DT']\n",
    "nsce = ['kamlesh', 'aswj', 'NG']\n",
    "am = ['kk', 'akshay', 'pankaj', 'sagar']\n",
    "exe = ['pavan', 'nishant', 'amar', 'psel', 'pmaha', 'vamsi', 'harshal', 'sankalp', 'deepak', 'saurav', 'shashank']\n",
    "field = ['swapnil', 'diwanji', 'pravin', 'pallash', 'yogesh', 'dodmal', 'anzar']\n",
    "\n",
    "g1 = []\n",
    "g2 = []\n",
    "g3 = []\n",
    "g4 = []\n",
    "\n",
    "for i, j, k, l, m in zip(sce, nsce, am, exe, field):\n",
    "    g1.append(i)\n",
    "    g2.append(j)\n",
    "    g3.append(k)\n",
    "    g4.append(l)\n",
    "\n",
    "# Print the groups\n",
    "print(\"Group 1:\", g1)\n",
    "print(\"Group 2:\", g2)\n",
    "print(\"Group 3:\", g3)\n",
    "print(\"Group 4:\", g4)\n"
   ]
  },
  {
   "cell_type": "code",
   "execution_count": 10,
   "id": "bbe06848",
   "metadata": {
    "ExecuteTime": {
     "end_time": "2023-06-30T15:40:01.989025Z",
     "start_time": "2023-06-30T15:40:01.976001Z"
    }
   },
   "outputs": [
    {
     "name": "stdout",
     "output_type": "stream",
     "text": [
      "Group 1: ['usorte', 'kamlesh', 'aswj', 'kk', 'akshay', 'pavan', 'nishant', 'swapnil']\n",
      "Group 2: ['shail', 'NG', 'pankaj', 'sagar', 'amar', 'psel', 'diwanji']\n",
      "Group 3: ['chetan', 'pmaha', 'vamsi', 'harshal', 'sankalp', 'deepak', 'saurav', 'shashank', 'pravin']\n",
      "Group 4: ['DT', 'pmaha', 'vamsi', 'harshal', 'sankalp', 'deepak', 'saurav', 'shashank', 'pallash']\n"
     ]
    }
   ],
   "source": [
    "sce = ['usorte', 'shail', 'chetan', 'DT']\n",
    "nsce = ['kamlesh', 'aswj', 'NG']\n",
    "am = ['kk', 'akshay', 'pankaj', 'sagar']\n",
    "exe = ['pavan', 'nishant', 'amar', 'psel', 'pmaha', 'vamsi', 'harshal', 'sankalp', 'deepak', 'saurav', 'shashank']\n",
    "field = ['swapnil', 'diwanji', 'pravin', 'pallash', 'yogesh', 'dodmal', 'anzar']\n",
    "\n",
    "g1 = []\n",
    "g2 = []\n",
    "g3 = []\n",
    "g4 = []\n",
    "\n",
    "# Assigning one person from 'sce' to each group\n",
    "g1.append(sce[0])\n",
    "g2.append(sce[1])\n",
    "g3.append(sce[2])\n",
    "g4.append(sce[3])\n",
    "\n",
    "# Assigning four people from 'nsce', 'am', 'exe' to each group\n",
    "g1.extend(nsce[:2])\n",
    "g1.extend(am[:2])\n",
    "g1.extend(exe[:2])\n",
    "\n",
    "g2.extend(nsce[2:4])\n",
    "g2.extend(am[2:4])\n",
    "g2.extend(exe[2:4])\n",
    "\n",
    "g3.extend(nsce[4:])\n",
    "g3.extend(am[4:])\n",
    "g3.extend(exe[4:])\n",
    "\n",
    "g4.extend(nsce[4:])\n",
    "g4.extend(am[4:])\n",
    "g4.extend(exe[4:])\n",
    "\n",
    "# Assigning one person from 'field' to each group\n",
    "g1.append(field[0])\n",
    "g2.append(field[1])\n",
    "g3.append(field[2])\n",
    "g4.append(field[3])\n",
    "\n",
    "# Print the groups\n",
    "print(\"Group 1:\", g1)\n",
    "print(\"Group 2:\", g2)\n",
    "print(\"Group 3:\", g3)\n",
    "print(\"Group 4:\", g4)\n"
   ]
  },
  {
   "cell_type": "code",
   "execution_count": 3,
   "id": "4ffeb2fe",
   "metadata": {
    "ExecuteTime": {
     "end_time": "2023-07-08T09:47:23.067238Z",
     "start_time": "2023-07-08T09:47:23.050627Z"
    }
   },
   "outputs": [],
   "source": [
    "l=['usorte', 'kamlesh', 'aswj', 'kk', 'akshay', 'pavan', 'nishant', 'swapnil'\n",
    ",'shail', 'NG', 'pankaj', 'sagar', 'amar', 'psel', 'diwanji',\n",
    "'chetan', 'pmaha', 'vamsi', 'harshal', 'sankalp', 'deepak', 'saurav', 'shashank', 'pravin',\n",
    "'DT', 'pmaha', 'vamsi', 'harshal', 'sankalp', 'deepak', 'saurav', 'shashank', 'pallash']"
   ]
  },
  {
   "cell_type": "code",
   "execution_count": 4,
   "id": "a8acc08b",
   "metadata": {
    "ExecuteTime": {
     "end_time": "2023-07-08T09:47:43.141082Z",
     "start_time": "2023-07-08T09:47:43.119078Z"
    }
   },
   "outputs": [
    {
     "data": {
      "text/plain": [
       "32"
      ]
     },
     "execution_count": 4,
     "metadata": {},
     "output_type": "execute_result"
    }
   ],
   "source": [
    "l.index('pallash')"
   ]
  },
  {
   "cell_type": "code",
   "execution_count": 18,
   "id": "035452a2",
   "metadata": {
    "ExecuteTime": {
     "end_time": "2023-07-08T10:52:54.435826Z",
     "start_time": "2023-07-08T10:52:54.423670Z"
    }
   },
   "outputs": [],
   "source": [
    "sce = ['usorte', 'shail', 'chetan', 'DT']\n",
    "nsce = ['kamlesh', 'aswj', 'NG']\n",
    "am = ['kk', 'akshay', 'pankaj', 'sagar']\n",
    "exe = ['pavan', 'nishant', 'amar', 'psel', 'pmaha', 'vamsi', 'harshal', 'sankalp', 'deepak', 'saurav', 'shashank']\n",
    "field = ['swapnil', 'diwanji', 'pravin', 'pallash', 'yogesh', 'dodmal', 'anzar']"
   ]
  },
  {
   "cell_type": "code",
   "execution_count": null,
   "id": "6e399cb3",
   "metadata": {},
   "outputs": [],
   "source": [
    "class schedule:\n",
    "    def __init__(self,people_count,shifts,groups):\n",
    "        self.people=20\n",
    "        self.shifts=4\n",
    "        self.groups=4\n",
    "    def groups(self,)"
   ]
  },
  {
   "cell_type": "code",
   "execution_count": null,
   "id": "3a47818d",
   "metadata": {},
   "outputs": [],
   "source": [
    "sce = ['usorte', 'shail', 'chetan', 'DT']\n",
    "nsce = ['kamlesh', 'aswj', 'NG']\n",
    "am = ['kk', 'akshay', 'pankaj', 'sagar']\n",
    "exe = ['pavan', 'nishant', 'amar', 'psel', 'pmaha', 'vamsi', 'harshal', 'sankalp', 'deepak', 'saurav', 'shashank']\n",
    "create python function groups: \n",
    "    1. no of groups cananot be more than 4\n",
    "    2. no of people in each group 5\n",
    "    3. atleast one from shift incharge list, if anyone in leave take from nsce list\n",
    "    4. rest 4 people can be taken one from remaining people of nsce,am and exe lists but from nsce out of 4 only 1 or 2 can be taken\n",
    "    5. one person in any group can not be in another group"
   ]
  },
  {
   "cell_type": "code",
   "execution_count": null,
   "id": "72a570b1",
   "metadata": {},
   "outputs": [],
   "source": [
    "def groups(n,sce,nsce,am,exe):\n",
    "    no_of_groups=n \n",
    "    "
   ]
  },
  {
   "cell_type": "code",
   "execution_count": 6,
   "id": "53332e43",
   "metadata": {
    "ExecuteTime": {
     "end_time": "2023-07-08T10:11:49.667910Z",
     "start_time": "2023-07-08T10:11:49.654907Z"
    }
   },
   "outputs": [],
   "source": [
    "def create_groups(sce, nsce, am, exe):\n",
    "    # Check if the number of groups cannot be more than 4\n",
    "    num_groups = 4\n",
    "    \n",
    "    # Create an empty list to store the groups\n",
    "    groups = []\n",
    "    \n",
    "    # Iterate over the range of the number of groups\n",
    "    for i in range(num_groups):\n",
    "        group = []\n",
    "        \n",
    "        # Add a person from the Shift Incharge list (sce) if available, otherwise from nsce list\n",
    "        if sce:\n",
    "            group.append(sce.pop(0))\n",
    "        elif nsce:\n",
    "            group.append(nsce.pop(0))\n",
    "        \n",
    "        # Add 4 more people to the group from nsce, am, and exe lists\n",
    "        group.extend(nsce[:4])\n",
    "        nsce = nsce[4:]\n",
    "        \n",
    "        group.extend(am[:4 - len(group)])\n",
    "        am = am[4 - len(group):]\n",
    "        \n",
    "        group.extend(exe[:4 - len(group)])\n",
    "        exe = exe[4 - len(group):]\n",
    "        \n",
    "        # Add the group to the list of groups\n",
    "        groups.append(group)\n",
    "    \n",
    "    return groups\n"
   ]
  },
  {
   "cell_type": "code",
   "execution_count": 7,
   "id": "f185d586",
   "metadata": {
    "ExecuteTime": {
     "end_time": "2023-07-08T10:12:06.207535Z",
     "start_time": "2023-07-08T10:12:06.202348Z"
    }
   },
   "outputs": [
    {
     "data": {
      "text/plain": [
       "[]"
      ]
     },
     "execution_count": 7,
     "metadata": {},
     "output_type": "execute_result"
    }
   ],
   "source": [
    "create_groups(sce, nsce, am, exe)"
   ]
  },
  {
   "cell_type": "code",
   "execution_count": 14,
   "id": "38a96970",
   "metadata": {
    "ExecuteTime": {
     "end_time": "2023-07-08T10:35:52.781009Z",
     "start_time": "2023-07-08T10:35:52.769012Z"
    }
   },
   "outputs": [
    {
     "name": "stdout",
     "output_type": "stream",
     "text": [
      "Group 1: ['usorte', 'sankalp', 'psel', 'harshal', 'vamsi']\n",
      "Group 2: ['shail', 'sankalp', 'psel', 'harshal', 'vamsi']\n",
      "Group 3: ['chetan', 'sankalp', 'psel', 'harshal', 'vamsi']\n",
      "Group 4: ['DT', 'sankalp', 'psel', 'harshal', 'vamsi']\n"
     ]
    }
   ],
   "source": [
    "def create_groups():\n",
    "    # Initialize empty groups list\n",
    "    groups = []\n",
    "\n",
    "    # Shuffle the lists to distribute the members randomly\n",
    "    import random\n",
    "    random.shuffle(sce)\n",
    "    random.shuffle(nsce)\n",
    "    random.shuffle(am)\n",
    "    random.shuffle(exe)\n",
    "\n",
    "    # Determine the number of groups based on the number of people available\n",
    "    num_groups = 4\n",
    "\n",
    "    # Create groups\n",
    "    for i in range(num_groups):\n",
    "        group = []\n",
    "\n",
    "        # Add one person from the shift incharge list\n",
    "        if sce:\n",
    "            group.append(sce.pop())\n",
    "\n",
    "        # Add four remaining people from nsce, am, and exe lists\n",
    "        remaining_people = nsce + am + exe\n",
    "        while len(group) < 5 and remaining_people:\n",
    "            group.append(remaining_people.pop())\n",
    "\n",
    "        # Add the group to the list of groups\n",
    "        groups.append(group)\n",
    "\n",
    "    return groups\n",
    "\n",
    "# Test the function\n",
    "result = create_groups()\n",
    "for i, group in enumerate(result):\n",
    "    print(f\"Group {i+1}: {group}\")\n"
   ]
  },
  {
   "cell_type": "code",
   "execution_count": 15,
   "id": "a3e50b57",
   "metadata": {
    "ExecuteTime": {
     "end_time": "2023-07-08T10:35:54.095934Z",
     "start_time": "2023-07-08T10:35:54.078934Z"
    }
   },
   "outputs": [
    {
     "data": {
      "text/plain": [
       "[['saurav', 'sankalp', 'pavan', 'psel', 'shashank'],\n",
       " ['saurav', 'sankalp', 'pavan', 'psel', 'shashank'],\n",
       " ['saurav', 'sankalp', 'pavan', 'psel', 'shashank'],\n",
       " ['saurav', 'sankalp', 'pavan', 'psel', 'shashank']]"
      ]
     },
     "execution_count": 15,
     "metadata": {},
     "output_type": "execute_result"
    }
   ],
   "source": [
    "create_groups()"
   ]
  },
  {
   "cell_type": "code",
   "execution_count": 13,
   "id": "b710b2b0",
   "metadata": {
    "ExecuteTime": {
     "end_time": "2023-07-08T10:29:40.662981Z",
     "start_time": "2023-07-08T10:29:40.656499Z"
    }
   },
   "outputs": [
    {
     "name": "stdout",
     "output_type": "stream",
     "text": [
      "[]\n"
     ]
    }
   ],
   "source": [
    "groups = []\n",
    "\n",
    "    # Shuffle the lists to distribute the members randomly\n",
    "import random\n",
    "random.shuffle(sce)\n",
    "random.shuffle(nsce)\n",
    "random.shuffle(am)\n",
    "random.shuffle(exe)\n",
    "\n",
    "    # Determine the number of groups based on the number of people available\n",
    "num_groups = min(4, len(sce) // 5)\n",
    "\n",
    "    # Create groups\n",
    "for i in range(num_groups):\n",
    "    group = []\n",
    "\n",
    "        # Add one person from the shift incharge list\n",
    "    if sce:\n",
    "        group.append(sce.pop())\n",
    "\n",
    "        # Add four remaining people from nsce, am, and exe lists\n",
    "    remaining_people = nsce + am + exe\n",
    "    while len(group) < 5 and remaining_people:\n",
    "        group.append(remaining_people.pop())\n",
    "\n",
    "        # Add the group to the list of groups\n",
    "    groups.append(group)\n",
    "\n",
    "print(groups)"
   ]
  },
  {
   "cell_type": "code",
   "execution_count": 19,
   "id": "aabd1fc4",
   "metadata": {
    "ExecuteTime": {
     "end_time": "2023-07-08T10:52:58.962600Z",
     "start_time": "2023-07-08T10:52:58.942542Z"
    }
   },
   "outputs": [],
   "source": [
    "def create_groups(sce, nsce, am, exe):\n",
    "    groups = []\n",
    "    \n",
    "    # Shuffle the lists to ensure random distribution\n",
    "    import random\n",
    "    random.shuffle(sce)\n",
    "    random.shuffle(nsce)\n",
    "    random.shuffle(am)\n",
    "    random.shuffle(exe)\n",
    "    \n",
    "    # Determine the number of groups based on the constraints\n",
    "    num_groups = 4\n",
    "    \n",
    "    # Assign group members based on the conditions\n",
    "    for i in range(num_groups):\n",
    "        group = []\n",
    "        \n",
    "        # Add one person from the shift incharge list (sce)\n",
    "        if len(sce) > 0:\n",
    "            group.append(sce.pop())\n",
    "        \n",
    "        # Add one person from the remaining people of nsce, am, and exe lists\n",
    "        if len(nsce) > 0:\n",
    "            group.append(nsce.pop())\n",
    "        elif len(am) > 0:\n",
    "            group.append(am.pop())\n",
    "        elif len(exe) > 0:\n",
    "            group.append(exe.pop())\n",
    "        \n",
    "        # Add the remaining four people from nsce, am, and exe lists\n",
    "        for _ in range(4):\n",
    "            if len(nsce) > 0:\n",
    "                group.append(nsce.pop())\n",
    "            elif len(am) > 0:\n",
    "                group.append(am.pop())\n",
    "            elif len(exe) > 0:\n",
    "                group.append(exe.pop())\n",
    "        \n",
    "        groups.append(group)\n",
    "    \n",
    "    return groups\n"
   ]
  },
  {
   "cell_type": "code",
   "execution_count": 21,
   "id": "15a34a63",
   "metadata": {
    "ExecuteTime": {
     "end_time": "2023-07-08T10:53:24.266248Z",
     "start_time": "2023-07-08T10:53:24.251081Z"
    }
   },
   "outputs": [
    {
     "data": {
      "text/plain": [
       "[['usorte', 'kamlesh', 'NG', 'aswj', 'akshay', 'kk'],\n",
       " ['shail', 'pankaj', 'sagar', 'pmaha', 'sankalp', 'saurav'],\n",
       " ['DT', 'psel', 'shashank', 'nishant', 'deepak', 'harshal'],\n",
       " ['chetan', 'amar', 'pavan', 'vamsi']]"
      ]
     },
     "execution_count": 21,
     "metadata": {},
     "output_type": "execute_result"
    }
   ],
   "source": [
    "create_groups(sce, nsce, am, exe)"
   ]
  },
  {
   "cell_type": "code",
   "execution_count": 25,
   "id": "76de031d",
   "metadata": {
    "ExecuteTime": {
     "end_time": "2023-07-08T10:56:36.063427Z",
     "start_time": "2023-07-08T10:56:36.044692Z"
    }
   },
   "outputs": [],
   "source": [
    "import random\n",
    "\n",
    "def create_groups(sce, nsce, am, exe):\n",
    "    groups = []\n",
    "    \n",
    "    # Shuffle the lists to randomize the order\n",
    "    random.shuffle(sce)\n",
    "    random.shuffle(nsce)\n",
    "    random.shuffle(am)\n",
    "    random.shuffle(exe)\n",
    "    \n",
    "    # Calculate the number of groups based on the total number of people\n",
    "    num_groups = 4\n",
    "    \n",
    "    for i in range(num_groups):\n",
    "        group = []\n",
    "        \n",
    "        # Add one person from the SCE list (shift incharge)\n",
    "        group.append(sce[i])\n",
    "        \n",
    "        # Check if anyone from the SCE list is on leave\n",
    "        if len(sce) > num_groups * 5:\n",
    "            # If yes, add one person from the NSCE list\n",
    "            group.append(nsce.pop(0))\n",
    "        else:\n",
    "            # If no, add one person from the remaining NSCE, AM, and EXE lists\n",
    "            candidates = nsce + am + exe\n",
    "            random.shuffle(candidates)\n",
    "            group.append(candidates.pop(0))\n",
    "        \n",
    "        # Add four more people from the remaining lists\n",
    "        candidates = nsce + am + exe\n",
    "        random.shuffle(candidates)\n",
    "        group.extend(candidates[:4])\n",
    "        \n",
    "        # Add the group to the list of groups\n",
    "        groups.append(group)\n",
    "        \n",
    "    return groups\n"
   ]
  },
  {
   "cell_type": "code",
   "execution_count": 27,
   "id": "0a7469fc",
   "metadata": {
    "ExecuteTime": {
     "end_time": "2023-07-08T10:57:19.493884Z",
     "start_time": "2023-07-08T10:57:19.483459Z"
    }
   },
   "outputs": [
    {
     "data": {
      "text/plain": [
       "[['DT', 'amar', 'nishant', 'aswj', 'deepak', 'sankalp'],\n",
       " ['chetan', 'pavan', 'nishant', 'vamsi', 'sagar', 'kamlesh'],\n",
       " ['usorte', 'kk', 'kamlesh', 'pavan', 'nishant', 'kk'],\n",
       " ['shail', 'amar', 'NG', 'pankaj', 'vamsi', 'kk']]"
      ]
     },
     "execution_count": 27,
     "metadata": {},
     "output_type": "execute_result"
    }
   ],
   "source": [
    "create_groups(sce, nsce, am, exe)"
   ]
  },
  {
   "cell_type": "code",
   "execution_count": 30,
   "id": "9c1e24d3",
   "metadata": {
    "ExecuteTime": {
     "end_time": "2023-07-08T10:59:40.109840Z",
     "start_time": "2023-07-08T10:59:40.102839Z"
    }
   },
   "outputs": [],
   "source": [
    "import random\n",
    "\n",
    "def create_groups(sce, nsce, am, exe):\n",
    "    groups = []\n",
    "    all_people = sce + nsce + am + exe\n",
    "    \n",
    "    # Shuffle the lists to randomize the order\n",
    "    random.shuffle(all_people)\n",
    "    \n",
    "    # Calculate the number of groups based on the total number of people\n",
    "    num_groups = 4\n",
    "    \n",
    "    for i in range(num_groups):\n",
    "        group = []\n",
    "        \n",
    "        # Add one person from the SCE list (shift incharge)\n",
    "        group.append(sce[i])\n",
    "        \n",
    "        # Check if anyone from the SCE list is on leave\n",
    "        if len(sce) > num_groups * 5:\n",
    "            # If yes, add one person from the NSCE list\n",
    "            group.append(nsce.pop(0))\n",
    "        else:\n",
    "            # If no, add one person from the remaining NSCE, AM, and EXE lists\n",
    "            candidates = nsce + am + exe\n",
    "            random.shuffle(candidates)\n",
    "            group.append(candidates.pop(0))\n",
    "        \n",
    "        # Add four more people from the remaining lists\n",
    "        for _ in range(4):\n",
    "            candidate_added = False\n",
    "            random.shuffle(candidates)\n",
    "            \n",
    "            while not candidate_added:\n",
    "                candidate = candidates.pop(0)\n",
    "                \n",
    "                # Check if the candidate is already in any of the groups\n",
    "                is_duplicate = any(candidate in g for g in groups)\n",
    "                \n",
    "                if not is_duplicate:\n",
    "                    group.append(candidate)\n",
    "                    candidate_added = True\n",
    "        \n",
    "        # Add the group to the list of groups\n",
    "        groups.append(group)\n",
    "        \n",
    "    return groups\n"
   ]
  },
  {
   "cell_type": "code",
   "execution_count": 31,
   "id": "e9ffb1f8",
   "metadata": {
    "ExecuteTime": {
     "end_time": "2023-07-08T10:59:40.544967Z",
     "start_time": "2023-07-08T10:59:40.526944Z"
    }
   },
   "outputs": [
    {
     "ename": "IndexError",
     "evalue": "pop from empty list",
     "output_type": "error",
     "traceback": [
      "\u001b[1;31m---------------------------------------------------------------------------\u001b[0m",
      "\u001b[1;31mIndexError\u001b[0m                                Traceback (most recent call last)",
      "\u001b[1;32m~\\AppData\\Local\\Temp\\ipykernel_31520\\3027184730.py\u001b[0m in \u001b[0;36m<module>\u001b[1;34m\u001b[0m\n\u001b[1;32m----> 1\u001b[1;33m \u001b[0mcreate_groups\u001b[0m\u001b[1;33m(\u001b[0m\u001b[0msce\u001b[0m\u001b[1;33m,\u001b[0m \u001b[0mnsce\u001b[0m\u001b[1;33m,\u001b[0m \u001b[0mam\u001b[0m\u001b[1;33m,\u001b[0m \u001b[0mexe\u001b[0m\u001b[1;33m)\u001b[0m\u001b[1;33m\u001b[0m\u001b[1;33m\u001b[0m\u001b[0m\n\u001b[0m",
      "\u001b[1;32m~\\AppData\\Local\\Temp\\ipykernel_31520\\1421258372.py\u001b[0m in \u001b[0;36mcreate_groups\u001b[1;34m(sce, nsce, am, exe)\u001b[0m\n\u001b[0;32m     33\u001b[0m \u001b[1;33m\u001b[0m\u001b[0m\n\u001b[0;32m     34\u001b[0m             \u001b[1;32mwhile\u001b[0m \u001b[1;32mnot\u001b[0m \u001b[0mcandidate_added\u001b[0m\u001b[1;33m:\u001b[0m\u001b[1;33m\u001b[0m\u001b[1;33m\u001b[0m\u001b[0m\n\u001b[1;32m---> 35\u001b[1;33m                 \u001b[0mcandidate\u001b[0m \u001b[1;33m=\u001b[0m \u001b[0mcandidates\u001b[0m\u001b[1;33m.\u001b[0m\u001b[0mpop\u001b[0m\u001b[1;33m(\u001b[0m\u001b[1;36m0\u001b[0m\u001b[1;33m)\u001b[0m\u001b[1;33m\u001b[0m\u001b[1;33m\u001b[0m\u001b[0m\n\u001b[0m\u001b[0;32m     36\u001b[0m \u001b[1;33m\u001b[0m\u001b[0m\n\u001b[0;32m     37\u001b[0m                 \u001b[1;31m# Check if the candidate is already in any of the groups\u001b[0m\u001b[1;33m\u001b[0m\u001b[1;33m\u001b[0m\u001b[0m\n",
      "\u001b[1;31mIndexError\u001b[0m: pop from empty list"
     ]
    }
   ],
   "source": [
    "create_groups(sce, nsce, am, exe)"
   ]
  },
  {
   "cell_type": "code",
   "execution_count": null,
   "id": "5c412614",
   "metadata": {},
   "outputs": [],
   "source": []
  }
 ],
 "metadata": {
  "kernelspec": {
   "display_name": "Python 3 (ipykernel)",
   "language": "python",
   "name": "python3"
  },
  "language_info": {
   "codemirror_mode": {
    "name": "ipython",
    "version": 3
   },
   "file_extension": ".py",
   "mimetype": "text/x-python",
   "name": "python",
   "nbconvert_exporter": "python",
   "pygments_lexer": "ipython3",
   "version": "3.9.13"
  }
 },
 "nbformat": 4,
 "nbformat_minor": 5
}
